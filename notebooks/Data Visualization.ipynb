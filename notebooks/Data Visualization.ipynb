{
 "cells": [
  {
   "cell_type": "code",
   "execution_count": 1,
   "metadata": {},
   "outputs": [],
   "source": [
    "import pandas as pd\n",
    "import numpy as np\n",
    "import seaborn as sns\n",
    "import matplotlib.pyplot as plt\n",
    "import plotly.express as px\n",
    "import plotly as plx\n",
    "import airbnb\n",
    "import requests\n",
    "import re\n",
    "import os\n",
    "from dotenv import load_dotenv\n",
    "from os import path\n",
    "from PIL import Image\n",
    "from wordcloud import WordCloud, STOPWORDS, ImageColorGenerator\n",
    "import json\n",
    "import folium\n",
    "import plotly.graph_objs as go\n",
    "from plotly.offline import init_notebook_mode, iplot\n",
    "import gzip\n",
    "import shutil"
   ]
  },
  {
   "cell_type": "code",
   "execution_count": 2,
   "metadata": {},
   "outputs": [],
   "source": [
    "\n",
    "url = \"http://data.insideairbnb.com/spain/catalonia/barcelona/2022-12-11/data/listings.csv.gz\"\n",
    "\n",
    "response = requests.get(url)\n",
    "with open(\"listings.csv.gz\", \"wb\") as f:\n",
    "    f.write(response.content)\n",
    "\n",
    "with gzip.open(\"listings.csv.gz\", \"rb\") as f_in:\n",
    "    with open(\"listings2.csv\", \"wb\") as f_out:\n",
    "        shutil.copyfileobj(f_in, f_out)"
   ]
  },
  {
   "cell_type": "code",
   "execution_count": 3,
   "metadata": {},
   "outputs": [],
   "source": [
    "df = pd.read_csv(\"listings2.csv\")"
   ]
  },
  {
   "cell_type": "code",
   "execution_count": 4,
   "metadata": {},
   "outputs": [],
   "source": [
    "\n",
    "\n",
    "url2 = \"http://data.insideairbnb.com/spain/catalonia/barcelona/2022-12-11/data/reviews.csv.gz\"\n",
    "\n",
    "response2 = requests.get(url2)\n",
    "with open(\"reviews.csv.gz\", \"wb\") as g:\n",
    "    g.write(response2.content)\n",
    "\n",
    "with gzip.open(\"reviews.csv.gz\", \"rb\") as g_in:\n",
    "    with open(\"reviews2.csv\", \"wb\") as g_out:\n",
    "        shutil.copyfileobj(g_in, g_out)"
   ]
  },
  {
   "cell_type": "code",
   "execution_count": 5,
   "metadata": {},
   "outputs": [],
   "source": [
    "df_reviews = pd.read_csv(\"reviews2.csv\")"
   ]
  },
  {
   "cell_type": "code",
   "execution_count": 6,
   "metadata": {},
   "outputs": [],
   "source": [
    "\n",
    "df2 = df.drop(columns=['listing_url', 'scrape_id', 'last_scraped', 'source', \"picture_url\", \"host_thumbnail_url\", \"host_picture_url\", \"host_verifications\", \"calendar_updated\", \"calendar_last_scraped\"], axis=1)\n"
   ]
  },
  {
   "cell_type": "code",
   "execution_count": 7,
   "metadata": {},
   "outputs": [],
   "source": [
    "\n",
    "df_reviews['comments'] = df_reviews['comments'].astype(str)\n",
    "df_reviews_grouped = df_reviews[['listing_id', 'date', 'comments']].groupby('listing_id').agg({'date': 'first', 'comments': ' '.join})\n"
   ]
  },
  {
   "cell_type": "code",
   "execution_count": 8,
   "metadata": {},
   "outputs": [],
   "source": [
    "df3 = df2.merge(df_reviews_grouped, left_on='id', right_index=True)\n",
    "df3['price_clean'] = [x.strip('$') for x in df3['price']]\n",
    "df3[\"price_clean\"]=df3[\"price_clean\"].str.replace(',','')\n",
    "df3[\"price_clean\"].astype(float)\n",
    "df3['price_clean'] = pd.to_numeric(df3['price_clean'], errors='coerce')\n",
    "df3['price_clean'] = df3['price_clean'].round().astype(int)\n",
    "df3 = df3[df3[\"price_clean\"] < 20000]\n"
   ]
  },
  {
   "cell_type": "code",
   "execution_count": 9,
   "metadata": {},
   "outputs": [],
   "source": [
    "df3.dropna(subset=['beds'], inplace=True)\n",
    "df3['beds_clean'] = pd.to_numeric(df3['beds'], errors='coerce')\n",
    "df3['beds_clean'] = df3['beds_clean'].round().astype(int)\n"
   ]
  },
  {
   "cell_type": "code",
   "execution_count": 71,
   "metadata": {},
   "outputs": [],
   "source": [
    "df3_pivot = pd.pivot_table(df3, index=\"neighbourhood_cleansed\", values=\"price_clean\", aggfunc='mean')\n",
    "df3_pivot.rename(columns={'price_clean':'price average'}, inplace=True)\n",
    "df3_pivot.reset_index(inplace=True)\n",
    "df3_pivot.rename(columns={'neighbourhood_cleansed':'neighbourhood'}, inplace=True)\n",
    "df3_pivot.sort_values(by='price average', ascending=True, inplace=True)\n",
    "\n"
   ]
  },
  {
   "cell_type": "code",
   "execution_count": 72,
   "metadata": {},
   "outputs": [],
   "source": [
    "df3_pivot_district = pd.pivot_table(df3, index='neighbourhood_group_cleansed', values=['id', 'beds_clean'], aggfunc={'id':'count', 'beds_clean':'sum'})\n",
    "df3_pivot_district.rename(columns={'id':'total_airbnbs'}, inplace=True)\n",
    "df3_pivot_district.sort_values(by='total_airbnbs', ascending=False, inplace=True)\n",
    "df3_pivot_district.reset_index(inplace=True)\n",
    "df3_pivot_district.rename(columns={'neighbourhood_group_cleansed':'district'}, inplace=True)\n"
   ]
  },
  {
   "cell_type": "code",
   "execution_count": 73,
   "metadata": {},
   "outputs": [],
   "source": [
    "df3_pivot2 = df3.pivot_table(index='neighbourhood_cleansed', values=['id', 'beds_clean', 'price_clean'], aggfunc={'id':'count', 'beds_clean':'sum', 'price_clean':'mean'})\n",
    "df3_pivot2.reset_index(inplace=True)\n",
    "df3_pivot2.rename(columns={'neighbourhood_cleansed':'neighbourhood', 'price_clean':'price average', 'id':'total locations', 'beds_clean':'total beds'}, inplace=True)\n",
    "df3_pivot2.sort_values(by='total locations', ascending=True, inplace=True)\n",
    "df3_pivot2['price average'] = df3_pivot['price average'].astype(int)\n"
   ]
  },
  {
   "cell_type": "code",
   "execution_count": 74,
   "metadata": {},
   "outputs": [],
   "source": [
    "max_idx_price = df3_pivot['price average'].idxmax()\n",
    "max_ngbhd = df3_pivot.at[max_idx_price, 'neighbourhood']\n",
    "max_avg_price = df3_pivot.at[max_idx_price, 'price average']\n",
    "min_idx_price = df3_pivot['price average'].idxmin()\n",
    "min_ngbhd = df3_pivot.at[min_idx_price, 'neighbourhood']\n",
    "min_avg_price = df3_pivot.at[min_idx_price, 'price average']\n"
   ]
  },
  {
   "cell_type": "code",
   "execution_count": 75,
   "metadata": {},
   "outputs": [],
   "source": [
    "df3_pivot_district = pd.pivot_table(df3, index='neighbourhood_group_cleansed', values=['id', 'beds_clean'], aggfunc={'id':'count', 'beds_clean':'sum'})\n",
    "df3_pivot_district.rename(columns={'id':'total_airbnbs'}, inplace=True)\n",
    "df3_pivot_district.sort_values(by='total_airbnbs', ascending=False, inplace=True)\n",
    "df3_pivot_district.reset_index(inplace=True)\n",
    "df3_pivot_district.rename(columns={'neighbourhood_group_cleansed':'district'}, inplace=True)\n"
   ]
  },
  {
   "cell_type": "code",
   "execution_count": 76,
   "metadata": {},
   "outputs": [],
   "source": [
    "df3_distribution = df3.pivot_table(index='neighbourhood_group_cleansed', values='id', aggfunc='count')\n",
    "df3_distribution.reset_index(inplace=True)\n",
    "df3_distribution.rename(columns={'neighbourhood_group_cleansed':'district', 'id':'accommodations'}, inplace=True)\n",
    "df3_distribution.sort_values(by='accommodations', ascending=True, inplace=True)\n",
    "df3_distribution['accommodations'] = df3_distribution['accommodations'].astype(int)\n"
   ]
  },
  {
   "cell_type": "code",
   "execution_count": 77,
   "metadata": {},
   "outputs": [],
   "source": [
    "price_mean = df3['price_clean'].mean()\n",
    "price_median = df3['price_clean'].median()\n",
    "price_mode = df3['price_clean'].mode().values[0]\n",
    "price_max = df3['price_clean'].max()\n",
    "price_min = df3['price_clean'].min()\n",
    "price_std = df3['price_clean'].std()\n",
    "df3_eda = pd.DataFrame({'price_mean': [price_mean], 'price_median': [price_median], 'price_mode': [price_mode], 'price_max': [price_max], 'price_min': [price_min], 'price_std': [price_std]})\n"
   ]
  },
  {
   "cell_type": "code",
   "execution_count": 78,
   "metadata": {},
   "outputs": [
    {
     "data": {
      "application/vnd.plotly.v1+json": {
       "config": {
        "plotlyServerURL": "https://plot.ly"
       },
       "data": [
        {
         "alignmentgroup": "True",
         "hovertemplate": "Price Average (€)=%{marker.color}<br>Neighbourhood=%{y}<extra></extra>",
         "legendgroup": "",
         "marker": {
          "color": [
           27.75,
           31.6,
           38.25,
           41.42857142857143,
           43.285714285714285,
           47.785714285714285,
           47.94444444444444,
           49,
           49.2,
           49.333333333333336,
           49.333333333333336,
           49.59090909090909,
           50.5,
           54.92,
           55.22222222222222,
           57.06666666666667,
           58.45967741935484,
           61.28125,
           63.76190476190476,
           64.16666666666667,
           67.46601941747574,
           67.67692307692307,
           69.88888888888889,
           70.63291139240506,
           71.34848484848484,
           72.16,
           73.15714285714286,
           73.28571428571429,
           76,
           77,
           78.17567567567568,
           78.58333333333333,
           80.98245614035088,
           81.02118644067797,
           82.28701825557809,
           82.55555555555556,
           83.6,
           89.01886792452831,
           89.48780487804878,
           92.7730870712401,
           92.89473684210526,
           94.66666666666667,
           96.87950310559006,
           97.62208398133748,
           99.41426611796982,
           100.3,
           102.16666666666667,
           102.45172413793104,
           105.81818181818181,
           107.55479452054794,
           107.77083333333333,
           111.45774647887323,
           113.55701754385964,
           115.25299401197604,
           116.51394422310757,
           116.92,
           125.5203488372093,
           130.5938864628821,
           136.73341836734693,
           141.52475247524754,
           142.35,
           157.74157991426821,
           175.46428571428572,
           191.25,
           203.66666666666666,
           211.47142857142856,
           230.48525469168902,
           396.45714285714286,
           454.3333333333333
          ],
          "coloraxis": "coloraxis",
          "pattern": {
           "shape": ""
          }
         },
         "name": "",
         "offsetgroup": "",
         "orientation": "h",
         "showlegend": false,
         "text": [
          27.75,
          31.6,
          38.25,
          41.42857142857143,
          43.285714285714285,
          47.785714285714285,
          47.94444444444444,
          49,
          49.2,
          49.333333333333336,
          49.333333333333336,
          49.59090909090909,
          50.5,
          54.92,
          55.22222222222222,
          57.06666666666667,
          58.45967741935484,
          61.28125,
          63.76190476190476,
          64.16666666666667,
          67.46601941747574,
          67.67692307692307,
          69.88888888888889,
          70.63291139240506,
          71.34848484848484,
          72.16,
          73.15714285714286,
          73.28571428571429,
          76,
          77,
          78.17567567567568,
          78.58333333333333,
          80.98245614035088,
          81.02118644067797,
          82.28701825557809,
          82.55555555555556,
          83.6,
          89.01886792452831,
          89.48780487804878,
          92.7730870712401,
          92.89473684210526,
          94.66666666666667,
          96.87950310559006,
          97.62208398133748,
          99.41426611796982,
          100.3,
          102.16666666666667,
          102.45172413793104,
          105.81818181818181,
          107.55479452054794,
          107.77083333333333,
          111.45774647887323,
          113.55701754385964,
          115.25299401197604,
          116.51394422310757,
          116.92,
          125.5203488372093,
          130.5938864628821,
          136.73341836734693,
          141.52475247524754,
          142.35,
          157.74157991426821,
          175.46428571428572,
          191.25,
          203.66666666666666,
          211.47142857142856,
          230.48525469168902,
          396.45714285714286,
          454.3333333333333
         ],
         "textposition": "auto",
         "type": "bar",
         "x": [
          27.75,
          31.6,
          38.25,
          41.42857142857143,
          43.285714285714285,
          47.785714285714285,
          47.94444444444444,
          49,
          49.2,
          49.333333333333336,
          49.333333333333336,
          49.59090909090909,
          50.5,
          54.92,
          55.22222222222222,
          57.06666666666667,
          58.45967741935484,
          61.28125,
          63.76190476190476,
          64.16666666666667,
          67.46601941747574,
          67.67692307692307,
          69.88888888888889,
          70.63291139240506,
          71.34848484848484,
          72.16,
          73.15714285714286,
          73.28571428571429,
          76,
          77,
          78.17567567567568,
          78.58333333333333,
          80.98245614035088,
          81.02118644067797,
          82.28701825557809,
          82.55555555555556,
          83.6,
          89.01886792452831,
          89.48780487804878,
          92.7730870712401,
          92.89473684210526,
          94.66666666666667,
          96.87950310559006,
          97.62208398133748,
          99.41426611796982,
          100.3,
          102.16666666666667,
          102.45172413793104,
          105.81818181818181,
          107.55479452054794,
          107.77083333333333,
          111.45774647887323,
          113.55701754385964,
          115.25299401197604,
          116.51394422310757,
          116.92,
          125.5203488372093,
          130.5938864628821,
          136.73341836734693,
          141.52475247524754,
          142.35,
          157.74157991426821,
          175.46428571428572,
          191.25,
          203.66666666666666,
          211.47142857142856,
          230.48525469168902,
          396.45714285714286,
          454.3333333333333
         ],
         "xaxis": "x",
         "y": [
          "el Turó de la Peira",
          "el Bon Pastor",
          "la Trinitat Vella",
          "Verdun",
          "la Prosperitat",
          "les Roquetes",
          "Porta",
          "Can Peguera",
          "la Marina de Port",
          "la Guineueta",
          "la Verneda i la Pau",
          "Sant Martí de Provençals",
          "la Vall d'Hebron",
          "el Congrés i els Indians",
          "Navas",
          "Horta",
          "Sants - Badal",
          "Can Baró",
          "la Teixonera",
          "Sant Genís dels Agudells",
          "el Guinardó",
          "la Font de la Guatlla",
          "la Sagrera",
          "el Baix Guinardó",
          "el Clot",
          "el Coll",
          "la Barceloneta",
          "Montbau",
          "Torre Baró",
          "Canyelles",
          "el Besòs i el Maresme",
          "les Tres Torres",
          "la Salut",
          "Sants",
          "el Raval",
          "la Nova Esquerra de l'Eixample",
          "Pedralbes",
          "Provençals del Poblenou",
          "Sant Andreu",
          "Sant Pere, Santa Caterina i la Ribera",
          "el Carmel",
          "Sarrià",
          "el Barri Gòtic",
          "el Poble Sec",
          "la Vila de Gràcia",
          "Vallcarca i els Penitents",
          "la Trinitat Nova",
          "el Poblenou",
          "Hostafrancs",
          "les Corts",
          "el Parc i la Llacuna del Poblenou",
          "el Putxet i el Farró",
          "el Camp d'en Grassot i Gràcia Nova",
          "Sant Antoni",
          "el Camp de l'Arpa del Clot",
          "la Bordeta",
          "l'Antiga Esquerra de l'Eixample",
          "Sant Gervasi - Galvany",
          "la Sagrada Família",
          "la Vila Olímpica del Poblenou",
          "Vallvidrera, el Tibidabo i les Planes",
          "la Dreta de l'Eixample",
          "Diagonal Mar i el Front Marítim del Poblenou",
          "la Marina del Prat Vermell",
          "la Font d'en Fargues",
          "la Maternitat i Sant Ramon",
          "el Fort Pienc",
          "Sant Gervasi - la Bonanova",
          "Vilapicina i la Torre Llobeta"
         ],
         "yaxis": "y"
        }
       ],
       "layout": {
        "barmode": "relative",
        "coloraxis": {
         "colorbar": {
          "title": {
           "text": "Price Average (€)"
          }
         },
         "colorscale": [
          [
           0,
           "#FDEB6C"
          ],
          [
           0.2,
           "#FC9885"
          ],
          [
           0.4,
           "#FA6821"
          ],
          [
           0.6,
           "#D94C2A"
          ],
          [
           0.8,
           "#E75554"
          ],
          [
           1,
           "#74211C"
          ]
         ]
        },
        "height": 1200,
        "legend": {
         "title": {
          "font": {
           "color": "#894329"
          }
         },
         "tracegroupgap": 0
        },
        "plot_bgcolor": "#e6e1cf",
        "template": {
         "data": {
          "bar": [
           {
            "error_x": {
             "color": "#2a3f5f"
            },
            "error_y": {
             "color": "#2a3f5f"
            },
            "marker": {
             "line": {
              "color": "#E5ECF6",
              "width": 0.5
             },
             "pattern": {
              "fillmode": "overlay",
              "size": 10,
              "solidity": 0.2
             }
            },
            "type": "bar"
           }
          ],
          "barpolar": [
           {
            "marker": {
             "line": {
              "color": "#E5ECF6",
              "width": 0.5
             },
             "pattern": {
              "fillmode": "overlay",
              "size": 10,
              "solidity": 0.2
             }
            },
            "type": "barpolar"
           }
          ],
          "carpet": [
           {
            "aaxis": {
             "endlinecolor": "#2a3f5f",
             "gridcolor": "white",
             "linecolor": "white",
             "minorgridcolor": "white",
             "startlinecolor": "#2a3f5f"
            },
            "baxis": {
             "endlinecolor": "#2a3f5f",
             "gridcolor": "white",
             "linecolor": "white",
             "minorgridcolor": "white",
             "startlinecolor": "#2a3f5f"
            },
            "type": "carpet"
           }
          ],
          "choropleth": [
           {
            "colorbar": {
             "outlinewidth": 0,
             "ticks": ""
            },
            "type": "choropleth"
           }
          ],
          "contour": [
           {
            "colorbar": {
             "outlinewidth": 0,
             "ticks": ""
            },
            "colorscale": [
             [
              0,
              "#0d0887"
             ],
             [
              0.1111111111111111,
              "#46039f"
             ],
             [
              0.2222222222222222,
              "#7201a8"
             ],
             [
              0.3333333333333333,
              "#9c179e"
             ],
             [
              0.4444444444444444,
              "#bd3786"
             ],
             [
              0.5555555555555556,
              "#d8576b"
             ],
             [
              0.6666666666666666,
              "#ed7953"
             ],
             [
              0.7777777777777778,
              "#fb9f3a"
             ],
             [
              0.8888888888888888,
              "#fdca26"
             ],
             [
              1,
              "#f0f921"
             ]
            ],
            "type": "contour"
           }
          ],
          "contourcarpet": [
           {
            "colorbar": {
             "outlinewidth": 0,
             "ticks": ""
            },
            "type": "contourcarpet"
           }
          ],
          "heatmap": [
           {
            "colorbar": {
             "outlinewidth": 0,
             "ticks": ""
            },
            "colorscale": [
             [
              0,
              "#0d0887"
             ],
             [
              0.1111111111111111,
              "#46039f"
             ],
             [
              0.2222222222222222,
              "#7201a8"
             ],
             [
              0.3333333333333333,
              "#9c179e"
             ],
             [
              0.4444444444444444,
              "#bd3786"
             ],
             [
              0.5555555555555556,
              "#d8576b"
             ],
             [
              0.6666666666666666,
              "#ed7953"
             ],
             [
              0.7777777777777778,
              "#fb9f3a"
             ],
             [
              0.8888888888888888,
              "#fdca26"
             ],
             [
              1,
              "#f0f921"
             ]
            ],
            "type": "heatmap"
           }
          ],
          "heatmapgl": [
           {
            "colorbar": {
             "outlinewidth": 0,
             "ticks": ""
            },
            "colorscale": [
             [
              0,
              "#0d0887"
             ],
             [
              0.1111111111111111,
              "#46039f"
             ],
             [
              0.2222222222222222,
              "#7201a8"
             ],
             [
              0.3333333333333333,
              "#9c179e"
             ],
             [
              0.4444444444444444,
              "#bd3786"
             ],
             [
              0.5555555555555556,
              "#d8576b"
             ],
             [
              0.6666666666666666,
              "#ed7953"
             ],
             [
              0.7777777777777778,
              "#fb9f3a"
             ],
             [
              0.8888888888888888,
              "#fdca26"
             ],
             [
              1,
              "#f0f921"
             ]
            ],
            "type": "heatmapgl"
           }
          ],
          "histogram": [
           {
            "marker": {
             "pattern": {
              "fillmode": "overlay",
              "size": 10,
              "solidity": 0.2
             }
            },
            "type": "histogram"
           }
          ],
          "histogram2d": [
           {
            "colorbar": {
             "outlinewidth": 0,
             "ticks": ""
            },
            "colorscale": [
             [
              0,
              "#0d0887"
             ],
             [
              0.1111111111111111,
              "#46039f"
             ],
             [
              0.2222222222222222,
              "#7201a8"
             ],
             [
              0.3333333333333333,
              "#9c179e"
             ],
             [
              0.4444444444444444,
              "#bd3786"
             ],
             [
              0.5555555555555556,
              "#d8576b"
             ],
             [
              0.6666666666666666,
              "#ed7953"
             ],
             [
              0.7777777777777778,
              "#fb9f3a"
             ],
             [
              0.8888888888888888,
              "#fdca26"
             ],
             [
              1,
              "#f0f921"
             ]
            ],
            "type": "histogram2d"
           }
          ],
          "histogram2dcontour": [
           {
            "colorbar": {
             "outlinewidth": 0,
             "ticks": ""
            },
            "colorscale": [
             [
              0,
              "#0d0887"
             ],
             [
              0.1111111111111111,
              "#46039f"
             ],
             [
              0.2222222222222222,
              "#7201a8"
             ],
             [
              0.3333333333333333,
              "#9c179e"
             ],
             [
              0.4444444444444444,
              "#bd3786"
             ],
             [
              0.5555555555555556,
              "#d8576b"
             ],
             [
              0.6666666666666666,
              "#ed7953"
             ],
             [
              0.7777777777777778,
              "#fb9f3a"
             ],
             [
              0.8888888888888888,
              "#fdca26"
             ],
             [
              1,
              "#f0f921"
             ]
            ],
            "type": "histogram2dcontour"
           }
          ],
          "mesh3d": [
           {
            "colorbar": {
             "outlinewidth": 0,
             "ticks": ""
            },
            "type": "mesh3d"
           }
          ],
          "parcoords": [
           {
            "line": {
             "colorbar": {
              "outlinewidth": 0,
              "ticks": ""
             }
            },
            "type": "parcoords"
           }
          ],
          "pie": [
           {
            "automargin": true,
            "type": "pie"
           }
          ],
          "scatter": [
           {
            "fillpattern": {
             "fillmode": "overlay",
             "size": 10,
             "solidity": 0.2
            },
            "type": "scatter"
           }
          ],
          "scatter3d": [
           {
            "line": {
             "colorbar": {
              "outlinewidth": 0,
              "ticks": ""
             }
            },
            "marker": {
             "colorbar": {
              "outlinewidth": 0,
              "ticks": ""
             }
            },
            "type": "scatter3d"
           }
          ],
          "scattercarpet": [
           {
            "marker": {
             "colorbar": {
              "outlinewidth": 0,
              "ticks": ""
             }
            },
            "type": "scattercarpet"
           }
          ],
          "scattergeo": [
           {
            "marker": {
             "colorbar": {
              "outlinewidth": 0,
              "ticks": ""
             }
            },
            "type": "scattergeo"
           }
          ],
          "scattergl": [
           {
            "marker": {
             "colorbar": {
              "outlinewidth": 0,
              "ticks": ""
             }
            },
            "type": "scattergl"
           }
          ],
          "scattermapbox": [
           {
            "marker": {
             "colorbar": {
              "outlinewidth": 0,
              "ticks": ""
             }
            },
            "type": "scattermapbox"
           }
          ],
          "scatterpolar": [
           {
            "marker": {
             "colorbar": {
              "outlinewidth": 0,
              "ticks": ""
             }
            },
            "type": "scatterpolar"
           }
          ],
          "scatterpolargl": [
           {
            "marker": {
             "colorbar": {
              "outlinewidth": 0,
              "ticks": ""
             }
            },
            "type": "scatterpolargl"
           }
          ],
          "scatterternary": [
           {
            "marker": {
             "colorbar": {
              "outlinewidth": 0,
              "ticks": ""
             }
            },
            "type": "scatterternary"
           }
          ],
          "surface": [
           {
            "colorbar": {
             "outlinewidth": 0,
             "ticks": ""
            },
            "colorscale": [
             [
              0,
              "#0d0887"
             ],
             [
              0.1111111111111111,
              "#46039f"
             ],
             [
              0.2222222222222222,
              "#7201a8"
             ],
             [
              0.3333333333333333,
              "#9c179e"
             ],
             [
              0.4444444444444444,
              "#bd3786"
             ],
             [
              0.5555555555555556,
              "#d8576b"
             ],
             [
              0.6666666666666666,
              "#ed7953"
             ],
             [
              0.7777777777777778,
              "#fb9f3a"
             ],
             [
              0.8888888888888888,
              "#fdca26"
             ],
             [
              1,
              "#f0f921"
             ]
            ],
            "type": "surface"
           }
          ],
          "table": [
           {
            "cells": {
             "fill": {
              "color": "#EBF0F8"
             },
             "line": {
              "color": "white"
             }
            },
            "header": {
             "fill": {
              "color": "#C8D4E3"
             },
             "line": {
              "color": "white"
             }
            },
            "type": "table"
           }
          ]
         },
         "layout": {
          "annotationdefaults": {
           "arrowcolor": "#2a3f5f",
           "arrowhead": 0,
           "arrowwidth": 1
          },
          "autotypenumbers": "strict",
          "coloraxis": {
           "colorbar": {
            "outlinewidth": 0,
            "ticks": ""
           }
          },
          "colorscale": {
           "diverging": [
            [
             0,
             "#8e0152"
            ],
            [
             0.1,
             "#c51b7d"
            ],
            [
             0.2,
             "#de77ae"
            ],
            [
             0.3,
             "#f1b6da"
            ],
            [
             0.4,
             "#fde0ef"
            ],
            [
             0.5,
             "#f7f7f7"
            ],
            [
             0.6,
             "#e6f5d0"
            ],
            [
             0.7,
             "#b8e186"
            ],
            [
             0.8,
             "#7fbc41"
            ],
            [
             0.9,
             "#4d9221"
            ],
            [
             1,
             "#276419"
            ]
           ],
           "sequential": [
            [
             0,
             "#0d0887"
            ],
            [
             0.1111111111111111,
             "#46039f"
            ],
            [
             0.2222222222222222,
             "#7201a8"
            ],
            [
             0.3333333333333333,
             "#9c179e"
            ],
            [
             0.4444444444444444,
             "#bd3786"
            ],
            [
             0.5555555555555556,
             "#d8576b"
            ],
            [
             0.6666666666666666,
             "#ed7953"
            ],
            [
             0.7777777777777778,
             "#fb9f3a"
            ],
            [
             0.8888888888888888,
             "#fdca26"
            ],
            [
             1,
             "#f0f921"
            ]
           ],
           "sequentialminus": [
            [
             0,
             "#0d0887"
            ],
            [
             0.1111111111111111,
             "#46039f"
            ],
            [
             0.2222222222222222,
             "#7201a8"
            ],
            [
             0.3333333333333333,
             "#9c179e"
            ],
            [
             0.4444444444444444,
             "#bd3786"
            ],
            [
             0.5555555555555556,
             "#d8576b"
            ],
            [
             0.6666666666666666,
             "#ed7953"
            ],
            [
             0.7777777777777778,
             "#fb9f3a"
            ],
            [
             0.8888888888888888,
             "#fdca26"
            ],
            [
             1,
             "#f0f921"
            ]
           ]
          },
          "colorway": [
           "#636efa",
           "#EF553B",
           "#00cc96",
           "#ab63fa",
           "#FFA15A",
           "#19d3f3",
           "#FF6692",
           "#B6E880",
           "#FF97FF",
           "#FECB52"
          ],
          "font": {
           "color": "#2a3f5f"
          },
          "geo": {
           "bgcolor": "white",
           "lakecolor": "white",
           "landcolor": "#E5ECF6",
           "showlakes": true,
           "showland": true,
           "subunitcolor": "white"
          },
          "hoverlabel": {
           "align": "left"
          },
          "hovermode": "closest",
          "mapbox": {
           "style": "light"
          },
          "paper_bgcolor": "white",
          "plot_bgcolor": "#E5ECF6",
          "polar": {
           "angularaxis": {
            "gridcolor": "white",
            "linecolor": "white",
            "ticks": ""
           },
           "bgcolor": "#E5ECF6",
           "radialaxis": {
            "gridcolor": "white",
            "linecolor": "white",
            "ticks": ""
           }
          },
          "scene": {
           "xaxis": {
            "backgroundcolor": "#E5ECF6",
            "gridcolor": "white",
            "gridwidth": 2,
            "linecolor": "white",
            "showbackground": true,
            "ticks": "",
            "zerolinecolor": "white"
           },
           "yaxis": {
            "backgroundcolor": "#E5ECF6",
            "gridcolor": "white",
            "gridwidth": 2,
            "linecolor": "white",
            "showbackground": true,
            "ticks": "",
            "zerolinecolor": "white"
           },
           "zaxis": {
            "backgroundcolor": "#E5ECF6",
            "gridcolor": "white",
            "gridwidth": 2,
            "linecolor": "white",
            "showbackground": true,
            "ticks": "",
            "zerolinecolor": "white"
           }
          },
          "shapedefaults": {
           "line": {
            "color": "#2a3f5f"
           }
          },
          "ternary": {
           "aaxis": {
            "gridcolor": "white",
            "linecolor": "white",
            "ticks": ""
           },
           "baxis": {
            "gridcolor": "white",
            "linecolor": "white",
            "ticks": ""
           },
           "bgcolor": "#E5ECF6",
           "caxis": {
            "gridcolor": "white",
            "linecolor": "white",
            "ticks": ""
           }
          },
          "title": {
           "x": 0.05
          },
          "xaxis": {
           "automargin": true,
           "gridcolor": "white",
           "linecolor": "white",
           "ticks": "",
           "title": {
            "standoff": 15
           },
           "zerolinecolor": "white",
           "zerolinewidth": 2
          },
          "yaxis": {
           "automargin": true,
           "gridcolor": "white",
           "linecolor": "white",
           "ticks": "",
           "title": {
            "standoff": 15
           },
           "zerolinecolor": "white",
           "zerolinewidth": 2
          }
         }
        },
        "title": {
         "font": {
          "color": "#894329"
         },
         "text": "Average Price per Night, by Neighbourhood"
        },
        "xaxis": {
         "anchor": "y",
         "domain": [
          0,
          1
         ],
         "tickfont": {
          "color": "#894329"
         },
         "title": {
          "text": "Price Average"
         }
        },
        "yaxis": {
         "anchor": "x",
         "domain": [
          0,
          1
         ],
         "tickfont": {
          "color": "#894329"
         },
         "title": {
          "text": "Neighbourhood"
         }
        }
       }
      }
     },
     "metadata": {},
     "output_type": "display_data"
    }
   ],
   "source": [
    "\n",
    "fig1 = px.bar(df3_pivot, x='price average', y='neighbourhood', color='price average', \n",
    "    color_continuous_scale=['#FDEB6C', '#FC9885', '#FA6821', '#D94C2A', '#E75554', '#74211C'],\n",
    "    title='Average Price per Night, by Neighbourhood',\n",
    "    labels={'price average':'Price Average (€)', 'neighbourhood':'Neighbourhood'},\n",
    "    text='price average',\n",
    "    height=1200)\n",
    "\n",
    "fig1.update_layout(plot_bgcolor='#e6e1cf', xaxis_title='Price Average', yaxis_title='Neighbourhood',\n",
    "xaxis_tickfont=dict(color='#894329'), yaxis_tickfont=dict(color='#894329'), title_font=dict(color='#894329'),\n",
    "legend=dict(title_font=dict(color='#894329')))\n",
    "\n",
    "fig1.show()"
   ]
  },
  {
   "cell_type": "code",
   "execution_count": 44,
   "metadata": {},
   "outputs": [],
   "source": [
    "url_viajeros_pernocte = \"https://servicios.ine.es/wstempus/js/ES/DATOS_TABLA/53822\"\n",
    "response_viajeros_pernocte = requests.request(\"GET\", url_viajeros_pernocte)\n",
    "viajeros_pernocte = response_viajeros_pernocte.json()\n"
   ]
  },
  {
   "cell_type": "code",
   "execution_count": 45,
   "metadata": {},
   "outputs": [],
   "source": [
    "def INE_tables_qty(json):\n",
    "    bcn_list = []\n",
    "    num_list = []\n",
    "    for i in json:\n",
    "        for key1, val1 in i.items():\n",
    "            if \"Cataluña: Barcelona\" in val1:\n",
    "                bcn_list.append(val1)\n",
    "        for key2, val2 in i.items():\n",
    "            if \"Data\" in key2:\n",
    "                for subdict in val2:\n",
    "                    for key3, val3 in subdict.items():\n",
    "                        if \"Valor\" in key3:\n",
    "                            num_list.append(val3)\n",
    "\n",
    "    return dict(zip(bcn_list, num_list))\n"
   ]
  },
  {
   "cell_type": "code",
   "execution_count": 47,
   "metadata": {},
   "outputs": [],
   "source": [
    "\n",
    "url_cant_apartamentos = \"https://servicios.ine.es/wstempus/js/ES/DATOS_TABLA/53803\"\n",
    "response_cant_apartamentos = requests.request(\"GET\", url_cant_apartamentos)\n",
    "cant_apartamentos = response_cant_apartamentos.json()\n",
    "dic_apt_qty_INE = INE_tables_qty(cant_apartamentos)\n"
   ]
  },
  {
   "cell_type": "code",
   "execution_count": 49,
   "metadata": {},
   "outputs": [],
   "source": [
    "def INE_tables_ocup(json):\n",
    "    bcn_list = []\n",
    "    num_list = []\n",
    "\n",
    "    for i in json:\n",
    "        for key1, val1 in i.items():\n",
    "            if \"Cataluña: Barcelona\" in val1:\n",
    "                bcn_list.append(val1)\n",
    "        for key2, val2 in i.items():\n",
    "            if \"Data\" in key2:\n",
    "                for subdict in val2:\n",
    "                    for key3, val3 in subdict.items():\n",
    "                        if \"Valor\" in key3:\n",
    "                            num_list.append(val3)\n",
    "\n",
    "    return dict(zip(bcn_list, num_list))\n"
   ]
  },
  {
   "cell_type": "code",
   "execution_count": 79,
   "metadata": {},
   "outputs": [
    {
     "data": {
      "image/png": "[encoded data removed]",
      "text/plain": [
       "<Figure size 432x288 with 1 Axes>"
      ]
     },
     "metadata": {
      "needs_background": "light"
     },
     "output_type": "display_data"
    }
   ],
   "source": [
    "# Get the top 10 and bottom 10 listings based on 'review_scores_rating'\n",
    "top_10 = df3.nlargest(10, 'review_scores_rating')\n",
    "bottom_10 = df3.nsmallest(10, 'review_scores_rating')\n",
    "\n",
    "# Define the custom color palette\n",
    "colors = np.array(['#FFB600', '#44A9CC', '#EB563A', '#F4B998', '#50BCB9'])\n",
    "\n",
    "# Create the word cloud for the top 10 listings\n",
    "top_comments = \" \".join(review for review in top_10.comments)\n",
    "wordcloud = WordCloud(background_color='white', max_words=100, contour_width=3, contour_color='steelblue', color_func=lambda *args, **kwargs: colors[np.random.choice(len(colors))])\n",
    "wordcloud.generate(top_comments)\n",
    "\n",
    "plt.imshow(wordcloud, interpolation='bilinear')\n",
    "plt.axis(\"off\")\n",
    "plt.show()\n"
   ]
  },
  {
   "cell_type": "code",
   "execution_count": 80,
   "metadata": {},
   "outputs": [
    {
     "data": {
      "image/png": "[encoded data removed]",
      "text/plain": [
       "<Figure size 432x288 with 1 Axes>"
      ]
     },
     "metadata": {
      "needs_background": "light"
     },
     "output_type": "display_data"
    }
   ],
   "source": [
    "# Create the word cloud for the bottom 10 listings\n",
    "bottom_comments = \" \".join(review for review in bottom_10.comments)\n",
    "wordcloud = WordCloud(background_color='white', max_words=100, contour_width=3, contour_color='steelblue', color_func=lambda *args, **kwargs: colors[np.random.choice(len(colors))])\n",
    "wordcloud.generate(bottom_comments)\n",
    "\n",
    "plt.imshow(wordcloud, interpolation='bilinear')\n",
    "plt.axis(\"off\")\n",
    "plt.show()"
   ]
  },
  {
   "cell_type": "code",
   "execution_count": 81,
   "metadata": {},
   "outputs": [
    {
     "name": "stdout",
     "output_type": "stream",
     "text": [
      "Vilapicina i la Torre Llobeta : 454.3333333333333\n"
     ]
    }
   ],
   "source": [
    "max_idx_price = df3_pivot['price average'].idxmax()\n",
    "max_ngbhd = df3_pivot.at[max_idx_price, 'neighbourhood']\n",
    "max_avg_price = df3_pivot.at[max_idx_price, 'price average']\n",
    "\n",
    "print(max_ngbhd, \":\", max_avg_price)"
   ]
  },
  {
   "cell_type": "code",
   "execution_count": 82,
   "metadata": {},
   "outputs": [
    {
     "name": "stdout",
     "output_type": "stream",
     "text": [
      "el Turó de la Peira : 27.75\n"
     ]
    }
   ],
   "source": [
    "min_idx_price = df3_pivot['price average'].idxmin()\n",
    "min_ngbhd = df3_pivot.at[min_idx_price, 'neighbourhood']\n",
    "min_avg_price = df3_pivot.at[min_idx_price, 'price average']\n",
    "\n",
    "print(min_ngbhd, \":\", min_avg_price)"
   ]
  },
  {
   "cell_type": "code",
   "execution_count": 83,
   "metadata": {},
   "outputs": [
    {
     "name": "stderr",
     "output_type": "stream",
     "text": [
      "c:\\Users\\germa\\miniconda3\\envs\\ironhack\\lib\\site-packages\\folium\\folium.py:465: FutureWarning:\n",
      "\n",
      "The choropleth  method has been deprecated. Instead use the new Choropleth class, which has the same arguments. See the example notebook 'GeoJSON_and_choropleth' for how to do this.\n",
      "\n"
     ]
    },
    {
     "data": {
      "text/html": [
       "<div style=\"width:100%;\"><div style=\"position:relative;width:100%;height:0;padding-bottom:60%;\"><span style=\"color:#565656\">Make this Notebook Trusted to load map: File -> Trust Notebook</span><iframe srcdoc=\"&lt;!DOCTYPE html&gt;\n",
       "&lt;html&gt;\n",
       "&lt;head&gt;\n",
       "    \n",
       "    &lt;meta http-equiv=&quot;content-type&quot; content=&quot;text/html; charset=UTF-8&quot; /&gt;\n",
       "    \n",
       "        &lt;script&gt;\n",
       "            L_NO_TOUCH = false;\n",
       "            L_DISABLE_3D = false;\n",
       "        &lt;/script&gt;\n",
       "    \n",
       "    &lt;style&gt;html, body {width: 100%;height: 100%;margin: 0;padding: 0;}&lt;/style&gt;\n",
       "    &lt;style&gt;#map {position:absolute;top:0;bottom:0;right:0;left:0;}&lt;/style&gt;\n",
       "    &lt;script src=&quot;https://cdn.jsdelivr.net/npm/leaflet@1.9.3/dist/leaflet.js&quot;&gt;&lt;/script&gt;\n",
       "    &lt;script src=&quot;https://code.jquery.com/jquery-1.12.4.min.js&quot;&gt;&lt;/script&gt;\n",
       "    &lt;script src=&quot;https://cdn.jsdelivr.net/npm/bootstrap@5.2.2/dist/js/bootstrap.bundle.min.js&quot;&gt;&lt;/script&gt;\n",
       "    &lt;script src=&quot;https://cdnjs.cloudflare.com/ajax/libs/Leaflet.awesome-markers/2.0.2/leaflet.awesome-markers.js&quot;&gt;&lt;/script&gt;\n",
       "    &lt;link rel=&quot;stylesheet&quot; href=&quot;https://cdn.jsdelivr.net/npm/leaflet@1.9.3/dist/leaflet.css&quot;/&gt;\n",
       "    &lt;link rel=&quot;stylesheet&quot; href=&quot;https://cdn.jsdelivr.net/npm/bootstrap@5.2.2/dist/css/bootstrap.min.css&quot;/&gt;\n",
       "    &lt;link rel=&quot;stylesheet&quot; href=&quot;https://netdna.bootstrapcdn.com/bootstrap/3.0.0/css/bootstrap.min.css&quot;/&gt;\n",
       "    &lt;link rel=&quot;stylesheet&quot; href=&quot;https://cdn.jsdelivr.net/npm/@fortawesome/fontawesome-free@6.2.0/css/all.min.css&quot;/&gt;\n",
       "    &lt;link rel=&quot;stylesheet&quot; href=&quot;https://cdnjs.cloudflare.com/ajax/libs/Leaflet.awesome-markers/2.0.2/leaflet.awesome-markers.css&quot;/&gt;\n",
       "    &lt;link rel=&quot;stylesheet&quot; href=&quot;https://cdn.jsdelivr.net/gh/python-visualization/folium/folium/templates/leaflet.awesome.rotate.min.css&quot;/&gt;\n",
       "    \n",
       "            &lt;meta name=&quot;viewport&quot; content=&quot;width=device-width,\n",
       "                initial-scale=1.0, maximum-scale=1.0, user-scalable=no&quot; /&gt;\n",
       "            &lt;style&gt;\n",
       "                #map_b1f2e36e74d3f336b6b564bf45564a70 {\n",
       "                    position: relative;\n",
       "                    width: 100.0%;\n",
       "                    height: 100.0%;\n",
       "                    left: 0.0%;\n",
       "                    top: 0.0%;\n",
       "                }\n",
       "                .leaflet-container { font-size: 1rem; }\n",
       "            &lt;/style&gt;\n",
       "        \n",
       "    &lt;script src=&quot;https://cdnjs.cloudflare.com/ajax/libs/d3/3.5.5/d3.min.js&quot;&gt;&lt;/script&gt;\n",
       "&lt;/head&gt;\n",
       "&lt;body&gt;\n",
       "    \n",
       "    \n",
       "            &lt;div class=&quot;folium-map&quot; id=&quot;map_b1f2e36e74d3f336b6b564bf45564a70&quot; &gt;&lt;/div&gt;\n",
       "        \n",
       "&lt;/body&gt;\n",
       "&lt;script&gt;\n",
       "    \n",
       "    \n",
       "            var map_b1f2e36e74d3f336b6b564bf45564a70 = L.map(\n",
       "                &quot;map_b1f2e36e74d3f336b6b564bf45564a70&quot;,\n",
       "                {\n",
       "                    center: [41.39, 2.17],\n",
       "                    crs: L.CRS.EPSG3857,\n",
       "                    zoom: 12,\n",
       "                    zoomControl: true,\n",
       "                    preferCanvas: false,\n",
       "                }\n",
       "            );\n",
       "\n",
       "            \n",
       "\n",
       "        \n",
       "    \n",
       "            var tile_layer_35251d7f3fbcfa15157df5a0f0403a15 = L.tileLayer(\n",
       "                &quot;https://{s}.tile.openstreetmap.org/{z}/{x}/{y}.png&quot;,\n",
       "                {&quot;attribution&quot;: &quot;Data by \\u0026copy; \\u003ca target=\\&quot;_blank\\&quot; href=\\&quot;http://openstreetmap.org\\&quot;\\u003eOpenStreetMap\\u003c/a\\u003e, under \\u003ca target=\\&quot;_blank\\&quot; href=\\&quot;http://www.openstreetmap.org/copyright\\&quot;\\u003eODbL\\u003c/a\\u003e.&quot;, &quot;detectRetina&quot;: false, &quot;maxNativeZoom&quot;: 18, &quot;maxZoom&quot;: 18, &quot;minZoom&quot;: 0, &quot;noWrap&quot;: false, &quot;opacity&quot;: 1, &quot;subdomains&quot;: &quot;abc&quot;, &quot;tms&quot;: false}\n",
       "            ).addTo(map_b1f2e36e74d3f336b6b564bf45564a70);\n",
       "        \n",
       "    \n",
       "            var choropleth_7cd1d6542623345404607ea9d8f5966f = L.featureGroup(\n",
       "                {}\n",
       "            ).addTo(map_b1f2e36e74d3f336b6b564bf45564a70);\n",
       "        \n",
       "    \n",
       "        function geo_json_3047780c167120dd77d660956c5b1372_styler(feature) {\n",
       "            switch(feature.properties.DISTRICTE) {\n",
       "                case &quot;01&quot;: \n",
       "                    return {&quot;color&quot;: &quot;black&quot;, &quot;fillColor&quot;: &quot;#fd8d3c&quot;, &quot;fillOpacity&quot;: 0.5, &quot;opacity&quot;: 0.4, &quot;weight&quot;: 1};\n",
       "                case &quot;02&quot;: \n",
       "                    return {&quot;color&quot;: &quot;black&quot;, &quot;fillColor&quot;: &quot;#bd0026&quot;, &quot;fillOpacity&quot;: 0.5, &quot;opacity&quot;: 0.4, &quot;weight&quot;: 1};\n",
       "                case &quot;03&quot;: case &quot;06&quot;: case &quot;10&quot;: \n",
       "                    return {&quot;color&quot;: &quot;black&quot;, &quot;fillColor&quot;: &quot;#fed976&quot;, &quot;fillOpacity&quot;: 0.5, &quot;opacity&quot;: 0.4, &quot;weight&quot;: 1};\n",
       "                default:\n",
       "                    return {&quot;color&quot;: &quot;black&quot;, &quot;fillColor&quot;: &quot;#ffffb2&quot;, &quot;fillOpacity&quot;: 0.5, &quot;opacity&quot;: 0.4, &quot;weight&quot;: 1};\n",
       "            }\n",
       "        }\n",
       "\n",
       "        function geo_json_3047780c167120dd77d660956c5b1372_onEachFeature(feature, layer) {\n",
       "            layer.on({\n",
       "            });\n",
       "        };\n",
       "        var geo_json_3047780c167120dd77d660956c5b1372 = L.geoJson(null, {\n",
       "                onEachFeature: geo_json_3047780c167120dd77d660956c5b1372_onEachFeature,\n",
       "            \n",
       "                style: geo_json_3047780c167120dd77d660956c5b1372_styler,\n",
       "        });\n",
       "\n",
       "        function geo_json_3047780c167120dd77d660956c5b1372_add (data) {\n",
       "            geo_json_3047780c167120dd77d660956c5b1372\n",
       "                .addData(data)\n",
       "                .addTo(choropleth_7cd1d6542623345404607ea9d8f5966f);\n",
       "        }\n",
       "            geo_json_3047780c167120dd77d660956c5b1372_add({&quot;features&quot;: [{&quot;geometry&quot;: {&quot;coordinates&quot;: [[[2.18345134700301, 41.390611969954676], [2.184585635760319, 41.389755531612366], [2.186769724698571, 41.39139260184995], [2.186984101052048, 41.39123032876031], [2.187181032710815, 41.391081257743764], [2.187269181872896, 41.39101453215908], [2.187500019536336, 41.39083983140586], [2.187895297639197, 41.39054067666858], [2.188178445927571, 41.390326381902284], [2.188469537952559, 41.3901055561618], [2.188738494752524, 41.389901520341425], [2.189077030558316, 41.38964684222476], [2.189077059530722, 41.38964682081092], [2.189149000233422, 41.38959269543473], [2.189439685870679, 41.38937401262636], [2.189718986502883, 41.38916389430965], [2.190496179764523, 41.38857919238458], [2.19067547594052, 41.38844430055227], [2.191233680452509, 41.38802433717695], [2.191417457262162, 41.38788136439476], [2.19148535919496, 41.38783104815513], [2.191488096639729, 41.38783310308869], [2.191841275981272, 41.38756188992037], [2.191920940991912, 41.38750071280551], [2.192049856380553, 41.38740664282998], [2.192046481111892, 41.38740413125367], [2.192398954953715, 41.38713649007665], [2.192398225393402, 41.38713552115177], [2.192561333895824, 41.38701239182772], [2.192602875498474, 41.386980352645864], [2.192677587691088, 41.38692273334333], [2.192745882979255, 41.38686946464151], [2.192843708705693, 41.38679490210716], [2.192881533221684, 41.38676630464265], [2.19288153442876, 41.38676630375037], [2.19290782371229, 41.38674461879986], [2.192908575082495, 41.386745855397855], [2.192944605458818, 41.38671861356969], [2.192997450088473, 41.38667886742226], [2.193061239761007, 41.38663088767093], [2.193078882466069, 41.38661773881807], [2.19307888367314, 41.38661773792578], [2.193103381889543, 41.38659947673768], [2.193329820993998, 41.38643071423816], [2.193344741436152, 41.38641959546972], [2.193358442737741, 41.38640937791213], [2.193362341779723, 41.386406477802005], [2.193475278880147, 41.386316842986666], [2.193477200617314, 41.386315317972446], [2.193572721005772, 41.38623950551963], [2.193599900159489, 41.386259599013634], [2.195754545049454, 41.38785245394036], [2.195806224930442, 41.387813403656416], [2.195802565763147, 41.38778577544669], [2.19580262749829, 41.387748833348034], [2.195814592569548, 41.38769625272147], [2.195837868640679, 41.387648145911704], [2.195864937955586, 41.387612416714035], [2.195906394900141, 41.38757084039041], [2.195949405734436, 41.38753827071754], [2.19599781211945, 41.38751170530901], [2.196057957741357, 41.38748844208866], [2.196111064098866, 41.38747171955763], [2.196172731598786, 41.387458605771414], [2.196228824384991, 41.387454221829195], [2.196313960136482, 41.38745408239147], [2.196375294805379, 41.38745653116259], [2.196419673909006, 41.38746570540119], [2.198000254941852, 41.38627963900742], [2.19972219744978, 41.38498742444035], [2.199655003961603, 41.38494025398942], [2.199531910954182, 41.384864166916834], [2.199417200499651, 41.3847989470622], [2.199287109798698, 41.384731764517326], [2.199149745895665, 41.384666674994904], [2.199083388054315, 41.38463772233571], [2.19903871975502, 41.38467065818051], [2.199044393304189, 41.384675165404616], [2.198816448293776, 41.38484359548133], [2.198610799286064, 41.38499907443954], [2.198604051236518, 41.38499733402761], [2.198600683279559, 41.38499499563763], [2.198591970453447, 41.38498962952449], [2.198586585556215, 41.384983043551095], [2.198578285933416, 41.38497422142625], [2.198569162213498, 41.384963357860954], [2.198558207609156, 41.38494965318071], [2.198552661428087, 41.384938670411465], [2.198546892311577, 41.38492538917095], [2.198545490817595, 41.38492069549771], [2.198543767021856, 41.38491108147233], [2.198540561561448, 41.38490427648134], [2.198535472017105, 41.38489896262332], [2.198523337976734, 41.38488975348572], [2.198502964950268, 41.38487457802341], [2.198474638072871, 41.38485261853366], [2.198439789400695, 41.38482802844668], [2.198420872909647, 41.3848159887264], [2.198410362835797, 41.384810889312504], [2.198402907777217, 41.38480828824888], [2.198387307711383, 41.384804729690195], [2.19836730738202, 41.38480108642892], [2.19835046977432, 41.38479701482238], [2.19834345332125, 41.38479375926146], [2.198339530721187, 41.38479081349563], [2.198333194563119, 41.384783779514244], [2.198331484464542, 41.38477792171785], [2.198321492781444, 41.38476664674704], [2.198312903903126, 41.3847599573704], [2.198311007947633, 41.38475949378477], [2.198306445469199, 41.38475995741067], [2.198303726331523, 41.3847593259542], [2.198294038742088, 41.38474958437851], [2.198274324303613, 41.38473143197421], [2.198263938452035, 41.384722063846766], [2.198260615923523, 41.38471992392879], [2.198252833773382, 41.38471669004979], [2.198249521886657, 41.384715631108364], [2.198242498044101, 41.38471395180622], [2.198238376032021, 41.38471166219661], [2.198229943371126, 41.38470306430746], [2.198232756482109, 41.38469789557595], [2.198238311930975, 41.38469059315466], [2.198243554442677, 41.38468247787556], [2.198244158127778, 41.38468006806587], [2.198243275656171, 41.384674990681745], [2.198243059248468, 41.38467118799934], [2.198244107177806, 41.38466766435221], [2.198248171738144, 41.384661000083824], [2.198252689683302, 41.3846592931118], [2.198254455927537, 41.38465571141695], [2.198254441957214, 41.384653927830115], [2.198250515659361, 41.38464544240902], [2.198250510673113, 41.38463416495588], [2.198253163102839, 41.384619780408485], [2.198253827046174, 41.38460857066887], [2.198258035824586, 41.38459600747753], [2.198264544803967, 41.38458118140967], [2.198271994488712, 41.384570586424005], [2.198274244137997, 41.38456270250104], [2.198274015458264, 41.38456087238056], [2.198272266747965, 41.38455718512707], [2.198272336258683, 41.38455444732446], [2.198275012952291, 41.38455269149239], [2.198279639917313, 41.38454697693122], [2.1982806476686, 41.384535039977415], [2.198285692270074, 41.38452550913615], [2.198290414972951, 41.38451589498413], [2.198291840754196, 41.38450595160529], [2.198297877373597, 41.38449452708785], [2.198300700942193, 41.38447691903814], [2.198304367886871, 41.38446367650547], [2.198307172334381, 41.384449572248734], [2.198314161338645, 41.38443753284669], [2.198314477881765, 41.38443415723098], [2.198313319002005, 41.38442724038673], [2.198313596659472, 41.38442216207822], [2.198321247972955, 41.384402939286744], [2.198325177674544, 41.384389725606425], [2.198325870233051, 41.384383974624264], [2.198324601122655, 41.38437240012263], [2.198319494689892, 41.384356781530585], [2.198318934023971, 41.38435374208907], [2.198318471652165, 41.384347568714304], [2.198317044719654, 41.38434300096597], [2.198315191390682, 41.38434101540596], [2.198309431906711, 41.38433864233006], [2.19829539227576, 41.38433560805957], [2.198286360573912, 41.384332842875374], [2.198283653534172, 41.38433317530769], [2.198278738774779, 41.38433700529175], [2.198274921452824, 41.38433912248507], [2.198272388255129, 41.38433893369202], [2.198266824551941, 41.38433717448965], [2.19826279393958, 41.38433718243606], [2.198253000264236, 41.384341924214404], [2.198248908337475, 41.384344976275926], [2.198244462871005, 41.384350520957796], [2.198242674054284, 41.384354967217654], [2.198240614102346, 41.384363960387404], [2.198238559551785, 41.38437056660114], [2.198225755637608, 41.384397400871364], [2.19821553724083, 41.38443087368541], [2.198213203064566, 41.384434928821165], [2.19820703308004, 41.3844426052754], [2.198203645313785, 41.38444869777714], [2.198194024581493, 41.38447985982014], [2.197846596811933, 41.384426843086686], [2.197223644236037, 41.38421324488551], [2.197003908072056, 41.38410402671598], [2.196559592565732, 41.38382548412572], [2.196308281913762, 41.38360382842572], [2.195934117363412, 41.38319419144966], [2.195805188539574, 41.38301869760114], [2.195568522495188, 41.38252142227625], [2.195461467772143, 41.38206958593953], [2.195461989448596, 41.381744227836215], [2.196975709003275, 41.381209671489394], [2.196988055409169, 41.38123284844768], [2.197105127545802, 41.381240511109176], [2.197122489688152, 41.3812407493516], [2.197197489203322, 41.38123475118146], [2.19721837799032, 41.38122926721134], [2.197238050713633, 41.381214722188346], [2.197269740559183, 41.38115755630693], [2.19731593047705, 41.381116488935355], [2.197317080056877, 41.3811085883451], [2.197305258432894, 41.38107793433031], [2.197271426159304, 41.381041884385766], [2.1972526667848, 41.38102495447668], [2.197203521447321, 41.38099223855815], [2.197166139814053, 41.380964738986044], [2.197110903739345, 41.38095661612146], [2.197024386722859, 41.380954913495614], [2.196947069356923, 41.38098699919365], [2.196941984211672, 41.38099594420991], [2.196938918975198, 41.381010821268724], [2.196960696572965, 41.381065683175734], [2.195680514178123, 41.38152153297059], [2.19535186805582, 41.38098667424167], [2.19664814607319, 41.380519202708136], [2.196680207587643, 41.380546812131385], [2.196697267519692, 41.38055312840955], [2.196710501524124, 41.38055547267899], [2.196817718451204, 41.38057475860372], [2.196825844220346, 41.380573347094675], [2.196896124707113, 41.380541617700885], [2.19692662089538, 41.38050953855124], [2.196941514200897, 41.38045185919571], [2.196920610170216, 41.38040610818668], [2.196934305434785, 41.38034665499403], [2.196931968852936, 41.38030619488196], [2.196927677483448, 41.38029728350854], [2.196907473885554, 41.38028209092288], [2.196824679673326, 41.38025782324818], [2.196716655634991, 41.38023905413224], [2.196635505516779, 41.3802522330893], [2.196594237687725, 41.380271383212296], [2.196563343607109, 41.380289146533435], [2.196538865240881, 41.38030451360367], [2.196507537987893, 41.38036426698429], [2.196531241616226, 41.38040990160279], [2.194978989423305, 41.380969401009715], [2.194889973969596, 41.38093173926528], [2.194504760525827, 41.38070903448792], [2.193947295245231, 41.380211680391156], [2.193417487684257, 41.379583683082444], [2.193290273908598, 41.37937329328055], [2.193183506737495, 41.37919671864488], [2.192968164502486, 41.378736887410255], [2.192956208527725, 41.37869563103654], [2.192871544381765, 41.378403489565976], [2.19281844002643, 41.377942697112], [2.192868476328608, 41.37763602637505], [2.192965591041943, 41.37741565367986], [2.193072144573212, 41.37726296572992], [2.193201139632696, 41.377078117798476], [2.19344238733854, 41.37691793465104], [2.193413893790418, 41.37690794373934], [2.193206628689097, 41.376919416529965], [2.192769079521662, 41.37684164842003], [2.192231277341477, 41.37663671817489], [2.191949977856195, 41.37645491676641], [2.191678719058391, 41.376238830466384], [2.191297957902452, 41.37583646383757], [2.190862748782364, 41.37519144642373], [2.190635467032245, 41.37471055797149], [2.190236787152827, 41.37386700678981], [2.189685887558777, 41.372410420058344], [2.189509742501442, 41.3715622456263], [2.189482162693432, 41.37109643357701], [2.189491391692727, 41.37068911450854], [2.189528415075074, 41.37049522671804], [2.189691765530563, 41.37015798174949], [2.189846136882739, 41.36992847558546], [2.190161892640484, 41.36964418624302], [2.190347488686656, 41.36951536025811], [2.190545449039583, 41.369479038344096], [2.190870911912996, 41.36939522415602], [2.190994877535562, 41.369378422941125], [2.191111974849352, 41.369394829166204], [2.191152624110199, 41.369437738594286], [2.191218286641094, 41.36954061589057], [2.191252099862085, 41.36960835607225], [2.191323071292014, 41.36972092670469], [2.191460339956662, 41.369927107440006], [2.191461378858297, 41.36997029059729], [2.191569864326598, 41.37003722221059], [2.191793767021554, 41.36998206548104], [2.191865338510697, 41.36992065028077], [2.19187576860229, 41.3699079202062], [2.191880013007979, 41.36989201386723], [2.191877408916241, 41.36985701928771], [2.191857151566416, 41.369810677333646], [2.191833333766567, 41.36977386737442], [2.191780981263064, 41.36969289117835], [2.191722434485681, 41.36960229733061], [2.191594570125531, 41.36940451223917], [2.191398611292033, 41.369101383599855], [2.191287033099512, 41.36892881662009], [2.191122918618982, 41.36867493935186], [2.190958663300982, 41.368420853677435], [2.190757640694991, 41.36810989587812], [2.190453236501775, 41.36763902100378], [2.190158787836904, 41.36712923069333], [2.19012772183597, 41.36704648491192], [2.189812178313822, 41.36664733895259], [2.189550584325224, 41.366242635201395], [2.189281884217177, 41.36582694560636], [2.189018866208198, 41.36542006875884], [2.188674835040851, 41.364887838550864], [2.188396198039662, 41.36445677292632], [2.188025662049129, 41.363787548880936], [2.187759119804799, 41.36347113314846], [2.187729356430968, 41.363083373117014], [2.187505381288755, 41.36279420781961], [2.187118035293466, 41.3618034616618], [2.187085392062786, 41.36171855105005], [2.187145255622176, 41.36170763970914], [2.187087325294094, 41.361539770145804], [2.18684875237217, 41.36158852871526], [2.186371356049436, 41.36034721086515], [2.186111893300943, 41.35969012136514], [2.185836158360092, 41.358950064570735], [2.185525562625701, 41.35814524816888], [2.185451618258654, 41.3579670326668], [2.185360602449845, 41.35773416449548], [2.184598761800518, 41.357902858058274], [2.184661550849849, 41.35805989936532], [2.185036774269175, 41.35797759791835], [2.185056821420543, 41.35798060428994], [2.185122218120753, 41.35814529321536], [2.185280745071838, 41.35811260126087], [2.185511540409585, 41.358715687737515], [2.185774206963179, 41.35941229949006], [2.18586940143468, 41.35967278698672], [2.185985040609324, 41.359963972647805], [2.186258788648631, 41.36066724607569], [2.186458027482884, 41.361190579573794], [2.186543281189246, 41.361406805102746], [2.186625979638241, 41.361626651553166], [2.186646645418721, 41.36162423947289], [2.186686210680064, 41.361751669751364], [2.186723033630265, 41.36186218246112], [2.186764422870502, 41.36195836938517], [2.18679257974231, 41.362013046051175], [2.186804583728289, 41.36204087414534], [2.186867127396681, 41.362226043014175], [2.186948023139631, 41.36243912080362], [2.187094659807901, 41.36285151368837], [2.187133550789368, 41.362963023581344], [2.187162745266113, 41.36307858862662], [2.187132965660226, 41.363127343332394], [2.186679843154629, 41.363217187930246], [2.186688818966554, 41.36328763638155], [2.186712086319748, 41.36333366727887], [2.186733775000163, 41.36336437417578], [2.186872207806786, 41.36340923631608], [2.187064405145492, 41.363437007063894], [2.187191731750198, 41.363441365368516], [2.187262594333247, 41.36342131062967], [2.187414349146075, 41.36357534856215], [2.187499966568374, 41.363711602327065], [2.187499968632252, 41.36383388436034], [2.187592449579243, 41.36401751669051], [2.188588262206937, 41.36555641163567], [2.1887874383346, 41.365867009012284], [2.188966416842068, 41.36611540167394], [2.189010105347837, 41.36618385168088], [2.189227509652747, 41.36652604910489], [2.189282458596971, 41.36658224700775], [2.189301841013311, 41.36663806821888], [2.189301197852831, 41.36669758556372], [2.189283306151813, 41.366717204060414], [2.189245309116798, 41.36674404907869], [2.188916463750817, 41.36686043320266], [2.18832622811473, 41.36710488882408], [2.188060294084432, 41.36722144398582], [2.187934433610274, 41.3672562798035], [2.187895773313816, 41.36723062371028], [2.187775302652571, 41.36708012208165], [2.187655510234426, 41.36689532437327], [2.187558179385549, 41.36678404258363], [2.187531034175684, 41.36676893443381], [2.187475500522542, 41.366754076212125], [2.187459899665745, 41.36675731776417], [2.187454718542668, 41.36673148716821], [2.187443657044259, 41.36668634430351], [2.187396140318584, 41.366565217562936], [2.187328343833204, 41.36640576549087], [2.187264628658997, 41.36625071896768], [2.187156738687557, 41.36610788087326], [2.187104626754399, 41.366023643483615], [2.187036231122848, 41.365910503808564], [2.186839605973021, 41.36567301770345], [2.186689784076259, 41.365504338340735], [2.186314294232901, 41.36520518421579], [2.185920439420777, 41.3649369930004], [2.185870753538194, 41.36488479404166], [2.185862409423679, 41.364852064626625], [2.185864031057019, 41.36482546779773], [2.185949130757621, 41.364703160911255], [2.186100115773463, 41.36448614619135], [2.186154850491974, 41.3644074830404], [2.186525325047583, 41.364271509656334], [2.186777991280275, 41.364178777450185], [2.186792517973285, 41.364162468349086], [2.186794434914368, 41.364141025909134], [2.186766207771484, 41.36411304714618], [2.186743385237532, 41.36409454648489], [2.186703089324335, 41.364067924523155], [2.186648563991941, 41.36404526348013], [2.186595975329201, 41.364034145765835], [2.18653476777515, 41.36403154319085], [2.186482073865195, 41.364036557204514], [2.186407788174937, 41.364060668578546], [2.186281440554686, 41.36410623617417], [2.186071330312038, 41.36418608124099], [2.185973000429217, 41.364224659536475], [2.185857734073676, 41.36439034957577], [2.185788414294493, 41.36448995102736], [2.185759292647849, 41.36453182824946], [2.18571782649917, 41.364591408926096], [2.185650259076104, 41.36468851859106], [2.185607868133865, 41.36474947083673], [2.185550053288692, 41.36476047423127], [2.185430007725331, 41.364714632734476], [2.185366510398747, 41.36471918243757], [2.185312837705254, 41.36475085223254], [2.185288713957477, 41.3648234534369], [2.18513169734879, 41.36529611804985], [2.184935948974995, 41.36525628483615], [2.184930250134702, 41.36559317182218], [2.18493432180298, 41.36563097831849], [2.184976117399581, 41.36566966451479], [2.185087369358139, 41.365703510108055], [2.185133318920907, 41.365687180537286], [2.185363786874194, 41.3653584514418], [2.185463198388899, 41.36547547863112], [2.185481703290888, 41.36550166845061], [2.18576033131197, 41.36582446212825], [2.186027500477026, 41.36615070502518], [2.186252416312425, 41.36640889373334], [2.186680796593625, 41.36691232748015], [2.186730530799128, 41.367163413042846], [2.186817557245624, 41.36757595214121], [2.186861276993222, 41.36779639648764], [2.186972704502233, 41.36829095940702], [2.186880129364158, 41.36830086214472], [2.187201811010347, 41.37000691154761], [2.186173601084374, 41.37012564187037], [2.18596228120783, 41.36902712758905], [2.185860537339531, 41.368447853273885], [2.185886836899125, 41.368432987732234], [2.18591838267757, 41.36841068303698], [2.185939782281056, 41.36838602764823], [2.185948790859733, 41.36835397948156], [2.185951187378692, 41.36831711954862], [2.185988017218773, 41.36831694771997], [2.185984475620371, 41.36829698897169], [2.185976178894423, 41.368297831036045], [2.185971475274326, 41.36827133359758], [2.185978275366074, 41.36827065208986], [2.185976208449527, 41.36825900872888], [2.18599432220931, 41.368257182225584], [2.185953533651877, 41.36802721931822], [2.185874638986482, 41.36803412843629], [2.185873388458644, 41.36802605783652], [2.18585941937427, 41.368027283116184], [2.185860083395247, 41.368031566397846], [2.185820558175435, 41.36803503389183], [2.185819993450977, 41.36803141787081], [2.185679548441667, 41.3680437372498], [2.18568839936035, 41.36810105183645], [2.185248123272511, 41.36814475663336], [2.18524019711657, 41.36809577153277], [2.185146885310997, 41.36810434355137], [2.185150393334748, 41.36812601352124], [2.185145880321208, 41.36812643194129], [2.18514866672584, 41.36814364707433], [2.185145338924139, 41.368143947781356], [2.185160418128545, 41.368216664372795], [2.185145234358184, 41.36821844843969], [2.185192493283294, 41.36848160519698], [2.185019457695888, 41.36849923263646], [2.184704768011948, 41.36853493426401], [2.184682751486844, 41.368541921257396], [2.184662952252225, 41.36855231980075], [2.18464670619703, 41.368565436772236], [2.184634860814617, 41.368580431469255], [2.18462434878575, 41.36860547001614], [2.184704070411217, 41.36901413062212], [2.184919304596188, 41.37018915793066], [2.184947963110961, 41.37035899093229], [2.184956530161185, 41.3703585471894], [2.184964302403493, 41.3704160343191], [2.184635728394158, 41.37044538615316], [2.184614195542698, 41.37045189014974], [2.184594660328224, 41.37046216444194], [2.18457878127673, 41.37047553621024], [2.184567624946507, 41.370490860048875], [2.184560286820139, 41.37051737128604], [2.184561981648011, 41.3705444329402], [2.184612225721763, 41.37084520845566], [2.184622483670662, 41.37086353041762], [2.184640140914203, 41.370880130321986], [2.184664020218854, 41.370892567788445], [2.18469126043162, 41.37089919217667], [2.184709542569324, 41.37090022246122], [2.1847845533896, 41.37089341274401], [2.184973756640075, 41.370869504836925], [2.185350733840953, 41.37083366700567], [2.186511179031332, 41.37071135718446], [2.186571556830044, 41.37070619932479], [2.187142918246089, 41.370643713364224], [2.187213653434656, 41.37110265269179], [2.186513360809752, 41.37116299267053], [2.186511148302981, 41.371147664211385], [2.185767591172263, 41.37120903410952], [2.185807677493599, 41.37148207775524], [2.185773057950082, 41.371485036781834], [2.185770224060934, 41.37148790814994], [2.18576928165013, 41.371494440955196], [2.18578945552122, 41.37161036660996], [2.185791957507974, 41.37161685172623], [2.185797625936096, 41.37161872937175], [2.186152169039573, 41.371588125706985], [2.186164286370137, 41.371653984457915], [2.185802561866077, 41.371687023427704], [2.185797949190473, 41.37168870222291], [2.185796538294053, 41.37169252945164], [2.185920352429567, 41.372404784807394], [2.18592440447021, 41.372405876363096], [2.186506472737027, 41.37235702840588], [2.187092536918789, 41.37230410730026], [2.187403209672241, 41.37227834217908], [2.187500034700668, 41.37286429067646], [2.187545548494554, 41.37315626708999], [2.187121280330568, 41.373193786694635], [2.186818596502205, 41.37328728112242], [2.186980914226532, 41.373587829579954], [2.187092014367133, 41.37378774409414], [2.186844485981864, 41.373539765177505], [2.186838817423677, 41.37353884238172], [2.186801855015005, 41.37355998308457], [2.186950380327481, 41.373707314994306], [2.18711851452551, 41.373874097389404], [2.187208327348101, 41.37404637941238], [2.187214093189612, 41.374044294360154], [2.187234061671645, 41.3740770787124], [2.187489213662178, 41.374556990686635], [2.18666052863897, 41.37481515714004], [2.185934297457959, 41.37453187806271], [2.185786039264699, 41.37357973245996], [2.185637979731799, 41.37264458514956], [2.185631963867457, 41.37263316605523], [2.18562316830365, 41.37262218667275], [2.185611669998811, 41.3726121879984], [2.1855978206919, 41.37260373098805], [2.185582200984727, 41.372597243104394], [2.185565585033356, 41.37259297302934], [2.185548761533839, 41.37259096237488], [2.185532449800718, 41.37259106310399], [2.185066655223563, 41.372631505010816], [2.184993919419154, 41.37263781849], [2.184983590495645, 41.37264143842431], [2.184892131709739, 41.37264569071495], [2.184233531254804, 41.372950900934995], [2.184244814185511, 41.37296472642247], [2.184906662174389, 41.372658007860835], [2.184932388173895, 41.37267391724438], [2.184925307673469, 41.37268361324741], [2.184264171626288, 41.372986932112696], [2.184301520600445, 41.37303347759451], [2.184874186745203, 41.37277278605677], [2.184929824663045, 41.37278923159323], [2.184987237373853, 41.37313482507023], [2.184392193203776, 41.37335929236469], [2.184422533375566, 41.37340980548845], [2.184942496626658, 41.37321290977594], [2.185003548377545, 41.373232510230295], [2.185057960533679, 41.373580964807395], [2.184446651743574, 41.37376313488154], [2.184473539639088, 41.37381433511649], [2.185066328762149, 41.37363768147226], [2.185128615679577, 41.374026878799036], [2.184469738812822, 41.37416841240118], [2.184492124570837, 41.374222012755425], [2.185136981618063, 41.37408282979799], [2.185197886530443, 41.37447551219632], [2.184535244510806, 41.37458400688004], [2.184547999559531, 41.374637971331886], [2.185207846699057, 41.37453116821845], [2.18526318255365, 41.3748728464931], [2.185266811062417, 41.37490405626673], [2.185270720221565, 41.37492245481015], [2.184720995426777, 41.37497342168966], [2.184725416988571, 41.37500047561756], [2.184728427169897, 41.37501893536604], [2.18472995996108, 41.37502834108339], [2.18483266742784, 41.37501893524027], [2.185034789996454, 41.37500042423244], [2.18530674483292, 41.37497551653552], [2.18533594762562, 41.375000376906115], [2.185370432586152, 41.37502263545647], [2.185395489837263, 41.37503472080355], [2.185677709043523, 41.37514466462131], [2.185982677213703, 41.375270648958654], [2.186360572596064, 41.37540974069582], [2.186926824744935, 41.37562478065894], [2.18683418516075, 41.375675505011046], [2.186830826568954, 41.37568784861999], [2.186850449798711, 41.37576565924859], [2.186832928991495, 41.37576867906464], [2.186880215723524, 41.37595315961706], [2.186847078753951, 41.375957585954104], [2.186835176296167, 41.37590700561464], [2.186601951863004, 41.37604994616908], [2.18689469584086, 41.37600964729068], [2.186941617903256, 41.37621527492037], [2.186941684402593, 41.37622721937823], [2.187044575372004, 41.37662383638136], [2.18704463133799, 41.37663182645748], [2.187057319824969, 41.37667212572149], [2.187058250806139, 41.376682833246385], [2.187125280013395, 41.376937238095465], [2.187197376076956, 41.37722674500387], [2.186442071918592, 41.37733509321961], [2.186436477523408, 41.37741081600539], [2.187263552146068, 41.377598657769056], [2.187115168725642, 41.377976905920924], [2.186446074200913, 41.37964929347721], [2.186029109756758, 41.37955464177674], [2.185945018636713, 41.37976442759968], [2.186046729296082, 41.37978759386761], [2.185917009856826, 41.38010997524159], [2.184670935367592, 41.380703665240326], [2.184657090699628, 41.38070524254072], [2.183550484787427, 41.3804535713819], [2.18364889318933, 41.380198501808096], [2.183748538087889, 41.37995360950454], [2.183853620946873, 41.37967640964633], [2.184170129795352, 41.378865058255684], [2.184270369229164, 41.37859810120772], [2.184510775652995, 41.3779732775567], [2.184731755640031, 41.377417466499985], [2.184871599297597, 41.37705076081621], [2.184992928429255, 41.37674659550363], [2.184966074075174, 41.376740668401965], [2.184874142725049, 41.37663059553278], [2.18472105312704, 41.376436839887205], [2.184636967570592, 41.37632713587443], [2.184626383919362, 41.37631567536028], [2.184496855712238, 41.376148586518795], [2.184295020513621, 41.37589303543989], [2.183613376370589, 41.375040115185406], [2.18358402210127, 41.375000643085315], [2.183449479808093, 41.37483234648412], [2.183189582320792, 41.37449948407932], [2.183057480384719, 41.37433892378882], [2.182923543327868, 41.37431454423191], [2.18256922508566, 41.37447106482135], [2.181653312207632, 41.37488804396377], [2.181587712044672, 41.37508720235841], [2.181505624968844, 41.375354718698134], [2.18241536999966, 41.37649274825817], [2.182596984746638, 41.37672481144295], [2.183108220302898, 41.37736942673999], [2.183253615093497, 41.377550014916245], [2.183178419438859, 41.377729631746185], [2.182968282781991, 41.378276923570354], [2.182851519137047, 41.37857573886791], [2.182776920855487, 41.378773365688495], [2.182682068050171, 41.379009797135986], [2.182617219412877, 41.37916794103707], [2.182509559878655, 41.3794595515321], [2.182465125936685, 41.37948103406062], [2.182389501708418, 41.37951309497916], [2.182304729953588, 41.3795517383983], [2.182277804784892, 41.37952065124603], [2.182174735863405, 41.37938744506384], [2.181098105590229, 41.378042530645466], [2.180874890518759, 41.37775879909007], [2.180732301979804, 41.37758474034999], [2.180369742671565, 41.37712898065429], [2.180246911428372, 41.376978814882335], [2.179939355415992, 41.37658880426283], [2.178609537838966, 41.37493130161641], [2.178584509961875, 41.37489797524303], [2.17847926668931, 41.374766534546865], [2.177976251803831, 41.374138296022316], [2.178138050816547, 41.374067535596204], [2.178270836206592, 41.37400651207327], [2.178123775998883, 41.37381839335809], [2.178775500416477, 41.37352471682265], [2.179166625671187, 41.37334564536665], [2.18127572848199, 41.37239350465737], [2.182981532994313, 41.37161449659778], [2.182993119953663, 41.37160589559816], [2.18300281538113, 41.371595560727926], [2.183009980732344, 41.37158387477815], [2.183014202385005, 41.37157140228762], [2.183015340817244, 41.37155878180128], [2.183013544141372, 41.371546599860814], [2.18300924844137, 41.371535363984364], [2.182202473746409, 41.370523725295], [2.18209721563617, 41.370394583726096], [2.182085721192922, 41.3703862601274], [2.182071867174029, 41.37037920783411], [2.182056053552035, 41.370373952125746], [2.182038944805088, 41.370370903064064], [2.182021399194224, 41.37037027392269], [2.182004278026393, 41.370372034793924], [2.181988373804046, 41.37037592108535], [2.181897990779308, 41.37041480363441], [2.177828796848444, 41.37226461218192], [2.177621216972524, 41.37236071380688], [2.177621548332262, 41.37236117826158], [2.177620058229683, 41.37236185578803], [2.177598482489356, 41.37237165942197], [2.177525240355215, 41.37240494122858], [2.177452093160932, 41.37243817952998], [2.177353900331874, 41.37248280261025], [2.177321231100237, 41.372497648568675], [2.177288123061265, 41.37251267963794], [2.177094936528503, 41.37275327670013], [2.176939949031315, 41.37279202478201], [2.176529850201352, 41.37289455189616], [2.176438253392365, 41.37291745108069], [2.176302381506524, 41.37295141969756], [2.17629909191214, 41.372952934637006], [2.176291694819365, 41.37295634238182], [2.176200458020041, 41.372998366948806], [2.176066095271266, 41.37306026314019], [2.176060994261, 41.37306261361236], [2.176055441013984, 41.37306517162248], [2.176044577478744, 41.373070175886646], [2.175897333179873, 41.373136065459356], [2.175863704378886, 41.37315147070261], [2.175859362378656, 41.37315346630044], [2.175857572922901, 41.37315426776542], [2.175851858220052, 41.37315682641078], [2.175829562293063, 41.373166802901686], [2.175735029374574, 41.373209105241514], [2.175729413299673, 41.37321161774806], [2.175638443539722, 41.37325232417518], [2.175472784361737, 41.37332645197743], [2.175553960005622, 41.37342766936935], [2.175628851607839, 41.373521054671436], [2.175593636556718, 41.373548515862595], [2.175505780609511, 41.373665885985936], [2.175460015330445, 41.37379614387277], [2.175459291916152, 41.37393088417299], [2.175503658213367, 41.3740614158625], [2.175605363772879, 41.37420663347595], [2.175738120761733, 41.374291950850555], [2.175529377764088, 41.37450847552136], [2.175407341144714, 41.37458137005759], [2.175297710160869, 41.37462137680102], [2.175195320787917, 41.37463773022564], [2.175041341603602, 41.37464951620555], [2.17352924462394, 41.37474676248792], [2.173186764703199, 41.37476698224609], [2.172730480326962, 41.37479391947328], [2.169998620978321, 41.374955643370214], [2.16779689387186, 41.374976161401854], [2.167788162518191, 41.375167405553235], [2.166778327472239, 41.3759140332478], [2.16612826913998, 41.376413195454056], [2.165462541612052, 41.37692437882507], [2.164667339158898, 41.37753496315698], [2.163214163633121, 41.37865071892655], [2.163088770566829, 41.37874699364547], [2.163310911527714, 41.38034968865456], [2.163490042765164, 41.381642026915664], [2.163584162322806, 41.3823191648073], [2.16383423289176, 41.38412503621265], [2.164010766949843, 41.38539849587451], [2.164713785844914, 41.385930198550525], [2.169358344440712, 41.385539713886565], [2.169768906400506, 41.385573686219665], [2.16996327720245, 41.385666535478066], [2.170133021072095, 41.38576560573417], [2.170284247887462, 41.38587856060916], [2.171138039452721, 41.38684220895572], [2.171335976383984, 41.386949580065746], [2.171510191088969, 41.38704408124207], [2.171702322751796, 41.38726300127437], [2.172762175347235, 41.38847060004649], [2.172765375273975, 41.388474245872274], [2.173408853054215, 41.38894837228056], [2.173757538549923, 41.38894846082067], [2.175850816864574, 41.38894897190959], [2.177392417503349, 41.39009153300306], [2.177490084359252, 41.39016391655536], [2.179859179894687, 41.39105219562046], [2.180229110053369, 41.391347826209234], [2.18132330009658, 41.39222223068553], [2.182380953884802, 41.39142013297261], [2.18345134700301, 41.390611969954676]]], &quot;type&quot;: &quot;Polygon&quot;}, &quot;properties&quot;: {&quot;AEB&quot;: &quot;-&quot;, &quot;ANNEXDESCR&quot;: &quot;Grup - I&quot;, &quot;AREA&quot;: 4204930.807, &quot;AREA_I&quot;: &quot;-&quot;, &quot;BARRI&quot;: &quot;-&quot;, &quot;CODI_UA&quot;: &quot;01&quot;, &quot;COL_DESCR&quot;: &quot;Negre&quot;, &quot;COL_FARCIT&quot;: &quot;1&quot;, &quot;CONJ_DESCR&quot;: &quot;Districtes&quot;, &quot;DISTRICTE&quot;: &quot;01&quot;, &quot;DOCUMENTA&quot;: null, &quot;ELEM_DESCR&quot;: &quot;L\\u00edmit de districte&quot;, &quot;ESTIL_ID&quot;: &quot;0&quot;, &quot;ESTIL_QGIS&quot;: &quot;S\\u00f2lid&quot;, &quot;FCOL_DESCR&quot;: &quot;Negre&quot;, &quot;FHEX_COLOR&quot;: &quot;#000000&quot;, &quot;GRANBARRI&quot;: &quot;-&quot;, &quot;GRUIXDIMEN&quot;: 70.0, &quot;GRUIX_ID&quot;: &quot;6&quot;, &quot;HEX_COLOR7&quot;: &quot;#000000&quot;, &quot;ID_ANNEX&quot;: &quot;01&quot;, &quot;ID_CONJUNT&quot;: &quot;010412&quot;, &quot;ID_ELEMENT&quot;: &quot;0104120101&quot;, &quot;ID_SUBCONJ&quot;: &quot;01041201&quot;, &quot;ID_TEMA&quot;: &quot;0104&quot;, &quot;LITERAL&quot;: &quot;01&quot;, &quot;NDESCR_CA&quot;: &quot;L\\u00edmit de districte (pol\\u00edgon)&quot;, &quot;NDESCR_EN&quot;: &quot;District boundary (polygon)&quot;, &quot;NDESCR_ES&quot;: &quot;L\\u00edmite de distrito (pol\\u00edgono)&quot;, &quot;NIVELL&quot;: &quot;ADM_02_PL&quot;, &quot;NOM&quot;: &quot;Ciutat Vella&quot;, &quot;ORD_REPRES&quot;: 5, &quot;PERIMETRE&quot;: 21366.962, &quot;RANGESCALA&quot;: &quot;1-150000&quot;, &quot;SCONJ_DESC&quot;: &quot;Districte&quot;, &quot;SEC_CENS&quot;: &quot;-&quot;, &quot;TEMA_DESCR&quot;: &quot;Unitats Administratives&quot;, &quot;TERME&quot;: &quot;080193&quot;, &quot;TIPUS_POL&quot;: null, &quot;TIPUS_UA&quot;: &quot;DISTRICTE&quot;, &quot;VALOR1QGIS&quot;: &quot;0&quot;, &quot;VALOR2QGIS&quot;: &quot;0&quot;, &quot;WEB1&quot;: &quot;http://www.bcn.cat/ciutatvella&quot;, &quot;WEB2&quot;: &quot;http://www.bcn.cat/estadistica/catala/dades/guiadt01/index.htm&quot;, &quot;WEB3&quot;: &quot;http://www.bcn.cat/estadistica/catala/documents/districtes/01_CiutatVella_2017.pdf&quot;, &quot;ZUA&quot;: &quot;-&quot;}, &quot;type&quot;: &quot;Feature&quot;}, {&quot;geometry&quot;: {&quot;coordinates&quot;: [[[2.186895464856943, 41.40165447820544], [2.186891937434534, 41.40086739377561], [2.186886950834241, 41.399755321985864], [2.186885658725495, 41.39946703333652], [2.186880166922236, 41.39824211357179], [2.186872884877826, 41.396617881095196], [2.186865950299555, 41.395071129565316], [2.186865489336856, 41.39496837141036], [2.1868194529311, 41.39495875211949], [2.186776578289043, 41.39494287782766], [2.186738351411771, 41.39492129859111], [2.186728337903043, 41.3949130607106], [2.186706093168321, 41.39489476056457], [2.186680921312133, 41.394864182312595], [2.186663706619042, 41.394830622972286], [2.186655044665169, 41.39479524332062], [2.186655234782003, 41.39475926689292], [2.186664270984134, 41.39472394028531], [2.186681840185829, 41.39469048450166], [2.18670733580943, 41.39466005902007], [2.18673169464624, 41.39463945268453], [2.185811058241355, 41.393958271620136], [2.184675185666613, 41.3931178070396], [2.183884493566991, 41.39253273151331], [2.183527257213312, 41.392268386753834], [2.182380953884802, 41.39142013297261], [2.18132330009658, 41.39222223068553], [2.180229110053369, 41.391347826209234], [2.179859179894687, 41.39105219562046], [2.177490084359252, 41.39016391655536], [2.177392417503349, 41.39009153300306], [2.175850816864574, 41.38894897190959], [2.173757538549923, 41.38894846082067], [2.173408853054215, 41.38894837228056], [2.172765375273975, 41.388474245872274], [2.172762175347235, 41.38847060004649], [2.171702322751796, 41.38726300127437], [2.171510191088969, 41.38704408124207], [2.171335976383984, 41.386949580065746], [2.171138039452721, 41.38684220895572], [2.170284247887462, 41.38587856060916], [2.170133021072095, 41.38576560573417], [2.16996327720245, 41.385666535478066], [2.169768906400506, 41.385573686219665], [2.169358344440712, 41.385539713886565], [2.164713785844914, 41.385930198550525], [2.164010766949843, 41.38539849587451], [2.16383423289176, 41.38412503621265], [2.163584162322806, 41.3823191648073], [2.163490042765164, 41.381642026915664], [2.163310911527714, 41.38034968865456], [2.163088770566829, 41.37874699364547], [2.163214163633121, 41.37865071892655], [2.164667339158898, 41.37753496315698], [2.165462541612052, 41.37692437882507], [2.16612826913998, 41.376413195454056], [2.166778327472239, 41.3759140332478], [2.167788162518191, 41.375167405553235], [2.16779689387186, 41.374976161401854], [2.165458036051831, 41.37498231350273], [2.165227479055005, 41.374982920971824], [2.163385026276936, 41.374987758839055], [2.162149961129558, 41.37499098510248], [2.161543300802212, 41.3749925652936], [2.160914458391294, 41.37499419942011], [2.1593349626092, 41.37499829002383], [2.158674927337018, 41.3749999920774], [2.15769973010303, 41.37500250132914], [2.156237860347797, 41.37500871645347], [2.156086495528926, 41.3750081279922], [2.154025116275216, 41.37500261518766], [2.15098919978443, 41.37503515284545], [2.14989886555104, 41.37507448162715], [2.149766712937192, 41.37516818962989], [2.149528578732915, 41.375337047643775], [2.149527146054031, 41.375338063011775], [2.149346304034843, 41.37547545653915], [2.149226886037054, 41.37556618378466], [2.148957851775215, 41.37576772381805], [2.148236198825464, 41.376232229212086], [2.147252169230322, 41.37697616732009], [2.147054705022503, 41.3771254500332], [2.145931821271522, 41.37797432618639], [2.144837332786944, 41.378801704920626], [2.143333516195852, 41.37993846282128], [2.142903174993033, 41.38026375317301], [2.142889007414849, 41.380274462062985], [2.142420781314037, 41.38062838339485], [2.142315831952455, 41.38070771128655], [2.14230283948269, 41.38071753261462], [2.142311311448244, 41.38083995110851], [2.14241911407201, 41.38239769297804], [2.142534099156251, 41.38405915256865], [2.142540217774035, 41.38414755370405], [2.142558806645326, 41.38441614746096], [2.142624374983255, 41.385363530305646], [2.142641927136334, 41.38561713048404], [2.142641936207504, 41.38561725935896], [2.142641962922323, 41.38561750185989], [2.142645679029132, 41.38565109151243], [2.142751049243238, 41.38660345725624], [2.142939731698577, 41.387677542903184], [2.143197712924218, 41.388718520906046], [2.143529434907914, 41.390043408574805], [2.143649325158597, 41.390500557723094], [2.143801570316877, 41.39102711604848], [2.143958233663882, 41.3914714595523], [2.144344469154218, 41.39238404447907], [2.144401134825884, 41.392371855367834], [2.144451841151866, 41.39236533266944], [2.144519255539845, 41.392363527997006], [2.144582638019723, 41.392368178706604], [2.144656959163048, 41.39238150384823], [2.144727800106793, 41.39240299989356], [2.144789272079394, 41.39243085490854], [2.144835243911135, 41.39245820376525], [2.144858314228924, 41.39247616322903], [2.144890338470922, 41.39250109257642], [2.144939456806611, 41.39255368305933], [2.144967692114183, 41.3925970207687], [2.144990481821863, 41.392650640594354], [2.145001881632811, 41.392706283533116], [2.145002325466546, 41.39275456700311], [2.144995040080953, 41.39280300921788], [2.144978354118133, 41.39285501159646], [2.145564747656224, 41.39300343528287], [2.146160861598794, 41.39315431600234], [2.146216614080187, 41.393168427411716], [2.146685325053533, 41.39328705893585], [2.147922132872795, 41.39360008443588], [2.149617353373268, 41.3940291044708], [2.151308014687467, 41.394456940877056], [2.154710724281917, 41.39531793327806], [2.155710715849695, 41.39557093856424], [2.155904348799861, 41.395619938629764], [2.158651313819739, 41.396315029125134], [2.159226474037774, 41.39646055739538], [2.159545496476452, 41.39670009597386], [2.161572967757531, 41.39822236735399], [2.161597023139446, 41.39824042791659], [2.161841343057059, 41.39842386112803], [2.162908155711874, 41.39922479832406], [2.16410839377384, 41.40012587284228], [2.165248230542722, 41.400981566317064], [2.166218154386184, 41.4017096773398], [2.16622469293711, 41.40170475709323], [2.167353488143065, 41.400855341173894], [2.168664993104692, 41.40183820461851], [2.169778032664534, 41.402672399153204], [2.172042936888601, 41.40436948347454], [2.170897157073123, 41.405236224965314], [2.169787134652652, 41.40607588417661], [2.168659305831135, 41.40692897990924], [2.169970747924344, 41.40791286585403], [2.172137296952969, 41.40953800195278], [2.173241829016436, 41.41036674158046], [2.174328932947213, 41.41118219636064], [2.175467790126732, 41.41203643850192], [2.176594041931465, 41.41118311054461], [2.176892960415358, 41.410956623499125], [2.177153271743688, 41.41075938606339], [2.177463266335962, 41.41052450249194], [2.177723482403977, 41.41032733332144], [2.178879820291535, 41.409449535154586], [2.180019246590986, 41.4085876983072], [2.181116270378959, 41.407756414137516], [2.182252102165641, 41.40689369332409], [2.183102530707275, 41.40625116325633], [2.183382612125412, 41.406038900363576], [2.184945274073236, 41.404854580228665], [2.185669310220754, 41.4043058212446], [2.185590094578632, 41.40424657766472], [2.185590092208614, 41.40424657584646], [2.18460846891174, 41.40351242173774], [2.184608467726759, 41.403512420828584], [2.184527022162524, 41.40345150693426], [2.184963587766618, 41.40312062598641], [2.184966841535549, 41.403118159365], [2.185175317334287, 41.40296015023921], [2.185736673125043, 41.40253467779977], [2.185863504592168, 41.402438546621575], [2.185863505799632, 41.40243854572936], [2.186738465353725, 41.401775362475085], [2.186738470183497, 41.40177535890621], [2.186895473767839, 41.40165635452926], [2.186895464856943, 41.40165447820544]]], &quot;type&quot;: &quot;Polygon&quot;}, &quot;properties&quot;: {&quot;AEB&quot;: &quot;-&quot;, &quot;ANNEXDESCR&quot;: &quot;Grup - I&quot;, &quot;AREA&quot;: 7464303.216, &quot;AREA_I&quot;: &quot;-&quot;, &quot;BARRI&quot;: &quot;-&quot;, &quot;CODI_UA&quot;: &quot;02&quot;, &quot;COL_DESCR&quot;: &quot;Negre&quot;, &quot;COL_FARCIT&quot;: &quot;1&quot;, &quot;CONJ_DESCR&quot;: &quot;Districtes&quot;, &quot;DISTRICTE&quot;: &quot;02&quot;, &quot;DOCUMENTA&quot;: null, &quot;ELEM_DESCR&quot;: &quot;L\\u00edmit de districte&quot;, &quot;ESTIL_ID&quot;: &quot;0&quot;, &quot;ESTIL_QGIS&quot;: &quot;S\\u00f2lid&quot;, &quot;FCOL_DESCR&quot;: &quot;Negre&quot;, &quot;FHEX_COLOR&quot;: &quot;#000000&quot;, &quot;GRANBARRI&quot;: &quot;-&quot;, &quot;GRUIXDIMEN&quot;: 70.0, &quot;GRUIX_ID&quot;: &quot;6&quot;, &quot;HEX_COLOR7&quot;: &quot;#000000&quot;, &quot;ID_ANNEX&quot;: &quot;01&quot;, &quot;ID_CONJUNT&quot;: &quot;010412&quot;, &quot;ID_ELEMENT&quot;: &quot;0104120101&quot;, &quot;ID_SUBCONJ&quot;: &quot;01041201&quot;, &quot;ID_TEMA&quot;: &quot;0104&quot;, &quot;LITERAL&quot;: &quot;02&quot;, &quot;NDESCR_CA&quot;: &quot;L\\u00edmit de districte (pol\\u00edgon)&quot;, &quot;NDESCR_EN&quot;: &quot;District boundary (polygon)&quot;, &quot;NDESCR_ES&quot;: &quot;L\\u00edmite de distrito (pol\\u00edgono)&quot;, &quot;NIVELL&quot;: &quot;ADM_02_PL&quot;, &quot;NOM&quot;: &quot;Eixample&quot;, &quot;ORD_REPRES&quot;: 5, &quot;PERIMETRE&quot;: 13931.644, &quot;RANGESCALA&quot;: &quot;1-150000&quot;, &quot;SCONJ_DESC&quot;: &quot;Districte&quot;, &quot;SEC_CENS&quot;: &quot;-&quot;, &quot;TEMA_DESCR&quot;: &quot;Unitats Administratives&quot;, &quot;TERME&quot;: &quot;080193&quot;, &quot;TIPUS_POL&quot;: null, &quot;TIPUS_UA&quot;: &quot;DISTRICTE&quot;, &quot;VALOR1QGIS&quot;: &quot;0&quot;, &quot;VALOR2QGIS&quot;: &quot;0&quot;, &quot;WEB1&quot;: &quot;http://www.bcn.cat/eixample&quot;, &quot;WEB2&quot;: &quot;http://www.bcn.cat/estadistica/catala/dades/guiadt02/index.htm&quot;, &quot;WEB3&quot;: &quot;http://www.bcn.cat/estadistica/catala/documents/districtes/02_Eixample_2017.pdf&quot;, &quot;ZUA&quot;: &quot;-&quot;}, &quot;type&quot;: &quot;Feature&quot;}, {&quot;geometry&quot;: {&quot;coordinates&quot;: [[[[2.148236198825464, 41.376232229212086], [2.148957851775215, 41.37576772381805], [2.149226886037054, 41.37556618378466], [2.149346304034843, 41.37547545653915], [2.149527146054031, 41.375338063011775], [2.149528578732915, 41.375337047643775], [2.149766712937192, 41.37516818962989], [2.14989886555104, 41.37507448162715], [2.15098919978443, 41.37503515284545], [2.154025116275216, 41.37500261518766], [2.156086495528926, 41.3750081279922], [2.156237860347797, 41.37500871645347], [2.15769973010303, 41.37500250132914], [2.158674927337018, 41.3749999920774], [2.1593349626092, 41.37499829002383], [2.160914458391294, 41.37499419942011], [2.161543300802212, 41.3749925652936], [2.162149961129558, 41.37499098510248], [2.163385026276936, 41.374987758839055], [2.165227479055005, 41.374982920971824], [2.165458036051831, 41.37498231350273], [2.16779689387186, 41.374976161401854], [2.169998620978321, 41.374955643370214], [2.172730480326962, 41.37479391947328], [2.173186764703199, 41.37476698224609], [2.17352924462394, 41.37474676248792], [2.175041341603602, 41.37464951620555], [2.175195320787917, 41.37463773022564], [2.175297710160869, 41.37462137680102], [2.175407341144714, 41.37458137005759], [2.175529377764088, 41.37450847552136], [2.175738120761733, 41.374291950850555], [2.175605363772879, 41.37420663347595], [2.175503658213367, 41.3740614158625], [2.175459291916152, 41.37393088417299], [2.175460015330445, 41.37379614387277], [2.175505780609511, 41.373665885985936], [2.175593636556718, 41.373548515862595], [2.175628851607839, 41.373521054671436], [2.175553960005622, 41.37342766936935], [2.175472784361737, 41.37332645197743], [2.175638443539722, 41.37325232417518], [2.175729413299673, 41.37321161774806], [2.175735029374574, 41.373209105241514], [2.175829562293063, 41.373166802901686], [2.175851858220052, 41.37315682641078], [2.175857572922901, 41.37315426776542], [2.175859362378656, 41.37315346630044], [2.175863704378886, 41.37315147070261], [2.175897333179873, 41.373136065459356], [2.176044577478744, 41.373070175886646], [2.176055441013984, 41.37306517162248], [2.176060994261, 41.37306261361236], [2.176066095271266, 41.37306026314019], [2.176200458020041, 41.372998366948806], [2.176291694819365, 41.37295634238182], [2.17629909191214, 41.372952934637006], [2.176302381506524, 41.37295141969756], [2.176438253392365, 41.37291745108069], [2.176529850201352, 41.37289455189616], [2.176939949031315, 41.37279202478201], [2.177094936528503, 41.37275327670013], [2.177288123061265, 41.37251267963794], [2.177321231100237, 41.372497648568675], [2.177353900331874, 41.37248280261025], [2.177452093160932, 41.37243817952998], [2.177525240355215, 41.37240494122858], [2.177598482489356, 41.37237165942197], [2.177620058229683, 41.37236185578803], [2.177621548332262, 41.37236117826158], [2.177621216972524, 41.37236071380688], [2.177618522720917, 41.37236196101146], [2.177460947979994, 41.3721605224834], [2.17737594405196, 41.372119416958185], [2.177089610076669, 41.37214360861374], [2.176751736162065, 41.36984995357409], [2.177108837027274, 41.36982090031387], [2.177039177895173, 41.36935660393462], [2.176682224444898, 41.36938573460497], [2.176562008993912, 41.36856603945252], [2.176516619581903, 41.368250306577096], [2.176392694644426, 41.36742280653869], [2.176688881530119, 41.36739790339298], [2.176519782750125, 41.36713181761731], [2.17967546695627, 41.36597880804634], [2.179826669610105, 41.36622069444598], [2.180329601540438, 41.36603119213791], [2.180696839258862, 41.365895694649886], [2.180712313048514, 41.3658879142073], [2.180729038201393, 41.365875692943625], [2.180743549418799, 41.365858862067036], [2.18075310461208, 41.3658367895436], [2.180755553291284, 41.36581315315881], [2.180752341804742, 41.36579561061722], [2.18072150323853, 41.36575387528297], [2.180236934501614, 41.364990277462155], [2.179704796396141, 41.364163411709505], [2.179313673854453, 41.36355987261594], [2.178992877258061, 41.3636778630599], [2.17927950483354, 41.364120169620314], [2.178067170502276, 41.36456608279027], [2.177225417883125, 41.364871800654065], [2.176824512356272, 41.36502035039623], [2.175983083564945, 41.36532411580934], [2.173480070088821, 41.362035420193806], [2.173843980287041, 41.361879890478974], [2.173691168579824, 41.361645713931466], [2.174042274058888, 41.36151352026975], [2.174536145704683, 41.361338363122755], [2.174907912519905, 41.36120471797104], [2.175361350912199, 41.361033852197906], [2.176160359891138, 41.36073983795088], [2.176174398540931, 41.360762089827325], [2.176739010182057, 41.36055284597387], [2.176125722576282, 41.3596108092493], [2.176097147363865, 41.35962137049781], [2.175857343542101, 41.35925342329552], [2.175643251708991, 41.35891669169555], [2.175464184438517, 41.35864393909832], [2.17544751778143, 41.35863075872435], [2.175424503738175, 41.35862035223214], [2.175403395958466, 41.35861425599898], [2.175379816364378, 41.35861266384286], [2.175359360873381, 41.358615507771475], [2.17532892840909, 41.3586245314443], [2.175007377352841, 41.358747774024394], [2.170930877367584, 41.36025131907194], [2.170600566638921, 41.35973616684717], [2.17029607377856, 41.35927110073433], [2.170198749816177, 41.35911636982586], [2.17001718326512, 41.35883600642537], [2.169900529063395, 41.358647393539215], [2.172955072748975, 41.35659373906149], [2.173039419057361, 41.35653576905046], [2.173050214317335, 41.356525379841386], [2.1730544042404, 41.356515483619944], [2.173051290446538, 41.3565026975339], [2.172814137056789, 41.35614803193479], [2.172042297657366, 41.35496798567754], [2.171527312267764, 41.35418496322212], [2.170929526126266, 41.35327141680894], [2.170623309883286, 41.35280863562107], [2.168100708927506, 41.348960942315614], [2.167925456721787, 41.34869917644453], [2.167608422399308, 41.348209700384615], [2.167385935930348, 41.34787090156194], [2.167133590350927, 41.34749288342524], [2.16690655269615, 41.34714391718982], [2.16356276009389, 41.34839562114622], [2.163634629595172, 41.34850445047989], [2.163673663110874, 41.34848981311139], [2.163696361698932, 41.34852089654095], [2.163377816560576, 41.348641237307326], [2.163041201749476, 41.348451315210006], [2.163069795864937, 41.34842225757172], [2.163142997665164, 41.34846432379667], [2.16323920864457, 41.348369254912], [2.162879240646299, 41.34816239044226], [2.162500018571038, 41.347947097764354], [2.161493904655748, 41.347380059239654], [2.16040629019676, 41.34676167770255], [2.157673436235563, 41.34520973624807], [2.157689683283959, 41.34519279482133], [2.15396583625675, 41.343074515865304], [2.15376518666421, 41.34296222947746], [2.153371704261258, 41.34273597469262], [2.153308282199516, 41.342701135209445], [2.15311326100059, 41.342734865836675], [2.153005955351783, 41.34294312392678], [2.153010637810199, 41.34298761977135], [2.153217673145034, 41.344463142451794], [2.152853926365111, 41.34449290173855], [2.153007398240952, 41.345599728631086], [2.152967004362392, 41.34560289024241], [2.152959504094939, 41.34559872758783], [2.152841199266212, 41.3456075849605], [2.15283664190343, 41.34561245153065], [2.152642417124738, 41.34562831616858], [2.152740584973543, 41.34634020450668], [2.152632893904094, 41.34634899567884], [2.152628913576431, 41.34634622807078], [2.152573007173232, 41.34635100477493], [2.15256990638549, 41.34635415260617], [2.151957489652441, 41.34640145293903], [2.151936413657143, 41.34624968224381], [2.151948468601591, 41.34624919459246], [2.151924422922342, 41.34606007464387], [2.151910072329136, 41.34606061743607], [2.151888102109768, 41.34590408413757], [2.151901403716555, 41.34590331743602], [2.15188212107147, 41.34577548403761], [2.151866810605839, 41.34574223235953], [2.151849653867099, 41.345727828922165], [2.151835439869472, 41.345721535967016], [2.151823468479333, 41.345719276914025], [2.151809666338334, 41.34571993182681], [2.151794725447082, 41.34572636120434], [2.151782394795135, 41.34573888992748], [2.151769956125048, 41.345763424942525], [2.151771270411608, 41.34579938383699], [2.151787200274164, 41.34591292455306], [2.151801555511314, 41.345912021507594], [2.151822383761728, 41.34606811404232], [2.151809846101721, 41.346068958425576], [2.151835602232278, 41.34625888366905], [2.151849379180664, 41.34625833665861], [2.151869717172744, 41.346408012174514], [2.151243975189487, 41.34645781369101], [2.151240762642848, 41.34645483551592], [2.151183327150917, 41.346459528206594], [2.151181755197271, 41.34646275933682], [2.151091582830465, 41.346470020883025], [2.151089036788126, 41.34646726380177], [2.151032373684407, 41.34647138563017], [2.15102984182799, 41.346474897919315], [2.150924281396863, 41.34648342397414], [2.150407243242473, 41.342739908189024], [2.150338356461963, 41.34225299966677], [2.150259088424176, 41.34166739048021], [2.150196841005745, 41.341229829270986], [2.150037005653476, 41.3400588079782], [2.149978333942276, 41.3396626627652], [2.149949130306849, 41.33943697838401], [2.149879045698522, 41.338948934533015], [2.149803025375366, 41.33836506915766], [2.14974500678799, 41.33796945998981], [2.149631675717206, 41.33713665546679], [2.149604651064094, 41.33693013712514], [2.149567674144022, 41.33667561588508], [2.149559900494535, 41.336669595423224], [2.149554881621085, 41.33666807568858], [2.145612559155716, 41.33655062658047], [2.14562784006828, 41.336324459667274], [2.14561208017205, 41.33632326176175], [2.14531429002923, 41.33642677265327], [2.144279259496092, 41.33474740038535], [2.147280375768714, 41.33369746635241], [2.145848812433906, 41.33137118023295], [2.146085358783186, 41.33128586815645], [2.145901658095072, 41.33098771398503], [2.147689475418805, 41.33036642777843], [2.148546155078128, 41.33006617729229], [2.148680513900945, 41.330018091533695], [2.148688316773492, 41.330019047306926], [2.148710342565341, 41.33001614764313], [2.148753564757067, 41.330009801713025], [2.148783316372197, 41.33000092408992], [2.148809117818507, 41.329992557700365], [2.148834915741285, 41.32998446150671], [2.148842449389233, 41.32998406684189], [2.148850080251699, 41.32998538433805], [2.148866860161519, 41.32999073283384], [2.148883657658222, 41.329994730318404], [2.148898090000356, 41.329996818715976], [2.148912652382243, 41.329998097390046], [2.148922047445058, 41.330001589749514], [2.148927142087481, 41.33000496023207], [2.148933285168147, 41.33001041021349], [2.148936929536287, 41.33001503103427], [2.148948954379024, 41.33003682824997], [2.148961097546326, 41.33005871641522], [2.149007238452795, 41.330131118327586], [2.149052903848176, 41.33020333655317], [2.14910307472088, 41.33028747809118], [2.149152525269164, 41.33037188450897], [2.149193007278213, 41.330438389574375], [2.149210439741601, 41.33046707250636], [2.149269074834544, 41.33056199557233], [2.149321413476288, 41.33064489197198], [2.149374111891137, 41.33072770093004], [2.149416642075938, 41.33079295998867], [2.149420277148637, 41.33079830133231], [2.149441500689818, 41.330829534371134], [2.149462605932313, 41.33086067645576], [2.149487973017469, 41.33088572486889], [2.149515247282377, 41.330911147673355], [2.149527889845034, 41.330931418100256], [2.149532756164183, 41.33095235167101], [2.149530140270363, 41.33096971699157], [2.149523581187763, 41.330987053173715], [2.149508186831362, 41.33101297135325], [2.149493389915707, 41.33103889394557], [2.14948776448313, 41.33105794846718], [2.149488352562954, 41.331077048905556], [2.149493299711524, 41.331091767837144], [2.149499681922646, 41.33110640729733], [2.149524466902958, 41.331157843640796], [2.149552610553181, 41.33120831396183], [2.14956588695115, 41.3312257967142], [2.14957438253413, 41.331234146472625], [2.149665278979042, 41.33128354914535], [2.149681174830963, 41.331292584102506], [2.149704466252631, 41.33130266453099], [2.149726055526575, 41.33131498427726], [2.14974341343028, 41.331331055947736], [2.149756084250153, 41.33134916473548], [2.149804377815441, 41.3314307699612], [2.149852790991392, 41.33151237604933], [2.14988836231234, 41.331570647679385], [2.14992033717699, 41.33162060575132], [2.149950750500659, 41.331671182812066], [2.14997163372594, 41.3317102498394], [2.149992516975846, 41.331749316862926], [2.149998704867794, 41.33176053197488], [2.15000489393263, 41.33177165701924], [2.150014439312491, 41.331781996167614], [2.150026751743986, 41.33179091453605], [2.150044545592293, 41.33180104437045], [2.150062332421784, 41.33181171460566], [2.150077174180931, 41.3318283080988], [2.15008661421809, 41.331846753294045], [2.150087249303821, 41.33186225103838], [2.150089805630026, 41.3318770423632], [2.150106251232134, 41.33189896217423], [2.150122817508089, 41.33192079279803], [2.150145372546361, 41.3319507744723], [2.15016792760516, 41.331980756142165], [2.15018299094988, 41.33200789013735], [2.150196852359052, 41.33203555571107], [2.150228493785205, 41.33208361963864], [2.150261937010711, 41.332130976253055], [2.150291085459295, 41.332168572953066], [2.150320714253051, 41.332205993039985], [2.150339833445775, 41.332233697412065], [2.15035619144462, 41.33226237223161], [2.150359030134103, 41.332273832826104], [2.150356729458527, 41.33228534555595], [2.150350237166311, 41.33229754794876], [2.150341959499282, 41.33230919670536], [2.150319667321553, 41.33233254193951], [2.150297839054961, 41.332356971504886], [2.150291822484915, 41.33237854529902], [2.150298277672484, 41.33239678828677], [2.150304734033982, 41.33241494120687], [2.15035181036094, 41.33247077550034], [2.15037222811042, 41.33247856466578], [2.150437021147531, 41.33249806699142], [2.150468220738096, 41.33250658427349], [2.15048535171663, 41.332512565655286], [2.150502162001187, 41.3325303536165], [2.150542270311495, 41.3325835151914], [2.150559747365067, 41.33261805317285], [2.150575836145668, 41.332649067945795], [2.150592523579607, 41.332679997058726], [2.150619075187155, 41.33271514245865], [2.150646947104422, 41.33274984721657], [2.150670944941199, 41.33278839664145], [2.150693141037957, 41.33282765337238], [2.150705374371833, 41.332851883983956], [2.150713344703052, 41.33287585794669], [2.150716727571322, 41.33290247331065], [2.150736404691425, 41.33292589411938], [2.150838635349462, 41.33306349172151], [2.150841239760117, 41.333064474749236], [2.150856978485717, 41.33309485636712], [2.150871399088851, 41.333116310745545], [2.150885818531705, 41.333137855189456], [2.150898228383051, 41.33315623305034], [2.150892509709363, 41.33315818964354], [2.150902114005969, 41.33317414087858], [2.15090878938001, 41.333171858062286], [2.150912550813203, 41.333174758332305], [2.150919591869919, 41.33318103452109], [2.150924210053661, 41.333189832974696], [2.150925197200019, 41.33319111933479], [2.150928325541597, 41.33319316912119], [2.150935329056752, 41.33319681481633], [2.150936993833746, 41.33319929517707], [2.150937152258876, 41.33320642134793], [2.150934240531454, 41.33322082101545], [2.150929787964133, 41.333232398948034], [2.150929650380165, 41.333235631657104], [2.150932201075669, 41.333238911221386], [2.150938308853555, 41.33324251427781], [2.1509407199959, 41.333244576788005], [2.150952735440084, 41.33326167175487], [2.150961245399742, 41.33326986838606], [2.150973932104786, 41.33328036574071], [2.150978993892692, 41.33328629404394], [2.150979432769029, 41.33328746826795], [2.150978851165086, 41.33328992304895], [2.150975845515247, 41.33329499016346], [2.150975789805142, 41.33329743981638], [2.150983522985359, 41.33331299892244], [2.15098897410113, 41.33332023619745], [2.151001556982975, 41.333334128643735], [2.151011783653473, 41.33334540952231], [2.151029569506135, 41.3333598808013], [2.151032235538449, 41.33336532303517], [2.151033877252585, 41.33337326182251], [2.151035754576933, 41.333376860690485], [2.151052629560445, 41.33339521652475], [2.151067315009746, 41.33341469116211], [2.151073661368284, 41.33342477242666], [2.151074054246596, 41.33342764874505], [2.151073500095336, 41.33343167104925], [2.151074121746707, 41.333433495167355], [2.151092853482266, 41.33345611627262], [2.15110818308343, 41.33347660450569], [2.151115204963604, 41.33348712311462], [2.151119636234353, 41.33349651468218], [2.151124165413551, 41.333509410923234], [2.151127071758689, 41.33351567461774], [2.151140645083347, 41.33353796942527], [2.151144916996391, 41.33354582852656], [2.151152617576669, 41.33356206294935], [2.151155083642329, 41.3335672605005], [2.151157350516151, 41.333575834427805], [2.151157054581139, 41.333580218940256], [2.151155351524507, 41.33358436788487], [2.151153880725158, 41.33358627565319], [2.151149394830083, 41.333590295981935], [2.151139114179662, 41.333596975847165], [2.151122470477452, 41.33360682448817], [2.151113784327917, 41.333611273222424], [2.151108739072845, 41.33361235295033], [2.151101466855029, 41.333612830758966], [2.151098357775509, 41.3336138977447], [2.151089384059564, 41.33362024495698], [2.15107506073345, 41.33362810201421], [2.151071078560875, 41.33363106316008], [2.15106613616228, 41.33363710682541], [2.151064383429122, 41.33364139952359], [2.151063470662289, 41.33365003106708], [2.151064528336394, 41.33365601089915], [2.151065948291725, 41.33365893983134], [2.15108284911699, 41.333681754606786], [2.151115061419168, 41.333708969926626], [2.151141353193347, 41.333740249030015], [2.151144023625725, 41.33374259268344], [2.151151030134728, 41.333746013197704], [2.151156270847393, 41.333746448184236], [2.151163648030532, 41.33374525053935], [2.151166910377768, 41.33374526559276], [2.151170612215297, 41.33374732860975], [2.151175318914629, 41.33375115551728], [2.151177820722547, 41.33375175946194], [2.151182825087721, 41.33375014798184], [2.151189695642613, 41.33374655058061], [2.151193200348745, 41.33374538742678], [2.151199299652927, 41.33374504508346], [2.151207846395647, 41.333744891933875], [2.151211767582195, 41.33374386696482], [2.151216972819821, 41.33374059056101], [2.151223067421554, 41.33373508683425], [2.151230317177981, 41.33373081665811], [2.151234172979613, 41.33372930479638], [2.151239693534993, 41.33372843574274], [2.151241386747874, 41.33372872746489], [2.15124463929723, 41.33373041785506], [2.151251002452875, 41.33373552704511], [2.151254300345827, 41.33373740692875], [2.151260798592583, 41.3337385537761], [2.151270127365612, 41.333739838595356], [2.151273651248784, 41.33374180121328], [2.151281083653045, 41.333751079792044], [2.151288494547654, 41.33376201560778], [2.15129036926326, 41.33377226205155], [2.151302861204567, 41.33379685480709], [2.15131033590531, 41.33381024115558], [2.151322189548312, 41.333832451198994], [2.151328267918342, 41.33385029501291], [2.151332093856207, 41.3338575292948], [2.151347294131414, 41.333872341761484], [2.151357320526694, 41.333888935608215], [2.151361631986447, 41.33389743453137], [2.151366876578908, 41.333910462143585], [2.151372024250988, 41.333926353453606], [2.151375987149842, 41.33393776826422], [2.151378646142488, 41.33394099457133], [2.151383905705701, 41.333944582341935], [2.151386198443881, 41.333946562901325], [2.151393797480053, 41.333955896746765], [2.151396912247827, 41.33396083785559], [2.15139890836458, 41.33396725696798], [2.151400299806101, 41.33397606763997], [2.151402110639438, 41.33398018845148], [2.151412755793893, 41.33399422870075], [2.151419970113909, 41.33400373985955], [2.151423271520788, 41.334009033639646], [2.151429429953014, 41.33401887029333], [2.151432868316951, 41.33402834460324], [2.151436059507083, 41.33403844762167], [2.151439653334903, 41.334047914069984], [2.151449658505823, 41.33406614713259], [2.151461957066335, 41.334076182183864], [2.151473192708551, 41.33409445133914], [2.151477754815236, 41.33410389790226], [2.15149027609483, 41.334133607161895], [2.151498542049776, 41.33415233182244], [2.151502130075956, 41.33416316737907], [2.151503899468214, 41.33416403614455], [2.151507375527494, 41.33416416085496], [2.151508900639764, 41.33416451438699], [2.151520534845861, 41.33417049111999], [2.151524735386443, 41.33417464756223], [2.151529434211701, 41.33418368978972], [2.151534270907535, 41.33419592171908], [2.151537097297276, 41.33420190557801], [2.151547294853425, 41.33421913120038], [2.151548367218028, 41.33422490396135], [2.151558188710745, 41.33423427219482], [2.151564569867723, 41.33425089319559], [2.151569397695658, 41.334260125531664], [2.151572711983516, 41.334264428567714], [2.151581418107852, 41.33427133851331], [2.151587555262163, 41.33427729273158], [2.151591969240772, 41.33428434217995], [2.151596093709849, 41.33429436199756], [2.151598553380853, 41.33429913613501], [2.151601818793218, 41.33430260110437], [2.151606804285457, 41.33430705157264], [2.151608371882139, 41.33430965731315], [2.151607141502768, 41.33431606164493], [2.151607869668868, 41.33432901992199], [2.151610906022738, 41.33433540166056], [2.151624494404601, 41.334349193358044], [2.151647567814224, 41.33437443245263], [2.15163332302417, 41.33437982117759], [2.151644178741354, 41.33439514203414], [2.151659438190353, 41.33438975087866], [2.151664105941983, 41.33441500652678], [2.151682090446118, 41.334443675123524], [2.151691372541902, 41.334465145565524], [2.151692125409714, 41.33447343809413], [2.151704622757476, 41.334482898098706], [2.151716793173732, 41.33449360774675], [2.151721998634886, 41.33449952806777], [2.151723063738424, 41.33450125636712], [2.151723970869285, 41.334505028224214], [2.151724298577037, 41.334512930292696], [2.15172569751567, 41.33451656165327], [2.151734717837749, 41.334528734333205], [2.151750550396998, 41.33455378402357], [2.151753231734079, 41.33456173946921], [2.151754999260681, 41.33457288587282], [2.151757114662863, 41.33457840509898], [2.151758734861627, 41.334580641914], [2.151759586594273, 41.334581314752846], [2.151763253731281, 41.33458421520039], [2.15176433765002, 41.33458449341664], [2.151766741147868, 41.334583466250855], [2.151771784037273, 41.33457981030735], [2.151774017699371, 41.334579898830405], [2.15178346889014, 41.33458741775994], [2.151787598710412, 41.334591501610454], [2.151792975135427, 41.33459806272684], [2.151799169324629, 41.33460883641248], [2.151800295007906, 41.33461418620718], [2.151800644606728, 41.33462132279183], [2.151801736013799, 41.33462470868014], [2.151810353409058, 41.33463846371961], [2.151819265333913, 41.334658994633706], [2.151820967081732, 41.334661394185375], [2.15182554842826, 41.33466567952899], [2.151836165803841, 41.334673585367135], [2.151840338758137, 41.33467802983706], [2.151844237029962, 41.33468706615139], [2.15184957571755, 41.334692852334534], [2.151864507364877, 41.334709049920065], [2.151883972738981, 41.334734126362825], [2.151888908577779, 41.33474425123188], [2.151894194768803, 41.334749478555736], [2.151902946186992, 41.334755668203556], [2.151906402600353, 41.334759152586734], [2.15190791175597, 41.33476165880892], [2.151909717184418, 41.33476712170245], [2.151911863396226, 41.334778559136595], [2.151914209718754, 41.33478378281102], [2.151920596961207, 41.33478981091472], [2.151930802435544, 41.33479722729917], [2.151934343118411, 41.33480158603829], [2.151939454545575, 41.33482028742063], [2.151944466002837, 41.33482826903897], [2.151952133797655, 41.33483876533176], [2.151955109140535, 41.334844326920944], [2.151958322630236, 41.33485548397563], [2.151959180246004, 41.33486307468216], [2.15195887620042, 41.334878223201], [2.151957166570056, 41.3348911725194], [2.151954694955045, 41.33489745060961], [2.151950135516731, 41.334903452095524], [2.151946847793556, 41.33490631029704], [2.151939159197761, 41.33491031606368], [2.151922657973944, 41.33491377048183], [2.151915092629636, 41.334914723583516], [2.151913781491535, 41.33491629925695], [2.151913406591306, 41.3349194041114], [2.151912532304442, 41.33492046957154], [2.15190700382885, 41.334921942106995], [2.151898707210218, 41.334923069970564], [2.151894985487449, 41.33492437566771], [2.151885496857849, 41.33492987243295], [2.151881344773935, 41.33493303052089], [2.151876539288063, 41.33493865187205], [2.151874635378727, 41.33494446574958], [2.151874678985092, 41.334948474446506], [2.151876690814235, 41.334956451977796], [2.151879171106468, 41.3349633250282], [2.15189961536232, 41.33498112154428], [2.151916719306983, 41.33501504404322], [2.151936126510086, 41.33504184950383], [2.151950354936301, 41.335050538576965], [2.151958492536123, 41.335054300656886], [2.151963019909786, 41.33505537889672], [2.151969606938431, 41.335055220258404], [2.151978674985017, 41.335052665867835], [2.15199668344908, 41.33504634012008], [2.152037233441833, 41.33503064142075], [2.152041417939325, 41.335029591341076], [2.15205050165556, 41.33502951414628], [2.152057016819219, 41.33503121053608], [2.152068193597317, 41.33503653529696], [2.152073232547485, 41.335039635000676], [2.152079964936514, 41.33504485495552], [2.152087889411967, 41.33505399298467], [2.152092944148682, 41.335062326210995], [2.152101712794514, 41.335079171944], [2.152112576371688, 41.33510404085349], [2.152114090448737, 41.33510616879053], [2.152118513308162, 41.33510977738578], [2.152128657667832, 41.3351163826195], [2.152131962888626, 41.33512046939014], [2.152141659147214, 41.335142276125666], [2.152150449722394, 41.335162040474], [2.152161683579024, 41.33518784889524], [2.152166735261966, 41.335195497519194], [2.152175359902194, 41.33520501901861], [2.152179372075899, 41.33520988564805], [2.152193546791629, 41.33523009499693], [2.152215608559391, 41.33525403753728], [2.15222028358141, 41.33526124201256], [2.152222597833089, 41.335266177201405], [2.15222593411922, 41.335276164166416], [2.152226065875876, 41.33527798466917], [2.152224655593314, 41.335281676398246], [2.152220448378302, 41.3352890856723], [2.152220652492498, 41.33529269921752], [2.152223741929818, 41.33529683844143], [2.152228946528254, 41.33530191201961], [2.152231015132455, 41.335304593502485], [2.152234844560684, 41.33531249433997], [2.152237015533776, 41.33531741946551], [2.15223962752147, 41.33532335668906], [2.152242847863489, 41.33532846068831], [2.152250569210328, 41.335336678435986], [2.152262170601404, 41.335347050553224], [2.152267393384122, 41.33535256563526], [2.152281038395263, 41.33537031200052], [2.152285778551725, 41.335379867932495], [2.152288344184381, 41.335389380824715], [2.152290675995067, 41.335402179763165], [2.152292207130811, 41.335408523373204], [2.152299505021495, 41.33543465408502], [2.152305281436411, 41.33544724419724], [2.152327506799571, 41.33548069993015], [2.152345552798815, 41.33550927879635], [2.152350459610907, 41.33551704344355], [2.152356187814475, 41.335527822673455], [2.152365809354128, 41.33554987204333], [2.152378153500218, 41.33558592123564], [2.152381799702255, 41.335590442874214], [2.152388338638399, 41.33559584153767], [2.152390797518259, 41.335598841157335], [2.152394409394727, 41.33560877610113], [2.152397552699143, 41.33562258986291], [2.152400539637275, 41.33562910632939], [2.152407962527569, 41.335640069181494], [2.152425271242496, 41.3356609951654], [2.152434110999035, 41.335668680681835], [2.152446423944594, 41.33567856260315], [2.152451262153139, 41.335684245988574], [2.152469882914137, 41.335715513327415], [2.15247671888195, 41.335732203378875], [2.152461664365247, 41.33573826901669], [2.15247174492002, 41.33575349400828], [2.152480239384015, 41.33575001838263], [2.152482697707984, 41.33576873442965], [2.152481267270963, 41.335774903098915], [2.152482386951475, 41.33577795590778], [2.152485005704114, 41.33577968663326], [2.15249181300634, 41.3357809798084], [2.152501960179163, 41.33578184719819], [2.152504503455582, 41.3357829468365], [2.15250898909171, 41.33578724946274], [2.152514359271932, 41.335797071244045], [2.152518549170071, 41.33580574937823], [2.152520327225793, 41.33580779818532], [2.152525195921859, 41.33581113081252], [2.152536365632748, 41.3358170139458], [2.15254043932958, 41.335820827127925], [2.152553538408318, 41.33584290208797], [2.15256187447527, 41.335861789320596], [2.152564986151404, 41.33586698258617], [2.152574606561309, 41.33587714191795], [2.152586796957811, 41.33588818490002], [2.152590610299217, 41.33589364455126], [2.15259229506276, 41.3358973590734], [2.152594325727837, 41.3359048142899], [2.15259360612999, 41.33590685371313], [2.152591658880477, 41.33590955966593], [2.152591665152513, 41.33591091985735], [2.152594353288851, 41.33591559657126], [2.152601722479172, 41.335924253073514], [2.152616942195513, 41.335937624298595], [2.152622519043887, 41.33594441204041], [2.152631007593376, 41.33595891369692], [2.152632876973651, 41.33596959244035], [2.152646809083712, 41.33598641309353], [2.152658742355613, 41.33600992067129], [2.152664510020519, 41.336015818065064], [2.152673461838341, 41.33602316209964], [2.152676681270607, 41.336027419366694], [2.152679407922889, 41.33603373574244], [2.152683220462208, 41.3360466356491], [2.15268526237654, 41.33605875687523], [2.152686056766145, 41.33606016790682], [2.152686757423517, 41.33606143412699], [2.152688411161907, 41.336062932553546], [2.152692860774919, 41.336065406367695], [2.152708975039259, 41.336071542068595], [2.152712848602812, 41.33607420080037], [2.1527141062415, 41.33607583142423], [2.152714459766174, 41.336077140126555], [2.152713644964376, 41.33608007060042], [2.15271084099281, 41.33608617511478], [2.152711643758832, 41.336088784216535], [2.152722700090969, 41.33609880998556], [2.15273787598503, 41.33611556772339], [2.152743270503911, 41.33612351609529], [2.152752475842175, 41.3361398875892], [2.152756809354718, 41.33614947653754], [2.152762163466778, 41.336162387789834], [2.152765583816903, 41.336168664232204], [2.152771908738395, 41.3361776733392], [2.152778440151657, 41.33618550397242], [2.152797797396138, 41.33621621820755], [2.152799884511891, 41.33622024194617], [2.152801727277762, 41.33622744356315], [2.152802057138356, 41.336228734075824], [2.152802264943093, 41.33623759906806], [2.152800158397019, 41.33625536453185], [2.152798386762857, 41.33626757478171], [2.152796301893407, 41.336273522454924], [2.152792559937753, 41.336279151671945], [2.152789872366765, 41.336281807140296], [2.152783215841343, 41.336286397044894], [2.152768788382355, 41.33629303751816], [2.152740525032501, 41.33630493564632], [2.152731986159448, 41.33630998909246], [2.152728588746958, 41.33631300864456], [2.152726453835934, 41.33631636176395], [2.152726012239843, 41.33631816002971], [2.152727164743515, 41.336326059157635], [2.15273137659031, 41.3363367371286], [2.152732681044395, 41.336342133266825], [2.152734300027635, 41.336356458235976], [2.152737095947777, 41.336362964279225], [2.152740056073602, 41.336366021626716], [2.152754811287763, 41.336401412955276], [2.152764968290592, 41.336414440632204], [2.152774206876065, 41.33642456110542], [2.152783609694235, 41.336429386327715], [2.152793227057777, 41.33643241161186], [2.152804604446449, 41.336432423303044], [2.152816829452677, 41.3364297389574], [2.152826908298412, 41.33643035360333], [2.152842015972045, 41.336430248628076], [2.152866846329767, 41.33642135175436], [2.152877423716842, 41.336420384730765], [2.152889474041151, 41.33642011312406], [2.152898255091811, 41.336417583572256], [2.152912305089331, 41.336417939197204], [2.152932635406859, 41.336431672268105], [2.152936587332402, 41.336440276574166], [2.152940380454478, 41.33645006871233], [2.15295070540841, 41.33646120601644], [2.152953984403579, 41.3364747054946], [2.15296371420213, 41.3364948820311], [2.152974899486475, 41.33651341188334], [2.152991733829895, 41.33655345738827], [2.15300448899259, 41.33657996149486], [2.153009919136933, 41.33659346779492], [2.153019494161678, 41.33661729125858], [2.153029692749926, 41.336630805627394], [2.153037083993983, 41.33663961539221], [2.153042034813825, 41.336652298473126], [2.1530486567828, 41.336665137973284], [2.153066646114029, 41.33668245682591], [2.153069423683306, 41.33668669281481], [2.153075318842057, 41.3366956717192], [2.153082546359509, 41.3367097407048], [2.153092475440243, 41.336721919962336], [2.153105638890358, 41.33673167295684], [2.153117577394823, 41.33675110909557], [2.1531214404946, 41.33676288341058], [2.153129710505272, 41.33678135576481], [2.153139673138572, 41.336798327299284], [2.153149282706563, 41.336820412542124], [2.153158455076124, 41.336843035022106], [2.153170408549299, 41.336861318294595], [2.153180351403816, 41.3368761278599], [2.153206132139785, 41.33691566267295], [2.153216838886827, 41.33693054991621], [2.153225425875513, 41.33694300752996], [2.153227287650069, 41.336957973815714], [2.153229907498278, 41.33696977500975], [2.153236619127617, 41.33697569733458], [2.153241255937617, 41.336986792761444], [2.153247471570458, 41.33699779171309], [2.153251529904125, 41.33700556809293], [2.153259256551654, 41.33701063315629], [2.153263929557283, 41.33701524338886], [2.153267089946687, 41.33702222049446], [2.15326756112249, 41.337023674181836], [2.153269755998717, 41.337030455024646], [2.153273848139496, 41.337039312562325], [2.153277329137735, 41.33704737293634], [2.153285195876363, 41.33706007745878], [2.153290979242905, 41.33706754225535], [2.153301718992976, 41.337078961813845], [2.153294573992686, 41.3370815845006], [2.153305611179936, 41.337098644993745], [2.153317139343786, 41.33709440616467], [2.153326661659908, 41.337102934337956], [2.153331952097181, 41.33711154847666], [2.153341341012666, 41.33712484067858], [2.15334466089177, 41.33713426901774], [2.153346168553373, 41.337141513197764], [2.153346910959003, 41.337145094669594], [2.153351585802219, 41.33715694700848], [2.153359871366165, 41.337166844240954], [2.153367381643874, 41.33717385334312], [2.153385013437415, 41.33720403234272], [2.153391696392212, 41.33721586342157], [2.15340147079305, 41.337225231148075], [2.153405102683672, 41.33723271614271], [2.153410355780894, 41.33725159864707], [2.153414260231016, 41.3372638776802], [2.153418222998899, 41.337271653350946], [2.153425290705963, 41.33728330710627], [2.153435202890737, 41.33730049442492], [2.153443827972737, 41.33731370893892], [2.153453790800012, 41.33732329422887], [2.153462669821461, 41.33733535763874], [2.15347150990879, 41.33734673618527], [2.153483435599912, 41.33735979482193], [2.153486034517075, 41.33737321722036], [2.153494801403177, 41.33738286577082], [2.153501874267015, 41.33739412322559], [2.153505028388257, 41.33740527979641], [2.15351311487245, 41.33741578806887], [2.153524000870839, 41.337424227172086], [2.153532092491573, 41.337434339147364], [2.15353898022744, 41.337445126843924], [2.153546875296212, 41.33745195861258], [2.153557459349993, 41.337457873368834], [2.153562583809215, 41.33747192685551], [2.1535669143115, 41.33748453328951], [2.153569260028722, 41.33749535963994], [2.153574204387231, 41.33750116986377], [2.153579336918807, 41.33750721566842], [2.153591253573813, 41.33751728370996], [2.153599225359617, 41.33752926837616], [2.153607095016165, 41.33754175671531], [2.153617769787014, 41.33755174356025], [2.153622667211193, 41.33756579537441], [2.153629413904434, 41.33757640187648], [2.153637826881253, 41.33758384996311], [2.153641582165815, 41.33759288516146], [2.15364894257758, 41.33760778378468], [2.153656307895312, 41.33761861101637], [2.15366633725687, 41.337626755563754], [2.153666257502509, 41.33763291616335], [2.153665293075074, 41.33764094383433], [2.153666403446738, 41.337651184612845], [2.153667660258554, 41.33765749916251], [2.153663801415627, 41.33766384815354], [2.153657221637836, 41.337669888892506], [2.153649040406621, 41.33767408030747], [2.153641097953229, 41.33767459838439], [2.153633189774745, 41.33767616159231], [2.153623909581106, 41.33768030889334], [2.153617010582001, 41.33768515828159], [2.153609683237154, 41.337689860397965], [2.153599182823392, 41.33769594436084], [2.153593132804952, 41.337705375842916], [2.153586920499621, 41.33771257225083], [2.153580342109166, 41.33771850490458], [2.153578533574126, 41.337725265305224], [2.15357843026542, 41.337729552154386], [2.153581601430594, 41.33774308684945], [2.153589227433658, 41.33775778025502], [2.153606566547524, 41.33779119979517], [2.153619516054998, 41.337801806876605], [2.153626405256914, 41.33780510027016], [2.153633374203708, 41.33780961928087], [2.153643597594787, 41.33781754907496], [2.153653259966307, 41.337824501923635], [2.15366195769138, 41.33782842113025], [2.15366835396075, 41.337832863866815], [2.153679415870622, 41.337835107032326], [2.153690029617533, 41.337835040960286], [2.153702975602303, 41.33783207358076], [2.153712282396254, 41.33782587274048], [2.15372465383039, 41.33782297319433], [2.153734523741658, 41.33782128028384], [2.153741920112464, 41.33781863239583], [2.153747434279439, 41.33781366472648], [2.153753419462742, 41.337809240975176], [2.153765484031505, 41.33780788847227], [2.153777483312002, 41.33781157973383], [2.153786493502514, 41.337820905777576], [2.153789741429016, 41.33783220715096], [2.153796641373095, 41.33784205813279], [2.153802852981836, 41.337853381296576], [2.153806340851805, 41.337864612373], [2.153814003533789, 41.33788571042372], [2.153819415584185, 41.33789601885867], [2.153825818170101, 41.337903668331975], [2.153835162760588, 41.33791670795408], [2.15384729708569, 41.33792843496402], [2.153855599380326, 41.337940746314736], [2.153855472796252, 41.337961606943], [2.153857418913097, 41.33797376347098], [2.153867556558806, 41.33798832219466], [2.15387809318014, 41.33800529788248], [2.153886264209329, 41.33801667147734], [2.153889073090197, 41.33802865419597], [2.153891050617833, 41.33803192047131], [2.153892770483556, 41.33803477951117], [2.153897965582937, 41.33804338391434], [2.153908423179111, 41.338062773050105], [2.153918258878373, 41.33807480742656], [2.153932584187858, 41.33808716305], [2.153944801596664, 41.33810724969572], [2.153951576393521, 41.33812308078192], [2.153958576901851, 41.33813624728288], [2.15396516864667, 41.33814775338357], [2.153973886284732, 41.338161220749065], [2.153980316667704, 41.338170419721834], [2.153994181244896, 41.33818143882859], [2.154006229834744, 41.33819240855436], [2.154011439325751, 41.33820729134215], [2.154022777208529, 41.338221462540794], [2.154035445148292, 41.338236292060834], [2.154040699156043, 41.33824404117015], [2.154051467411465, 41.33826159502937], [2.154060945029499, 41.33827913940094], [2.154080548202527, 41.33829740674256], [2.154089639439539, 41.33831156142123], [2.154094422473353, 41.3383261528279], [2.154097559237951, 41.33833496728236], [2.154092704952114, 41.33834066042467], [2.15409125508977, 41.33834926101553], [2.154095564268157, 41.338356138449875], [2.154102422319002, 41.33836184561753], [2.154105401443883, 41.33836806472975], [2.154114229130896, 41.3383794971798], [2.154095179207216, 41.33838589666725], [2.15410637631677, 41.33840356176407], [2.154123330259285, 41.338397507172985], [2.154124046149557, 41.33840314217274], [2.154127361288644, 41.338409255663024], [2.154132193962593, 41.33841631709512], [2.154140293765266, 41.33843320278737], [2.154154294881594, 41.33845214954921], [2.154162757696178, 41.33845945384172], [2.154166695068647, 41.33846366229676], [2.154171433883888, 41.338468741369574], [2.154178425149956, 41.338482628395106], [2.154188463612116, 41.338497474603216], [2.15419445990399, 41.33851066973928], [2.154207470524104, 41.33853227545903], [2.154217615324484, 41.33854629374858], [2.154223312955735, 41.33856409856952], [2.154228131927162, 41.33857591589936], [2.154233531513729, 41.338587197040994], [2.154244768518856, 41.3385980887164], [2.154262014544012, 41.338621193790296], [2.154269001943496, 41.33862799181566], [2.154290839404821, 41.338657408909135], [2.154300038873231, 41.33867151932794], [2.154313333959399, 41.338690541949994], [2.154317760955697, 41.33869940190917], [2.154324408077998, 41.33871033191018], [2.154326913011513, 41.33872364550545], [2.15433747090434, 41.3387463861574], [2.154357187939006, 41.33877434644416], [2.154389616729295, 41.33881746080228], [2.154398903972242, 41.338831256592506], [2.154401861045983, 41.338842880082865], [2.154401757590787, 41.338850878054075], [2.154400035856942, 41.33885832368032], [2.154399921683103, 41.33886715027017], [2.154399149465076, 41.33887510729735], [2.15439697906894, 41.338880279716776], [2.154389972277629, 41.33888606514656], [2.154379527931804, 41.33889150104535], [2.154373360802419, 41.33889520288499], [2.15435929095424, 41.33890003565779], [2.154349794722075, 41.33890609103582], [2.154342399914743, 41.33891230597545], [2.154335905422397, 41.33891914004555], [2.154332182516818, 41.33892606654161], [2.154332389634029, 41.33893222924834], [2.154333342942427, 41.33893983865096], [2.15433542133198, 41.33894547465299], [2.154337437938237, 41.33895219111061], [2.154342136588871, 41.338958530942136], [2.154359832700857, 41.338979189245634], [2.154372096193804, 41.33901513853075], [2.154381459292724, 41.33903415927577], [2.154398490584674, 41.33905539818101], [2.154406179546146, 41.33905970625268], [2.154415901364526, 41.33906208362256], [2.154426682287558, 41.339063892287946], [2.154439470632149, 41.33906204060837], [2.154451866306875, 41.33906097870948], [2.154461381269273, 41.33906086846367], [2.154473629149538, 41.33906384087246], [2.154482171566638, 41.33906869566403], [2.154490539358523, 41.339075963203484], [2.154495421127756, 41.33908662801242], [2.154503041410904, 41.339099943153066], [2.154515170206927, 41.339108427321534], [2.154526385913875, 41.339120976207035], [2.154539446324544, 41.33915353547049], [2.154544812445828, 41.33916094309142], [2.154551000663674, 41.33916947369123], [2.154562113328402, 41.3391825983013], [2.154580253300544, 41.33920683584019], [2.154595510799337, 41.33922107180386], [2.154607080445297, 41.339228434915285], [2.15461875706563, 41.339231222960784], [2.154630246951837, 41.33923736045315], [2.15464152150217, 41.33925275615468], [2.154656955142725, 41.33927185749705], [2.154666982834285, 41.33928385718761], [2.154674218892606, 41.33929731361571], [2.154682433362674, 41.33930904777445], [2.154694655107664, 41.33932328844999], [2.15472125003151, 41.33936932335623], [2.154743483739905, 41.339436530067694], [2.154751131248142, 41.33944774662525], [2.154756734672092, 41.339450670204265], [2.154765666040965, 41.33945872552194], [2.154772004027704, 41.33946399646572], [2.154783675995017, 41.33946807254416], [2.154817644386466, 41.339505856590264], [2.15482493785102, 41.339518574808565], [2.154830521081636, 41.33952675866208], [2.154834929050994, 41.33954819304151], [2.154843112839205, 41.33956230496401], [2.154849948257659, 41.33956977740575], [2.15485828320535, 41.3395869890445], [2.154869961248872, 41.33960076632175], [2.154875114857677, 41.33961629720285], [2.154876694623819, 41.3396272259897], [2.154879915343763, 41.339640652918334], [2.154881871942951, 41.33965201683605], [2.154894827757698, 41.33967419855749], [2.154916533158803, 41.33970001152693], [2.154933640076867, 41.33971912511794], [2.154947854169875, 41.339737352737686], [2.154971149841852, 41.33975849343235], [2.15498227493313, 41.339778067518814], [2.15498989616066, 41.33979502169491], [2.155005945246515, 41.33981830702469], [2.155029087755517, 41.33985130055685], [2.155052687664396, 41.339889593898796], [2.155060418354944, 41.339898081749446], [2.155068374091547, 41.33990765216126], [2.155071686872318, 41.33991303599191], [2.155078254195359, 41.339923686126866], [2.15508985380866, 41.33993984080626], [2.155099960057442, 41.3399531741565], [2.155100026290332, 41.33995359799895], [2.155102376412826, 41.33996965774997], [2.155107046795472, 41.33998929252833], [2.155133882646552, 41.34003614879358], [2.155145862697568, 41.34005616150359], [2.155162278184244, 41.34007699943913], [2.155173939461422, 41.34009578477536], [2.155181246951695, 41.34011482639327], [2.155190179747019, 41.34013387994135], [2.155198678130269, 41.340153254572726], [2.155208518261489, 41.34017238684022], [2.155222758137565, 41.340191407281175], [2.155235406706231, 41.340207785826884], [2.15524540097345, 41.340226090525256], [2.155258285160501, 41.340246434132375], [2.1552720583591, 41.34026087529178], [2.155282227562467, 41.34028044233182], [2.15529019410533, 41.34030028144652], [2.15530021836627, 41.340323666634255], [2.155303782465327, 41.34032995306037], [2.155311903786856, 41.340344289679074], [2.155320479855138, 41.34037245626749], [2.155323905413623, 41.34038483980661], [2.155336478921194, 41.340399632456126], [2.15535772441708, 41.34040557124708], [2.155321925297232, 41.340414135933266], [2.155326946598525, 41.340426044774865], [2.155372648618177, 41.34041511171139], [2.155379261604564, 41.34042963542221], [2.155381410455799, 41.34044092868044], [2.155381535101986, 41.34044608192995], [2.155382332573679, 41.34045466299697], [2.155388468661921, 41.34047002091204], [2.155396766397945, 41.34048088189402], [2.155409503147622, 41.34050894389595], [2.155417420980467, 41.34051775736816], [2.155426745125391, 41.3405250318567], [2.15543802799466, 41.34053981502345], [2.155448613043585, 41.340549404703246], [2.155457186494929, 41.34056297898506], [2.155460751635967, 41.34057936290873], [2.155470322446737, 41.34059344893275], [2.15547785028614, 41.340606547146], [2.155485810082623, 41.340623215529334], [2.155494993084293, 41.34064511728311], [2.155505046792101, 41.34066623275835], [2.155514442100025, 41.34068280358222], [2.155520130488056, 41.340701364902365], [2.155530767762232, 41.34071801689864], [2.155535782586378, 41.34074060867039], [2.155542043499235, 41.340751860037095], [2.155547591551485, 41.34076278190003], [2.155552033279299, 41.340770524977714], [2.155554817310049, 41.34078816422743], [2.155549858042968, 41.340814006609726], [2.155627339010216, 41.340857977211506], [2.155652295842967, 41.34089657402796], [2.1556596541544, 41.340915399804366], [2.155668036482354, 41.34092897266764], [2.155676554906001, 41.34093941189176], [2.15567486790469, 41.340951577760045], [2.155681082919026, 41.34096268466089], [2.155692601341581, 41.34097404665054], [2.155702354757745, 41.340985107448155], [2.155715930479281, 41.341000051528766], [2.155729140870667, 41.34101737092818], [2.155735209666597, 41.3410296207157], [2.155735299349497, 41.34104025932249], [2.155746140045161, 41.341055976002394], [2.155751621863668, 41.34106462745969], [2.155768737166512, 41.341086839591505], [2.155786297705546, 41.34111899935205], [2.15581068292046, 41.34114097656281], [2.155838039072586, 41.34117353244069], [2.155852007759887, 41.34119507293382], [2.155854684128857, 41.34120069527764], [2.155861968849127, 41.34121597151515], [2.155871919709275, 41.34123766268733], [2.155892567465864, 41.34127510549979], [2.155907764669907, 41.341297771936006], [2.155918069950901, 41.34131053018699], [2.155938995275395, 41.34134869563273], [2.155950804596328, 41.34136715770013], [2.155958832299247, 41.34138598836554], [2.155969559465563, 41.3413993982514], [2.155985860976596, 41.341418001351], [2.156001598181924, 41.34145068816009], [2.156004573403046, 41.34145445713102], [2.156012229294402, 41.34146413336774], [2.156028931406504, 41.34148133421692], [2.156036593101351, 41.34149519001017], [2.156048053069613, 41.34151109135356], [2.156058302128541, 41.34152820884651], [2.156062655949878, 41.34154647210867], [2.156066588375033, 41.34156404770469], [2.156073449407152, 41.34158067195766], [2.156082307049526, 41.34159817557846], [2.156092678716291, 41.34161320420943], [2.156106941122326, 41.34162682015677], [2.156122683963002, 41.341644266170135], [2.156136692841671, 41.34166270831578], [2.156141010032424, 41.34166807245646], [2.15615857292725, 41.34168989147717], [2.156168904263138, 41.34170434332051], [2.156175142951541, 41.34172103506458], [2.156180329120805, 41.341734080030314], [2.156188266074681, 41.34174883858883], [2.156194557790554, 41.34176142326572], [2.156206122189926, 41.34178035190417], [2.156225350885951, 41.34180553394613], [2.156232814931906, 41.3418198927009], [2.156248394442466, 41.341838886802336], [2.156278285007347, 41.34186032778941], [2.156281325761506, 41.34186180030151], [2.156327223450968, 41.341883926102895], [2.15636496777476, 41.34190528051997], [2.15638328538356, 41.34191586358307], [2.156397747676437, 41.34192141017085], [2.156413002737867, 41.34192480074955], [2.156441705431909, 41.341938270289575], [2.15645547290318, 41.34194579344398], [2.156469608947384, 41.341950689085984], [2.156483722677681, 41.34195731401732], [2.156496055098371, 41.34196489870941], [2.156510020772428, 41.34197188285539], [2.156528050667795, 41.34198253584734], [2.156551624943098, 41.341993301530934], [2.156595512515585, 41.342013755099394], [2.156600205420955, 41.34201594230167], [2.156636746177907, 41.34203332447577], [2.156678414108903, 41.34204980742093], [2.156688054650039, 41.34205852533678], [2.156706307352654, 41.34207044099406], [2.156709789288655, 41.34207107001539], [2.156727203135613, 41.342074818658716], [2.156735382053263, 41.3420773196409], [2.156758121015388, 41.342086133525214], [2.156774517797636, 41.34209367590643], [2.156790986490249, 41.34210305635768], [2.156798849377697, 41.34210717097904], [2.156787233549623, 41.342119728906795], [2.15678446741508, 41.342118276435315], [2.156775412940768, 41.34212805537525], [2.156772468701377, 41.34212651152278], [2.156746008070293, 41.34215510585809], [2.156786005159489, 41.34217789083245], [2.15681665033127, 41.34214734547949], [2.15681058606778, 41.34214398626141], [2.156831697194985, 41.342119719591544], [2.156876385043312, 41.34213920789926], [2.156914022193488, 41.342156850229536], [2.156941025564037, 41.3421649386809], [2.156960871661469, 41.342177496500355], [2.1569268233646, 41.3422190053038], [2.156915155155611, 41.342213570227614], [2.156849100978567, 41.34229372213676], [2.157043775733218, 41.342384845646514], [2.157088078413835, 41.34240558130197], [2.157152962839996, 41.342324366803616], [2.157047971268094, 41.34227546135365], [2.157080949421031, 41.342233610495626], [2.157136816810169, 41.3422602947666], [2.157185839862632, 41.342284794091846], [2.157206363267062, 41.342291177631964], [2.157227096898561, 41.34229979658671], [2.157241385384327, 41.34230863856844], [2.157261910940957, 41.342321345432666], [2.157302952574577, 41.3423456421413], [2.157318776329859, 41.34234943309746], [2.157334355524778, 41.342349943503166], [2.157388174508666, 41.342373288858006], [2.157440145839951, 41.34239903469112], [2.157472872442571, 41.342411920917996], [2.157524596218505, 41.34243925924154], [2.157570590913414, 41.342464123559736], [2.157602237993301, 41.34248287478708], [2.157637796257611, 41.34250233920905], [2.157687524231958, 41.342524105176956], [2.157720251423558, 41.342533244186264], [2.157791526393877, 41.34255988777248], [2.157816412473959, 41.34256905944818], [2.157870990427534, 41.34258918541904], [2.157912597767809, 41.34259929011024], [2.157945346378926, 41.34260306069721], [2.157987787301175, 41.342604127854386], [2.157991847228395, 41.34260350000518], [2.158011499874207, 41.34260048212956], [2.158042006295532, 41.34259645373942], [2.158066654076425, 41.34259443620869], [2.158091371943164, 41.34259440085204], [2.158111153840982, 41.34259155504885], [2.158138446194606, 41.342588367848506], [2.158183394755142, 41.34258404873157], [2.158207608108551, 41.34258235226565], [2.158229693923651, 41.342582513809056], [2.158250020722019, 41.34258561696752], [2.158267024420503, 41.342594316544776], [2.158286520507797, 41.34260995216647], [2.158298240634925, 41.34262055873255], [2.1583176545602, 41.34263143774804], [2.158331688326827, 41.34263687286786], [2.158351326905881, 41.34264887046002], [2.158372823923994, 41.34267248339709], [2.158382915952352, 41.34268700535116], [2.158392080184045, 41.342699322671024], [2.158400176012108, 41.342712929268046], [2.158422469237616, 41.34273133263189], [2.158407503965237, 41.34274532905944], [2.158435196247801, 41.34276214153124], [2.158441525888389, 41.34275622570214], [2.159142037197946, 41.3432042025477], [2.159207260729294, 41.34324608689754], [2.15923851687732, 41.34326184430322], [2.159263801397931, 41.34326981156158], [2.159284114484246, 41.3432702842255], [2.159333692220514, 41.34326664702252], [2.159397707752942, 41.34324819871024], [2.159464766739793, 41.34322823229492], [2.159479608389302, 41.34325172435558], [2.160689575688287, 41.3427800277397], [2.161178912203239, 41.342592292464666], [2.16116460491881, 41.34256456554879], [2.161172260247658, 41.342559267242734], [2.161175428222509, 41.34254711208938], [2.161174092652584, 41.342531969625995], [2.161170584137819, 41.34251850474907], [2.161165794787918, 41.34250798502152], [2.16116375065464, 41.34249589996949], [2.161168647179887, 41.34248689205188], [2.161164444714583, 41.34247162060131], [2.161164308611085, 41.34245987372909], [2.161166223496445, 41.34242987444016], [2.161160563700405, 41.34238659681814], [2.161145435492712, 41.34237236267033], [2.161128511769697, 41.342316428366544], [2.161121147846579, 41.34229418002042], [2.161112298184864, 41.34227966736021], [2.161094522759424, 41.34226029760563], [2.161081045879004, 41.34223753630311], [2.161065277803404, 41.3422182172067], [2.161056124621331, 41.34219383002488], [2.161053365407145, 41.342174137362406], [2.161045405498621, 41.342149902999424], [2.161039382597586, 41.342137716879535], [2.161031356011487, 41.34212147175046], [2.161024141659033, 41.3421080609212], [2.161026158455846, 41.342092474499616], [2.161042262011193, 41.342086583838295], [2.161048542617084, 41.342084278644755], [2.161073590591427, 41.34208085820439], [2.161098371335954, 41.342079633659495], [2.16112959412298, 41.342079356823476], [2.1611504795873, 41.342079905389944], [2.16117963984757, 41.34208015396152], [2.161207474618651, 41.34207192574228], [2.161226039479851, 41.342063305682935], [2.161246549250846, 41.342059599917256], [2.161273229953748, 41.34205561484775], [2.161295471583315, 41.342047345845366], [2.161332178343856, 41.342036984402085], [2.161367601964053, 41.34202974823382], [2.161388632215171, 41.34203018972114], [2.161415303587118, 41.34203438343106], [2.161442845411258, 41.34203407968841], [2.161463551663489, 41.34203369010417], [2.161473702781279, 41.34203992524917], [2.161491529417044, 41.34204412655855], [2.161507778564755, 41.34204085809777], [2.161524368608006, 41.34203337657202], [2.161537516471163, 41.34202961711819], [2.161542292947993, 41.34202716582567], [2.161552676072436, 41.34202183692437], [2.16157773370258, 41.34201765980792], [2.161601999195101, 41.34201560270367], [2.161627151756869, 41.34200775117631], [2.161651794636619, 41.3419986348698], [2.161678766987772, 41.34199054437518], [2.161692659906971, 41.34198553827746], [2.161707921602412, 41.34198004673148], [2.161756069219372, 41.34196854345678], [2.161839724831698, 41.34196558573878], [2.161852269338504, 41.34196040766502], [2.161864659227863, 41.3419561021989], [2.161892019039932, 41.3419550764169], [2.161913040269544, 41.341952491196515], [2.161938429710469, 41.34194853259953], [2.161966337999548, 41.34194574530859], [2.16199331398545, 41.34194482479851], [2.162019171763337, 41.34194162623045], [2.162076478810914, 41.34193912503093], [2.162121829430169, 41.34192576369255], [2.162123244276956, 41.34192541369011], [2.162148448130659, 41.341919147755625], [2.162172500408599, 41.34191507128122], [2.162198378022601, 41.34191032351382], [2.162227781149205, 41.341906538192696], [2.162278449078929, 41.341892350772106], [2.162302657928442, 41.34189097768351], [2.162326874625863, 41.34188899213165], [2.162345025460751, 41.34188281893874], [2.162357116170163, 41.34187667369595], [2.162359077123574, 41.341875679119724], [2.162385672697291, 41.34187086447504], [2.162413153466869, 41.34186785778218], [2.162439967743317, 41.341864630050374], [2.162465635379303, 41.34185761078493], [2.162490904419168, 41.341851849673986], [2.162499955013293, 41.34185069951358], [2.162518582855817, 41.34184833996999], [2.16254687740615, 41.34184151995387], [2.162571377608056, 41.341832330350876], [2.162595705477332, 41.34182446360273], [2.162637256402554, 41.34181753284643], [2.162664922356625, 41.341814995834795], [2.162690640793278, 41.34181147182898], [2.162701055654091, 41.341805521531576], [2.162703788737132, 41.341803965089554], [2.162723818458413, 41.34180039968876], [2.162761253361343, 41.34180034775532], [2.162776923288074, 41.34180496553977], [2.162809079606905, 41.34185870447827], [2.162811792641834, 41.34187457755173], [2.162817776308297, 41.34189638338816], [2.162820366513957, 41.34191438135625], [2.162824972626776, 41.34193549259544], [2.162834412069242, 41.34197490636152], [2.16283587569032, 41.34198287970722], [2.162836690905133, 41.34198735339598], [2.162839143147167, 41.34199745972145], [2.16283635766635, 41.34200590658267], [2.162817553730116, 41.34201081404118], [2.162788929763884, 41.34201348824134], [2.162759757335082, 41.34201792392965], [2.162724162955666, 41.342023573950826], [2.162693908823206, 41.3420303437231], [2.16266733470424, 41.342037212322666], [2.162640779040819, 41.34204263983789], [2.16261853804028, 41.34205087307495], [2.162600851185212, 41.34206187774855], [2.162593148074742, 41.34207353154971], [2.162588467524064, 41.34208808976853], [2.162588285012242, 41.342106067565815], [2.162591623947028, 41.34213279032159], [2.162596611990088, 41.342149274453114], [2.162606245241983, 41.34218101519028], [2.162606267990397, 41.342181105431564], [2.162611046346211, 41.34220369517426], [2.162619223907913, 41.34222591331628], [2.162626349045951, 41.34224444870849], [2.16262604970343, 41.342264083049585], [2.16263198131125, 41.34227875451399], [2.162639590237764, 41.342293113909314], [2.162641785631497, 41.342300876399484], [2.16264618868753, 41.34231917580277], [2.162646083265017, 41.34233113709861], [2.16264360653145, 41.34234160389837], [2.162644696280052, 41.34235916759566], [2.16249540681792, 41.342381978389305], [2.162529303149905, 41.34250141331626], [2.164240844439288, 41.34222704499447], [2.164204989264471, 41.34210773955445], [2.164069184046236, 41.34213093946258], [2.164077636302211, 41.34211022037224], [2.16407463037045, 41.342102271870026], [2.164068408984845, 41.342099019983294], [2.164063647536759, 41.34209376100304], [2.16405820588151, 41.34208561465679], [2.164053682302023, 41.34207297118972], [2.164050364520411, 41.34206043556429], [2.164049896985991, 41.342058675690524], [2.164044323207516, 41.34204216935121], [2.164043537596644, 41.34202883242882], [2.164038012087413, 41.34201229040942], [2.164029235879208, 41.34199572477723], [2.164015554826519, 41.34197389912038], [2.164001070929478, 41.341946627052515], [2.1639989395492, 41.341930109686224], [2.163993813887238, 41.341915948569714], [2.163987545991228, 41.3419013828221], [2.163977616858883, 41.34188898832709], [2.163965125648779, 41.34187506194609], [2.163957620498346, 41.341856307692375], [2.163945310839081, 41.341843139264654], [2.16392134280207, 41.34183316489938], [2.163900147639501, 41.34183066894902], [2.163872428510799, 41.34182989108247], [2.163840079613049, 41.34183225023954], [2.16380858704289, 41.341834939882204], [2.163785001411776, 41.34183992084743], [2.16376169983764, 41.34184512005371], [2.1637408960687, 41.341849400617036], [2.163721797021402, 41.34185776498943], [2.16371863591034, 41.34185914720142], [2.163698009656828, 41.341860762803634], [2.163678064321428, 41.3418577354398], [2.163660764034287, 41.34184975511084], [2.163649991225357, 41.3418323102126], [2.163639092987129, 41.34181345921952], [2.163628622502563, 41.3417873332105], [2.163626709280016, 41.34177525815874], [2.163624551804351, 41.34176172210413], [2.163623746411337, 41.34173872891034], [2.163616235149542, 41.341701779280804], [2.163614017023869, 41.34168457670051], [2.163613087745956, 41.34168060661239], [2.163613696407842, 41.34167227001787], [2.163622983662778, 41.3416685002835], [2.163624125005058, 41.341668040183926], [2.163626019032856, 41.34166760356951], [2.163635644731377, 41.341666340400614], [2.163649807909416, 41.341665416463066], [2.163695753274072, 41.34165223897632], [2.163712802839656, 41.34165178638448], [2.16372567404964, 41.34164721398756], [2.16373864771443, 41.34164397545531], [2.163743559987274, 41.34163930919335], [2.1637555533332, 41.3416323524134], [2.163777146031065, 41.34162805956436], [2.163792430292531, 41.34162732390661], [2.163812301218615, 41.34162681973903], [2.163832604979443, 41.34162424696965], [2.1638483859457, 41.3416220556855], [2.16385084394275, 41.34162237980149], [2.163860877118046, 41.34162102949836], [2.163870826559386, 41.341615012660135], [2.163881537286374, 41.341613018732076], [2.163892259472402, 41.34161199770479], [2.163904826095716, 41.341608810242064], [2.163916059550323, 41.34161080145824], [2.163926036052772, 41.34160640617603], [2.163930254513394, 41.341603653479986], [2.163940836804524, 41.34159674948279], [2.163944116226784, 41.34159639498811], [2.163965455365394, 41.34159323521658], [2.163981580738783, 41.34159401891713], [2.163998809121656, 41.34159266682394], [2.164016868547192, 41.34159175312863], [2.16402267680764, 41.341589921742845], [2.164033896034015, 41.34158367991696], [2.164050290661796, 41.34158023200151], [2.164067368542039, 41.34157756369831], [2.164088234520597, 41.341572148572446], [2.164110169814201, 41.34156910119505], [2.164137697036565, 41.34156618450292], [2.164150775326688, 41.34156784680698], [2.164157510817764, 41.34157014761987], [2.164161866237851, 41.34157163847974], [2.164171587290507, 41.34157039397359], [2.164177472371263, 41.34156629322795], [2.164181897635621, 41.34156045242494], [2.164189815258659, 41.34155816795581], [2.164193891151372, 41.34155347758516], [2.164212241511455, 41.34154476540848], [2.164230398090467, 41.341545599855515], [2.164246673035931, 41.34154777177227], [2.164261117989081, 41.34154537256265], [2.164278322041307, 41.341542182704735], [2.164314206296311, 41.34154561394618], [2.164333770661914, 41.341542909613125], [2.164351830530454, 41.34154195983808], [2.164366387111898, 41.34154204751762], [2.1643819283302, 41.3415399084649], [2.164395262085047, 41.341536546366854], [2.164410254014504, 41.34153436729178], [2.164427133605605, 41.34152850881239], [2.164446749495114, 41.34152364301517], [2.16446583184916, 41.3415231149943], [2.164484668186903, 41.34152687279193], [2.16450069499353, 41.341526016324714], [2.164512416106955, 41.34151977809553], [2.164528579834375, 41.34152130061933], [2.16454133795995, 41.34152369917628], [2.164547800450038, 41.341524917075034], [2.164565058106734, 41.34152875347518], [2.164583907763839, 41.34153334005056], [2.164600083887559, 41.34153576341224], [2.164625897414965, 41.34153600483162], [2.164637396144565, 41.34153594417487], [2.164657958665024, 41.34153182383427], [2.164670736250466, 41.34152708851534], [2.164690554579878, 41.34152321497962], [2.164711988771057, 41.34152196536619], [2.164735905556666, 41.34152659770084], [2.164746039565999, 41.341526707280096], [2.164769122272565, 41.34152739724227], [2.164792639129454, 41.341527784092825], [2.164813229579118, 41.34152896038379], [2.164833183982451, 41.34152379071951], [2.164840339211263, 41.34152317608275], [2.164871496504235, 41.34152051975452], [2.164890713982408, 41.341520641189426], [2.164907244995595, 41.341521481749155], [2.16491934202763, 41.34151762420712], [2.164933029020248, 41.34151280538197], [2.164954817423613, 41.34150815342845], [2.164966985266291, 41.34150249487929], [2.164981399698451, 41.34149499706773], [2.165000419828049, 41.341489982732135], [2.165017382538708, 41.34148509758763], [2.165031555955052, 41.34147213942794], [2.165046448239484, 41.34146091593711], [2.165060700198659, 41.34145116504191], [2.165071639409071, 41.34144250705162], [2.165079943155229, 41.34143618992668], [2.165088829751554, 41.34142915642314], [2.165112281568243, 41.34142714672027], [2.165125278258016, 41.34142958297351], [2.165136611290924, 41.34142752138215], [2.165140157302043, 41.34142688054468], [2.165154515307116, 41.34142566959246], [2.16517015049563, 41.34142178364435], [2.165179558989608, 41.341416933753806], [2.165192020014397, 41.34141452003605], [2.165216168202037, 41.34141226315104], [2.165246476710227, 41.34140680821473], [2.165287273521598, 41.34139805149897], [2.165307126239666, 41.34139522298544], [2.165328119371592, 41.34139106961758], [2.165351975719329, 41.34138358619122], [2.165379089155441, 41.341377495532754], [2.165394200279783, 41.34137720878543], [2.165420940655798, 41.34137599751989], [2.165448108260801, 41.341376897119844], [2.165477636952779, 41.34136886029989], [2.16549757275123, 41.34136420381718], [2.16549859169067, 41.34136396800092], [2.165523790172274, 41.34135995318135], [2.1655452615631, 41.34135391164979], [2.165563960995927, 41.34134966954737], [2.165590365350642, 41.341348563897064], [2.165623258192319, 41.34134476697788], [2.165673769345003, 41.34133715245503], [2.165692097801102, 41.341337627614195], [2.165711309039237, 41.34133448812279], [2.165726495102562, 41.34132832893293], [2.165748662840948, 41.34132204019896], [2.165761150251104, 41.34132130202059], [2.165767681009769, 41.341320916996494], [2.165784805377394, 41.34132770673391], [2.165798451111863, 41.3413279857966], [2.165812550070529, 41.341326466626825], [2.165833683102937, 41.34132633156127], [2.165848213345162, 41.34131911371498], [2.165863932582869, 41.34131612903955], [2.165880363342238, 41.3413229497659], [2.165921515632522, 41.341344397816954], [2.1659413181996, 41.3413473697119], [2.165960703863502, 41.34134929370288], [2.165983711139968, 41.341352144693865], [2.166005181337261, 41.3413499402968], [2.16603045493749, 41.34134565568315], [2.166060759675732, 41.34134423590061], [2.166082825349576, 41.34134219794042], [2.166104858614916, 41.34133895272543], [2.166122028740915, 41.34133466342087], [2.166144208860696, 41.341331149034986], [2.166165750743615, 41.34132519797403], [2.166177050847684, 41.34131728111443], [2.16618683133746, 41.34131043415361], [2.16620583614797, 41.341302861354585], [2.166218954858522, 41.341293858741665], [2.166221481079983, 41.34128321206869], [2.166224691956199, 41.34127323691671], [2.166228611618674, 41.34126391544537], [2.16623348839863, 41.34125639341631], [2.166239950640029, 41.34125013492671], [2.166247809939303, 41.34122805123178], [2.166246611591942, 41.341218926879115], [2.166243163915127, 41.34120436366769], [2.166237210656232, 41.34118477408952], [2.166232358510363, 41.341168813535475], [2.166232329503622, 41.3411542210452], [2.166231460942719, 41.3411398566697], [2.16622529213738, 41.341126859078], [2.166214119098388, 41.34111263623065], [2.166203095690405, 41.341101675210375], [2.166192505512556, 41.34109235670742], [2.166182292373117, 41.34108533786817], [2.166168807782654, 41.34107992569777], [2.16615481182935, 41.34107337486565], [2.166136917576174, 41.34106884951514], [2.166115181558422, 41.34106566547794], [2.166094704072422, 41.341065012678314], [2.166063525206087, 41.341065633469015], [2.166049012163227, 41.34106776218467], [2.166035017377009, 41.34107048915429], [2.166021772281639, 41.3410725369787], [2.166006005305553, 41.34107739490673], [2.165990490445898, 41.341083101372185], [2.165967666430531, 41.341086502971514], [2.165947840949123, 41.34109282673797], [2.1659260690691, 41.34109807350037], [2.165905863451439, 41.341102340776274], [2.16586622995878, 41.34110237779863], [2.165849421629364, 41.34110454389864], [2.165835563342495, 41.34110781228811], [2.165823311424348, 41.34111070499325], [2.165803250351182, 41.341116756799714], [2.165784458144582, 41.34112265566367], [2.165766383688758, 41.341126632105144], [2.165744677979291, 41.34113043809996], [2.165704848068825, 41.34113368934898], [2.165688830908326, 41.34113473521335], [2.165676962223884, 41.341135694051346], [2.165658204249265, 41.341140782460585], [2.165644973362886, 41.341145460557975], [2.165627002788968, 41.34114691560818], [2.165613424890188, 41.341146943274765], [2.165595117171053, 41.34114672046577], [2.16558313746924, 41.34114888550492], [2.165568313885414, 41.34115286746984], [2.165551270423852, 41.3411547255637], [2.165537100467186, 41.341158063717984], [2.165517406161267, 41.34116346958802], [2.165500380158428, 41.3411658322254], [2.165482330035953, 41.34116977276829], [2.165465440312538, 41.34117269485864], [2.165446716135105, 41.3411732616732], [2.165435027403237, 41.341173230957345], [2.165422558366533, 41.34117814875079], [2.165402085666608, 41.341178991120834], [2.165390273054206, 41.341179301790106], [2.165381313741195, 41.341178930559245], [2.165370043779916, 41.34117605647843], [2.165359481714712, 41.34117016098346], [2.165353509759489, 41.3411623531392], [2.165348911926471, 41.3411555100637], [2.165343052103828, 41.34115015309387], [2.165334931701307, 41.3411458606386], [2.165326624684859, 41.341141206526125], [2.165320406566661, 41.34113582894143], [2.165317167237472, 41.341129301975016], [2.165313959651532, 41.34112028914662], [2.165311156138871, 41.34110771224702], [2.165298508240954, 41.34107609398477], [2.165294652717114, 41.34107289535323], [2.165287070652675, 41.341062013250315], [2.165284400437629, 41.3410502299838], [2.165279938732961, 41.34103834364783], [2.165273816989371, 41.341027291984], [2.16527181247378, 41.34102515165631], [2.165270020199777, 41.34102323805748], [2.165263652841772, 41.3410164451971], [2.165259152749144, 41.34100569353697], [2.165253827156255, 41.34099219758474], [2.165247980993687, 41.340980157084466], [2.165246617952684, 41.34097551730176], [2.165244155930765, 41.34096708636411], [2.165243256994038, 41.3409551177772], [2.165240546096369, 41.340944649321116], [2.165237516468628, 41.340931061930306], [2.165230911481459, 41.34091480037743], [2.165226142707362, 41.340906370722756], [2.165216617286916, 41.34089417742741], [2.165209548650382, 41.34088614543868], [2.165202910777771, 41.34087245981359], [2.165196759744184, 41.34085340920146], [2.165191390950071, 41.340841426206225], [2.165178401561592, 41.34081596663759], [2.165176687724827, 41.34080042513684], [2.16517124398848, 41.340790567385966], [2.165162330681507, 41.340773496417455], [2.165157557325127, 41.34076542702976], [2.165149986796943, 41.34075551781975], [2.165143645203436, 41.34074109571861], [2.165140438809984, 41.34073199281771], [2.165135946988902, 41.340724339820085], [2.165130109283171, 41.34071912712086], [2.165126913756247, 41.34070543043225], [2.165124936658526, 41.34069927291982], [2.165120962806805, 41.34069598334813], [2.16511861593576, 41.34068883231926], [2.165116960400757, 41.34067995685], [2.165114377504216, 41.34067256991171], [2.165114531830208, 41.34066423001148], [2.165116459920572, 41.34065738022199], [2.165121579339356, 41.34065145434144], [2.165125241901926, 41.340645427816405], [2.165122800805632, 41.340638168013065], [2.165121834254715, 41.34063149539163], [2.165123995813645, 41.340626953236296], [2.165127321679873, 41.34062108640516], [2.165126893595015, 41.34061530043281], [2.165129268465657, 41.34060809358087], [2.16513471629164, 41.3406026564914], [2.165143563426784, 41.34059870328874], [2.165143638862304, 41.340594668439714], [2.165142399933744, 41.34059060604101], [2.165146506960822, 41.34058533937624], [2.165152116549546, 41.34058220940004], [2.165160713802742, 41.34058284824966], [2.165166811547155, 41.3405789291467], [2.165176490865887, 41.34057532426615], [2.16518630048095, 41.34057274719412], [2.165191230950236, 41.340568513364985], [2.165198648806216, 41.3405641714721], [2.16520760117813, 41.34056133596787], [2.165225545590405, 41.340557331647524], [2.165245217847072, 41.34060221499095], [2.165288346202388, 41.340591475500766], [2.165178214525063, 41.340340220887484], [2.165528491023482, 41.340253018655815], [2.165634740217518, 41.34062875658593], [2.165729358151687, 41.34061329191927], [2.165600515950372, 41.34015729485873], [2.165147212270777, 41.34026892438103], [2.165119303220655, 41.34020455371504], [2.165076056737479, 41.34021520221027], [2.165082245953841, 41.34022947818882], [2.164981683580883, 41.340257384604], [2.16497048291065, 41.34025845630737], [2.164959590028916, 41.340256017286116], [2.164948466876416, 41.34025289201687], [2.16493663778392, 41.34024514974267], [2.164925141982565, 41.34022067379941], [2.164812156271063, 41.3399525449299], [2.164613172673934, 41.33949967675802], [2.16436862725769, 41.33896209436866], [2.164268397385621, 41.33874545480534], [2.164181229946966, 41.3385448083989], [2.164075222993955, 41.338322073602534], [2.164103754226926, 41.33831343538292], [2.164248019098585, 41.338296783195865], [2.164326781054999, 41.33827985338787], [2.164345994677528, 41.338276461925915], [2.164365615764007, 41.33827298334345], [2.1643684666437, 41.33827248160317], [2.164448663562906, 41.33825829142848], [2.16460078440173, 41.33823477800842], [2.164665639666957, 41.33821932334916], [2.164800527068338, 41.33819387405526], [2.164867994524193, 41.338180690134436], [2.164887383151807, 41.338173885977305], [2.164905390160153, 41.33816483791075], [2.164921769536555, 41.33815315682424], [2.164940570281868, 41.33813904324131], [2.164945286222118, 41.338131006663325], [2.164941254254387, 41.338112163266295], [2.165154614058471, 41.3380732103588], [2.165235156993258, 41.33833888779762], [2.165388662412277, 41.33831363590737], [2.165178430104263, 41.337587730156216], [2.165023489174626, 41.337613214562715], [2.165099712625287, 41.33787639269829], [2.164887834179358, 41.3379102966953], [2.16488051492072, 41.33789384437558], [2.164861288572547, 41.33788327407828], [2.164833229486905, 41.33787555813895], [2.164807492902549, 41.337875020077085], [2.16475119676123, 41.33788474505849], [2.164474487639069, 41.337930314591055], [2.164265667483626, 41.337960541129426], [2.164265200497981, 41.33796060979902], [2.164200195608156, 41.33797001905773], [2.164012620443032, 41.33799685943936], [2.163945629387448, 41.33800737106729], [2.163936482797501, 41.338005791347896], [2.163929082781299, 41.33799380254065], [2.163913830196721, 41.337971569108426], [2.163902118540635, 41.337936930931626], [2.1638931383093, 41.33791113102235], [2.163891637418769, 41.33789205106186], [2.163877794124457, 41.33786522498713], [2.163857352896647, 41.337837522277695], [2.163854772120211, 41.337811300463784], [2.163851127756384, 41.33781030116748], [2.16382980896429, 41.33776991840541], [2.1638144941094, 41.337739478597115], [2.163807664366305, 41.33772589057488], [2.163795310030491, 41.33770132720403], [2.163798934238223, 41.33768614873315], [2.163780239952337, 41.33766763743122], [2.163749730735409, 41.33759080624079], [2.163729821107592, 41.33753557118264], [2.163709284920962, 41.33751063308437], [2.163704724118294, 41.33750186258569], [2.163683635219856, 41.3374612742909], [2.163688247873481, 41.3374491745922], [2.163712471827361, 41.337451161141416], [2.163731364068486, 41.33744111084034], [2.163731800659035, 41.337435943658754], [2.163724519907351, 41.33743052223373], [2.163737334199458, 41.33741258216018], [2.163745670900163, 41.33741580439871], [2.163755182572476, 41.337414062986944], [2.163755268298129, 41.3374139014733], [2.163758203529841, 41.3374086713786], [2.163751564281874, 41.33739701235979], [2.163751494193203, 41.33739688574432], [2.163751061595712, 41.337396134971435], [2.163749465520044, 41.33737982865219], [2.16374609100232, 41.33736801320319], [2.163728155109735, 41.33735562355313], [2.163686281223724, 41.33733384519337], [2.163639123624654, 41.33731870304213], [2.163599473446305, 41.33723334725671], [2.163631205575035, 41.33717532580673], [2.163565980382212, 41.33704694406966], [2.163449191694484, 41.33680040430846], [2.163337937442066, 41.33650248934968], [2.163240597515867, 41.3363183241602], [2.163120516978899, 41.33607799335715], [2.162938850618549, 41.335720259998745], [2.162747075357971, 41.33529349070081], [2.162660263049784, 41.335091953876265], [2.162595675280325, 41.33493557159616], [2.162575949795483, 41.33488848952498], [2.162492638634998, 41.33472718791536], [2.162450589540116, 41.33465114610855], [2.162408411349271, 41.334532947827924], [2.162309225677472, 41.33434962408896], [2.162265245334664, 41.33421541515419], [2.162195096448852, 41.334079070068945], [2.162039601304351, 41.33371568878386], [2.161824419358161, 41.33322886493869], [2.161712108400726, 41.33297432112107], [2.161670903717674, 41.332877315487984], [2.161573068837792, 41.33268499331986], [2.161463633719118, 41.332421606719464], [2.161386229963247, 41.3322399541042], [2.161320517377881, 41.33204873048749], [2.161164329337938, 41.33172612924829], [2.161099183085973, 41.33158679335749], [2.160864350788185, 41.33100824412749], [2.160647382052922, 41.33051953128747], [2.16028783464928, 41.329685102185124], [2.160071264087724, 41.32916605348606], [2.159997258503868, 41.32899581025439], [2.159809988227411, 41.32851156403119], [2.159732046948623, 41.32823759641195], [2.159631894467358, 41.328093617344685], [2.15953274227095, 41.327962030940306], [2.159464519214917, 41.32782555401363], [2.159308950330804, 41.32741907582235], [2.159247400300371, 41.32729900529951], [2.159202411346087, 41.32722085098936], [2.15914882688534, 41.327180177539965], [2.15909066667712, 41.3271533783679], [2.159027641149712, 41.32714066753287], [2.158898603292777, 41.327139364299164], [2.158816794159249, 41.327160024348295], [2.158776972977021, 41.3271938901196], [2.158755539707176, 41.32722515196887], [2.158722511985344, 41.32728082973556], [2.158736028637937, 41.327338288927386], [2.158793215404018, 41.327477928366235], [2.158828768636574, 41.32754549299536], [2.158904990515536, 41.32757278459693], [2.158971086132385, 41.327763075722636], [2.158925523258716, 41.327767642903964], [2.158869707712723, 41.32778892530289], [2.158845218511688, 41.32783479317205], [2.156976763475138, 41.32782546418401], [2.154783284959224, 41.32784158793903], [2.154299515083563, 41.3278601569043], [2.15426604197998, 41.32785385783585], [2.154262408748302, 41.32783541960928], [2.154282589679586, 41.32781247242286], [2.154394659148638, 41.327747324221], [2.15448106311489, 41.32761543923286], [2.154494830634267, 41.327556162289156], [2.154495085599825, 41.32746619627539], [2.154426071465701, 41.327354787715585], [2.154339253397793, 41.32727105475395], [2.154261902718691, 41.32721849453177], [2.154213018537756, 41.32721377563102], [2.15418737926746, 41.32721620842474], [2.154055656683188, 41.327239542834135], [2.154040066880751, 41.32725306575093], [2.154039870166871, 41.32726919691315], [2.154041674027225, 41.3273191212723], [2.154168223354085, 41.32742507995223], [2.154224954355098, 41.3274707780522], [2.154248918157625, 41.327503660736916], [2.154231926820669, 41.32751837139055], [2.154220649625123, 41.32755693111341], [2.154166698251449, 41.32761875911709], [2.154080037025079, 41.327658701430494], [2.153996929281659, 41.32767981689699], [2.153962680010597, 41.327665170999914], [2.153923326220475, 41.32757586863098], [2.15387019758205, 41.327594403021976], [2.153824779579755, 41.327521260704536], [2.153879547382253, 41.32750348601523], [2.153877313117248, 41.327472060096866], [2.153843571999833, 41.32737197182762], [2.153825919746491, 41.327317697378255], [2.153721660375041, 41.326947376083325], [2.15368919634473, 41.32684005504201], [2.153636809053394, 41.32664622262537], [2.153614393462997, 41.32657778018687], [2.153549042217202, 41.326495609669664], [2.153535657117151, 41.326444969590725], [2.153506528188255, 41.32638560245364], [2.153489783376757, 41.326322191905525], [2.153455727025911, 41.3262751649552], [2.153412612549267, 41.32617002639592], [2.153398563252917, 41.32611440021048], [2.153376931022287, 41.32604178395633], [2.153369412632115, 41.32596903732145], [2.153343413538609, 41.32590976522275], [2.153332218660542, 41.32585795222413], [2.153292810823184, 41.32575543506937], [2.153273544017612, 41.32565611064341], [2.153217527007029, 41.32556282115782], [2.153180949081341, 41.325486329723475], [2.153173574943892, 41.3254199975425], [2.153129646232875, 41.325327985955155], [2.153104310647435, 41.32520551234378], [2.15309459579674, 41.325164924670126], [2.153048408650243, 41.32502126486029], [2.153049013727856, 41.324953315969154], [2.153036574346429, 41.32491274427036], [2.153004445716741, 41.32479813832184], [2.1529567553931, 41.32464694605779], [2.152896763334453, 41.324400299747616], [2.152850358709383, 41.32430579272661], [2.152776446025918, 41.324108099282086], [2.152711111220517, 41.323976963055166], [2.15269331505033, 41.323864759451595], [2.152608633052542, 41.3236295870366], [2.152464227813967, 41.32336703303807], [2.152372186258513, 41.323190914134685], [2.15235099913006, 41.32307581206635], [2.152288259765706, 41.322987030434355], [2.152265205198172, 41.32296421821482], [2.15172723367024, 41.32315355502662], [2.151726927487216, 41.323153669868866], [2.151395833881343, 41.32261409225001], [2.151142591949632, 41.32220137986481], [2.150926105811536, 41.32184857741144], [2.150815766804021, 41.321674096747], [2.150695683232797, 41.32152952228075], [2.149857305664407, 41.32068287899853], [2.149728407431564, 41.3207575943445], [2.149620002838371, 41.32074360632596], [2.149519866441812, 41.32074056139099], [2.147711620027255, 41.320757678164945], [2.146859508571667, 41.32075425210151], [2.146729146338714, 41.32076020447807], [2.146617627267198, 41.32077984385938], [2.145741527712425, 41.32075092388733], [2.143742707750005, 41.320944133299356], [2.141267911407716, 41.32109030862706], [2.139768768919611, 41.32111535951686], [2.132582092454923, 41.32084638083156], [2.132116767233224, 41.32080869816195], [2.130711819400994, 41.32077179342479], [2.128518992188571, 41.32096137946963], [2.12579804894809, 41.32135292914916], [2.123135350710159, 41.3218066223408], [2.12174501368791, 41.32206619093088], [2.118900787205857, 41.32273402442494], [2.117043347008754, 41.323320964001674], [2.115652673703105, 41.323889877788915], [2.114038746488576, 41.3248809553087], [2.113109817325706, 41.32559603749469], [2.11230244325582, 41.32611668950245], [2.111378940949628, 41.32724754353189], [2.110131003180466, 41.328929601358915], [2.109118225238674, 41.33024511230901], [2.108748830633115, 41.33072957950764], [2.1083785069261, 41.33110334414486], [2.107653708463091, 41.33174499957192], [2.106571552848249, 41.33258096252563], [2.10582965635183, 41.333161757038766], [2.105389356010876, 41.333494296242094], [2.104788781397807, 41.33393114691135], [2.104128390590984, 41.334335403288215], [2.103134655902771, 41.334904121143445], [2.102769221215934, 41.33510137867989], [2.102249698179055, 41.33535067512302], [2.100526521183665, 41.33604204929427], [2.10136850054617, 41.33633409635249], [2.108039084060758, 41.3386077652599], [2.111202013054116, 41.33969952579619], [2.128091937742855, 41.34529804795939], [2.128742422298821, 41.34552304712442], [2.129268150812757, 41.34571815747367], [2.130060724435203, 41.346015266795796], [2.131222216174061, 41.346447729539065], [2.132119033833408, 41.346768580868996], [2.133545451718566, 41.34725564893333], [2.134796220696321, 41.347684415099934], [2.135663998066642, 41.34797848420455], [2.136786135311891, 41.34836475304121], [2.137074418916506, 41.34865248802572], [2.137422079749524, 41.34877355008669], [2.137263958460379, 41.34893869030619], [2.13720241836581, 41.34900297077887], [2.136932675821443, 41.34928472589804], [2.136711314941547, 41.34951594249811], [2.136522060813551, 41.349713620321516], [2.135628591334907, 41.35064683901797], [2.135594901633568, 41.350681835242824], [2.135299409915872, 41.3509917560028], [2.135175368234892, 41.351135103336105], [2.135042160616613, 41.35130105185507], [2.133770961017794, 41.353005059518445], [2.133899830052537, 41.35305960998786], [2.133053590167293, 41.354303257344625], [2.132069555586898, 41.35574351970146], [2.133187915357862, 41.35617743669705], [2.13297006946326, 41.35649682638096], [2.133103315083854, 41.35687618589228], [2.133193557542094, 41.357416568982295], [2.133212520791461, 41.35802304029395], [2.133215997998358, 41.35842656122751], [2.133365137315006, 41.35848447523393], [2.13285238420803, 41.35919153115845], [2.133309796363733, 41.3593806476792], [2.132966582003973, 41.35985283811948], [2.133159414201897, 41.359996630700756], [2.134480904951483, 41.3609820203404], [2.134561508914533, 41.36104212225884], [2.134684320906357, 41.36114892403735], [2.134779059145562, 41.36124270588816], [2.134867328572371, 41.36134333520092], [2.134992234386237, 41.361514018547616], [2.13543005737275, 41.36225650885451], [2.134093199055731, 41.36328538659316], [2.133797337507593, 41.36350829250986], [2.133656276508592, 41.363614568022705], [2.1335538676567, 41.363947374865134], [2.132893853167889, 41.365307684433425], [2.132867962901312, 41.36536097517381], [2.132885416559828, 41.365538415475896], [2.132311110409429, 41.3663711420358], [2.132030514586363, 41.366777987646444], [2.131894930246686, 41.36725424689701], [2.131630762992196, 41.36797219762758], [2.131495103260502, 41.368201971927505], [2.131484518420018, 41.368219900790024], [2.131428090657756, 41.36831539335193], [2.131256150632708, 41.36859567434135], [2.131151254548388, 41.368761054146304], [2.131040652933454, 41.368926542091586], [2.130865483053542, 41.369174158397215], [2.13074864675276, 41.36933003116211], [2.130695220697828, 41.36940566460484], [2.130646377137843, 41.36947280972049], [2.13058122548878, 41.36955177197757], [2.130515212106322, 41.369627101255176], [2.130468199960874, 41.3696790770446], [2.130415210873595, 41.36973469082465], [2.130317457991447, 41.36982929853694], [2.130241329390144, 41.369894927563976], [2.130166355341692, 41.36995412128336], [2.130088667465147, 41.370011203790654], [2.129996207085892, 41.37008338376373], [2.129903747709751, 41.370155562768], [2.129437293914843, 41.37054918106751], [2.129345162275243, 41.37062825104807], [2.129230116541338, 41.37072613542017], [2.128872196120021, 41.37091777003277], [2.12851603555966, 41.371046284021126], [2.128136107761994, 41.371180993250945], [2.127948941164686, 41.37127589332893], [2.1274129599683, 41.37157091869252], [2.127347775712138, 41.37160292712226], [2.127300640307844, 41.371626072983695], [2.126989464028742, 41.37184174326351], [2.126851462397528, 41.371936663234244], [2.126569643617044, 41.37213163335074], [2.126448725884043, 41.372215208723105], [2.126132501128604, 41.37242124711814], [2.12600776149386, 41.37250252129965], [2.125700332765487, 41.37271979282127], [2.125454212785217, 41.37288891229285], [2.124934875465085, 41.37318025399938], [2.124868440019035, 41.3732175226944], [2.124392529608715, 41.373471889352544], [2.124298441392038, 41.37352096782532], [2.124280166008295, 41.37353157831724], [2.124266961388249, 41.373540361940094], [2.124254762470421, 41.373549944976155], [2.124243659896965, 41.37356025605547], [2.124234331317212, 41.3735705202847], [2.124227816545548, 41.37357801359787], [2.124218102189806, 41.37359207606222], [2.124192250397962, 41.3736344073995], [2.12390442637189, 41.37411260079568], [2.123824107927528, 41.37425398555137], [2.123809753216781, 41.37427502950148], [2.123760804604319, 41.3743412673605], [2.123692517744025, 41.37442056114737], [2.12360011244851, 41.37451347522118], [2.123496994891688, 41.37461083299825], [2.123275213943571, 41.37481884922101], [2.123240792262609, 41.37485036997273], [2.122347654382327, 41.375286451841625], [2.122081440353582, 41.375414660725475], [2.121840587889915, 41.3755761966805], [2.121786937204656, 41.375694665694844], [2.122703165949952, 41.37567376118868], [2.123711378590357, 41.37627699328278], [2.124421625177884, 41.376701933813294], [2.125049015620688, 41.37707729313723], [2.125285027069998, 41.37721557380351], [2.125744056586191, 41.377484519092825], [2.126989222865078, 41.37821404231087], [2.127510929469131, 41.37851969326374], [2.127582181153937, 41.37856143655919], [2.128535800020524, 41.37906223291253], [2.129154205856545, 41.37938698223321], [2.129207541527778, 41.37941499028941], [2.129934233441018, 41.379796595962134], [2.130716576017431, 41.380207415379346], [2.130837212915996, 41.3802707622317], [2.131667452528608, 41.38060106663851], [2.131778242765538, 41.380633920738624], [2.132400996678705, 41.380818590705985], [2.132770321055513, 41.38092810748755], [2.133549330700335, 41.38115910434322], [2.134807694689544, 41.381532227705144], [2.13549693003854, 41.38178746100307], [2.135874170273215, 41.38192715561314], [2.136265870921896, 41.382072204406946], [2.136947408110303, 41.38232457439941], [2.137191765184378, 41.382415057035914], [2.13758603056899, 41.38256104743966], [2.137612931320606, 41.382571008691606], [2.139057167932378, 41.38321636669665], [2.140339990442413, 41.383958873525636], [2.140707132570582, 41.38417137189179], [2.142304045784269, 41.385364658634415], [2.142641927136334, 41.38561713048404], [2.142624374983255, 41.385363530305646], [2.142558806645326, 41.38441614746096], [2.142540217774035, 41.38414755370405], [2.142534099156251, 41.38405915256865], [2.14241911407201, 41.38239769297804], [2.142311311448244, 41.38083995110851], [2.14230283948269, 41.38071753261462], [2.142315831952455, 41.38070771128655], [2.142420781314037, 41.38062838339485], [2.142889007414849, 41.380274462062985], [2.142903174993033, 41.38026375317301], [2.143333516195852, 41.37993846282128], [2.144837332786944, 41.378801704920626], [2.145931821271522, 41.37797432618639], [2.147054705022503, 41.3771254500332], [2.147252169230322, 41.37697616732009], [2.148236198825464, 41.376232229212086]]], [[[2.175209337217267, 41.34983860731435], [2.175207880011165, 41.34983094043646], [2.175200179046198, 41.34982548070212], [2.175171924358626, 41.34982897130078], [2.175142491464078, 41.34983110231226], [2.175130559352994, 41.349829395425665], [2.175120120671985, 41.349823015306086], [2.175112057580536, 41.349808365249196], [2.175112483090317, 41.34979359588491], [2.175114435146916, 41.34978099927921], [2.175116626254011, 41.34976840438693], [2.175121498085526, 41.3497517753028], [2.175124337979622, 41.3497351316542], [2.175120597145417, 41.34971898129124], [2.175114584191174, 41.349702904717844], [2.17510835720157, 41.349684844944576], [2.175101649839612, 41.34966696187908], [2.17508598944434, 41.34964811388131], [2.175069494654339, 41.34962907974885], [2.175065345235369, 41.3496168897858], [2.175063348411013, 41.349604625177115], [2.175062468247291, 41.349589125847615], [2.17506588985712, 41.34957374742967], [2.175079424495931, 41.34956213460634], [2.175087952713351, 41.349549404987215], [2.175092297544865, 41.349536645381285], [2.175081558180867, 41.349516211293434], [2.17506661170769, 41.34950709658569], [2.175051648183514, 41.3494993328893], [2.175036031186026, 41.349486520267334], [2.175024026099757, 41.34947166179422], [2.175015233280313, 41.349448539382784], [2.175011944302764, 41.349425006047205], [2.175010937672452, 41.349400588315724], [2.175011125154888, 41.34937626922004], [2.175012551094102, 41.34934853612553], [2.175014573518948, 41.349320897382555], [2.17501724031918, 41.34929902810372], [2.175020265691729, 41.34927716139517], [2.175021516519359, 41.3492632987033], [2.175020854951389, 41.349249422302314], [2.175014750964747, 41.34923109317738], [2.175005649769415, 41.34921346317172], [2.174990556299554, 41.34918759331883], [2.174975821415081, 41.349161726034545], [2.174961366527529, 41.34913261803014], [2.174949308963885, 41.34910298675641], [2.174941988036809, 41.34907690239196], [2.174934786639746, 41.34905081888388], [2.1749253267959, 41.34902372835086], [2.174915868096894, 41.34899654774945], [2.174907814128727, 41.34897171918682], [2.174900597972659, 41.3489468065546], [2.174901036030589, 41.3489310464462], [2.174907093994114, 41.348915146478475], [2.174918627317265, 41.34890108727989], [2.174935525694118, 41.3488976054018], [2.174944176910675, 41.348894064396006], [2.174933025677427, 41.348877860897964], [2.174911838984375, 41.3488612251474], [2.174897281959833, 41.34884968116499], [2.174883212133898, 41.3488374200681], [2.174867607721729, 41.348814158730015], [2.174860993765646, 41.348788890109546], [2.174857796765291, 41.34873914539439], [2.174859379578316, 41.34868952502546], [2.174864105369144, 41.34864659279371], [2.174868711629804, 41.34860365970446], [2.174867416998552, 41.34857365520922], [2.174869825319002, 41.34854385741486], [2.174877665868201, 41.34852878090987], [2.174887171780088, 41.3485143468744], [2.174896791525116, 41.34850036403285], [2.174905694126246, 41.34848637604888], [2.174904606805024, 41.34846835311005], [2.174892880780235, 41.348450343971784], [2.174873922982438, 41.3484275990449], [2.174855560538987, 41.348405038534956], [2.174839957374714, 41.348381687124856], [2.174824474881822, 41.3483582465021], [2.17481106420326, 41.34834112603307], [2.174797415623009, 41.348323913780874], [2.174787727230103, 41.34830546886373], [2.174788200565582, 41.348286916659724], [2.174794909667115, 41.34827624575681], [2.174802931243536, 41.34826576441591], [2.174813099679751, 41.348255658770995], [2.174820522499175, 41.348245263211254], [2.174815967905513, 41.34822730548534], [2.174804725725094, 41.34820884942822], [2.174791170433778, 41.34818425163479], [2.174776171781569, 41.34816036409564], [2.174758941079543, 41.34815231387586], [2.174741837866156, 41.34814363403765], [2.174735925330979, 41.348129089448], [2.174735033885157, 41.34811449078862], [2.174737423006622, 41.34809568209518], [2.174742440485016, 41.348076982325104], [2.174750476830628, 41.34806533010898], [2.17475672261066, 41.34805348490105], [2.174756474267735, 41.34803528782428], [2.174755986880017, 41.34801708903332], [2.17475705783304, 41.34799854111396], [2.174757171469125, 41.34798007640553], [2.174752122798707, 41.34795391824258], [2.17474503884156, 41.34792801571163], [2.174738969171293, 41.34790698454269], [2.174739286597547, 41.34789131364285], [2.174728298325603, 41.34787168841368], [2.174712346051443, 41.347866529777555], [2.174695652760784, 41.34786325741535], [2.174682337940459, 41.347857487159], [2.174671328166957, 41.34784903116008], [2.174663811750168, 41.34782898044453], [2.174666097282944, 41.3478089099486], [2.174672001460995, 41.34778625320777], [2.174680652365007, 41.347763796316045], [2.174693059718226, 41.347746770906035], [2.174704153461448, 41.34772964599868], [2.174706231781826, 41.347707051895235], [2.174703172937361, 41.34768424080042], [2.17470105216272, 41.347672335595675], [2.174695697476374, 41.34766094765389], [2.174673042849196, 41.347647003601686], [2.174655570890138, 41.3476296738358], [2.174650839985866, 41.34761621862366], [2.174650532522635, 41.347602705059295], [2.174652530095258, 41.34758650575403], [2.174655841267035, 41.347570405945135], [2.1746611854414, 41.34755423064028], [2.174666646859673, 41.34753823632743], [2.174667921609662, 41.3475224822166], [2.174664417774258, 41.3475065136843], [2.174650189996117, 41.347487856047195], [2.174630360727038, 41.34747735512668], [2.174610772782267, 41.347466675782094], [2.174596846714301, 41.34745252408873], [2.174588801088092, 41.34743652297942], [2.174586877217743, 41.34741849403464], [2.174585071732104, 41.34740055601459], [2.174579870660654, 41.3473770089449], [2.174574790251607, 41.347353372664585], [2.174573099741635, 41.347335795771755], [2.174574038697636, 41.34731823773836], [2.174578388024003, 41.34730511787616], [2.174582856869687, 41.347291998871015], [2.174584493609983, 41.34727597712958], [2.174586131486977, 41.34725986532049], [2.174588810925349, 41.34724646325369], [2.17459196844653, 41.34723306461571], [2.174596925606116, 41.34721913843049], [2.174603551506521, 41.34720558451638], [2.174620712307282, 41.34719075502214], [2.174622874976598, 41.34718041182313], [2.17461750214254, 41.34717046495847], [2.174604464049831, 41.34716172417815], [2.174590573388957, 41.34715423834183], [2.174571300881193, 41.34714698413048], [2.174552884362765, 41.34713820476804], [2.174551873446977, 41.34712360524795], [2.174538120452895, 41.34710522122864], [2.174517875805182, 41.34708976314348], [2.174513742570125, 41.34707631221159], [2.174512360587553, 41.34706270086253], [2.174512768002272, 41.34704937257579], [2.174511738893967, 41.34703621413646], [2.17450570357275, 41.34702193887905], [2.1744982271812, 41.34700819373892], [2.174485933501793, 41.346987838514515], [2.17448701708742, 41.34697775780454], [2.174494196218178, 41.34696772081831], [2.174510952912467, 41.34695649147065], [2.17451648719193, 41.34694419079117], [2.174519635611142, 41.3469315126951], [2.174518955962993, 41.346919077368106], [2.174520067983263, 41.34690674496817], [2.174536232743614, 41.346895060992104], [2.174545962738725, 41.34688179957237], [2.17454558362903, 41.3468739602638], [2.17453862521397, 41.34686652414299], [2.174513458759218, 41.34686220014581], [2.174488106801906, 41.34686309920541], [2.174472114972442, 41.346861092902785], [2.174456651285195, 41.34685512705397], [2.174449110071502, 41.34684651576249], [2.174448151576065, 41.34683723108556], [2.174453789390241, 41.34681673425918], [2.174458113675743, 41.346805595887055], [2.174462317301844, 41.34679454672498], [2.174461841376831, 41.3467754472539], [2.174453413411838, 41.34676133498146], [2.174446421967054, 41.34674705286168], [2.174445658083978, 41.34673182458166], [2.174445013721249, 41.34671659715895], [2.174444125767768, 41.34670172829178], [2.174443237814648, 41.346686859424594], [2.174450625182174, 41.346669798026404], [2.174442761838093, 41.346658301999746], [2.174420025690393, 41.34665084276488], [2.174408527832301, 41.34664319391992], [2.174398121585083, 41.34663429184446], [2.174387042596227, 41.34662187198786], [2.174379801900356, 41.34660839875733], [2.174378391508392, 41.34659703909545], [2.17437972893441, 41.34658578922222], [2.174383337235717, 41.34657455564024], [2.174386467456724, 41.346563318628384], [2.174386981896151, 41.346550981941974], [2.174385105941102, 41.34653862810693], [2.17437934614146, 41.346521472394585], [2.174373586344772, 41.346504316681916], [2.174369808319922, 41.34649113851921], [2.174367108248628, 41.34647778793824], [2.174366420667972, 41.34646598308277], [2.174366091646215, 41.346454180799626], [2.174365982273586, 41.346434453426596], [2.174362378389878, 41.34641695287699], [2.174350187357452, 41.346407407462344], [2.174335596836525, 41.3463985654375], [2.17432527597948, 41.3463829082868], [2.174330837552551, 41.346368445992915], [2.174328766951497, 41.34635257780596], [2.174323708367861, 41.34633668818166], [2.17431336931676, 41.34632247211119], [2.174304107081631, 41.34630817368985], [2.174301897624896, 41.346293835793745], [2.174302677287876, 41.346279429267874], [2.174307365770444, 41.34625838518105], [2.174308497161744, 41.346244521633075], [2.174307478345778, 41.346230552582334], [2.17430268271072, 41.34621277325264], [2.174295849564209, 41.34619542968283], [2.174285000566901, 41.34617427411806], [2.174274272233473, 41.346153029342226], [2.174262125578348, 41.34612105537449], [2.174255484769459, 41.346088490380154], [2.174255012320591, 41.34606912070377], [2.174254658252747, 41.346049841952464], [2.17425257396058, 41.346016138666194], [2.174250489670288, 41.34598243537972], [2.174249375217709, 41.34595711609678], [2.174248381422395, 41.345931707603704], [2.17424829032223, 41.345919997102094], [2.174243890864172, 41.345908706066], [2.174228477494344, 41.34589877721393], [2.174204618145648, 41.345885635104324], [2.174197658711284, 41.34586883107619], [2.174209349848956, 41.34585171049731], [2.174211643434129, 41.34584046748554], [2.174210712297479, 41.345829021183306], [2.17419947638064, 41.3458101147269], [2.174187410692673, 41.34580011981495], [2.174175589735431, 41.34578967627909], [2.174169436218363, 41.3457753100775], [2.174169621725293, 41.34576062906046], [2.174173948262379, 41.34574931056162], [2.174181973035063, 41.345738559054716], [2.174201948489429, 41.34572798337631], [2.174207110508075, 41.345716760946935], [2.17419795082762, 41.34570381438801], [2.174192164972215, 41.345688730219564], [2.174200655288491, 41.34567897288511], [2.174218701361548, 41.345669734495594], [2.174217664363601, 41.3456572065244], [2.174209431245262, 41.34564660858447], [2.174201918652004, 41.345635745586804], [2.174200674486506, 41.345620694007636], [2.174203490519472, 41.34560594178984], [2.174212981349459, 41.34559267867894], [2.174208923402241, 41.34558274122783], [2.174198050657565, 41.34557293502815], [2.174175699664711, 41.34557286472043], [2.17416268015642, 41.34556268280967], [2.174166072161269, 41.34554964616518], [2.174169703200465, 41.34553661123587], [2.17417471152795, 41.345518632022724], [2.174179720990646, 41.34550056274169], [2.174182198954278, 41.345484186734545], [2.174181449937404, 41.345467787571415], [2.174170644319788, 41.34543375147106], [2.174160199542181, 41.345399537807324], [2.174158404463183, 41.34538078916757], [2.174156608247046, 41.34536213059538], [2.174154454617371, 41.345343379382534], [2.174152300988854, 41.34532462816959], [2.174149533840985, 41.34530713361462], [2.174146647177093, 41.3452896382019], [2.174145911827678, 41.345272158226955], [2.174145893582729, 41.34525468339791], [2.174143850371739, 41.345236653583015], [2.174140012126242, 41.34521879103827], [2.174133605976923, 41.34520550392975], [2.174122520447783, 41.34519362445292], [2.174105520533411, 41.345186296395326], [2.174087916207787, 41.34517950445225], [2.174070456436217, 41.34516127392176], [2.174069834934262, 41.345144245141846], [2.174069452466807, 41.34512721807737], [2.174068989180903, 41.34510712785681], [2.174068527033362, 41.34508694756858], [2.174068075129737, 41.345065956671895], [2.17406762436447, 41.34504487570754], [2.174069266856599, 41.34502840362986], [2.174071985000028, 41.345011939271714], [2.174072005471993, 41.344991402143684], [2.174060746977683, 41.344983754980326], [2.174045860866603, 41.34497941458435], [2.174025215184181, 41.34497683436515], [2.174007600678723, 41.3449708530185], [2.174014891206597, 41.34495198943274], [2.174017376017955, 41.34493507302217], [2.174016630461261, 41.344918403654084], [2.174005749888423, 41.34489976995391], [2.173994152221696, 41.34488113110585], [2.173986344949358, 41.34485576377912], [2.173982127733424, 41.3448300619161], [2.173981664474979, 41.344809971694424], [2.173981320733218, 41.34478988233049], [2.173981127237162, 41.34477681995497], [2.173981171635757, 41.34476384936268], [2.173999174232356, 41.34474857561698], [2.174004693616507, 41.3447374458354], [2.174007583638257, 41.344726297182085], [2.174007480058519, 41.344715577421866], [2.174001039835848, 41.344704992333604], [2.173977369912939, 41.344695814868736], [2.173956837017431, 41.34468431794543], [2.173953665864121, 41.34467042351509], [2.173955754565778, 41.34465647676239], [2.173959123803124, 41.34463578351793], [2.173979695395643, 41.344625302230085], [2.173995734472844, 41.344614067801196], [2.173995546665213, 41.34460055508727], [2.17399524047977, 41.34458695144789], [2.173994789738774, 41.34456587048176], [2.173989164520979, 41.344547544725565], [2.17396560620431, 41.34453899858962], [2.173951551121152, 41.34453511452495], [2.173937515391643, 41.344529699309334], [2.17392903090413, 41.344520090376925], [2.173927973485872, 41.34450918361818], [2.17394065927601, 41.34448900762542], [2.173962670707604, 41.34447808629625], [2.173983718036598, 41.344467788573496], [2.173974887528767, 41.34444772837087], [2.173983735126011, 41.34442860573378], [2.173991030150791, 41.34440938187683], [2.173989615314575, 41.34439838247736], [2.173984375974302, 41.344387355627916], [2.173973759565489, 41.34437620010872], [2.173960241771862, 41.34436763596109], [2.173940290613491, 41.34436686222734], [2.173920234738684, 41.344364916753385], [2.173908353760612, 41.34434978881692], [2.173910769132967, 41.344338366530906], [2.173913661428675, 41.344327037743966], [2.173917029509156, 41.344315892523646], [2.173919680494773, 41.34430474215593], [2.173914441187033, 41.34428425734673], [2.173902263150955, 41.344264263185174], [2.173894630110293, 41.34425348937653], [2.173888554188839, 41.34424245651738], [2.173886455294009, 41.34422884000846], [2.173885672208353, 41.344215142868904], [2.173886068339517, 41.344202715254944], [2.173885029147235, 41.34419036741361], [2.173875449737924, 41.34417282394858], [2.173863950119237, 41.34415589722906], [2.173855198220089, 41.344139080308736], [2.173846568117576, 41.34412208411046], [2.173840059693783, 41.34410744511259], [2.173835344001198, 41.344092818983775], [2.17384417792783, 41.34407477716748], [2.173866695755998, 41.34406160759631], [2.173878013303999, 41.34404565534867], [2.173877246159456, 41.34403069726213], [2.173868585327599, 41.34401613289074], [2.173859019587947, 41.34400696656973], [2.17384824390061, 41.343998962547396], [2.173830446429102, 41.343988566146486], [2.173812769616795, 41.343978080533226], [2.173799517141946, 41.34396744652804], [2.173790116475263, 41.343954678355026], [2.173786328460534, 41.34394231077832], [2.173785530597369, 41.34392978451655], [2.17378604398277, 41.3439175378957], [2.173786437853075, 41.34390529041681], [2.173786012228266, 41.34388222796064], [2.173785465950289, 41.34385925471395], [2.173785013001079, 41.34383835388024], [2.17378456005206, 41.34381745304647], [2.173784257327123, 41.343803579202316], [2.173783953463734, 41.34378979542573], [2.173774606336656, 41.34377279407358], [2.173761335726527, 41.34375414318863], [2.173758222723572, 41.343735655303284], [2.173761683021666, 41.34371721460976], [2.173771207816542, 41.34370124950088], [2.173764894075418, 41.343690124851186], [2.173751115788169, 41.34368327024813], [2.173736257357095, 41.34366731023403], [2.173729087667961, 41.34365771072538], [2.173728246551457, 41.343648607032016], [2.173743300849228, 41.343639617460376], [2.173761063019543, 41.343624432098096], [2.173762654312387, 41.34361201306378], [2.173757558495514, 41.34359909564161], [2.173750197601882, 41.343585711578335], [2.173740196011488, 41.34357320931363], [2.17372475707636, 41.34356535195105], [2.173709922547921, 41.34355695847116], [2.173697157383393, 41.343536149388285], [2.173690025333661, 41.3435141196884], [2.17368463029586, 41.3434776002576], [2.173684970798381, 41.3434412120833], [2.17368812033729, 41.343428443934634], [2.173693538363288, 41.343415872224945], [2.173707463512029, 41.3434016501545], [2.173709967652917, 41.34339266055453], [2.173705890556999, 41.34338425423336], [2.1736846194005, 41.34337446339937], [2.173671799576308, 41.34336743551677], [2.173661276708303, 41.34335835238208], [2.17365631410862, 41.34334435500197], [2.173655657424753, 41.34333011831175], [2.173655044011335, 41.34331245905209], [2.173656700220904, 41.34329490616455], [2.173666219284681, 41.34327939140096], [2.17367693006494, 41.343264155420464], [2.173678999463615, 41.343242281861095], [2.173668746432265, 41.34322131065965], [2.17364136647571, 41.343212556865055], [2.173636013466195, 41.343201078802714], [2.173636397109692, 41.343189641931595], [2.173641845870014, 41.343174638398054], [2.173647414141302, 41.34315963572234], [2.173656065896358, 41.343137088819674], [2.173664955533514, 41.343114633700075], [2.173681534968239, 41.343098449022484], [2.173684530817618, 41.34308838204352], [2.173680827085806, 41.34307880741646], [2.173662485840284, 41.34306417352182], [2.173645545740591, 41.34305216188297], [2.173642021880731, 41.34303781452897], [2.173638498022367, 41.343023467174824], [2.173630999586333, 41.342992607410636], [2.173623380505284, 41.34296183685533], [2.173611296174828, 41.34293445711663], [2.173601361950443, 41.34290718289156], [2.173604538808034, 41.34289225312101], [2.173609749662486, 41.34287715780407], [2.173611422952242, 41.34285825390156], [2.173603603476515, 41.34284333524599], [2.173621059249363, 41.342833462174895], [2.173644508880743, 41.34282219092623], [2.173642068569948, 41.34281667878024], [2.17363269992898, 41.34281084665882], [2.17361438604466, 41.34280350909226], [2.173606147683064, 41.34279336144632], [2.173603060901486, 41.342782259957815], [2.173603345531592, 41.34276920101064], [2.173604586263732, 41.34275614892884], [2.17360654976548, 41.34274265165794], [2.173608513266382, 41.34272915438699], [2.173609741470574, 41.34271709304889], [2.173610492762286, 41.34270493821047], [2.173609126987722, 41.342690065896164], [2.173605011284626, 41.34267526391138], [2.173599426131225, 41.34266324372462], [2.173590719987729, 41.34265228203615], [2.173574353655458, 41.34264216609818], [2.17355726342021, 41.342632585414286], [2.173538220055858, 41.34261677547166], [2.173527215924724, 41.342598501135946], [2.173525757990637, 41.342581466339325], [2.173525136644164, 41.34256443755044], [2.173524830559233, 41.342550833906046], [2.173524524474383, 41.34253723026163], [2.173522791074521, 41.342523075912304], [2.17351842612668, 41.34250908281639], [2.173510365410462, 41.3424943425729], [2.173500382251776, 41.34248039920497], [2.173490837285396, 41.34246961163623], [2.173481534763281, 41.342458555580464], [2.173474277691374, 41.3424369753447], [2.173473634719894, 41.342421657840156], [2.173474544267438, 41.34240644156122], [2.173477377397091, 41.34239033833886], [2.173479971501149, 41.34237423339978], [2.173481120142008, 41.3423495608781], [2.173480238217088, 41.342324783697556], [2.173477984716722, 41.34230450045699], [2.173474655610503, 41.34228420949157], [2.173466517632273, 41.34225667792495], [2.173459575917673, 41.342229064873294], [2.173458113526752, 41.34220293238614], [2.173457130322593, 41.34217671326451], [2.173453727423931, 41.34213390281574], [2.173448889251723, 41.342091172134275], [2.173443864224502, 41.34207267050339], [2.173434885070579, 41.34205495115569], [2.17342512507122, 41.342042270444445], [2.173415243286245, 41.342029769009294], [2.173403417512799, 41.34201031777337], [2.173392912066336, 41.34199042564034], [2.173382344065458, 41.341966029266416], [2.173375488895049, 41.3419410290286], [2.173372793842291, 41.341917860187245], [2.173370337813686, 41.34189469306256], [2.173365086417189, 41.3418657410074], [2.173361510458382, 41.341836620834485], [2.173361067899512, 41.341814909384524], [2.173360626479843, 41.34179310786683], [2.173360455975243, 41.34176878617216], [2.1733595672661, 41.34174454939453], [2.173355301587272, 41.34171326244716], [2.17334959950457, 41.3416821453337], [2.173346613052408, 41.34166311788521], [2.173343626601885, 41.341644090436624], [2.173338247660974, 41.34162522595447], [2.173329993632775, 41.34160688127521], [2.173319585000566, 41.34158879134607], [2.17330941539524, 41.3415707031329], [2.17329873595417, 41.341545675418516], [2.173289136672162, 41.34152029515896], [2.1732817602526, 41.34149871405064], [2.173275940890739, 41.3414768738994], [2.173271281422788, 41.34144837646927], [2.173267099999975, 41.34141988247287], [2.173262173040138, 41.34139363501608], [2.173255809683099, 41.34136755739206], [2.173246207025319, 41.341342447331435], [2.173233727018108, 41.34131803720616], [2.17322612632211, 41.34130474145807], [2.173218044171191, 41.34129171247816], [2.173207094921275, 41.341278572824464], [2.173197946300913, 41.341264815574945], [2.173192891894872, 41.34123919772974], [2.173191186049432, 41.34121342378933], [2.173189730617425, 41.341186750889534], [2.17318803502749, 41.34116016634011], [2.173182444603504, 41.34112968054863], [2.173173502215735, 41.341099621054255], [2.173161801884476, 41.34107972031304], [2.173151179425764, 41.34105964716292], [2.173148127094271, 41.34103638567034], [2.173147466095552, 41.34101305128248], [2.173147967269411, 41.34098287948144], [2.173150141575026, 41.34095271970093], [2.173157611773564, 41.3409290834281], [2.173165439355417, 41.3409055397981], [2.173167007102589, 41.34086663830375], [2.173161048044354, 41.34082750258182], [2.17315361375361, 41.34080105695245], [2.173140901698702, 41.34077610469301], [2.173124689710142, 41.340753829560875], [2.17310835708415, 41.34073164363545], [2.173094842553772, 41.34071344129228], [2.173081447539861, 41.340695239806216], [2.173078404237285, 41.340680715730905], [2.173082060272651, 41.340665699336256], [2.173092815184869, 41.34064695076238], [2.173092607053454, 41.34063505925718], [2.173089768587851, 41.34062323892876], [2.173082634641381, 41.34061084728177], [2.173077293329763, 41.34059846851471], [2.173078749209238, 41.34058730957224], [2.173081878210975, 41.340576162651324], [2.17308787770035, 41.34056485620335], [2.173090532082548, 41.340553435644466], [2.173085153299465, 41.34053457114844], [2.173079655010745, 41.34051570579345], [2.173071405874365, 41.3404875428619], [2.173063155605525, 41.34045946999732], [2.173056019531224, 41.34043780052215], [2.173048165271272, 41.34041621596185], [2.173035578534805, 41.34039081421067], [2.173025268164483, 41.34036497843595], [2.173024775716729, 41.340337771995024], [2.173027750148866, 41.340310500389734], [2.173029363139069, 41.34029637007367], [2.173031094497326, 41.34028233068392], [2.173030123882639, 41.34026457876963], [2.173020779720604, 41.34024739721713], [2.17300713769323, 41.34023928244006], [2.172992398445901, 41.340232871217786], [2.172980426120385, 41.34022503866334], [2.172970388717717, 41.34021541849541], [2.172966833242718, 41.34020359301071], [2.172968060370594, 41.340191621742534], [2.172975599913286, 41.34017194931359], [2.172997632690554, 41.34016868475789], [2.173015663723101, 41.340160527347464], [2.173018649277712, 41.34015127098928], [2.173012551085872, 41.34014203943403], [2.172994689839587, 41.34013677676408], [2.172976589580311, 41.340131512373816], [2.172964147219921, 41.34012304590902], [2.172956271233392, 41.340112630589395], [2.172958189341475, 41.34009327806781], [2.172966469852077, 41.34007171937123], [2.172973677065854, 41.34004997280954], [2.172970464309034, 41.34002995288591], [2.172967610077284, 41.340009935538525], [2.172970988339589, 41.33999797972817], [2.172974486108322, 41.33998602477642], [2.172977405708739, 41.33997253438056], [2.172979609401547, 41.33995894876422], [2.172979223807884, 41.33994219188676], [2.172975612649242, 41.33992532175449], [2.172970867810138, 41.33991303734332], [2.172963125028901, 41.33990154207094], [2.172948214078654, 41.33988981513423], [2.172932579251516, 41.33987862344855], [2.17292170991425, 41.33986863699395], [2.172916353877169, 41.339857429098195], [2.172917828145665, 41.339835371111484], [2.172918883494027, 41.33981808413381], [2.172913405674933, 41.339807055514314], [2.172904813829326, 41.339796544970284], [2.172897805211046, 41.33978370383183], [2.172890796595484, 41.33977086269296], [2.172882973084361, 41.339756304256085], [2.17287598954623, 41.339741481627875], [2.172872813147622, 41.33972803749856], [2.172872148680521, 41.3397144312705], [2.172871839316262, 41.33970109782202], [2.172871528812459, 41.33968785444119], [2.172871013483239, 41.33967190731287], [2.172870618800923, 41.33965587097576], [2.172870137660794, 41.33963722181768], [2.172869776027853, 41.33961857351844], [2.172869182218833, 41.33959938309543], [2.172868467763492, 41.33958028188111], [2.172868082198979, 41.33956352500249], [2.172867697774206, 41.33954667805616], [2.172867750350536, 41.339533076981006], [2.172867802926796, 41.339519475905824], [2.172865118242661, 41.33950495439955], [2.172859085090578, 41.33949058897941], [2.172850405697843, 41.3394775556779], [2.172838119453021, 41.33946620789369], [2.172818484039143, 41.339459491231295], [2.172803969345151, 41.339444794620285], [2.17279652036736, 41.339428977806904], [2.172791346578095, 41.33941281704282], [2.172781154011228, 41.33936824631236], [2.172773473373192, 41.33932351348417], [2.172772096616706, 41.339300083867094], [2.172770240695788, 41.33927674088165], [2.17276562701213, 41.3392540986806], [2.172759935495297, 41.33923162888365], [2.172753143350989, 41.33921113284389], [2.172746710869296, 41.33919054931304], [2.172745455910174, 41.33916694041892], [2.172745635025519, 41.339143341832816], [2.172740668539676, 41.33912024671509], [2.172736298447696, 41.33909724595983], [2.172741118924034, 41.33907521202537], [2.172748546703166, 41.33906436623785], [2.172752628312433, 41.33905349639785], [2.172748418588208, 41.339036712029504], [2.17274421000585, 41.33901983759332], [2.172737382725374, 41.33899267568605], [2.172730435944568, 41.33896551291927], [2.172719533114867, 41.33892985458455], [2.172707791477333, 41.33889437037071], [2.172701592351666, 41.33887423889305], [2.172695633380772, 41.338854019065465], [2.172693912783379, 41.338838873952945], [2.172695658987689, 41.33882366368539], [2.172707483549023, 41.338805373209595], [2.172708503597675, 41.33879087832878], [2.172702229252888, 41.33877669131682], [2.172690653357449, 41.33876588907727], [2.172677988238715, 41.33875615991687], [2.17265736299621, 41.338742680421745], [2.172649406472552, 41.33872920192094], [2.172647079242766, 41.33871477305331], [2.172646587909895, 41.33869693450094], [2.172648724553701, 41.33867920491645], [2.17265679332581, 41.33865548289398], [2.172664266845661, 41.33863157644002], [2.172667052301946, 41.33860979810533], [2.172668524339747, 41.338587920252934], [2.172668678220818, 41.338575761117774], [2.172667277395901, 41.3385636808822], [2.172661497059466, 41.33854823635672], [2.172652359186264, 41.33853366845297], [2.172634831074305, 41.33851156393521], [2.172617300694257, 41.33848963955015], [2.172599675899895, 41.33846573281458], [2.172583736725965, 41.338440847360346], [2.172576439336382, 41.33842250949599], [2.17257369111254, 41.33840357380625], [2.172572935905031, 41.33837825705878], [2.172572778221402, 41.33835294460705], [2.172572847007223, 41.33832862461795], [2.172573871829678, 41.33830431150213], [2.172577777107717, 41.338288486226496], [2.172582994653875, 41.33827285053683], [2.172586017989014, 41.33825116398886], [2.172576232684663, 41.33823109679595], [2.172562033507479, 41.338219825303405], [2.172548191708461, 41.338208646454376], [2.172537992047574, 41.33819298999651], [2.172531508427308, 41.338176459496786], [2.172525474726303, 41.338143268195935], [2.172522190768853, 41.33811000658916], [2.172520930204981, 41.338086848027494], [2.172523135262547, 41.338063714383246], [2.172534797104167, 41.33803938766945], [2.172548248078063, 41.338015344045225], [2.172556806216659, 41.33799072478667], [2.17256285818493, 41.33796581728153], [2.172564297180192, 41.33794655139081], [2.172559879342767, 41.33792733346789], [2.172552290567425, 41.33791313699569], [2.172542900117363, 41.33789964817644], [2.172528076336075, 41.337881076042834], [2.172513373206989, 41.33786241469889], [2.172498465280667, 41.337841049604336], [2.17248595769901, 41.33781889108395], [2.172477744277289, 41.33779739396957], [2.172471327975761, 41.337775549472966], [2.172468521661306, 41.33776120723064], [2.172465116690023, 41.33774695075951], [2.172449081967661, 41.33772963097046], [2.172438761759853, 41.337714063711786], [2.172432632160145, 41.33769789605445], [2.172437205639797, 41.337676490882494], [2.172445142103551, 41.33766321672089], [2.172452242040222, 41.337649936543656], [2.172451861146172, 41.337632819388425], [2.172445867015631, 41.337615391643396], [2.172435532004342, 41.33760099526414], [2.172412487247978, 41.337599298265275], [2.172394526622996, 41.33759250349694], [2.172376516272077, 41.33757075577273], [2.172366656096665, 41.3375471750624], [2.172361826241715, 41.33753218773406], [2.172357835191522, 41.33751702628582], [2.17235537829959, 41.33750340716001], [2.17235304091174, 41.337489788893514], [2.172347709106218, 41.337476689548176], [2.172341538500844, 41.33746376432214], [2.172342164972175, 41.337442600995956], [2.172364676230643, 41.33742979195587], [2.172380408876831, 41.33741432196521], [2.172380731337074, 41.33739829077759], [2.172365255468001, 41.33738403757473], [2.172350604723372, 41.33737069106237], [2.172336685825379, 41.33735617882473], [2.172333121490193, 41.337345073858565], [2.172334820981692, 41.33733355636783], [2.172339339733266, 41.33731647444716], [2.172343738979641, 41.33729939166683], [2.172344911650002, 41.33728228568265], [2.172345843033784, 41.33726535811497], [2.172354679836785, 41.33724704618395], [2.172348765359939, 41.337232771661505], [2.172336092604142, 41.33722367293793], [2.172323284385342, 41.33721583430113], [2.172311929585748, 41.337206474825436], [2.172303342733751, 41.33719560396514], [2.172298658647766, 41.33717854593638], [2.17229696440741, 41.337161329258116], [2.172295576220755, 41.337148258271505], [2.172296337938527, 41.337135292822495], [2.172305535295807, 41.337126261303865], [2.172316997495195, 41.337117696451884], [2.172324311315452, 41.33710639948885], [2.172329120144152, 41.33709472420701], [2.172329799980909, 41.33707878566465], [2.172324984990806, 41.33706262745404], [2.172311799140887, 41.337046859422216], [2.172297390676993, 41.33704270238511], [2.172282612304815, 41.3370394434447], [2.172266604935474, 41.33702941997197], [2.172259465825102, 41.33701747860982], [2.172258782117859, 41.33700540352392], [2.172263581827647, 41.33699444878613], [2.172272915776581, 41.33698406711395], [2.172291647061363, 41.33697717590949], [2.172297794356026, 41.33696361866119], [2.172297243827903, 41.33695046362255], [2.172294182615628, 41.336937380603345], [2.172284191656546, 41.33691469970195], [2.172274080061926, 41.336892108007895], [2.17227088110942, 41.3368804652115], [2.172267322511777, 41.33686890990428], [2.172255739039053, 41.336858738095025], [2.172243075491048, 41.33684891881994], [2.172233119675842, 41.33683290378228], [2.172225204520523, 41.336816182814005], [2.172215829359032, 41.336792065121195], [2.172210403465284, 41.336767525453546], [2.17220918750634, 41.336740854244624], [2.172208808059999, 41.336714189052245], [2.172208748102308, 41.33670004670636], [2.172208807646224, 41.33668590521999], [2.172207403762219, 41.336664637212394], [2.172194800701749, 41.33665004434465], [2.172187535545758, 41.336629184557594], [2.172192705147689, 41.33661733172368], [2.172199427126596, 41.336605580131135], [2.172203129877408, 41.33658687097838], [2.172190550537232, 41.33657984465549], [2.172175679003975, 41.33657451328574], [2.172162499881137, 41.3365676627974], [2.172152456309788, 41.33655858296456], [2.172146182543361, 41.33653493795309], [2.172145767767142, 41.336511064858165], [2.172146091417318, 41.3364949436015], [2.172145338415495, 41.33647890467617], [2.172141431872995, 41.33645707820976], [2.172137525332997, 41.33643525174315], [2.172134171821296, 41.336416942214264], [2.17213081831139, 41.33639863268522], [2.172123663579403, 41.33637849429481], [2.172115429920844, 41.336358618370454], [2.172112727273832, 41.336345537924515], [2.172114206021795, 41.3363325776329], [2.172119482567796, 41.33632171640578], [2.172126308062247, 41.33631122662403], [2.172138947152869, 41.33629465349935], [2.172143256530235, 41.33627522810393], [2.172136856197244, 41.33626158060496], [2.172129859503253, 41.336247838739936], [2.172123842769433, 41.33623221232978], [2.17212022061599, 41.336216242840756], [2.172120131276472, 41.33619498428645], [2.172120280938294, 41.33617372745129], [2.17211999454269, 41.33615859264038], [2.172119588646524, 41.336143456969815], [2.172119015348086, 41.33613210328276], [2.172115690114501, 41.33612100002768], [2.172108295019179, 41.33611040795164], [2.172099455654622, 41.33610061616882], [2.172088834049601, 41.336090000881505], [2.172078817934612, 41.3360787594176], [2.172070357871443, 41.33605789102553], [2.1720670465979, 41.336036248989174], [2.172065007629099, 41.33601794891362], [2.172064641666601, 41.335999660873334], [2.172067053606247, 41.33598850881276], [2.172069704545715, 41.33597735847144], [2.172068476987041, 41.335961045902685], [2.172059238348152, 41.33594503600717], [2.17205191399887, 41.33592885973033], [2.17205129903738, 41.3359019226119], [2.172050684076215, 41.33587498549337], [2.172050150975605, 41.33585102146837], [2.172049617875231, 41.33582705744326], [2.17204910162095, 41.33581120037051], [2.172047031866833, 41.3357953321219], [2.172034170881611, 41.335772810699844], [2.17201879242237, 41.33575090169641], [2.172009953387744, 41.33573165193873], [2.172001115498907, 41.335712312112655], [2.171992968378563, 41.335695049001345], [2.171985781823469, 41.33567743249657], [2.171982661958225, 41.33565011705154], [2.171983607366017, 41.335622650702206], [2.171984117576046, 41.335610674277476], [2.17198367064805, 41.33559878104251], [2.171979291639681, 41.33558595875897], [2.171973954354855, 41.33557330973267], [2.171965533172068, 41.33554937903022], [2.171957950773282, 41.335525274210084], [2.171956019076144, 41.335498507767625], [2.171955284655905, 41.335471569787344], [2.171947703687186, 41.33543791693027], [2.171938087815958, 41.33540451965932], [2.171926508632838, 41.335375161677334], [2.171915170739811, 41.335345625278336], [2.171910436968039, 41.33532307224089], [2.171907855323843, 41.33530044461218], [2.171906294698032, 41.33527269000283], [2.171909990888183, 41.33524506329288], [2.171921942488525, 41.33522614326842], [2.171936041640295, 41.33520750892183], [2.171944990924516, 41.33518973828025], [2.17194844325629, 41.33517192808854], [2.171942605477196, 41.33515161900645], [2.171928999976702, 41.335102970199074], [2.171915395636656, 41.33505423132215], [2.171887800856814, 41.334968370577336], [2.171858528607824, 41.33488285805811], [2.171784987265436, 41.33465984134522], [2.171751389172193, 41.33454790542024], [2.171724137109802, 41.33443502431923], [2.17168093838619, 41.334222494543766], [2.171637739932343, 41.334009964746905], [2.171513524704515, 41.3334666333766], [2.171487482124295, 41.33335267999577], [2.17138931146917, 41.332923301840545], [2.171241331513321, 41.33225639492911], [2.171094670024342, 41.33158940717769], [2.170934104557825, 41.33087881231773], [2.17077102860598, 41.33016855937124], [2.17060859372654, 41.329473983958174], [2.170445563601981, 41.328779494026584], [2.170322088514836, 41.328245263939664], [2.170199572399651, 41.32771095051381], [2.170191641572124, 41.32767675452181], [2.170115490160614, 41.32746272528156], [2.170043872860328, 41.32726809502627], [2.170019782460034, 41.327189014704274], [2.170006803059115, 41.32712893046928], [2.169992781950825, 41.32703794264122], [2.169982228195005, 41.32694679966335], [2.169981237910334, 41.32691184302092], [2.169985013192847, 41.326859175767034], [2.169985439500955, 41.32680675458922], [2.169978712264765, 41.32676247874156], [2.169958657116701, 41.32668558932616], [2.169920919561061, 41.326570830519515], [2.169904441062857, 41.32651342331222], [2.169893225555074, 41.32645560368071], [2.169888016214129, 41.32639530523763], [2.169889714639068, 41.32636505193749], [2.169896066026411, 41.32633537265236], [2.169925553448368, 41.32625280543912], [2.169976218764034, 41.326130397182624], [2.170022473337552, 41.32600714640953], [2.170113011126689, 41.3257182047639], [2.170204383320282, 41.3254293591229], [2.170282110878351, 41.325189326331696], [2.170361865587009, 41.32494957831738], [2.170456227998169, 41.324688587493455], [2.1705516615264, 41.32442787452622], [2.170629565690951, 41.32420198467086], [2.170705323262748, 41.323975718981806], [2.170763221590593, 41.323791480170534], [2.170821953644457, 41.32360742748217], [2.170942030744744, 41.323259337710425], [2.171062345491365, 41.322911249501516], [2.171194544374957, 41.32252100102827], [2.171325669793267, 41.3221304744167], [2.171447339991886, 41.32175050854296], [2.171570081724068, 41.32137073037768], [2.171703370970834, 41.32098823559929], [2.171837612121904, 41.3206059276397], [2.171932258306929, 41.32033097562593], [2.172025592914884, 41.320055743856244], [2.172093170803026, 41.31984247927222], [2.172160271497668, 41.319629121131456], [2.172364858523808, 41.31902194784228], [2.172570513462273, 41.318415052023916], [2.172672769224043, 41.31808583805425], [2.172724433743001, 41.31792127992276], [2.172781579814377, 41.31775784207322], [2.172836344017888, 41.317612672538324], [2.172891226301329, 41.317467593897966], [2.172914217962164, 41.317406777535794], [2.172937208440768, 41.317346051235994], [2.172943337839401, 41.3173242968417], [2.17294567514642, 41.31729062514161], [2.17294012312954, 41.31725725705662], [2.172926565750631, 41.31722392152323], [2.172912288078935, 41.31720030904086], [2.172885479109683, 41.31716615766802], [2.172853641211654, 41.31713287091111], [2.172808737261382, 41.31709354521474], [2.172783261648551, 41.31707678810544], [2.17275370029521, 41.31706189322543], [2.172728369110438, 41.317052613466004], [2.17268964865558, 41.31704395807209], [2.172650392258034, 41.317039892698574], [2.172610265433029, 41.317038523340415], [2.172549408381503, 41.317041959131004], [2.172488930072858, 41.31705323424111], [2.172455464685133, 41.31706362262639], [2.17241016630836, 41.31708383430184], [2.172368719124306, 41.317111279747], [2.172347579009974, 41.31712959335452], [2.172322600981113, 41.31715850835024], [2.172305227732916, 41.31719072077042], [2.172295400202249, 41.31722145615572], [2.172288242710705, 41.31726779392167], [2.172286223396615, 41.31731407856092], [2.172285458553598, 41.31732731426028], [2.172287167361679, 41.31733390211052], [2.172292225784445, 41.317340153743956], [2.172303730830651, 41.31734681204075], [2.172322193412882, 41.31735126846351], [2.172340541089196, 41.31735536375228], [2.172373729766607, 41.31736686192512], [2.172398610632974, 41.31737802742196], [2.172409777118864, 41.3174489463276], [2.172395757501267, 41.317489947285964], [2.172349801888333, 41.317624415849274], [2.172272175716003, 41.31780395594942], [2.17227007106285, 41.31780882294287], [2.172204825512271, 41.31800889030969], [2.172198585604562, 41.31802802264994], [2.17215451445756, 41.31813341907768], [2.172133115777427, 41.31817779882689], [2.172130993371425, 41.31823316239267], [2.172097201819346, 41.31829287403638], [2.172113287967653, 41.31831047352754], [2.172108564334808, 41.31831458305504], [2.172066897122392, 41.318350845258294], [2.172043892913623, 41.318461653622975], [2.172038514840457, 41.31847876543862], [2.17202803854757, 41.31851447733889], [2.171989567417127, 41.31864559469261], [2.171925901597386, 41.31882644197268], [2.171851911575699, 41.319036606778745], [2.171851552230216, 41.31903762205381], [2.171842781785114, 41.31908108374931], [2.171829435052251, 41.31910851499018], [2.171761835837143, 41.31926872443659], [2.171738166405743, 41.319311214178164], [2.171740441973976, 41.319340982707494], [2.171741118149436, 41.31934986007461], [2.171747820810329, 41.31936403224854], [2.171724523124481, 41.3193922565988], [2.171708163459317, 41.31941606309591], [2.171690349876796, 41.319479204391044], [2.171678330223374, 41.31953864021179], [2.171686675241935, 41.31954388865405], [2.171684042478432, 41.31954704939527], [2.171675222070165, 41.31955764192666], [2.171660089550655, 41.31957511588645], [2.17163535822131, 41.31962596603638], [2.171612596431481, 41.31968734224234], [2.171593254813625, 41.319765461192574], [2.171568591102681, 41.31984775739581], [2.17156411275447, 41.31986267780261], [2.171537797371972, 41.319917831174564], [2.171542924711629, 41.31995072785829], [2.171526267828246, 41.31998289125369], [2.171500297238802, 41.32006270093803], [2.171428004697812, 41.320284839751444], [2.171413228186355, 41.32031946673586], [2.171408446471856, 41.32034984201671], [2.171399857765001, 41.32036476885551], [2.171387139635143, 41.32038687205611], [2.1713736701305, 41.32042395851507], [2.171358048092554, 41.320480053555166], [2.171326033070359, 41.32056254898255], [2.17131767738908, 41.32058265687003], [2.171307891781683, 41.32060623140028], [2.171297534907983, 41.32065414939541], [2.171254653672073, 41.320795512383434], [2.17124656450655, 41.32083513267378], [2.171245685942653, 41.320839404963934], [2.171226170013715, 41.32088312250642], [2.171216565887823, 41.32090462658334], [2.171207302178477, 41.32092661051411], [2.171191685774499, 41.32092188616476], [2.171172541035283, 41.3209693084992], [2.171186533248571, 41.320981515489265], [2.171179445278977, 41.3209977502127], [2.17119979258375, 41.321021388586736], [2.171191322693462, 41.321041072283045], [2.171159756252909, 41.32104286267607], [2.171156376955833, 41.3210587277698], [2.171147762206386, 41.32109927205045], [2.171149533174203, 41.32111038218249], [2.17112013591621, 41.32118237550238], [2.17110639093129, 41.32122608954322], [2.171113903921512, 41.321236664540415], [2.171100298290929, 41.32125429353828], [2.171082460442787, 41.32130417533715], [2.171061189600459, 41.321350582492634], [2.171052575380206, 41.32136939139958], [2.171034135369867, 41.3214064420133], [2.171039729484287, 41.32141757968186], [2.17103016002833, 41.321433508278766], [2.171020567430006, 41.32143617750322], [2.171016966486383, 41.321478955740005], [2.170980244025318, 41.321525530824104], [2.170975547848134, 41.32156327492272], [2.170975037571838, 41.32156488360981], [2.170962209275505, 41.321606019048346], [2.170948643771613, 41.32163555637869], [2.170932449414003, 41.32169150310376], [2.17091462227293, 41.321740520218746], [2.170896303190315, 41.32179818109382], [2.170913987825195, 41.321805658695105], [2.170896861977886, 41.32184459233319], [2.170890605848401, 41.32184703336763], [2.170883413250861, 41.32184982796019], [2.170868880997683, 41.32194242960988], [2.170850601991554, 41.3219705277843], [2.170853574170929, 41.32200281445885], [2.170836469626888, 41.32200989732706], [2.170833318136301, 41.32201720681898], [2.170814606046292, 41.32206061480609], [2.170813500279098, 41.3220658402619], [2.170799554111069, 41.322131990768135], [2.170795141497867, 41.32216337752478], [2.170781242782084, 41.32217394240312], [2.17076965791055, 41.32222819284739], [2.170710456510914, 41.3223513417183], [2.170705645866244, 41.32236134153493], [2.170680743587963, 41.32241045175112], [2.170693066723341, 41.32241861136274], [2.170684759561637, 41.322455590800864], [2.170659754465673, 41.32248264964066], [2.170648572550778, 41.3225201848484], [2.170645629523271, 41.32254120541941], [2.17065018494085, 41.32257395388477], [2.170649269844352, 41.32257450576271], [2.170620326534134, 41.322591753950974], [2.170605380944028, 41.32263963879967], [2.170595759326859, 41.32267473517485], [2.170596327399765, 41.32270532010448], [2.170564268254768, 41.322791129766664], [2.170553189675105, 41.32283558355194], [2.17054270307365, 41.32285219908026], [2.170537289248877, 41.32286076233202], [2.170523525040597, 41.32289085664475], [2.170517803705175, 41.322912361614435], [2.170512781774362, 41.3229465543386], [2.170503480064225, 41.322971492425985], [2.170496521275399, 41.32300012250273], [2.170486674390934, 41.323022822772245], [2.170476239022454, 41.32305423816543], [2.170459234936513, 41.32308540804714], [2.170458818892003, 41.323086179702955], [2.170448110834443, 41.323108945822874], [2.170442632333827, 41.323133911460125], [2.170431230351361, 41.3231435574977], [2.17042200405738, 41.323170081460326], [2.170423235815246, 41.323186015791556], [2.170410555619259, 41.323198462988074], [2.170417668815554, 41.32323303141654], [2.170400093530724, 41.32325553185142], [2.170383060204331, 41.323287115859856], [2.170365423060195, 41.32330601279969], [2.170372380189925, 41.3233302754007], [2.170372794809253, 41.32335787770311], [2.170349161726475, 41.32338977443824], [2.170340350353205, 41.32343633430592], [2.170332814292808, 41.323465248452486], [2.170341489159966, 41.323489739619575], [2.170320968036495, 41.32350991285853], [2.170296462361815, 41.323550306474196], [2.170276950432822, 41.32355874105851], [2.170290523758724, 41.323576682979876], [2.170293496842556, 41.32358062272204], [2.170268646664607, 41.32361049296102], [2.170290232823892, 41.32362693433052], [2.170270100889012, 41.32365410026956], [2.170255211606818, 41.32365982986168], [2.170227739995647, 41.32375316681641], [2.170217088627368, 41.323776158510746], [2.170210656689961, 41.323796208113514], [2.170204917949785, 41.323816244698314], [2.170198897129695, 41.32383402734701], [2.170198466921914, 41.32383779843319], [2.170193808262223, 41.32387912778216], [2.170170305691304, 41.323910133664874], [2.170158598245106, 41.323951376160196], [2.170152517487173, 41.32402097013435], [2.170141066182381, 41.324063682713906], [2.170137654894465, 41.3240763858677], [2.170136789010221, 41.324079649386114], [2.170132662866762, 41.32409501363737], [2.170112352119683, 41.324158857235226], [2.170065623930031, 41.324242336084474], [2.170046107112557, 41.32432835311537], [2.170035866287525, 41.324354761633906], [2.170011641984444, 41.32441719882587], [2.169992471797778, 41.32447024149501], [2.169969715915641, 41.324531833543496], [2.169948084655476, 41.324598018569276], [2.169947040449677, 41.32460120873904], [2.169939301499121, 41.32463855251022], [2.169928206621833, 41.32468611372651], [2.169918899623817, 41.32472931914646], [2.169898223737805, 41.324772001197445], [2.169885622797068, 41.324823361763826], [2.169860907133802, 41.32487270732233], [2.169860784681555, 41.32487294063691], [2.169852811920299, 41.324927757470306], [2.169833936178341, 41.32500182598453], [2.169826717896824, 41.325030147879446], [2.169809586910498, 41.32505336302134], [2.169790376016334, 41.32512088057959], [2.169786048548797, 41.32513609023384], [2.169759572729212, 41.32520735659143], [2.169730605653107, 41.32525742808941], [2.169715224755499, 41.32530185073719], [2.169694394132538, 41.32535387251751], [2.16968397085365, 41.32538898103025], [2.169680312953283, 41.325401331091555], [2.169678938610991, 41.325426758654835], [2.169657472264233, 41.32543849382927], [2.169651075803683, 41.32547548695617], [2.169638394071412, 41.325503066827515], [2.169626321987215, 41.32552027433434], [2.169633976988357, 41.325534741731026], [2.169599494067505, 41.325570307183774], [2.169599813248654, 41.325590342400766], [2.16959730509719, 41.32562224725763], [2.169595874916799, 41.325624777083625], [2.169582830982466, 41.32564794060823], [2.169572849317412, 41.32568872708637], [2.169564398844637, 41.32574537799611], [2.169546453332143, 41.32580354573319], [2.169530790857746, 41.325862594670205], [2.169522985093915, 41.32589575839379], [2.169518665502443, 41.325914102739034], [2.169496889275961, 41.325942697882155], [2.169485205268516, 41.325982030849914], [2.169471091835196, 41.326016950574335], [2.169459918176012, 41.32606125941934], [2.169439862765702, 41.32611242200991], [2.169430302302524, 41.32614637473994], [2.169425847533717, 41.32616218696852], [2.169410639912137, 41.32622304068841], [2.169380151395045, 41.32626771456105], [2.169372729189722, 41.32632523760142], [2.169355252887128, 41.32637089712653], [2.169389019838569, 41.32639175021753], [2.169390011502565, 41.32639928773107], [2.16940000401399, 41.32647527592982], [2.169420499275024, 41.32656261744018], [2.169432008342133, 41.3266095220187], [2.169444539586494, 41.326660622507724], [2.16944903835583, 41.3266789854453], [2.169481262771888, 41.32682132193226], [2.169505556329424, 41.326924805433265], [2.169524963140442, 41.32700942777638], [2.169547170144849, 41.327097502216446], [2.169568559441927, 41.32718975027876], [2.169568865923499, 41.327191022562076], [2.169568923035154, 41.327191230149026], [2.169597985384287, 41.327311601256916], [2.169620100215741, 41.32739189244521], [2.169633692162448, 41.327454530291284], [2.169641594883439, 41.32749091496696], [2.16966644295502, 41.32759687951445], [2.169692339574427, 41.32772191170515], [2.169701932861725, 41.32776820792572], [2.169729057882085, 41.32786049732648], [2.169743807721234, 41.32791854062335], [2.169761173461906, 41.32798137681673], [2.169773786792379, 41.32802699222183], [2.169792045645986, 41.328095725823324], [2.169817883913976, 41.32821409193018], [2.169826376821388, 41.32825106634001], [2.16984287516983, 41.32832293989287], [2.16986598403287, 41.32841534440702], [2.169883951663079, 41.328508918852506], [2.169886069793038, 41.32851997744824], [2.169931682317237, 41.32872236491903], [2.169944015910428, 41.328782507542314], [2.169949327714916, 41.328808388656675], [2.169998108375773, 41.32901728441263], [2.170003211754681, 41.32903699381443], [2.170026724474766, 41.32912774380009], [2.170034919018563, 41.32916847220684], [2.170047598338019, 41.32923151775507], [2.170068790906777, 41.32931300920119], [2.170091715163045, 41.32940117875284], [2.170107009086211, 41.32947666462511], [2.170120688997795, 41.32953243923687], [2.17012848368846, 41.329564193182335], [2.170135550577832, 41.32959303242482], [2.170145523424255, 41.32965089708901], [2.170158504832058, 41.32969768608205], [2.170168702645641, 41.32973782541043], [2.170176300724462, 41.32977189288699], [2.170184117423624, 41.32980380011537], [2.170191737461672, 41.3298361382899], [2.170192934338382, 41.32984352414277], [2.170196171406387, 41.329863409237156], [2.170206935500803, 41.32990412913025], [2.170208842021266, 41.32993469665087], [2.170212871669793, 41.32996369414112], [2.170221342416309, 41.32998926473205], [2.170229086837884, 41.330011803532614], [2.170232513692784, 41.33004310262118], [2.170241636635146, 41.33006248068452], [2.170248813565338, 41.33009113155158], [2.170254739887059, 41.33011474716203], [2.170267077613361, 41.33018214088412], [2.170274198341307, 41.33022369923232], [2.17028298019983, 41.330254892801904], [2.170289186059978, 41.330278141113666], [2.170302056956353, 41.33031858794018], [2.170310975170884, 41.33035410613726], [2.170314530856799, 41.330373371999336], [2.170317068665474, 41.330387153903885], [2.170328204314204, 41.33042874119024], [2.170334018695359, 41.330452707284735], [2.170340545827035, 41.330495846685274], [2.170353338176333, 41.33054249016581], [2.170365457221497, 41.3305819227129], [2.170368279475074, 41.33059495002806], [2.170370153088212, 41.330603628842844], [2.170373303125691, 41.33061813576667], [2.170374488071101, 41.33062363894279], [2.17038031266759, 41.330661873142645], [2.170387936552472, 41.33069392308447], [2.170405380622397, 41.33075068859763], [2.170422283295333, 41.330819988781], [2.170441449150634, 41.33089175534011], [2.170443648804073, 41.330902994660995], [2.170452221925623, 41.33094688742205], [2.170461090941847, 41.330986296531435], [2.1704708957888, 41.33102729772202], [2.170492612524117, 41.33113914844738], [2.17049423738813, 41.33114577173448], [2.170513336526565, 41.33122375303902], [2.17052473598547, 41.33127471010296], [2.170532826470161, 41.33130013380374], [2.170541120190785, 41.331339682880184], [2.170558095519132, 41.33141835146136], [2.17056224372242, 41.33143425274157], [2.170579427981778, 41.33150022211313], [2.170588483829928, 41.33154092964962], [2.170598039154292, 41.33158654091698], [2.170605413566741, 41.33162320093128], [2.170617062999803, 41.33167330406268], [2.170635319012258, 41.33175182872817], [2.170643024866375, 41.33178120398232], [2.170666598078276, 41.33188711401855], [2.170685436111022, 41.33196498531293], [2.170691216045188, 41.33198886105951], [2.170716989882128, 41.332114432504824], [2.170738369532653, 41.332201095499094], [2.170749122358488, 41.33224464363053], [2.17078132796327, 41.33236627103331], [2.170811563400442, 41.33249531549644], [2.170814805832321, 41.332509147499955], [2.17083328558703, 41.33257760324471], [2.170843056513232, 41.33261377607825], [2.170866166885066, 41.33272796070495], [2.170868078824947, 41.33273739642279], [2.170904613213774, 41.33288429424649], [2.170919469074828, 41.332954876682635], [2.170934832171076, 41.33302598521044], [2.170938444049062, 41.33304272932355], [2.170951134212496, 41.333106927784186], [2.170964234690349, 41.33316798554808], [2.170983440144004, 41.333252750234145], [2.170983909135714, 41.333255347799394], [2.170983965571673, 41.333255609426125], [2.170984065694678, 41.33325619564093], [2.170995184205387, 41.33331711301719], [2.170999926711987, 41.333335171372646], [2.171039678569671, 41.33348661412713], [2.171055804670778, 41.3335569444679], [2.17107394695992, 41.33363603570009], [2.171103316991657, 41.33375990346968], [2.171108431130298, 41.333783531188494], [2.171129949102217, 41.33388293182028], [2.171140315118615, 41.33391932508928], [2.171118906804322, 41.333934954013486], [2.170689092076752, 41.333985180844785], [2.170269423358443, 41.33404120984579], [2.170131477415808, 41.334057077474604], [2.170103397872873, 41.33406423420504], [2.170063391028635, 41.33408178074959], [2.170035220231947, 41.334096124863954], [2.170006735255864, 41.334117330490905], [2.169994827335122, 41.334134665298045], [2.16998661890492, 41.334158061870795], [2.169976839193589, 41.33419979557613], [2.169973394409147, 41.33423580110105], [2.170020241097125, 41.33443918808425], [2.170036162162782, 41.33451901107763], [2.17004764621247, 41.33456237537091], [2.170060403313147, 41.33458830113816], [2.170082821996808, 41.33460627981747], [2.170103933624097, 41.33461613322749], [2.170144353231047, 41.33462258587123], [2.170175726204918, 41.33462243376175], [2.17020764809432, 41.33461575509745], [2.170235929828176, 41.33460115952982], [2.170249822389932, 41.33459129729338], [2.170262449746942, 41.334579426248496], [2.170271369521888, 41.33456683488841], [2.170271560966082, 41.33456022469633], [2.170263960454604, 41.33454984720123], [2.170217488357453, 41.33452121930947], [2.170208555377366, 41.334511309606164], [2.170141635409067, 41.33419644412619], [2.170144279708054, 41.33419242779153], [2.170954730559988, 41.33409936258426], [2.171050404747542, 41.33479822388025], [2.171026103144112, 41.334829755565195], [2.171024165963831, 41.334860007119346], [2.171053449927318, 41.33499163880045], [2.171059418999683, 41.335048699845245], [2.171066566412403, 41.33506937870812], [2.171067401357525, 41.33507893276837], [2.171060623787362, 41.33508563964635], [2.1710394005784, 41.3350911615663], [2.170975789591776, 41.33509367588299], [2.170888320694125, 41.335102143456204], [2.170784187067304, 41.33510535656925], [2.17076573057724, 41.335109457158026], [2.170747331895764, 41.33511842225949], [2.170735748064634, 41.33512716623379], [2.170724222039548, 41.33514077472248], [2.170721414851647, 41.33515480633724], [2.170741079392374, 41.335187375354835], [2.170748046674007, 41.33521282696207], [2.170750352359729, 41.335238335056964], [2.170740435809582, 41.33529465112357], [2.17071485320581, 41.335380038901064], [2.170708580527195, 41.335394045544156], [2.170699090505593, 41.33540730839658], [2.170657382270301, 41.3354449298092], [2.17061237027912, 41.33547919458972], [2.170560923553174, 41.33551197176379], [2.170547837073871, 41.335526109443116], [2.170545899463891, 41.33553753511841], [2.170553400398118, 41.335586860695855], [2.170551317669704, 41.33560972496475], [2.170546847231854, 41.3356323918735], [2.1705368804657, 41.3356643870633], [2.170546155438593, 41.33569634077712], [2.170554544307945, 41.33574161933709], [2.17056556561504, 41.33578664664], [2.170577666150562, 41.33580312765951], [2.170592166975642, 41.33581881529262], [2.170604606599739, 41.33583683004318], [2.170613449802837, 41.335855719634054], [2.170632806884287, 41.33594080069881], [2.170678303672228, 41.3361698312486], [2.170689663530269, 41.33620702437358], [2.170712990843257, 41.33626177845324], [2.170733802963281, 41.336316964784274], [2.170774156243833, 41.33647101508263], [2.170801679835449, 41.33660011198368], [2.170823856799304, 41.33672673830631], [2.170873823274137, 41.336999217527826], [2.170892410743324, 41.33707906858828], [2.170900616546923, 41.33712939004364], [2.170905353363423, 41.33717995673535], [2.170911261760822, 41.33734546868498], [2.170918311116341, 41.33744928687547], [2.170935199158932, 41.337512371568494], [2.170953879510311, 41.33763203681691], [2.170974808201338, 41.33771577798347], [2.17100569602426, 41.337815264083176], [2.171091689673258, 41.33818735634216], [2.171110219740638, 41.33831891048375], [2.17110658166547, 41.33833248573666], [2.171097334865031, 41.338345390062806], [2.171071053302789, 41.33836330602016], [2.171050588526166, 41.33841261026746], [2.171029209629532, 41.338439749264985], [2.17101056676312, 41.33846789880063], [2.170992674329967, 41.3385122673931], [2.170971208143583, 41.3385557094807], [2.17095056794571, 41.33855927462684], [2.170993582585955, 41.33875637049813], [2.171006450887026, 41.33875476976444], [2.171005468298122, 41.338750258894024], [2.17160746694695, 41.3386817942738], [2.171609083182726, 41.33868629168496], [2.171664073346409, 41.33868057133266], [2.171662344025314, 41.33867462288705], [2.171717029116653, 41.33866656734898], [2.17172091499578, 41.33866927056827], [2.171778593334817, 41.338663150654895], [2.171789261948635, 41.338709233674216], [2.171804726956389, 41.338818697053846], [2.171894032008366, 41.33925062285567], [2.171918380116487, 41.33941365518104], [2.171932044351103, 41.339467168474094], [2.172017351256506, 41.33971477019797], [2.172052636827464, 41.339825817334585], [2.172069794678053, 41.339905477734696], [2.17208432111895, 41.3399852993532], [2.172128983493781, 41.34016757382693], [2.172129610167195, 41.34018415228862], [2.172124023562623, 41.3402005959798], [2.172116474899565, 41.34021153093064], [2.172103412891732, 41.34022368728193], [2.172087535157593, 41.340231679887694], [2.172075428334602, 41.34023447522027], [2.172046825967631, 41.340237422109595], [2.171872752547215, 41.34024166430118], [2.171651536982412, 41.34024998064733], [2.171611800931128, 41.3402543785819], [2.17158614514893, 41.34026058929577], [2.171553572382212, 41.34027503718952], [2.171535965521942, 41.340287430987786], [2.171525151217908, 41.34030140496983], [2.171522693354447, 41.340316159712955], [2.17153056501244, 41.340345761250894], [2.171543376124615, 41.34038170365303], [2.171602310015349, 41.34053174382623], [2.171606372632238, 41.340550688992806], [2.171604555140679, 41.340609225198826], [2.171607457719392, 41.34063482762643], [2.17163437353467, 41.34072725900805], [2.171663338348399, 41.340846637801164], [2.171665079113984, 41.34089790347393], [2.171716249678962, 41.34102870155082], [2.171721383873785, 41.34106684057389], [2.171723645276472, 41.3411053192245], [2.171736701540817, 41.341169096793585], [2.171761686316179, 41.34122530376149], [2.171779361622231, 41.34128298941034], [2.171789498691067, 41.341341341414775], [2.171796710451532, 41.3415079434962], [2.171802150764004, 41.34155022820308], [2.171824382020721, 41.341653975368075], [2.171843812497106, 41.34171464613527], [2.171856283683065, 41.34178688660068], [2.171871271546577, 41.34182086295409], [2.171889255189681, 41.34185423033098], [2.171896373907079, 41.34187725088502], [2.171927425166972, 41.34209617836938], [2.171950108042778, 41.342183174651126], [2.171983295732766, 41.34233726290413], [2.172012207948791, 41.34254581624276], [2.172070896706822, 41.3427720584871], [2.172159477193639, 41.34322397541938], [2.17217709720528, 41.34329553226296], [2.172244325392186, 41.34350823437348], [2.172273597655307, 41.3436223907772], [2.172297004681158, 41.343737225594836], [2.172300631895681, 41.34383777625322], [2.172339885838173, 41.344032081788555], [2.172343335747021, 41.34408056736706], [2.172343080687817, 41.34412902630025], [2.172340599975869, 41.34419278210862], [2.172334829679096, 41.34421426872047], [2.172309881669261, 41.34425885695809], [2.172249065014247, 41.344313726076514], [2.171801763795254, 41.3446464906209], [2.171702485413545, 41.34471810697321], [2.171691184676931, 41.34472325003291], [2.171671069409343, 41.34472598767923], [2.171622514963863, 41.344728070243406], [2.171608426878755, 41.3447267978525], [2.171594729307548, 41.34472300614946], [2.171580358021151, 41.344715786716115], [2.171563921066947, 41.3447017967291], [2.171554092903918, 41.34468506196474], [2.171513553059321, 41.3445640686045], [2.171511403998199, 41.344535589191366], [2.171507879391559, 41.34452133184685], [2.171495987530997, 41.34450710434216], [2.171485786800185, 41.34450090575421], [2.171469936855678, 41.344497188616835], [2.171454024115643, 41.3444984251924], [2.171393037617218, 41.344509859898174], [2.171290732033273, 41.3445225067179], [2.171542749608727, 41.34567990307672], [2.171550572358699, 41.345724727037066], [2.171677451496869, 41.34630480934138], [2.171814455649379, 41.346943486519194], [2.171931583129875, 41.34747281264671], [2.172219565921, 41.348810500077064], [2.171869026713167, 41.348853241199066], [2.171902437442851, 41.34900882616834], [2.171917643972106, 41.34906435015796], [2.171991058877517, 41.34923067172064], [2.172026551317399, 41.34928803506992], [2.172102496065402, 41.34940378824792], [2.172423062188902, 41.34928902254355], [2.172542231709113, 41.34947747108752], [2.173477998746979, 41.350926901757376], [2.174460734768817, 41.352448550868274], [2.174510565791518, 41.35252943595501], [2.17462043185234, 41.35269540471098], [2.175156818344529, 41.353531369309565], [2.175266405564399, 41.353695065522714], [2.176271028474742, 41.35524426549178], [2.176733628010298, 41.35596793747835], [2.177093219985848, 41.35651809699669], [2.177763222768795, 41.35756553808445], [2.17803588720912, 41.35798131118099], [2.179099202901303, 41.35963951791535], [2.17970095899784, 41.360564741359646], [2.179944580457962, 41.360946488386254], [2.180165931827664, 41.36128817276193], [2.180897951834725, 41.36241567252485], [2.182119671120482, 41.36431390304167], [2.182322453810189, 41.36463163518531], [2.182401555672908, 41.364749232303794], [2.182524778923026, 41.36477401375862], [2.182528344803236, 41.36477951567953], [2.182900932503253, 41.36485481674532], [2.182858639733329, 41.36515512535251], [2.182889939417489, 41.36519353960941], [2.183010287186799, 41.36521887660976], [2.183059569588594, 41.36519802271609], [2.18328141834617, 41.36490859958136], [2.183078215227575, 41.364864068711015], [2.183150675604218, 41.36466476502275], [2.183225836078698, 41.36445803480531], [2.183263106552719, 41.36435552319377], [2.183295963605092, 41.36425216956628], [2.183324365058362, 41.36412266241181], [2.183346676004289, 41.363992571572226], [2.183373758237541, 41.36383468125345], [2.183400482805821, 41.36367669831022], [2.183417680716244, 41.363592149370774], [2.183437865104063, 41.36350780177003], [2.183475838199989, 41.3633394498575], [2.183474760717793, 41.36332043627905], [2.183464466576365, 41.36330225805832], [2.183452416535399, 41.36329064288979], [2.183433557744028, 41.36327852902863], [2.183413688505406, 41.36327073161886], [2.183371343762966, 41.36326277471256], [2.183293951571452, 41.36325610034531], [2.183216797371385, 41.363249517690754], [2.183180150544636, 41.36324484387485], [2.183143761973247, 41.36323864059676], [2.183112082063326, 41.363228777636415], [2.183084546860118, 41.36321254872878], [2.18305712094322, 41.363187583265585], [2.183036300735174, 41.3631602326531], [2.182991885669576, 41.36308839736958], [2.182948070704585, 41.363016386177954], [2.182881211528345, 41.36290367735953], [2.182813752578157, 41.362791144392475], [2.182769979798308, 41.36272534864066], [2.182722723267249, 41.36266087926282], [2.182629292061256, 41.36253149775399], [2.182565896402648, 41.362428721653565], [2.182502381392664, 41.36232594466895], [2.182440791862182, 41.362241286508244], [2.182380644964288, 41.36215600803486], [2.1823238117171, 41.362063907334054], [2.182267098176723, 41.36197180745468], [2.182183656727024, 41.361837272178214], [2.182099736299031, 41.3617028235101], [2.182032931770993, 41.361605067106595], [2.181965286098087, 41.36150766498589], [2.181907157019129, 41.36141411365134], [2.181849507421007, 41.36132047561967], [2.181774140326292, 41.3612095972313], [2.181697572377958, 41.3610991606306], [2.181650451211377, 41.36102406284763], [2.181557683325742, 41.36086117705617], [2.181467075622593, 41.36069767602264], [2.181425927774371, 41.360622980933236], [2.181384900693393, 41.3605481966119], [2.181303467112754, 41.360396830827014], [2.181222632758649, 41.36024537916931], [2.18119148972658, 41.36019282368599], [2.181160466288858, 41.36014026904488], [2.181143822998266, 41.36010412039583], [2.1811309769287, 41.36007025065334], [2.18111801019852, 41.36003647012619], [2.18111362909881, 41.36001401013706], [2.181106614635222, 41.359991801635395], [2.181086913782726, 41.35997067383785], [2.181061559350532, 41.359952298146304], [2.18104652173858, 41.35994066146064], [2.181032448391534, 41.359928401106366], [2.181021724550859, 41.35991598443683], [2.181011600694456, 41.35990339188512], [2.180998172511268, 41.35988735294468], [2.180985466117413, 41.35987095883741], [2.180979536487824, 41.35985758545317], [2.180975047037905, 41.359843771940746], [2.180966684903797, 41.35982416602973], [2.180956643509729, 41.35980499854409], [2.180942437274659, 41.359784270130206], [2.18092738859322, 41.35976398609619], [2.180911744459415, 41.359743517670786], [2.180896221008732, 41.35972296002666], [2.180873785646695, 41.359691093736465], [2.180851351435791, 41.35965913737437], [2.180835585547804, 41.35963884822283], [2.180819217432524, 41.35961891508436], [2.180803295876718, 41.359601507238146], [2.18078737432937, 41.359584099389764], [2.180772920071585, 41.35956408979328], [2.180760268014339, 41.35954337242027], [2.180747758099888, 41.359520854546474], [2.180736928581942, 41.359497808180954], [2.180727334042704, 41.359471617961724], [2.180717860184109, 41.359445338525184], [2.180707427726046, 41.35941923241422], [2.18069567690972, 41.359393387142816], [2.180678828664371, 41.35936408270665], [2.180659697814357, 41.35933566277176], [2.180642546120473, 41.35931149047682], [2.180624311771874, 41.359287850924], [2.180608761404448, 41.35926945486186], [2.180592249051678, 41.359251502325655], [2.180574308969227, 41.35923299916736], [2.180556368896911, 41.359214496006324], [2.180532869063211, 41.359191269322274], [2.180511053017003, 41.359167243943745], [2.180496017038278, 41.35914596911095], [2.180481701716514, 41.35912442918153], [2.180467260081638, 41.35910342880411], [2.180452698913141, 41.359082427573554], [2.180434611358486, 41.35905662722176], [2.180416523818001, 41.35903082686714], [2.180403796502795, 41.35900659597026], [2.180394308148871, 41.35898148738462], [2.180386239622906, 41.35895755989283], [2.180378169972671, 41.358933722467974], [2.1803630679051, 41.358898665583965], [2.180347846311033, 41.35886360784648], [2.18033937310267, 41.3588338225564], [2.180331501003772, 41.35880377132035], [2.18032140708369, 41.35877928894368], [2.180307715602593, 41.35875568169681], [2.180295941073094, 41.358741275811255], [2.180281517407793, 41.358728382339145], [2.180263846896449, 41.35871699702186], [2.180246415475573, 41.358705613404986], [2.180228800358424, 41.358689814773726], [2.180212512645629, 41.3586730347645], [2.180194839038925, 41.35865237163027], [2.180179568716871, 41.358630734783], [2.180168944716986, 41.3586103920926], [2.180160598802305, 41.358589525177194], [2.180154206255363, 41.3585654294566], [2.180147814843358, 41.35854124366809], [2.180138510348789, 41.35852055007281], [2.180125245156512, 41.358501089317045], [2.180108362068942, 41.35848412489978], [2.18009171807352, 41.358467162183516], [2.180079706820516, 41.35845257443755], [2.180067816244944, 41.358437897474566], [2.180055441855829, 41.358423667441016], [2.1800434328798, 41.35840889955629], [2.180038249083472, 41.35839327954559], [2.180037497370421, 41.35837697050972], [2.180037334321274, 41.35836138627276], [2.180036454023249, 41.35834579692523], [2.180028074268332, 41.358327632025684], [2.180013454623537, 41.358311314250926], [2.179996758691142, 41.35829849462714], [2.179979939832201, 41.358285944351735], [2.179964461938114, 41.358271331891046], [2.179951634310772, 41.35825511695357], [2.179942332179128, 41.35823424320733], [2.179938298912629, 41.35821268640212], [2.179937718775803, 41.35819223511104], [2.179937137508623, 41.35817187388743], [2.179935025950269, 41.35814961017149], [2.179930282228284, 41.35812750784943], [2.179921772813194, 41.35811015269788], [2.179910142898987, 41.358093766139405], [2.179898255817821, 41.35807881895637], [2.17988468273102, 41.35806485058812], [2.179856811097754, 41.35804708721747], [2.179830381885781, 41.35802870359117], [2.179809749451169, 41.358005677343314], [2.179789356112642, 41.35798265279581], [2.179772970632335, 41.357964160589994], [2.179756705832858, 41.357945579166405], [2.17973955030838, 41.35792176700761], [2.179725157802137, 41.357896893633814], [2.179715017877113, 41.35787610397205], [2.179704996368098, 41.35785540522896], [2.179690065786771, 41.357835302021186], [2.179675255886043, 41.357815109596054], [2.179666315917762, 41.35779396818113], [2.179657616167007, 41.35777273840224], [2.179644858834931, 41.35775093924421], [2.179631019993082, 41.357729582752846], [2.179612991594412, 41.357708646770874], [2.179595807906603, 41.35768708627886], [2.179590709879893, 41.357674169125545], [2.179587768103334, 41.3576609070418], [2.179586373563867, 41.357648196441936], [2.179584741075665, 41.35763539407009], [2.179576760874756, 41.3576139892632], [2.179560496217106, 41.35759540781207], [2.179538661463565, 41.35758246140869], [2.179515735021776, 41.35757076827595], [2.179507492780932, 41.35756071112017], [2.179504768613336, 41.3575491620218], [2.179504363216599, 41.35753384628105], [2.179503957819993, 41.35751853054026], [2.179502379648231, 41.35750140492589], [2.179499964698021, 41.35748427334534], [2.17949504054323, 41.35746703379871], [2.179486401606715, 41.35745048837026], [2.179467210738493, 41.357426931884135], [2.179444646752126, 41.35740542308188], [2.179423894730043, 41.357391943923176], [2.179405070058822, 41.35737730752136], [2.179391366751462, 41.357354690908295], [2.179381021876009, 41.357331197486296], [2.179368329594936, 41.35729471643848], [2.17935419719713, 41.35725867549737], [2.179336785205694, 41.35722675464402], [2.179316732050903, 41.357195715708535], [2.179302279894617, 41.357175615860605], [2.179288066825718, 41.357155517715896], [2.179268470373835, 41.35712619346511], [2.179248994610083, 41.35709677999605], [2.179232935709834, 41.357071354219556], [2.179216515941594, 41.35704610601812], [2.179198984123571, 41.357023732301705], [2.179180129467188, 41.357001979676426], [2.179162213028624, 41.3569816749497], [2.179144416140057, 41.35696137107288], [2.179124874842141, 41.356937181499454], [2.179107735652386, 41.35691210830153], [2.179094519752528, 41.35688877452374], [2.17908166360997, 41.35686535323511], [2.179066216105398, 41.35683885088879], [2.179049929579108, 41.356812522706136], [2.179030865382649, 41.356788426595436], [2.179010841496192, 41.35676459386178], [2.17899721950632, 41.35674504035053], [2.17898491923913, 41.356724955813604], [2.178975707736851, 41.35670642459711], [2.178968174305123, 41.35668754504956], [2.178963039568597, 41.35666805208579], [2.178957905966957, 41.356648469054235], [2.178950243953123, 41.35663030919279], [2.178940544133114, 41.35661258516967], [2.178931280589194, 41.35659819705575], [2.17891840599941, 41.35658576483993], [2.1789023826697, 41.356576552878046], [2.1788861146081, 41.35656778954576], [2.178870926922591, 41.356558673617556], [2.178856105780147, 41.35654892977356], [2.178844645294781, 41.35653812900056], [2.178837991243495, 41.35652538085999], [2.178837077749018, 41.356502945516226], [2.178840276765779, 41.35648621428067], [2.178842561363165, 41.35646614372269], [2.178841059905316, 41.356452441517], [2.178832964615239, 41.35644022354553], [2.178812239062951, 41.35642467272515], [2.178795176174526, 41.35641257091071], [2.178778235094597, 41.35640028981177], [2.17876607213893, 41.356388313034955], [2.178757638636417, 41.35637447128363], [2.178750913764591, 41.356357849381276], [2.178744187763917, 41.35634131754604], [2.178736410835433, 41.356322796547104], [2.17872719379773, 41.35630471564822], [2.178714293741906, 41.356284806952004], [2.178701274156251, 41.356264897401246], [2.178690018203434, 41.3562473424016], [2.17867876225662, 41.356229787400835], [2.178667066663756, 41.356209166690476], [2.178655852625088, 41.356188279188984], [2.178644367813456, 41.35616991187081], [2.178629759182371, 41.356152783314094], [2.178610557181227, 41.356139675372525], [2.178590388697196, 41.356127371209745], [2.178564454617642, 41.35610772976459], [2.17854213271948, 41.35608604235888], [2.178525926488597, 41.35606286731903], [2.178509959343561, 41.35603969398352], [2.178491851865967, 41.35601560461068], [2.178473744401629, 41.35599151523502], [2.178460349346854, 41.355972954110065], [2.178447435845637, 41.35595412619446], [2.178434090640608, 41.355931602095325], [2.178422185551457, 41.35590863789776], [2.178410539931909, 41.355884054190305], [2.178400932111227, 41.355859034652156], [2.178396801471722, 41.35583576565372], [2.178393151247537, 41.35581231993372], [2.178387060453468, 41.35579282011613], [2.17837785151404, 41.3557741087165], [2.178364826467292, 41.35575464946545], [2.178351440552855, 41.35573536778757], [2.178332525911575, 41.35570893065973], [2.178313611285491, 41.35568249352881], [2.178300504121057, 41.35566006118859], [2.178287518767588, 41.355637449565364], [2.178270566064412, 41.35561661112412], [2.178251326320653, 41.35559701740801], [2.178217000633607, 41.35556974960965], [2.178184480481907, 41.355541503862966], [2.178161789521199, 41.35551116648722], [2.178142101714835, 41.35547967957122], [2.178127021451425, 41.35545254918741], [2.178111581459119, 41.35542550630799], [2.178093619892298, 41.35539934617348], [2.178074696386468, 41.355373629543806], [2.178063533094356, 41.35535823695754], [2.178049604617582, 41.3553440856788], [2.178035812103583, 41.35533813225088], [2.178020686566714, 41.35533361050991], [2.178001795941672, 41.355324287865784], [2.177997500030409, 41.35531416871131], [2.178000385337085, 41.3553033802462], [2.178007687802749, 41.35529307370994], [2.178014277583836, 41.355282401780215], [2.178015016353585, 41.355261689664225], [2.178010903437136, 41.35524652758245], [2.178003073583466, 41.35523223970738], [2.177983873693946, 41.355209493583565], [2.177964069340169, 41.35518728359244], [2.177949448638699, 41.35517114569294], [2.177934586606714, 41.35515518621886], [2.17791686592838, 41.35513839564137], [2.17789878325265, 41.35512187270197], [2.177883304300057, 41.35510744009968], [2.1778699917262, 41.35509185198872], [2.17785834305584, 41.35506753842777], [2.177848491958115, 41.3550428774052], [2.177835315413099, 41.355016481187015], [2.177821538935376, 41.35499026083233], [2.177803506804845, 41.35496022689506], [2.177785355155554, 41.35493019210093], [2.177768185873765, 41.35489809258327], [2.177751016608622, 41.354865993063015], [2.177738615672447, 41.354844466458694], [2.177724173581616, 41.35482364587348], [2.17770580951861, 41.35480099574993], [2.177687206398498, 41.3547783439152], [2.177668482622755, 41.35475578129086], [2.177649879528302, 41.35473312945016], [2.17763461548423, 41.3547111319967], [2.177621753481454, 41.35468825095013], [2.177607034483958, 41.354660942925726], [2.177593515379609, 41.35463328317167], [2.177583052033726, 41.354609788732745], [2.177572589828977, 41.3545862042253], [2.17756201149844, 41.35456234866004], [2.177551313641066, 41.3545384922395], [2.177539867972861, 41.35451706251546], [2.177527701704503, 41.354495897867054], [2.177517078051985, 41.35447564499871], [2.177508493291774, 41.35445486624769], [2.177500386192285, 41.354424632968495], [2.177492997438974, 41.35439431474715], [2.177488425834134, 41.35437761808068], [2.177483494495381, 41.35436100891854], [2.177473009687724, 41.35433922575231], [2.177458086253339, 41.35431867191888], [2.177444292401641, 41.3543033505441], [2.177430616956452, 41.35428812008959], [2.177416618067997, 41.35427009497685], [2.177404301733651, 41.35425136128415], [2.177392286842697, 41.35422767558491], [2.177380752363605, 41.35420381316715], [2.17737152918823, 41.3541862725645], [2.177368027091068, 41.35417958193348], [2.177353142282482, 41.35415596579048], [2.177334892396418, 41.3541337668002], [2.177315920784463, 41.35411192295006], [2.177293079426984, 41.35408410644017], [2.177271320695595, 41.3540557572117], [2.177257998958424, 41.354031431625515], [2.177248396378224, 41.35400605171964], [2.177242886740945, 41.35398790712598], [2.177237257573263, 41.353969761677455], [2.177227946692605, 41.35394969831781], [2.177215755675938, 41.35393051512192], [2.177197953407517, 41.35391075135184], [2.177180269548801, 41.35389107850122], [2.177158557435228, 41.353859036482774], [2.177136366075938, 41.353827081109], [2.177105677255319, 41.35378641770792], [2.177074749406654, 41.35374575258921], [2.177043094188908, 41.353705892941306], [2.177012882479255, 41.35366532300239], [2.176988956124315, 41.353628761333994], [2.176965389528515, 41.35359211215774], [2.176946978014549, 41.353563786804685], [2.176928687183575, 41.35353537223608], [2.176916547387737, 41.35351213596981], [2.176904528267535, 41.35348881048963], [2.176893161676465, 41.35347062398707], [2.176881675559217, 41.353452436628444], [2.176868898419889, 41.35343234844587], [2.176856001755985, 41.353412259406916], [2.176839563383747, 41.35338863208294], [2.176821202294422, 41.35336580168415], [2.176805637367435, 41.35334875612518], [2.176789710447602, 41.35333197820158], [2.176771177658684, 41.35331329004621], [2.176752766682118, 41.35329442260791], [2.176740573655248, 41.35327541949699], [2.176732222684309, 41.353255092735374], [2.176723794176172, 41.353231432619395], [2.176717880385033, 41.35320743019022], [2.176716701346066, 41.35318715473445], [2.176716239499142, 41.35316688440934], [2.176713674113993, 41.35315227380148], [2.176708356092728, 41.353137913728176], [2.176696587894748, 41.35312314720696], [2.176680727248154, 41.353110603297495], [2.176666473091634, 41.35310338534262], [2.176652100541448, 41.353096076463274], [2.176630199404757, 41.3530790756232], [2.176618021207861, 41.353058901621395], [2.176615009145083, 41.35303230775364], [2.176612355679406, 41.35300571645142], [2.176610928532653, 41.352986159823985], [2.176608543999369, 41.35296668642215], [2.176596849630676, 41.35294606550125], [2.176579876589326, 41.35292693809583], [2.176562699682067, 41.352905016883916], [2.1765457641192, 41.352882917245], [2.176535117189508, 41.35286455570378], [2.176524590932157, 41.35284610494935], [2.176507437902309, 41.3528222923111], [2.176490284884864, 41.35279847967031], [2.176474895332802, 41.35277702161331], [2.1764596264571, 41.352755474342096], [2.176447465400135, 41.352733949309226], [2.176438303980011, 41.35271154498485], [2.1764335913243, 41.35268710075669], [2.17642887980722, 41.35266256646075], [2.17642024907791, 41.35264548039629], [2.176408378530497, 41.35262936197737], [2.176389971255019, 41.352610224278955], [2.176368909334706, 41.35259304924297], [2.176343023049429, 41.35257926254942], [2.176317979167616, 41.35256503150117], [2.176301428793592, 41.35255032078622], [2.176286083953257, 41.35253480801678], [2.176273827615956, 41.35252084863822], [2.176261450617696, 41.35250697847033], [2.176245019801677, 41.35249226860296], [2.176229190052712, 41.352477292808814], [2.176212467655918, 41.352457266385706], [2.176195745269313, 41.35243723996022], [2.176170414130607, 41.352407874112586], [2.176145202545, 41.35237850911514], [2.176117554661436, 41.35234327175247], [2.176092914372111, 41.352306524629114], [2.176074119735091, 41.35227072010895], [2.176058685592266, 41.3522338587375], [2.176048022725894, 41.35220730015033], [2.176042266280123, 41.35218032631264], [2.176042104175421, 41.35216474206233], [2.17604206273652, 41.35214906860028], [2.176041900631822, 41.3521334843499], [2.176041617861424, 41.352117989311225], [2.176036165774028, 41.352104799228535], [2.176028440348815, 41.35209177302012], [2.176022683058045, 41.35207434719533], [2.176018601459787, 41.352056753216765], [2.176018196893564, 41.3520414374571], [2.17602412627097, 41.35202625712372], [2.176037865107632, 41.35201743800089], [2.176046236458541, 41.352007679690196], [2.176051987238368, 41.35199718201116], [2.176054198689477, 41.35198296588921], [2.176051746210066, 41.35196889652644], [2.176043192039876, 41.35195523385553], [2.176035957242321, 41.35194122032774], [2.17603505297451, 41.35192761242773], [2.176035106079527, 41.35191392130662], [2.176036394231446, 41.351897086379836], [2.176037561717353, 41.35188034066471], [2.176036378363825, 41.351860425469646], [2.17603196771555, 41.351840487167635], [2.176019898100719, 41.35182121463327], [2.176001666618072, 41.35180712236692], [2.175994023012001, 41.3517876112933], [2.175995180284117, 41.35177167618621], [2.176000877397502, 41.35175595373621], [2.176015151948504, 41.35173308664693], [2.176031206934454, 41.351711223135766], [2.176039818440511, 41.35170137646875], [2.176048431079686, 41.3516914397335], [2.176058360529125, 41.351671874328694], [2.176057893210971, 41.351652054335325], [2.176054438801767, 41.35163212287979], [2.176049815225747, 41.351610111312795], [2.176042679272328, 41.35158826190894], [2.176030100918682, 41.3515714177756], [2.176011749973691, 41.35155732465506], [2.175996496836949, 41.351553522338975], [2.175982810071969, 41.35154874040412], [2.175972581429457, 41.35153515581314], [2.175964632926427, 41.351520866942614], [2.175950307978998, 41.35149085924585], [2.175936462295434, 41.351460764903315], [2.175925293087959, 41.35143645456776], [2.175916879863489, 41.35141162351211], [2.175916784805478, 41.35139072527499], [2.175915456976884, 41.351372790707394], [2.175902141078964, 41.35135756264033], [2.175886428936682, 41.351342767790385], [2.175881225087437, 41.35132885887106], [2.175877457854165, 41.35131478008799], [2.175878378359402, 41.35129866313394], [2.175874502959434, 41.35128368281934], [2.175859821157856, 41.35127249837113], [2.175844287894656, 41.35126247880713], [2.175823799197487, 41.35124728943859], [2.175803672502989, 41.351231832431964], [2.175794372665384, 41.35121095834669], [2.175782878394784, 41.35120294936592], [2.175770670365671, 41.35119466504499], [2.17576178844332, 41.35117856796103], [2.17577063443022, 41.3511690832953], [2.175772956351, 41.35115558857344], [2.175760530623947, 41.35113613330817], [2.175748800722626, 41.35112785240931], [2.175735225640097, 41.35112370177451], [2.175718374444972, 41.35112340092704], [2.175701405994273, 41.35112291908588], [2.175684577523692, 41.35112081688268], [2.175670733624149, 41.35110954833623], [2.175656515015125, 41.35109008021733], [2.175644105463545, 41.351078821941975], [2.175631336195854, 41.3510676511642], [2.175607683986314, 41.35104739485771], [2.175584030655076, 41.35102722861394], [2.175562016638199, 41.351009776379556], [2.175540365762349, 41.35099196643976], [2.175527023891131, 41.35097880988319], [2.175513923353815, 41.350965474902694], [2.175493962941951, 41.350946325929904], [2.175474002541741, 41.35092717695369], [2.175448894311958, 41.35089916367385], [2.175427276273487, 41.35086928380663], [2.175411029041015, 41.35084007294803], [2.175399938556573, 41.350809547901555], [2.175396889757122, 41.35079538417388], [2.175395036233966, 41.35078122901067], [2.175395189673669, 41.350769069893005], [2.17539486386686, 41.35075699741702], [2.175388881441694, 41.35073848903578], [2.175382061191503, 41.350720064726495], [2.175378009396638, 41.35070012896747], [2.175373480631499, 41.350680099714815], [2.175366602423605, 41.35066626884901], [2.175356963725102, 41.350653318958905], [2.175338639324905, 41.35063715417914], [2.175322115798649, 41.35062037177165], [2.175312411013256, 41.35060318784697], [2.175302946423895, 41.35058591556704], [2.175291487390546, 41.35056565649603], [2.17528110865476, 41.35054504486288], [2.175272370001419, 41.35050814128301], [2.175267105595881, 41.35047063207054], [2.175259299302583, 41.35043562676041], [2.175250294339007, 41.35040088308624], [2.175245358170466, 41.35038472416254], [2.17524042314108, 41.350368475171074], [2.175237427824474, 41.350350078264164], [2.175226453779211, 41.35032928220763], [2.175213199640271, 41.35030919041431], [2.175213907545112, 41.35030045814595], [2.175231228510522, 41.35029193501608], [2.175231887367478, 41.35027761770331], [2.175211408214095, 41.350261707687025], [2.175200829308483, 41.35024748998508], [2.175193968234033, 41.35023230809556], [2.175191849411021, 41.350210764819806], [2.175193077328849, 41.35018924553031], [2.17519495191978, 41.35017331556835], [2.175200051447646, 41.35015758887089], [2.175218800847217, 41.35014006841104], [2.175231905381441, 41.350134127257185], [2.175244899481171, 41.35012746470484], [2.175255268380113, 41.350110965087026], [2.175251541134613, 41.350093733918314], [2.175235490351008, 41.35008686321128], [2.17521881806683, 41.350081879637365], [2.17520551525551, 41.35007511869611], [2.175193556792896, 41.350066025420354], [2.175186182391536, 41.35005363219739], [2.175184068280036, 41.35004118659961], [2.175184466491491, 41.350028578856616], [2.175192512099209, 41.35001620607469], [2.175219043320479, 41.35000720850214], [2.175242257360723, 41.34999584518238], [2.175242810491727, 41.34998990415067], [2.175236905806203, 41.34998418706506], [2.175210710117281, 41.34997607266466], [2.175189576590398, 41.349964661738746], [2.175178540096096, 41.34994881939207], [2.175169782558099, 41.349932362848335], [2.175163008079289, 41.349919793772074], [2.175157669050688, 41.34990714490808], [2.175158084319235, 41.34989318615171], [2.175164119576004, 41.34987908752429], [2.175173881730832, 41.3498633041699], [2.175185896681396, 41.34984897817188], [2.175209337217267, 41.34983860731435]]]], &quot;type&quot;: &quot;MultiPolygon&quot;}, &quot;properties&quot;: {&quot;AEB&quot;: &quot;-&quot;, &quot;ANNEXDESCR&quot;: &quot;Grup - I&quot;, &quot;AREA&quot;: 22879850.05, &quot;AREA_I&quot;: &quot;-&quot;, &quot;BARRI&quot;: &quot;-&quot;, &quot;CODI_UA&quot;: &quot;03&quot;, &quot;COL_DESCR&quot;: &quot;Negre&quot;, &quot;COL_FARCIT&quot;: &quot;1&quot;, &quot;CONJ_DESCR&quot;: &quot;Districtes&quot;, &quot;DISTRICTE&quot;: &quot;03&quot;, &quot;DOCUMENTA&quot;: null, &quot;ELEM_DESCR&quot;: &quot;L\\u00edmit de districte&quot;, &quot;ESTIL_ID&quot;: &quot;0&quot;, &quot;ESTIL_QGIS&quot;: &quot;S\\u00f2lid&quot;, &quot;FCOL_DESCR&quot;: &quot;Negre&quot;, &quot;FHEX_COLOR&quot;: &quot;#000000&quot;, &quot;GRANBARRI&quot;: &quot;-&quot;, &quot;GRUIXDIMEN&quot;: 70.0, &quot;GRUIX_ID&quot;: &quot;6&quot;, &quot;HEX_COLOR7&quot;: &quot;#000000&quot;, &quot;ID_ANNEX&quot;: &quot;01&quot;, &quot;ID_CONJUNT&quot;: &quot;010412&quot;, &quot;ID_ELEMENT&quot;: &quot;0104120101&quot;, &quot;ID_SUBCONJ&quot;: &quot;01041201&quot;, &quot;ID_TEMA&quot;: &quot;0104&quot;, &quot;LITERAL&quot;: &quot;03&quot;, &quot;NDESCR_CA&quot;: &quot;L\\u00edmit de districte (pol\\u00edgon)&quot;, &quot;NDESCR_EN&quot;: &quot;District boundary (polygon)&quot;, &quot;NDESCR_ES&quot;: &quot;L\\u00edmite de distrito (pol\\u00edgono)&quot;, &quot;NIVELL&quot;: &quot;ADM_02_PL&quot;, &quot;NOM&quot;: &quot;Sants-Montju\\u00efc&quot;, &quot;ORD_REPRES&quot;: 5, &quot;PERIMETRE&quot;: 46711.857, &quot;RANGESCALA&quot;: &quot;1-150000&quot;, &quot;SCONJ_DESC&quot;: &quot;Districte&quot;, &quot;SEC_CENS&quot;: &quot;-&quot;, &quot;TEMA_DESCR&quot;: &quot;Unitats Administratives&quot;, &quot;TERME&quot;: &quot;080193&quot;, &quot;TIPUS_POL&quot;: null, &quot;TIPUS_UA&quot;: &quot;DISTRICTE&quot;, &quot;VALOR1QGIS&quot;: &quot;0&quot;, &quot;VALOR2QGIS&quot;: &quot;0&quot;, &quot;WEB1&quot;: &quot;http://www.bcn.cat/sants-montjuic&quot;, &quot;WEB2&quot;: &quot;http://www.bcn.cat/estadistica/catala/dades/guiadt03/index.htm&quot;, &quot;WEB3&quot;: &quot;http://www.bcn.cat/estadistica/catala/documents/districtes/03_Sants_Montju%C3%AFc_2017.pdf&quot;, &quot;ZUA&quot;: &quot;-&quot;}, &quot;type&quot;: &quot;Feature&quot;}, {&quot;geometry&quot;: {&quot;coordinates&quot;: [[[2.103418130488737, 41.40110207297572], [2.10351596852518, 41.40108608145108], [2.103609327892481, 41.40106519091689], [2.103684836996178, 41.40104614289332], [2.103773680497879, 41.40102305525286], [2.103838287014988, 41.40100518324798], [2.103916611519142, 41.40098147311651], [2.103965391747118, 41.40096641421512], [2.10399914731084, 41.40095599423309], [2.103999214593362, 41.40095597313913], [2.103999486140539, 41.40095588698061], [2.104407828369622, 41.40082634205869], [2.104588873654942, 41.40076890626415], [2.104913447786889, 41.40068208486741], [2.105355289141168, 41.40060989642835], [2.1053564258114, 41.40060970800315], [2.10536223992949, 41.400608651598226], [2.105368003404899, 41.40060744977895], [2.105373710232039, 41.400606104300124], [2.105379355613877, 41.40060461602522], [2.105384931152499, 41.40060298669043], [2.105390432038527, 41.400601218059855], [2.105395851057883, 41.400599312779676], [2.105401183388795, 41.40059727351464], [2.105406421854283, 41.400595100208974], [2.105411561607863, 41.400592797328734], [2.105416596644019, 41.40059036662872], [2.105421520944838, 41.40058781076441], [2.105426328480059, 41.400585133291905], [2.10543101683265, 41.400582335993946], [2.10543557758003, 41.40057942240806], [2.105440007071945, 41.40057639700957], [2.105444299302859, 41.400573261553305], [2.10544845183104, 41.40057001962332], [2.105452457405367, 41.40056667656769], [2.10545631360884, 41.40056323416917], [2.105460015595033, 41.4005596968938], [2.105463679599984, 41.4005561377051], [2.105467429049074, 41.40055262872168], [2.105471260341435, 41.40054917081626], [2.105475173477065, 41.400545763988845], [2.105479166014242, 41.400542411823444], [2.105483237977655, 41.400539112518736], [2.105487388121737, 41.40053586966801], [2.105491612870339, 41.40053268234275], [2.105495913394934, 41.4005295523535], [2.105500288474659, 41.40052648149227], [2.105504734533368, 41.4005234688305], [2.105509251534002, 41.40052051707014], [2.105513838280424, 41.400517626201875], [2.105518492355579, 41.400514798008416], [2.105523212563333, 41.400512032480464], [2.105527997695168, 41.40050933050931], [2.105532846530228, 41.40050669388702], [2.105537756676186, 41.40050412259491], [2.105542726912198, 41.400501618425054], [2.10554775605444, 41.40049918046743], [2.10555284288208, 41.40049681051407], [2.105557983781923, 41.40049451033837], [2.10556317876634, 41.40049227903965], [2.10556842662681, 41.400490117509285], [2.105573724946344, 41.400488027529946], [2.10557439121465, 41.400487770592], [2.106253168531996, 41.400227188858814], [2.106256769168715, 41.400225805357366], [2.10626209326702, 41.400223751576256], [2.106267411470569, 41.4002216914439], [2.106272726171705, 41.40021962497885], [2.106278036174239, 41.40021755217183], [2.106283341478179, 41.400215473022826], [2.106288642095876, 41.40021338663121], [2.106293938002639, 41.40021129479827], [2.106299230419311, 41.400209195731996], [2.10630451694123, 41.40020709031446], [2.106309799973046, 41.40020497766359], [2.106315078293923, 41.4002028595714], [2.106320350732382, 41.400200734227305], [2.106325619656066, 41.40019860345118], [2.106330883893497, 41.400196465432444], [2.106336143432313, 41.40019432107173], [2.106341398272535, 41.40019217036906], [2.106346648426489, 41.40019001242377], [2.106351893869496, 41.40018784903714], [2.106357134626244, 41.40018567840792], [2.106362370672032, 41.40018350233739], [2.106367602031559, 41.40018131902424], [2.106372828692485, 41.40017912936912], [2.106378050654787, 41.40017693337206], [2.106383267918486, 41.400174731033005], [2.106388480483568, 41.400172522352015], [2.106393688350046, 41.40017030732905], [2.106398890321739, 41.400168085954824], [2.106404088790981, 41.40016585824796], [2.106409281377784, 41.40016362328918], [2.106414470449797, 41.40016138289837], [2.106419653639358, 41.40015913525569], [2.10642483211797, 41.4001568821717], [2.106430005897958, 41.400154622745745], [2.106435173795515, 41.40015235606788], [2.106440338178253, 41.40015008395801], [2.106445496678556, 41.400147804596244], [2.106450650467894, 41.400145519793185], [2.106455799570953, 41.40014322774753], [2.106460943963032, 41.40014093026055], [2.106466082472673, 41.400138625521684], [2.106471216271345, 41.400136315341534], [2.106476345371385, 41.400133998819406], [2.106481468588972, 41.40013167504542], [2.106486588291753, 41.40012934583941], [2.106491702099744, 41.40012701028216], [2.106496810012943, 41.400124668373664], [2.106501914423658, 41.40012232013253], [2.106507012939591, 41.40011996554014], [2.106512105560718, 41.400117604596524], [2.106517194679371, 41.40011523732026], [2.10652227789089, 41.40011286459341], [2.106527355219948, 41.40011048461467], [2.106532427838038, 41.400108099194654], [2.106537495769819, 41.40010570653204], [2.106542558990618, 41.40010330842812], [2.106547615120451, 41.40010090396368], [2.106552667747814, 41.4000984931666], [2.106557714468025, 41.40009607691895], [2.106562756501936, 41.40009365342869], [2.106567792628705, 41.40009122448786], [2.10657282286067, 41.40008878919581], [2.106577849602472, 41.40008634667047], [2.106582869228642, 41.400083899585894], [2.106587884168505, 41.400081445258735], [2.106592894397367, 41.400078985490325], [2.106597898743765, 41.40007651847001], [2.106602898379172, 41.40007404600843], [2.106607892107444, 41.40007156809626], [2.106612879953228, 41.40006908293221], [2.106617863088029, 41.4000665923269], [2.106622840328004, 41.40006409537036], [2.106627812869331, 41.40006159207189], [2.106632779515842, 41.40005908242222], [2.106637740255202, 41.400056567321954], [2.10664269629591, 41.400054045879784], [2.106647646441789, 41.40005151808639], [2.106652591876681, 41.40004898485173], [2.106657530220599, 41.40004644525656], [2.106662465062004, 41.400043899328736], [2.1066673928001, 41.400041347941084], [2.106672315851863, 41.40003878931084], [2.106677232984135, 41.40003622613071], [2.10668214423393, 41.4000336556987], [2.106687050772719, 41.400031079825425], [2.10669195022052, 41.40002849759165], [2.106696846153479, 41.400025909925894], [2.106701734995459, 41.40002331589963], [2.106706617942613, 41.400020715522174], [2.106711496178769, 41.400018109703446], [2.106716368520086, 41.40001549753351], [2.106721234954252, 41.400012879913014], [2.106726096689741, 41.40001025595062], [2.106730951334236, 41.400007625627715], [2.10673580126773, 41.40000498986357], [2.106740645306393, 41.400002347748206], [2.106745482241738, 41.399999700173], [2.106750315674567, 41.39999704626516], [2.106755142004064, 41.3999943868975], [2.106759962438738, 41.399991721178644], [2.106764776978567, 41.39998904910858], [2.10676958680739, 41.39998637159727], [2.106847875877226, 41.39991781548601], [2.106847880723492, 41.39991781101989], [2.106847884336621, 41.39991780924645], [2.106898827995742, 41.39989124353082], [2.106939319836755, 41.39987087307334], [2.106984086696993, 41.39984835147022], [2.107071725664578, 41.39980119296401], [2.107120730852039, 41.39974275087374], [2.10712569630795, 41.39973682916277], [2.107160109135417, 41.39967070213151], [2.107199282729959, 41.39958178709532], [2.107262709694472, 41.39946365893876], [2.107305750999607, 41.39941116406343], [2.107353124785802, 41.39936822278246], [2.107415196206223, 41.3993343498323], [2.107499232919562, 41.3992985926313], [2.107637589381545, 41.39926041031445], [2.10767496732117, 41.39925031458853], [2.107738160224709, 41.399233258105845], [2.107765657052731, 41.399210911221275], [2.107775829533684, 41.39920264468135], [2.107847466930048, 41.39913231136355], [2.107953177574961, 41.39904411823967], [2.107992999579269, 41.39900679555191], [2.108064297873656, 41.39893996967934], [2.108096068770919, 41.39891088132592], [2.108137974442388, 41.39887251275775], [2.108152402521854, 41.39885930254147], [2.108170562995057, 41.39884267499423], [2.108170564203502, 41.39884267410286], [2.108191610851073, 41.398822400179206], [2.108227760284015, 41.398741658136935], [2.108256965039467, 41.398676428074545], [2.10827274006186, 41.39865674019808], [2.108287263140691, 41.39864357573783], [2.108334351909331, 41.39861439615738], [2.108349820502879, 41.39860618412014], [2.108427220012163, 41.39856509641739], [2.108651232947241, 41.39845025552231], [2.108750017555089, 41.39831109774567], [2.108711682734885, 41.39827912240354], [2.108703550217198, 41.39824920863226], [2.108712466717931, 41.39819547515341], [2.108791051899237, 41.39800940395386], [2.108878058923141, 41.39782949508164], [2.108895622152778, 41.397787196888316], [2.108957296092509, 41.397689420077135], [2.108971382903764, 41.397660876387135], [2.108972274802717, 41.397633149274895], [2.108959505481603, 41.39760201963064], [2.108950346230483, 41.3975868431607], [2.108948160452226, 41.39757608932146], [2.10894855990177, 41.39756611213119], [2.108952792630816, 41.397553993825376], [2.109002974277239, 41.3974672342029], [2.109024351986423, 41.3974426381948], [2.109051373312613, 41.397417356278375], [2.109149527272848, 41.39734259670437], [2.109243143752889, 41.397283953223706], [2.109264463442378, 41.397267975975346], [2.109289617056803, 41.397244463023114], [2.109305520581233, 41.39722407611258], [2.109321642382458, 41.397187963834575], [2.109336469930959, 41.397140892946844], [2.109347993440437, 41.39703503169921], [2.109429526195835, 41.39694107528636], [2.109508454014239, 41.396858637231645], [2.109594371433815, 41.39677416347723], [2.109628694428606, 41.39672746409954], [2.109642656886574, 41.3967036122552], [2.109664827073348, 41.39665860230374], [2.109697691638614, 41.396576762454345], [2.109719784577587, 41.39644580523846], [2.10973605156384, 41.39635536811634], [2.10974609206965, 41.39630447608654], [2.109732503425965, 41.39626745829787], [2.109655652022226, 41.39612410860751], [2.109498073323676, 41.39591268789751], [2.109537662095037, 41.39586437642141], [2.109535645096315, 41.3957782403029], [2.109542179133451, 41.39569942408435], [2.109577997170871, 41.39557986757459], [2.109617062603017, 41.395506513025815], [2.109778953388761, 41.39532902757781], [2.109942750604695, 41.39517447167208], [2.110913172483111, 41.39582848090855], [2.111077590023474, 41.39589290092319], [2.11164197947928, 41.39618667022371], [2.111936753099696, 41.39636396109078], [2.112185646398962, 41.39654791401404], [2.112675910278071, 41.39699956580187], [2.112696770423001, 41.39701159042229], [2.113125653195687, 41.39725881057571], [2.113306040433487, 41.397157757017915], [2.114852010508328, 41.39629167638383], [2.115611437268369, 41.395874695110365], [2.115816796744654, 41.395786204896794], [2.115962420158226, 41.395723454516975], [2.116825432163933, 41.39550193429747], [2.117361910459054, 41.395364225457506], [2.117630025561647, 41.39524133010451], [2.117803540831352, 41.39512933749352], [2.118011500087633, 41.39495848353427], [2.118164391451373, 41.394781901747095], [2.1182941859898, 41.394588331192196], [2.118373422564604, 41.394405873857], [2.118444971838944, 41.394074615169586], [2.118477264150663, 41.39376038245832], [2.118428924108283, 41.393459688121524], [2.118357900398535, 41.39319724767672], [2.118184022026623, 41.39287722134534], [2.117984038233725, 41.392594006388165], [2.117764687926059, 41.39237910849035], [2.117560639602915, 41.392224209301965], [2.11756907265727, 41.392218529002264], [2.118006517252065, 41.39192389554427], [2.118565406083764, 41.39177913682242], [2.119369588536789, 41.39157083883143], [2.119838636248562, 41.3913701334203], [2.11991964206356, 41.39132627316381], [2.12001305483902, 41.391275695374446], [2.120336782543478, 41.39101159682973], [2.120399271727245, 41.3909513181324], [2.120551840374218, 41.39080414721113], [2.120730624459191, 41.39053334323641], [2.120898648403565, 41.3900907199279], [2.121261068748637, 41.39023110119251], [2.121514277975681, 41.3903291788617], [2.121769323992395, 41.39042796717311], [2.122269831233699, 41.39062182995761], [2.122870516757682, 41.39077159157138], [2.123404596384074, 41.39090474354465], [2.123895464769727, 41.3910271207428], [2.125580997837767, 41.39144731433499], [2.125651200791713, 41.39146481523828], [2.125849799016762, 41.39151432332966], [2.127065758983151, 41.39181743327168], [2.127351875822808, 41.39188875320539], [2.129047597198162, 41.392311426052565], [2.129333013868311, 41.39238256552104], [2.129369762592186, 41.39240267448448], [2.12958579401447, 41.392520890173124], [2.129630916389652, 41.39255620759225], [2.129695231398088, 41.39259355723503], [2.129752543173533, 41.39262004488554], [2.129817214605696, 41.39264117286425], [2.129887727401058, 41.392663965427836], [2.129977658895378, 41.39268394942524], [2.13008375608262, 41.39268206648885], [2.130168811589574, 41.39266037094327], [2.130228097952964, 41.39262919922411], [2.130668872792465, 41.39246775357326], [2.131784660300495, 41.39229833267894], [2.132480129270291, 41.39219272677964], [2.136423576232475, 41.39159383410693], [2.137468065224271, 41.39143518310743], [2.138767455123978, 41.39123837088353], [2.1393657441109, 41.39139033172592], [2.142315858838546, 41.392133394788516], [2.144054396207611, 41.3925745897198], [2.144066249999824, 41.392557723092864], [2.144096857678154, 41.39252338631814], [2.144146363862087, 41.392478879229], [2.144184076772139, 41.39245255160101], [2.144257813124253, 41.392413791314674], [2.144344469154218, 41.39238404447907], [2.143958233663882, 41.3914714595523], [2.143801570316877, 41.39102711604848], [2.143649325158597, 41.390500557723094], [2.143529434907914, 41.390043408574805], [2.143197712924218, 41.388718520906046], [2.142939731698577, 41.387677542903184], [2.142751049243238, 41.38660345725624], [2.142645679029132, 41.38565109151243], [2.142641962922323, 41.38561750185989], [2.142641936207504, 41.38561725935896], [2.142641927136334, 41.38561713048404], [2.142304045784269, 41.385364658634415], [2.140707132570582, 41.38417137189179], [2.140339990442413, 41.383958873525636], [2.139057167932378, 41.38321636669665], [2.137612931320606, 41.382571008691606], [2.13758603056899, 41.38256104743966], [2.137191765184378, 41.382415057035914], [2.136947408110303, 41.38232457439941], [2.136265870921896, 41.382072204406946], [2.135874170273215, 41.38192715561314], [2.13549693003854, 41.38178746100307], [2.134807694689544, 41.381532227705144], [2.133549330700335, 41.38115910434322], [2.132770321055513, 41.38092810748755], [2.132400996678705, 41.380818590705985], [2.131778242765538, 41.380633920738624], [2.131667452528608, 41.38060106663851], [2.130837212915996, 41.3802707622317], [2.130716576017431, 41.380207415379346], [2.129934233441018, 41.379796595962134], [2.129207541527778, 41.37941499028941], [2.129154205856545, 41.37938698223321], [2.128535800020524, 41.37906223291253], [2.127582181153937, 41.37856143655919], [2.127510929469131, 41.37851969326374], [2.126989222865078, 41.37821404231087], [2.125744056586191, 41.377484519092825], [2.125285027069998, 41.37721557380351], [2.125049015620688, 41.37707729313723], [2.124421625177884, 41.376701933813294], [2.123711378590357, 41.37627699328278], [2.122703165949952, 41.37567376118868], [2.121786937204656, 41.375694665694844], [2.121702597092991, 41.37588089906021], [2.121661928712537, 41.37597113576781], [2.121618576717804, 41.376111858902], [2.121628648031626, 41.376444639079594], [2.121653346731151, 41.37726070643557], [2.121645429619945, 41.3773416244296], [2.12158157127342, 41.37757138335465], [2.121531842179557, 41.37768575670218], [2.121488313420294, 41.37784021574775], [2.121441225425024, 41.37798561756814], [2.121057964160574, 41.37770760491446], [2.119727202015987, 41.376918167268656], [2.119698640172739, 41.37690122361989], [2.117801223160851, 41.37577564722644], [2.11736608846849, 41.37578432997923], [2.113571116586519, 41.375859989327964], [2.109306402719081, 41.3759448645919], [2.1093192689509, 41.37614899688203], [2.109317249183654, 41.37619457545841], [2.109314079084295, 41.37623909665619], [2.109303784922095, 41.37632799855295], [2.109289194739023, 41.37642876971541], [2.109253449620758, 41.37658135944756], [2.109227393456826, 41.37667327753274], [2.109181740041891, 41.37680003806649], [2.109128660114155, 41.37691540963716], [2.109064982990778, 41.37703791414422], [2.108985564529627, 41.37716943934316], [2.108921884353693, 41.37726058860755], [2.108819603307086, 41.377390144143085], [2.108733107813017, 41.377488043368494], [2.108639513918279, 41.37758134775637], [2.108502776116283, 41.37770496135056], [2.108389221808981, 41.37781748602941], [2.10831199043605, 41.37790341367592], [2.108229632131606, 41.378006586939584], [2.108167638208424, 41.37809409179025], [2.108140929348966, 41.37813558773053], [2.10749436063284, 41.37846456291443], [2.106095685140674, 41.37917618505404], [2.105982576103822, 41.379233787520775], [2.105498969076284, 41.378876757507285], [2.104044630035769, 41.379942694041794], [2.104002457228277, 41.37997197511893], [2.103962790995189, 41.379999515633585], [2.103901327725893, 41.380039967082304], [2.103861600136803, 41.38006517594234], [2.103821187069268, 41.380088046506806], [2.103774344386297, 41.380112335201076], [2.103720104967139, 41.380137752549295], [2.10365143134515, 41.380166089357466], [2.103600267458218, 41.38018464707412], [2.103541363684712, 41.38020493696101], [2.103485352760625, 41.380221921084924], [2.103440675315315, 41.38023395829566], [2.103391336864004, 41.38024577001251], [2.103333004926474, 41.38025759269325], [2.103257211513865, 41.380270360163806], [2.103179112710393, 41.38027970568163], [2.102655833632692, 41.38059632102627], [2.102592882659934, 41.38064180256548], [2.102540983699147, 41.38068672353198], [2.101931666438984, 41.381343030831964], [2.101728854303173, 41.38177293304426], [2.101707911224231, 41.38182661186864], [2.101707720337445, 41.381827099485584], [2.101181542795328, 41.38317565805676], [2.101362344459885, 41.38322879037165], [2.101437958555774, 41.38324930546181], [2.101514287863989, 41.383268258782756], [2.101591285165706, 41.383285604926925], [2.101668878333112, 41.38330137035235], [2.101925653529716, 41.38335270881078], [2.102074867494123, 41.383384588882365], [2.102178996438999, 41.38340580339954], [2.102253973778597, 41.38342221457469], [2.102475205028499, 41.38349532483469], [2.102529263083412, 41.38351882368873], [2.102582140644331, 41.3835438085547], [2.102633742416781, 41.38357025166859], [2.102683997146694, 41.38359811644638], [2.102732845538192, 41.3836273663975], [2.102775259288583, 41.38365663821342], [2.102816391233637, 41.383686935881116], [2.102856181952112, 41.383718231916184], [2.102894572517631, 41.38375046280812], [2.102931515590605, 41.38378359215923], [2.10312609730779, 41.383991966129884], [2.103237799455379, 41.38412363458041], [2.103346216340691, 41.38425854704045], [2.103434853064911, 41.38436751681594], [2.103367119374218, 41.38449329211524], [2.103354489177213, 41.38451674378891], [2.103393596755677, 41.38455324784985], [2.10338139250799, 41.38457895021521], [2.102893229194786, 41.385487474645835], [2.1026858640018, 41.38555236723919], [2.102680115878131, 41.38558542765093], [2.102609877394996, 41.3857504285833], [2.102524463237371, 41.38581959748808], [2.102510730068467, 41.38584676505762], [2.102491136655678, 41.38588521834014], [2.102389765546597, 41.38594581364779], [2.102351925489394, 41.385993483346354], [2.102291952756955, 41.38606333695307], [2.102262617161338, 41.38611790065005], [2.102029269881625, 41.386245850743514], [2.102006385783219, 41.38628526007546], [2.101946398175098, 41.38633876478425], [2.101912657445798, 41.386401391741536], [2.101880971110677, 41.386412070507006], [2.10180699258585, 41.386494911423675], [2.101678529324368, 41.38657899331643], [2.101580455456015, 41.386643207630605], [2.101538577041282, 41.386726983574384], [2.101443786134869, 41.386795961344355], [2.101349845154943, 41.386849236609734], [2.101114405376907, 41.38708145899995], [2.101185275420486, 41.387116311343966], [2.101249634602379, 41.387146709927364], [2.101287425528138, 41.38715830049655], [2.101387226467132, 41.387191101587376], [2.101447770999368, 41.387210165868645], [2.101495867773813, 41.38722292675599], [2.101598344781202, 41.387249884684756], [2.101750413818111, 41.38727917529612], [2.101831805115214, 41.38729567284651], [2.101926746412352, 41.38731834714704], [2.10196818109155, 41.38733112789868], [2.102012500869293, 41.38734632714397], [2.102032344860981, 41.387355777740765], [2.102069710730072, 41.38737741709458], [2.102127076434305, 41.3874145702734], [2.10216720514586, 41.3874405637574], [2.102196356147223, 41.38745423940069], [2.102215194002293, 41.38746032232163], [2.102234724623912, 41.38746473525163], [2.102254673815577, 41.38746741299859], [2.102290769445304, 41.38751810503523], [2.102107626414207, 41.387570684029825], [2.101881157014971, 41.387654649835056], [2.101591779924055, 41.38778773817647], [2.101167257998329, 41.38800589885894], [2.100704835808393, 41.38826416303462], [2.100589862498846, 41.388409884661755], [2.100492400786639, 41.38860598953612], [2.100307884657327, 41.38895398427296], [2.100256875351445, 41.38909877528631], [2.100206033974692, 41.38929616770321], [2.100197466265314, 41.38937884347083], [2.100246861395705, 41.389588398876114], [2.100248772874643, 41.38968684672697], [2.100170736985419, 41.38990467701099], [2.100017584311471, 41.390140454413526], [2.099973677136083, 41.390267114707896], [2.099946968982966, 41.39042036810594], [2.099855815797527, 41.390789676178194], [2.099824131595617, 41.39097914932874], [2.099775074027236, 41.391456164828895], [2.099775502898348, 41.39164893191654], [2.099802134969599, 41.39182413224415], [2.099796018065564, 41.392004543887104], [2.09971463748801, 41.392113277803446], [2.099644564891408, 41.39219202236329], [2.099478739770871, 41.39236845216758], [2.09937576748208, 41.39246334438953], [2.099227227198474, 41.39270279574223], [2.09912769277184, 41.39281138800415], [2.098989923001651, 41.392922233490594], [2.098904802961997, 41.39297026494337], [2.098479395419137, 41.39315626078602], [2.09805129254282, 41.39342872373192], [2.09803835401637, 41.39360322328175], [2.098016634318092, 41.39363764173635], [2.097791806615176, 41.393957105534575], [2.09792226660724, 41.39409322078652], [2.098086992199542, 41.394252655527815], [2.098211491914366, 41.39444015642499], [2.098327615283784, 41.39460975403354], [2.098408346956445, 41.39478866716409], [2.098460145836651, 41.39490852840488], [2.098508854241241, 41.394982659666645], [2.098619124776941, 41.39507592138594], [2.098748413523646, 41.39517830251544], [2.098871087479866, 41.3952644191353], [2.098967917635676, 41.39534951806573], [2.099020897476528, 41.39541238087623], [2.099074539462604, 41.39558391594211], [2.099119361147366, 41.39576998754052], [2.09917171048668, 41.39587906720402], [2.099264925937998, 41.39607037715035], [2.099387083138952, 41.39627164973997], [2.099498612752432, 41.396384436054745], [2.09962746784183, 41.396490875159785], [2.099755073093827, 41.39660946533242], [2.09984170209761, 41.39670465764086], [2.099925130449211, 41.39681249475899], [2.099967768576465, 41.396889927779185], [2.100010308800005, 41.3969739444808], [2.100039806807283, 41.397099225978515], [2.100067578595746, 41.39725833864751], [2.10009234698355, 41.39736384415489], [2.100147040733555, 41.39756359830736], [2.100175038854991, 41.39761553278272], [2.100214361931374, 41.397661908130196], [2.100270886697535, 41.3977281668647], [2.100319260436901, 41.397785661516664], [2.100368304177986, 41.39787004509118], [2.100383802451734, 41.39791430288915], [2.100444565901855, 41.39800294311919], [2.100463103253036, 41.39807448938588], [2.100477199709702, 41.398265702135284], [2.100459374052359, 41.398345364475205], [2.100462720843208, 41.39850709278482], [2.100495581593998, 41.398551450275114], [2.10052988580053, 41.39858265461964], [2.100576473348178, 41.39861480257883], [2.100709409367817, 41.39868121161519], [2.100828078664448, 41.39873298355484], [2.100927577246066, 41.398775529642194], [2.101063054001441, 41.39883288219454], [2.101162232192022, 41.39887274405133], [2.101263712510329, 41.398920478320505], [2.101369142642421, 41.39897023850447], [2.101483793258627, 41.39902507064536], [2.101575903578614, 41.39907872053323], [2.101681036348665, 41.39915045724073], [2.101736027786074, 41.3992028218588], [2.101806591357622, 41.39928027852797], [2.101919159050569, 41.39939002063344], [2.101971540244945, 41.39943937067985], [2.102035648068572, 41.399503791648264], [2.102089028437758, 41.399577120120846], [2.102126393230627, 41.39965731158359], [2.102162306671581, 41.39974648116371], [2.102216933818946, 41.3998258128749], [2.10228753625212, 41.399900274562896], [2.102342501337626, 41.3999546347368], [2.102418120082758, 41.400051090288834], [2.102548948220711, 41.400193756909786], [2.102674421381527, 41.40032388375158], [2.102776154421367, 41.40044541775621], [2.10283266760813, 41.40052027275166], [2.102869288404119, 41.400600300531394], [2.102894485559393, 41.40066712975642], [2.102901911975302, 41.40076004116132], [2.102897391208153, 41.400877987549016], [2.102893125865294, 41.40097736072274], [2.102909426945708, 41.40105832085142], [2.102925783015635, 41.40109657699496], [2.102995342887464, 41.401101818518406], [2.103008984529014, 41.401102847236004], [2.103037767011737, 41.40109766714284], [2.103062108785773, 41.40109353332057], [2.103088832996593, 41.4010901386628], [2.103119609334265, 41.401087856482185], [2.103148663969615, 41.40108898371109], [2.103179680279521, 41.40109535055531], [2.103219318953671, 41.40110106399927], [2.103272935536352, 41.40110814741757], [2.10332883971927, 41.40111416774268], [2.103418130488737, 41.40110207297572]]], &quot;type&quot;: &quot;Polygon&quot;}, &quot;properties&quot;: {&quot;AEB&quot;: &quot;-&quot;, &quot;ANNEXDESCR&quot;: &quot;Grup - I&quot;, &quot;AREA&quot;: 6010769.037, &quot;AREA_I&quot;: &quot;-&quot;, &quot;BARRI&quot;: &quot;-&quot;, &quot;CODI_UA&quot;: &quot;04&quot;, &quot;COL_DESCR&quot;: &quot;Negre&quot;, &quot;COL_FARCIT&quot;: &quot;1&quot;, &quot;CONJ_DESCR&quot;: &quot;Districtes&quot;, &quot;DISTRICTE&quot;: &quot;04&quot;, &quot;DOCUMENTA&quot;: null, &quot;ELEM_DESCR&quot;: &quot;L\\u00edmit de districte&quot;, &quot;ESTIL_ID&quot;: &quot;0&quot;, &quot;ESTIL_QGIS&quot;: &quot;S\\u00f2lid&quot;, &quot;FCOL_DESCR&quot;: &quot;Negre&quot;, &quot;FHEX_COLOR&quot;: &quot;#000000&quot;, &quot;GRANBARRI&quot;: &quot;-&quot;, &quot;GRUIXDIMEN&quot;: 70.0, &quot;GRUIX_ID&quot;: &quot;6&quot;, &quot;HEX_COLOR7&quot;: &quot;#000000&quot;, &quot;ID_ANNEX&quot;: &quot;01&quot;, &quot;ID_CONJUNT&quot;: &quot;010412&quot;, &quot;ID_ELEMENT&quot;: &quot;0104120101&quot;, &quot;ID_SUBCONJ&quot;: &quot;01041201&quot;, &quot;ID_TEMA&quot;: &quot;0104&quot;, &quot;LITERAL&quot;: &quot;04&quot;, &quot;NDESCR_CA&quot;: &quot;L\\u00edmit de districte (pol\\u00edgon)&quot;, &quot;NDESCR_EN&quot;: &quot;District boundary (polygon)&quot;, &quot;NDESCR_ES&quot;: &quot;L\\u00edmite de distrito (pol\\u00edgono)&quot;, &quot;NIVELL&quot;: &quot;ADM_02_PL&quot;, &quot;NOM&quot;: &quot;Les Corts&quot;, &quot;ORD_REPRES&quot;: 5, &quot;PERIMETRE&quot;: 12551.602, &quot;RANGESCALA&quot;: &quot;1-150000&quot;, &quot;SCONJ_DESC&quot;: &quot;Districte&quot;, &quot;SEC_CENS&quot;: &quot;-&quot;, &quot;TEMA_DESCR&quot;: &quot;Unitats Administratives&quot;, &quot;TERME&quot;: &quot;080193&quot;, &quot;TIPUS_POL&quot;: null, &quot;TIPUS_UA&quot;: &quot;DISTRICTE&quot;, &quot;VALOR1QGIS&quot;: &quot;0&quot;, &quot;VALOR2QGIS&quot;: &quot;0&quot;, &quot;WEB1&quot;: &quot;http://www.bcn.cat/lescorts&quot;, &quot;WEB2&quot;: &quot;http://www.bcn.cat/estadistica/catala/dades/guiadt04/index.htm&quot;, &quot;WEB3&quot;: &quot;http://www.bcn.cat/estadistica/catala/documents/districtes/04_LesCorts_2017.pdf&quot;, &quot;ZUA&quot;: &quot;-&quot;}, &quot;type&quot;: &quot;Feature&quot;}, {&quot;geometry&quot;: {&quot;coordinates&quot;: [[[[2.073126145663898, 41.435218031671106], [2.073187316002088, 41.43521162483448], [2.073290664948141, 41.43524400136338], [2.073431527730795, 41.435249306446636], [2.073813230968142, 41.435294561899084], [2.07388640346109, 41.43533046903934], [2.07394887278084, 41.43534804096643], [2.074192093138019, 41.435358690762186], [2.074326258062993, 41.435353393172846], [2.074772283461998, 41.43530179202626], [2.075019173669851, 41.434807711547734], [2.075020514779823, 41.43476164223006], [2.075112922032758, 41.43458591204777], [2.075144181253092, 41.43450273673828], [2.075045125338996, 41.43405248862151], [2.075064333796544, 41.43393374525269], [2.075065972343643, 41.43387059846811], [2.074872005402218, 41.433566930241625], [2.074847015382248, 41.43349688581249], [2.074845107234752, 41.433444141085594], [2.07488972648878, 41.43335485815664], [2.074951212285969, 41.433301650405596], [2.075013834191334, 41.43323501269877], [2.075089412294583, 41.43319914935919], [2.075154707290821, 41.43305042150445], [2.07520163941526, 41.4330089503659], [2.075334137577688, 41.4329446576579], [2.075467356739923, 41.432934126823], [2.075677703028542, 41.43294385171853], [2.075843652743701, 41.432927710594235], [2.076198263019196, 41.43291103069245], [2.076334038614029, 41.43288394574404], [2.076492669647414, 41.43286480850342], [2.076714096550996, 41.43285528154131], [2.076757995649809, 41.43284532937861], [2.076921341079253, 41.432751927237184], [2.077027826576352, 41.43265737511382], [2.077097871509784, 41.43261825941488], [2.077288812663534, 41.43244986623011], [2.077630489512496, 41.432235644677526], [2.077811053240039, 41.432132227953], [2.077985332425857, 41.432086353976636], [2.078074351026274, 41.432056226016336], [2.078423283024401, 41.431985377191275], [2.078546070938797, 41.43196921065172], [2.078992077271181, 41.43198236611369], [2.079119868914248, 41.431964437537935], [2.079361621291957, 41.43194092652943], [2.079431835813969, 41.43191930315531], [2.079467248855685, 41.431916073638156], [2.079552658113192, 41.43193719485983], [2.079621745218363, 41.431940305716545], [2.079894096022533, 41.43191038190689], [2.079988788245428, 41.431883531501406], [2.080143732871614, 41.43179234364997], [2.080201597746778, 41.43173468597493], [2.08026185808466, 41.43154835667991], [2.080265003580871, 41.43139725000851], [2.080243672374467, 41.43127546674583], [2.080175239727415, 41.43115168914824], [2.080181073894873, 41.43103811445027], [2.080137504946168, 41.4309557085224], [2.08013614038234, 41.43091154956265], [2.080166223653064, 41.43086285010928], [2.08025203901333, 41.43080161745095], [2.080383765717454, 41.43074009330152], [2.080769561145221, 41.43063882841256], [2.080887999000822, 41.43062775342607], [2.081011086109007, 41.43063724606281], [2.08113336514753, 41.430667209575134], [2.08123892717412, 41.43072388245327], [2.081253520339898, 41.43075265519474], [2.081224798334285, 41.43083151633295], [2.081206886376441, 41.43099490292435], [2.081149188823838, 41.4310745000147], [2.081101421346108, 41.431161994829694], [2.081113149229077, 41.431240164788896], [2.081175418077143, 41.43132868171185], [2.081370455320079, 41.43150967422869], [2.081512303174953, 41.43168910231985], [2.081582652602498, 41.431750391965494], [2.081861162212715, 41.43189652656471], [2.082040420438696, 41.431930257678275], [2.082112213525469, 41.43195878954243], [2.082259374025213, 41.43199875315012], [2.082371882341862, 41.432015134383015], [2.08252595688513, 41.43201314852068], [2.082650736147735, 41.431989620909015], [2.082703182156021, 41.431957369213926], [2.082739660888886, 41.43190376510884], [2.082752426617822, 41.43183524299804], [2.082781874043383, 41.43174641246015], [2.082772421829356, 41.43171218998408], [2.082739864844369, 41.43165615648115], [2.082580266867853, 41.43147390773693], [2.082518535207255, 41.431335025483854], [2.082463689198506, 41.43123762772538], [2.08244991895584, 41.43116558466861], [2.082468001210583, 41.431066722067804], [2.082564111158145, 41.43088920657246], [2.082598421954952, 41.43079794051402], [2.082635142046542, 41.430771527243785], [2.082725682034338, 41.43075776887231], [2.083361775924307, 41.430817298727554], [2.083624426716427, 41.43091667131808], [2.083726151685624, 41.430924840638504], [2.083896003143205, 41.43089201919856], [2.084075574536727, 41.43079606984614], [2.084129634696004, 41.43075103980854], [2.084110463923928, 41.43069039336611], [2.084007835248362, 41.43054645738843], [2.083853449533878, 41.43041743077211], [2.083817491951946, 41.43034906004159], [2.083735025178283, 41.43028904346378], [2.083711570520849, 41.43024088764669], [2.08371228540567, 41.43014034442963], [2.083743017208275, 41.430092716571934], [2.083890484269689, 41.42997299612043], [2.084090104367548, 41.42988823145752], [2.085368900519603, 41.42931572819026], [2.085579502662981, 41.429067610389964], [2.085726905110826, 41.42900352407395], [2.085891748046594, 41.42899287215804], [2.085935895851367, 41.428983675076154], [2.08606050865135, 41.42893925870871], [2.08615734889408, 41.42891492432321], [2.086419519905034, 41.428886939823585], [2.086495058716864, 41.42887356015577], [2.086913133378698, 41.428835652201215], [2.087286682860654, 41.42878004118896], [2.08759324655285, 41.42865432438493], [2.087652528493331, 41.4286232595542], [2.087735542518569, 41.428537518677935], [2.087778874186266, 41.428464325686825], [2.087889874945893, 41.42831745705681], [2.088016524150241, 41.428246212585], [2.088197551692403, 41.428199196588125], [2.088291179693866, 41.428203642479026], [2.088349237828591, 41.42823314070419], [2.088661219568785, 41.42844879125029], [2.088707877467803, 41.428494540249446], [2.088785779485208, 41.42860651607873], [2.088998653435894, 41.42900738932654], [2.089205675054448, 41.42924454917611], [2.089950218890142, 41.42899870734555], [2.090199947946993, 41.42878932521184], [2.090425973199137, 41.42864378167843], [2.090834554290006, 41.42881271913241], [2.090993170570327, 41.42896418933921], [2.090986738955448, 41.428987692929546], [2.090994510725969, 41.42901568635581], [2.090978768006582, 41.42903489189215], [2.091000150274422, 41.42911931627469], [2.091049815982756, 41.42915121665917], [2.091155936155231, 41.42919251641037], [2.091185456088927, 41.429192056045835], [2.091237169210196, 41.42921274927546], [2.0913300619905, 41.42921305067952], [2.09136220158856, 41.42923757953598], [2.091421207435484, 41.42926004529615], [2.091590764528893, 41.429360732565094], [2.091661365080038, 41.429430268868], [2.091754577712808, 41.4294531540626], [2.091808407444997, 41.42948859988829], [2.091881835707492, 41.429497817658344], [2.091960719096605, 41.42948659556186], [2.092018341249768, 41.429491238817604], [2.092054173571352, 41.42953422581122], [2.092189515776576, 41.42956734230257], [2.092250535278108, 41.42963138917695], [2.092274758055772, 41.42964606424144], [2.092428498250586, 41.42981563493265], [2.092447768783667, 41.43005698769231], [2.092497499869368, 41.43015390353251], [2.092533370341029, 41.43019162133309], [2.092636760649886, 41.4302555338324], [2.092668007438209, 41.43029525980689], [2.092734605254004, 41.430333526139115], [2.092850332793001, 41.43054549163714], [2.092904373674751, 41.430677642279804], [2.092944111439969, 41.43072302873613], [2.093107847845115, 41.43085230605592], [2.09325641024587, 41.43093159846357], [2.093344613752391, 41.43099469704945], [2.093477088030521, 41.4311516324426], [2.093544243804589, 41.43120925063834], [2.093633931098122, 41.43131285805192], [2.093660000017224, 41.4313764306348], [2.093750764062579, 41.431536892263274], [2.093836719259024, 41.431649009148124], [2.093936301379079, 41.431717637384835], [2.093956695534407, 41.43176474737939], [2.093940083879888, 41.43183810537816], [2.093986834800224, 41.43194818394275], [2.094031819631092, 41.43198817085957], [2.094036397894901, 41.43203764863647], [2.094054813787225, 41.432060312210275], [2.094064195582903, 41.432104333287846], [2.09417549238919, 41.43217666554088], [2.094239954872054, 41.43227230945336], [2.094252733203207, 41.43231222285147], [2.094421752842978, 41.43252169689255], [2.094713156324191, 41.43276069274051], [2.094802048003075, 41.432756099463134], [2.094875630606975, 41.43276053360163], [2.094965009238135, 41.4327979149945], [2.09524140852426, 41.43282011261829], [2.095440273397849, 41.43285268630005], [2.095734969391915, 41.43309336010917], [2.096071074614947, 41.43327334769754], [2.096283793444863, 41.43313200907155], [2.096595288318394, 41.432852883756], [2.096779569371727, 41.43262354628022], [2.097212394176126, 41.43244746729055], [2.097724998441852, 41.432186904901975], [2.097862481736098, 41.43215761910293], [2.098511358671212, 41.43192717067224], [2.098828976692111, 41.43171391342979], [2.098909479331202, 41.431625091320726], [2.098924404134433, 41.43156711035674], [2.098852778012129, 41.431316143000664], [2.098764313804653, 41.43093746255771], [2.098711691213043, 41.43091475692957], [2.098790077417471, 41.430750877474196], [2.099073277984943, 41.430364605519806], [2.099105116517304, 41.43030382055454], [2.099162175856956, 41.43014357044024], [2.0996922133082, 41.430154059122266], [2.100110315802967, 41.430066785078246], [2.100893819024557, 41.42986462352504], [2.101139566475641, 41.429797646105804], [2.101229877514696, 41.42964904012624], [2.101280587476979, 41.42958383881696], [2.101494772470868, 41.42936554152419], [2.101843883378968, 41.42903145206443], [2.1020933922823, 41.428652890942296], [2.102383856261394, 41.42853855560864], [2.102514264346799, 41.428477513670764], [2.102705492876437, 41.42843252702706], [2.102981260589601, 41.42826210429584], [2.103220444315637, 41.42807402940126], [2.103645298618561, 41.42811442491688], [2.10373412436661, 41.42814883987711], [2.104118072174828, 41.428391251500656], [2.104360824349108, 41.428435935039204], [2.104680236115418, 41.42854418382003], [2.105291169164924, 41.42878863434568], [2.105754066750587, 41.42880337024859], [2.105898927673548, 41.42856994096977], [2.106341002205441, 41.4285033125087], [2.106624095536123, 41.42863610454501], [2.107184714382106, 41.42862321831296], [2.107720334609977, 41.42863546795071], [2.10839850321018, 41.42872600731645], [2.108886857650774, 41.4287455270979], [2.109199797721193, 41.428722892022826], [2.109267324211029, 41.42870729878443], [2.109457745907527, 41.428509831315324], [2.109590633094614, 41.42839991540986], [2.110161189937457, 41.42847766038347], [2.110300010116537, 41.42848709925384], [2.110639490629884, 41.428362783373295], [2.110943099796102, 41.428290804375365], [2.111089086986741, 41.428283511433555], [2.111740567262572, 41.428333978715735], [2.111864146404456, 41.42835033192156], [2.111923459656498, 41.42837195636735], [2.112022130542774, 41.428424795375726], [2.112162106422877, 41.4285551476513], [2.112259770456915, 41.428597064382195], [2.112336948418551, 41.42861300676805], [2.112376932592153, 41.428611422815884], [2.11246299298992, 41.42859083376059], [2.112873602819838, 41.428378987158744], [2.11293951865459, 41.4283602087251], [2.113006680987707, 41.42836951782618], [2.11332361111332, 41.42850357032437], [2.113558534470193, 41.428398608446265], [2.114054858797469, 41.42820192630411], [2.115301191182856, 41.42773590895075], [2.11543744449229, 41.427506507829165], [2.115432544651674, 41.42738008776936], [2.115418218590154, 41.42728561214758], [2.115436183444057, 41.42711183386477], [2.11562836800674, 41.42678247287943], [2.116003967030489, 41.42672425136623], [2.116322280492132, 41.42666172082265], [2.116543759938363, 41.42655233496144], [2.11677150090406, 41.42641878475807], [2.117190381568283, 41.426305780550194], [2.117745740556968, 41.42621781643008], [2.11806149226947, 41.426138493171514], [2.118478730402587, 41.42596772409476], [2.118850742786436, 41.42584629753114], [2.119408154634586, 41.42568716882862], [2.119681619219523, 41.42576227688517], [2.120825776907826, 41.425944251907715], [2.120958140460076, 41.42594232693754], [2.121072447284546, 41.425921591448535], [2.12119207370489, 41.425882656422296], [2.121269126440225, 41.425833966206945], [2.121214952186918, 41.42578262795555], [2.121253871978154, 41.425755461569466], [2.121321675949231, 41.42567588532914], [2.12134715143, 41.42562021577661], [2.121358930540573, 41.4255507503092], [2.121343863115972, 41.42546733445188], [2.121311215557653, 41.425386576624554], [2.120515259560628, 41.42410765340507], [2.120467905246883, 41.42394004125263], [2.120449974836241, 41.423746982830295], [2.120545089976053, 41.42311374831112], [2.12053731915874, 41.42305818505752], [2.120438309830137, 41.422802337412], [2.120426506601408, 41.42272191881092], [2.120771772753255, 41.42205254878829], [2.120882965319051, 41.421877140876205], [2.120982377802646, 41.42176238003232], [2.121307576069501, 41.42145968308501], [2.121401503952858, 41.42134865409659], [2.121470130602856, 41.421234315247894], [2.121512106855571, 41.42112443871388], [2.121537408508863, 41.42098384556014], [2.121533280067756, 41.42092079795581], [2.121505383556871, 41.4208685759576], [2.12147167227677, 41.42084291754033], [2.121162905844282, 41.42071008736629], [2.121162873719863, 41.420710073609705], [2.121172179957925, 41.42070609495221], [2.121207363608215, 41.42069105195532], [2.121215663402334, 41.42068752048243], [2.121221454952515, 41.42068505704844], [2.121264905988506, 41.420666310270185], [2.121290056915225, 41.42065587358721], [2.121287130956578, 41.42065188796346], [2.121357436833522, 41.420623330883], [2.121445319770432, 41.42058691838425], [2.12152303259335, 41.42055314030284], [2.12153030541283, 41.42054997927798], [2.121547559400091, 41.4205424799166], [2.121547560560212, 41.42054248262768], [2.121551708374599, 41.42054966080555], [2.121557845266694, 41.42056028510671], [2.12155843930693, 41.42056131378901], [2.121608119460512, 41.420539941032956], [2.121698782206216, 41.4205009365037], [2.121822444887539, 41.42044773496005], [2.121952223467454, 41.42039249113316], [2.122056620063589, 41.420347160721775], [2.122145671911278, 41.42030919741586], [2.122176483135044, 41.42029606546459], [2.122266273824207, 41.420257432143714], [2.12253018396664, 41.420145337179456], [2.122873458374458, 41.41999831233614], [2.123007047996347, 41.41994260095699], [2.123028973868347, 41.41993346340158], [2.123333928232339, 41.41980325561069], [2.123346688351762, 41.419797806957895], [2.123375448231657, 41.41978546161561], [2.12364547888804, 41.41966954561581], [2.123875775578948, 41.41957141515248], [2.124034851914188, 41.41950421670189], [2.12409545634294, 41.419478615976956], [2.124287399484483, 41.41939651417022], [2.124391171049438, 41.41935293241916], [2.124456756582454, 41.419325387774414], [2.124509225924081, 41.419303352218606], [2.124715436907341, 41.41921660143441], [2.124728852779078, 41.41921095765087], [2.124755725562089, 41.41920409935345], [2.124842495873459, 41.41917986285472], [2.124928061650412, 41.41915442724449], [2.125089107644051, 41.41909616598708], [2.125121309042654, 41.41908546681724], [2.125152255909025, 41.419073731249526], [2.125190470071402, 41.41905725807011], [2.12524224175023, 41.41903813258402], [2.125316177702537, 41.419007213695544], [2.125374655594095, 41.41898163936045], [2.125385524950457, 41.41897688589278], [2.125425581461437, 41.4189593682654], [2.125599404539259, 41.41888341370695], [2.125657329013928, 41.418857954820034], [2.125862408579831, 41.418767817376086], [2.126169966583118, 41.418631796681076], [2.126257117314709, 41.4185933662592], [2.12644406138813, 41.418510656294934], [2.126791841759084, 41.418355666085525], [2.126938589900099, 41.41828994452343], [2.127169472046345, 41.41818757025548], [2.12730104474088, 41.41812911920487], [2.127456215536272, 41.41805985788722], [2.127640878425546, 41.41797748896078], [2.127789670955059, 41.417910881061474], [2.127920278122472, 41.417852962424526], [2.128044988536411, 41.417797521032945], [2.12816693477401, 41.417742959303496], [2.128279373167074, 41.417692468830936], [2.12840733997526, 41.41763507007797], [2.128557820476451, 41.417567393071366], [2.128668210114973, 41.417517048831584], [2.128695701264716, 41.417505024915954], [2.128783840970706, 41.417465789384906], [2.128786166072684, 41.4174690947119], [2.128792974505509, 41.41747887251569], [2.128899052324902, 41.4174340899299], [2.128928496901918, 41.41742165920007], [2.128936045806373, 41.41743593281668], [2.128924055560739, 41.41748610361649], [2.128859212156908, 41.417562175984564], [2.12861602609718, 41.417810146995286], [2.128372774119335, 41.41798773275641], [2.128144523275956, 41.41811902529128], [2.128015981346612, 41.4181853367616], [2.127943121397921, 41.41824511641456], [2.127909614506856, 41.41828817025118], [2.127900617010312, 41.418345335387166], [2.127907897049538, 41.418416549428734], [2.127960618479233, 41.418475713662914], [2.128088995235955, 41.41857567853652], [2.128168187387335, 41.41865981377194], [2.128179935330922, 41.418704768904895], [2.128166801428953, 41.41876344298662], [2.12813312568859, 41.41881732255922], [2.128024303787261, 41.41894797055537], [2.127920541927514, 41.41900983988871], [2.127723553176182, 41.41911351749056], [2.127565989910984, 41.41919408517361], [2.127462192549282, 41.419249783717454], [2.127452747802747, 41.419375455169366], [2.127581717794187, 41.419497420383536], [2.127850914890827, 41.41959708414798], [2.127887066357157, 41.41961758892763], [2.128061978797419, 41.419727688658355], [2.128133354388998, 41.419743217982145], [2.128225064972511, 41.419728924564794], [2.128345302767859, 41.4196985797621], [2.128405112489231, 41.41970652709113], [2.128479477542004, 41.419744597469155], [2.128640909317806, 41.419869600607576], [2.128688609202105, 41.419912459013304], [2.128723347237984, 41.419927728505435], [2.128758235763824, 41.41993173981659], [2.128789831170554, 41.41993324012398], [2.128823152032218, 41.419930988375114], [2.128854931358789, 41.41991872667654], [2.128881833261372, 41.41989893384133], [2.128913891960198, 41.41986665969172], [2.12895159612633, 41.41978443693773], [2.129025119507331, 41.41963745156884], [2.129070612015777, 41.419596541849266], [2.129154285698682, 41.419562172297546], [2.12920671736976, 41.4195446443413], [2.129252319309551, 41.4195331537052], [2.129317232181881, 41.419520352693844], [2.129385886341393, 41.41948161238314], [2.129385889955015, 41.419481610609], [2.129399420636906, 41.419473974701276], [2.12946296490537, 41.41944671440167], [2.129502704388477, 41.41943692675103], [2.129546691192862, 41.419431674946644], [2.129596195798163, 41.41943439142627], [2.129646793508337, 41.419444862560375], [2.129699949024281, 41.41946093763977], [2.129753580182392, 41.41948620389057], [2.129794946759313, 41.419515881073735], [2.129837640385159, 41.41954466663347], [2.129837641569656, 41.41954466754318], [2.129867426009392, 41.41957245560818], [2.129908841433891, 41.419607356539295], [2.12990884261839, 41.41960735744898], [2.129949161323715, 41.419634864863724], [2.129995417554208, 41.41965683254651], [2.130042512478331, 41.419660791654834], [2.130086490320468, 41.41964725272365], [2.130128813850849, 41.41960523772852], [2.130135066750238, 41.41956709342237], [2.130129750519146, 41.419508144509315], [2.130117102414024, 41.41944265479534], [2.130103337141191, 41.4193712117156], [2.130091378691029, 41.419298881550375], [2.130081194724591, 41.41924602089174], [2.130059052933338, 41.41911182261611], [2.1302204597701, 41.41866483227205], [2.130512297123924, 41.41832359314308], [2.130545442253992, 41.41828483686882], [2.130612619077054, 41.418312483075226], [2.130669445159291, 41.418311687467245], [2.130990950912204, 41.418238219606685], [2.13106997839726, 41.41822723292637], [2.131144663582047, 41.418226013505425], [2.131244672429828, 41.41823532581796], [2.131342481547678, 41.418253466752155], [2.131358019684624, 41.41825714471558], [2.131476212670831, 41.41828511974574], [2.131603626149088, 41.41832393085894], [2.131826668399543, 41.418419742059015], [2.13204539272099, 41.41853936747808], [2.132077330173676, 41.41855683516932], [2.132179748009408, 41.41858299076203], [2.132277888761748, 41.41857807432787], [2.132352988976323, 41.418551095942824], [2.132415773106442, 41.41851011983009], [2.13258159079501, 41.41840189989133], [2.132785398772432, 41.418300292014784], [2.13349598947826, 41.41806892309003], [2.13367528586515, 41.41801054313016], [2.133956612261752, 41.41790046437003], [2.134179071148292, 41.41779709383067], [2.134321483865805, 41.417707568535675], [2.134558339484987, 41.41751168824437], [2.134646511161677, 41.41743877048531], [2.134676789750344, 41.41741372871507], [2.134918378685128, 41.4172139316987], [2.135259873389462, 41.41693150852601], [2.135573283581978, 41.416651160301306], [2.135713217261024, 41.41652598744133], [2.135783575629632, 41.41646305124523], [2.13596463804938, 41.41630108710457], [2.135984888588718, 41.41628297116589], [2.136153803149161, 41.416131872159475], [2.136314803515493, 41.41598785189639], [2.136198923072885, 41.415873638386294], [2.136108876049201, 41.41571127842245], [2.136062578454632, 41.41558882568509], [2.136077486664143, 41.4154260071466], [2.13609017004732, 41.4153505334233], [2.136124587814945, 41.41527939154828], [2.13615171133105, 41.415223325620694], [2.136210728417237, 41.41517164978274], [2.137024969367208, 41.414458685776744], [2.137071103383435, 41.41442849922849], [2.137084909050986, 41.414419466510786], [2.137220370552094, 41.41433083119702], [2.137308785516368, 41.414291964065036], [2.137437912672567, 41.41423519982788], [2.137463555389626, 41.4142239264801], [2.137723042579675, 41.41410985459268], [2.137837247666075, 41.41404380666964], [2.13795740657077, 41.41397431465327], [2.138270349700704, 41.413730414881044], [2.139943070988926, 41.41242669081931], [2.140315896928175, 41.41213609966482], [2.140697692142494, 41.41183851331978], [2.14081830488387, 41.411770903322314], [2.140926251993874, 41.411736292950174], [2.140954926371182, 41.41172709875767], [2.140956041430211, 41.41172674138031], [2.143100318661051, 41.411491225417194], [2.143150464334571, 41.41148571701402], [2.144469369588336, 41.41138284862589], [2.144774949386627, 41.41134121813682], [2.145003940266585, 41.41126956328278], [2.145162500600852, 41.411192790884364], [2.145263233082718, 41.41113226869556], [2.145361329207971, 41.41105250850294], [2.145464941647433, 41.410957352200214], [2.145601185519368, 41.41082539222314], [2.145882800357615, 41.410290208476624], [2.14596475259061, 41.41013446250321], [2.14607541814257, 41.409966952350516], [2.146279630934779, 41.40971491390204], [2.146300146743378, 41.40968959301027], [2.14644858122922, 41.40950639338199], [2.14719301142459, 41.40858759325448], [2.147667881222947, 41.4080014767446], [2.148639881923769, 41.40720396463077], [2.148649651211022, 41.407195949109216], [2.148658950055836, 41.40718831922864], [2.148591179706279, 41.407139519668426], [2.148404085953088, 41.40700847332294], [2.148376474950975, 41.40698897404137], [2.148479957499056, 41.406903385314074], [2.148481665110678, 41.406904550908855], [2.148497194641269, 41.40689171309464], [2.148384828773121, 41.40681202189712], [2.148418409788638, 41.40678552636287], [2.148447295520314, 41.406764204189024], [2.148472434138011, 41.40678227818837], [2.148485856188362, 41.40677232518434], [2.148511210807066, 41.4067684504599], [2.148523913767435, 41.40677701059589], [2.148523916148268, 41.40677701151426], [2.148534921948199, 41.40676775311383], [2.148654559979621, 41.40666715122646], [2.148703049498464, 41.406626886305354], [2.148703048313933, 41.406626885395845], [2.148697364299559, 41.40662339437713], [2.148722562819728, 41.40660214303243], [2.148745706593599, 41.406616401959354], [2.148771651572951, 41.40663411255343], [2.148796267573217, 41.40665015683491], [2.148913617878401, 41.406548881104584], [2.148965449495755, 41.40658428466583], [2.148829766891385, 41.40669691025833], [2.148827501488987, 41.406695398258115], [2.148791352036428, 41.40672610752275], [2.148835440740648, 41.40675535669739], [2.148839917332935, 41.406751534615864], [2.148941359652607, 41.40682221005559], [2.148935724511357, 41.40682679821393], [2.148979177877132, 41.40685706948566], [2.149024163121997, 41.406888407747154], [2.149026909048458, 41.40689032052719], [2.149059662694334, 41.406861932521046], [2.149335575229979, 41.406622804014624], [2.149341139471643, 41.40661942861908], [2.149450106346551, 41.406553327597194], [2.149531227774117, 41.40650411863268], [2.149571168588273, 41.40647989011253], [2.149747684524589, 41.40630737745368], [2.149944577719041, 41.40611494821743], [2.15006736770636, 41.40599494170652], [2.15004169685998, 41.405779842696326], [2.149994511755693, 41.40564697701918], [2.149977278562216, 41.40559845163016], [2.149971070037425, 41.405509357848345], [2.15002148827097, 41.40530536869569], [2.150355292075286, 41.40445118705876], [2.150373552708672, 41.404367300147186], [2.150367595314234, 41.40425338361049], [2.150326120255311, 41.404140213619726], [2.150257421501306, 41.40403756685922], [2.150251384950059, 41.40402854722406], [2.150239995227278, 41.40401792615517], [2.150087625651822, 41.40387583005541], [2.15002817635848, 41.40378054213363], [2.149919364118386, 41.403267735074884], [2.149923187146117, 41.40320755732398], [2.149991506212048, 41.40306209225016], [2.150013750891421, 41.40301472771562], [2.150100787256224, 41.40288323093118], [2.150574811353569, 41.40227090170159], [2.150839089354795, 41.401929510681015], [2.15087287694565, 41.40188586387719], [2.151071059321493, 41.40162985101874], [2.151155276345098, 41.40149222552118], [2.151213415961672, 41.40132315161775], [2.151229503068098, 41.40115147956654], [2.151224672159304, 41.40105275793697], [2.151170164557886, 41.4009037728703], [2.151159454110995, 41.40072588701681], [2.151225786550292, 41.4004919872098], [2.151658745914422, 41.400057954292095], [2.152038684656477, 41.39967706765379], [2.153239490186956, 41.39847322593539], [2.1540382470985, 41.39767241872321], [2.154931169924807, 41.396777172953556], [2.155258935930584, 41.3963531020914], [2.155709363761818, 41.3955732786979], [2.155710715849695, 41.39557093856424], [2.154710724281917, 41.39531793327806], [2.151308014687467, 41.394456940877056], [2.149617353373268, 41.3940291044708], [2.147922132872795, 41.39360008443588], [2.146685325053533, 41.39328705893585], [2.146216614080187, 41.393168427411716], [2.146160861598794, 41.39315431600234], [2.145564747656224, 41.39300343528287], [2.144978354118133, 41.39285501159646], [2.144995040080953, 41.39280300921788], [2.145002325466546, 41.39275456700311], [2.145001881632811, 41.392706283533116], [2.144990481821863, 41.392650640594354], [2.144967692114183, 41.3925970207687], [2.144939456806611, 41.39255368305933], [2.144890338470922, 41.39250109257642], [2.144858314228924, 41.39247616322903], [2.144835243911135, 41.39245820376525], [2.144789272079394, 41.39243085490854], [2.144727800106793, 41.39240299989356], [2.144656959163048, 41.39238150384823], [2.144582638019723, 41.392368178706604], [2.144519255539845, 41.392363527997006], [2.144451841151866, 41.39236533266944], [2.144401134825884, 41.392371855367834], [2.144344469154218, 41.39238404447907], [2.144257813124253, 41.392413791314674], [2.144184076772139, 41.39245255160101], [2.144146363862087, 41.392478879229], [2.144096857678154, 41.39252338631814], [2.144066249999824, 41.392557723092864], [2.144054396207611, 41.3925745897198], [2.142315858838546, 41.392133394788516], [2.1393657441109, 41.39139033172592], [2.138767455123978, 41.39123837088353], [2.137468065224271, 41.39143518310743], [2.136423576232475, 41.39159383410693], [2.132480129270291, 41.39219272677964], [2.131784660300495, 41.39229833267894], [2.130668872792465, 41.39246775357326], [2.130228097952964, 41.39262919922411], [2.130168811589574, 41.39266037094327], [2.13008375608262, 41.39268206648885], [2.129977658895378, 41.39268394942524], [2.129887727401058, 41.392663965427836], [2.129817214605696, 41.39264117286425], [2.129752543173533, 41.39262004488554], [2.129695231398088, 41.39259355723503], [2.129630916389652, 41.39255620759225], [2.12958579401447, 41.392520890173124], [2.129369762592186, 41.39240267448448], [2.129333013868311, 41.39238256552104], [2.129047597198162, 41.392311426052565], [2.127351875822808, 41.39188875320539], [2.127065758983151, 41.39181743327168], [2.125849799016762, 41.39151432332966], [2.125651200791713, 41.39146481523828], [2.125580997837767, 41.39144731433499], [2.123895464769727, 41.3910271207428], [2.123404596384074, 41.39090474354465], [2.122870516757682, 41.39077159157138], [2.122269831233699, 41.39062182995761], [2.121769323992395, 41.39042796717311], [2.121514277975681, 41.3903291788617], [2.121261068748637, 41.39023110119251], [2.120898648403565, 41.3900907199279], [2.120730624459191, 41.39053334323641], [2.120551840374218, 41.39080414721113], [2.120399271727245, 41.3909513181324], [2.120336782543478, 41.39101159682973], [2.12001305483902, 41.391275695374446], [2.11991964206356, 41.39132627316381], [2.119838636248562, 41.3913701334203], [2.119369588536789, 41.39157083883143], [2.118565406083764, 41.39177913682242], [2.118006517252065, 41.39192389554427], [2.11756907265727, 41.392218529002264], [2.117560639602915, 41.392224209301965], [2.117764687926059, 41.39237910849035], [2.117984038233725, 41.392594006388165], [2.118184022026623, 41.39287722134534], [2.118357900398535, 41.39319724767672], [2.118428924108283, 41.393459688121524], [2.118477264150663, 41.39376038245832], [2.118444971838944, 41.394074615169586], [2.118373422564604, 41.394405873857], [2.1182941859898, 41.394588331192196], [2.118164391451373, 41.394781901747095], [2.118011500087633, 41.39495848353427], [2.117803540831352, 41.39512933749352], [2.117630025561647, 41.39524133010451], [2.117361910459054, 41.395364225457506], [2.116825432163933, 41.39550193429747], [2.115962420158226, 41.395723454516975], [2.115816796744654, 41.395786204896794], [2.115611437268369, 41.395874695110365], [2.114852010508328, 41.39629167638383], [2.113306040433487, 41.397157757017915], [2.113125653195687, 41.39725881057571], [2.112696770423001, 41.39701159042229], [2.112675910278071, 41.39699956580187], [2.112185646398962, 41.39654791401404], [2.111936753099696, 41.39636396109078], [2.11164197947928, 41.39618667022371], [2.111077590023474, 41.39589290092319], [2.110913172483111, 41.39582848090855], [2.109942750604695, 41.39517447167208], [2.109778953388761, 41.39532902757781], [2.109617062603017, 41.395506513025815], [2.109577997170871, 41.39557986757459], [2.109542179133451, 41.39569942408435], [2.109535645096315, 41.3957782403029], [2.109537662095037, 41.39586437642141], [2.109498073323676, 41.39591268789751], [2.109655652022226, 41.39612410860751], [2.109732503425965, 41.39626745829787], [2.10974609206965, 41.39630447608654], [2.10973605156384, 41.39635536811634], [2.109719784577587, 41.39644580523846], [2.109697691638614, 41.396576762454345], [2.109664827073348, 41.39665860230374], [2.109642656886574, 41.3967036122552], [2.109628694428606, 41.39672746409954], [2.109594371433815, 41.39677416347723], [2.109508454014239, 41.396858637231645], [2.109429526195835, 41.39694107528636], [2.109347993440437, 41.39703503169921], [2.109336469930959, 41.397140892946844], [2.109321642382458, 41.397187963834575], [2.109305520581233, 41.39722407611258], [2.109289617056803, 41.397244463023114], [2.109264463442378, 41.397267975975346], [2.109243143752889, 41.397283953223706], [2.109149527272848, 41.39734259670437], [2.109051373312613, 41.397417356278375], [2.109024351986423, 41.3974426381948], [2.109002974277239, 41.3974672342029], [2.108952792630816, 41.397553993825376], [2.10894855990177, 41.39756611213119], [2.108948160452226, 41.39757608932146], [2.108950346230483, 41.3975868431607], [2.108959505481603, 41.39760201963064], [2.108972274802717, 41.397633149274895], [2.108971382903764, 41.397660876387135], [2.108957296092509, 41.397689420077135], [2.108895622152778, 41.397787196888316], [2.108878058923141, 41.39782949508164], [2.108791051899237, 41.39800940395386], [2.108712466717931, 41.39819547515341], [2.108703550217198, 41.39824920863226], [2.108711682734885, 41.39827912240354], [2.108750017555089, 41.39831109774567], [2.108651232947241, 41.39845025552231], [2.108427220012163, 41.39856509641739], [2.108349820502879, 41.39860618412014], [2.108334351909331, 41.39861439615738], [2.108287263140691, 41.39864357573783], [2.10827274006186, 41.39865674019808], [2.108256965039467, 41.398676428074545], [2.108227760284015, 41.398741658136935], [2.108191610851073, 41.398822400179206], [2.108170564203502, 41.39884267410286], [2.108170562995057, 41.39884267499423], [2.108152402521854, 41.39885930254147], [2.108137974442388, 41.39887251275775], [2.108096068770919, 41.39891088132592], [2.108064297873656, 41.39893996967934], [2.107992999579269, 41.39900679555191], [2.107953177574961, 41.39904411823967], [2.107847466930048, 41.39913231136355], [2.107775829533684, 41.39920264468135], [2.107765657052731, 41.399210911221275], [2.107738160224709, 41.399233258105845], [2.10767496732117, 41.39925031458853], [2.107637589381545, 41.39926041031445], [2.107499232919562, 41.3992985926313], [2.107415196206223, 41.3993343498323], [2.107353124785802, 41.39936822278246], [2.107305750999607, 41.39941116406343], [2.107262709694472, 41.39946365893876], [2.107199282729959, 41.39958178709532], [2.107160109135417, 41.39967070213151], [2.10712569630795, 41.39973682916277], [2.107120730852039, 41.39974275087374], [2.107071725664578, 41.39980119296401], [2.106984086696993, 41.39984835147022], [2.106939319836755, 41.39987087307334], [2.106898827995742, 41.39989124353082], [2.106847884336621, 41.39991780924645], [2.106847880723492, 41.39991781101989], [2.106847875877226, 41.39991781548601], [2.10676958680739, 41.39998637159727], [2.106764776978567, 41.39998904910858], [2.106759962438738, 41.399991721178644], [2.106755142004064, 41.3999943868975], [2.106750315674567, 41.39999704626516], [2.106745482241738, 41.399999700173], [2.106740645306393, 41.400002347748206], [2.10673580126773, 41.40000498986357], [2.106730951334236, 41.400007625627715], [2.106726096689741, 41.40001025595062], [2.106721234954252, 41.400012879913014], [2.106716368520086, 41.40001549753351], [2.106711496178769, 41.400018109703446], [2.106706617942613, 41.400020715522174], [2.106701734995459, 41.40002331589963], [2.106696846153479, 41.400025909925894], [2.10669195022052, 41.40002849759165], [2.106687050772719, 41.400031079825425], [2.10668214423393, 41.4000336556987], [2.106677232984135, 41.40003622613071], [2.106672315851863, 41.40003878931084], [2.1066673928001, 41.400041347941084], [2.106662465062004, 41.400043899328736], [2.106657530220599, 41.40004644525656], [2.106652591876681, 41.40004898485173], [2.106647646441789, 41.40005151808639], [2.10664269629591, 41.400054045879784], [2.106637740255202, 41.400056567321954], [2.106632779515842, 41.40005908242222], [2.106627812869331, 41.40006159207189], [2.106622840328004, 41.40006409537036], [2.106617863088029, 41.4000665923269], [2.106612879953228, 41.40006908293221], [2.106607892107444, 41.40007156809626], [2.106602898379172, 41.40007404600843], [2.106597898743765, 41.40007651847001], [2.106592894397367, 41.400078985490325], [2.106587884168505, 41.400081445258735], [2.106582869228642, 41.400083899585894], [2.106577849602472, 41.40008634667047], [2.10657282286067, 41.40008878919581], [2.106567792628705, 41.40009122448786], [2.106562756501936, 41.40009365342869], [2.106557714468025, 41.40009607691895], [2.106552667747814, 41.4000984931666], [2.106547615120451, 41.40010090396368], [2.106542558990618, 41.40010330842812], [2.106537495769819, 41.40010570653204], [2.106532427838038, 41.400108099194654], [2.106527355219948, 41.40011048461467], [2.10652227789089, 41.40011286459341], [2.106517194679371, 41.40011523732026], [2.106512105560718, 41.400117604596524], [2.106507012939591, 41.40011996554014], [2.106501914423658, 41.40012232013253], [2.106496810012943, 41.400124668373664], [2.106491702099744, 41.40012701028216], [2.106486588291753, 41.40012934583941], [2.106481468588972, 41.40013167504542], [2.106476345371385, 41.400133998819406], [2.106471216271345, 41.400136315341534], [2.106466082472673, 41.400138625521684], [2.106460943963032, 41.40014093026055], [2.106455799570953, 41.40014322774753], [2.106450650467894, 41.400145519793185], [2.106445496678556, 41.400147804596244], [2.106440338178253, 41.40015008395801], [2.106435173795515, 41.40015235606788], [2.106430005897958, 41.400154622745745], [2.10642483211797, 41.4001568821717], [2.106419653639358, 41.40015913525569], [2.106414470449797, 41.40016138289837], [2.106409281377784, 41.40016362328918], [2.106404088790981, 41.40016585824796], [2.106398890321739, 41.400168085954824], [2.106393688350046, 41.40017030732905], [2.106388480483568, 41.400172522352015], [2.106383267918486, 41.400174731033005], [2.106378050654787, 41.40017693337206], [2.106372828692485, 41.40017912936912], [2.106367602031559, 41.40018131902424], [2.106362370672032, 41.40018350233739], [2.106357134626244, 41.40018567840792], [2.106351893869496, 41.40018784903714], [2.106346648426489, 41.40019001242377], [2.106341398272535, 41.40019217036906], [2.106336143432313, 41.40019432107173], [2.106330883893497, 41.400196465432444], [2.106325619656066, 41.40019860345118], [2.106320350732382, 41.400200734227305], [2.106315078293923, 41.4002028595714], [2.106309799973046, 41.40020497766359], [2.10630451694123, 41.40020709031446], [2.106299230419311, 41.400209195731996], [2.106293938002639, 41.40021129479827], [2.106288642095876, 41.40021338663121], [2.106283341478179, 41.400215473022826], [2.106278036174239, 41.40021755217183], [2.106272726171705, 41.40021962497885], [2.106267411470569, 41.4002216914439], [2.10626209326702, 41.400223751576256], [2.106256769168715, 41.400225805357366], [2.106253168531996, 41.400227188858814], [2.10557439121465, 41.400487770592], [2.105573724946344, 41.400488027529946], [2.10556842662681, 41.400490117509285], [2.10556317876634, 41.40049227903965], [2.105557983781923, 41.40049451033837], [2.10555284288208, 41.40049681051407], [2.10554775605444, 41.40049918046743], [2.105542726912198, 41.400501618425054], [2.105537756676186, 41.40050412259491], [2.105532846530228, 41.40050669388702], [2.105527997695168, 41.40050933050931], [2.105523212563333, 41.400512032480464], [2.105518492355579, 41.400514798008416], [2.105513838280424, 41.400517626201875], [2.105509251534002, 41.40052051707014], [2.105504734533368, 41.4005234688305], [2.105500288474659, 41.40052648149227], [2.105495913394934, 41.4005295523535], [2.105491612870339, 41.40053268234275], [2.105487388121737, 41.40053586966801], [2.105483237977655, 41.400539112518736], [2.105479166014242, 41.400542411823444], [2.105475173477065, 41.400545763988845], [2.105471260341435, 41.40054917081626], [2.105467429049074, 41.40055262872168], [2.105463679599984, 41.4005561377051], [2.105460015595033, 41.4005596968938], [2.10545631360884, 41.40056323416917], [2.105452457405367, 41.40056667656769], [2.10544845183104, 41.40057001962332], [2.105444299302859, 41.400573261553305], [2.105440007071945, 41.40057639700957], [2.10543557758003, 41.40057942240806], [2.10543101683265, 41.400582335993946], [2.105426328480059, 41.400585133291905], [2.105421520944838, 41.40058781076441], [2.105416596644019, 41.40059036662872], [2.105411561607863, 41.400592797328734], [2.105406421854283, 41.400595100208974], [2.105401183388795, 41.40059727351464], [2.105395851057883, 41.400599312779676], [2.105390432038527, 41.400601218059855], [2.105384931152499, 41.40060298669043], [2.105379355613877, 41.40060461602522], [2.105373710232039, 41.400606104300124], [2.105368003404899, 41.40060744977895], [2.10536223992949, 41.400608651598226], [2.1053564258114, 41.40060970800315], [2.105355289141168, 41.40060989642835], [2.104913447786889, 41.40068208486741], [2.104588873654942, 41.40076890626415], [2.104407828369622, 41.40082634205869], [2.103999486140539, 41.40095588698061], [2.103999214593362, 41.40095597313913], [2.10399914731084, 41.40095599423309], [2.103965391747118, 41.40096641421512], [2.103916611519142, 41.40098147311651], [2.103838287014988, 41.40100518324798], [2.103773680497879, 41.40102305525286], [2.103684836996178, 41.40104614289332], [2.103609327892481, 41.40106519091689], [2.10351596852518, 41.40108608145108], [2.103418130488737, 41.40110207297572], [2.10332883971927, 41.40111416774268], [2.103272935536352, 41.40110814741757], [2.103219318953671, 41.40110106399927], [2.103179680279521, 41.40109535055531], [2.103148663969615, 41.40108898371109], [2.103119609334265, 41.401087856482185], [2.103088832996593, 41.4010901386628], [2.103062108785773, 41.40109353332057], [2.103037767011737, 41.40109766714284], [2.103008984529014, 41.401102847236004], [2.102995342887464, 41.401101818518406], [2.102925783015635, 41.40109657699496], [2.102957215385175, 41.40117011583932], [2.103015554838623, 41.401253591612694], [2.103065261376579, 41.40133153702704], [2.103088983936165, 41.401400542620934], [2.103098262403359, 41.40146397348429], [2.103118552748247, 41.40152010856606], [2.103146527771462, 41.401575493774295], [2.103175649828645, 41.401651433050496], [2.103177733727966, 41.401708777325375], [2.103164126077098, 41.40175842851128], [2.103141865422228, 41.40181017043463], [2.103130621721304, 41.40189661843478], [2.103136648471466, 41.401981033861006], [2.103152933871354, 41.40205038319459], [2.103179424359555, 41.40210899860617], [2.103220146195801, 41.402177456603695], [2.103314812294352, 41.40229284957526], [2.103408102776412, 41.40240390365968], [2.103487146155076, 41.402506192279915], [2.103546185710178, 41.40260075150825], [2.103586789277656, 41.40267786462597], [2.103625654252086, 41.40277659651551], [2.103647645886316, 41.40284923831988], [2.103684815251647, 41.40296742661579], [2.103716883705359, 41.40303798331262], [2.103744859929315, 41.403093363869296], [2.103784008926883, 41.40317154737802], [2.103803424778728, 41.40322253585326], [2.103825499934744, 41.403288688390255], [2.103842806919223, 41.40338833317424], [2.103843164770179, 41.40346729540633], [2.103843577247678, 41.4035419335786], [2.103838166427396, 41.40362193177244], [2.103829810334187, 41.40370731690765], [2.103816553419402, 41.403835926722735], [2.103802205124046, 41.40393965391782], [2.103786696499349, 41.404022820639135], [2.103753683837641, 41.40412532154192], [2.103707639441226, 41.4042352862841], [2.103653392108654, 41.40431490850839], [2.103590406911863, 41.40440311159486], [2.103411971011934, 41.404507079735204], [2.103201302674841, 41.40464171448132], [2.103058780392383, 41.40471437281802], [2.10286498283073, 41.4048160621546], [2.102687656865565, 41.40486119025541], [2.102556592188808, 41.40489543402097], [2.102430398579143, 41.40492849152318], [2.10224329971751, 41.404972773457835], [2.102139760277487, 41.40500175047943], [2.102057521902884, 41.405023448986285], [2.101976674454424, 41.405046219369744], [2.101907118026198, 41.40507014161392], [2.10185315813819, 41.40508993404596], [2.101811783741907, 41.405119394232166], [2.101787271033514, 41.40515536963037], [2.101772016559663, 41.405237159898775], [2.101753653690051, 41.40544230921136], [2.10175287264996, 41.40560186399581], [2.101766276881591, 41.40575726989385], [2.101754060139409, 41.40588255837921], [2.101726681871473, 41.405995136058166], [2.101704840263003, 41.40608053821089], [2.101711527891316, 41.40618843225133], [2.101713931912436, 41.40629245566675], [2.101707913024136, 41.40645130568278], [2.10166735526483, 41.40660988602072], [2.101658211203587, 41.406716711557394], [2.101630187797952, 41.40681311576849], [2.101610101811263, 41.40691000259885], [2.101601845715464, 41.40699569725356], [2.101559262251831, 41.40708676882637], [2.101514688878563, 41.40713504031091], [2.101456930058484, 41.40720265410542], [2.101437113807592, 41.407224538793464], [2.101306367851357, 41.40731626199541], [2.101239292594136, 41.40740407058851], [2.101138742194224, 41.40752671157748], [2.101057045462355, 41.40761483548324], [2.101020634451538, 41.40765634379245], [2.100986352438277, 41.40771282200713], [2.100907370020751, 41.407837648083884], [2.100733555304379, 41.408117048513326], [2.100654105476862, 41.40826120706077], [2.100607196866762, 41.40836817143338], [2.100490731317076, 41.40838758265829], [2.100361984652262, 41.40840479899749], [2.100276820828324, 41.40841444747654], [2.099685839696836, 41.40861153379543], [2.099442121743191, 41.40870186543479], [2.09900336295762, 41.40886178948552], [2.098830161558701, 41.408904943322], [2.098657099632901, 41.40895010845363], [2.098407691524557, 41.40900873570889], [2.098158334983086, 41.4090641210428], [2.097960992966579, 41.40909827774737], [2.097805549041434, 41.40911653393775], [2.097601313181046, 41.40913008185333], [2.097446212233202, 41.40912345895475], [2.097324289656826, 41.409107356402096], [2.097267146754227, 41.40908310765705], [2.097221614327983, 41.40905029562535], [2.097079567952202, 41.40893126254563], [2.096946236767276, 41.40880472873119], [2.096872915132234, 41.40870184021608], [2.096785828080071, 41.408572390493006], [2.09669833469489, 41.4083574234277], [2.096655097344765, 41.40824060853928], [2.096518185985727, 41.408156409076234], [2.0964421972534, 41.40810959326837], [2.096328612250083, 41.408035478665695], [2.096224197825734, 41.40796673777769], [2.09619637053061, 41.40795617591933], [2.096169967647586, 41.40794617109603], [2.096128930821263, 41.4079386157238], [2.095953344068464, 41.40790549657732], [2.095815162730905, 41.407880044637984], [2.095652498707716, 41.407849785574165], [2.095652287857276, 41.40784989200629], [2.095489369520349, 41.407885766159744], [2.095280636475757, 41.40791282632762], [2.095154817549158, 41.407923798778675], [2.095007384855323, 41.407931342184405], [2.094750276512022, 41.407931497507874], [2.094561075045869, 41.40793001048847], [2.094359816761123, 41.40793131153937], [2.094231508264848, 41.40794699409906], [2.094108338883736, 41.40797538596609], [2.094008278275258, 41.408003959675526], [2.09382422249648, 41.408048188770984], [2.093628684712566, 41.40808688120992], [2.093320271480442, 41.408141003553716], [2.093101671820765, 41.408176260759376], [2.092794471250714, 41.40824669924652], [2.092664154255122, 41.408269597203656], [2.092505058374378, 41.408284655817866], [2.092364980500895, 41.4082824672465], [2.092222088088532, 41.40827481669564], [2.092054435127716, 41.408244423109274], [2.091878000957498, 41.40821743414317], [2.091725331665166, 41.40819319333918], [2.091534726537328, 41.40820704887012], [2.091347309604844, 41.4082362896767], [2.091074549797034, 41.40829831688185], [2.090899194450999, 41.408316944182566], [2.090789791050924, 41.40831490509223], [2.090638191387322, 41.40831135331443], [2.090445954566378, 41.40830748008378], [2.090323912490029, 41.40831475972832], [2.090041852528563, 41.4083619657456], [2.089599905232284, 41.40843968519953], [2.089228392299342, 41.40851089870067], [2.088882048504124, 41.40857171755609], [2.088669468031071, 41.40860996213372], [2.088446053085668, 41.40867066432997], [2.088238786414978, 41.408734937612564], [2.08805982718039, 41.40878766035591], [2.087866668531183, 41.40884968753881], [2.087591962637028, 41.408929899602], [2.087486569151512, 41.40897554489526], [2.087382248928616, 41.409037333653394], [2.087257382510267, 41.40911728587946], [2.087158909915903, 41.40919592422462], [2.087074637446937, 41.4092746706579], [2.086982018466035, 41.4093701550938], [2.086893535528618, 41.409459560723135], [2.086824103110097, 41.40949260744439], [2.086695734433096, 41.40953282731006], [2.086538866335244, 41.409580453675595], [2.086250706363004, 41.409652893956604], [2.086001468834303, 41.40971211353954], [2.085694793990726, 41.40973717116629], [2.085455742343825, 41.409713894709846], [2.085207188767447, 41.409644722206906], [2.085033259693096, 41.40960668962246], [2.084889590307399, 41.409581111565195], [2.084723815594196, 41.40954008444198], [2.084568184616962, 41.40949914409656], [2.084436921701371, 41.40945686349208], [2.08426521323329, 41.40940509754548], [2.084185758768171, 41.4093870636189], [2.084133392745206, 41.4093548387618], [2.084125961712595, 41.40931998832945], [2.084127812928578, 41.40928222942161], [2.084154278472428, 41.409214842784635], [2.084175791147972, 41.40915636651846], [2.084186420147168, 41.4090929170717], [2.084176896170107, 41.40904855072343], [2.084161481957224, 41.40899039391782], [2.08413527376987, 41.40893834741073], [2.084097989168187, 41.40888909600602], [2.08406589792882, 41.408862875651415], [2.083961516919986, 41.40878415448759], [2.083872883404708, 41.40872453191826], [2.083770427634369, 41.4086314401097], [2.083637888251021, 41.40854256819315], [2.083620693321189, 41.40848942148496], [2.083560214556705, 41.408355936629675], [2.083542586602374, 41.408279124783775], [2.083402809555262, 41.40816848157712], [2.083264156591945, 41.40806480541314], [2.083180804375071, 41.40799302379423], [2.083049051965702, 41.407902788332855], [2.082935521113727, 41.407847119041435], [2.082863291525497, 41.4078105540113], [2.082791516544723, 41.40776251346255], [2.082696401270837, 41.40755886318583], [2.082640365292966, 41.407479799353794], [2.082595766584272, 41.40732491728326], [2.082561429721367, 41.40725422771856], [2.08249717031894, 41.407137556074545], [2.082451685966725, 41.40708069409309], [2.082394738783192, 41.40703880473687], [2.082331483349637, 41.40700063195448], [2.082201218798438, 41.40692425634128], [2.082023745949698, 41.40682490332504], [2.081832869264598, 41.406724265793144], [2.081751732520845, 41.406689017028], [2.08162108712743, 41.406639947416494], [2.081451790265759, 41.40658209396774], [2.081307441276211, 41.406529150378866], [2.08114466143185, 41.40646682046916], [2.080975309386814, 41.40639036188335], [2.080910631346397, 41.40633430166272], [2.080839176362021, 41.406242976225535], [2.080760000971515, 41.40613401551618], [2.080673707308501, 41.40605526922496], [2.080577552325608, 41.406003825825024], [2.080422249605078, 41.40596346617746], [2.080357946316475, 41.40587139143162], [2.080281476443173, 41.40566212428092], [2.080276930650632, 41.40554060709967], [2.080282817551294, 41.40538904067331], [2.080313241060401, 41.40514990983959], [2.080258597149176, 41.40497731892962], [2.080236797980191, 41.40487382824357], [2.080203619649569, 41.404746116507155], [2.080161768821013, 41.40463835089256], [2.080119680543774, 41.40454743000856], [2.080063505670408, 41.4044637708814], [2.079943436849924, 41.40434695417381], [2.079740232654318, 41.40417364419268], [2.079585200634784, 41.40405654654875], [2.079406461517044, 41.40393399054561], [2.079308067284432, 41.403867899147016], [2.079230022203908, 41.40381831635145], [2.079178928848755, 41.403773123266355], [2.079132509610988, 41.40373581666748], [2.079036167588077, 41.40362593008804], [2.078989227136088, 41.403562006725124], [2.078953939676289, 41.403484832080366], [2.078900604938687, 41.40339803709722], [2.07878490369553, 41.40326966513886], [2.078740824762916, 41.40322086198391], [2.078674370918158, 41.403171878740885], [2.07859255179082, 41.40312066646456], [2.078478373468583, 41.40308288899426], [2.078352973866072, 41.40304712746665], [2.078213662849949, 41.40300598768787], [2.078071817281857, 41.402945867632255], [2.077979946033919, 41.40291353327057], [2.077872642279076, 41.40288423766836], [2.077774824013851, 41.40286731858304], [2.07735024343281, 41.40300301672992], [2.076962424468113, 41.403091382200856], [2.076406703135858, 41.40319325915847], [2.075850856552707, 41.40320692509406], [2.075607155870406, 41.40317791166417], [2.07533418098461, 41.403104090851755], [2.075040477888409, 41.40299086807095], [2.074893613184993, 41.4029089795669], [2.073751563301177, 41.40329620480407], [2.072792446125071, 41.40315750287988], [2.072192279320764, 41.40346419111331], [2.072058257597332, 41.404094089706774], [2.071749595165398, 41.404381083210666], [2.07146581565496, 41.40472975255521], [2.071054878320192, 41.40528223034293], [2.070502157484801, 41.40604076864079], [2.070272433688218, 41.40644333172716], [2.070185535717129, 41.406667794119734], [2.069999593456689, 41.40702777011504], [2.070316824794264, 41.40722995614047], [2.070950047840669, 41.4072091387282], [2.071523500808413, 41.40718650870043], [2.071923701503842, 41.40740141901175], [2.072061874707122, 41.40754458909657], [2.072039005373168, 41.4077258470982], [2.071961912701147, 41.40789272869609], [2.071833180543284, 41.40810601346936], [2.071741719026541, 41.40822665995147], [2.071699924438961, 41.40827143203804], [2.071627697881276, 41.408356167799994], [2.071567905181094, 41.40844404837042], [2.071438902707734, 41.408580361856714], [2.071369811390302, 41.40869441497351], [2.071350822551886, 41.40876424056297], [2.071350529615163, 41.40880665426741], [2.071359719484788, 41.40882673398413], [2.071359304041007, 41.408917237459114], [2.071397174909484, 41.409046385649354], [2.07143942736277, 41.40918712574183], [2.071511642214425, 41.409288997290204], [2.071575303096057, 41.409416047636746], [2.071616482977151, 41.40954896954571], [2.071652742899089, 41.40968123923194], [2.071867032053585, 41.41017021689566], [2.071962616987486, 41.41043004207521], [2.072081251888801, 41.41058693584716], [2.072103122282405, 41.41062485342968], [2.072142406772065, 41.410735547482744], [2.07215861031793, 41.410828653000905], [2.072136950447407, 41.410954523990746], [2.072177727094902, 41.410986941860195], [2.072223129862564, 41.411071293409435], [2.072280240362522, 41.411111494782354], [2.072389157221218, 41.41114843879786], [2.072508866159055, 41.41115680802572], [2.072598600672178, 41.411179653677685], [2.0726098882526, 41.41121549520935], [2.072634979703982, 41.41124149478139], [2.072809694753756, 41.41130600008646], [2.072837553914971, 41.411332580380645], [2.072913757396869, 41.411345264435525], [2.072944053951914, 41.41139733739553], [2.07306095526877, 41.41142565292909], [2.073238406327489, 41.4116883253694], [2.073313389825703, 41.41178351652083], [2.073439562978504, 41.411860798752464], [2.073557602358075, 41.411878142873704], [2.073951241034275, 41.41187037694615], [2.074134065220287, 41.41188475603641], [2.074250818905404, 41.41193030942014], [2.074375091282049, 41.41204634336795], [2.07447010406707, 41.41216529440749], [2.07454097298608, 41.41220154297924], [2.074732198031576, 41.41224372261361], [2.074883318222737, 41.41225879131846], [2.075110848521556, 41.41229908244768], [2.07526315279975, 41.41230491853616], [2.075315207924218, 41.412319604717965], [2.075432875879815, 41.41233961013448], [2.07554526414255, 41.41239106302815], [2.07581336643121, 41.412560683366316], [2.075952676493411, 41.41268139416835], [2.076047427899224, 41.412727867918264], [2.076036082635836, 41.41274154017742], [2.075991664221497, 41.41275869391305], [2.075974268220275, 41.41278730595448], [2.075981701340498, 41.412798931209906], [2.075992038601201, 41.412836124896174], [2.076042176327282, 41.412930430148265], [2.076116066631835, 41.41314031145471], [2.076228551842525, 41.41334889027364], [2.076282399483482, 41.41343982038973], [2.07630438063749, 41.413550392076004], [2.076393173126405, 41.413647664702175], [2.076494720966062, 41.41377703407868], [2.07651585402904, 41.41382502421821], [2.076557294228153, 41.41387288010514], [2.076601711379126, 41.413875290307764], [2.076700653656927, 41.41393015605696], [2.076734252919787, 41.41396053757043], [2.076831567725578, 41.414028108652985], [2.076844956875659, 41.414069524212586], [2.076892023039134, 41.41413922312734], [2.077006761977592, 41.41424383734835], [2.077072992326289, 41.414282596247986], [2.077077183148493, 41.414300140331434], [2.077114946456497, 41.41434998418586], [2.077174134717823, 41.41438836226954], [2.077265461829738, 41.414407325842554], [2.077310387454353, 41.41444147306325], [2.077307284158012, 41.41445445491887], [2.077325015047839, 41.41451292930352], [2.077339220128646, 41.41462777099232], [2.078585185313602, 41.414978809773466], [2.078928123704193, 41.414948013020684], [2.078975941380954, 41.41505915672446], [2.078978480009492, 41.41511077166397], [2.079179872979332, 41.41525570471935], [2.079271079359207, 41.41534570290887], [2.079474077415905, 41.41560857729257], [2.079524812614207, 41.41563683062399], [2.079655316915344, 41.41566102740709], [2.079746663204495, 41.41573204495858], [2.079744063739565, 41.4159163686138], [2.079688624945959, 41.416136016515516], [2.079714428194526, 41.41631841277804], [2.079591061137884, 41.41642492154977], [2.079501219373832, 41.41645136018661], [2.079442167185356, 41.41648446742379], [2.079399467888722, 41.41649839353848], [2.079369044770848, 41.4165242356324], [2.079337316608644, 41.41658825881114], [2.079244285595743, 41.41676338451975], [2.079169153948122, 41.41697247633978], [2.079172211866773, 41.41712195221119], [2.079143481229289, 41.41725921176701], [2.079131761100561, 41.41727569164045], [2.079112954780486, 41.417441422060826], [2.079092485701437, 41.417467343751966], [2.079075377085149, 41.417526439704766], [2.079073755719582, 41.41756667195149], [2.079033773047622, 41.41761185746069], [2.079010882079907, 41.41761693455649], [2.078988230931886, 41.41765585450511], [2.078951913714945, 41.41767873989474], [2.078903028639049, 41.417682392857984], [2.078831127628907, 41.4177279082282], [2.078730106298114, 41.41774342079275], [2.078686202291158, 41.41777986458741], [2.078687872243095, 41.41783781378745], [2.078618289763269, 41.41798595128809], [2.078607684703967, 41.41811993302252], [2.078623548897706, 41.418181941155005], [2.078657002040901, 41.41821610404459], [2.078727439964048, 41.41830633713458], [2.078749228805195, 41.41835471039767], [2.078720164854489, 41.418473114585744], [2.0787224791629, 41.41851934125852], [2.078710265838088, 41.4185842411038], [2.078650526946243, 41.41867931356721], [2.078640182588634, 41.41874235482427], [2.078655714021036, 41.41875934112477], [2.078673393527838, 41.41879536832673], [2.078687313156339, 41.41881125181554], [2.078717068255722, 41.41885859627393], [2.078474150937419, 41.41882632182775], [2.078182613024484, 41.41870211745322], [2.077992477195126, 41.41864353353013], [2.077649930853025, 41.41859751697389], [2.077558954811328, 41.41893952132941], [2.077399692655911, 41.419133931652375], [2.077113574290633, 41.41929190786782], [2.076895447339149, 41.41945386616727], [2.076902604975346, 41.419458559723786], [2.076897776082316, 41.41948521000104], [2.076868417515651, 41.41952358929527], [2.076829416407582, 41.419608270476786], [2.07682719268123, 41.4196562892697], [2.076922550705903, 41.419831375253395], [2.077002223602148, 41.41991586466933], [2.077009103856502, 41.419956462319654], [2.077002010133048, 41.4199731952611], [2.076954007055887, 41.420284566346716], [2.076995407115654, 41.42072092122076], [2.077032630808884, 41.4208344792915], [2.077071711561347, 41.420918308810016], [2.076992787629921, 41.42102506311903], [2.076871897684, 41.421107213725314], [2.076762729889764, 41.42115253681764], [2.076505245724555, 41.42129590418855], [2.076334931554458, 41.42135106754238], [2.076135191831681, 41.42142473880723], [2.075975982620682, 41.421528829085325], [2.075885128011482, 41.42163623350745], [2.075723315740139, 41.42173310558491], [2.075528377313296, 41.421859615906975], [2.075414326703422, 41.42190733948464], [2.075423443289618, 41.421933642383316], [2.075385664329485, 41.422018905727306], [2.075439327665762, 41.42206797711808], [2.076060799091287, 41.422308136736206], [2.077445293754862, 41.4224624682513], [2.077538710853623, 41.422478304775126], [2.077646428199832, 41.42249077900659], [2.077919786733277, 41.42247993653983], [2.078091494227923, 41.42254347920843], [2.078918808220903, 41.42270195041379], [2.079127263662889, 41.422726830419826], [2.079562648718175, 41.42290732680296], [2.080078565529059, 41.42308124516076], [2.080178745972513, 41.423328714596366], [2.080191925262158, 41.42339808348501], [2.0801926678189, 41.423669221996654], [2.080366936949123, 41.423981342598864], [2.080298649256966, 41.424241978749876], [2.080499689793138, 41.424313897730734], [2.080588031389649, 41.4243773242864], [2.079984456941703, 41.42444800829399], [2.079817728238224, 41.424446675731915], [2.079710590582557, 41.42445518195808], [2.079443821667159, 41.42448864228701], [2.079233963353305, 41.42454503463024], [2.078713683618566, 41.42473006940926], [2.078455778254604, 41.42484039482612], [2.078291114911575, 41.42486904879945], [2.077813509938543, 41.424914655874986], [2.077656313130136, 41.42492111594702], [2.077366259190581, 41.42498962450814], [2.077240208261862, 41.425012330076974], [2.077053148978794, 41.42502647542707], [2.076691334334644, 41.42503944325256], [2.076498707293755, 41.42502675493604], [2.076348979189171, 41.42500170125253], [2.076254184155224, 41.424974773565815], [2.075754326690224, 41.424910039817775], [2.075576134326157, 41.424920029519484], [2.075344905060131, 41.42495851551471], [2.075209901104291, 41.42496609549246], [2.075126594446659, 41.42495356301622], [2.074704200154636, 41.424821603517366], [2.074540641147943, 41.424783753786336], [2.074394814316976, 41.42477143841928], [2.07409676928628, 41.42481931949622], [2.074024447118902, 41.42484230082474], [2.073835019834907, 41.42487990423404], [2.073683276535792, 41.424926845209], [2.073142308662038, 41.42495085250746], [2.072945463589639, 41.42497816225442], [2.072716685615668, 41.425041901513424], [2.072683982266394, 41.425068986247545], [2.072735511062866, 41.42516213120221], [2.072785466437597, 41.42542097480181], [2.072762087646377, 41.425502168432644], [2.072635825353164, 41.42563794641881], [2.072554868161028, 41.425779854257456], [2.072557156164545, 41.42583604298347], [2.072608773001565, 41.42598147857594], [2.072645725630355, 41.426022075657265], [2.072843412144425, 41.42612007545438], [2.07291322436977, 41.42619205790718], [2.072954192034989, 41.426324806138425], [2.072978033863833, 41.42655684926905], [2.073030921300903, 41.42665344765563], [2.073066899701621, 41.426748279433745], [2.073096888233756, 41.42690243985221], [2.073141585912533, 41.427092739438436], [2.073180058519131, 41.4271662166631], [2.073245786009522, 41.427340391200744], [2.073240487240501, 41.427410029911336], [2.073211555051886, 41.42743989963083], [2.072991509623853, 41.42752326574749], [2.073133001585256, 41.427626877801295], [2.073220955674679, 41.4276810039891], [2.073284019956911, 41.42770249930291], [2.073412449781144, 41.42776268100601], [2.073525999473811, 41.42779984407177], [2.073664454617556, 41.42786773101033], [2.073818176107817, 41.427931929650626], [2.073992367457295, 41.427982934853254], [2.074164344979059, 41.42801102962125], [2.074323436842119, 41.42805428352066], [2.074586311416299, 41.428107910044425], [2.075462391130535, 41.42835915864251], [2.076617187165879, 41.42870915611673], [2.076475032892768, 41.42890303464033], [2.076304562487272, 41.42902201143106], [2.076215582232982, 41.42906942628964], [2.075920184560271, 41.42917820900293], [2.075831105133986, 41.42923249722601], [2.075727448332374, 41.42934854831736], [2.075542388239273, 41.42951436511177], [2.075418179152837, 41.429576393613516], [2.075268446788546, 41.429613005961876], [2.07506507271165, 41.4296743968039], [2.07487647930277, 41.429761060257576], [2.074532087884834, 41.42989451662028], [2.074460939724106, 41.42994399484231], [2.074417892872864, 41.43000545019125], [2.074333285160801, 41.43007024524033], [2.074113626676119, 41.43020746829624], [2.07390807217418, 41.43030299474812], [2.073719465232429, 41.43036814647177], [2.073601594568617, 41.43042143819775], [2.072987512024753, 41.43073741395735], [2.072852611072405, 41.430826727038806], [2.072237317658044, 41.432039874129366], [2.071533693262311, 41.43296542865092], [2.071475454206137, 41.43307795385662], [2.071356353300981, 41.43335320561356], [2.071227342933458, 41.433708676478794], [2.071043170474464, 41.434331763116], [2.070995184679023, 41.43457588890496], [2.070982176788243, 41.434739889815475], [2.071059613220595, 41.43505203541858], [2.071180692893944, 41.435300874393064], [2.071391394360387, 41.43567420927823], [2.071778316371243, 41.43631589574195], [2.07209977183712, 41.43640247320685], [2.07261290117776, 41.43655459634394], [2.07302786503921, 41.436606929433644], [2.073340212417803, 41.436448466447224], [2.073278788468692, 41.43633891808526], [2.073204054482461, 41.43628903650381], [2.073159514000328, 41.43625132394634], [2.073106191345472, 41.43616121659081], [2.073046264782493, 41.43612893758756], [2.073001302848746, 41.43609225742398], [2.072922218221308, 41.435990665111575], [2.072914513527351, 41.43593994536811], [2.07289413257832, 41.435890114279765], [2.072832497289271, 41.435819810139044], [2.072771870062819, 41.435734192491616], [2.072472211122258, 41.435509293859035], [2.072481509182072, 41.43548169807331], [2.072636348262227, 41.43545619438936], [2.072828869896127, 41.435444757529154], [2.072873701093926, 41.43542161852004], [2.073000208389294, 41.4352867702785], [2.073126145663898, 41.435218031671106]]], [[[2.05897037693992, 41.43541935018159], [2.059116427178415, 41.435381253611304], [2.059358185121024, 41.435387822640315], [2.059317331569243, 41.435066433218516], [2.059361523124752, 41.434786402210456], [2.059498639337386, 41.43447840990821], [2.059833248123093, 41.43411571732771], [2.060020393201639, 41.43395524665915], [2.060927464838392, 41.43367709296079], [2.062120165112665, 41.43335835069118], [2.062907810643289, 41.43358316841537], [2.063098993302727, 41.43294835048992], [2.063316901884826, 41.43290446912075], [2.063306187890338, 41.43260638890628], [2.063310685589904, 41.43232200670004], [2.063463454580785, 41.432069952245804], [2.063662208124203, 41.43112763140237], [2.064109548249639, 41.43046025722464], [2.064581854289201, 41.42991486803864], [2.065536551230246, 41.429903817602614], [2.065968808626022, 41.43008034054996], [2.066412476597348, 41.429809370711475], [2.066652975247927, 41.42976618962118], [2.067395917015406, 41.429535251383314], [2.06779040575975, 41.42954425308415], [2.067750561351215, 41.429511780043555], [2.067697185772074, 41.42939197223304], [2.067702710183779, 41.42936052708192], [2.06773577620094, 41.42933808735268], [2.067765214207659, 41.429274769588794], [2.067771523620788, 41.429101445995876], [2.067719880212624, 41.42880286403885], [2.067690275996784, 41.42872640337719], [2.067566913008634, 41.42858226672299], [2.067449807716862, 41.428269345654655], [2.067367320050342, 41.428121630895085], [2.067340113076791, 41.428106007645866], [2.067249374863529, 41.427987076665325], [2.067069273726611, 41.42783378726596], [2.066987701333093, 41.42774762732817], [2.066935806365863, 41.427614878477506], [2.066859465806057, 41.427497694298324], [2.066864739401537, 41.42742276834057], [2.066832575874399, 41.42738055990779], [2.066781025270103, 41.42734832754466], [2.066826577779333, 41.427203533516156], [2.066884652562219, 41.42707934191798], [2.067029408499248, 41.42689921464133], [2.067085967790239, 41.42681479640979], [2.067086336660232, 41.4266953970635], [2.067060014084755, 41.42662138582353], [2.06698637146757, 41.42641111390221], [2.066988183485734, 41.426291903698754], [2.067655547237066, 41.42599161586207], [2.069336383153444, 41.42526506151826], [2.069674056939406, 41.42517608092975], [2.069397630968488, 41.423354092678856], [2.06954343780136, 41.423051743439075], [2.069873855238713, 41.422702952790296], [2.069795303716096, 41.42176610652579], [2.069960458623906, 41.42134308656888], [2.070170837043388, 41.42097734979595], [2.070265811260512, 41.420269875852235], [2.070212485525066, 41.42004046612725], [2.070283407806502, 41.41952058908198], [2.070446435586343, 41.41950984007997], [2.070484953622091, 41.41881209700348], [2.070032939414419, 41.4186921239115], [2.068114756851493, 41.418461259133295], [2.067572451889216, 41.41829441432594], [2.067241900117671, 41.4180823984937], [2.066783571826688, 41.418059126487336], [2.06566561661318, 41.41812777955073], [2.064580493006069, 41.41802623117283], [2.064287449176391, 41.41784056222012], [2.064408984766833, 41.41764514720742], [2.064714639535865, 41.41713645349656], [2.064989857123336, 41.416632235953024], [2.064903002183259, 41.41609296657767], [2.064710918022744, 41.41559255094815], [2.064377270477432, 41.41502937924147], [2.064254573901651, 41.4145211276101], [2.06422451601976, 41.4144597316467], [2.064157878388175, 41.414286735039575], [2.063988091002459, 41.41416024772285], [2.063496070177315, 41.413550233246426], [2.063381698982905, 41.41357195770933], [2.06262655466901, 41.41360335957605], [2.06204842822589, 41.413664683097636], [2.062000340805766, 41.41358542643586], [2.061963472489106, 41.41345341909817], [2.061950517841506, 41.413430704806515], [2.061909250175679, 41.413389087240084], [2.061764860359409, 41.41328051414593], [2.061730904049864, 41.41325134136569], [2.061676144176389, 41.41319030173453], [2.061639898574207, 41.41316390256161], [2.06156464835672, 41.413110766416295], [2.061522244498568, 41.413044206855155], [2.061492665831606, 41.412946501495206], [2.061476027672178, 41.412941388259185], [2.060778248428343, 41.41272693217191], [2.060186953964325, 41.41268336524843], [2.059579890228318, 41.412798662070365], [2.059198913503121, 41.41277787742214], [2.058517583799463, 41.412744627665276], [2.058291330338029, 41.41282282233255], [2.058472647073757, 41.412693701182064], [2.058869512441993, 41.41245894750414], [2.05907429396359, 41.41225869644411], [2.058993227389415, 41.411535496339596], [2.058996063955011, 41.41098534874458], [2.058765132641294, 41.41064647876711], [2.057437840320032, 41.41033446038748], [2.056851952015201, 41.41032990485063], [2.054989045527984, 41.41218236546803], [2.054942391170393, 41.41296891238946], [2.054845440016202, 41.41340965321657], [2.054641036532325, 41.41394899364048], [2.054817303029115, 41.41415673374518], [2.055232245490189, 41.41446782958578], [2.055717164656427, 41.415014313057306], [2.055944431151317, 41.41515983231026], [2.056085102649574, 41.415314670449824], [2.056225535598861, 41.41563539272889], [2.056898690290171, 41.41599861329251], [2.056962721166816, 41.41655541098783], [2.056946028476596, 41.41659431236177], [2.056901959971962, 41.41663307039042], [2.056894369198054, 41.41666149866758], [2.056906342095262, 41.416762750258506], [2.05689701727335, 41.41685231576409], [2.056946492676344, 41.41694272357118], [2.056977404025608, 41.41717162155052], [2.05697338986332, 41.417263824726426], [2.057033046236362, 41.41750330783124], [2.057058632612944, 41.41766193119937], [2.057068175845866, 41.41779799457057], [2.057087900438545, 41.417831600816065], [2.05717463207892, 41.418090455522666], [2.05722120671259, 41.418133307224416], [2.05723050937894, 41.41816936813312], [2.057223867956205, 41.41819668728305], [2.057259904711791, 41.41827731083344], [2.057280531556941, 41.418294053524406], [2.057300753542993, 41.41840912698561], [2.057250581302714, 41.41852483061157], [2.057121601562347, 41.41866602791667], [2.057071051958452, 41.418743257643314], [2.057045373418149, 41.41880274840501], [2.057107122131208, 41.41886542376243], [2.057081553363083, 41.41890822466825], [2.057020768819161, 41.418967499747936], [2.056940727805783, 41.41901951008688], [2.056864481198311, 41.41909542115639], [2.056853491268701, 41.41913380178103], [2.056856768310959, 41.41919925859305], [2.056840356532931, 41.419274930550195], [2.056689174368586, 41.419537023148145], [2.056680585087181, 41.41964516793544], [2.056632868909169, 41.41974894755492], [2.056617983143173, 41.4199423950657], [2.056580414663894, 41.420055238271665], [2.056571871109566, 41.420125480171244], [2.056584672904885, 41.420198401175], [2.056570972066964, 41.420250432805126], [2.056522579533346, 41.42031822215852], [2.05640072595959, 41.42044128204348], [2.056377422276936, 41.4204779853157], [2.056377847629145, 41.42078172815664], [2.056439998707007, 41.420956396454805], [2.056440911960211, 41.42100077451416], [2.05648669851004, 41.421203168524855], [2.056485549168437, 41.42127512841117], [2.056465339641355, 41.42135764180335], [2.056444484506349, 41.421387204263], [2.056402680753074, 41.42141145166175], [2.056379714742762, 41.4214372046708], [2.05621884477018, 41.42170340552787], [2.056189722516563, 41.421729513327804], [2.056142971505595, 41.42174829757505], [2.056079501564323, 41.421834103969665], [2.056035412541533, 41.42187647343022], [2.055941704909867, 41.421909212112986], [2.055775990695935, 41.422032136549284], [2.055716936397431, 41.42211542087124], [2.055595139253765, 41.422206990371166], [2.055544439928828, 41.422272760700544], [2.055513480101497, 41.42229020611543], [2.055145210676728, 41.42231499704371], [2.054973171378309, 41.422368042833085], [2.054643773214019, 41.422414877352686], [2.054617556015397, 41.422429569196375], [2.054554133276602, 41.42251441132687], [2.054476685834313, 41.42270231815772], [2.054441530435687, 41.42272352092308], [2.054232233078668, 41.42271823356203], [2.054160879155944, 41.42273272536787], [2.054000392657374, 41.42284633148612], [2.053920278011748, 41.42286664195553], [2.053803717813722, 41.42300854102861], [2.053759195639305, 41.423092952675105], [2.05371863660466, 41.423140124199485], [2.053161312095062, 41.423664535348884], [2.053061863183386, 41.423700088772705], [2.052591992324347, 41.42378768157831], [2.052515892641509, 41.42381652712911], [2.05247371827587, 41.42384794894257], [2.052438228467167, 41.42389371156299], [2.052433395581851, 41.42392321608738], [2.052479568147064, 41.42406211245323], [2.052479599486156, 41.42415873528015], [2.052461432129827, 41.4241802124584], [2.052407295110081, 41.42420718513311], [2.052333387639205, 41.42422991366459], [2.052355549063408, 41.42427728787742], [2.05242972047437, 41.424435847487665], [2.052885995834667, 41.424822563194034], [2.053257039280414, 41.42500747972169], [2.054663846603641, 41.425276098440165], [2.055299125083814, 41.42542122191785], [2.055868407395749, 41.42548436243821], [2.056427814608737, 41.425696661232884], [2.056790083635763, 41.42581455038457], [2.057472417437416, 41.426215888901716], [2.057664728794271, 41.42641980601093], [2.057678879876408, 41.42679676606758], [2.057554481758949, 41.427125856192205], [2.05758242403852, 41.42751191859292], [2.057690525167861, 41.42789906902786], [2.057992635060099, 41.42827203524343], [2.058257453207228, 41.42877495607726], [2.058330117842178, 41.429000691164454], [2.058447404883649, 41.42918477634591], [2.058448532627392, 41.42959450570315], [2.058393872184173, 41.42976415066981], [2.058412852997105, 41.42994104043264], [2.058442586502247, 41.43043025196008], [2.058438444380243, 41.43089862137024], [2.058401601818413, 41.43117980225309], [2.05841670084594, 41.431295289124186], [2.057854691042802, 41.432603121104556], [2.057852960703317, 41.43264994544658], [2.057788863012655, 41.43290436610604], [2.057762595275401, 41.43320121520091], [2.057736964278654, 41.43329263760038], [2.057710140936601, 41.43333408614938], [2.057626242938126, 41.43340082834231], [2.057596824803118, 41.43344540819963], [2.057602826169211, 41.43352367766759], [2.057639459605995, 41.43358598473712], [2.05767726538667, 41.43362351301965], [2.057783683071208, 41.43370368586443], [2.057890355553743, 41.43380929760747], [2.057905057642131, 41.433838809170126], [2.057906509993431, 41.43388736196675], [2.057885437727402, 41.43394411619255], [2.057561864410959, 41.43440599565737], [2.057508751230384, 41.43452060307952], [2.057481450322608, 41.43460742694994], [2.057489990433933, 41.43468229439518], [2.057651783112702, 41.435127937014336], [2.057667312216118, 41.43530219532375], [2.057727064831367, 41.43550398219203], [2.057726355414012, 41.435566271572604], [2.057672743736313, 41.43574839444548], [2.057669005277004, 41.43580676240883], [2.058105868839075, 41.43573916725323], [2.058318260458563, 41.4356595007568], [2.058813313736626, 41.43555710443632], [2.05897037693992, 41.43541935018159]]]], &quot;type&quot;: &quot;MultiPolygon&quot;}, &quot;properties&quot;: {&quot;AEB&quot;: &quot;-&quot;, &quot;ANNEXDESCR&quot;: &quot;Grup - I&quot;, &quot;AREA&quot;: 19915566.168, &quot;AREA_I&quot;: &quot;-&quot;, &quot;BARRI&quot;: &quot;-&quot;, &quot;CODI_UA&quot;: &quot;05&quot;, &quot;COL_DESCR&quot;: &quot;Negre&quot;, &quot;COL_FARCIT&quot;: &quot;1&quot;, &quot;CONJ_DESCR&quot;: &quot;Districtes&quot;, &quot;DISTRICTE&quot;: &quot;05&quot;, &quot;DOCUMENTA&quot;: null, &quot;ELEM_DESCR&quot;: &quot;L\\u00edmit de districte&quot;, &quot;ESTIL_ID&quot;: &quot;0&quot;, &quot;ESTIL_QGIS&quot;: &quot;S\\u00f2lid&quot;, &quot;FCOL_DESCR&quot;: &quot;Negre&quot;, &quot;FHEX_COLOR&quot;: &quot;#000000&quot;, &quot;GRANBARRI&quot;: &quot;-&quot;, &quot;GRUIXDIMEN&quot;: 70.0, &quot;GRUIX_ID&quot;: &quot;6&quot;, &quot;HEX_COLOR7&quot;: &quot;#000000&quot;, &quot;ID_ANNEX&quot;: &quot;01&quot;, &quot;ID_CONJUNT&quot;: &quot;010412&quot;, &quot;ID_ELEMENT&quot;: &quot;0104120101&quot;, &quot;ID_SUBCONJ&quot;: &quot;01041201&quot;, &quot;ID_TEMA&quot;: &quot;0104&quot;, &quot;LITERAL&quot;: &quot;05&quot;, &quot;NDESCR_CA&quot;: &quot;L\\u00edmit de districte (pol\\u00edgon)&quot;, &quot;NDESCR_EN&quot;: &quot;District boundary (polygon)&quot;, &quot;NDESCR_ES&quot;: &quot;L\\u00edmite de distrito (pol\\u00edgono)&quot;, &quot;NIVELL&quot;: &quot;ADM_02_PL&quot;, &quot;NOM&quot;: &quot;Sarri\\u00e0-Sant Gervasi&quot;, &quot;ORD_REPRES&quot;: 5, &quot;PERIMETRE&quot;: 35757.403, &quot;RANGESCALA&quot;: &quot;1-150000&quot;, &quot;SCONJ_DESC&quot;: &quot;Districte&quot;, &quot;SEC_CENS&quot;: &quot;-&quot;, &quot;TEMA_DESCR&quot;: &quot;Unitats Administratives&quot;, &quot;TERME&quot;: &quot;080193&quot;, &quot;TIPUS_POL&quot;: null, &quot;TIPUS_UA&quot;: &quot;DISTRICTE&quot;, &quot;VALOR1QGIS&quot;: &quot;0&quot;, &quot;VALOR2QGIS&quot;: &quot;0&quot;, &quot;WEB1&quot;: &quot;http://www.bcn.cat/sarria-santgervasi&quot;, &quot;WEB2&quot;: &quot;http://www.bcn.cat/estadistica/catala/dades/guiadt05/index.htm&quot;, &quot;WEB3&quot;: &quot;http://www.bcn.cat/estadistica/catala/documents/districtes/05_Sarria_San%20Gervasi_2017.pdf&quot;, &quot;ZUA&quot;: &quot;-&quot;}, &quot;type&quot;: &quot;Feature&quot;}, {&quot;geometry&quot;: {&quot;coordinates&quot;: [[[2.136285109790879, 41.423627106324425], [2.136400003296166, 41.423581292261346], [2.136538142857144, 41.423553090969115], [2.136994645239876, 41.423514883878894], [2.137260621874945, 41.42346103261254], [2.137589828598309, 41.42332064281136], [2.13776434119942, 41.423196999579645], [2.137903315820223, 41.423067559208754], [2.138079860448137, 41.42282454602279], [2.13838415921554, 41.42205940082501], [2.138409449366031, 41.421995807588885], [2.138442945376776, 41.42187171962634], [2.13843989548086, 41.42176748061146], [2.138406717295926, 41.42168013011727], [2.138353317792243, 41.42160345511876], [2.138268185339647, 41.42153290166906], [2.138150555401127, 41.42147199489056], [2.138115335555573, 41.42145818113778], [2.137803083886191, 41.42133571180731], [2.137739244542447, 41.421287520901444], [2.137697152936433, 41.42123359308749], [2.137670541385162, 41.42115290306153], [2.13767685751103, 41.421071667184], [2.137721776189942, 41.42099419751351], [2.13779307453643, 41.420932616503514], [2.137880599139105, 41.420890518555574], [2.138872606797328, 41.420573415901394], [2.139196750238951, 41.42046555893878], [2.139865309808584, 41.42028305297444], [2.14004011650615, 41.42023240568224], [2.140455488407982, 41.42109806322921], [2.140812843162223, 41.421255651691226], [2.141717281597089, 41.42153249099926], [2.141837134803836, 41.421556588267414], [2.141994949524373, 41.42154774905556], [2.142107804518242, 41.42151075937101], [2.142206015510217, 41.4214535017171], [2.142218601506559, 41.421443730599144], [2.143085230887988, 41.42077090459081], [2.143445113703209, 41.42049149551285], [2.143606148988229, 41.42036646842109], [2.143666623804325, 41.420319515953324], [2.143897537399126, 41.42014023423527], [2.144020394528844, 41.42019406446651], [2.144315820628064, 41.42038971247527], [2.144527916892321, 41.4205301729825], [2.144715113213501, 41.42073288494169], [2.144819528871119, 41.42079056571809], [2.145143178954224, 41.42089303213024], [2.146976422461524, 41.42126447846468], [2.14780195264703, 41.421592253446896], [2.149329285118873, 41.4216367979731], [2.149474766514133, 41.42164103880739], [2.149491921637087, 41.42137639788836], [2.149491921674491, 41.42137630331038], [2.149489911543458, 41.42093340552492], [2.149488682619673, 41.420661749672675], [2.149488553900025, 41.42063382921911], [2.149488425180285, 41.42060590876541], [2.149488424655715, 41.420605765543016], [2.149271705805861, 41.42037120793577], [2.149411099618268, 41.42036515875239], [2.149640883867657, 41.420352157239456], [2.149898965679069, 41.42033114956733], [2.150148201243796, 41.42030209536496], [2.150216098006814, 41.42029486850042], [2.150432142386461, 41.420271909762434], [2.150690127039785, 41.420240865292264], [2.150955627253218, 41.420206083569155], [2.151120337356955, 41.42019210342679], [2.151330592952668, 41.42017805369654], [2.151479635721565, 41.42017441512001], [2.151740235892285, 41.42017229790904], [2.151773864564103, 41.42014275549763], [2.151681171114905, 41.41981619764224], [2.151669587117989, 41.419510957652534], [2.151649922177751, 41.41933749118398], [2.151567422051317, 41.41907300037607], [2.151516585510182, 41.41893536984657], [2.151339568442036, 41.41868990808679], [2.151255387031676, 41.418575660721295], [2.151150100853975, 41.41849763779763], [2.151054386717836, 41.41833011705725], [2.151019321976678, 41.41826811038717], [2.150987048788587, 41.41820354817369], [2.150937408615667, 41.418075543463075], [2.150908582759933, 41.41799896819998], [2.150897343716092, 41.417960049598115], [2.150881879858053, 41.41777980612644], [2.150881282881162, 41.41775526720621], [2.1508868045059, 41.4177191268008], [2.150900667723287, 41.41768316685743], [2.150922703391215, 41.41764907232095], [2.150951712238432, 41.41761805754903], [2.15098967527291, 41.41758832845777], [2.151037740283827, 41.41756023308921], [2.151330136182986, 41.41742609308878], [2.151416774026806, 41.417376532680315], [2.151422603691553, 41.41728838815271], [2.151479860419434, 41.41726241949802], [2.151590246836118, 41.41724200659915], [2.151676582701366, 41.41720605493716], [2.151770837101568, 41.417134456023156], [2.151838268152594, 41.41707078401582], [2.151883626284052, 41.41700309406083], [2.151924247559537, 41.41690491494861], [2.152664988999053, 41.41681593146219], [2.152694746286608, 41.416812308037585], [2.152720015234974, 41.4168092307307], [2.152829309668526, 41.41670001575641], [2.152933356761444, 41.41662514622005], [2.152938002625531, 41.416622144911614], [2.153180544465875, 41.41646513787049], [2.153229127082304, 41.41641898092428], [2.153420536312237, 41.416253864113045], [2.15360027647561, 41.41609881253899], [2.153608702107195, 41.416080247094314], [2.153619237632592, 41.41607059654267], [2.153876385398894, 41.41584817248186], [2.154161564389065, 41.41560437204126], [2.154163972733286, 41.41560264680322], [2.154517075822407, 41.41534964918454], [2.15465604231215, 41.41522397857334], [2.154828954896642, 41.41513724422201], [2.154855802029196, 41.41512377711909], [2.155028112943774, 41.41498122239758], [2.155106393562531, 41.41494415510274], [2.155223329832272, 41.41492409845676], [2.155334130462875, 41.41495000677046], [2.15537212256217, 41.41496948149717], [2.155419395514061, 41.4150461992175], [2.155425101606308, 41.41505545934385], [2.15543028267109, 41.41506386801342], [2.155464777072022, 41.41511984860284], [2.155539809731279, 41.41510720162634], [2.155559796440101, 41.41510383361341], [2.155646676877653, 41.415098803765815], [2.155647042097365, 41.415098783026764], [2.155760760532713, 41.41510730992385], [2.155868882025155, 41.41513501757083], [2.155994703729, 41.41518930087894], [2.156521029462791, 41.41554373666939], [2.156628233135932, 41.415615928337026], [2.157136839166266, 41.41641632147035], [2.15713713695976, 41.41641670376693], [2.157211923125022, 41.41651262894449], [2.157275176835876, 41.41654578937476], [2.157356044250192, 41.4165659999431], [2.157423790648159, 41.41657004505044], [2.157492833266868, 41.416553418477726], [2.157572149272493, 41.41651775325461], [2.157624069143069, 41.416464971375454], [2.157857658392605, 41.41595048628754], [2.157881827579366, 41.415897257050254], [2.157997458732536, 41.41571658857091], [2.158086499847466, 41.41557746417541], [2.158348953926621, 41.41522861580578], [2.158587472908063, 41.41496237036603], [2.158604561478049, 41.41494684667252], [2.158947773227277, 41.41463505688775], [2.159193230967027, 41.41444741048351], [2.15946774046354, 41.414271284668786], [2.159780011640515, 41.414106278961164], [2.160044136772843, 41.413995829521845], [2.160079409833, 41.41398271545174], [2.160132604336726, 41.41396293876685], [2.160241704727908, 41.413935917385295], [2.160277185239232, 41.41392712925322], [2.160399874525857, 41.41391442338671], [2.160497552649894, 41.41392428775172], [2.160716019895526, 41.414022581314626], [2.161055387783254, 41.414175269486755], [2.161056345452469, 41.4141757007217], [2.161165687040948, 41.41409514794835], [2.161381620029173, 41.413936067634154], [2.161422030969396, 41.413851115518206], [2.161422201506898, 41.413757477834054], [2.161400129720279, 41.41370606987144], [2.161387075317506, 41.41367566549083], [2.161304710912361, 41.41360271712403], [2.161235804058413, 41.41356818457604], [2.161381694043452, 41.41340155154481], [2.161592254155864, 41.41316105277459], [2.162020701922244, 41.41267167731855], [2.162031403920177, 41.41265945376559], [2.162303817292255, 41.41233051032096], [2.163002667599163, 41.41148661723211], [2.163690024644807, 41.410723944849124], [2.163942869165995, 41.41051179195087], [2.1642884492146, 41.41025512884023], [2.165175101448059, 41.40958988386945], [2.16588431438813, 41.409048281178954], [2.166652247715497, 41.408461819689315], [2.167144199195926, 41.40808611395977], [2.167568916881685, 41.407761750496604], [2.167797714108268, 41.407587012195634], [2.168659305831135, 41.40692897990924], [2.169787134652652, 41.40607588417661], [2.170897157073123, 41.405236224965314], [2.172042936888601, 41.40436948347454], [2.169778032664534, 41.402672399153204], [2.168664993104692, 41.40183820461851], [2.167353488143065, 41.400855341173894], [2.16622469293711, 41.40170475709323], [2.166218154386184, 41.4017096773398], [2.165248230542722, 41.400981566317064], [2.16410839377384, 41.40012587284228], [2.162908155711874, 41.39922479832406], [2.161841343057059, 41.39842386112803], [2.161597023139446, 41.39824042791659], [2.161572967757531, 41.39822236735399], [2.159545496476452, 41.39670009597386], [2.159226474037774, 41.39646055739538], [2.158651313819739, 41.396315029125134], [2.155904348799861, 41.395619938629764], [2.155710715849695, 41.39557093856424], [2.155709363761818, 41.3955732786979], [2.155258935930584, 41.3963531020914], [2.154931169924807, 41.396777172953556], [2.1540382470985, 41.39767241872321], [2.153239490186956, 41.39847322593539], [2.152038684656477, 41.39967706765379], [2.151658745914422, 41.400057954292095], [2.151225786550292, 41.4004919872098], [2.151159454110995, 41.40072588701681], [2.151170164557886, 41.4009037728703], [2.151224672159304, 41.40105275793697], [2.151229503068098, 41.40115147956654], [2.151213415961672, 41.40132315161775], [2.151155276345098, 41.40149222552118], [2.151071059321493, 41.40162985101874], [2.15087287694565, 41.40188586387719], [2.150839089354795, 41.401929510681015], [2.150574811353569, 41.40227090170159], [2.150100787256224, 41.40288323093118], [2.150013750891421, 41.40301472771562], [2.149991506212048, 41.40306209225016], [2.149923187146117, 41.40320755732398], [2.149919364118386, 41.403267735074884], [2.15002817635848, 41.40378054213363], [2.150087625651822, 41.40387583005541], [2.150239995227278, 41.40401792615517], [2.150251384950059, 41.40402854722406], [2.150257421501306, 41.40403756685922], [2.150326120255311, 41.404140213619726], [2.150367595314234, 41.40425338361049], [2.150373552708672, 41.404367300147186], [2.150355292075286, 41.40445118705876], [2.15002148827097, 41.40530536869569], [2.149971070037425, 41.405509357848345], [2.149977278562216, 41.40559845163016], [2.149994511755693, 41.40564697701918], [2.15004169685998, 41.405779842696326], [2.15006736770636, 41.40599494170652], [2.149944577719041, 41.40611494821743], [2.149747684524589, 41.40630737745368], [2.149571168588273, 41.40647989011253], [2.149531227774117, 41.40650411863268], [2.149450106346551, 41.406553327597194], [2.149341139471643, 41.40661942861908], [2.149335575229979, 41.406622804014624], [2.149059662694334, 41.406861932521046], [2.149026909048458, 41.40689032052719], [2.149024163121997, 41.406888407747154], [2.148979177877132, 41.40685706948566], [2.148935724511357, 41.40682679821393], [2.148941359652607, 41.40682221005559], [2.148839917332935, 41.406751534615864], [2.148835440740648, 41.40675535669739], [2.148791352036428, 41.40672610752275], [2.148827501488987, 41.406695398258115], [2.148829766891385, 41.40669691025833], [2.148965449495755, 41.40658428466583], [2.148913617878401, 41.406548881104584], [2.148796267573217, 41.40665015683491], [2.148771651572951, 41.40663411255343], [2.148745706593599, 41.406616401959354], [2.148722562819728, 41.40660214303243], [2.148697364299559, 41.40662339437713], [2.148703048313933, 41.406626885395845], [2.148703049498464, 41.406626886305354], [2.148654559979621, 41.40666715122646], [2.148534921948199, 41.40676775311383], [2.148523916148268, 41.40677701151426], [2.148523913767435, 41.40677701059589], [2.148511210807066, 41.4067684504599], [2.148485856188362, 41.40677232518434], [2.148472434138011, 41.40678227818837], [2.148447295520314, 41.406764204189024], [2.148418409788638, 41.40678552636287], [2.148384828773121, 41.40681202189712], [2.148497194641269, 41.40689171309464], [2.148481665110678, 41.406904550908855], [2.148479957499056, 41.406903385314074], [2.148376474950975, 41.40698897404137], [2.148404085953088, 41.40700847332294], [2.148591179706279, 41.407139519668426], [2.148658950055836, 41.40718831922864], [2.148649651211022, 41.407195949109216], [2.148639881923769, 41.40720396463077], [2.147667881222947, 41.4080014767446], [2.14719301142459, 41.40858759325448], [2.14644858122922, 41.40950639338199], [2.146300146743378, 41.40968959301027], [2.146279630934779, 41.40971491390204], [2.14607541814257, 41.409966952350516], [2.14596475259061, 41.41013446250321], [2.145882800357615, 41.410290208476624], [2.145601185519368, 41.41082539222314], [2.145464941647433, 41.410957352200214], [2.145361329207971, 41.41105250850294], [2.145263233082718, 41.41113226869556], [2.145162500600852, 41.411192790884364], [2.145003940266585, 41.41126956328278], [2.144774949386627, 41.41134121813682], [2.144469369588336, 41.41138284862589], [2.143150464334571, 41.41148571701402], [2.143100318661051, 41.411491225417194], [2.140956041430211, 41.41172674138031], [2.140954926371182, 41.41172709875767], [2.140926251993874, 41.411736292950174], [2.14081830488387, 41.411770903322314], [2.140697692142494, 41.41183851331978], [2.140315896928175, 41.41213609966482], [2.139943070988926, 41.41242669081931], [2.138270349700704, 41.413730414881044], [2.13795740657077, 41.41397431465327], [2.137837247666075, 41.41404380666964], [2.137723042579675, 41.41410985459268], [2.137463555389626, 41.4142239264801], [2.137437912672567, 41.41423519982788], [2.137308785516368, 41.414291964065036], [2.137220370552094, 41.41433083119702], [2.137084909050986, 41.414419466510786], [2.137071103383435, 41.41442849922849], [2.137024969367208, 41.414458685776744], [2.136210728417237, 41.41517164978274], [2.13615171133105, 41.415223325620694], [2.136124587814945, 41.41527939154828], [2.13609017004732, 41.4153505334233], [2.136077486664143, 41.4154260071466], [2.136062578454632, 41.41558882568509], [2.136108876049201, 41.41571127842245], [2.136198923072885, 41.415873638386294], [2.136314803515493, 41.41598785189639], [2.136153803149161, 41.416131872159475], [2.135984888588718, 41.41628297116589], [2.13596463804938, 41.41630108710457], [2.135783575629632, 41.41646305124523], [2.135713217261024, 41.41652598744133], [2.135573283581978, 41.416651160301306], [2.135259873389462, 41.41693150852601], [2.134918378685128, 41.4172139316987], [2.134676789750344, 41.41741372871507], [2.134646511161677, 41.41743877048531], [2.134558339484987, 41.41751168824437], [2.134321483865805, 41.417707568535675], [2.134179071148292, 41.41779709383067], [2.133956612261752, 41.41790046437003], [2.13367528586515, 41.41801054313016], [2.13349598947826, 41.41806892309003], [2.132785398772432, 41.418300292014784], [2.13258159079501, 41.41840189989133], [2.132415773106442, 41.41851011983009], [2.132352988976323, 41.418551095942824], [2.132277888761748, 41.41857807432787], [2.132179748009408, 41.41858299076203], [2.132077330173676, 41.41855683516932], [2.13204539272099, 41.41853936747808], [2.131826668399543, 41.418419742059015], [2.131603626149088, 41.41832393085894], [2.131476212670831, 41.41828511974574], [2.131358019684624, 41.41825714471558], [2.131342481547678, 41.418253466752155], [2.131244672429828, 41.41823532581796], [2.131144663582047, 41.418226013505425], [2.13106997839726, 41.41822723292637], [2.130990950912204, 41.418238219606685], [2.130669445159291, 41.418311687467245], [2.130612619077054, 41.418312483075226], [2.130545442253992, 41.41828483686882], [2.130512297123924, 41.41832359314308], [2.1302204597701, 41.41866483227205], [2.130059052933338, 41.41911182261611], [2.130081194724591, 41.41924602089174], [2.130091378691029, 41.419298881550375], [2.130103337141191, 41.4193712117156], [2.130117102414024, 41.41944265479534], [2.130129750519146, 41.419508144509315], [2.130135066750238, 41.41956709342237], [2.130128813850849, 41.41960523772852], [2.130086490320468, 41.41964725272365], [2.130042512478331, 41.419660791654834], [2.129995417554208, 41.41965683254651], [2.129949161323715, 41.419634864863724], [2.12990884261839, 41.41960735744898], [2.129908841433891, 41.419607356539295], [2.129867426009392, 41.41957245560818], [2.129837641569656, 41.41954466754318], [2.129837640385159, 41.41954466663347], [2.129794946759313, 41.419515881073735], [2.129753580182392, 41.41948620389057], [2.129699949024281, 41.41946093763977], [2.129646793508337, 41.419444862560375], [2.129596195798163, 41.41943439142627], [2.129546691192862, 41.419431674946644], [2.129502704388477, 41.41943692675103], [2.12946296490537, 41.41944671440167], [2.129399420636906, 41.419473974701276], [2.129385889955015, 41.419481610609], [2.129385886341393, 41.41948161238314], [2.129317232181881, 41.419520352693844], [2.12937264294347, 41.41951244644583], [2.129436159598248, 41.41950804505636], [2.129488710758509, 41.41950844269884], [2.12952388886035, 41.41951315854977], [2.129557488696613, 41.41952225808403], [2.129588616490791, 41.419535464317455], [2.12962695414345, 41.419558074819726], [2.129668495254544, 41.419586330191464], [2.129707025797666, 41.41961690471101], [2.129735744405551, 41.41964385606178], [2.12976427641479, 41.41967761562514], [2.129783183220923, 41.41970631225016], [2.12979916938821, 41.4197379403232], [2.129808096336248, 41.419755601193756], [2.129815897059023, 41.41977103501055], [2.129827922988694, 41.419798850897486], [2.129840485528968, 41.41983666910963], [2.129847089399905, 41.419864759245165], [2.12985314517581, 41.419890521313015], [2.129864324321416, 41.41992081684689], [2.12988355787727, 41.41995731637612], [2.129908393728394, 41.419991876633084], [2.129932053002343, 41.42001776282115], [2.129956020106747, 41.420034932122284], [2.129975793988658, 41.420046196851686], [2.129996903774891, 41.420055994458465], [2.130019195358173, 41.42006421568714], [2.13005031602062, 41.42007260275643], [2.130070350773029, 41.42007597891748], [2.130104431584263, 41.4200777588733], [2.130138337151978, 41.42007473652409], [2.130188783384694, 41.42006252551974], [2.130246181459551, 41.420045881339846], [2.130295247377936, 41.4200293155611], [2.130359800660543, 41.42000752181121], [2.130416684282787, 41.41998996570631], [2.130425648201338, 41.41998719881558], [2.130470600531225, 41.41997238354278], [2.13050361301015, 41.419959157903875], [2.130514350679058, 41.419954393048464], [2.130555864159191, 41.41993362935502], [2.130583331147839, 41.41991629041734], [2.13061393508149, 41.41989164311499], [2.130648777843346, 41.41985243576793], [2.130669863041106, 41.419821010476234], [2.130687596053178, 41.41979149645248], [2.130717057127686, 41.41973050443714], [2.130729882456366, 41.41969544166633], [2.13075096158551, 41.41963781274256], [2.130780024265947, 41.41957079171556], [2.130798251332046, 41.41953742171393], [2.13082157671306, 41.41950490089729], [2.130863147487539, 41.41945916887347], [2.130878655552801, 41.419444838080516], [2.130901458380553, 41.41942906715554], [2.130926813737336, 41.41941571148947], [2.130947243376472, 41.419407407818724], [2.130976006062435, 41.419398770761404], [2.131006021959257, 41.41939307058392], [2.131052540597819, 41.419389981100124], [2.131091832260292, 41.419392223470155], [2.131130151666042, 41.419399178387664], [2.131166520078489, 41.419410658313225], [2.131202236226858, 41.41942618665398], [2.131244551909202, 41.41944754760136], [2.13127652755981, 41.41946620658603], [2.131435059577555, 41.41955871476996], [2.131500320080979, 41.419594967018014], [2.131545772780821, 41.41961620741672], [2.131608276518715, 41.41964202618196], [2.13165648430068, 41.419659468174004], [2.131731366551791, 41.41968391388825], [2.131879621656602, 41.419732310981736], [2.13192415039399, 41.41974567174815], [2.13194141161983, 41.41975190093325], [2.132002417845448, 41.41977391514837], [2.132068213538111, 41.419800569170924], [2.132104950897688, 41.41981941967677], [2.132138750850765, 41.419844985584604], [2.132166887606835, 41.41987258047688], [2.132189134060675, 41.41990218462975], [2.132202898749799, 41.419934300931416], [2.132208309469448, 41.419968317842226], [2.132203264791047, 41.41998950134058], [2.132191271879488, 41.42001845089365], [2.13218198525015, 41.42003494644311], [2.132171539143064, 41.42005350315734], [2.132150263279653, 41.4200822205478], [2.132073114328224, 41.42016047174703], [2.132005734538405, 41.42023477927665], [2.131898336908248, 41.420361316252446], [2.131844213089444, 41.420430427328185], [2.131747470492215, 41.42056374610228], [2.131665248676741, 41.420672385893475], [2.131621463801426, 41.42072530744337], [2.131571820932854, 41.42078139140857], [2.131484826265527, 41.42087098932349], [2.131430785779691, 41.42092300469078], [2.131342589030002, 41.42100400031507], [2.131320729725825, 41.4210279572086], [2.131300939677288, 41.42105288451187], [2.131281751021151, 41.42108296861246], [2.131260321669783, 41.421130330088076], [2.131253448305046, 41.42115320213843], [2.131251752826478, 41.42115884330991], [2.131246271925432, 41.42117708073418], [2.131235690318146, 41.42122220019726], [2.131229835620078, 41.42126174821853], [2.131232258782189, 41.42127486424532], [2.131238089615406, 41.42129232417471], [2.131252098344358, 41.42131715990432], [2.131264736154634, 41.421332443691796], [2.131251977566628, 41.42134651336039], [2.131239800076404, 41.42135397504902], [2.130910903140702, 41.42155549520387], [2.130730547754138, 41.42175409791684], [2.130685126076568, 41.4218040162579], [2.130678477714444, 41.42180901019091], [2.130476728872743, 41.42196061212085], [2.130406966986906, 41.42204097169731], [2.130238155877611, 41.4222351571515], [2.130199022961385, 41.42228007866938], [2.130086484709175, 41.422409295277085], [2.130066339274471, 41.42242940068998], [2.130044398614689, 41.422451312027945], [2.13004349824347, 41.422452422142676], [2.129950154638149, 41.42256638102668], [2.129953330862107, 41.42256780120113], [2.129966331537203, 41.4225737363433], [2.129979294874726, 41.422579779290956], [2.129992184857211, 41.422585938779186], [2.130005025656681, 41.42259219697596], [2.130017793221422, 41.4225985627068], [2.130030499517247, 41.422605036062265], [2.130043132698638, 41.42261160794531], [2.130050384030682, 41.42261434699678], [2.130057745098874, 41.42261693375104], [2.130065192212055, 41.422619350014], [2.130072725129761, 41.42262161379876], [2.130080332126575, 41.42262370700174], [2.130088001116485, 41.42262563853898], [2.130095732339839, 41.42262739039736], [2.130348618811644, 41.422711684372366], [2.13035660265597, 41.42271333904097], [2.130367106956737, 41.42271533702917], [2.130377649198372, 41.422717182176655], [2.130388241466775, 41.42271886556731], [2.130398859950445, 41.42272037801372], [2.130409504529128, 41.422721728522404], [2.130420175202757, 41.422722917093324], [2.130484635696911, 41.422726935221064], [2.130559308404512, 41.42273331838116], [2.130577781261531, 41.422747986993016], [2.130580256163427, 41.42274995130424], [2.13058355660952, 41.422749237635756], [2.130611256326166, 41.42274324984097], [2.130722295179535, 41.42271924636361], [2.130750502902543, 41.42270926306835], [2.130802086201437, 41.42270077146311], [2.130808370688638, 41.42269973805031], [2.130811524897959, 41.4226992214342], [2.130836851970562, 41.422696161093604], [2.13092145338944, 41.422685784115046], [2.130988659163218, 41.42267777073784], [2.13099779246334, 41.42267668677389], [2.13100048901048, 41.42267549113727], [2.131064251173197, 41.42267174825556], [2.131113071281552, 41.42266127742195], [2.131243274579332, 41.422633350416845], [2.131364878876845, 41.42260762461212], [2.131417837953188, 41.42259645889927], [2.131493070170517, 41.42258060629606], [2.13162666830739, 41.42255105251879], [2.131694252949317, 41.42254602305267], [2.131697738826449, 41.42254576112391], [2.131743921017038, 41.42254383979553], [2.131798669555466, 41.42254027168081], [2.13182937020046, 41.422538071350694], [2.13188443475818, 41.422534136274635], [2.131902330441957, 41.4225328571418], [2.131903086262968, 41.422527323266245], [2.131970407206674, 41.42253130810052], [2.132023307402567, 41.42253443647953], [2.132047289764402, 41.422535292972825], [2.132076518114188, 41.422537612214036], [2.132094098047105, 41.422539375185735], [2.132125505009416, 41.4225416477978], [2.132133192400965, 41.42254220119852], [2.132159088424381, 41.42254403590111], [2.132184579026421, 41.422546660194875], [2.132193823048064, 41.42254714426651], [2.132218254600627, 41.42254841845492], [2.132249950908964, 41.42255053108153], [2.132285385095468, 41.42255232960881], [2.132316044103171, 41.42255415516274], [2.132349129502571, 41.42255709791612], [2.132361618505148, 41.422558336050194], [2.132387109121685, 41.42256096029921], [2.132411956009213, 41.42256249879465], [2.132446340936006, 41.42256401012887], [2.132485435321942, 41.42256683602222], [2.132518377527867, 41.42256884988033], [2.132527820178954, 41.42256969572065], [2.132532637110902, 41.42257012836885], [2.132563153045861, 41.42257101600385], [2.132585847880492, 41.422573303868276], [2.13260166934889, 41.42257501747435], [2.132632709863751, 41.42257605316513], [2.132665139468927, 41.42257791899743], [2.132683129262685, 41.42257945978297], [2.132699983507199, 41.42258090193068], [2.132742606980594, 41.42258381739354], [2.132773039027753, 41.422585614092476], [2.13277731989946, 41.422585862540664], [2.132812725414961, 41.42258712024273], [2.132814184640504, 41.42258717627921], [2.132850566418776, 41.42258341517399], [2.132910476899574, 41.42257053570936], [2.132963550064095, 41.422560667216125], [2.132999568232702, 41.42255365163562], [2.133008986641023, 41.42255182204247], [2.133034560360804, 41.42254460163653], [2.133071919147543, 41.422530363157236], [2.133107137830046, 41.422516874172594], [2.133138422025666, 41.42250408513422], [2.133170976207632, 41.422494782530144], [2.133211482637882, 41.42248141442145], [2.133243750406189, 41.42246665112677], [2.133276280426882, 41.42245376334737], [2.133308166689818, 41.42243978981555], [2.133338413621767, 41.42242670467006], [2.133361483220816, 41.42241610554984], [2.133381053066938, 41.42240591241949], [2.133403605100621, 41.422394996833695], [2.133420508862529, 41.422388121773395], [2.133443028942317, 41.42237897860444], [2.133484280872948, 41.42236083306068], [2.133505459576959, 41.422352939917985], [2.13355374038041, 41.42233536972027], [2.133622305068722, 41.42232320359671], [2.133696284456178, 41.42231241130728], [2.133842847966255, 41.42228775354918], [2.133934792617775, 41.42227583531875], [2.133975632473417, 41.42227067523323], [2.134078814563375, 41.422256013140064], [2.134157408030246, 41.42224920054384], [2.134273232435924, 41.42223774099092], [2.134358302395202, 41.42222443758697], [2.134439466573349, 41.42220787106135], [2.13452632083485, 41.42218455566941], [2.134650450685008, 41.42215042702436], [2.13468177589751, 41.42214181372515], [2.134687320055714, 41.422138846938154], [2.134705895403457, 41.422130528657554], [2.134706340884315, 41.42213032483688], [2.134777374039107, 41.42216358492886], [2.134695366421528, 41.42225703561421], [2.13464824243224, 41.42232360649362], [2.134634270107817, 41.422331879221794], [2.134625438484548, 41.42233710916922], [2.134598836298008, 41.42235285945084], [2.134559757394142, 41.42237599835571], [2.134545636684738, 41.42238435913048], [2.13449976938646, 41.42241151651181], [2.134492830237092, 41.422415625747945], [2.134437741638075, 41.42244824430273], [2.134431583322197, 41.4224530295638], [2.134383683127755, 41.42249025003468], [2.134383634762333, 41.422490287502036], [2.134375241888475, 41.42249680879599], [2.134330970357484, 41.422531210194194], [2.134304694149622, 41.42255367070464], [2.134302767127688, 41.42255531807797], [2.13428070470513, 41.42257658978166], [2.134277355436553, 41.422580352209366], [2.134261267562555, 41.42259842168343], [2.134248340382041, 41.42261647440674], [2.134244331261463, 41.42262207389051], [2.134236776702038, 41.42263674421354], [2.1342201198047, 41.42266909070445], [2.134214022098461, 41.422695706854746], [2.134212576694755, 41.422723438909394], [2.134213261187043, 41.42274398103623], [2.134211638655851, 41.42275802044062], [2.134213737511245, 41.42278019455141], [2.134219545774371, 41.42280329732189], [2.134237604738094, 41.42285819849107], [2.134245143529749, 41.42287796171172], [2.134252056663385, 41.42289608717376], [2.134252115655415, 41.42289624074428], [2.134262732860453, 41.422924076182426], [2.134273095690287, 41.42295124225362], [2.134284427569855, 41.423017081875315], [2.13429275110177, 41.42304002341965], [2.134313971490652, 41.42307315034744], [2.134333018903629, 41.42310770211176], [2.134343847192259, 41.42313217394848], [2.134344825412436, 41.423134388133036], [2.134346098762035, 41.42313726748622], [2.134360084817946, 41.42316888436755], [2.134373799043137, 41.42319988489402], [2.13440178766888, 41.42325503188793], [2.134440729774588, 41.423323430168935], [2.134460710651828, 41.42335528670059], [2.134480691548383, 41.42338714322877], [2.134523905730812, 41.42344925940178], [2.134567119994867, 41.423511375558704], [2.134585717093569, 41.423534346623434], [2.134587205325842, 41.423536185428894], [2.134590170039926, 41.42353984673799], [2.134596908327975, 41.423548169862215], [2.134615312196118, 41.423568120173236], [2.134628369513463, 41.42358227450781], [2.134633716075484, 41.42358807048135], [2.13464751732955, 41.42360955796544], [2.134665869844119, 41.42360525623911], [2.134666771382175, 41.42360504504003], [2.134753894139465, 41.42358462649781], [2.134758557898569, 41.42358353294061], [2.134783499041724, 41.423576292077364], [2.134804613474618, 41.4236223005625], [2.134804713500603, 41.423622518394154], [2.134832916884589, 41.42368397570937], [2.134846139754049, 41.423722807157326], [2.134859467650106, 41.42373749944315], [2.134880996010508, 41.423756568860014], [2.134910421726676, 41.423775533722115], [2.134963041538141, 41.42380528464727], [2.134999067836974, 41.423832047320154], [2.135072098651511, 41.42389275621686], [2.135085845816983, 41.42390525921649], [2.135115713360583, 41.423932422320014], [2.135146180424285, 41.42396013126993], [2.135160191317604, 41.423972873138986], [2.135212333110152, 41.42402965169503], [2.135253834879857, 41.42408562064819], [2.135278015106475, 41.42412717268601], [2.135285044770042, 41.424139252262], [2.135290589639056, 41.42414878057839], [2.135309646255426, 41.42418152805469], [2.135323063219312, 41.42420810357503], [2.135342879709117, 41.42424735202423], [2.135354660740471, 41.42427807938642], [2.135354793726465, 41.42427842897396], [2.135361358073482, 41.424295546513946], [2.135367401871945, 41.42431130902478], [2.135368787797901, 41.4243241100104], [2.13537017372437, 41.424336910996], [2.135367096522904, 41.424361388114896], [2.135360908072837, 41.42437682539989], [2.135344052983141, 41.4244024690169], [2.135331768852112, 41.42441732904698], [2.135296139160079, 41.424450929238546], [2.135188555644561, 41.4245409155936], [2.13510324308954, 41.424620980942954], [2.135077961440109, 41.42465033528777], [2.135064272592276, 41.424671841227784], [2.13504757547092, 41.42470360204087], [2.135038397780426, 41.424736869584414], [2.135039132877029, 41.42476263639706], [2.135047432968752, 41.42478647844905], [2.135057861659136, 41.42480133356499], [2.135057950928775, 41.42480146034034], [2.135059765579674, 41.42480404560824], [2.135079952490685, 41.42483720605113], [2.135105805706012, 41.424879675945846], [2.135805219066352, 41.42464752275551], [2.135903471147068, 41.42459877387062], [2.135979699006482, 41.42454492341642], [2.13607076743902, 41.42444584088704], [2.136126998230413, 41.424340479720875], [2.136147834465321, 41.424256151761135], [2.136145306444253, 41.42413863517817], [2.136139217561276, 41.423855574663406], [2.136157227272994, 41.42376986894948], [2.136209062128891, 41.423683714623365], [2.136285109790879, 41.423627106324425]]], &quot;type&quot;: &quot;Polygon&quot;}, &quot;properties&quot;: {&quot;AEB&quot;: &quot;-&quot;, &quot;ANNEXDESCR&quot;: &quot;Grup - I&quot;, &quot;AREA&quot;: 4224277.839, &quot;AREA_I&quot;: &quot;-&quot;, &quot;BARRI&quot;: &quot;-&quot;, &quot;CODI_UA&quot;: &quot;06&quot;, &quot;COL_DESCR&quot;: &quot;Negre&quot;, &quot;COL_FARCIT&quot;: &quot;1&quot;, &quot;CONJ_DESCR&quot;: &quot;Districtes&quot;, &quot;DISTRICTE&quot;: &quot;06&quot;, &quot;DOCUMENTA&quot;: null, &quot;ELEM_DESCR&quot;: &quot;L\\u00edmit de districte&quot;, &quot;ESTIL_ID&quot;: &quot;0&quot;, &quot;ESTIL_QGIS&quot;: &quot;S\\u00f2lid&quot;, &quot;FCOL_DESCR&quot;: &quot;Negre&quot;, &quot;FHEX_COLOR&quot;: &quot;#000000&quot;, &quot;GRANBARRI&quot;: &quot;-&quot;, &quot;GRUIXDIMEN&quot;: 70.0, &quot;GRUIX_ID&quot;: &quot;6&quot;, &quot;HEX_COLOR7&quot;: &quot;#000000&quot;, &quot;ID_ANNEX&quot;: &quot;01&quot;, &quot;ID_CONJUNT&quot;: &quot;010412&quot;, &quot;ID_ELEMENT&quot;: &quot;0104120101&quot;, &quot;ID_SUBCONJ&quot;: &quot;01041201&quot;, &quot;ID_TEMA&quot;: &quot;0104&quot;, &quot;LITERAL&quot;: &quot;06&quot;, &quot;NDESCR_CA&quot;: &quot;L\\u00edmit de districte (pol\\u00edgon)&quot;, &quot;NDESCR_EN&quot;: &quot;District boundary (polygon)&quot;, &quot;NDESCR_ES&quot;: &quot;L\\u00edmite de distrito (pol\\u00edgono)&quot;, &quot;NIVELL&quot;: &quot;ADM_02_PL&quot;, &quot;NOM&quot;: &quot;Gr\\u00e0cia&quot;, &quot;ORD_REPRES&quot;: 5, &quot;PERIMETRE&quot;: 12482.174, &quot;RANGESCALA&quot;: &quot;1-150000&quot;, &quot;SCONJ_DESC&quot;: &quot;Districte&quot;, &quot;SEC_CENS&quot;: &quot;-&quot;, &quot;TEMA_DESCR&quot;: &quot;Unitats Administratives&quot;, &quot;TERME&quot;: &quot;080193&quot;, &quot;TIPUS_POL&quot;: null, &quot;TIPUS_UA&quot;: &quot;DISTRICTE&quot;, &quot;VALOR1QGIS&quot;: &quot;0&quot;, &quot;VALOR2QGIS&quot;: &quot;0&quot;, &quot;WEB1&quot;: &quot;http://www.bcn.cat/gracia&quot;, &quot;WEB2&quot;: &quot;http://www.bcn.cat/estadistica/catala/dades/guiadt06/index.htm&quot;, &quot;WEB3&quot;: &quot;http://www.bcn.cat/estadistica/catala/documents/districtes/06_Gracia_2017.pdf&quot;, &quot;ZUA&quot;: &quot;-&quot;}, &quot;type&quot;: &quot;Feature&quot;}, {&quot;geometry&quot;: {&quot;coordinates&quot;: [[[2.15948661458361, 41.44976769367271], [2.159419309442754, 41.44959694378256], [2.159425673706288, 41.44950179095351], [2.159424757057127, 41.44939473386763], [2.159283133234994, 41.4492664665067], [2.159148441083695, 41.44907427269044], [2.159009023631263, 41.44889206040889], [2.158944816453284, 41.44882457403221], [2.158922847144461, 41.44880148233294], [2.158750640281706, 41.44853308125079], [2.158639297897231, 41.44840560470001], [2.158340919214389, 41.44807548906477], [2.15806966800076, 41.447822476492085], [2.157940233572873, 41.44771208901396], [2.157780436284236, 41.44761214387084], [2.157676578354172, 41.44755047529676], [2.157665351458069, 41.44754464095402], [2.157576831389925, 41.44749863680108], [2.15749346676342, 41.44747046358456], [2.157339999507032, 41.44746058428807], [2.157206148211142, 41.44746315263188], [2.157095522528118, 41.44745178539525], [2.157042007035351, 41.44743256775678], [2.157031298294945, 41.447397900813044], [2.157043016881417, 41.44735455293391], [2.157064252561843, 41.44732694769299], [2.157117182895385, 41.44727945212211], [2.157251385040906, 41.44721736545555], [2.157423760482461, 41.44713057167113], [2.157469302844453, 41.44708594022436], [2.157516737664733, 41.447019020259354], [2.157542732337351, 41.446949259048964], [2.157561225525695, 41.44685415007387], [2.157592359374665, 41.44671285356251], [2.157590142287769, 41.44660845939447], [2.15751810624074, 41.44649310530944], [2.157416765837501, 41.44637395158736], [2.157316370402946, 41.446167919159805], [2.157253360039219, 41.44605176630719], [2.157210979020496, 41.44600571615521], [2.157168029907124, 41.44599246683614], [2.157082545859882, 41.44596171968421], [2.156653261677678, 41.445881758063415], [2.156423782846863, 41.445834750156806], [2.156206204744969, 41.44578766695273], [2.156011802736117, 41.44577757569649], [2.155903646569242, 41.445778187284034], [2.155836370370828, 41.44576536425843], [2.155834838248696, 41.44576507198382], [2.15579216996296, 41.445748662608985], [2.15575881443608, 41.44573232156487], [2.155707366560936, 41.44568857326769], [2.15570763536782, 41.44565214024049], [2.155718093611162, 41.44560817073008], [2.155743004267354, 41.44558519548663], [2.155782419580163, 41.44555886783692], [2.155830172398285, 41.44554873364094], [2.155903904482383, 41.44554585187128], [2.156027976405529, 41.44555121187285], [2.156061380463989, 41.44554902493891], [2.156104666395612, 41.44554363178908], [2.156259884125378, 41.445497499432754], [2.1563559274044, 41.445457886634784], [2.156480696960616, 41.44541307094303], [2.156611173261498, 41.445350948668924], [2.156718832239727, 41.44528883012365], [2.156829626870229, 41.44520918801031], [2.156918180750069, 41.445151595083], [2.156992582001767, 41.44510807604935], [2.157119649055461, 41.44509284784903], [2.157377755807819, 41.445044008963556], [2.157472253297807, 41.44502106564307], [2.157526536120436, 41.44498822582821], [2.15770736813347, 41.44483483860852], [2.157836618032683, 41.444706294255866], [2.157904023105732, 41.444618641100874], [2.157949947364437, 41.444527642043056], [2.157969892694887, 41.44442288763643], [2.157980062248785, 41.44425203728568], [2.157990944837697, 41.44420473791523], [2.158031514281763, 41.44416307829706], [2.158170815462205, 41.444084724400234], [2.158294131456481, 41.44399831783532], [2.158338867648015, 41.44395286044063], [2.158407861212127, 41.44385518433218], [2.158473020945001, 41.44369473444422], [2.158493012044861, 41.443479801494746], [2.158546146041063, 41.4433569146031], [2.158605800458851, 41.44325931416954], [2.158698095116586, 41.44301095200428], [2.158927519176574, 41.44271300675255], [2.158983815225543, 41.44263065814362], [2.159045857223512, 41.44251862701663], [2.159112162029055, 41.44243429781577], [2.159187132172224, 41.44237602733285], [2.159437241745719, 41.44222797161382], [2.159697668465238, 41.4421229957496], [2.159751604773958, 41.4422138026321], [2.159818011599401, 41.44228479776659], [2.159944870851565, 41.442370592163044], [2.159968437100594, 41.4423811047743], [2.159996108425827, 41.44235223537729], [2.160066790811297, 41.44227847807242], [2.160086512451615, 41.44225313015864], [2.160108995962911, 41.44222423366489], [2.160125956882832, 41.442202434328934], [2.16033093619157, 41.44213439337278], [2.160428603800117, 41.44209885133973], [2.1604950519057, 41.442069265894226], [2.16056149995133, 41.4420396804096], [2.16056255462584, 41.442039210712224], [2.16057822181285, 41.44203223529315], [2.160581592905419, 41.44203073493502], [2.160590513058723, 41.442026764698724], [2.16059635350892, 41.442024162735954], [2.160597534604819, 41.442023636313216], [2.160599556065221, 41.44202273590914], [2.161083356533821, 41.44180733063248], [2.161288340604459, 41.44171606235206], [2.161394615849848, 41.44166874289123], [2.161395302023314, 41.4416684434424], [2.16149419008194, 41.44162559086349], [2.161538205681672, 41.44160651779868], [2.161635126540127, 41.44156452267831], [2.161713468144314, 41.44163114683281], [2.162400967793863, 41.44132517510125], [2.162400988064185, 41.441324995100345], [2.162435960775861, 41.44101556363859], [2.162387937980013, 41.440893250737645], [2.162369956938255, 41.440793492277336], [2.162280570691795, 41.44078754952709], [2.162212222956151, 41.44078016110889], [2.162117582355454, 41.44075630562978], [2.162041828051801, 41.440731748153915], [2.161961225302674, 41.44070071860118], [2.161890031671599, 41.440664635920186], [2.161826005576452, 41.440623836887134], [2.161763998375415, 41.440578152489394], [2.161705129679146, 41.44052606503088], [2.161649430881131, 41.44046383396094], [2.161607215344228, 41.440397708137844], [2.161574001765239, 41.44033426006134], [2.161550167519308, 41.440271417178614], [2.161538347091906, 41.44019951841565], [2.161531259071915, 41.440138549526935], [2.161533047932504, 41.440080202546085], [2.161541681909618, 41.44001307007052], [2.161560575451497, 41.43994984773186], [2.161598039543126, 41.439879365635925], [2.161639295976917, 41.43981974349627], [2.161672666024511, 41.43977642766357], [2.161701925580234, 41.43974519595632], [2.161749422578228, 41.439703284617906], [2.161800222775174, 41.439664481470686], [2.161800292890759, 41.43966442793702], [2.161711903231423, 41.4394187647231], [2.161664244102279, 41.439286152346504], [2.161757914853463, 41.43924594570816], [2.161835605460504, 41.4391817393674], [2.161878844724606, 41.439120065276036], [2.161937688706194, 41.43904559089955], [2.161949833723931, 41.439030219926345], [2.162021611201856, 41.43894978403022], [2.162120521016043, 41.43885007164702], [2.162172732077711, 41.43880182981071], [2.162275164674456, 41.43871296987731], [2.162382271707197, 41.43862733251627], [2.162439643208375, 41.438585469360454], [2.162499242537808, 41.438545351821006], [2.162560901206931, 41.4385070507274], [2.163655749919866, 41.4378621300234], [2.163659699898849, 41.437859803296845], [2.163659704732563, 41.43785979972899], [2.163652308546269, 41.43785299759089], [2.163631959744471, 41.43783427002326], [2.163619050849636, 41.437822389047], [2.163606542956226, 41.43781088028945], [2.163598822678714, 41.43780377674487], [2.163598396790723, 41.43780338542813], [2.163597342732688, 41.43780241577089], [2.163597213789084, 41.43780229683605], [2.163596350148542, 41.437801506009635], [2.16356909255986, 41.43777642840233], [2.163545231388412, 41.43775447584177], [2.163532065754305, 41.437742363299435], [2.163483574663386, 41.43769774008003], [2.163458838174901, 41.43767497857437], [2.163418920017239, 41.437636685939005], [2.163414705934923, 41.43763264158222], [2.163410050812999, 41.43762817427166], [2.163394207792001, 41.43761297070875], [2.163384380806002, 41.43760354322427], [2.163378900352614, 41.437598285363], [2.163364953864056, 41.43758490608219], [2.163340077176488, 41.43756104462449], [2.163326917004428, 41.437548419575286], [2.163282113351302, 41.43750618213478], [2.16327752938194, 41.43750186125668], [2.163188914522351, 41.43741915899489], [2.163161213462764, 41.43739331333317], [2.163130390090072, 41.43736453555066], [2.163135939862007, 41.43736159896696], [2.163137090787196, 41.43736099033041], [2.16315496341454, 41.43735152743022], [2.163195288193306, 41.4373301840112], [2.163201916597598, 41.43732667519176], [2.163208774207849, 41.43732321397705], [2.163239288841597, 41.437307815247074], [2.163229507797452, 41.43729835745791], [2.163216340697956, 41.43728562515683], [2.163213077516726, 41.43728247584199], [2.163250594913738, 41.43726060666559], [2.163282567103145, 41.43724197044566], [2.163292661252835, 41.43723608995068], [2.163366202710977, 41.43719323601136], [2.163371231767862, 41.437190300132954], [2.163496102470871, 41.43711753550523], [2.163520099255742, 41.43710355121171], [2.163445499231613, 41.43699489254557], [2.16339797563923, 41.43692568242824], [2.163364821029467, 41.43687739927248], [2.163349986858221, 41.43685579425077], [2.163312335658842, 41.436800962400376], [2.163304992015725, 41.43679026760888], [2.163298098404361, 41.43678022732741], [2.163297227734723, 41.43677895995434], [2.163288814688927, 41.436766535162754], [2.163275321179204, 41.43674660625708], [2.163256616805678, 41.43671898223018], [2.163251915730032, 41.43671204113743], [2.163246716620615, 41.43670436231626], [2.16323090433736, 41.43668100812687], [2.163167649332453, 41.436587591304104], [2.163216929969616, 41.43657401978031], [2.16333480532494, 41.43654155863456], [2.164264783011468, 41.43628545452101], [2.16420623155582, 41.43614804319428], [2.164175377998639, 41.43607563255678], [2.163802478316269, 41.435200477866154], [2.163581111123479, 41.43456330845348], [2.163577793699303, 41.434551434150904], [2.163476211138983, 41.43418778592874], [2.163153446503802, 41.433032321673444], [2.163110918419396, 41.4328800739338], [2.163110344457675, 41.43271239538944], [2.163109494557317, 41.43246397755435], [2.163142540191035, 41.43233176265205], [2.163158763241102, 41.432266858661286], [2.16319151922472, 41.432121115161046], [2.163231217908769, 41.43197697142577], [2.163325515495886, 41.43182180333693], [2.163405920632861, 41.43170084438076], [2.163644676968452, 41.431387675756994], [2.164086505991961, 41.43097581059022], [2.164311041950968, 41.430765811130755], [2.164838738316928, 41.43039614959413], [2.166147523863052, 41.42962593742245], [2.166147281461529, 41.429625800553815], [2.164965581869781, 41.428955533449255], [2.164799435161334, 41.42884889071906], [2.163783792933364, 41.42820672751824], [2.163631657881686, 41.42809678372932], [2.163687875450363, 41.42806505475036], [2.163797658468177, 41.42800969944631], [2.163873485803176, 41.42798614845132], [2.164015556073896, 41.427946065524914], [2.164220243757899, 41.42791120859098], [2.164430361144698, 41.42788670785761], [2.164543003925116, 41.42786959931146], [2.165004428973261, 41.42779951607334], [2.16516477395271, 41.4277751616561], [2.166934993592266, 41.42759873121823], [2.167286238347944, 41.42756372118515], [2.167429125603074, 41.42754947781103], [2.167839882290849, 41.427491622410976], [2.169711149553058, 41.42722803313309], [2.16998062261587, 41.42717877028632], [2.170227805322184, 41.42711060513829], [2.170452427998954, 41.42704866036615], [2.171009132028094, 41.426895135629124], [2.171781045135242, 41.42668225562733], [2.17235404747963, 41.426524227173445], [2.175673611347706, 41.4256086535598], [2.175787577341622, 41.42557721800843], [2.175895267978913, 41.42553835848588], [2.17606401772095, 41.42545048705476], [2.176220048548611, 41.42532630532954], [2.176532238103767, 41.42499247221535], [2.176542758296137, 41.42498104139345], [2.176968696759157, 41.42451823096312], [2.178247223113673, 41.423128976214606], [2.178612238504627, 41.4227323344824], [2.178971777435861, 41.422341637930074], [2.179760526586738, 41.421484515163385], [2.180337642288313, 41.4208573538857], [2.180470145572496, 41.42071335786216], [2.180626495677583, 41.420520784936144], [2.180658254940905, 41.42048166742632], [2.180746048377927, 41.42035452538014], [2.18079562300239, 41.42023668786599], [2.180834811460241, 41.42003383329659], [2.180827510558462, 41.419836064788576], [2.180725596393423, 41.4193814565876], [2.180562851113069, 41.41865548757345], [2.180503981606972, 41.4183928816566], [2.180490797070303, 41.41833406807311], [2.180394936222036, 41.41748219764409], [2.180404518970553, 41.41637351867038], [2.180484428205486, 41.415831784210624], [2.180188700569659, 41.415608070156466], [2.178988684508527, 41.41470024588031], [2.178823416503748, 41.41457521547208], [2.176758857167258, 41.41301326033249], [2.176642904307903, 41.412925531889734], [2.175467790126732, 41.41203643850192], [2.174328932947213, 41.41118219636064], [2.173241829016436, 41.41036674158046], [2.172137296952969, 41.40953800195278], [2.169970747924344, 41.40791286585403], [2.168659305831135, 41.40692897990924], [2.167797714108268, 41.407587012195634], [2.167568916881685, 41.407761750496604], [2.167144199195926, 41.40808611395977], [2.166652247715497, 41.408461819689315], [2.16588431438813, 41.409048281178954], [2.165175101448059, 41.40958988386945], [2.1642884492146, 41.41025512884023], [2.163942869165995, 41.41051179195087], [2.163690024644807, 41.410723944849124], [2.163002667599163, 41.41148661723211], [2.162303817292255, 41.41233051032096], [2.162031403920177, 41.41265945376559], [2.162020701922244, 41.41267167731855], [2.161592254155864, 41.41316105277459], [2.161381694043452, 41.41340155154481], [2.161235804058413, 41.41356818457604], [2.161304710912361, 41.41360271712403], [2.161387075317506, 41.41367566549083], [2.161400129720279, 41.41370606987144], [2.161422201506898, 41.413757477834054], [2.161422030969396, 41.413851115518206], [2.161381620029173, 41.413936067634154], [2.161165687040948, 41.41409514794835], [2.161056345452469, 41.4141757007217], [2.161055387783254, 41.414175269486755], [2.160716019895526, 41.414022581314626], [2.160497552649894, 41.41392428775172], [2.160399874525857, 41.41391442338671], [2.160277185239232, 41.41392712925322], [2.160241704727908, 41.413935917385295], [2.160132604336726, 41.41396293876685], [2.160079409833, 41.41398271545174], [2.160044136772843, 41.413995829521845], [2.159780011640515, 41.414106278961164], [2.15946774046354, 41.414271284668786], [2.159193230967027, 41.41444741048351], [2.158947773227277, 41.41463505688775], [2.158604561478049, 41.41494684667252], [2.158587472908063, 41.41496237036603], [2.158348953926621, 41.41522861580578], [2.158086499847466, 41.41557746417541], [2.157997458732536, 41.41571658857091], [2.157881827579366, 41.415897257050254], [2.157857658392605, 41.41595048628754], [2.157624069143069, 41.416464971375454], [2.157572149272493, 41.41651775325461], [2.157492833266868, 41.416553418477726], [2.157423790648159, 41.41657004505044], [2.157356044250192, 41.4165659999431], [2.157275176835876, 41.41654578937476], [2.157211923125022, 41.41651262894449], [2.15713713695976, 41.41641670376693], [2.157136839166266, 41.41641632147035], [2.156628233135932, 41.415615928337026], [2.156521029462791, 41.41554373666939], [2.155994703729, 41.41518930087894], [2.155868882025155, 41.41513501757083], [2.155760760532713, 41.41510730992385], [2.155647042097365, 41.415098783026764], [2.155646676877653, 41.415098803765815], [2.155559796440101, 41.41510383361341], [2.155539809731279, 41.41510720162634], [2.155464777072022, 41.41511984860284], [2.15543028267109, 41.41506386801342], [2.155425101606308, 41.41505545934385], [2.155419395514061, 41.4150461992175], [2.15537212256217, 41.41496948149717], [2.155334130462875, 41.41495000677046], [2.155223329832272, 41.41492409845676], [2.155106393562531, 41.41494415510274], [2.155028112943774, 41.41498122239758], [2.154855802029196, 41.41512377711909], [2.154828954896642, 41.41513724422201], [2.15465604231215, 41.41522397857334], [2.154517075822407, 41.41534964918454], [2.154163972733286, 41.41560264680322], [2.154161564389065, 41.41560437204126], [2.153876385398894, 41.41584817248186], [2.153619237632592, 41.41607059654267], [2.153608702107195, 41.416080247094314], [2.15360027647561, 41.41609881253899], [2.153420536312237, 41.416253864113045], [2.153229127082304, 41.41641898092428], [2.153180544465875, 41.41646513787049], [2.152938002625531, 41.416622144911614], [2.152933356761444, 41.41662514622005], [2.152829309668526, 41.41670001575641], [2.152720015234974, 41.4168092307307], [2.152694746286608, 41.416812308037585], [2.152664988999053, 41.41681593146219], [2.151924247559537, 41.41690491494861], [2.151883626284052, 41.41700309406083], [2.151838268152594, 41.41707078401582], [2.151770837101568, 41.417134456023156], [2.151676582701366, 41.41720605493716], [2.151590246836118, 41.41724200659915], [2.151479860419434, 41.41726241949802], [2.151422603691553, 41.41728838815271], [2.151416774026806, 41.417376532680315], [2.151330136182986, 41.41742609308878], [2.151037740283827, 41.41756023308921], [2.15098967527291, 41.41758832845777], [2.150951712238432, 41.41761805754903], [2.150922703391215, 41.41764907232095], [2.150900667723287, 41.41768316685743], [2.1508868045059, 41.4177191268008], [2.150881282881162, 41.41775526720621], [2.150881879858053, 41.41777980612644], [2.150897343716092, 41.417960049598115], [2.150908582759933, 41.41799896819998], [2.150937408615667, 41.418075543463075], [2.150987048788587, 41.41820354817369], [2.151019321976678, 41.41826811038717], [2.151054386717836, 41.41833011705725], [2.151150100853975, 41.41849763779763], [2.151255387031676, 41.418575660721295], [2.151339568442036, 41.41868990808679], [2.151516585510182, 41.41893536984657], [2.151567422051317, 41.41907300037607], [2.151649922177751, 41.41933749118398], [2.151669587117989, 41.419510957652534], [2.151681171114905, 41.41981619764224], [2.151773864564103, 41.42014275549763], [2.151740235892285, 41.42017229790904], [2.151479635721565, 41.42017441512001], [2.151330592952668, 41.42017805369654], [2.151120337356955, 41.42019210342679], [2.150955627253218, 41.420206083569155], [2.150690127039785, 41.420240865292264], [2.150432142386461, 41.420271909762434], [2.150216098006814, 41.42029486850042], [2.150148201243796, 41.42030209536496], [2.149898965679069, 41.42033114956733], [2.149640883867657, 41.420352157239456], [2.149411099618268, 41.42036515875239], [2.149271705805861, 41.42037120793577], [2.149488424655715, 41.420605765543016], [2.149488425180285, 41.42060590876541], [2.149488553900025, 41.42063382921911], [2.149488682619673, 41.420661749672675], [2.149489911543458, 41.42093340552492], [2.149491921674491, 41.42137630331038], [2.149491921637087, 41.42137639788836], [2.149474766514133, 41.42164103880739], [2.149329285118873, 41.4216367979731], [2.14780195264703, 41.421592253446896], [2.146976422461524, 41.42126447846468], [2.145143178954224, 41.42089303213024], [2.144819528871119, 41.42079056571809], [2.144715113213501, 41.42073288494169], [2.144527916892321, 41.4205301729825], [2.144315820628064, 41.42038971247527], [2.144020394528844, 41.42019406446651], [2.143897537399126, 41.42014023423527], [2.143666623804325, 41.420319515953324], [2.143606148988229, 41.42036646842109], [2.143445113703209, 41.42049149551285], [2.143085230887988, 41.42077090459081], [2.142218601506559, 41.421443730599144], [2.142206015510217, 41.4214535017171], [2.142107804518242, 41.42151075937101], [2.141994949524373, 41.42154774905556], [2.141837134803836, 41.421556588267414], [2.141717281597089, 41.42153249099926], [2.140812843162223, 41.421255651691226], [2.140455488407982, 41.42109806322921], [2.14004011650615, 41.42023240568224], [2.139865309808584, 41.42028305297444], [2.139196750238951, 41.42046555893878], [2.138872606797328, 41.420573415901394], [2.137880599139105, 41.420890518555574], [2.13779307453643, 41.420932616503514], [2.137721776189942, 41.42099419751351], [2.13767685751103, 41.421071667184], [2.137670541385162, 41.42115290306153], [2.137697152936433, 41.42123359308749], [2.137739244542447, 41.421287520901444], [2.137803083886191, 41.42133571180731], [2.138115335555573, 41.42145818113778], [2.138150555401127, 41.42147199489056], [2.138268185339647, 41.42153290166906], [2.138353317792243, 41.42160345511876], [2.138406717295926, 41.42168013011727], [2.13843989548086, 41.42176748061146], [2.138442945376776, 41.42187171962634], [2.138409449366031, 41.421995807588885], [2.13838415921554, 41.42205940082501], [2.138079860448137, 41.42282454602279], [2.137903315820223, 41.423067559208754], [2.13776434119942, 41.423196999579645], [2.137589828598309, 41.42332064281136], [2.137260621874945, 41.42346103261254], [2.136994645239876, 41.423514883878894], [2.136538142857144, 41.423553090969115], [2.136400003296166, 41.423581292261346], [2.136285109790879, 41.423627106324425], [2.136209062128891, 41.423683714623365], [2.136157227272994, 41.42376986894948], [2.136139217561276, 41.423855574663406], [2.136145306444253, 41.42413863517817], [2.136147834465321, 41.424256151761135], [2.136126998230413, 41.424340479720875], [2.13607076743902, 41.42444584088704], [2.135979699006482, 41.42454492341642], [2.135903471147068, 41.42459877387062], [2.135805219066352, 41.42464752275551], [2.135105805706012, 41.424879675945846], [2.135079952490685, 41.42483720605113], [2.135059765579674, 41.42480404560824], [2.135057950928775, 41.42480146034034], [2.135057861659136, 41.42480133356499], [2.135047432968752, 41.42478647844905], [2.135039132877029, 41.42476263639706], [2.135038397780426, 41.424736869584414], [2.13504757547092, 41.42470360204087], [2.135064272592276, 41.424671841227784], [2.135077961440109, 41.42465033528777], [2.13510324308954, 41.424620980942954], [2.135188555644561, 41.4245409155936], [2.135296139160079, 41.424450929238546], [2.135331768852112, 41.42441732904698], [2.135344052983141, 41.4244024690169], [2.135360908072837, 41.42437682539989], [2.135367096522904, 41.424361388114896], [2.13537017372437, 41.424336910996], [2.135368787797901, 41.4243241100104], [2.135367401871945, 41.42431130902478], [2.135361358073482, 41.424295546513946], [2.135354793726465, 41.42427842897396], [2.135354660740471, 41.42427807938642], [2.135342879709117, 41.42424735202423], [2.135323063219312, 41.42420810357503], [2.135309646255426, 41.42418152805469], [2.135290589639056, 41.42414878057839], [2.135285044770042, 41.424139252262], [2.135278015106475, 41.42412717268601], [2.135253834879857, 41.42408562064819], [2.135212333110152, 41.42402965169503], [2.135160191317604, 41.423972873138986], [2.135146180424285, 41.42396013126993], [2.135115713360583, 41.423932422320014], [2.135085845816983, 41.42390525921649], [2.135072098651511, 41.42389275621686], [2.134999067836974, 41.423832047320154], [2.134963041538141, 41.42380528464727], [2.134910421726676, 41.423775533722115], [2.134880996010508, 41.423756568860014], [2.134859467650106, 41.42373749944315], [2.134846139754049, 41.423722807157326], [2.134832916884589, 41.42368397570937], [2.134804713500603, 41.423622518394154], [2.134804613474618, 41.4236223005625], [2.134783499041724, 41.423576292077364], [2.134758557898569, 41.42358353294061], [2.134753894139465, 41.42358462649781], [2.134666771382175, 41.42360504504003], [2.134665869844119, 41.42360525623911], [2.13464751732955, 41.42360955796544], [2.134633716075484, 41.42358807048135], [2.134628369513463, 41.42358227450781], [2.134615312196118, 41.423568120173236], [2.134596908327975, 41.423548169862215], [2.134590170039926, 41.42353984673799], [2.134587205325842, 41.423536185428894], [2.134585717093569, 41.423534346623434], [2.134567119994867, 41.423511375558704], [2.134523905730812, 41.42344925940178], [2.134480691548383, 41.42338714322877], [2.134460710651828, 41.42335528670059], [2.134440729774588, 41.423323430168935], [2.13440178766888, 41.42325503188793], [2.134373799043137, 41.42319988489402], [2.134360084817946, 41.42316888436755], [2.134346098762035, 41.42313726748622], [2.134344825412436, 41.423134388133036], [2.134343847192259, 41.42313217394848], [2.134333018903629, 41.42310770211176], [2.134313971490652, 41.42307315034744], [2.13429275110177, 41.42304002341965], [2.134284427569855, 41.423017081875315], [2.134273095690287, 41.42295124225362], [2.134262732860453, 41.422924076182426], [2.134252115655415, 41.42289624074428], [2.134252056663385, 41.42289608717376], [2.134245143529749, 41.42287796171172], [2.134237604738094, 41.42285819849107], [2.134219545774371, 41.42280329732189], [2.134213737511245, 41.42278019455141], [2.134211638655851, 41.42275802044062], [2.134213261187043, 41.42274398103623], [2.134212576694755, 41.422723438909394], [2.134214022098461, 41.422695706854746], [2.1342201198047, 41.42266909070445], [2.134236776702038, 41.42263674421354], [2.134244331261463, 41.42262207389051], [2.134248340382041, 41.42261647440674], [2.134261267562555, 41.42259842168343], [2.134277355436553, 41.422580352209366], [2.13428070470513, 41.42257658978166], [2.134302767127688, 41.42255531807797], [2.134304694149622, 41.42255367070464], [2.134330970357484, 41.422531210194194], [2.134375241888475, 41.42249680879599], [2.134383634762333, 41.422490287502036], [2.134383683127755, 41.42249025003468], [2.134431583322197, 41.4224530295638], [2.134437741638075, 41.42244824430273], [2.134492830237092, 41.422415625747945], [2.13449976938646, 41.42241151651181], [2.134545636684738, 41.42238435913048], [2.134559757394142, 41.42237599835571], [2.134598836298008, 41.42235285945084], [2.134625438484548, 41.42233710916922], [2.134634270107817, 41.422331879221794], [2.13464824243224, 41.42232360649362], [2.134695366421528, 41.42225703561421], [2.134777374039107, 41.42216358492886], [2.134706340884315, 41.42213032483688], [2.134705895403457, 41.422130528657554], [2.134687320055714, 41.422138846938154], [2.13468177589751, 41.42214181372515], [2.134650450685008, 41.42215042702436], [2.13452632083485, 41.42218455566941], [2.134439466573349, 41.42220787106135], [2.134358302395202, 41.42222443758697], [2.134273232435924, 41.42223774099092], [2.134157408030246, 41.42224920054384], [2.134078814563375, 41.422256013140064], [2.133975632473417, 41.42227067523323], [2.133934792617775, 41.42227583531875], [2.133842847966255, 41.42228775354918], [2.133696284456178, 41.42231241130728], [2.133622305068722, 41.42232320359671], [2.13355374038041, 41.42233536972027], [2.133505459576959, 41.422352939917985], [2.133484280872948, 41.42236083306068], [2.133443028942317, 41.42237897860444], [2.133420508862529, 41.422388121773395], [2.133403605100621, 41.422394996833695], [2.133381053066938, 41.42240591241949], [2.133361483220816, 41.42241610554984], [2.133338413621767, 41.42242670467006], [2.133308166689818, 41.42243978981555], [2.133276280426882, 41.42245376334737], [2.133243750406189, 41.42246665112677], [2.133211482637882, 41.42248141442145], [2.133170976207632, 41.422494782530144], [2.133138422025666, 41.42250408513422], [2.133107137830046, 41.422516874172594], [2.133071919147543, 41.422530363157236], [2.133034560360804, 41.42254460163653], [2.133008986641023, 41.42255182204247], [2.132999568232702, 41.42255365163562], [2.132963550064095, 41.422560667216125], [2.132910476899574, 41.42257053570936], [2.132850566418776, 41.42258341517399], [2.132814184640504, 41.42258717627921], [2.132812725414961, 41.42258712024273], [2.13277731989946, 41.422585862540664], [2.132773039027753, 41.422585614092476], [2.132742606980594, 41.42258381739354], [2.132699983507199, 41.42258090193068], [2.132683129262685, 41.42257945978297], [2.132665139468927, 41.42257791899743], [2.132632709863751, 41.42257605316513], [2.13260166934889, 41.42257501747435], [2.132585847880492, 41.422573303868276], [2.132563153045861, 41.42257101600385], [2.132532637110902, 41.42257012836885], [2.132527820178954, 41.42256969572065], [2.132518377527867, 41.42256884988033], [2.132485435321942, 41.42256683602222], [2.132446340936006, 41.42256401012887], [2.132411956009213, 41.42256249879465], [2.132387109121685, 41.42256096029921], [2.132361618505148, 41.422558336050194], [2.132349129502571, 41.42255709791612], [2.132316044103171, 41.42255415516274], [2.132285385095468, 41.42255232960881], [2.132249950908964, 41.42255053108153], [2.132218254600627, 41.42254841845492], [2.132193823048064, 41.42254714426651], [2.132184579026421, 41.422546660194875], [2.132159088424381, 41.42254403590111], [2.132133192400965, 41.42254220119852], [2.132125505009416, 41.4225416477978], [2.132094098047105, 41.422539375185735], [2.132076518114188, 41.422537612214036], [2.132047289764402, 41.422535292972825], [2.132023307402567, 41.42253443647953], [2.131970407206674, 41.42253130810052], [2.131903086262968, 41.422527323266245], [2.131902330441957, 41.4225328571418], [2.13188443475818, 41.422534136274635], [2.13182937020046, 41.422538071350694], [2.131798669555466, 41.42254027168081], [2.131743921017038, 41.42254383979553], [2.131697738826449, 41.42254576112391], [2.131694252949317, 41.42254602305267], [2.13162666830739, 41.42255105251879], [2.131493070170517, 41.42258060629606], [2.131417837953188, 41.42259645889927], [2.131364878876845, 41.42260762461212], [2.131243274579332, 41.422633350416845], [2.131113071281552, 41.42266127742195], [2.131064251173197, 41.42267174825556], [2.13100048901048, 41.42267549113727], [2.13099779246334, 41.42267668677389], [2.130988659163218, 41.42267777073784], [2.13092145338944, 41.422685784115046], [2.130836851970562, 41.422696161093604], [2.130811524897959, 41.4226992214342], [2.130808370688638, 41.42269973805031], [2.130802086201437, 41.42270077146311], [2.130750502902543, 41.42270926306835], [2.130722295179535, 41.42271924636361], [2.130611256326166, 41.42274324984097], [2.13058355660952, 41.422749237635756], [2.130580256163427, 41.42274995130424], [2.130577781261531, 41.422747986993016], [2.130559308404512, 41.42273331838116], [2.130484635696911, 41.422726935221064], [2.130420175202757, 41.422722917093324], [2.130409504529128, 41.422721728522404], [2.130398859950445, 41.42272037801372], [2.130388241466775, 41.42271886556731], [2.130377649198372, 41.422717182176655], [2.130367106956737, 41.42271533702917], [2.13035660265597, 41.42271333904097], [2.130348618811644, 41.422711684372366], [2.130095732339839, 41.42262739039736], [2.130088001116485, 41.42262563853898], [2.130080332126575, 41.42262370700174], [2.130072725129761, 41.42262161379876], [2.130065192212055, 41.422619350014], [2.130057745098874, 41.42261693375104], [2.130050384030682, 41.42261434699678], [2.130043132698638, 41.42261160794531], [2.130030499517247, 41.422605036062265], [2.130017793221422, 41.4225985627068], [2.130005025656681, 41.42259219697596], [2.129992184857211, 41.422585938779186], [2.129979294874726, 41.422579779290956], [2.129966331537203, 41.4225737363433], [2.129953330862107, 41.42256780120113], [2.129950154638149, 41.42256638102668], [2.13004349824347, 41.422452422142676], [2.130044398614689, 41.422451312027945], [2.130066339274471, 41.42242940068998], [2.130086484709175, 41.422409295277085], [2.130199022961385, 41.42228007866938], [2.130238155877611, 41.4222351571515], [2.130406966986906, 41.42204097169731], [2.130476728872743, 41.42196061212085], [2.130678477714444, 41.42180901019091], [2.130685126076568, 41.4218040162579], [2.130730547754138, 41.42175409791684], [2.130910903140702, 41.42155549520387], [2.131239800076404, 41.42135397504902], [2.131251977566628, 41.42134651336039], [2.131264736154634, 41.421332443691796], [2.131252098344358, 41.42131715990432], [2.131238089615406, 41.42129232417471], [2.131232258782189, 41.42127486424532], [2.131229835620078, 41.42126174821853], [2.131235690318146, 41.42122220019726], [2.131246271925432, 41.42117708073418], [2.131251752826478, 41.42115884330991], [2.131253448305046, 41.42115320213843], [2.131260321669783, 41.421130330088076], [2.131281751021151, 41.42108296861246], [2.131300939677288, 41.42105288451187], [2.131320729725825, 41.4210279572086], [2.131342589030002, 41.42100400031507], [2.131430785779691, 41.42092300469078], [2.131484826265527, 41.42087098932349], [2.131571820932854, 41.42078139140857], [2.131621463801426, 41.42072530744337], [2.131665248676741, 41.420672385893475], [2.131747470492215, 41.42056374610228], [2.131844213089444, 41.420430427328185], [2.131898336908248, 41.420361316252446], [2.132005734538405, 41.42023477927665], [2.132073114328224, 41.42016047174703], [2.132150263279653, 41.4200822205478], [2.132171539143064, 41.42005350315734], [2.13218198525015, 41.42003494644311], [2.132191271879488, 41.42001845089365], [2.132203264791047, 41.41998950134058], [2.132208309469448, 41.419968317842226], [2.132202898749799, 41.419934300931416], [2.132189134060675, 41.41990218462975], [2.132166887606835, 41.41987258047688], [2.132138750850765, 41.419844985584604], [2.132104950897688, 41.41981941967677], [2.132068213538111, 41.419800569170924], [2.132002417845448, 41.41977391514837], [2.13194141161983, 41.41975190093325], [2.13192415039399, 41.41974567174815], [2.131879621656602, 41.419732310981736], [2.131731366551791, 41.41968391388825], [2.13165648430068, 41.419659468174004], [2.131608276518715, 41.41964202618196], [2.131545772780821, 41.41961620741672], [2.131500320080979, 41.419594967018014], [2.131435059577555, 41.41955871476996], [2.13127652755981, 41.41946620658603], [2.131244551909202, 41.41944754760136], [2.131202236226858, 41.41942618665398], [2.131166520078489, 41.419410658313225], [2.131130151666042, 41.419399178387664], [2.131091832260292, 41.419392223470155], [2.131052540597819, 41.419389981100124], [2.131006021959257, 41.41939307058392], [2.130976006062435, 41.419398770761404], [2.130947243376472, 41.419407407818724], [2.130926813737336, 41.41941571148947], [2.130901458380553, 41.41942906715554], [2.130878655552801, 41.419444838080516], [2.130863147487539, 41.41945916887347], [2.13082157671306, 41.41950490089729], [2.130798251332046, 41.41953742171393], [2.130780024265947, 41.41957079171556], [2.13075096158551, 41.41963781274256], [2.130729882456366, 41.41969544166633], [2.130717057127686, 41.41973050443714], [2.130687596053178, 41.41979149645248], [2.130669863041106, 41.419821010476234], [2.130648777843346, 41.41985243576793], [2.13061393508149, 41.41989164311499], [2.130583331147839, 41.41991629041734], [2.130555864159191, 41.41993362935502], [2.130514350679058, 41.419954393048464], [2.13050361301015, 41.419959157903875], [2.130470600531225, 41.41997238354278], [2.130425648201338, 41.41998719881558], [2.130416684282787, 41.41998996570631], [2.130359800660543, 41.42000752181121], [2.130295247377936, 41.4200293155611], [2.130246181459551, 41.420045881339846], [2.130188783384694, 41.42006252551974], [2.130138337151978, 41.42007473652409], [2.130104431584263, 41.4200777588733], [2.130070350773029, 41.42007597891748], [2.13005031602062, 41.42007260275643], [2.130019195358173, 41.42006421568714], [2.129996903774891, 41.420055994458465], [2.129975793988658, 41.420046196851686], [2.129956020106747, 41.420034932122284], [2.129932053002343, 41.42001776282115], [2.129908393728394, 41.419991876633084], [2.12988355787727, 41.41995731637612], [2.129864324321416, 41.41992081684689], [2.12985314517581, 41.419890521313015], [2.129847089399905, 41.419864759245165], [2.129840485528968, 41.41983666910963], [2.129827922988694, 41.419798850897486], [2.129815897059023, 41.41977103501055], [2.129808096336248, 41.419755601193756], [2.12979916938821, 41.4197379403232], [2.129783183220923, 41.41970631225016], [2.12976427641479, 41.41967761562514], [2.129735744405551, 41.41964385606178], [2.129707025797666, 41.41961690471101], [2.129668495254544, 41.419586330191464], [2.12962695414345, 41.419558074819726], [2.129588616490791, 41.419535464317455], [2.129557488696613, 41.41952225808403], [2.12952388886035, 41.41951315854977], [2.129488710758509, 41.41950844269884], [2.129436159598248, 41.41950804505636], [2.12937264294347, 41.41951244644583], [2.129317232181881, 41.419520352693844], [2.129252319309551, 41.4195331537052], [2.12920671736976, 41.4195446443413], [2.129154285698682, 41.419562172297546], [2.129070612015777, 41.419596541849266], [2.129025119507331, 41.41963745156884], [2.12895159612633, 41.41978443693773], [2.128913891960198, 41.41986665969172], [2.128881833261372, 41.41989893384133], [2.128854931358789, 41.41991872667654], [2.128823152032218, 41.419930988375114], [2.128789831170554, 41.41993324012398], [2.128758235763824, 41.41993173981659], [2.128723347237984, 41.419927728505435], [2.128688609202105, 41.419912459013304], [2.128640909317806, 41.419869600607576], [2.128479477542004, 41.419744597469155], [2.128405112489231, 41.41970652709113], [2.128345302767859, 41.4196985797621], [2.128225064972511, 41.419728924564794], [2.128133354388998, 41.419743217982145], [2.128061978797419, 41.419727688658355], [2.127887066357157, 41.41961758892763], [2.127850914890827, 41.41959708414798], [2.127581717794187, 41.419497420383536], [2.127452747802747, 41.419375455169366], [2.127462192549282, 41.419249783717454], [2.127565989910984, 41.41919408517361], [2.127723553176182, 41.41911351749056], [2.127920541927514, 41.41900983988871], [2.128024303787261, 41.41894797055537], [2.12813312568859, 41.41881732255922], [2.128166801428953, 41.41876344298662], [2.128179935330922, 41.418704768904895], [2.128168187387335, 41.41865981377194], [2.128088995235955, 41.41857567853652], [2.127960618479233, 41.418475713662914], [2.127907897049538, 41.418416549428734], [2.127900617010312, 41.418345335387166], [2.127909614506856, 41.41828817025118], [2.127943121397921, 41.41824511641456], [2.128015981346612, 41.4181853367616], [2.128144523275956, 41.41811902529128], [2.128372774119335, 41.41798773275641], [2.12861602609718, 41.417810146995286], [2.128859212156908, 41.417562175984564], [2.128924055560739, 41.41748610361649], [2.128936045806373, 41.41743593281668], [2.128928496901918, 41.41742165920007], [2.128899052324902, 41.4174340899299], [2.128792974505509, 41.41747887251569], [2.128786166072684, 41.4174690947119], [2.128783840970706, 41.417465789384906], [2.128695701264716, 41.417505024915954], [2.128668210114973, 41.417517048831584], [2.128557820476451, 41.417567393071366], [2.12840733997526, 41.41763507007797], [2.128279373167074, 41.417692468830936], [2.12816693477401, 41.417742959303496], [2.128044988536411, 41.417797521032945], [2.127920278122472, 41.417852962424526], [2.127789670955059, 41.417910881061474], [2.127640878425546, 41.41797748896078], [2.127456215536272, 41.41805985788722], [2.12730104474088, 41.41812911920487], [2.127169472046345, 41.41818757025548], [2.126938589900099, 41.41828994452343], [2.126791841759084, 41.418355666085525], [2.12644406138813, 41.418510656294934], [2.126257117314709, 41.4185933662592], [2.126169966583118, 41.418631796681076], [2.125862408579831, 41.418767817376086], [2.125657329013928, 41.418857954820034], [2.125599404539259, 41.41888341370695], [2.125425581461437, 41.4189593682654], [2.125385524950457, 41.41897688589278], [2.125374655594095, 41.41898163936045], [2.125316177702537, 41.419007213695544], [2.12524224175023, 41.41903813258402], [2.125190470071402, 41.41905725807011], [2.125152255909025, 41.419073731249526], [2.125121309042654, 41.41908546681724], [2.125089107644051, 41.41909616598708], [2.124928061650412, 41.41915442724449], [2.124842495873459, 41.41917986285472], [2.124755725562089, 41.41920409935345], [2.124728852779078, 41.41921095765087], [2.124715436907341, 41.41921660143441], [2.124509225924081, 41.419303352218606], [2.124456756582454, 41.419325387774414], [2.124391171049438, 41.41935293241916], [2.124287399484483, 41.41939651417022], [2.12409545634294, 41.419478615976956], [2.124034851914188, 41.41950421670189], [2.123875775578948, 41.41957141515248], [2.12364547888804, 41.41966954561581], [2.123375448231657, 41.41978546161561], [2.123346688351762, 41.419797806957895], [2.123333928232339, 41.41980325561069], [2.123028973868347, 41.41993346340158], [2.123007047996347, 41.41994260095699], [2.122873458374458, 41.41999831233614], [2.12253018396664, 41.420145337179456], [2.122266273824207, 41.420257432143714], [2.122176483135044, 41.42029606546459], [2.122145671911278, 41.42030919741586], [2.122056620063589, 41.420347160721775], [2.121952223467454, 41.42039249113316], [2.121822444887539, 41.42044773496005], [2.121698782206216, 41.4205009365037], [2.121608119460512, 41.420539941032956], [2.12155843930693, 41.42056131378901], [2.121557845266694, 41.42056028510671], [2.121551708374599, 41.42054966080555], [2.121547560560212, 41.42054248262768], [2.121547559400091, 41.4205424799166], [2.12153030541283, 41.42054997927798], [2.12152303259335, 41.42055314030284], [2.121445319770432, 41.42058691838425], [2.121357436833522, 41.420623330883], [2.121287130956578, 41.42065188796346], [2.121290056915225, 41.42065587358721], [2.121264905988506, 41.420666310270185], [2.121221454952515, 41.42068505704844], [2.121215663402334, 41.42068752048243], [2.121207363608215, 41.42069105195532], [2.121172179957925, 41.42070609495221], [2.121162873719863, 41.420710073609705], [2.121162905844282, 41.42071008736629], [2.12147167227677, 41.42084291754033], [2.121505383556871, 41.4208685759576], [2.121533280067756, 41.42092079795581], [2.121537408508863, 41.42098384556014], [2.121512106855571, 41.42112443871388], [2.121470130602856, 41.421234315247894], [2.121401503952858, 41.42134865409659], [2.121307576069501, 41.42145968308501], [2.120982377802646, 41.42176238003232], [2.120882965319051, 41.421877140876205], [2.120771772753255, 41.42205254878829], [2.120426506601408, 41.42272191881092], [2.120438309830137, 41.422802337412], [2.12053731915874, 41.42305818505752], [2.120545089976053, 41.42311374831112], [2.120449974836241, 41.423746982830295], [2.120467905246883, 41.42394004125263], [2.120515259560628, 41.42410765340507], [2.121311215557653, 41.425386576624554], [2.121343863115972, 41.42546733445188], [2.121358930540573, 41.4255507503092], [2.12134715143, 41.42562021577661], [2.121321675949231, 41.42567588532914], [2.121253871978154, 41.425755461569466], [2.121214952186918, 41.42578262795555], [2.121269126440225, 41.425833966206945], [2.121939929413132, 41.42646965267105], [2.122102652406065, 41.42661076288775], [2.122303360870577, 41.427002964812154], [2.122334256673675, 41.427391934392666], [2.122428666978505, 41.42780522573152], [2.12278711461413, 41.42839060983524], [2.123681801397818, 41.42909061975242], [2.123854924564017, 41.42930353735814], [2.123989990121163, 41.429437199453986], [2.126493775503339, 41.43149705409095], [2.12662820084543, 41.431595729648436], [2.126446909045868, 41.43171406101101], [2.12650566266889, 41.43180962558766], [2.126721317894821, 41.4320745679942], [2.127266024685569, 41.43263172256309], [2.127345025995511, 41.43284459181232], [2.12752332044416, 41.43313094276122], [2.127695106431893, 41.43326621744113], [2.128154400087677, 41.43347649527269], [2.128267874034184, 41.433510064760306], [2.128096006230491, 41.43375980918093], [2.128488407609636, 41.43438603521516], [2.128764080808031, 41.43497444995858], [2.128796290879201, 41.43508806404451], [2.12873992690388, 41.43544889705929], [2.128717999539971, 41.43551715048263], [2.12872263397653, 41.435599228804485], [2.128787429852836, 41.43575427431668], [2.128828627021403, 41.435969119714976], [2.128799800462228, 41.43620778728744], [2.128771099537792, 41.436288736719874], [2.128601056822788, 41.43659803825302], [2.128590053242799, 41.43663374049117], [2.128613692745046, 41.436789921805044], [2.128651647635143, 41.43691561513018], [2.129201308627502, 41.437603066652485], [2.129236357773698, 41.43766490218278], [2.129289644582412, 41.43782100238915], [2.129303535918261, 41.43800232062068], [2.129391014284349, 41.438337779494496], [2.129477088086253, 41.43872681459611], [2.129472246873416, 41.438827534954754], [2.129428933191345, 41.439039925488665], [2.129405958121196, 41.43928872207801], [2.12936489055217, 41.439383172921275], [2.129368704617127, 41.43945667079512], [2.129397874661973, 41.439581507386826], [2.129396915755259, 41.439618593578395], [2.129317104139608, 41.439846219492075], [2.129308308960559, 41.439896511594505], [2.129326347000522, 41.44002527404132], [2.129388197481574, 41.440174438394095], [2.129446527192691, 41.4402336343049], [2.129845689918251, 41.4405418598235], [2.129901200471173, 41.440597179903556], [2.129928013805527, 41.44066977531459], [2.129957658781421, 41.44095185059514], [2.129955650092286, 41.44108619092251], [2.12992483296868, 41.44116823158021], [2.129641581107318, 41.441539925438356], [2.129504150449861, 41.441747295532494], [2.12950008371924, 41.44191266521339], [2.129601348840702, 41.44204825263759], [2.129649498787358, 41.44209898640513], [2.129804137766142, 41.442348094363176], [2.129944768959387, 41.442473603617174], [2.129968032996776, 41.44265639497346], [2.129943290712561, 41.443029459736756], [2.130106696131269, 41.44318208580396], [2.130264397166838, 41.443314980105875], [2.130555286782959, 41.443558656949456], [2.130623404796852, 41.44363064018062], [2.130640352711406, 41.44370707995971], [2.130682078811388, 41.44378641641504], [2.130719599851754, 41.44382923295313], [2.130785428979898, 41.443859634987994], [2.130851398414849, 41.443880065939446], [2.130948650191756, 41.443890271975626], [2.131089363063784, 41.44391675293949], [2.131218051850086, 41.44395261421626], [2.131356469110042, 41.44400349661024], [2.131465453467353, 41.44402674706434], [2.131617288825169, 41.444065274102414], [2.131822075181467, 41.44410668932386], [2.132023582954902, 41.444145589794445], [2.13211263286047, 41.44417367032149], [2.132211484875145, 41.44421179682954], [2.132293710448775, 41.444254782543176], [2.132375636216064, 41.44432019168983], [2.132460871755649, 41.444385628440685], [2.132539423031261, 41.444455995822], [2.132634628248762, 41.444519014370925], [2.132700464978289, 41.44454941446616], [2.132739940545432, 41.44456964458328], [2.132782524247561, 41.444604855825666], [2.132818491063454, 41.4446400180724], [2.132847428586389, 41.44470502562058], [2.132852860215568, 41.44472657626307], [2.132863160655999, 41.44476744397027], [2.132882133655263, 41.44483487234898], [2.132907203627565, 41.44494221798558], [2.132902529009205, 41.44504435381166], [2.132888323368364, 41.445116518594126], [2.132877359893131, 41.44519368710961], [2.132883191404812, 41.44525354027278], [2.132898816910007, 41.44532343486022], [2.132894810576177, 41.44537573321192], [2.13290735985527, 41.44542815995757], [2.132932146161396, 41.44546322798144], [2.133012342042835, 41.44550371273343], [2.133098044129597, 41.445534263217624], [2.133203556141666, 41.44556994760979], [2.133397915791992, 41.44564866311314], [2.133493223049677, 41.44570420466181], [2.133611219199639, 41.44579729686624], [2.133732061419474, 41.44592529607913], [2.133803924156967, 41.44600059871908], [2.13383985798178, 41.446038250040495], [2.133882180551323, 41.44609339230133], [2.133947053722539, 41.44619605177117], [2.134015241578714, 41.44629873975917], [2.134073595061854, 41.44639387392467], [2.134154997588753, 41.44649915274983], [2.134252760060926, 41.44661950153621], [2.134333963221396, 41.446739731029815], [2.134441432189558, 41.44687760094716], [2.134490082089876, 41.44695521903451], [2.134584333800964, 41.447090493415246], [2.134612226938682, 41.44725241235155], [2.134633028646677, 41.4474109695095], [2.134682860852544, 41.44748029157391], [2.134715329044155, 41.447525780012434], [2.134731291369128, 41.44756105058703], [2.134773208825965, 41.447582839536146], [2.134822752220165, 41.4475931833661], [2.134912172126223, 41.44759385586447], [2.135015034658745, 41.447579676177284], [2.135174497616605, 41.447543493489306], [2.135195812048363, 41.44753878612629], [2.135233207986696, 41.44753253778639], [2.135356483354426, 41.44750300769467], [2.135429962837078, 41.447490889253594], [2.135737816550403, 41.447432494475734], [2.135953655652857, 41.44749525007421], [2.136148804070074, 41.447551556416336], [2.136343955163942, 41.44760786695132], [2.13649792629362, 41.4476775728162], [2.136629169425401, 41.44774368508016], [2.136812103888322, 41.44769021542125], [2.136944708895414, 41.447653504472264], [2.137022045336172, 41.447636249103525], [2.137106431080618, 41.44761742162473], [2.137196718504188, 41.44765942394216], [2.137236388635505, 41.44767533582023], [2.13731144954488, 41.44772248957705], [2.137402081503557, 41.447765796788104], [2.137442117083452, 41.44779534134528], [2.137492595225873, 41.44783259255954], [2.137586691192886, 41.447894134072484], [2.137642619150262, 41.447918354527815], [2.137717542552205, 41.44794971700223], [2.137812702925739, 41.44795666340267], [2.137923504158969, 41.447944265534574], [2.138007998759099, 41.447934318614834], [2.138145469352799, 41.44790625472494], [2.138297349088918, 41.44785184745361], [2.138498332834765, 41.447805742362746], [2.138667645903756, 41.44776204436041], [2.138721282671489, 41.44775214869163], [2.13882303699068, 41.447737265531494], [2.138939683960199, 41.44772310446009], [2.139039086928915, 41.44770931051851], [2.139180127224304, 41.4476936924217], [2.139288283059229, 41.44768248493715], [2.139392496804497, 41.44766700536925], [2.139469206668416, 41.44765626052629], [2.139580004834664, 41.44764258288566], [2.139680843669433, 41.44763063663995], [2.13969451134027, 41.44762911752372], [2.139754574644877, 41.44762263099932], [2.139828347979694, 41.4476204804439], [2.139837089938172, 41.44762027558971], [2.139843556331605, 41.44762014379363], [2.139844010069128, 41.44762014268271], [2.139845207394297, 41.447620130017825], [2.139846403665183, 41.44762010653615], [2.139847600090719, 41.447620071345966], [2.13984879546197, 41.44762002533901], [2.139849989790834, 41.447619967614614], [2.13985118426245, 41.44761989908238], [2.139852376494638, 41.44761981882377], [2.139853567684426, 41.4476197268477], [2.139854756622888, 41.447619624045906], [2.139855943310024, 41.447619510418384], [2.139857128954758, 41.447619385073416], [2.139858312348165, 41.44761924890271], [2.13985949350214, 41.447619101005614], [2.139860672404778, 41.44761894228278], [2.139861847870944, 41.44761877182463], [2.139863019876838, 41.447618591432416], [2.139864189643298, 41.44761839931381], [2.139865355973275, 41.44761819545988], [2.139866518842989, 41.44761798167191], [2.13986767707918, 41.447617756139664], [2.139868833064028, 41.447617519781666], [2.139869984391573, 41.44761727348068], [2.139871131085606, 41.44761701543542], [2.139872273134209, 41.447616746546515], [2.13987341173444, 41.447616466822936], [2.139874544492212, 41.447616176246754], [2.139875672592668, 41.44761587572758], [2.139876796059608, 41.44761556346415], [2.139877913672183, 41.447615241248755], [2.139879026639345, 41.447614908189756], [2.139880132555114, 41.44761456516983], [2.139881233825459, 41.44761421130629], [2.139882328044409, 41.447613847481875], [2.139883417617935, 41.447613472813806], [2.139884500140077, 41.447613088184866], [2.139885575622706, 41.44761269269437], [2.13988664405394, 41.44761228724302], [2.139887706618918, 41.44761187274039], [2.139888762144395, 41.44761144737622], [2.139889810618463, 41.44761101205115], [2.139890850844107, 41.44761056675625], [2.139921408600918, 41.447594680977986], [2.139936623956133, 41.447586561966375], [2.139950456170662, 41.44757892801921], [2.139978003265048, 41.447563479094406], [2.139983683114795, 41.4475600843309], [2.139987057846892, 41.44755818467772], [2.139989281797994, 41.44755703394409], [2.139990929742287, 41.44755625901681], [2.139992289096548, 41.44755567108755], [2.139993505939449, 41.44755517757138], [2.139994651526678, 41.44755473126174], [2.139995760857799, 41.447554310802545], [2.13999794687882, 41.44755349396007], [2.139999022359798, 41.44755309846852], [2.140000099002108, 41.447552705687855], [2.140001176841442, 41.44755231291611], [2.140002254668879, 41.447551921045026], [2.140003333669541, 41.44755153098421], [2.140004413855343, 41.44755114183294], [2.140005494029239, 41.44755075358233], [2.140006574191228, 41.447550366232356], [2.140007655538346, 41.44754997979199], [2.140008738058701, 41.44754959516185], [2.140009820579042, 41.44754921053171], [2.14001090427262, 41.447548827711806], [2.140011989151338, 41.447548445801495], [2.140013074006245, 41.44754806569249], [2.140014158861151, 41.44754768558346], [2.140015244889292, 41.44754730728467], [2.140016332102553, 41.44754692989547], [2.140017419303918, 41.44754655340692], [2.140018507690413, 41.44754617782796], [2.140019596065002, 41.44754580314964], [2.140020685612838, 41.447545430281565], [2.140021776357688, 41.44754505742241], [2.140022867078748, 41.44754468636459], [2.140023957775998, 41.44754431710803], [2.140025050867319, 41.447543947869356], [2.140026142749686, 41.447543579522375], [2.140027235805302, 41.44754321298564], [2.140028330046048, 41.44754284735849], [2.140029425471924, 41.44754248264097], [2.140030519688858, 41.4475421188151], [2.140031616276077, 41.447541756808434], [2.140032712851378, 41.4475413957024], [2.140033809414774, 41.44754103549702], [2.140034907163312, 41.447540676201235], [2.14003600609698, 41.44754031781502], [2.140037105018732, 41.44753996032945], [2.140038205113732, 41.447539604654146], [2.140039305196826, 41.44753924987947], [2.140040405268015, 41.44753889600542], [2.140041507721371, 41.44753854304993], [2.140042608953893, 41.447538191886764], [2.140043712568592, 41.44753784164216], [2.14004481497434, 41.447537492289236], [2.140045919762264, 41.44753714385486], [2.140047024538274, 41.44753679632112], [2.140048129290495, 41.447536450588665], [2.140049235239742, 41.44753610486515], [2.14005034116519, 41.447535760942934], [2.140051448275769, 41.44753541793031], [2.14005255536255, 41.447535076718964], [2.140053663646356, 41.44753473551657], [2.140054773103399, 41.44753439612442], [2.140055882548538, 41.4475340576329], [2.140056991981783, 41.447533720042024], [2.140058102588255, 41.4475333842614], [2.140059213194728, 41.44753304848075], [2.140060324974438, 41.44753271451035], [2.14006143793928, 41.447532381449534], [2.140062550880313, 41.447532050190006], [2.140063663821346, 41.447531718930485], [2.140064777935618, 41.447531389481206], [2.140065892037996, 41.447531060932555], [2.140067007325496, 41.4475307332935], [2.140068123798127, 41.447530406564034], [2.140069240246972, 41.447530081635854], [2.140070356683902, 41.447529757608315], [2.140071474305974, 41.44752943449038], [2.140072591916132, 41.44752911227307], [2.140073710699539, 41.44752879186601], [2.140074829482936, 41.44752847145894], [2.140075949439572, 41.44752815286211], [2.140077069384304, 41.44752783516592], [2.140078190502275, 41.44752751927997], [2.140079311620236, 41.447527203394], [2.140080433911447, 41.44752688931828], [2.140081556190744, 41.44752657614322], [2.140082678446243, 41.44752626476942], [2.140083803095815, 41.447525953413525], [2.140084926524555, 41.44752564384997], [2.140086051138417, 41.44752533519599], [2.140087175740385, 41.44752502744269], [2.140088301527487, 41.44752472059894], [2.140089428487829, 41.447524415565454], [2.140090555436267, 41.447524111432585], [2.140091682372802, 41.447523808200394], [2.140092810494481, 41.447523505877754], [2.140093938592353, 41.447523205356426], [2.140095066678322, 41.447522905735724], [2.140096195949435, 41.44752260702463], [2.14009732640567, 41.447522309223125], [2.140098456838121, 41.4475220132229], [2.14009958727056, 41.44752171722267], [2.14010071887623, 41.44752142303267], [2.140101851655151, 41.44752113065293], [2.140102983237027, 41.447520838264204], [2.140104115992143, 41.447520547685755], [2.140105249932392, 41.447520258016866], [2.14010638386075, 41.44751996924863], [2.14010751897423, 41.44751968138998], [2.140108654063914, 41.44751939533262], [2.140109789141708, 41.447519110175904], [2.140110925404624, 41.44751882592879], [2.140112061643757, 41.44751854348294], [2.140113197882868, 41.44751826103711], [2.140114335295232, 41.44751798040151], [2.14011547389273, 41.447517700675476], [2.140116612466433, 41.44751742275076], [2.140117751040127, 41.447517144826016], [2.140118890787062, 41.447516868711524], [2.140120030522094, 41.447516593497674], [2.140121171442261, 41.4475163191934], [2.140122311141598, 41.447516046681486], [2.140123453223116, 41.44751577508809], [2.140124595292721, 41.447515504395355], [2.140125737350436, 41.447515234603244], [2.140126879384345, 41.44751496661243], [2.1401280226034, 41.44751469953122], [2.140129167007589, 41.44751443335957], [2.14013031020283, 41.44751416807963], [2.14013145576836, 41.44751390461889], [2.140132600124952, 41.447513642049806], [2.140133745666679, 41.44751338039035], [2.140134892393541, 41.44751311964046], [2.140136037899573, 41.447512860682934], [2.140137184590751, 41.44751260263498], [2.140138332467053, 41.44751234549661], [2.140139480331454, 41.447512089258886], [2.140140628172072, 41.44751183482245], [2.140141777197814, 41.44751158129563], [2.140142926211667, 41.44751132866941], [2.140144075213608, 41.447511076943854], [2.140145225388803, 41.44751082702853], [2.140146375552097, 41.44751057801386], [2.140147526900526, 41.447510329908766], [2.140148678237054, 41.447510082704305], [2.14014982954979, 41.44750983730113], [2.140150982047661, 41.44750959280758], [2.140152134533631, 41.44750934921465], [2.140153288192845, 41.447509107431955], [2.140154440655015, 41.4475088656403], [2.140155594290439, 41.447508625658884], [2.140156749099096, 41.447508387487716], [2.140157903907745, 41.44750814931653], [2.140159058692613, 41.44750791294665], [2.140160214662616, 41.44750767748635], [2.140161370620708, 41.447507442926685], [2.140162526555019, 41.44750721016832], [2.140163683674466, 41.44750697831953], [2.140164840782013, 41.447506747371385], [2.140165997877649, 41.447506517323895], [2.140167156146541, 41.447506289086625], [2.140168314403533, 41.44750606175], [2.140169472648626, 41.44750583531402], [2.140170632078865, 41.447505609787626], [2.140171791485302, 41.44750538606253], [2.140172950879839, 41.44750516323807], [2.140174111459513, 41.44750494132319], [2.140175272015407, 41.44750472120962], [2.140176433756426, 41.44750450200562], [2.140177594288522, 41.44750428369332], [2.140178756005742, 41.44750406629061], [2.140179918896219, 41.447503850698126], [2.14018108057776, 41.44750363599736], [2.140182244641474, 41.44750342221511], [2.140183407496243, 41.447503209324566], [2.140184571524267, 41.44750299824423], [2.140185735540393, 41.44750278806456], [2.14018689954462, 41.44750257878553], [2.140188064722092, 41.44750237131674], [2.140189229899558, 41.44750216384792], [2.140190395041341, 41.447501959081066], [2.140191560183128, 41.44750175431419], [2.14019272649815, 41.44750155135757], [2.1401938940102, 41.447501348409865], [2.140195060289545, 41.44750114815516], [2.140196227765907, 41.447500947909404], [2.140197395218491, 41.447500749464915], [2.140198562659164, 41.44750055192109], [2.140199731284987, 41.44750035528684], [2.140200899887009, 41.44750016045389], [2.14020206967418, 41.44749996653052], [2.140203238252417, 41.44749977349885], [2.140204408015792, 41.447499581376746], [2.140205577755366, 41.44749939105596], [2.1402067486801, 41.44749920164475], [2.140207919592925, 41.44749901313419], [2.140209090493852, 41.44749882552425], [2.140210261370991, 41.447498639715626], [2.140211433433268, 41.44749845481656], [2.140212605471755, 41.44749827171882], [2.140213777510237, 41.44749808862103], [2.140214949524929, 41.44749790732457], [2.14021612271288, 41.44749772783833], [2.140217295900814, 41.447497548352075], [2.14021846906497, 41.44749737066712], [2.140219643414253, 41.44749719389175], [2.140220817751651, 41.44749701801702], [2.140221992065249, 41.44749684394358], [2.14022316636696, 41.44749667077079], [2.14022434185381, 41.44749649850756], [2.140225517316862, 41.447496328045645], [2.140226692768028, 41.44749615848436], [2.140227868207297, 41.44749598982373], [2.140229044831704, 41.44749582207267], [2.140230221432324, 41.447495656122896], [2.140231398021047, 41.447495491073795], [2.140232575794909, 41.44749532693425], [2.140233752359839, 41.44749516368642], [2.140234930098017, 41.447495002248814], [2.140236107824299, 41.44749484171185], [2.140237286723829, 41.44749468298512], [2.140238465623364, 41.44749452425839], [2.140239643302066, 41.447494367324], [2.140240823351051, 41.44749421220878], [2.140242002202996, 41.44749405708462], [2.1402431822282, 41.44749390377069], [2.140244362241498, 41.4474937513574], [2.14024554223102, 41.4474936007454], [2.140246722220525, 41.44749345013341], [2.14024790338329, 41.44749330133163], [2.140249083325223, 41.44749315432221], [2.140250264464197, 41.447493007321725], [2.14025144677642, 41.447492862131476], [2.140252627867821, 41.44749271873356], [2.140253810156252, 41.447492575344604], [2.140254992420887, 41.447492433756906], [2.140256174673637, 41.44749229306987], [2.140257356914492, 41.44749215328347], [2.140258540328596, 41.447492015307304], [2.140259723730805, 41.44749187823181], [2.140260907121119, 41.447491742056926], [2.140262090487647, 41.44749160768331], [2.14026327384228, 41.447491474210366], [2.140264458382053, 41.44749134164701], [2.140265642909942, 41.44749120998431], [2.140266827414036, 41.44749108012285], [2.140268011906233, 41.447490951162074], [2.140269196386536, 41.44749082310192], [2.140270382040101, 41.44749069685201], [2.140271567681759, 41.447490571502726], [2.140272753311523, 41.44749044705409], [2.140273938917514, 41.44749032440675], [2.140275124511599, 41.447490202660035], [2.140276311290835, 41.447490081822934], [2.140277498058166, 41.447489961886454], [2.140278684801724, 41.44748984375128], [2.140279871533387, 41.447489726516736], [2.140281058253145, 41.44748961018282], [2.140282246146165, 41.44748949565915], [2.140283434027291, 41.44748938203613], [2.140284620699476, 41.44748926930479], [2.140285808544924, 41.4474891583837], [2.140286997575513, 41.447489048372184], [2.140288185397172, 41.44748893925239], [2.140289374403974, 41.44748883104215], [2.140290562189945, 41.44748872462426], [2.140291751161069, 41.44748861911595], [2.140292940120299, 41.4474885145083], [2.14029413025278, 41.447488411710886], [2.140295319176333, 41.44748830980515], [2.140296509285028, 41.447488208809006], [2.140297698172905, 41.44748810960521], [2.140298888245922, 41.447488011311], [2.140300078307058, 41.44748791391745], [2.14030126835629, 41.447487817424495], [2.140302459578774, 41.447487722741805], [2.140303649592329, 41.4474876289508], [2.140304840779137, 41.447487536970044], [2.140306031965952, 41.447487444989285], [2.140307223128973, 41.447487354809795], [2.140307265072837, 41.44748735152027], [2.140308442901998, 41.44748727385153], [2.140309621916291, 41.44748719709233], [2.140310800930593, 41.44748712033313], [2.140311981130026, 41.44748704448354], [2.140313161317579, 41.44748696953455], [2.140314342690274, 41.44748689549517], [2.140315524051078, 41.447486822356424], [2.14031670780595, 41.44748674923555], [2.140317890351894, 41.44748667700639], [2.140319074082981, 41.44748660568679], [2.140320259011112, 41.44748653437615], [2.140321443915451, 41.447486464866785], [2.140322630016834, 41.44748639536636], [2.140323816106314, 41.447486326766565], [2.140325003380948, 41.447486259076356], [2.14032619065558, 41.44748619138616], [2.140327379103466, 41.44748612550618], [2.14032856755135, 41.44748605962617], [2.140329755987331, 41.44748599464683], [2.140330945608478, 41.44748593057708], [2.140332135229611, 41.4474858665073], [2.140333324826964, 41.44748580423881], [2.140334515621349, 41.44748574197927], [2.14033570760089, 41.4474856806293], [2.140336898371493, 41.44748562017102], [2.140338090339129, 41.447485559721684], [2.140339282282996, 41.44748550107364], [2.140340475423896, 41.44748544243452], [2.140341668552894, 41.44748538469605], [2.140342860472976, 41.44748532784928], [2.140344054787127, 41.44748527102037], [2.140345247880451, 41.447485215983804], [2.140346442170819, 41.44748516095619], [2.140347636449297, 41.44748510682921], [2.140348830715883, 41.44748505360287], [2.140350024982468, 41.44748500037651], [2.140351219225272, 41.44748494895144], [2.14035241466511, 41.44748489753533], [2.140353610093058, 41.44748484701984], [2.140354804312068, 41.44748479739603], [2.140355999716234, 41.44748474868182], [2.14035719510852, 41.44748470086825], [2.140358390500793, 41.44748465305466], [2.140359585881176, 41.447484606141735], [2.140360782446704, 41.44748456013837], [2.140361977803305, 41.44748451502671], [2.140363173148017, 41.44748447081567], [2.140364368492727, 41.44748442660463], [2.140365563813657, 41.447484384194894], [2.140366759134587, 41.447484341785135], [2.140367954443625, 41.447484300276], [2.140369149740774, 41.447484259667526], [2.140370345037921, 41.44748421905903], [2.140371540311289, 41.44748418025185], [2.140372735584655, 41.447484141444626], [2.140373930846132, 41.44748410353806], [2.140375124898684, 41.44748406652317], [2.14037632013638, 41.44748403041789], [2.140377514165151, 41.44748399520427], [2.140378708193922, 41.44748395999068], [2.140379902198913, 41.447483926578364], [2.140381095006857, 41.44748389315708], [2.140382288999958, 41.44748386064539], [2.140383481796023, 41.447483828124746], [2.140384674568308, 41.44748379740538], [2.140385867328694, 41.44748376758666], [2.140387058892054, 41.44748373775898], [2.140388251640549, 41.44748370884089], [2.140389441983094, 41.44748368080556], [2.140390633510775, 41.4474836536798], [2.140391823829531, 41.447483627445735], [2.140393014148296, 41.447483601211665], [2.140394204443274, 41.447483576778865], [2.140395393541214, 41.44748355233714], [2.140396582627266, 41.44748352879605], [2.140397770504393, 41.44748350614664], [2.140398958369631, 41.44748348439786], [2.140400146234869, 41.44748346264908], [2.140401332879293, 41.44748344269265], [2.140402518326671, 41.44748342272726], [2.140403704959206, 41.44748340367147], [2.140404889185781, 41.447483385498415], [2.140406073400456, 41.447483368226], [2.140407257603243, 41.447483351854224], [2.140408440609005, 41.44748333547349], [2.140409623602867, 41.44748331999342], [2.140410805375916, 41.447483306305664], [2.140411987148966, 41.4474832926179], [2.140413166516056, 41.447483279812914], [2.14041434708017, 41.44748326701684], [2.140415526423483, 41.44748325601312], [2.14041670456976, 41.44748324500044], [2.140417881495215, 41.44748323578008], [2.140419058420669, 41.44748322655975], [2.140420234137199, 41.44748321823109], [2.140421409841841, 41.44748321080309], [2.140422583140524, 41.44748320425782], [2.140423756439208, 41.447483197712565], [2.140424929714114, 41.44748319296857], [2.140426100594939, 41.44748318820669], [2.140427271463877, 41.44748318434546], [2.140428441123901, 41.447483181375894], [2.140429610772026, 41.44748317930699], [2.140430778014193, 41.447483178120834], [2.14043194525635, 41.44748317693467], [2.140433111277705, 41.44748317754087], [2.140434276102026, 41.44748317813809], [2.140435439717412, 41.447483179627014], [2.140436602123875, 41.447483182007616], [2.140437764518451, 41.44748318528888], [2.140438924518957, 41.44748318855223], [2.140440084495686, 41.44748319361689], [2.14044124327537, 41.447483198672586], [2.140442400834254, 41.44748320552061], [2.140443557196092, 41.44748321235969], [2.140444712349007, 41.447483220090476], [2.140445866304888, 41.447483227812306], [2.140447019039946, 41.44748323732647], [2.140448169369058, 41.4474832477234], [2.140449319698159, 41.44748325812031], [2.140450468818337, 41.44748326940893], [2.140451616729594, 41.44748328158922], [2.140452763431927, 41.44748329466124], [2.140453908925327, 41.447483308624925], [2.140455053209815, 41.447483323480334], [2.140456195100223, 41.4474833383178], [2.140457336978744, 41.44748335405595], [2.140458476439408, 41.44748337157748], [2.140459614703049, 41.44748338909007], [2.140460751757757, 41.44748340749435], [2.140461887615429, 41.44748342588967], [2.140463022252293, 41.44748344607734], [2.140464155692121, 41.44748346625606], [2.140465286714094, 41.44748348821819], [2.140466416539032, 41.44748351017135], [2.140467545155049, 41.44748353301621], [2.140468672562143, 41.44748355675278], [2.140469797575168, 41.447483580471435], [2.140470921367372, 41.44748360598245], [2.140472043962542, 41.4474836314845], [2.140473165336902, 41.4474836587789], [2.140474284317182, 41.44748368605541], [2.140475402088552, 41.4474837142236], [2.140476517453953, 41.44748374327456], [2.140477632819356, 41.447483772325505], [2.140478745766903, 41.44748380315985], [2.140479856320391, 41.44748383397631], [2.14048096565306, 41.447483866585095], [2.140482073788694, 41.44748389918496], [2.140483179518361, 41.44748393266754], [2.140484284050994, 41.447483966141185], [2.140485386165782, 41.44748400139822], [2.140486487083537, 41.44748403664633], [2.140487586780483, 41.44748407368678], [2.140488684083349, 41.44748411070931], [2.140489778980258, 41.44748414861462], [2.140490872668246, 41.447484187411604], [2.140491965159189, 41.44748422619964], [2.140493055232288, 41.44748426677109], [2.140494142911318, 41.44748430732466], [2.14049522936954, 41.44748434967054], [2.140496313433682, 41.44748439199855], [2.140497396288902, 41.44748443521824], [2.140498476750054, 41.447484478420044], [2.140499554793351, 41.447484523405265], [2.140500442590928, 41.44748456066382], [2.140561349755147, 41.44748487160917], [2.1405798657, 41.44748427133589], [2.14061675781576, 41.44748096200237], [2.140656747079093, 41.4474770092455], [2.140676608998492, 41.447474203188825], [2.140698473328857, 41.44747025013085], [2.140741713130322, 41.44746128648395], [2.140792174799382, 41.447450278035866], [2.140817214770923, 41.44744426796301], [2.140841427387639, 41.447437450045975], [2.140888580748882, 41.44742130964536], [2.140934126078247, 41.44740364397184], [2.140956364715755, 41.44739400097714], [2.140984952859863, 41.44738037908103], [2.140998756691838, 41.44737306906195], [2.141018664711349, 41.44736131893249], [2.141059449159397, 41.44733337623364], [2.141096916819662, 41.44731002054916], [2.141119112881375, 41.447295432136855], [2.141129774539043, 41.44728763926347], [2.141138018990635, 41.447280675038435], [2.141152854939651, 41.44726590556381], [2.141164710929048, 41.447252879291504], [2.141174678266834, 41.447237821257744], [2.141184181280757, 41.44722983057336], [2.141191484380156, 41.44722525528752], [2.141206942343707, 41.44721687670316], [2.141212935278532, 41.4472145164651], [2.141226028185684, 41.4472111823862], [2.141226704238466, 41.4472111171754], [2.141227890915992, 41.44721100353361], [2.141229078790545, 41.44721088990075], [2.141230266653206, 41.447210777168536], [2.141231454503998, 41.44721066533695], [2.141232642342909, 41.447210554406], [2.141233830181815, 41.44721044347506], [2.14123501800883, 41.44721033344473], [2.141236207021006, 41.447210224324], [2.141237394824271, 41.44721011609496], [2.141238583812686, 41.4472100087755], [2.141239771604067, 41.447209901447096], [2.141240960580597, 41.447209795028265], [2.141242149545247, 41.44720968951007], [2.141243338498017, 41.447209584892526], [2.141244527450783, 41.44720948027496], [2.141245716391658, 41.447209376558035], [2.141246906517705, 41.44720927375068], [2.14124809543483, 41.44720917183504], [2.14124928435194, 41.44720906991939], [2.141250474442347, 41.44720896981395], [2.141251664532739, 41.44720886970852], [2.141252853426097, 41.447208769594134], [2.141254043492728, 41.44720867128997], [2.141255233559357, 41.447208572985794], [2.141256423614105, 41.44720847558226], [2.141257613656974, 41.44720837907938], [2.141258804884993, 41.447208283486056], [2.141259994904113, 41.44720818878445], [2.141261184923218, 41.44720809408282], [2.141262376127474, 41.44720800029077], [2.141263566122821, 41.447207907390414], [2.141264757315194, 41.447207814499], [2.141265948483822, 41.44720772340888], [2.141267139652437, 41.44720763231874], [2.141268329612141, 41.4472075421203], [2.141269520768884, 41.44720745193077], [2.14127071309889, 41.4472073635515], [2.141271904231862, 41.44720727516326], [2.141273095352967, 41.44720718767566], [2.141274286462181, 41.447207101088715], [2.141275478768422, 41.447207014510695], [2.141276669853889, 41.44720692972501], [2.141277862136372, 41.447206844948255], [2.141279054406987, 41.44720676107216], [2.141280245480557, 41.4472066771871], [2.141281437727403, 41.44720659511225], [2.141282629974257, 41.44720651303742], [2.141283822209221, 41.44720643186322], [2.141285014432317, 41.447206351589664], [2.141286206655399, 41.447206271316084], [2.141287398854738, 41.447206192843794], [2.141288592251104, 41.447206114380435], [2.141289784438549, 41.44720603680877], [2.141290977823034, 41.44720595924605], [2.141292169986722, 41.447205883475675], [2.14129336334745, 41.44720580771421], [2.141294555499257, 41.44720573284447], [2.141295748836227, 41.447205658884286], [2.141296942173195, 41.44720558492411], [2.141298135498273, 41.44720551186458], [2.141299328799607, 41.44720544060633], [2.141300522112816, 41.4472053684474], [2.141301715402258, 41.44720529808977], [2.141302908679834, 41.44720522863278], [2.141304101957407, 41.447205159175795], [2.141305295223091, 41.44720509061944], [2.141306489673938, 41.44720502297264], [2.141307682927753, 41.44720495531692], [2.14130887736672, 41.447204888570774], [2.141310070596767, 41.447204822716316], [2.141311265011978, 41.44720475777144], [2.141312459415311, 41.4472046937272], [2.141313652621611, 41.447204629674026], [2.141314847001188, 41.44720456743106], [2.141316041380763, 41.447204505188104], [2.141317235760325, 41.447204442945115], [2.141318430116144, 41.44720438250343], [2.141319617966682, 41.44720427067094], [2.141320802463629, 41.447204140798576], [2.141321983618868, 41.4472039919857], [2.141323159026452, 41.447203825115075], [2.141324331092316, 41.44720363930394], [2.141325497398647, 41.44720343633573], [2.141326656772165, 41.447203214400204], [2.141327811595065, 41.447202974415845], [2.141328958264358, 41.44720271725658], [2.141330098000835, 41.44720244112996], [2.141331229583714, 41.447202147828385], [2.141332353012982, 41.44720183735187], [2.141333468300537, 41.44720150879975], [2.141334573028534, 41.447201163955455], [2.141335669614815, 41.44720080103555], [2.141336754456382, 41.4472004209139], [2.141337829935439, 41.447200024509016], [2.141338892460884, 41.44719961179409], [2.141339945635696, 41.44719918189527], [2.141340984659854, 41.44719873567748], [2.14134201312447, 41.447198273167544], [2.141343027426567, 41.44719779523926], [2.141344028763163, 41.44719730190161], [2.141345015949125, 41.44719679224496], [2.14134598896068, 41.44719626807068], [2.141346946612684, 41.44719572846911], [2.14134764032142, 41.4471953229093], [2.141396539766652, 41.44714569677429], [2.141474830150704, 41.447079465931786], [2.141563401412449, 41.447027225502595], [2.141651831851065, 41.446985567660924], [2.141754219139589, 41.44695194580629], [2.141852882745172, 41.446934166238464], [2.142032108758736, 41.446938150389194], [2.142112845565376, 41.446946683550536], [2.142270881536971, 41.446958440324195], [2.142347932089478, 41.44698017682029], [2.142435143101527, 41.44703107844268], [2.142571668775804, 41.447141959528544], [2.142921127449987, 41.447366630645554], [2.142996784949016, 41.44742331949118], [2.143028379014365, 41.44744870355156], [2.143055090136689, 41.44745851344546], [2.143065126291272, 41.44746275864012], [2.143248014199806, 41.44752392920251], [2.143287273350727, 41.44753906490168], [2.143289919403216, 41.44753994931942], [2.143421671277865, 41.44758791311021], [2.143505958285003, 41.44761649880607], [2.143990664001361, 41.44776573940272], [2.144147912589216, 41.44777117985215], [2.144277976559804, 41.44777047928172], [2.144461132621114, 41.44779307567759], [2.14459843002995, 41.447815330782504], [2.144760173828964, 41.44785634526038], [2.144860959901495, 41.4478953219761], [2.145038393239555, 41.4479550034556], [2.145098184551418, 41.44795280414979], [2.145141634354013, 41.4479332026583], [2.145208047190417, 41.447884851694326], [2.145321360699349, 41.44782221392326], [2.145427363667319, 41.4477806846412], [2.145649504879169, 41.44772943236243], [2.145772802583847, 41.44770918781213], [2.145920815457053, 41.447681192904504], [2.146093358064329, 41.44765866994707], [2.146241232008621, 41.44764125279901], [2.146329280259034, 41.44762867795759], [2.146502064022394, 41.44758764234341], [2.146614994573581, 41.44755409348649], [2.146712504243776, 41.447506946037514], [2.146795643757583, 41.44744686627025], [2.146948310590143, 41.44733439161682], [2.147086850040259, 41.447224329583484], [2.147253504878172, 41.44711447940524], [2.14740920142304, 41.447036286281325], [2.147582606121667, 41.44694764045613], [2.147709801757624, 41.4468983296651], [2.147805053087743, 41.446872585076264], [2.147924731426209, 41.44686024782939], [2.148050617100465, 41.44684881123323], [2.148145458315199, 41.446827954349544], [2.148254593761061, 41.44680935509743], [2.148363988879053, 41.44677135209403], [2.148424516001574, 41.44675673528119], [2.148484557494285, 41.446754994541266], [2.148561731142711, 41.44677066219866], [2.148635946297817, 41.44679276982663], [2.148735669619161, 41.44683662991817], [2.148886720631322, 41.446900277067776], [2.149055100983952, 41.44695326943694], [2.1491547133749, 41.447005752041335], [2.149231435703882, 41.44705590979802], [2.149291042457411, 41.447099473608326], [2.149427625331871, 41.44717379402251], [2.149530133409589, 41.44722414223824], [2.149646367769873, 41.44723216601738], [2.149722430838553, 41.44721770389966], [2.149864382714569, 41.447191590297855], [2.150003910544406, 41.44717600178554], [2.150192546691164, 41.44719022113017], [2.150284156345863, 41.44719736877827], [2.15036138611744, 41.44720871658915], [2.150444224001275, 41.44722873396616], [2.150581061586938, 41.447283648423], [2.150661068035226, 41.44730148836184], [2.150749929493238, 41.44729998714777], [2.15086780033858, 41.447270667133324], [2.151043153694631, 41.44722884289509], [2.151149736040197, 41.44718650463586], [2.151296432047562, 41.4471444640373], [2.151483274572537, 41.447100561210426], [2.1516184231562, 41.44706490144501], [2.151716124525237, 41.44704406090815], [2.151830966259868, 41.44702765761626], [2.151911308474973, 41.44701962536698], [2.151971400281616, 41.44702653569945], [2.152028539807486, 41.4470398915608], [2.152071211649943, 41.44706392622895], [2.152210130170296, 41.4471792226747], [2.152357588966938, 41.44729889553179], [2.15252499242319, 41.447427344237184], [2.152612873360729, 41.44750129846596], [2.152757606908142, 41.447610173362065], [2.152845817742038, 41.447658255147694], [2.152954251023093, 41.44769355203001], [2.153062637903393, 41.447733162118425], [2.153181210900803, 41.44776122302382], [2.153268776128516, 41.44778893036943], [2.153297822872227, 41.447848962396996], [2.15330447991126, 41.44790147506966], [2.15331462526373, 41.447967817276066], [2.153320743897432, 41.44806174206546], [2.153340754755853, 41.44821651058485], [2.153386413825513, 41.44837423313808], [2.153405844594865, 41.44857317962322], [2.153405865218107, 41.44857407961542], [2.153405890617879, 41.44857498054349], [2.15340592321174, 41.448575880623764], [2.153405962987969, 41.4485767807569], [2.153406007552436, 41.448577680925276], [2.153406059299284, 41.44857858114651], [2.15340611824021, 41.448579480519946], [2.153406181969376, 41.44858037992863], [2.153406252892632, 41.44858127848952], [2.153406330986549, 41.4485821780039], [2.153406413880415, 41.44858307665289], [2.15340650396836, 41.448583974454074], [2.153406600041629, 41.448584872299314], [2.153406703308967, 41.448585769296756], [2.153406812561628, 41.44858666633821], [2.153406927811298, 41.44858756252311], [2.153407049046281, 41.44858845875204], [2.153407177475358, 41.44858935413316], [2.153407311889735, 41.44859024955835], [2.153407453498195, 41.44859114413573], [2.153407599906616, 41.44859203784771], [2.153407753509132, 41.448592930711875], [2.153407913096952, 41.44859382362009], [2.153408079878854, 41.44859471568051], [2.153408252657779, 41.44859560688431], [2.153408431433729, 41.448596497231534], [2.153408616194993, 41.44859738762278], [2.15340880816205, 41.4485982762656], [2.153409004917364, 41.448599164943644], [2.15340920886675, 41.4486000527739], [2.153409420021942, 41.44860093885569], [2.15340963596539, 41.44860182497273], [2.153409859102923, 41.448602710241964], [2.15341008824918, 41.448603593753944], [2.153410323380766, 41.44860447730997], [2.153410565718146, 41.448605359117536], [2.153410812855482, 41.448606240059696], [2.153411067186916, 41.448607120154065], [2.153411327515366, 41.448607999391825], [2.153411595037903, 41.44860887778178], [2.153411867372127, 41.448609754405666], [2.153412146900428, 41.448610630181754], [2.153412431228697, 41.448611505092416], [2.153412722751054, 41.448612379155286], [2.15341302147921, 41.44861325146971], [2.153413325007333, 41.44861412291871], [2.153413634544194, 41.44861499261046], [2.153413951275144, 41.4486158614544], [2.153414272817773, 41.448616728532286], [2.153414601554491, 41.448617594762354], [2.153414936299937, 41.44861845923517], [2.153415277042425, 41.448619322851364], [2.153415623793651, 41.448620184710315], [2.153415976541897, 41.44862104571264], [2.153416336495954, 41.44862190496654], [2.153416701261679, 41.44862276245435], [2.153417072024435, 41.44862361908555], [2.153417449992993, 41.44862447396829], [2.15341783277323, 41.448625327084976], [2.153418222759269, 41.448626178453196], [2.153418617545278, 41.44862702895601], [2.15341901953709, 41.44862787771037], [2.153419426340582, 41.44862872469863], [2.153419840349877, 41.44862956993848], [2.153420259170841, 41.44863041341224], [2.15342068519762, 41.44863125513754], [2.153421116036069, 41.44863209509675], [2.153421554068612, 41.4486329342082], [2.153421996924556, 41.44863377065288], [2.153422445789233, 41.44863460534032], [2.153422900662653, 41.44863543827051], [2.153423361544805, 41.448636269443405], [2.153423828435711, 41.44863709885907], [2.15342430133536, 41.44863792651744], [2.153424780243743, 41.448638752418574], [2.153425265172589, 41.44863957566178], [2.153425754913108, 41.44864039713889], [2.15342625066237, 41.44864121685876], [2.153426752420378, 41.44864203482136], [2.153427260187129, 41.4486428510267], [2.153427773974335, 41.448643664574114], [2.153428293781995, 41.4486444754636], [2.15342881838963, 41.44864528548769], [2.153429349017708, 41.44864609285385], [2.15342988566624, 41.4486468975621], [2.153430427126469, 41.448647700504246], [2.153430975792493, 41.44864850169797], [2.153431529281911, 41.44864930022495], [2.153432087583004, 41.44865009698586], [2.153432653101623, 41.44865089109766], [2.153432810674514, 41.44865111023663], [2.153505569976934, 41.44875133789759], [2.153523826465975, 41.44876887455802], [2.153544315184322, 41.448787832797166], [2.153558686409763, 41.44879849523039], [2.15368521636854, 41.44888600543018], [2.153834704490469, 41.448987654862826], [2.153908049785875, 41.44903972575164], [2.154016745685336, 41.449114097709796], [2.154138440080692, 41.449197932852954], [2.154166631012624, 41.44921750607549], [2.154250367361723, 41.44927611146276], [2.15428165477179, 41.449300625469085], [2.154290264280798, 41.44930786767157], [2.15430635961407, 41.449323145473116], [2.154320254985704, 41.449337281172866], [2.154326624334412, 41.449344633007556], [2.154327222378091, 41.44934541294215], [2.154327825233495, 41.44934619111063], [2.154328432900602, 41.449346967512994], [2.154329045391121, 41.449347741248594], [2.154329662693343, 41.449348513218084], [2.154330284818987, 41.4493492825208], [2.154330911756335, 41.449350050057426], [2.154331543517084, 41.449350814927264], [2.154332180089559, 41.449351578030985], [2.15433282028836, 41.44935233845915], [2.154333466495951, 41.44935309713], [2.154334117526953, 41.449353853134085], [2.154334773381356, 41.4493546064714], [2.154335432850401, 41.44935535803381], [2.154336098339933, 41.44935610693825], [2.154336767455791, 41.44935685316711], [2.154337441383365, 41.44935759762986], [2.154338120134352, 41.44935833942586], [2.154338803697056, 41.44935907945572], [2.154339492094857, 41.44935981591817], [2.154340185304374, 41.4493605506145], [2.15434088214023, 41.44936128263527], [2.154341583787792, 41.44936201288992], [2.154342290270463, 41.449362739577154], [2.15434300156485, 41.44936346449827], [2.154343716485565, 41.449364186743814], [2.154344436229705, 41.4493649063226], [2.154345160797236, 41.449365623234605], [2.154345890188191, 41.449366337479844], [2.154346623193778, 41.44936704995017], [2.154347361034474, 41.449367758853064], [2.154348103686877, 41.44936846598985], [2.154348849977316, 41.449369169550415], [2.154349601079472, 41.44936987134488], [2.154350357016737, 41.449370569571904], [2.154351116568636, 41.449371266024], [2.154351880955644, 41.449371958908685], [2.154352648957284, 41.44937265001846], [2.154353421794035, 41.449373337560814], [2.154354199442503, 41.449374023337036], [2.154354980728996, 41.44937470553703], [2.154355765641828, 41.449375385061465], [2.154356555378075, 41.44937606191912], [2.154357349937726, 41.44937673611003], [2.154358148135412, 41.44937740672469], [2.154358949947741, 41.44937807556445], [2.15435975659517, 41.44937874083677], [2.154360568066013, 41.44937940344233], [2.154361383163196, 41.44938006337231], [2.154362201886709, 41.44938072062673], [2.15436302544532, 41.44938137431371], [2.154363852630283, 41.44938202532513], [2.154364683441574, 41.44938267366098], [2.154365519087965, 41.44938331842939], [2.154366358348999, 41.44938396142291], [2.154367201259766, 41.44938459993953], [2.15436804898224, 41.449385236690034], [2.15436890034275, 41.4493858698643], [2.154369755329601, 41.44938650036301], [2.154370613954476, 41.44938712728549], [2.154371477402765, 41.4493877515412], [2.15437234448908, 41.44938837222068], [2.154373215201735, 41.449388990224605], [2.154374089540719, 41.44938960555292], [2.154374968714812, 41.44939021731384], [2.154375851515246, 41.449390826399174], [2.154376736756631, 41.44939143189948], [2.154377626833126, 41.449392033832375], [2.154378520535948, 41.44939263308968], [2.154379417865112, 41.44939322967141], [2.154380318832311, 41.449393822676925], [2.15438122463461, 41.44939441211502], [2.154382132866163, 41.449394998868726], [2.154383044735762, 41.44939558204621], [2.154383960243375, 41.44939616164744], [2.154384880574413, 41.449396738581925], [2.154385803334694, 41.44939731283203], [2.154386729744718, 41.44939788260526], [2.154387659781059, 41.44939844970291], [2.154388593455447, 41.44939901322433], [2.154389530756162, 41.44939957407017], [2.154390471694902, 41.44940013133979], [2.154391415074603, 41.44940068502438], [2.154392363289403, 41.449401235141536], [2.154393313945163, 41.44940178167368], [2.154394268227262, 41.449402325530244], [2.154395226147385, 41.44940286581056], [2.154396187705532, 41.44940340251466], [2.154397152890029, 41.44940393654319], [2.15439812052716, 41.44940446608604], [2.15439909179063, 41.449404992953305], [2.154400065495048, 41.44940551623555], [2.154401044034588, 41.449406035950354], [2.154402025015064, 41.44940655208014], [2.1544030084365, 41.44940706462489], [2.154403996681339, 41.449407574502864], [2.154404987378832, 41.44940807989515], [2.15440598050559, 41.44940858260304], [2.154406977282066, 41.44940908083408], [2.154407977684869, 41.449409576389534], [2.154408980528631, 41.44941006835996], [2.154409985825037, 41.4494105558447], [2.154410995944855, 41.44941104066267], [2.154412007308547, 41.44941152188681], [2.154413022321957, 41.44941199863406], [2.154414040961704, 41.44941247270573], [2.15441506204241, 41.449412943192364], [2.154416085575758, 41.449413409193326], [2.154417112735433, 41.4494138725187], [2.154418142347762, 41.449414331358405], [2.154419175586417, 41.44941478752253], [2.154420211277725, 41.44941523920096], [2.15442124940998, 41.449415687294355], [2.154422289971486, 41.449416132703384], [2.15442333418272, 41.44941657363553], [2.154424380846606, 41.44941701008199], [2.154425429939733, 41.44941744384406], [2.154426482670902, 41.44941787402991], [2.154427536657626, 41.44941829972127], [2.154428594270688, 41.44941872273705], [2.15442965433639, 41.44941914126716], [2.154430716854744, 41.449419555311565], [2.154431781802348, 41.44941996667161], [2.154432849190909, 41.4494203744466], [2.154433920229184, 41.44942077774472], [2.15443499251133, 41.44942117744902], [2.154436068431496, 41.449421573577055], [2.154437145607237, 41.449421965210625], [2.154438226409314, 41.44942235416862], [2.154439308466944, 41.449422738632116], [2.154440392977225, 41.44942311860993], [2.154441481113841, 41.44942349591217], [2.154441883971721, 41.44942363398456], [2.154547616271732, 41.449458217739206], [2.154750172628781, 41.44952869673382], [2.154966461699135, 41.449570819141464], [2.15516591731686, 41.4496251198357], [2.155269797679693, 41.44967912911858], [2.155380852175965, 41.44973384942474], [2.155467562120462, 41.449786885758904], [2.155546130520834, 41.44982077645968], [2.155720835171488, 41.44988810476104], [2.155842255067057, 41.44993475259391], [2.156019035331456, 41.44995356825226], [2.156159717860338, 41.44993698634257], [2.156307086074989, 41.449920451494485], [2.156437444747198, 41.449926438154925], [2.156579314651033, 41.449913744831214], [2.156643192609628, 41.449885542578194], [2.156702939588505, 41.44984934295118], [2.15674562513468, 41.449822579590915], [2.156807466616807, 41.449787988673705], [2.156945799481142, 41.449731660492304], [2.157081877315925, 41.44968646679413], [2.157213697857291, 41.44964283605517], [2.157322911779847, 41.44960067080389], [2.157387980314553, 41.44958995483638], [2.157445115533247, 41.449591967645915], [2.157504196392418, 41.44960673475904], [2.157563244468381, 41.44962468572157], [2.157683245103513, 41.44967653380967], [2.157798967051831, 41.449731536367985], [2.157910505891722, 41.44978332136583], [2.157967414786963, 41.44980285077291], [2.158013651877675, 41.44982867658467], [2.15809117533161, 41.449891362700065], [2.158164521815926, 41.449949239763654], [2.15822101796646, 41.45000062163325], [2.158271328325294, 41.45003921722958], [2.158315227615315, 41.45008254432616], [2.158369688705697, 41.45012753848878], [2.158424134009603, 41.45017413042454], [2.158503894620563, 41.450227276664975], [2.158586061194836, 41.45025813719965], [2.158680786083929, 41.450300246102756], [2.158775427705487, 41.45034871715351], [2.158868469366193, 41.45042522640339], [2.158926018442576, 41.45048878013101], [2.158967185458874, 41.4505173517775], [2.159109492078654, 41.45051827683208], [2.159130881779685, 41.450444270677025], [2.159181324720188, 41.45035862763318], [2.159212466036165, 41.4503196306822], [2.159374963965211, 41.4501905684212], [2.159477686369707, 41.44996131480039], [2.15948661458361, 41.44976769367271]]], &quot;type&quot;: &quot;Polygon&quot;}, &quot;properties&quot;: {&quot;AEB&quot;: &quot;-&quot;, &quot;ANNEXDESCR&quot;: &quot;Grup - I&quot;, &quot;AREA&quot;: 11919630.83, &quot;AREA_I&quot;: &quot;-&quot;, &quot;BARRI&quot;: &quot;-&quot;, &quot;CODI_UA&quot;: &quot;07&quot;, &quot;COL_DESCR&quot;: &quot;Negre&quot;, &quot;COL_FARCIT&quot;: &quot;1&quot;, &quot;CONJ_DESCR&quot;: &quot;Districtes&quot;, &quot;DISTRICTE&quot;: &quot;07&quot;, &quot;DOCUMENTA&quot;: null, &quot;ELEM_DESCR&quot;: &quot;L\\u00edmit de districte&quot;, &quot;ESTIL_ID&quot;: &quot;0&quot;, &quot;ESTIL_QGIS&quot;: &quot;S\\u00f2lid&quot;, &quot;FCOL_DESCR&quot;: &quot;Negre&quot;, &quot;FHEX_COLOR&quot;: &quot;#000000&quot;, &quot;GRANBARRI&quot;: &quot;-&quot;, &quot;GRUIXDIMEN&quot;: 70.0, &quot;GRUIX_ID&quot;: &quot;6&quot;, &quot;HEX_COLOR7&quot;: &quot;#000000&quot;, &quot;ID_ANNEX&quot;: &quot;01&quot;, &quot;ID_CONJUNT&quot;: &quot;010412&quot;, &quot;ID_ELEMENT&quot;: &quot;0104120101&quot;, &quot;ID_SUBCONJ&quot;: &quot;01041201&quot;, &quot;ID_TEMA&quot;: &quot;0104&quot;, &quot;LITERAL&quot;: &quot;07&quot;, &quot;NDESCR_CA&quot;: &quot;L\\u00edmit de districte (pol\\u00edgon)&quot;, &quot;NDESCR_EN&quot;: &quot;District boundary (polygon)&quot;, &quot;NDESCR_ES&quot;: &quot;L\\u00edmite de distrito (pol\\u00edgono)&quot;, &quot;NIVELL&quot;: &quot;ADM_02_PL&quot;, &quot;NOM&quot;: &quot;Horta-Guinard\\u00f3&quot;, &quot;ORD_REPRES&quot;: 5, &quot;PERIMETRE&quot;: 20607.189, &quot;RANGESCALA&quot;: &quot;1-150000&quot;, &quot;SCONJ_DESC&quot;: &quot;Districte&quot;, &quot;SEC_CENS&quot;: &quot;-&quot;, &quot;TEMA_DESCR&quot;: &quot;Unitats Administratives&quot;, &quot;TERME&quot;: &quot;080193&quot;, &quot;TIPUS_POL&quot;: null, &quot;TIPUS_UA&quot;: &quot;DISTRICTE&quot;, &quot;VALOR1QGIS&quot;: &quot;0&quot;, &quot;VALOR2QGIS&quot;: &quot;0&quot;, &quot;WEB1&quot;: &quot;http://www.bcn.cat/horta-guinardo&quot;, &quot;WEB2&quot;: &quot;http://www.bcn.cat/estadistica/catala/dades/guiadt07/index.htm&quot;, &quot;WEB3&quot;: &quot;http://www.bcn.cat/estadistica/catala/documents/districtes/07_Horta_Guinardo_2017.pdf&quot;, &quot;ZUA&quot;: &quot;-&quot;}, &quot;type&quot;: &quot;Feature&quot;}, {&quot;geometry&quot;: {&quot;coordinates&quot;: [[[2.18706050049082, 41.46771682009473], [2.187111028713726, 41.467106164351975], [2.187181621744602, 41.466286458995334], [2.187380188414616, 41.46447988858549], [2.187453658771064, 41.463795566183464], [2.187639952134842, 41.46213062125897], [2.187641336315786, 41.46211959156455], [2.187444501544479, 41.462081370033786], [2.187444500347162, 41.46208137002534], [2.187422318878322, 41.46208168622203], [2.18740092305373, 41.46208199175122], [2.187402210732328, 41.46206958324567], [2.187437994282174, 41.46168421118886], [2.187462200992913, 41.46142352153911], [2.187471049177433, 41.461328230787856], [2.187473176814033, 41.461305318376894], [2.187527712361233, 41.46071798411415], [2.187533464394949, 41.46065603489671], [2.18754029803361, 41.4605824485476], [2.187585591602088, 41.46009463656034], [2.187595306235647, 41.45999800799199], [2.187597772409068, 41.45997348293685], [2.187600985402581, 41.4599415023235], [2.187615041174493, 41.459832251710075], [2.187624257329045, 41.45976059084051], [2.187631748288055, 41.45970243789902], [2.187636465488073, 41.45964395010837], [2.187647975220764, 41.45958806838981], [2.18766324539166, 41.45951390117269], [2.187678183218088, 41.45944141599025], [2.187694813113377, 41.459356535954655], [2.187697391193343, 41.45934337993026], [2.187719003494162, 41.459233056728515], [2.187743512195745, 41.45914969512126], [2.187789549991199, 41.45903251859942], [2.187793509717671, 41.45902244024997], [2.187823992834675, 41.458944858523765], [2.187845498007796, 41.458890119232755], [2.187872650244289, 41.45881078455238], [2.187885039526174, 41.458774590192476], [2.187906727886227, 41.458719554937126], [2.187929071653671, 41.45866284892658], [2.187935667212095, 41.45864956452831], [2.18794277818062, 41.45862471825907], [2.187984827503089, 41.45852121375474], [2.188024814011884, 41.458414127739076], [2.188053620398987, 41.45835477410485], [2.188063980255422, 41.45833343662546], [2.188071464620975, 41.45831800572202], [2.188089194571285, 41.45829126177297], [2.188089281261071, 41.45829112727374], [2.188112542674277, 41.45825605538349], [2.188116237827023, 41.4582504779565], [2.188166467059081, 41.458170774635775], [2.1882251072443, 41.45807621438328], [2.188304035361763, 41.457953405913706], [2.188422499117378, 41.45776724800688], [2.188475646111501, 41.4576916274696], [2.188527896690882, 41.45763027732383], [2.188566993985425, 41.457582885925596], [2.188736935728346, 41.457361673670874], [2.18874100370314, 41.457357108582556], [2.188756104478691, 41.4573405874057], [2.188769897158584, 41.45732622778702], [2.188776320645358, 41.457319040138636], [2.188790812746439, 41.45730408915949], [2.188790815174569, 41.4573040864744], [2.188414599487585, 41.457097704975844], [2.188414385423634, 41.45709758817071], [2.188414384237636, 41.4570975872616], [2.187890868544246, 41.456906917571274], [2.188122950002442, 41.45662960628054], [2.188409064702448, 41.45597992120568], [2.18855672324048, 41.455650922381494], [2.188675037549843, 41.45526268000806], [2.188718069647711, 41.45504429166669], [2.188775489967189, 41.45484420334504], [2.188822138480272, 41.45418944121944], [2.1889115084959, 41.45324593681866], [2.188898634354252, 41.45269446975438], [2.188883306830094, 41.4520378913096], [2.188847530700056, 41.45150674010072], [2.188799244079762, 41.45068844590686], [2.18871151290587, 41.450110108480835], [2.188337454544793, 41.448857924444326], [2.188193779828532, 41.448424310286526], [2.187709703942433, 41.446963315585535], [2.187662189455299, 41.446819907946015], [2.187538320931277, 41.446446047437455], [2.186719660246699, 41.4439750516205], [2.186452014135308, 41.44316716179474], [2.186241353650396, 41.4424480795973], [2.186175718096018, 41.44222402924028], [2.185740263962908, 41.44073755624623], [2.185494638759158, 41.43989905747398], [2.185430083645111, 41.43970722393841], [2.185429081862038, 41.43970424709388], [2.185429020689724, 41.4397040656113], [2.184728494383582, 41.437622309155685], [2.184509886217554, 41.43697264122801], [2.18406681810144, 41.43565587537088], [2.183651467854716, 41.43442143860008], [2.183562541815976, 41.434157140788635], [2.183189038922311, 41.43304702614763], [2.182876992710403, 41.43211954384051], [2.18276249879475, 41.43177923092893], [2.182751529146359, 41.4317466235128], [2.182672353523937, 41.43120488465812], [2.182786528905378, 41.43063650617983], [2.182876783991616, 41.43044078491625], [2.183064462328307, 41.43019066407444], [2.183740191369194, 41.429290096585085], [2.184122104780172, 41.4287233330772], [2.184174388281488, 41.42864574346518], [2.184373645918921, 41.42835003652553], [2.184298367486103, 41.42764445800845], [2.182532470245109, 41.42771429864477], [2.179819645703932, 41.42782153591666], [2.179443340320194, 41.42783640624581], [2.1791803489859, 41.42787766233134], [2.179070182773592, 41.427894944308825], [2.178490020370765, 41.42798595314357], [2.177291896399761, 41.42817388974172], [2.177257148600198, 41.42776436523625], [2.177221273888134, 41.427341564657766], [2.177231128645866, 41.427119242068635], [2.17730345142297, 41.425487680026905], [2.176880564419715, 41.42547499106444], [2.176212390983032, 41.425454939988434], [2.17606401772095, 41.42545048705476], [2.175895267978913, 41.42553835848588], [2.175787577341622, 41.42557721800843], [2.175673611347706, 41.4256086535598], [2.17235404747963, 41.426524227173445], [2.171781045135242, 41.42668225562733], [2.171009132028094, 41.426895135629124], [2.170452427998954, 41.42704866036615], [2.170227805322184, 41.42711060513829], [2.16998062261587, 41.42717877028632], [2.169711149553058, 41.42722803313309], [2.167839882290849, 41.427491622410976], [2.167429125603074, 41.42754947781103], [2.167286238347944, 41.42756372118515], [2.166934993592266, 41.42759873121823], [2.16516477395271, 41.4277751616561], [2.165004428973261, 41.42779951607334], [2.164543003925116, 41.42786959931146], [2.164430361144698, 41.42788670785761], [2.164220243757899, 41.42791120859098], [2.164015556073896, 41.427946065524914], [2.163873485803176, 41.42798614845132], [2.163797658468177, 41.42800969944631], [2.163687875450363, 41.42806505475036], [2.163631657881686, 41.42809678372932], [2.163783792933364, 41.42820672751824], [2.164799435161334, 41.42884889071906], [2.164965581869781, 41.428955533449255], [2.166147281461529, 41.429625800553815], [2.166147523863052, 41.42962593742245], [2.164838738316928, 41.43039614959413], [2.164311041950968, 41.430765811130755], [2.164086505991961, 41.43097581059022], [2.163644676968452, 41.431387675756994], [2.163405920632861, 41.43170084438076], [2.163325515495886, 41.43182180333693], [2.163231217908769, 41.43197697142577], [2.16319151922472, 41.432121115161046], [2.163158763241102, 41.432266858661286], [2.163142540191035, 41.43233176265205], [2.163109494557317, 41.43246397755435], [2.163110344457675, 41.43271239538944], [2.163110918419396, 41.4328800739338], [2.163153446503802, 41.433032321673444], [2.163476211138983, 41.43418778592874], [2.163577793699303, 41.434551434150904], [2.163581111123479, 41.43456330845348], [2.163802478316269, 41.435200477866154], [2.164175377998639, 41.43607563255678], [2.16420623155582, 41.43614804319428], [2.164264783011468, 41.43628545452101], [2.16333480532494, 41.43654155863456], [2.163216929969616, 41.43657401978031], [2.163167649332453, 41.436587591304104], [2.16323090433736, 41.43668100812687], [2.163246716620615, 41.43670436231626], [2.163251915730032, 41.43671204113743], [2.163256616805678, 41.43671898223018], [2.163275321179204, 41.43674660625708], [2.163288814688927, 41.436766535162754], [2.163297227734723, 41.43677895995434], [2.163298098404361, 41.43678022732741], [2.163304992015725, 41.43679026760888], [2.163312335658842, 41.436800962400376], [2.163349986858221, 41.43685579425077], [2.163364821029467, 41.43687739927248], [2.16339797563923, 41.43692568242824], [2.163445499231613, 41.43699489254557], [2.163520099255742, 41.43710355121171], [2.163496102470871, 41.43711753550523], [2.163371231767862, 41.437190300132954], [2.163366202710977, 41.43719323601136], [2.163292661252835, 41.43723608995068], [2.163282567103145, 41.43724197044566], [2.163250594913738, 41.43726060666559], [2.163213077516726, 41.43728247584199], [2.163216340697956, 41.43728562515683], [2.163229507797452, 41.43729835745791], [2.163239288841597, 41.437307815247074], [2.163208774207849, 41.43732321397705], [2.163201916597598, 41.43732667519176], [2.163195288193306, 41.4373301840112], [2.16315496341454, 41.43735152743022], [2.163137090787196, 41.43736099033041], [2.163135939862007, 41.43736159896696], [2.163130390090072, 41.43736453555066], [2.163161213462764, 41.43739331333317], [2.163188914522351, 41.43741915899489], [2.16327752938194, 41.43750186125668], [2.163282113351302, 41.43750618213478], [2.163326917004428, 41.437548419575286], [2.163340077176488, 41.43756104462449], [2.163364953864056, 41.43758490608219], [2.163378900352614, 41.437598285363], [2.163384380806002, 41.43760354322427], [2.163394207792001, 41.43761297070875], [2.163410050812999, 41.43762817427166], [2.163414705934923, 41.43763264158222], [2.163418920017239, 41.437636685939005], [2.163458838174901, 41.43767497857437], [2.163483574663386, 41.43769774008003], [2.163532065754305, 41.437742363299435], [2.163545231388412, 41.43775447584177], [2.16356909255986, 41.43777642840233], [2.163596350148542, 41.437801506009635], [2.163597213789084, 41.43780229683605], [2.163597342732688, 41.43780241577089], [2.163598396790723, 41.43780338542813], [2.163598822678714, 41.43780377674487], [2.163606542956226, 41.43781088028945], [2.163619050849636, 41.437822389047], [2.163631959744471, 41.43783427002326], [2.163652308546269, 41.43785299759089], [2.163659704732563, 41.43785979972899], [2.163659699898849, 41.437859803296845], [2.163655749919866, 41.4378621300234], [2.162560901206931, 41.4385070507274], [2.162499242537808, 41.438545351821006], [2.162439643208375, 41.438585469360454], [2.162382271707197, 41.43862733251627], [2.162275164674456, 41.43871296987731], [2.162172732077711, 41.43880182981071], [2.162120521016043, 41.43885007164702], [2.162021611201856, 41.43894978403022], [2.161949833723931, 41.439030219926345], [2.161937688706194, 41.43904559089955], [2.161878844724606, 41.439120065276036], [2.161835605460504, 41.4391817393674], [2.161757914853463, 41.43924594570816], [2.161664244102279, 41.439286152346504], [2.161711903231423, 41.4394187647231], [2.161800292890759, 41.43966442793702], [2.161800222775174, 41.439664481470686], [2.161749422578228, 41.439703284617906], [2.161701925580234, 41.43974519595632], [2.161672666024511, 41.43977642766357], [2.161639295976917, 41.43981974349627], [2.161598039543126, 41.439879365635925], [2.161560575451497, 41.43994984773186], [2.161541681909618, 41.44001307007052], [2.161533047932504, 41.440080202546085], [2.161531259071915, 41.440138549526935], [2.161538347091906, 41.44019951841565], [2.161550167519308, 41.440271417178614], [2.161574001765239, 41.44033426006134], [2.161607215344228, 41.440397708137844], [2.161649430881131, 41.44046383396094], [2.161705129679146, 41.44052606503088], [2.161763998375415, 41.440578152489394], [2.161826005576452, 41.440623836887134], [2.161890031671599, 41.440664635920186], [2.161961225302674, 41.44070071860118], [2.162041828051801, 41.440731748153915], [2.162117582355454, 41.44075630562978], [2.162212222956151, 41.44078016110889], [2.162280570691795, 41.44078754952709], [2.162369956938255, 41.440793492277336], [2.162387937980013, 41.440893250737645], [2.162435960775861, 41.44101556363859], [2.162400988064185, 41.441324995100345], [2.162400967793863, 41.44132517510125], [2.161713468144314, 41.44163114683281], [2.161635126540127, 41.44156452267831], [2.161538205681672, 41.44160651779868], [2.16149419008194, 41.44162559086349], [2.161395302023314, 41.4416684434424], [2.161394615849848, 41.44166874289123], [2.161288340604459, 41.44171606235206], [2.161083356533821, 41.44180733063248], [2.160599556065221, 41.44202273590914], [2.160597534604819, 41.442023636313216], [2.16059635350892, 41.442024162735954], [2.160590513058723, 41.442026764698724], [2.160581592905419, 41.44203073493502], [2.16057822181285, 41.44203223529315], [2.16056255462584, 41.442039210712224], [2.16056149995133, 41.4420396804096], [2.1604950519057, 41.442069265894226], [2.160428603800117, 41.44209885133973], [2.16033093619157, 41.44213439337278], [2.160125956882832, 41.442202434328934], [2.160108995962911, 41.44222423366489], [2.160086512451615, 41.44225313015864], [2.160066790811297, 41.44227847807242], [2.159996108425827, 41.44235223537729], [2.159968437100594, 41.4423811047743], [2.159944870851565, 41.442370592163044], [2.159818011599401, 41.44228479776659], [2.159751604773958, 41.4422138026321], [2.159697668465238, 41.4421229957496], [2.159437241745719, 41.44222797161382], [2.159187132172224, 41.44237602733285], [2.159112162029055, 41.44243429781577], [2.159045857223512, 41.44251862701663], [2.158983815225543, 41.44263065814362], [2.158927519176574, 41.44271300675255], [2.158698095116586, 41.44301095200428], [2.158605800458851, 41.44325931416954], [2.158546146041063, 41.4433569146031], [2.158493012044861, 41.443479801494746], [2.158473020945001, 41.44369473444422], [2.158407861212127, 41.44385518433218], [2.158338867648015, 41.44395286044063], [2.158294131456481, 41.44399831783532], [2.158170815462205, 41.444084724400234], [2.158031514281763, 41.44416307829706], [2.157990944837697, 41.44420473791523], [2.157980062248785, 41.44425203728568], [2.157969892694887, 41.44442288763643], [2.157949947364437, 41.444527642043056], [2.157904023105732, 41.444618641100874], [2.157836618032683, 41.444706294255866], [2.15770736813347, 41.44483483860852], [2.157526536120436, 41.44498822582821], [2.157472253297807, 41.44502106564307], [2.157377755807819, 41.445044008963556], [2.157119649055461, 41.44509284784903], [2.156992582001767, 41.44510807604935], [2.156918180750069, 41.445151595083], [2.156829626870229, 41.44520918801031], [2.156718832239727, 41.44528883012365], [2.156611173261498, 41.445350948668924], [2.156480696960616, 41.44541307094303], [2.1563559274044, 41.445457886634784], [2.156259884125378, 41.445497499432754], [2.156104666395612, 41.44554363178908], [2.156061380463989, 41.44554902493891], [2.156027976405529, 41.44555121187285], [2.155903904482383, 41.44554585187128], [2.155830172398285, 41.44554873364094], [2.155782419580163, 41.44555886783692], [2.155743004267354, 41.44558519548663], [2.155718093611162, 41.44560817073008], [2.15570763536782, 41.44565214024049], [2.155707366560936, 41.44568857326769], [2.15575881443608, 41.44573232156487], [2.15579216996296, 41.445748662608985], [2.155834838248696, 41.44576507198382], [2.155836370370828, 41.44576536425843], [2.155903646569242, 41.445778187284034], [2.156011802736117, 41.44577757569649], [2.156206204744969, 41.44578766695273], [2.156423782846863, 41.445834750156806], [2.156653261677678, 41.445881758063415], [2.157082545859882, 41.44596171968421], [2.157168029907124, 41.44599246683614], [2.157210979020496, 41.44600571615521], [2.157253360039219, 41.44605176630719], [2.157316370402946, 41.446167919159805], [2.157416765837501, 41.44637395158736], [2.15751810624074, 41.44649310530944], [2.157590142287769, 41.44660845939447], [2.157592359374665, 41.44671285356251], [2.157561225525695, 41.44685415007387], [2.157542732337351, 41.446949259048964], [2.157516737664733, 41.447019020259354], [2.157469302844453, 41.44708594022436], [2.157423760482461, 41.44713057167113], [2.157251385040906, 41.44721736545555], [2.157117182895385, 41.44727945212211], [2.157064252561843, 41.44732694769299], [2.157043016881417, 41.44735455293391], [2.157031298294945, 41.447397900813044], [2.157042007035351, 41.44743256775678], [2.157095522528118, 41.44745178539525], [2.157206148211142, 41.44746315263188], [2.157339999507032, 41.44746058428807], [2.15749346676342, 41.44747046358456], [2.157576831389925, 41.44749863680108], [2.157665351458069, 41.44754464095402], [2.157676578354172, 41.44755047529676], [2.157780436284236, 41.44761214387084], [2.157940233572873, 41.44771208901396], [2.15806966800076, 41.447822476492085], [2.158340919214389, 41.44807548906477], [2.158639297897231, 41.44840560470001], [2.158750640281706, 41.44853308125079], [2.158922847144461, 41.44880148233294], [2.158944816453284, 41.44882457403221], [2.159009023631263, 41.44889206040889], [2.159148441083695, 41.44907427269044], [2.159283133234994, 41.4492664665067], [2.159424757057127, 41.44939473386763], [2.159425673706288, 41.44950179095351], [2.159419309442754, 41.44959694378256], [2.15948661458361, 41.44976769367271], [2.159477686369707, 41.44996131480039], [2.159374963965211, 41.4501905684212], [2.159212466036165, 41.4503196306822], [2.159181324720188, 41.45035862763318], [2.159130881779685, 41.450444270677025], [2.159109492078654, 41.45051827683208], [2.159559860989663, 41.45052120424765], [2.15956162294085, 41.45050156655437], [2.159998048636206, 41.450433343532254], [2.160185228216885, 41.45034920286702], [2.160211348268583, 41.450332729847375], [2.160369488225135, 41.45032060730234], [2.160413539681209, 41.45033962821201], [2.161042834442663, 41.45032745850644], [2.161295287113552, 41.45030498751014], [2.161532665071532, 41.450284414734504], [2.161724686042283, 41.45027281920841], [2.161860460464736, 41.45025837795474], [2.161995012450169, 41.45022031020265], [2.16211000225898, 41.45016426062673], [2.162187717081796, 41.45011638570875], [2.162297780675143, 41.45005265637492], [2.162393899669163, 41.44998645825105], [2.162494127282969, 41.449929845922185], [2.162596391622586, 41.44987962107584], [2.162685189198909, 41.449826456276945], [2.16278651233995, 41.449789259035505], [2.162878334416693, 41.44977785644738], [2.162975600611709, 41.44976809221506], [2.163070860077902, 41.44977753151554], [2.163182997684335, 41.449790417254654], [2.16325583557903, 41.44979840433203], [2.163380645806511, 41.44980568396848], [2.163472785073413, 41.44980499752965], [2.16357769412656, 41.44979858958369], [2.16367940021459, 41.4497945461208], [2.163757339577551, 41.4497855558679], [2.163892703694022, 41.449771347924596], [2.164037673685085, 41.44978579915726], [2.164074418176882, 41.44979250827994], [2.164105814143887, 41.449798241754806], [2.164140536385927, 41.449815225329075], [2.164170064811592, 41.44986562918898], [2.164166441107518, 41.44994199922852], [2.164197110402124, 41.45002664494158], [2.164223644395901, 41.45010328723904], [2.164245914099312, 41.450183093477186], [2.164274056025045, 41.45029956921177], [2.164291589823123, 41.450386361408555], [2.16431918544742, 41.45047134865275], [2.164358822487733, 41.450569133721565], [2.164403137464468, 41.45063536196243], [2.16444766776965, 41.45068910837825], [2.164488099769192, 41.45072076585919], [2.164559079349047, 41.450778319910754], [2.164638276356256, 41.4508534494048], [2.164680171891588, 41.450911491145675], [2.164706879105089, 41.45095659603084], [2.164756705697217, 41.451060888939324], [2.16479210580207, 41.4510932267658], [2.164842983422894, 41.451115407602586], [2.164963343727065, 41.45117273802548], [2.165075248690772, 41.45122359097376], [2.16513973592397, 41.45124843667036], [2.165310346314877, 41.451312523973044], [2.165373821948733, 41.45134765316478], [2.165426262857692, 41.45138118991961], [2.165505454393616, 41.45143726359572], [2.165555915345391, 41.451481814601195], [2.165584249859422, 41.45152416130566], [2.165597881450463, 41.451579755741086], [2.165592636823714, 41.451669128855976], [2.165575261751878, 41.45174608013116], [2.165568482413768, 41.45179536003604], [2.165513890230754, 41.451919559015444], [2.165447884990468, 41.4520482067932], [2.165392910178929, 41.45215271814046], [2.165332680225209, 41.45224912429254], [2.165159617990343, 41.45236084926547], [2.165033445359288, 41.45245110289442], [2.164938089694024, 41.4525239841263], [2.164859525630501, 41.45260206286195], [2.164801262953158, 41.4526752123687], [2.164813806238577, 41.4527488795543], [2.164836302723612, 41.452835303233336], [2.164862304225564, 41.45291160010385], [2.164871412615466, 41.45299031351352], [2.164890148822478, 41.453107154917696], [2.16490143537215, 41.453162509912495], [2.16489648499509, 41.453228761288614], [2.164874988678634, 41.45330722098077], [2.164861469264405, 41.45340270133049], [2.16485851384213, 41.453473590687764], [2.164825747472924, 41.45363213536827], [2.164807519408873, 41.4536966005434], [2.164797312529331, 41.453772211171135], [2.164802393428346, 41.453855489109905], [2.164819906340564, 41.45392807274223], [2.164891859740373, 41.45404562386263], [2.164930830406555, 41.454226397182836], [2.164956078732836, 41.4543344891945], [2.16495623518518, 41.454482477504314], [2.164939542752759, 41.45466580114975], [2.164923857311464, 41.45477051546459], [2.164890184013178, 41.454839642437605], [2.164733386333818, 41.45494288631264], [2.164505925630026, 41.455010346456866], [2.164406590683384, 41.455115588030985], [2.164325794335078, 41.45535701743618], [2.164300720651801, 41.455446824649805], [2.164266750844623, 41.45560854899067], [2.164168684893666, 41.45579380872813], [2.164228792904414, 41.45604454319058], [2.164295583301065, 41.456135246596475], [2.164338819632776, 41.456192699164504], [2.164452347394175, 41.45637997619168], [2.164514990181917, 41.45648267872521], [2.164575609730381, 41.45658687076538], [2.164644176201448, 41.45669562868832], [2.164720810268054, 41.456798431809574], [2.164781610036053, 41.456889091424046], [2.16489346400553, 41.45705079283936], [2.164974091208474, 41.45714609549005], [2.165079612337179, 41.457334391037804], [2.165195565833912, 41.45751116066264], [2.165271342854864, 41.457614178768786], [2.165316632462848, 41.45768990295929], [2.165415708014463, 41.45777955190236], [2.165463640273289, 41.45784949894453], [2.165498700307352, 41.45792128557117], [2.165572405814123, 41.45798561967528], [2.165623252157638, 41.45802852145044], [2.165647936248161, 41.458107965619725], [2.165670071087875, 41.458185459205254], [2.165686970718024, 41.458270646766735], [2.165697822703987, 41.458306773992064], [2.165740755834424, 41.458372956492454], [2.165799206872133, 41.45841633578834], [2.166162245859626, 41.45846539484442], [2.166438917875425, 41.458707982330964], [2.166822204644613, 41.459078614177976], [2.166921392199476, 41.45917452546723], [2.166934390199429, 41.45949231145968], [2.166945295322504, 41.45950957295022], [2.167013998639041, 41.45963512920971], [2.167166351402908, 41.459799986880576], [2.167237844578461, 41.45984885619899], [2.167312687231513, 41.45988675168652], [2.167392253481091, 41.459908278844196], [2.167524534739251, 41.459931205299995], [2.167457266637468, 41.46000789383874], [2.167397083559985, 41.46007735564268], [2.167359936026997, 41.46014323708314], [2.167333173468584, 41.4602060230819], [2.167288237443247, 41.460319118939644], [2.167275903214076, 41.460354771001946], [2.167258367883973, 41.46041510170778], [2.167241830907592, 41.46047226903414], [2.16725422057047, 41.46050716331219], [2.167301167716333, 41.46061876254427], [2.167325374422759, 41.46068025112695], [2.168143800664333, 41.460704025364144], [2.168207303018258, 41.460700881621776], [2.16826286834086, 41.460697227382], [2.168258420278914, 41.4606024671253], [2.168267468992615, 41.46049657763848], [2.16828268257505, 41.460395130136014], [2.168296304850015, 41.46033828386392], [2.168318160487477, 41.46028489561022], [2.168429376396256, 41.46031996921906], [2.169098681526151, 41.460550928471726], [2.169287433000621, 41.46063022375852], [2.169409034258812, 41.460634957042465], [2.169548951316226, 41.46067710855311], [2.17001192906721, 41.46075431797596], [2.170018941987346, 41.46084430023524], [2.170500071318811, 41.460962133221464], [2.170641838170017, 41.461023676157744], [2.170820541086975, 41.46108272891522], [2.171223510623326, 41.46121342636491], [2.171405071986279, 41.46082198211575], [2.171425076445988, 41.460875735543674], [2.171523866918751, 41.460962855078655], [2.171645498850561, 41.46110966890905], [2.171694895733764, 41.4611375962652], [2.171720007487136, 41.46116660076133], [2.171749142613706, 41.46120501092261], [2.171899992285851, 41.461270887215164], [2.172134413958287, 41.46144280540585], [2.172386048498488, 41.461655785581094], [2.172548161489843, 41.461766409740186], [2.172646185253229, 41.461868853377375], [2.172938668836465, 41.462057208980305], [2.173402704663586, 41.462328458707766], [2.173705811906214, 41.46250365773201], [2.173760448635274, 41.4625352374071], [2.173842695703293, 41.46252928248243], [2.173995897981678, 41.46253945316791], [2.174073662732383, 41.46256371903135], [2.174169339107269, 41.46263722176102], [2.174248270344842, 41.46273189768612], [2.174279765255285, 41.46281949551336], [2.174354518260075, 41.46297171664124], [2.174357344936708, 41.46301602629333], [2.174327502867586, 41.46322949452278], [2.174352084850964, 41.463484012776924], [2.174524368428094, 41.46348398824138], [2.174780121846851, 41.463643452742765], [2.174878012445839, 41.463699280236824], [2.174915948904621, 41.463852216884106], [2.1756215213439, 41.46375093807872], [2.175730368113858, 41.463733034976656], [2.17599080980191, 41.46385798702497], [2.176172751031964, 41.463928034675185], [2.176210669024982, 41.463944555578976], [2.176251189866006, 41.46399006289045], [2.176618543069827, 41.46405282642106], [2.176920524305962, 41.4640921701842], [2.176957568082861, 41.46413239204818], [2.177077250389849, 41.46414503001249], [2.177255063870158, 41.46415149024615], [2.17746458982076, 41.4641614556712], [2.177802820808736, 41.46424333703826], [2.178126233967046, 41.46433328124424], [2.178432671179865, 41.464399251713125], [2.178622657246867, 41.46444323150555], [2.178855443785831, 41.4644851980305], [2.179123860154451, 41.4645509952137], [2.180253679860751, 41.464827941257646], [2.18071191108582, 41.46494026119684], [2.180421201123002, 41.46508846056718], [2.180137326302839, 41.46526907147945], [2.179844279359639, 41.46550557020932], [2.179465635474029, 41.46587773044675], [2.179335699211121, 41.46602385005363], [2.179166716072841, 41.46621387933607], [2.178935621790762, 41.46653473063653], [2.178788785719177, 41.46680026515256], [2.178671424381761, 41.467084376001075], [2.17860973665936, 41.46742052365612], [2.178605857059286, 41.467688042441985], [2.178640300823702, 41.4679468364966], [2.178694851539545, 41.46818418429087], [2.179413336502136, 41.46759399944476], [2.179794265019057, 41.46761870158902], [2.180510458938638, 41.46765867931469], [2.180692845826323, 41.46767315548651], [2.181687346493205, 41.467843045254064], [2.181891937631259, 41.46791352961176], [2.182022058630118, 41.4679519653907], [2.182388872351884, 41.467996507236535], [2.182673932412341, 41.46805217573556], [2.18310099548935, 41.46816347202385], [2.183470863182367, 41.468226950330916], [2.183623000405508, 41.46827500374834], [2.18378539286801, 41.46829647686976], [2.184065005667397, 41.468297591446614], [2.184169113750643, 41.468283554173986], [2.184421849811154, 41.46824551758852], [2.184583120605272, 41.46819672849156], [2.185381980770834, 41.46779509718891], [2.18573816465555, 41.46776103294367], [2.185802598830426, 41.467757597861876], [2.18706050049082, 41.46771682009473]]], &quot;type&quot;: &quot;Polygon&quot;}, &quot;properties&quot;: {&quot;AEB&quot;: &quot;-&quot;, &quot;ANNEXDESCR&quot;: &quot;Grup - I&quot;, &quot;AREA&quot;: 8056467.799, &quot;AREA_I&quot;: &quot;-&quot;, &quot;BARRI&quot;: &quot;-&quot;, &quot;CODI_UA&quot;: &quot;08&quot;, &quot;COL_DESCR&quot;: &quot;Negre&quot;, &quot;COL_FARCIT&quot;: &quot;1&quot;, &quot;CONJ_DESCR&quot;: &quot;Districtes&quot;, &quot;DISTRICTE&quot;: &quot;08&quot;, &quot;DOCUMENTA&quot;: null, &quot;ELEM_DESCR&quot;: &quot;L\\u00edmit de districte&quot;, &quot;ESTIL_ID&quot;: &quot;0&quot;, &quot;ESTIL_QGIS&quot;: &quot;S\\u00f2lid&quot;, &quot;FCOL_DESCR&quot;: &quot;Negre&quot;, &quot;FHEX_COLOR&quot;: &quot;#000000&quot;, &quot;GRANBARRI&quot;: &quot;-&quot;, &quot;GRUIXDIMEN&quot;: 70.0, &quot;GRUIX_ID&quot;: &quot;6&quot;, &quot;HEX_COLOR7&quot;: &quot;#000000&quot;, &quot;ID_ANNEX&quot;: &quot;01&quot;, &quot;ID_CONJUNT&quot;: &quot;010412&quot;, &quot;ID_ELEMENT&quot;: &quot;0104120101&quot;, &quot;ID_SUBCONJ&quot;: &quot;01041201&quot;, &quot;ID_TEMA&quot;: &quot;0104&quot;, &quot;LITERAL&quot;: &quot;08&quot;, &quot;NDESCR_CA&quot;: &quot;L\\u00edmit de districte (pol\\u00edgon)&quot;, &quot;NDESCR_EN&quot;: &quot;District boundary (polygon)&quot;, &quot;NDESCR_ES&quot;: &quot;L\\u00edmite de distrito (pol\\u00edgono)&quot;, &quot;NIVELL&quot;: &quot;ADM_02_PL&quot;, &quot;NOM&quot;: &quot;Nou Barris&quot;, &quot;ORD_REPRES&quot;: 5, &quot;PERIMETRE&quot;: 14707.881, &quot;RANGESCALA&quot;: &quot;1-150000&quot;, &quot;SCONJ_DESC&quot;: &quot;Districte&quot;, &quot;SEC_CENS&quot;: &quot;-&quot;, &quot;TEMA_DESCR&quot;: &quot;Unitats Administratives&quot;, &quot;TERME&quot;: &quot;080193&quot;, &quot;TIPUS_POL&quot;: null, &quot;TIPUS_UA&quot;: &quot;DISTRICTE&quot;, &quot;VALOR1QGIS&quot;: &quot;0&quot;, &quot;VALOR2QGIS&quot;: &quot;0&quot;, &quot;WEB1&quot;: &quot;http://www.bcn.cat/noubarris&quot;, &quot;WEB2&quot;: &quot;http://www.bcn.cat/estadistica/catala/dades/guiadt08/index.htm&quot;, &quot;WEB3&quot;: &quot;http://www.bcn.cat/estadistica/catala/documents/districtes/08_NouBarris_2017.pdf&quot;, &quot;ZUA&quot;: &quot;-&quot;}, &quot;type&quot;: &quot;Feature&quot;}, {&quot;geometry&quot;: {&quot;coordinates&quot;: [[[2.187641336315786, 41.46211959156455], [2.187646494141312, 41.462078487589764], [2.187681224902777, 41.46180172826824], [2.187716968048906, 41.46161749108992], [2.18779787298956, 41.46130982009561], [2.187873171947104, 41.461079032661324], [2.187961374024759, 41.46083227605879], [2.188056106282662, 41.460598554146046], [2.188198808503116, 41.460292580033645], [2.188328495818948, 41.4600450169777], [2.188459537659219, 41.45981742372704], [2.188608976920322, 41.459583537809934], [2.188834728560484, 41.45926663716448], [2.189014468196961, 41.45903871108651], [2.189365394739077, 41.45863860767052], [2.189786617131086, 41.458218983840545], [2.190148294044439, 41.45787410603811], [2.190616611815835, 41.457433129819336], [2.190955701306046, 41.45713906340831], [2.19131131805319, 41.456851165147135], [2.191705579302216, 41.45655474608646], [2.192328118988774, 41.45610477605106], [2.193800314320958, 41.455045121945275], [2.19450620482216, 41.45453509517755], [2.194690724181676, 41.454404561794675], [2.195277452315878, 41.453989491583826], [2.196993491516836, 41.452785284204495], [2.197712637657038, 41.45227590646863], [2.198106069905477, 41.451980918541615], [2.198476476894824, 41.45166930325166], [2.199181320445846, 41.45106709414286], [2.199572972306456, 41.45072490784244], [2.200177168796916, 41.45013645804825], [2.20070147983834, 41.44962095953596], [2.201318941745359, 41.449009797072144], [2.201829686215862, 41.448504252275875], [2.201942202642904, 41.44839144027617], [2.201986726480504, 41.448346231029035], [2.203210771743155, 41.44710332489265], [2.203318235889806, 41.44698955505577], [2.203411398904287, 41.44689092575295], [2.203863501601797, 41.44641616371632], [2.204108398272767, 41.44615584932483], [2.204988342882809, 41.445226756421285], [2.205309235355283, 41.44489058606285], [2.205605534262535, 41.44457771832201], [2.205881315675092, 41.444283009463824], [2.206133013248754, 41.4440002325098], [2.206298029649809, 41.443807647389626], [2.206834594827513, 41.443116062521085], [2.206943374141092, 41.44296212960452], [2.207063117507212, 41.44277923938792], [2.207194061637519, 41.44257654231781], [2.207322238575832, 41.442372857723036], [2.207372388227256, 41.44228984665529], [2.207470466996655, 41.44212310296901], [2.207567653279628, 41.44195115845664], [2.207615663068065, 41.44186254522202], [2.207662444234511, 41.44177356410673], [2.207749574057589, 41.441603801121566], [2.207830267063381, 41.441442194111346], [2.207911097447168, 41.441273095598156], [2.207951559845783, 41.441184798648074], [2.207990733149974, 41.44109618745499], [2.208093846851984, 41.44085264170572], [2.208156485928114, 41.44069740722656], [2.208225555714758, 41.44051524148994], [2.208290413641358, 41.440332216233074], [2.208346803503972, 41.44016445341415], [2.208400991819375, 41.439996290795364], [2.208468291927386, 41.439770306825324], [2.208618084266298, 41.439217055488946], [2.20862538942887, 41.439190071708445], [2.209410851456506, 41.436385873154265], [2.20947630328002, 41.436192042230424], [2.20953782390451, 41.43600985429833], [2.209627050710667, 41.435759319918], [2.209706554527268, 41.43555502685127], [2.209746297604244, 41.43545852655207], [2.209804880600151, 41.43531177248734], [2.209887582671677, 41.43511695546329], [2.209979986688686, 41.434910872727606], [2.210097175594505, 41.434661681100565], [2.210166505167985, 41.43451800640242], [2.210304635792899, 41.43424841142724], [2.210459426422082, 41.43396734432841], [2.210663721191755, 41.433599111997104], [2.210759188015077, 41.433430293595926], [2.209926323104626, 41.433296238597734], [2.20988695479228, 41.43328162836009], [2.209752915192815, 41.43327267304873], [2.209604874926316, 41.43325360510544], [2.209545454080705, 41.433236415959634], [2.208552321185382, 41.43316123032237], [2.208407056097621, 41.433175840773885], [2.208193086691248, 41.43314436445771], [2.208041400148492, 41.433130917078394], [2.208016854765634, 41.433117876456784], [2.20771960220919, 41.433031583017836], [2.207478526446805, 41.432952674613155], [2.207431761245182, 41.432947974819385], [2.20727737166764, 41.43288818249154], [2.207262391558872, 41.43289564552586], [2.20678554220304, 41.43274208464608], [2.206470773443595, 41.43264071753954], [2.206171206418483, 41.43227122788257], [2.206366129445091, 41.43153724038291], [2.206483069344435, 41.43108071162809], [2.206672643426912, 41.43058099746275], [2.206723894687163, 41.43057294691941], [2.206796700153093, 41.430537055203786], [2.20654029950123, 41.43024240429725], [2.207007614558635, 41.43001373941147], [2.206920936319091, 41.429912921359055], [2.207010026442168, 41.429679334435825], [2.207249160508856, 41.42910469537962], [2.207323794627728, 41.429068159274834], [2.207138714932267, 41.428854011565704], [2.207275306091382, 41.42878742303473], [2.207273623497699, 41.42865469376367], [2.207289921191193, 41.42843592484504], [2.207328680247978, 41.42823782876797], [2.207343416862275, 41.42811500462212], [2.207361139240572, 41.4281066299923], [2.20727853008823, 41.42801168065165], [2.207351914131887, 41.42797666447126], [2.207297322631997, 41.42791119502858], [2.207024180387327, 41.4275836245619], [2.20659027011569, 41.42778711358906], [2.205176782602645, 41.42845011926472], [2.202983913310766, 41.42947863759601], [2.202684894093502, 41.42958998389265], [2.202479488141108, 41.42966647101698], [2.202356838037173, 41.42971214240324], [2.202178913220961, 41.4297763910363], [2.202145040315266, 41.429788622441734], [2.201945907966381, 41.429860527689904], [2.201527250547017, 41.42999278857137], [2.201104769691715, 41.430087289149284], [2.200685505822189, 41.43015945402399], [2.2002349044865, 41.43017630092858], [2.199900539968782, 41.430161960051066], [2.199494974885255, 41.43012332510019], [2.199292822936012, 41.4300981899609], [2.19917174789494, 41.430083136152824], [2.198943011829592, 41.43003221886283], [2.198700540107756, 41.42994937220821], [2.198686726825049, 41.42994465246984], [2.19867068406379, 41.42993777342673], [2.198399356512248, 41.42982143179223], [2.198109616146982, 41.4296268422358], [2.197571177549548, 41.42920964577958], [2.197319543980551, 41.42893676600292], [2.197288533125614, 41.428881105147646], [2.197214596264325, 41.42874839673625], [2.197126150814027, 41.42847628853701], [2.196955860294028, 41.427966916476876], [2.196676597993382, 41.4273913882268], [2.196676596830005, 41.42739138551644], [2.196622636645264, 41.42728017826984], [2.196599729705668, 41.42720837659798], [2.196548925523284, 41.42704913386883], [2.196488303259466, 41.426859117020626], [2.196467797883725, 41.42679484250902], [2.19646779789483, 41.42679484160835], [2.196452863608368, 41.426748033633004], [2.196452863630578, 41.42674803183167], [2.196431563259442, 41.4266812666023], [2.196427942912651, 41.42666991894083], [2.196426867852682, 41.426666550749346], [2.19642665351206, 41.426665880898874], [2.196426295184678, 41.42666475606682], [2.196425305424639, 41.42666165238962], [2.196506618513078, 41.42661229198415], [2.196547962919492, 41.426587194113736], [2.196546033793738, 41.42658058718216], [2.19654469835194, 41.426576011975435], [2.196541434848911, 41.42656484065339], [2.196541426805332, 41.426564813574835], [2.196541074195909, 41.42656361312041], [2.196540837708779, 41.42656279809539], [2.196540587450116, 41.426561935234666], [2.196540208438817, 41.42656064362053], [2.196539924720392, 41.42655967964259], [2.19653905331316, 41.42655668308089], [2.196538987845668, 41.426556460139466], [2.196537951799476, 41.4265529363924], [2.19653732236314, 41.426550795427545], [2.196536575752309, 41.42654825731619], [2.196536575763413, 41.426548256415536], [2.196525137854863, 41.42650916523472], [2.196447293110746, 41.42633208437612], [2.196443554949626, 41.42631883982174], [2.196439616102295, 41.426304885879254], [2.19641015437511, 41.426200523252895], [2.196331638064946, 41.425922386543505], [2.196331261932215, 41.425921056216595], [2.196329680679532, 41.42591545424097], [2.196227900489262, 41.425554901519135], [2.19622734569994, 41.4255530168856], [2.196221530882498, 41.42553330126705], [2.196191888343871, 41.425432786196524], [2.196185418795381, 41.425410849265546], [2.196158483808094, 41.42531951999337], [2.196102208327014, 41.42511844868254], [2.196092460902546, 41.42508361177619], [2.196086314869353, 41.42506164827521], [2.196084620589176, 41.425055607743126], [2.196084356915551, 41.42505466912481], [2.196076040708114, 41.42502508005565], [2.19606935013078, 41.42500127612731], [2.196058878898365, 41.42496399854241], [2.196056447369147, 41.42495534339677], [2.196040197115312, 41.42489749562299], [2.195977636156001, 41.424690774971616], [2.195961293117438, 41.424636772721485], [2.195936855644008, 41.42455461782568], [2.195915850537788, 41.42448400024948], [2.195907252013266, 41.42445509285863], [2.195900437827819, 41.42444267528628], [2.195890217667746, 41.4244240556904], [2.195866285232874, 41.424281290400195], [2.195848782347133, 41.42417688417985], [2.195826456256517, 41.424043707737304], [2.19580798487419, 41.42393352005343], [2.195802800501778, 41.42390259362538], [2.195801391536401, 41.42389418972305], [2.195774553478685, 41.42373409264996], [2.195771742230664, 41.423717326325146], [2.195771742241778, 41.42371732542447], [2.195766295567986, 41.42368486769308], [2.195719885119553, 41.42340831771835], [2.195715858649363, 41.423384325216276], [2.195708244950736, 41.42333895544625], [2.195696166703042, 41.42326698334993], [2.195688220804136, 41.4232196368195], [2.195669393265226, 41.42310750820287], [2.195658607818423, 41.423043271739914], [2.195628912461364, 41.42286641786728], [2.195597595353995, 41.42267989754285], [2.195600270230721, 41.42266843533259], [2.195604468879315, 41.422650446159345], [2.195603588865132, 41.42264805753233], [2.195600953487067, 41.42264090159206], [2.195595668795848, 41.422626555385506], [2.195594869843041, 41.42262438620654], [2.195594546796634, 41.42262350842237], [2.195581750796783, 41.42258876904215], [2.195581749633535, 41.422588766331785], [2.195542481170796, 41.42248220278665], [2.195540575238234, 41.42247703088517], [2.195540574063862, 41.42247702907545], [2.19553879085762, 41.42247219130825], [2.195532165280108, 41.42245421021821], [2.195532164105749, 41.4224542084085], [2.195532164116865, 41.42245420750784], [2.195487355618295, 41.42234372478756], [2.195238437548236, 41.42238787418921], [2.195218687471755, 41.42239134712698], [2.194999287311655, 41.4217297623083], [2.194033147083357, 41.4188162723743], [2.193910034777585, 41.418483519748854], [2.193486329714172, 41.41733828688332], [2.193468175558929, 41.41728783758064], [2.193419858356897, 41.41715356316181], [2.193293498998992, 41.41680240908597], [2.19324703172947, 41.41664014963106], [2.193233010867612, 41.416472515034265], [2.193234258797994, 41.41631549201568], [2.193289876420394, 41.41605639923922], [2.193326653998595, 41.415931785611214], [2.193543462278558, 41.41539701678922], [2.193357568961765, 41.41525228039121], [2.192414384648834, 41.41454537578438], [2.192367848273058, 41.41458092769347], [2.191108999788912, 41.41554270864463], [2.191108976720038, 41.4155426391249], [2.190977487201546, 41.41516837282671], [2.190154990653436, 41.41454244053634], [2.190150753035795, 41.41453921575651], [2.18903398431547, 41.413677502005974], [2.18800142020819, 41.41446167437141], [2.1877005796002, 41.41468786856706], [2.186902612555622, 41.41528782859167], [2.186270599090921, 41.415763003594776], [2.185434622306246, 41.4163915092348], [2.185128465852977, 41.4166216798902], [2.184420854142727, 41.417153658751594], [2.183360972634387, 41.41795044696965], [2.182957691919749, 41.41765343135364], [2.182207516510886, 41.41710091666562], [2.180484428205486, 41.415831784210624], [2.180404518970553, 41.41637351867038], [2.180394936222036, 41.41748219764409], [2.180490797070303, 41.41833406807311], [2.180503981606972, 41.4183928816566], [2.180562851113069, 41.41865548757345], [2.180725596393423, 41.4193814565876], [2.180827510558462, 41.419836064788576], [2.180834811460241, 41.42003383329659], [2.18079562300239, 41.42023668786599], [2.180746048377927, 41.42035452538014], [2.180658254940905, 41.42048166742632], [2.180626495677583, 41.420520784936144], [2.180470145572496, 41.42071335786216], [2.180337642288313, 41.4208573538857], [2.179760526586738, 41.421484515163385], [2.178971777435861, 41.422341637930074], [2.178612238504627, 41.4227323344824], [2.178247223113673, 41.423128976214606], [2.176968696759157, 41.42451823096312], [2.176542758296137, 41.42498104139345], [2.176532238103767, 41.42499247221535], [2.176220048548611, 41.42532630532954], [2.17606401772095, 41.42545048705476], [2.176212390983032, 41.425454939988434], [2.176880564419715, 41.42547499106444], [2.17730345142297, 41.425487680026905], [2.177231128645866, 41.427119242068635], [2.177221273888134, 41.427341564657766], [2.177257148600198, 41.42776436523625], [2.177291896399761, 41.42817388974172], [2.178490020370765, 41.42798595314357], [2.179070182773592, 41.427894944308825], [2.1791803489859, 41.42787766233134], [2.179443340320194, 41.42783640624581], [2.179819645703932, 41.42782153591666], [2.182532470245109, 41.42771429864477], [2.184298367486103, 41.42764445800845], [2.184373645918921, 41.42835003652553], [2.184174388281488, 41.42864574346518], [2.184122104780172, 41.4287233330772], [2.183740191369194, 41.429290096585085], [2.183064462328307, 41.43019066407444], [2.182876783991616, 41.43044078491625], [2.182786528905378, 41.43063650617983], [2.182672353523937, 41.43120488465812], [2.182751529146359, 41.4317466235128], [2.18276249879475, 41.43177923092893], [2.182876992710403, 41.43211954384051], [2.183189038922311, 41.43304702614763], [2.183562541815976, 41.434157140788635], [2.183651467854716, 41.43442143860008], [2.18406681810144, 41.43565587537088], [2.184509886217554, 41.43697264122801], [2.184728494383582, 41.437622309155685], [2.185429020689724, 41.4397040656113], [2.185429081862038, 41.43970424709388], [2.185430083645111, 41.43970722393841], [2.185494638759158, 41.43989905747398], [2.185740263962908, 41.44073755624623], [2.186175718096018, 41.44222402924028], [2.186241353650396, 41.4424480795973], [2.186452014135308, 41.44316716179474], [2.186719660246699, 41.4439750516205], [2.187538320931277, 41.446446047437455], [2.187662189455299, 41.446819907946015], [2.187709703942433, 41.446963315585535], [2.188193779828532, 41.448424310286526], [2.188337454544793, 41.448857924444326], [2.18871151290587, 41.450110108480835], [2.188799244079762, 41.45068844590686], [2.188847530700056, 41.45150674010072], [2.188883306830094, 41.4520378913096], [2.188898634354252, 41.45269446975438], [2.1889115084959, 41.45324593681866], [2.188822138480272, 41.45418944121944], [2.188775489967189, 41.45484420334504], [2.188718069647711, 41.45504429166669], [2.188675037549843, 41.45526268000806], [2.18855672324048, 41.455650922381494], [2.188409064702448, 41.45597992120568], [2.188122950002442, 41.45662960628054], [2.187890868544246, 41.456906917571274], [2.188414384237636, 41.4570975872616], [2.188414385423634, 41.45709758817071], [2.188414599487585, 41.457097704975844], [2.188790815174569, 41.4573040864744], [2.188790812746439, 41.45730408915949], [2.188776320645358, 41.457319040138636], [2.188769897158584, 41.45732622778702], [2.188756104478691, 41.4573405874057], [2.18874100370314, 41.457357108582556], [2.188736935728346, 41.457361673670874], [2.188566993985425, 41.457582885925596], [2.188527896690882, 41.45763027732383], [2.188475646111501, 41.4576916274696], [2.188422499117378, 41.45776724800688], [2.188304035361763, 41.457953405913706], [2.1882251072443, 41.45807621438328], [2.188166467059081, 41.458170774635775], [2.188116237827023, 41.4582504779565], [2.188112542674277, 41.45825605538349], [2.188089281261071, 41.45829112727374], [2.188089194571285, 41.45829126177297], [2.188071464620975, 41.45831800572202], [2.188063980255422, 41.45833343662546], [2.188053620398987, 41.45835477410485], [2.188024814011884, 41.458414127739076], [2.187984827503089, 41.45852121375474], [2.18794277818062, 41.45862471825907], [2.187935667212095, 41.45864956452831], [2.187929071653671, 41.45866284892658], [2.187906727886227, 41.458719554937126], [2.187885039526174, 41.458774590192476], [2.187872650244289, 41.45881078455238], [2.187845498007796, 41.458890119232755], [2.187823992834675, 41.458944858523765], [2.187793509717671, 41.45902244024997], [2.187789549991199, 41.45903251859942], [2.187743512195745, 41.45914969512126], [2.187719003494162, 41.459233056728515], [2.187697391193343, 41.45934337993026], [2.187694813113377, 41.459356535954655], [2.187678183218088, 41.45944141599025], [2.18766324539166, 41.45951390117269], [2.187647975220764, 41.45958806838981], [2.187636465488073, 41.45964395010837], [2.187631748288055, 41.45970243789902], [2.187624257329045, 41.45976059084051], [2.187615041174493, 41.459832251710075], [2.187600985402581, 41.4599415023235], [2.187597772409068, 41.45997348293685], [2.187595306235647, 41.45999800799199], [2.187585591602088, 41.46009463656034], [2.18754029803361, 41.4605824485476], [2.187533464394949, 41.46065603489671], [2.187527712361233, 41.46071798411415], [2.187473176814033, 41.461305318376894], [2.187471049177433, 41.461328230787856], [2.187462200992913, 41.46142352153911], [2.187437994282174, 41.46168421118886], [2.187402210732328, 41.46206958324567], [2.18740092305373, 41.46208199175122], [2.187422318878322, 41.46208168622203], [2.187444500347162, 41.46208137002534], [2.187444501544479, 41.462081370033786], [2.187641336315786, 41.46211959156455]]], &quot;type&quot;: &quot;Polygon&quot;}, &quot;properties&quot;: {&quot;AEB&quot;: &quot;-&quot;, &quot;ANNEXDESCR&quot;: &quot;Grup - I&quot;, &quot;AREA&quot;: 6592479.935, &quot;AREA_I&quot;: &quot;-&quot;, &quot;BARRI&quot;: &quot;-&quot;, &quot;CODI_UA&quot;: &quot;09&quot;, &quot;COL_DESCR&quot;: &quot;Negre&quot;, &quot;COL_FARCIT&quot;: &quot;1&quot;, &quot;CONJ_DESCR&quot;: &quot;Districtes&quot;, &quot;DISTRICTE&quot;: &quot;09&quot;, &quot;DOCUMENTA&quot;: null, &quot;ELEM_DESCR&quot;: &quot;L\\u00edmit de districte&quot;, &quot;ESTIL_ID&quot;: &quot;0&quot;, &quot;ESTIL_QGIS&quot;: &quot;S\\u00f2lid&quot;, &quot;FCOL_DESCR&quot;: &quot;Negre&quot;, &quot;FHEX_COLOR&quot;: &quot;#000000&quot;, &quot;GRANBARRI&quot;: &quot;-&quot;, &quot;GRUIXDIMEN&quot;: 70.0, &quot;GRUIX_ID&quot;: &quot;6&quot;, &quot;HEX_COLOR7&quot;: &quot;#000000&quot;, &quot;ID_ANNEX&quot;: &quot;01&quot;, &quot;ID_CONJUNT&quot;: &quot;010412&quot;, &quot;ID_ELEMENT&quot;: &quot;0104120101&quot;, &quot;ID_SUBCONJ&quot;: &quot;01041201&quot;, &quot;ID_TEMA&quot;: &quot;0104&quot;, &quot;LITERAL&quot;: &quot;09&quot;, &quot;NDESCR_CA&quot;: &quot;L\\u00edmit de districte (pol\\u00edgon)&quot;, &quot;NDESCR_EN&quot;: &quot;District boundary (polygon)&quot;, &quot;NDESCR_ES&quot;: &quot;L\\u00edmite de distrito (pol\\u00edgono)&quot;, &quot;NIVELL&quot;: &quot;ADM_02_PL&quot;, &quot;NOM&quot;: &quot;Sant Andreu&quot;, &quot;ORD_REPRES&quot;: 5, &quot;PERIMETRE&quot;: 15121.527, &quot;RANGESCALA&quot;: &quot;1-150000&quot;, &quot;SCONJ_DESC&quot;: &quot;Districte&quot;, &quot;SEC_CENS&quot;: &quot;-&quot;, &quot;TEMA_DESCR&quot;: &quot;Unitats Administratives&quot;, &quot;TERME&quot;: &quot;080193&quot;, &quot;TIPUS_POL&quot;: null, &quot;TIPUS_UA&quot;: &quot;DISTRICTE&quot;, &quot;VALOR1QGIS&quot;: &quot;0&quot;, &quot;VALOR2QGIS&quot;: &quot;0&quot;, &quot;WEB1&quot;: &quot;http://www.bcn.cat/santandreu&quot;, &quot;WEB2&quot;: &quot;http://www.bcn.cat/estadistica/catala/dades/guiadt09/index.htm&quot;, &quot;WEB3&quot;: &quot;http://www.bcn.cat/estadistica/catala/documents/districtes/09_SantAndreu_2017.pdf&quot;, &quot;ZUA&quot;: &quot;-&quot;}, &quot;type&quot;: &quot;Feature&quot;}, {&quot;geometry&quot;: {&quot;coordinates&quot;: [[[2.207364122299359, 41.42711129750025], [2.206976022580037, 41.42664970634873], [2.206761114130684, 41.42675235279707], [2.206463117632004, 41.426401488324885], [2.206353045320317, 41.42604912280401], [2.206139715295633, 41.425801116727065], [2.206067071838676, 41.4256125099141], [2.206766017232295, 41.42542241244007], [2.207298751508889, 41.42518332694811], [2.207539630150952, 41.42500187010157], [2.207771476433551, 41.42498624009511], [2.207976265744053, 41.42502257926773], [2.208061437377276, 41.42504135165921], [2.208099503705431, 41.42505137777832], [2.208177889721677, 41.425074101788724], [2.208240124577815, 41.42509455370257], [2.2082806621796, 41.42510901853292], [2.208321266814729, 41.42512486285288], [2.208361014233827, 41.42514231359587], [2.208395271055128, 41.425157591777015], [2.208434686558649, 41.42517576981519], [2.208491164071184, 41.42514891892067], [2.208658502310454, 41.42502270814502], [2.209087244133145, 41.42534473320392], [2.209257294190317, 41.42518670962952], [2.209314782305843, 41.42498252273257], [2.209371736133777, 41.424722512873046], [2.209494679432147, 41.42447220708298], [2.209599160907626, 41.42434387950507], [2.209801492918728, 41.4241735781139], [2.210051490327954, 41.424030360331244], [2.210368117845569, 41.423891292399816], [2.210603945597465, 41.4237587896125], [2.210772170391774, 41.423634431933394], [2.210949439684343, 41.42346912053842], [2.211130510041343, 41.42321244787203], [2.211322568571125, 41.42256529724868], [2.211446137750301, 41.422375550757124], [2.211511523868613, 41.42231640999849], [2.211610114022124, 41.42222723615438], [2.211815071710365, 41.42207226813143], [2.211278904636191, 41.421670976935914], [2.21193727209151, 41.42117559198566], [2.211966173350746, 41.42119773395003], [2.212477227371795, 41.42081385984889], [2.212589468268021, 41.4208983102053], [2.213738612980017, 41.42003592603125], [2.213786845115771, 41.41999972854454], [2.214021126692307, 41.42017264514392], [2.215035750828818, 41.41941317142424], [2.215125300950912, 41.41934434826522], [2.215552102968025, 41.41901632905006], [2.21632111370544, 41.418437386466316], [2.216093193298621, 41.41826666882823], [2.217791988570569, 41.41698908291044], [2.218193624539976, 41.41729369488889], [2.219413653725985, 41.41559748458441], [2.220442767398682, 41.41416662393745], [2.220650184306792, 41.41394957244931], [2.220884280498519, 41.41377395372319], [2.221368269280401, 41.41351379461642], [2.220975584420126, 41.413078083550346], [2.22279454995632, 41.41231689460326], [2.22288029958364, 41.412160553496975], [2.223113555517674, 41.412055614340524], [2.223250693579251, 41.41198748797438], [2.227213481265915, 41.41037752875024], [2.226746893528155, 41.40965680664869], [2.226777056188933, 41.40955057143049], [2.226804674458472, 41.409449332673525], [2.226808618566031, 41.40943152434412], [2.226810009292807, 41.409415140054044], [2.22680785621908, 41.409398948128626], [2.226800496815701, 41.40937785716921], [2.226792314502701, 41.40936158869498], [2.226781644186354, 41.409345267469654], [2.226770826903457, 41.40933326885198], [2.22677013214652, 41.409332630956115], [2.226755251088762, 41.40931896836465], [2.226637833144167, 41.409236644253504], [2.226417354090588, 41.40889582186963], [2.226450457020086, 41.4086338182924], [2.226509702317057, 41.408612859835166], [2.226521884684827, 41.40860760029054], [2.226528974341308, 41.408603000085286], [2.226533694373559, 41.40859643833099], [2.226535968725495, 41.40859029249492], [2.226535758944723, 41.40858376965931], [2.226533109467426, 41.40857715836268], [2.226437535205565, 41.408456319820274], [2.226402540087602, 41.40840884923053], [2.226394876664776, 41.408401303468644], [2.226388553991525, 41.40839773001854], [2.226378249622849, 41.40839495848487], [2.226367823903498, 41.40839434793285], [2.226359009399892, 41.40839508132296], [2.226271630316822, 41.408426596451136], [2.226266137791469, 41.408429694122304], [2.226261263090862, 41.40843315624782], [2.226256660979097, 41.40843784522543], [2.226254589135837, 41.40844305563862], [2.226253131697925, 41.40844891872321], [2.226252979137618, 41.40845370968387], [2.226257804617017, 41.40846649674632], [2.226338998201703, 41.40864575141581], [2.226346381788358, 41.40865268278992], [2.22635471349298, 41.408657350650515], [2.22636454192632, 41.40865990280617], [2.22637453657462, 41.40866054648999], [2.226382693125005, 41.40865879983553], [2.226408486399909, 41.408648890276154], [2.226411058512553, 41.408647902333925], [2.226410234059483, 41.40865386155272], [2.226409959234638, 41.40865584855943], [2.226378045266925, 41.40890535771791], [2.226356898102907, 41.40890383737691], [2.226145474659203, 41.40857797464333], [2.226144028300423, 41.408575744568004], [2.226163383148328, 41.40858028391479], [2.226218842997117, 41.408560732338444], [2.226210918122435, 41.40854799648987], [2.22615125486705, 41.408561827054896], [2.226116326385659, 41.40853698365119], [2.226132871676501, 41.40850585694967], [2.226177259617726, 41.40849981422233], [2.226231699290172, 41.40851783504134], [2.226248536888353, 41.40854273689894], [2.226268310835807, 41.408537969801976], [2.226257881699033, 41.40851344432151], [2.226227272127248, 41.408487612149045], [2.226184345142912, 41.408475397524505], [2.226175984491412, 41.40847599523761], [2.226083441916127, 41.408333859655805], [2.225897158146142, 41.40804543855063], [2.225949967612229, 41.40800521508487], [2.226058351292634, 41.40792265190095], [2.226076654605978, 41.407908714321664], [2.226082603018392, 41.40790147627825], [2.226082519750498, 41.407895386651866], [2.226079086429602, 41.40788829267439], [2.2259475251576, 41.40774933176422], [2.225938255870961, 41.40774403604876], [2.225930129475345, 41.407742242929665], [2.225837543535872, 41.40776091404468], [2.225826787595142, 41.40776494908907], [2.225818613784872, 41.40777118132076], [2.225813878464139, 41.407778022176096], [2.22582849816438, 41.40794336303504], [2.225721066385989, 41.40777542498073], [2.225599404264267, 41.407586781895056], [2.225427167904199, 41.40732075710621], [2.22542683785401, 41.407320340539464], [2.225426555656831, 41.407319924294896], [2.225431742948311, 41.407317338035476], [2.225502410906468, 41.40727541547993], [2.225536571576472, 41.40724595672354], [2.225588176933963, 41.40721138201953], [2.225639367447422, 41.40717143603272], [2.225674533389628, 41.40714597432095], [2.225708134735711, 41.407148497365185], [2.225734107996844, 41.40712943214476], [2.225731125597759, 41.40710754187533], [2.225745658800963, 41.4070967315988], [2.225767179405664, 41.407100002018595], [2.225782068605276, 41.40709850788353], [2.22581087083192, 41.40708603715366], [2.225836034572579, 41.40708779179283], [2.225836916015074, 41.40709618370218], [2.225894072502412, 41.40710696292166], [2.225894653449212, 41.407138655200015], [2.22597248844729, 41.407146042567675], [2.226009690900536, 41.4072261983319], [2.226051562677679, 41.40726273516976], [2.226040782123752, 41.40727086847954], [2.226055318715209, 41.40728799943786], [2.226068493153701, 41.40728582717647], [2.226087429398588, 41.40731028379665], [2.226062731779404, 41.40735191244549], [2.22610629683644, 41.407367761428745], [2.226096558961243, 41.4073807838194], [2.226124523587017, 41.40740159908037], [2.226143060311456, 41.40739217581407], [2.226172530538478, 41.40740911895951], [2.226193845656779, 41.407428709498916], [2.226225559442631, 41.407428994846086], [2.226275113653047, 41.40742973703967], [2.22627233599586, 41.40744240631826], [2.226272393525884, 41.407472852039014], [2.226278592390774, 41.40748080230597], [2.226288812509865, 41.407491671020324], [2.226304835165667, 41.40749851637303], [2.226315151220569, 41.40750735003622], [2.22632341791413, 41.40751849385156], [2.226331882532992, 41.407531107218894], [2.226341367759318, 41.40754744754387], [2.22635542225259, 41.40755581092929], [2.226372803405035, 41.40756311578192], [2.226379134090624, 41.40757407543311], [2.226383543157471, 41.40758968804565], [2.226388095692093, 41.40760127527238], [2.226402060058269, 41.40760715197739], [2.226412376129208, 41.407621029829095], [2.226421748686434, 41.40764182809975], [2.226426752710102, 41.4076647768116], [2.226428178202731, 41.407689845246786], [2.226432901118116, 41.40770320809362], [2.226439384150133, 41.40771242131154], [2.226447296802937, 41.40772113972119], [2.226444572122173, 41.407734992944334], [2.226441143837357, 41.40775268763709], [2.226440746021723, 41.40776706092413], [2.226463832120647, 41.40778866298352], [2.226480357738878, 41.40780455521786], [2.226496955999873, 41.407820375878195], [2.22651081178147, 41.40783339478324], [2.226522742539571, 41.407844292991534], [2.22654033089509, 41.40786036350398], [2.226550841229019, 41.40786997309627], [2.226568086079178, 41.4078857530554], [2.22658893287179, 41.407897440799545], [2.226615290723011, 41.40790648135125], [2.226632382743488, 41.40791900856785], [2.226652339350372, 41.40792404278588], [2.226671785171348, 41.40793280267003], [2.226680870934074, 41.40794248374272], [2.226692908869794, 41.40794838349415], [2.226705582563964, 41.407947081521634], [2.226720821981825, 41.4079503725991], [2.226734023904397, 41.407961027118965], [2.226745756256166, 41.40797050078642], [2.226758321351235, 41.40798138521836], [2.226768922505559, 41.40798132135186], [2.226781053597764, 41.40798642906059], [2.226779058952927, 41.40799926034291], [2.226772390145974, 41.40801075412585], [2.226770939078563, 41.40802113001509], [2.226775830308929, 41.40802938672907], [2.226795365569643, 41.408033634438596], [2.226809083306411, 41.40803509576431], [2.226820517007941, 41.40803948719021], [2.226824677535258, 41.408052864256035], [2.226819137137246, 41.40806505019412], [2.226807036094766, 41.408076579533606], [2.226807000204587, 41.40807657929242], [2.226798217833367, 41.408090752113885], [2.226799682334755, 41.408108506719685], [2.226808385748457, 41.40812117570075], [2.226815585180498, 41.40812951097689], [2.22682632237926, 41.40814219362386], [2.22683874086654, 41.40815434711829], [2.226845166974304, 41.4081673610929], [2.226855113768611, 41.40818616352179], [2.226866754627171, 41.40819326759084], [2.226882913824839, 41.40820274396853], [2.226884458477815, 41.408223831884385], [2.226890942349123, 41.408252158984574], [2.226908042622969, 41.408262992806314], [2.226918012843328, 41.40825963695131], [2.226923585471864, 41.408263907917295], [2.226940279820748, 41.40826861391073], [2.226968155681948, 41.408268711131775], [2.226982923074586, 41.40827448507145], [2.226999323713252, 41.408283782904974], [2.227013891281611, 41.408276134331864], [2.22702338509659, 41.40827259511716], [2.227037603431583, 41.408274221913764], [2.227048481614256, 41.40827501559465], [2.227052568698389, 41.40827531417763], [2.227009736921117, 41.40835307545823], [2.226980120886801, 41.40841095680184], [2.227243768198526, 41.40894813328943], [2.227369185578975, 41.40898605042053], [2.227503346851262, 41.40940897033774], [2.227692558477949, 41.40958041013274], [2.22769326802982, 41.40958232538477], [2.227702529360878, 41.40960731938948], [2.227711829949925, 41.40961404736327], [2.227719460677997, 41.409616296411514], [2.227748062510679, 41.409621820827994], [2.227785289705974, 41.409624511723884], [2.227785981869849, 41.40962456140697], [2.227843904742734, 41.40961933308341], [2.227885933545636, 41.409615540151414], [2.22788706562182, 41.40961400566594], [2.227939181252122, 41.40954336014121], [2.227952600322818, 41.40951257520582], [2.2279919030933, 41.40942240911087], [2.228012530323007, 41.40937508793827], [2.228027498622643, 41.40931945000565], [2.228032057112702, 41.40929458838485], [2.228042211459972, 41.40923920098503], [2.228044995904277, 41.40922401591985], [2.228039974603277, 41.40919094724883], [2.228029526905128, 41.409122140969586], [2.228017514181817, 41.40904303312677], [2.228004626956329, 41.408994844840834], [2.228002436317627, 41.40898665313957], [2.228001938458374, 41.40898595712277], [2.227997747369648, 41.40898008854246], [2.227995092181358, 41.40897637134893], [2.22796489301006, 41.40894015314993], [2.227945066970743, 41.40891637544204], [2.227928797751268, 41.40889686232659], [2.227908266278245, 41.40887223857851], [2.227890853079252, 41.408833138192044], [2.227871251185393, 41.408789121236445], [2.227846150474878, 41.40874661756341], [2.227805241879875, 41.408689199470686], [2.227749481054295, 41.40862912354712], [2.22770331438501, 41.408555024276126], [2.227636946344828, 41.40840764852389], [2.227581858921885, 41.40836055143213], [2.227548776182843, 41.40833226737972], [2.227530329382612, 41.408280662098086], [2.227529181744827, 41.408277451327926], [2.22748987126614, 41.40817304274334], [2.227477793402165, 41.40815333431821], [2.227451445590818, 41.40812019898369], [2.22743718405857, 41.4081050516989], [2.227432825505154, 41.40810100689125], [2.227431894143468, 41.40810014312389], [2.227425030276069, 41.408093773773174], [2.227421056694738, 41.40809187353231], [2.227420242540825, 41.40809172034245], [2.227358682175966, 41.40808012325062], [2.227266972430327, 41.408074319028714], [2.22719992949051, 41.40807791309999], [2.227183668361962, 41.408079055918], [2.227167152496629, 41.40808251194872], [2.227117359348007, 41.4081004743972], [2.227110330154735, 41.40810300962697], [2.227074563867016, 41.4081171462208], [2.227057355082998, 41.408123947467914], [2.227047135521778, 41.408134210408235], [2.227033323638104, 41.40816289656203], [2.22702191486486, 41.40818880023049], [2.227019159484274, 41.40819505724014], [2.227000055999253, 41.40818768686898], [2.226974109472222, 41.40816613775953], [2.226916695851408, 41.40811438225687], [2.226910097568686, 41.4080923758483], [2.226907441236478, 41.408083515342256], [2.226906728794504, 41.40808114068334], [2.22692027911413, 41.408072503469604], [2.226935020837522, 41.4080602532466], [2.226935029512286, 41.40805841127228], [2.226935101504333, 41.40804335572897], [2.226929211490509, 41.40802851683978], [2.226935772997486, 41.408010933260464], [2.2269502242891, 41.408001986834456], [2.226966302988771, 41.40799826668023], [2.226967512314084, 41.40799798656563], [2.226973994392579, 41.40799396593573], [2.227000308409259, 41.40797764280142], [2.227011035413319, 41.40796393340372], [2.227011729799382, 41.407960160325665], [2.227020127901273, 41.407914507314786], [2.227021303457914, 41.40788901499494], [2.227013850435658, 41.40784554879786], [2.226993752237131, 41.40779593559908], [2.226970837240524, 41.407750598244625], [2.226954981953815, 41.40771922670038], [2.226947038517952, 41.40770351109654], [2.226947260506867, 41.40766863556721], [2.226937233836625, 41.40764446414096], [2.226926341793731, 41.40762769106017], [2.226904769221814, 41.407612838670616], [2.226903959858552, 41.40761228197352], [2.226866677973984, 41.40760128551578], [2.226834726266977, 41.40761056560697], [2.226816998785603, 41.40761571496172], [2.226806564792178, 41.407628930899016], [2.22679932661626, 41.4076433437902], [2.226790046973027, 41.40766182335682], [2.226791440197311, 41.4076724705714], [2.226791762733657, 41.40767493448736], [2.226799888911782, 41.407687443761], [2.226808490588324, 41.40769536871229], [2.226811155832884, 41.40769782405132], [2.22681029571874, 41.40769973146316], [2.226766884946951, 41.40779596043993], [2.226745633463187, 41.40784665591705], [2.226741036288344, 41.407876160595805], [2.2267001906119, 41.40787914678713], [2.226666094170546, 41.40786385708439], [2.226633334423945, 41.40782463443543], [2.226626067849571, 41.407787663870266], [2.226618603788602, 41.40777440871091], [2.226598860006536, 41.40776656557922], [2.226558979372195, 41.40775678557994], [2.226521323437471, 41.40771175618033], [2.226507098414368, 41.407701626199874], [2.226487105471301, 41.407691592552645], [2.226475762039625, 41.40766890567667], [2.226473630333702, 41.407664641608925], [2.226478442488711, 41.407655351204085], [2.226481714860929, 41.40765584339559], [2.226493801140963, 41.407657661296305], [2.226510495523685, 41.407657305140255], [2.226518707712746, 41.407646821579476], [2.226521141628059, 41.40762822845723], [2.226540452858443, 41.40751617893447], [2.226540675715114, 41.40746712561349], [2.226537153800078, 41.40745418338761], [2.226503599659725, 41.40733085417587], [2.226502040948577, 41.40732710288403], [2.226485127928659, 41.40728638609181], [2.226511651978468, 41.40726121731686], [2.226517325252002, 41.40723883580012], [2.226493629627811, 41.407218202461536], [2.226485353547766, 41.40720381589634], [2.22648449531252, 41.407191442834865], [2.226486347181419, 41.40718934032494], [2.226493700073512, 41.40718099297047], [2.226511063228381, 41.40717165092867], [2.226521213809011, 41.407166189466416], [2.226518669719483, 41.40714867980657], [2.226511329230728, 41.40713409236035], [2.226487226239941, 41.407123598721824], [2.226483302218352, 41.40711046643431], [2.226475290412929, 41.407095991569925], [2.226462550766702, 41.40708935116507], [2.226458996649293, 41.40708749874843], [2.22645883374682, 41.40708741388348], [2.226437617201836, 41.407087757643176], [2.226418601134706, 41.40709019692554], [2.226403178080569, 41.4071032117437], [2.226392033174025, 41.40711261539613], [2.226383484833224, 41.40712360381069], [2.226366549301425, 41.407140265497404], [2.226344493139763, 41.40716196577116], [2.226342744769822, 41.40716986619898], [2.226341269528951, 41.407176527230426], [2.226350660353584, 41.40720283821845], [2.226347861553085, 41.40721487142804], [2.226337566720375, 41.40722543104818], [2.226321034475252, 41.407228265330914], [2.226313205136329, 41.40723774261335], [2.226281516056632, 41.40727269477923], [2.226270341298981, 41.40729792168608], [2.226266205032657, 41.40731377408475], [2.226267117797829, 41.40732860656046], [2.226268293148294, 41.40733441619236], [2.226265821029513, 41.407335955162125], [2.226228142499882, 41.40735941940818], [2.226219642866052, 41.40735994503095], [2.226197283202864, 41.40731848087519], [2.226109725149921, 41.407254290046275], [2.226092541100698, 41.40723250242672], [2.226053089400063, 41.40718247964693], [2.226065998323313, 41.40717445072753], [2.226132778917433, 41.40721618216891], [2.226143501872347, 41.40722288290742], [2.226161124320613, 41.40721286800123], [2.22615729517735, 41.407188720173934], [2.226157898713969, 41.40718030582781], [2.226158166811171, 41.407176566818045], [2.226162857839105, 41.40711113999706], [2.226158615737611, 41.40709467188509], [2.226121549937603, 41.40708334696468], [2.226120395992259, 41.40708299421599], [2.226106667075194, 41.4070482140062], [2.226065549203238, 41.40697406785643], [2.226061862959501, 41.40696742165016], [2.226038832403079, 41.40694389678112], [2.226036058046696, 41.40694106327594], [2.226038520432978, 41.40693983950788], [2.226063606488061, 41.406927368036214], [2.226064451232514, 41.40692675670503], [2.226103225023095, 41.40689869344405], [2.226129140512616, 41.4068941577365], [2.226164033389674, 41.40688805024492], [2.226198224833205, 41.40683336870535], [2.226202756704367, 41.406826120226526], [2.226207669049336, 41.406818265399586], [2.226205540207784, 41.406769799760056], [2.226199176504545, 41.40670617304493], [2.226181595817071, 41.406693220023975], [2.226122605741056, 41.406649757524086], [2.226094759942872, 41.4066219802651], [2.226059856645044, 41.40661123373947], [2.225953047756076, 41.40660867769384], [2.225883247176078, 41.406610874302224], [2.225861847293134, 41.40661962071667], [2.225847946608305, 41.406625535186876], [2.225837068339196, 41.40663162672245], [2.225655384449082, 41.406733374196016], [2.22559860206976, 41.40681887850186], [2.225595010838747, 41.40682428585051], [2.225592574448267, 41.40682614120955], [2.225473855431348, 41.40691652676588], [2.225427509378854, 41.406961603537404], [2.225429696315001, 41.40696695159844], [2.225432330847665, 41.406973396182664], [2.225438856721981, 41.40698935996345], [2.225466660947121, 41.40701226584568], [2.225471652606364, 41.4070163780426], [2.225469895757217, 41.40701762996751], [2.225460675863002, 41.40702420462349], [2.225391652746704, 41.40707341988898], [2.225365519430684, 41.40709205339625], [2.225024054609891, 41.40733552431624], [2.225020746121051, 41.40733052268798], [2.225011910138729, 41.40731716720751], [2.225001178396566, 41.40730094538227], [2.224868451570785, 41.40708317781038], [2.224778884040018, 41.406937052862034], [2.224783985955411, 41.40693309331406], [2.225286554815573, 41.406543048989825], [2.225317458417709, 41.40653465401149], [2.225357191257942, 41.40652386122529], [2.225393161992509, 41.40650516063706], [2.225415848305764, 41.40649286590991], [2.225638580694825, 41.406372159577174], [2.225691423060148, 41.4063290630462], [2.225752535832198, 41.406256863075974], [2.22575274820105, 41.40625661049365], [2.225759083460924, 41.40624912646099], [2.225798534189674, 41.406151921803], [2.225801737185428, 41.406140311974625], [2.22580642297614, 41.40612332203732], [2.225804250088057, 41.406095726459895], [2.225799381423883, 41.406053340447215], [2.225780060064566, 41.406019035989274], [2.225774032232109, 41.40601292077118], [2.225746924111112, 41.40598542221767], [2.225717290586948, 41.40596718078199], [2.22564136367935, 41.405941286670355], [2.225631948912115, 41.405942221336694], [2.22560079395284, 41.40594531289625], [2.225500190102718, 41.405955297899744], [2.225415543212867, 41.40602093317269], [2.225374260766395, 41.406061792481495], [2.22533170537489, 41.406100127410454], [2.225247618742428, 41.40617587544353], [2.225212285866974, 41.406204744342425], [2.225149724156912, 41.40625586032784], [2.225130276426402, 41.40627350114544], [2.225114590436291, 41.40630984884271], [2.225110861820299, 41.40632007155989], [2.225055148643327, 41.40633640793236], [2.224966825348782, 41.406381111707525], [2.224918783869438, 41.406426906464816], [2.224785508198666, 41.4064316202369], [2.224686070838305, 41.40647021388853], [2.224644444658509, 41.40640708807691], [2.224546195417369, 41.40628538320008], [2.224526718463999, 41.406262201743786], [2.224490435333893, 41.406229692337845], [2.224440273716876, 41.40619720646758], [2.224327681345609, 41.40616695691432], [2.224203576458846, 41.40618123474868], [2.22406327489036, 41.406238531113175], [2.223935316260051, 41.406320266830924], [2.223894770238978, 41.406304176172554], [2.223864544330996, 41.40624627025871], [2.223857766356799, 41.40623976616119], [2.223840493554949, 41.406236479002466], [2.223761215173414, 41.40624593348162], [2.2236516252542, 41.40618569595007], [2.223549225559482, 41.4061705064882], [2.22343333228621, 41.40617938396695], [2.22317109916976, 41.40600915192953], [2.223075727854832, 41.4058369601914], [2.22290749943727, 41.40574186689341], [2.222864102767788, 41.405637744364334], [2.222786436204708, 41.40553910107977], [2.222680018764613, 41.405393442532635], [2.222565946938267, 41.40536303714013], [2.222493696421222, 41.405351064362016], [2.222448091044519, 41.4053369476756], [2.222421946578192, 41.405310144825364], [2.222402582807048, 41.40531067150599], [2.222315900613431, 41.40532406527555], [2.22226915128987, 41.40534307846841], [2.22217005111989, 41.40525671212109], [2.222084870632174, 41.40518733696656], [2.221923308463077, 41.405075254118124], [2.221886483224317, 41.405063277316934], [2.221846619207734, 41.40506664133868], [2.22180257988349, 41.40508343610952], [2.221785818035817, 41.405093510217405], [2.221765888803581, 41.40511235421657], [2.221750711734712, 41.405148029339244], [2.221750782404582, 41.40516667083345], [2.221761178587855, 41.405200289577984], [2.221776702849658, 41.4052207425196], [2.221802966466651, 41.40524555566525], [2.221822549499936, 41.405262748315906], [2.221809420373019, 41.40529623946719], [2.221817411681156, 41.40531533536604], [2.221520949287628, 41.405533607301834], [2.221465478243663, 41.40549015361283], [2.221429449788096, 41.4054619298306], [2.221427790368302, 41.40546062962867], [2.221440126927507, 41.40545105707133], [2.221424018884413, 41.40543862131094], [2.221373456628932, 41.40539958744551], [2.221349242425305, 41.40541777184826], [2.221347532237195, 41.40541651543833], [2.220971453579107, 41.405140237245426], [2.220987543609167, 41.40512421916411], [2.221013947039206, 41.405097933002736], [2.221455220201253, 41.404658623715164], [2.22148801028266, 41.404677773945515], [2.221524582070806, 41.40469913317124], [2.221745514712658, 41.40448470004264], [2.221713277048349, 41.4044668804264], [2.221712205982389, 41.40446279638745], [2.221706519029993, 41.4044410921821], [2.221688003304853, 41.40440666637725], [2.221720306801615, 41.40436041520682], [2.221900024613964, 41.40422305937059], [2.221975752141633, 41.40415104308896], [2.222066656241212, 41.4041061338534], [2.222132722321478, 41.40408180900293], [2.222174621374544, 41.404077588513424], [2.222207452991231, 41.40408231421183], [2.222221371306346, 41.40408503578735], [2.222243236461971, 41.40408931172957], [2.222272889489281, 41.40410977814584], [2.222305453839327, 41.40413702075796], [2.222372156682151, 41.40419805783928], [2.222571929693868, 41.40453192869324], [2.222765707016465, 41.404840122442096], [2.222850895876956, 41.40496454197518], [2.222861460275025, 41.40497997201704], [2.223103788281665, 41.40516794755789], [2.223203906069024, 41.40524560972435], [2.22322640188822, 41.40527140594762], [2.223241994260441, 41.40528517558866], [2.223262836231542, 41.40529212596158], [2.223310851943217, 41.405300761320575], [2.223355250359392, 41.40530874712202], [2.223379156376823, 41.40529750499608], [2.223387127360376, 41.40528720017686], [2.223390343596923, 41.40527059224346], [2.223400716316087, 41.405217033416214], [2.223384696276472, 41.40514573902776], [2.223337253922549, 41.40507289041395], [2.223281908197051, 41.405010707349255], [2.223126145949507, 41.40487961447822], [2.223047824661949, 41.40476968954944], [2.223045228349548, 41.40476639058537], [2.223038505972136, 41.404757850218395], [2.222934638229598, 41.4046258860925], [2.222765121270762, 41.40431492816547], [2.222746550906828, 41.40428072644686], [2.222662453588647, 41.40412584272909], [2.222618414572474, 41.40404361297298], [2.222462028773648, 41.40380496272592], [2.222225578790991, 41.40357098280045], [2.222220565417537, 41.403566021807876], [2.222192833427577, 41.403549314582634], [2.222151945183072, 41.40352468188292], [2.222079356783329, 41.40350349999478], [2.222035943977481, 41.40349083106081], [2.222023840642127, 41.4034895151954], [2.222000890123379, 41.40349490862986], [2.221950304193713, 41.403547413567566], [2.221960016395768, 41.40359774109419], [2.222056879677143, 41.403735607309535], [2.222103491347862, 41.40380377685551], [2.222153028627055, 41.403876224906526], [2.222140865671437, 41.403881406660545], [2.221823672157457, 41.40401654148676], [2.221779752225005, 41.40404945868299], [2.221021508053506, 41.40461773953978], [2.22101410443396, 41.40462328847499], [2.22069453207952, 41.40486279374665], [2.220694204928415, 41.40486303923696], [2.220307277145359, 41.40515302097696], [2.220192905727268, 41.40513989568921], [2.219997394470584, 41.40504875666909], [2.219869547683559, 41.40501789491927], [2.219216130142838, 41.40478033958138], [2.218870285302057, 41.404603282704905], [2.218493954561246, 41.40438265562533], [2.218000654168365, 41.403995710583295], [2.217564877154023, 41.40352924007905], [2.217151195402352, 41.40293978571745], [2.217153879163359, 41.40292440475615], [2.217160521094743, 41.402911957446015], [2.217183202508739, 41.40289650627264], [2.217220325632927, 41.40287351949206], [2.217242981427348, 41.40285980207618], [2.217260173063544, 41.402852803107926], [2.21728012072223, 41.402835464261095], [2.217291038203304, 41.40282292803084], [2.217307801045239, 41.40281178268843], [2.217327996231425, 41.402803723241945], [2.217347862801429, 41.40279313945655], [2.217372865965364, 41.40277322280718], [2.217388353983332, 41.40275864593145], [2.217400358852494, 41.40274521633689], [2.217429001161765, 41.40273108922793], [2.217454286426633, 41.40271756980438], [2.217475182338415, 41.40270095797254], [2.217496026373968, 41.40268866938413], [2.217524328134918, 41.40267300866009], [2.217541712787696, 41.402659885861894], [2.217559397185801, 41.40264172089924], [2.217565225863841, 41.40262455621104], [2.217569727570335, 41.40261828157404], [2.217581253579426, 41.402614847029135], [2.217589859221744, 41.4026055377489], [2.217608781664508, 41.402593866597606], [2.217635946246069, 41.402583242313135], [2.217662047170089, 41.40257152988976], [2.217684295284296, 41.402561862989025], [2.217695467012306, 41.40254806739818], [2.217697919181111, 41.40253313162025], [2.217706169166135, 41.40252354968793], [2.217717659504158, 41.402523087361885], [2.217735978381817, 41.40251186246078], [2.217758864548181, 41.40249886710829], [2.217792322933069, 41.40248216047565], [2.217816180106227, 41.40246800073787], [2.217845880454113, 41.402455411991866], [2.217882640984588, 41.402432692755], [2.217914846084439, 41.40241075321659], [2.217944782640197, 41.40238843794959], [2.217998162563596, 41.40234655558564], [2.218040335406395, 41.40231144273171], [2.218074597739705, 41.40228753547913], [2.218103009094337, 41.40227268603093], [2.218172523020563, 41.402222175949404], [2.218191663982617, 41.402212217611115], [2.218216401511977, 41.4021944607708], [2.218233597388584, 41.40217710305818], [2.218255496130917, 41.402166622996965], [2.218286411029192, 41.40214251278664], [2.218308400420285, 41.40212446703002], [2.218318864106509, 41.40209985756527], [2.218335060668966, 41.40209600429998], [2.218347870016276, 41.40209528064665], [2.218350942613871, 41.402088455819474], [2.218338647377295, 41.402086210490374], [2.218326468526212, 41.402084236175696], [2.218324064385804, 41.402075212341174], [2.218335530186731, 41.402056824858754], [2.218342744428511, 41.402043812992645], [2.218360875626082, 41.40202826311491], [2.218364350259231, 41.40201783801788], [2.218367393710116, 41.40201344501755], [2.218382356247501, 41.40201273598781], [2.218395356608008, 41.401996070349114], [2.218411512475769, 41.401975642993655], [2.218448055045572, 41.40194112226561], [2.21849847825108, 41.4018963371803], [2.218536787009265, 41.40186417037027], [2.218577134703136, 41.40183156701968], [2.218617821802142, 41.40180058731001], [2.218661942436041, 41.40176260505076], [2.218702722231135, 41.40172387948829], [2.218743262733692, 41.40168515228618], [2.218796102786337, 41.40163831175279], [2.218851905264593, 41.40159383325766], [2.218891012194434, 41.401564914447036], [2.21892638601013, 41.40153804200622], [2.218943687125004, 41.40152185587452], [2.218947124968554, 41.401514493059835], [2.218943242162148, 41.40150906220054], [2.218939556538409, 41.401507145605585], [2.218909785744331, 41.40151568078294], [2.218891888769943, 41.40152168438668], [2.218884283574011, 41.40152739755767], [2.218866030964733, 41.40153312851793], [2.218851288370052, 41.40153546045452], [2.218838500603359, 41.401544381137825], [2.218831495666187, 41.40154991823056], [2.218823468064824, 41.401550944628426], [2.218815893172565, 41.401544137572365], [2.218805556195289, 41.40153821251271], [2.218790503273819, 41.40153648895848], [2.218777892292609, 41.40154063685912], [2.218766262976717, 41.40155271802582], [2.218748862684584, 41.401567192031784], [2.218727596729166, 41.401584792412116], [2.218708150981587, 41.401600243347886], [2.218687929235841, 41.401620553062024], [2.218674287893962, 41.4016308190559], [2.218669410234994, 41.401638532384865], [2.21865437644369, 41.40165518424705], [2.218636719592659, 41.40167109769378], [2.21862316009125, 41.40168451686296], [2.218615305756841, 41.40170103732643], [2.21860670994888, 41.401719534404165], [2.218603422968028, 41.401724286057316], [2.218591620160694, 41.40173087145142], [2.218579385259668, 41.40173358068386], [2.218564052052624, 41.40173527804716], [2.218557150508271, 41.40174216695042], [2.218539970093408, 41.40174826544067], [2.21852118495001, 41.40175849647988], [2.218505835390745, 41.40177154317673], [2.218502324104153, 41.4017850305802], [2.218498459345041, 41.40179806520756], [2.218492662444202, 41.401802619659385], [2.218485283637036, 41.40179941691447], [2.218475095246149, 41.40180105913615], [2.218462404335745, 41.40181187201031], [2.218450301819707, 41.40182349955497], [2.218440598388382, 41.40182460461765], [2.218432478105357, 41.40182337848308], [2.218417031554601, 41.40183453293364], [2.218404440823917, 41.40184696783215], [2.218400034051071, 41.40185531487319], [2.218387664210149, 41.401869282545626], [2.218373217612253, 41.40188683910925], [2.218357540244591, 41.40190726971034], [2.21834185441626, 41.40191842252506], [2.218319037649285, 41.40192565366592], [2.218304080338554, 41.40193591067465], [2.218287134584204, 41.40195236934788], [2.21827984605507, 41.40196159755536], [2.218273111574198, 41.401964524275584], [2.218267118379987, 41.401975472708266], [2.218257800580132, 41.40198432682682], [2.218244351041655, 41.401988559045975], [2.21823566049575, 41.40199498539916], [2.218233119075169, 41.40200739848337], [2.218223221302406, 41.402024715709736], [2.218214406808879, 41.402031501519126], [2.218203813087492, 41.40203701418814], [2.218182604048152, 41.402049840876714], [2.218165259631981, 41.40205963127164], [2.218148803311025, 41.40206519417317], [2.218137297941381, 41.402066917490515], [2.218124787005797, 41.40207268734898], [2.218110287608107, 41.40208465886916], [2.218090117350461, 41.40210064522514], [2.218072240430169, 41.40211493573773], [2.218057001681934, 41.40212870372669], [2.218039454692341, 41.402135430175335], [2.218019500125772, 41.40214340130855], [2.217988915081191, 41.402159947387915], [2.217969754666696, 41.40217152691049], [2.217942265753083, 41.40218926499636], [2.217913319750578, 41.40220879467145], [2.217895579664358, 41.40222164488613], [2.217878326702984, 41.40223377780925], [2.21787525836902, 41.402240242352484], [2.217871881925305, 41.40224247127572], [2.217861795793249, 41.40224555533808], [2.217843324988288, 41.402259481477415], [2.217840872045467, 41.40226450900293], [2.217832834620991, 41.40226634593965], [2.217825027801656, 41.40226890504354], [2.217821483128642, 41.402275186197066], [2.21781127304579, 41.40227862971236], [2.217797409463779, 41.402287452889574], [2.217782679353065, 41.402298702199275], [2.217763412200016, 41.40230920006131], [2.217744485547198, 41.40232123151022], [2.217728912656659, 41.40233292545804], [2.217724097484603, 41.40233541482007], [2.217712171614493, 41.40234226951118], [2.217696480170186, 41.4023538725735], [2.217682699450971, 41.40236575885038], [2.217674547787835, 41.40236714462418], [2.217667321781892, 41.40237114886661], [2.217658717262281, 41.40238036808572], [2.217641985920817, 41.402388901519416], [2.217608209432887, 41.402412181421006], [2.217584675452601, 41.40242931578874], [2.217555020140123, 41.40244811994894], [2.217541380607833, 41.40245820566864], [2.217539672386093, 41.40246098637689], [2.21753052482386, 41.40246560806793], [2.217521132611073, 41.40247067846944], [2.217513410802626, 41.40247612053034], [2.21750638620372, 41.40248327875747], [2.217504097150882, 41.40248461431494], [2.217496693464541, 41.40248348306283], [2.217489465273783, 41.402487667429135], [2.217482966708731, 41.402490865932144], [2.217482878104125, 41.402498251479955], [2.217480075978917, 41.402502465947634], [2.217469749460979, 41.402505638415484], [2.217450607223169, 41.402515686699076], [2.217425519139131, 41.40253272038873], [2.217403789146534, 41.40254905631386], [2.217382423417218, 41.40256494433752], [2.217364943991101, 41.40257599474213], [2.217364920606745, 41.40257594954555], [2.217342600031657, 41.40259165091671], [2.217340783145937, 41.40259281854021], [2.217170260686132, 41.40254243247453], [2.216614078371832, 41.40228005964924], [2.216147893747117, 41.401950506841104], [2.215712737053245, 41.401553066928585], [2.215295002034161, 41.40104937458029], [2.21492133932261, 41.40047557876931], [2.214561964847634, 41.39974396869021], [2.214563454404727, 41.39974345642327], [2.21460301580494, 41.3997285218113], [2.21460703187658, 41.39972681978435], [2.214614428056982, 41.399722582698615], [2.21461927127054, 41.39971875153882], [2.214625093192182, 41.399712125725586], [2.21463060054149, 41.399699832044824], [2.214636087461689, 41.399691222293455], [2.214642303068762, 41.39968568006701], [2.214657089633591, 41.39967669242313], [2.214657137697734, 41.39967667473619], [2.214702628783329, 41.399654106169514], [2.214718163614205, 41.39964556499248], [2.214728774581469, 41.39963861155905], [2.21473348631055, 41.39963477048947], [2.214739784517069, 41.399628328070975], [2.214750003743465, 41.399614165958646], [2.214757543663375, 41.399603948861795], [2.214762026994034, 41.39959920548185], [2.214782927993375, 41.399582143789054], [2.214791382566657, 41.399575445858595], [2.214810209932384, 41.39956170278599], [2.214827958560285, 41.39954813249897], [2.214844280438057, 41.39953383187276], [2.214851989105524, 41.399529470798875], [2.214863648415714, 41.399524866457675], [2.214868707057938, 41.399522018575205], [2.214880823865499, 41.39950922052511], [2.214897695031317, 41.39949897701632], [2.214904910043782, 41.399495873621], [2.214915004556224, 41.39949206927269], [2.214919341150614, 41.39948957676137], [2.214923459104276, 41.399485371332204], [2.214927839056188, 41.39947927611461], [2.214930386801402, 41.39947632102193], [2.214940676802928, 41.399466212752095], [2.214946712974463, 41.39946166011007], [2.214962470704632, 41.39945447154613], [2.214975722961158, 41.39944672543543], [2.21498321405161, 41.39944056136726], [2.214997538527276, 41.39943318286965], [2.215007579521481, 41.39942388357025], [2.215016686331456, 41.39941268632057], [2.215032348268259, 41.399403515442394], [2.215042551138631, 41.39939070431743], [2.215052842193, 41.399380505969475], [2.215058641280995, 41.399375771553984], [2.215069017267863, 41.39936845618545], [2.215075162201535, 41.399364805029], [2.215082033510242, 41.399360438227106], [2.215084696526478, 41.39935784421748], [2.215090412839278, 41.399350046684084], [2.215098801919081, 41.399338844531506], [2.215105382644215, 41.3993288010179], [2.215116864436035, 41.399319061162124], [2.21513136917298, 41.39930663967462], [2.215145622749241, 41.399295207297534], [2.215162735220452, 41.39928478524522], [2.215180053329521, 41.399277156919474], [2.215199402764386, 41.39926972259659], [2.215217673470683, 41.39926246106285], [2.2152368140007, 41.39925250320738], [2.215254411416905, 41.39924154399856], [2.215268285519153, 41.39923182044387], [2.215283967962963, 41.399220938244945], [2.215296098717584, 41.39920696926967], [2.215305613053639, 41.39919172139862], [2.215315480820068, 41.39917692631234], [2.215330263724143, 41.39916126399456], [2.215360035610594, 41.399142641340646], [2.215374136993876, 41.399133910148436], [2.215388844042596, 41.39912455255926], [2.215399704921016, 41.3991167000167], [2.215464610786715, 41.39908120265244], [2.215486256686403, 41.39907180228822], [2.215503934635912, 41.39906408629172], [2.215521972515651, 41.39905628267146], [2.215541778652963, 41.399050652905366], [2.215561726065264, 41.39904322259794], [2.215580160689961, 41.39903226904653], [2.215596686851173, 41.399020852106126], [2.215610217166541, 41.399009865115154], [2.215624728238709, 41.39899690315733], [2.215639353507274, 41.39898439235139], [2.215650063899572, 41.39896915260458], [2.215661125557062, 41.398954545776625], [2.21567419254092, 41.39894229456873], [2.215686561310689, 41.398928417248875], [2.215700512165714, 41.39891229883554], [2.21570862994497, 41.39889379870852], [2.215714965379465, 41.398874295606156], [2.215718064661525, 41.398855310895094], [2.215719714464506, 41.39883748727952], [2.215713345619036, 41.398819969306324], [2.215701863001002, 41.39880989270469], [2.215673431645037, 41.398796638016556], [2.215652337969538, 41.398799917077255], [2.215635832450658, 41.39880962274085], [2.215620509014729, 41.39882050743625], [2.215602590828841, 41.39882831188844], [2.215583460226441, 41.398837459198006], [2.215565638904128, 41.39884715588093], [2.215549007245284, 41.398857401122285], [2.215533092198591, 41.398867741322086], [2.215517633951489, 41.39887988613526], [2.215503374032763, 41.39889185896666], [2.215488898704712, 41.3989018486763], [2.215459921573793, 41.39891408145485], [2.215438080901883, 41.39891978740911], [2.215421272799693, 41.398924807075545], [2.215396362337646, 41.398907252725174], [2.215396314057611, 41.39890728842595], [2.215367377109974, 41.39888534697948], [2.215337041545466, 41.39885636112579], [2.215344755457755, 41.398840614566936], [2.215366894918521, 41.398824984396704], [2.215387282458607, 41.39880781099949], [2.215399042769273, 41.39878982213853], [2.215406447343012, 41.39877293852019], [2.215418846621885, 41.39875752115333], [2.215435336097408, 41.398746167037885], [2.215469267352008, 41.39872484344144], [2.215518340901756, 41.39869376886557], [2.215549383931904, 41.398672875928376], [2.215579802566123, 41.39865018623219], [2.215590298137033, 41.39863689064672], [2.215598442520671, 41.398622146837965], [2.215598679122775, 41.398608439026894], [2.21558776001818, 41.39859527668074], [2.215572274647366, 41.398584812477054], [2.215551743631451, 41.39857612438004], [2.215530438542502, 41.398573114738085], [2.215505872813334, 41.39857664032503], [2.215480517383362, 41.398582169196054], [2.215458608460191, 41.39859554908448], [2.215418992384873, 41.39862007661631], [2.215390057301037, 41.39863379590326], [2.215362823194962, 41.39864135664103], [2.215338137694644, 41.3986518531848], [2.215323030162162, 41.39866169444255], [2.215308814744419, 41.39867394678646], [2.215295699704157, 41.39868422498187], [2.215281231216944, 41.39869364723958], [2.215264934934214, 41.39870186803865], [2.215250068540654, 41.39870856731182], [2.215237176054311, 41.398713271372344], [2.215223677880817, 41.39871064819812], [2.215214690115013, 41.398707983726496], [2.215203693417317, 41.39871221430853], [2.21519720664534, 41.398720420938645], [2.215193974914382, 41.39872753283994], [2.215180138124085, 41.398730185749265], [2.215163433805575, 41.398735530356355], [2.215149923370242, 41.39874386922422], [2.215135784389718, 41.398759707055106], [2.215131210567757, 41.39877496159221], [2.215123450767275, 41.39878656437126], [2.215110639185779, 41.39879448464886], [2.215096663609091, 41.398804693898484], [2.215085129656941, 41.3988157935308], [2.215074085844637, 41.39882791435372], [2.215060339343328, 41.39883200906537], [2.215045059158098, 41.398839290976746], [2.215031883059416, 41.398844695664664], [2.215019724470143, 41.39885302572468], [2.215013392465107, 41.39886825024672], [2.215006233811235, 41.39888655870291], [2.215000664272884, 41.39890104981068], [2.214996040601451, 41.39891348465269], [2.214992315286054, 41.39892681736668], [2.214995132814233, 41.39893524059206], [2.214995746683189, 41.398943873970325], [2.214980642027069, 41.39895247216628], [2.214964544971878, 41.39895804607496], [2.214945745276983, 41.3989565846946], [2.214929564059285, 41.39896517553838], [2.214912938201264, 41.39897691597277], [2.214870827011035, 41.39900396640479], [2.214852010840766, 41.399015799974265], [2.21483850251272, 41.399024949494816], [2.214825359178436, 41.39903856021951], [2.214814937795511, 41.39905263088554], [2.214800363671805, 41.39906783517923], [2.214780332037466, 41.39908523608769], [2.214758041255694, 41.39909950497792], [2.214738781044441, 41.399111452595726], [2.214719810184284, 41.39912321302748], [2.21470079103672, 41.3991350091565], [2.214680396318729, 41.399147786719155], [2.214663591451342, 41.399158490032114], [2.214645241340679, 41.39917234442946], [2.214623884916991, 41.399189484057516], [2.214597512286541, 41.39920694073331], [2.214582270742206, 41.39921298881809], [2.214568994554263, 41.39922371620449], [2.214557830601165, 41.39923487235355], [2.214545953017385, 41.39924767200326], [2.214534268367423, 41.399261337689246], [2.214518979788692, 41.39927625783654], [2.214505485120804, 41.399287244941576], [2.214494433822296, 41.39929897833371], [2.214479556819725, 41.39931051446372], [2.214463023898518, 41.39931949016266], [2.214444102975785, 41.39932510777114], [2.214426000375013, 41.39933528876095], [2.2144067759188, 41.39934723656654], [2.214398893379491, 41.39935212786633], [2.214070752332708, 41.399290815700105], [2.213635636526722, 41.399138597407784], [2.213232674776424, 41.39889840486211], [2.212801841027642, 41.3985830417402], [2.212118561843056, 41.39795402771068], [2.212011049849129, 41.39781976419221], [2.211641063332461, 41.39746732414521], [2.211560192468395, 41.39736381421034], [2.211537650852817, 41.397308758989396], [2.211112351073551, 41.39677668877099], [2.210735300466679, 41.39602698153247], [2.210745079740222, 41.39601875540035], [2.210765424630095, 41.39600216801016], [2.210786567793423, 41.39598386565758], [2.21080457845143, 41.395969388021605], [2.210822088150457, 41.39595478984917], [2.210841371987058, 41.39594087039784], [2.210863561650648, 41.39592505227331], [2.210878589663277, 41.395912887114], [2.210896117783717, 41.39589973025786], [2.210912100581912, 41.39588873361079], [2.210932018732899, 41.39587577329011], [2.210949779758113, 41.39586214963239], [2.2109858242625, 41.39583522115414], [2.210991624303618, 41.39583040587968], [2.211011084325101, 41.39581674882538], [2.211033076081491, 41.3958024515796], [2.211049604854855, 41.39578883747175], [2.211064680793772, 41.395774681956844], [2.21108290581173, 41.39576324127691], [2.211101310841158, 41.39574878431271], [2.211119930219216, 41.3957324282307], [2.211142356770857, 41.39571184670334], [2.211160105002173, 41.39569729515145], [2.211166969118616, 41.39569252319318], [2.211185097571299, 41.395679172242815], [2.211200407031753, 41.395664495875124], [2.211218095810094, 41.39564694440594], [2.211237831337101, 41.39562928986718], [2.211257355876575, 41.39561325523032], [2.211279224448, 41.395597263680536], [2.211293180538823, 41.39558865809199], [2.211308066353761, 41.395578347447795], [2.211324788349557, 41.395564572488944], [2.211328014427747, 41.39555300193707], [2.211324577358845, 41.39554640289606], [2.211318097440957, 41.395540571154946], [2.211848769369906, 41.39513420807304], [2.211717868891224, 41.395038228070824], [2.211309151979063, 41.39535297799072], [2.211252469305053, 41.39531098375482], [2.211127248120001, 41.39540719021567], [2.210911569434372, 41.39524527853644], [2.211448315034719, 41.39483857611529], [2.211317653447973, 41.39474173257138], [2.210778382632427, 41.39515447011553], [2.210770461396586, 41.39514181427582], [2.210760648104455, 41.39514020667964], [2.210746111364881, 41.39514539437508], [2.21072943544662, 41.395155359390145], [2.210695460291166, 41.39517638405325], [2.210671305185909, 41.39519351276867], [2.210643701873259, 41.39521287870814], [2.210613255833615, 41.395232882686344], [2.21058533455323, 41.39525183208471], [2.210561300608843, 41.39526981732139], [2.210546189832332, 41.395285864109596], [2.210534551555563, 41.395297665162005], [2.210515287710337, 41.39530895450806], [2.210486815290532, 41.3953279721606], [2.210459907567067, 41.39534718069305], [2.210438696468864, 41.395361221969615], [2.210412870550506, 41.395379996546396], [2.210389725551314, 41.395397663576546], [2.210362888416492, 41.3954179534715], [2.210338788906203, 41.395435415775424], [2.210317083333898, 41.39545275038412], [2.210289714744225, 41.3954734599672], [2.210262099752412, 41.395493771522034], [2.210234931522059, 41.39551472566983], [2.210209361224777, 41.39553707793588], [2.210183725315379, 41.39555694367325], [2.210159619305731, 41.39557394651145], [2.210132366258537, 41.395593008475444], [2.210112230162986, 41.3956081559867], [2.21008808812959, 41.39562813104036], [2.210066501452207, 41.39564353881024], [2.21006507837618, 41.39564577731454], [2.209434692094322, 41.395475488002994], [2.208903619706074, 41.395247118524004], [2.208540155615251, 41.3950399683567], [2.208202572709497, 41.394794929407226], [2.207718677657829, 41.39435205718175], [2.207631187650423, 41.39427198325354], [2.207030013831721, 41.393618238045086], [2.206364267553455, 41.39280058495385], [2.205676151577522, 41.39182330448413], [2.205509854032448, 41.39154813876571], [2.205474821399509, 41.39144384386379], [2.205489293184284, 41.39143315098909], [2.205501364674709, 41.39142508254191], [2.205513332686879, 41.391416671093424], [2.205527358953306, 41.391407201961094], [2.205533239535956, 41.391402648732246], [2.20554400436983, 41.391392850823294], [2.205548280189742, 41.391388457656255], [2.205556309084896, 41.391379379472], [2.205563001520716, 41.39137298530653], [2.205580563255824, 41.391359018805524], [2.20559828562054, 41.39134463005763], [2.205625409207366, 41.39132044298347], [2.205632507967616, 41.39131604227976], [2.205649202565858, 41.391309437928406], [2.205657011592708, 41.39130564563006], [2.205660377451015, 41.39130329088257], [2.205678464711847, 41.391286436582206], [2.205704795827585, 41.39126544168594], [2.205721165654564, 41.39125210646872], [2.20574326695488, 41.39123860363969], [2.205748406300857, 41.39123401826048], [2.205751233930619, 41.39123067797594], [2.205755653436457, 41.391223322320535], [2.205758264182638, 41.39121421572937], [2.205758116111963, 41.39120967491989], [2.205753538339689, 41.39119269117834], [2.205751926802723, 41.3911845642836], [2.205750329053819, 41.39118316609752], [2.205749049746965, 41.391183121236715], [2.205731193582009, 41.39118590740589], [2.205729232969947, 41.39118483999273], [2.206270969505571, 41.39077480006057], [2.206142048865497, 41.390678710236095], [2.205612664593169, 41.3910817819637], [2.205593923398209, 41.39107709477168], [2.205581372195878, 41.39107741345443], [2.205568375175733, 41.3910779992832], [2.205558366462847, 41.39107973168237], [2.205540076278297, 41.39108771216135], [2.205509510715562, 41.39110872282011], [2.205459872191353, 41.3911469862717], [2.205432717002102, 41.391168858158075], [2.20535253632276, 41.3912311048338], [2.205245709863879, 41.39131658694721], [2.205231764470109, 41.391335127170855], [2.205225397456407, 41.391341316392], [2.205207539375585, 41.39135014650854], [2.205184297864452, 41.39136493843997], [2.205170213297791, 41.3913772264797], [2.205153473445558, 41.39139637791599], [2.205135492450421, 41.39140940467374], [2.205094949653569, 41.391440335629696], [2.205055128275973, 41.391471938111316], [2.204992688716197, 41.39152410158661], [2.204945107838901, 41.39156425259198], [2.204901974170677, 41.391601650986374], [2.204880638773156, 41.39162589590141], [2.20485299099967, 41.39166018290362], [2.20482252147794, 41.39168338196558], [2.204567393037692, 41.391493057945354], [2.204691790383691, 41.391398859744385], [2.204733737230471, 41.391384839433556], [2.204764856482114, 41.39137338978188], [2.204787239007977, 41.39136529358938], [2.20480172478513, 41.391358367840354], [2.204815334284073, 41.39134973361345], [2.204831044189507, 41.39133756493971], [2.204848854049306, 41.39132484330231], [2.204889002088147, 41.39129490053127], [2.204961742359095, 41.39123764697838], [2.205068599122291, 41.3911614791074], [2.205122002940318, 41.391122458182885], [2.205148224879853, 41.39110257959125], [2.205158988405816, 41.391093871618104], [2.205179269609985, 41.391075627378946], [2.20521834913517, 41.391038128812724], [2.205239152385757, 41.39102023045429], [2.205281205339435, 41.390987057996284], [2.205316656572368, 41.3909587220011], [2.205344188505753, 41.39093537551068], [2.205359553693895, 41.39092792432063], [2.205373338807826, 41.39091860666845], [2.205378742679196, 41.39090899693895], [2.205378597791302, 41.39089928583717], [2.205377691090998, 41.39089319950287], [2.20537025783061, 41.39088509454956], [2.205890540290086, 41.3904911046371], [2.205759193716685, 41.39039198012078], [2.204992843503923, 41.39097752578294], [2.204989699306444, 41.39097032597007], [2.204984639048185, 41.3909684174438], [2.204975223742839, 41.39096660493153], [2.204965204171905, 41.39096628349074], [2.204953399127152, 41.39096819258324], [2.204935099033491, 41.390972074478405], [2.204925443308526, 41.39097526847901], [2.20491904075629, 41.390978484958154], [2.204905929065899, 41.39098848277269], [2.204884481201193, 41.39100626852618], [2.204849724872305, 41.391035473911096], [2.204830562817201, 41.391049231076465], [2.204793552554114, 41.39107591677871], [2.204770859783666, 41.39109279315557], [2.204765596388119, 41.39109773793433], [2.204760634302364, 41.39110249563751], [2.204746852070966, 41.39111146824785], [2.204420771267159, 41.39108064495719], [2.203890948964836, 41.39091593503853], [2.203545646125273, 41.39078422451915], [2.202995964013117, 41.3904978346123], [2.202560542311815, 41.39021507137358], [2.202074887731098, 41.389795395198796], [2.201846539426827, 41.38951873993508], [2.201665774340113, 41.3891657513862], [2.201560743730719, 41.38883453682198], [2.201518771439076, 41.388758438300265], [2.201491763369563, 41.38865399336674], [2.202751406446713, 41.38770335881781], [2.202769629336773, 41.387689479285726], [2.20277819044105, 41.387695573639306], [2.202818641572952, 41.38766421048148], [2.202833075828749, 41.387653618557415], [2.202946143625585, 41.38780995268427], [2.202917043913956, 41.38783047740789], [2.202991044435274, 41.38788726898454], [2.203005130784294, 41.387876764704686], [2.203007572027381, 41.38787861914783], [2.20303067042439, 41.38791955617463], [2.203133966385468, 41.38797507333065], [2.203223927141448, 41.38805208006858], [2.203314468925477, 41.38809718612711], [2.203316383730431, 41.38813334655757], [2.203347493045194, 41.38815885506075], [2.203389879016646, 41.38815907645361], [2.203422976409994, 41.38813538161797], [2.203426666231315, 41.38809962029004], [2.203394441500571, 41.38807338348433], [2.203379797330405, 41.38805805939314], [2.203274763603682, 41.38796459075566], [2.203270997660136, 41.38794290159643], [2.203259881011344, 41.38793059241125], [2.203250832125204, 41.387924278535586], [2.203127206598331, 41.38787043120587], [2.203057085211465, 41.38784171599807], [2.203054550312276, 41.387839793350935], [2.203620655175951, 41.38741658076773], [2.203438590817241, 41.387097201943405], [2.203299532546119, 41.38688015779023], [2.203142610679659, 41.386651982563315], [2.202905433070654, 41.38633002334041], [2.202783868881094, 41.38617329699516], [2.202731843233075, 41.3861095145704], [2.202400324084719, 41.3857271266537], [2.202315381082241, 41.38563231914085], [2.202138713513262, 41.38544571045114], [2.201968234236856, 41.385275411991024], [2.201862108028698, 41.38517302601557], [2.201658130400541, 41.384984110375], [2.201457386068148, 41.384807665204995], [2.201292603715916, 41.38466859832174], [2.201074550605707, 41.38449252774547], [2.200855029665023, 41.38432214832145], [2.200732745698736, 41.384231737173344], [2.200625623238042, 41.38415825727868], [2.200511591256208, 41.38408354929059], [2.200404356630298, 41.38401926509195], [2.200286282648696, 41.38394846507999], [2.200250504677729, 41.383928446702505], [2.200145522839104, 41.383869706738004], [2.200018217419582, 41.38380565196845], [2.199890281412876, 41.383741349469936], [2.199833788170303, 41.38371331614312], [2.199753990636689, 41.383673718993414], [2.199740786942336, 41.383667574109246], [2.199734261788896, 41.38366453823009], [2.199733305676048, 41.38366409291405], [2.199730004487367, 41.38366255398845], [2.199717189750461, 41.38365716843876], [2.199714932105677, 41.38365635737251], [2.199703746308976, 41.3836523369815], [2.199689745253143, 41.38364811415602], [2.19967523375538, 41.38364455433537], [2.199660318892668, 41.38364170330175], [2.19964508415555, 41.38363957965077], [2.199629624662007, 41.383638229081555], [2.199614035971744, 41.38363766126623], [2.199603739110207, 41.38363780942593], [2.199598437562141, 41.38363788604337], [2.199592983148782, 41.38363823722745], [2.19958292532421, 41.3836388860649], [2.199567618735326, 41.38364067116953], [2.199552590210707, 41.38364318781595], [2.199537959448736, 41.38364642782938], [2.199527425440413, 41.38364933423807], [2.199523786905929, 41.38365033758547], [2.199520019754792, 41.38365158864568], [2.199510195390556, 41.38365485038222], [2.199503995378966, 41.38364334517511], [2.199513935337664, 41.38363056058752], [2.199516377772433, 41.38362157005424], [2.199501604490368, 41.38359059849313], [2.199530384422427, 41.38357657582512], [2.199576138858176, 41.38357592129764], [2.199603293947557, 41.383584189939754], [2.199656932361407, 41.383587238267886], [2.19971174783846, 41.38358012526211], [2.199779052959528, 41.38359905877527], [2.199821528373084, 41.383630763397754], [2.199865164022267, 41.38366148524467], [2.199996540285324, 41.38372123586769], [2.200146891212755, 41.38378732442371], [2.200255760921301, 41.38380596108625], [2.200331754899299, 41.38385665214448], [2.200369268358885, 41.38392439721565], [2.20045392894173, 41.38396374489333], [2.20050845147407, 41.383979589652874], [2.200528654581825, 41.383984242793765], [2.200582716893765, 41.38397712414105], [2.200594154036816, 41.38397488866562], [2.200633559796952, 41.38390573242598], [2.200669442699175, 41.383857620299715], [2.200655507562359, 41.38384702972974], [2.20058825137717, 41.38383675330017], [2.200543803027859, 41.383734668470716], [2.200322002656106, 41.383661823672554], [2.200234938627446, 41.383620522573885], [2.20011559160822, 41.38350728809325], [2.200056401099812, 41.383471287884774], [2.199849977966748, 41.383379299996754], [2.199776455101471, 41.383352468722194], [2.199558344193804, 41.38335246494221], [2.199418201247968, 41.38336107398319], [2.199402849205057, 41.38336266959184], [2.199198145395729, 41.38345135642474], [2.199007839410426, 41.38350311318312], [2.19887033755423, 41.38360734580578], [2.198858885911783, 41.38362635301951], [2.198859763797136, 41.38366103810055], [2.198866614596913, 41.383669012419844], [2.198980273631571, 41.38372127269166], [2.199107672309677, 41.38379030141073], [2.19926189726283, 41.38385640907764], [2.199371621353587, 41.38389215781028], [2.199398977093682, 41.38388583210438], [2.199403493349686, 41.38389322627742], [2.199415410690332, 41.38390839679691], [2.1994187853629, 41.38391184313559], [2.199429088948337, 41.383922363550894], [2.199439149288006, 41.38393028900672], [2.199449356506326, 41.383938330779834], [2.199471532138369, 41.383952798015855], [2.199895970333765, 41.38415143855175], [2.200033757737136, 41.38410583667117], [2.200163684761794, 41.384178529844895], [2.200267357214789, 41.384240708770406], [2.200384555730512, 41.38431467336388], [2.20050494095657, 41.38439700995377], [2.200749571721557, 41.38458151711196], [2.201007334149129, 41.384787669934134], [2.201271418273115, 41.38501392581064], [2.201394869853315, 41.38512443125824], [2.201650873233984, 41.38536228590626], [2.201796220427501, 41.38550643280151], [2.201929897977267, 41.38564251790871], [2.202206288876275, 41.38594174584297], [2.202336683028149, 41.386090229078064], [2.20246597456909, 41.38624677525962], [2.202606853673355, 41.38642507369038], [2.202514730555229, 41.38646458176893], [2.20255124169078, 41.3865128629139], [2.202641764131988, 41.38647123595452], [2.202745271830554, 41.38660809284954], [2.202622370477614, 41.38670107708212], [2.20253364697906, 41.38663431548355], [2.202515189482165, 41.386648230286085], [2.202603357047955, 41.38671546274249], [2.20239724012807, 41.38687140636803], [2.202138083577614, 41.386674169890846], [2.202187575859397, 41.386636005909025], [2.202147568606, 41.38660565239718], [2.202097007203216, 41.3866441962717], [2.201662432203032, 41.3863180821802], [2.201203831099696, 41.3859726046204], [2.201409200829673, 41.385815263558925], [2.201174153773819, 41.38563873296722], [2.20103635142039, 41.38574202026252], [2.200985383364732, 41.38570436620416], [2.201124878747611, 41.385599559444884], [2.200835745496363, 41.385385244397725], [2.200196548673228, 41.38586811014175], [2.201963507767065, 41.387197584246735], [2.200457477288061, 41.38833286759542], [2.200341355149635, 41.38824367888026], [2.200220732436981, 41.38833241128426], [2.199974067563116, 41.38814500654583], [2.199667741252772, 41.3879168956869], [2.199380181369621, 41.38769868774359], [2.199078592287523, 41.387473769907594], [2.198312473018876, 41.38689523222604], [2.198430236446138, 41.386808499566776], [2.198313281405165, 41.386718429260895], [2.199489011247409, 41.385832357230555], [2.199287908334872, 41.385679559563776], [2.199422129838128, 41.38557979841652], [2.199588419302606, 41.38570116064285], [2.199836652113889, 41.385383291238014], [2.199762207411295, 41.3853241615821], [2.199913274924018, 41.38521012298847], [2.199950219922545, 41.385239384093786], [2.19998610223271, 41.3851923981303], [2.199909617175631, 41.385128002996545], [2.199841933098384, 41.38507448704759], [2.199760623416102, 41.385014399889776], [2.19972219744978, 41.38498742444035], [2.198000254941852, 41.38627963900742], [2.196419673909006, 41.38746570540119], [2.196375294805379, 41.38745653116259], [2.196313960136482, 41.38745408239147], [2.196228824384991, 41.387454221829195], [2.196172731598786, 41.387458605771414], [2.196111064098866, 41.38747171955763], [2.196057957741357, 41.38748844208866], [2.19599781211945, 41.38751170530901], [2.195949405734436, 41.38753827071754], [2.195906394900141, 41.38757084039041], [2.195864937955586, 41.387612416714035], [2.195837868640679, 41.387648145911704], [2.195814592569548, 41.38769625272147], [2.19580262749829, 41.387748833348034], [2.195802565763147, 41.38778577544669], [2.195806224930442, 41.387813403656416], [2.195754545049454, 41.38785245394036], [2.193599900159489, 41.386259599013634], [2.193572721005772, 41.38623950551963], [2.193477200617314, 41.386315317972446], [2.193475278880147, 41.386316842986666], [2.193362341779723, 41.386406477802005], [2.193358442737741, 41.38640937791213], [2.193344741436152, 41.38641959546972], [2.193329820993998, 41.38643071423816], [2.193103381889543, 41.38659947673768], [2.19307888367314, 41.38661773792578], [2.193078882466069, 41.38661773881807], [2.193061239761007, 41.38663088767093], [2.192997450088473, 41.38667886742226], [2.192944605458818, 41.38671861356969], [2.192908575082495, 41.386745855397855], [2.19290782371229, 41.38674461879986], [2.19288153442876, 41.38676630375037], [2.192881533221684, 41.38676630464265], [2.192843708705693, 41.38679490210716], [2.192745882979255, 41.38686946464151], [2.192677587691088, 41.38692273334333], [2.192602875498474, 41.386980352645864], [2.192561333895824, 41.38701239182772], [2.192398225393402, 41.38713552115177], [2.192398954953715, 41.38713649007665], [2.192046481111892, 41.38740413125367], [2.192049856380553, 41.38740664282998], [2.191920940991912, 41.38750071280551], [2.191841275981272, 41.38756188992037], [2.191488096639729, 41.38783310308869], [2.19148535919496, 41.38783104815513], [2.191417457262162, 41.38788136439476], [2.191233680452509, 41.38802433717695], [2.19067547594052, 41.38844430055227], [2.190496179764523, 41.38857919238458], [2.189718986502883, 41.38916389430965], [2.189439685870679, 41.38937401262636], [2.189149000233422, 41.38959269543473], [2.189077059530722, 41.38964682081092], [2.189077030558316, 41.38964684222476], [2.188738494752524, 41.389901520341425], [2.188469537952559, 41.3901055561618], [2.188178445927571, 41.390326381902284], [2.187895297639197, 41.39054067666858], [2.187500019536336, 41.39083983140586], [2.187269181872896, 41.39101453215908], [2.187181032710815, 41.391081257743764], [2.186984101052048, 41.39123032876031], [2.186769724698571, 41.39139260184995], [2.184585635760319, 41.389755531612366], [2.18345134700301, 41.390611969954676], [2.182380953884802, 41.39142013297261], [2.183527257213312, 41.392268386753834], [2.183884493566991, 41.39253273151331], [2.184675185666613, 41.3931178070396], [2.185811058241355, 41.393958271620136], [2.18673169464624, 41.39463945268453], [2.18670733580943, 41.39466005902007], [2.186681840185829, 41.39469048450166], [2.186664270984134, 41.39472394028531], [2.186655234782003, 41.39475926689292], [2.186655044665169, 41.39479524332062], [2.186663706619042, 41.394830622972286], [2.186680921312133, 41.394864182312595], [2.186706093168321, 41.39489476056457], [2.186728337903043, 41.3949130607106], [2.186738351411771, 41.39492129859111], [2.186776578289043, 41.39494287782766], [2.1868194529311, 41.39495875211949], [2.186865489336856, 41.39496837141036], [2.186865950299555, 41.395071129565316], [2.186872884877826, 41.396617881095196], [2.186880166922236, 41.39824211357179], [2.186885658725495, 41.39946703333652], [2.186886950834241, 41.399755321985864], [2.186891937434534, 41.40086739377561], [2.186895464856943, 41.40165447820544], [2.186895473767839, 41.40165635452926], [2.186738470183497, 41.40177535890621], [2.186738465353725, 41.401775362475085], [2.185863505799632, 41.40243854572936], [2.185863504592168, 41.402438546621575], [2.185736673125043, 41.40253467779977], [2.185175317334287, 41.40296015023921], [2.184966841535549, 41.403118159365], [2.184963587766618, 41.40312062598641], [2.184527022162524, 41.40345150693426], [2.184608467726759, 41.403512420828584], [2.18460846891174, 41.40351242173774], [2.185590092208614, 41.40424657584646], [2.185590094578632, 41.40424657766472], [2.185669310220754, 41.4043058212446], [2.184945274073236, 41.404854580228665], [2.183382612125412, 41.406038900363576], [2.183102530707275, 41.40625116325633], [2.182252102165641, 41.40689369332409], [2.181116270378959, 41.407756414137516], [2.180019246590986, 41.4085876983072], [2.178879820291535, 41.409449535154586], [2.177723482403977, 41.41032733332144], [2.177463266335962, 41.41052450249194], [2.177153271743688, 41.41075938606339], [2.176892960415358, 41.410956623499125], [2.176594041931465, 41.41118311054461], [2.175467790126732, 41.41203643850192], [2.176642904307903, 41.412925531889734], [2.176758857167258, 41.41301326033249], [2.178823416503748, 41.41457521547208], [2.178988684508527, 41.41470024588031], [2.180188700569659, 41.415608070156466], [2.180484428205486, 41.415831784210624], [2.182207516510886, 41.41710091666562], [2.182957691919749, 41.41765343135364], [2.183360972634387, 41.41795044696965], [2.184420854142727, 41.417153658751594], [2.185128465852977, 41.4166216798902], [2.185434622306246, 41.4163915092348], [2.186270599090921, 41.415763003594776], [2.186902612555622, 41.41528782859167], [2.1877005796002, 41.41468786856706], [2.18800142020819, 41.41446167437141], [2.18903398431547, 41.413677502005974], [2.190150753035795, 41.41453921575651], [2.190154990653436, 41.41454244053634], [2.190977487201546, 41.41516837282671], [2.191108976720038, 41.4155426391249], [2.191108999788912, 41.41554270864463], [2.192367848273058, 41.41458092769347], [2.192414384648834, 41.41454537578438], [2.193357568961765, 41.41525228039121], [2.193543462278558, 41.41539701678922], [2.193326653998595, 41.415931785611214], [2.193289876420394, 41.41605639923922], [2.193234258797994, 41.41631549201568], [2.193233010867612, 41.416472515034265], [2.19324703172947, 41.41664014963106], [2.193293498998992, 41.41680240908597], [2.193419858356897, 41.41715356316181], [2.193468175558929, 41.41728783758064], [2.193486329714172, 41.41733828688332], [2.193910034777585, 41.418483519748854], [2.194033147083357, 41.4188162723743], [2.194999287311655, 41.4217297623083], [2.195218687471755, 41.42239134712698], [2.195238437548236, 41.42238787418921], [2.195487355618295, 41.42234372478756], [2.195532164116865, 41.42245420750784], [2.195532164105749, 41.4224542084085], [2.195532165280108, 41.42245421021821], [2.19553879085762, 41.42247219130825], [2.195540574063862, 41.42247702907545], [2.195540575238234, 41.42247703088517], [2.195542481170796, 41.42248220278665], [2.195581749633535, 41.422588766331785], [2.195581750796783, 41.42258876904215], [2.195594546796634, 41.42262350842237], [2.195594869843041, 41.42262438620654], [2.195595668795848, 41.422626555385506], [2.195600953487067, 41.42264090159206], [2.195603588865132, 41.42264805753233], [2.195604468879315, 41.422650446159345], [2.195600270230721, 41.42266843533259], [2.195597595353995, 41.42267989754285], [2.195628912461364, 41.42286641786728], [2.195658607818423, 41.423043271739914], [2.195669393265226, 41.42310750820287], [2.195688220804136, 41.4232196368195], [2.195696166703042, 41.42326698334993], [2.195708244950736, 41.42333895544625], [2.195715858649363, 41.423384325216276], [2.195719885119553, 41.42340831771835], [2.195766295567986, 41.42368486769308], [2.195771742241778, 41.42371732542447], [2.195771742230664, 41.423717326325146], [2.195774553478685, 41.42373409264996], [2.195801391536401, 41.42389418972305], [2.195802800501778, 41.42390259362538], [2.19580798487419, 41.42393352005343], [2.195826456256517, 41.424043707737304], [2.195848782347133, 41.42417688417985], [2.195866285232874, 41.424281290400195], [2.195890217667746, 41.4244240556904], [2.195900437827819, 41.42444267528628], [2.195907252013266, 41.42445509285863], [2.195915850537788, 41.42448400024948], [2.195936855644008, 41.42455461782568], [2.195961293117438, 41.424636772721485], [2.195977636156001, 41.424690774971616], [2.196040197115312, 41.42489749562299], [2.196056447369147, 41.42495534339677], [2.196058878898365, 41.42496399854241], [2.19606935013078, 41.42500127612731], [2.196076040708114, 41.42502508005565], [2.196084356915551, 41.42505466912481], [2.196084620589176, 41.425055607743126], [2.196086314869353, 41.42506164827521], [2.196092460902546, 41.42508361177619], [2.196102208327014, 41.42511844868254], [2.196158483808094, 41.42531951999337], [2.196185418795381, 41.425410849265546], [2.196191888343871, 41.425432786196524], [2.196221530882498, 41.42553330126705], [2.19622734569994, 41.4255530168856], [2.196227900489262, 41.425554901519135], [2.196329680679532, 41.42591545424097], [2.196331261932215, 41.425921056216595], [2.196331638064946, 41.425922386543505], [2.19641015437511, 41.426200523252895], [2.196439616102295, 41.426304885879254], [2.196443554949626, 41.42631883982174], [2.196447293110746, 41.42633208437612], [2.196525137854863, 41.42650916523472], [2.196536575763413, 41.426548256415536], [2.196536575752309, 41.42654825731619], [2.19653732236314, 41.426550795427545], [2.196537951799476, 41.4265529363924], [2.196538987845668, 41.426556460139466], [2.19653905331316, 41.42655668308089], [2.196539924720392, 41.42655967964259], [2.196540208438817, 41.42656064362053], [2.196540587450116, 41.426561935234666], [2.196540837708779, 41.42656279809539], [2.196541074195909, 41.42656361312041], [2.196541426805332, 41.426564813574835], [2.196541434848911, 41.42656484065339], [2.19654469835194, 41.426576011975435], [2.196546033793738, 41.42658058718216], [2.196547962919492, 41.426587194113736], [2.196506618513078, 41.42661229198415], [2.196425305424639, 41.42666165238962], [2.196426295184678, 41.42666475606682], [2.19642665351206, 41.426665880898874], [2.196426867852682, 41.426666550749346], [2.196427942912651, 41.42666991894083], [2.196431563259442, 41.4266812666023], [2.196452863630578, 41.42674803183167], [2.196452863608368, 41.426748033633004], [2.19646779789483, 41.42679484160835], [2.196467797883725, 41.42679484250902], [2.196488303259466, 41.426859117020626], [2.196548925523284, 41.42704913386883], [2.196599729705668, 41.42720837659798], [2.196622636645264, 41.42728017826984], [2.196676596830005, 41.42739138551644], [2.196676597993382, 41.4273913882268], [2.196955860294028, 41.427966916476876], [2.197126150814027, 41.42847628853701], [2.197214596264325, 41.42874839673625], [2.197288533125614, 41.428881105147646], [2.197319543980551, 41.42893676600292], [2.197571177549548, 41.42920964577958], [2.198109616146982, 41.4296268422358], [2.198399356512248, 41.42982143179223], [2.19867068406379, 41.42993777342673], [2.198686726825049, 41.42994465246984], [2.198700540107756, 41.42994937220821], [2.198943011829592, 41.43003221886283], [2.19917174789494, 41.430083136152824], [2.199292822936012, 41.4300981899609], [2.199494974885255, 41.43012332510019], [2.199900539968782, 41.430161960051066], [2.2002349044865, 41.43017630092858], [2.200685505822189, 41.43015945402399], [2.201104769691715, 41.430087289149284], [2.201527250547017, 41.42999278857137], [2.201945907966381, 41.429860527689904], [2.202145040315266, 41.429788622441734], [2.202178913220961, 41.4297763910363], [2.202356838037173, 41.42971214240324], [2.202479488141108, 41.42966647101698], [2.202684894093502, 41.42958998389265], [2.202983913310766, 41.42947863759601], [2.205176782602645, 41.42845011926472], [2.20659027011569, 41.42778711358906], [2.207024180387327, 41.4275836245619], [2.206838455170636, 41.42736088866829], [2.207364122299359, 41.42711129750025]]], &quot;type&quot;: &quot;Polygon&quot;}, &quot;properties&quot;: {&quot;AEB&quot;: &quot;-&quot;, &quot;ANNEXDESCR&quot;: &quot;Grup - I&quot;, &quot;AREA&quot;: 10436698.17, &quot;AREA_I&quot;: &quot;-&quot;, &quot;BARRI&quot;: &quot;-&quot;, &quot;CODI_UA&quot;: &quot;10&quot;, &quot;COL_DESCR&quot;: &quot;Negre&quot;, &quot;COL_FARCIT&quot;: &quot;1&quot;, &quot;CONJ_DESCR&quot;: &quot;Districtes&quot;, &quot;DISTRICTE&quot;: &quot;10&quot;, &quot;DOCUMENTA&quot;: null, &quot;ELEM_DESCR&quot;: &quot;L\\u00edmit de districte&quot;, &quot;ESTIL_ID&quot;: &quot;0&quot;, &quot;ESTIL_QGIS&quot;: &quot;S\\u00f2lid&quot;, &quot;FCOL_DESCR&quot;: &quot;Negre&quot;, &quot;FHEX_COLOR&quot;: &quot;#000000&quot;, &quot;GRANBARRI&quot;: &quot;-&quot;, &quot;GRUIXDIMEN&quot;: 70.0, &quot;GRUIX_ID&quot;: &quot;6&quot;, &quot;HEX_COLOR7&quot;: &quot;#000000&quot;, &quot;ID_ANNEX&quot;: &quot;01&quot;, &quot;ID_CONJUNT&quot;: &quot;010412&quot;, &quot;ID_ELEMENT&quot;: &quot;0104120101&quot;, &quot;ID_SUBCONJ&quot;: &quot;01041201&quot;, &quot;ID_TEMA&quot;: &quot;0104&quot;, &quot;LITERAL&quot;: &quot;10&quot;, &quot;NDESCR_CA&quot;: &quot;L\\u00edmit de districte (pol\\u00edgon)&quot;, &quot;NDESCR_EN&quot;: &quot;District boundary (polygon)&quot;, &quot;NDESCR_ES&quot;: &quot;L\\u00edmite de distrito (pol\\u00edgono)&quot;, &quot;NIVELL&quot;: &quot;ADM_02_PL&quot;, &quot;NOM&quot;: &quot;Sant Mart\\u00ed&quot;, &quot;ORD_REPRES&quot;: 5, &quot;PERIMETRE&quot;: 23493.828, &quot;RANGESCALA&quot;: &quot;1-150000&quot;, &quot;SCONJ_DESC&quot;: &quot;Districte&quot;, &quot;SEC_CENS&quot;: &quot;-&quot;, &quot;TEMA_DESCR&quot;: &quot;Unitats Administratives&quot;, &quot;TERME&quot;: &quot;080193&quot;, &quot;TIPUS_POL&quot;: null, &quot;TIPUS_UA&quot;: &quot;DISTRICTE&quot;, &quot;VALOR1QGIS&quot;: &quot;0&quot;, &quot;VALOR2QGIS&quot;: &quot;0&quot;, &quot;WEB1&quot;: &quot;http://www.bcn.cat/santmarti&quot;, &quot;WEB2&quot;: &quot;http://www.bcn.cat/estadistica/catala/dades/guiadt10/index.htm&quot;, &quot;WEB3&quot;: &quot;http://www.bcn.cat/estadistica/catala/documents/districtes/10_SantMarti_2017.pdf&quot;, &quot;ZUA&quot;: &quot;-&quot;}, &quot;type&quot;: &quot;Feature&quot;}], &quot;name&quot;: &quot;0301040100_Districtes_UNITATS_ADM&quot;, &quot;type&quot;: &quot;FeatureCollection&quot;});\n",
       "\n",
       "        \n",
       "    \n",
       "    var color_map_fef1bc176268110f81ba18c27c9f36e2 = {};\n",
       "\n",
       "    \n",
       "    color_map_fef1bc176268110f81ba18c27c9f36e2.color = d3.scale.threshold()\n",
       "              .domain([128.0, 136.97194388777555, 145.9438877755511, 154.91583166332666, 163.8877755511022, 172.85971943887776, 181.8316633266533, 190.80360721442887, 199.77555110220442, 208.74749498997994, 217.71943887775552, 226.69138276553105, 235.66332665330663, 244.63527054108215, 253.60721442885773, 262.57915831663325, 271.55110220440883, 280.52304609218436, 289.4949899799599, 298.46693386773546, 307.43887775551104, 316.41082164328657, 325.3827655310621, 334.3547094188377, 343.32665330661325, 352.2985971943888, 361.2705410821643, 370.2424849699399, 379.21442885771546, 388.186372745491, 397.1583166332665, 406.1302605210421, 415.1022044088176, 424.0741482965932, 433.0460921843687, 442.0180360721443, 450.9899799599198, 459.9619238476954, 468.9338677354709, 477.9058116232465, 486.87775551102203, 495.8496993987976, 504.82164328657313, 513.7935871743487, 522.7655310621242, 531.7374749498998, 540.7094188376753, 549.681362725451, 558.6533066132265, 567.625250501002, 576.5971943887776, 585.5691382765531, 594.5410821643286, 603.5130260521041, 612.4849699398798, 621.4569138276553, 630.4288577154309, 639.4008016032064, 648.372745490982, 657.3446893787575, 666.316633266533, 675.2885771543087, 684.2605210420842, 693.2324649298597, 702.2044088176352, 711.1763527054109, 720.1482965931864, 729.1202404809619, 738.0921843687374, 747.0641282565131, 756.0360721442886, 765.0080160320641, 773.9799599198396, 782.9519038076153, 791.9238476953908, 800.8957915831663, 809.8677354709419, 818.8396793587175, 827.811623246493, 836.7835671342685, 845.7555110220441, 854.7274549098196, 863.6993987975952, 872.6713426853707, 881.6432865731463, 890.6152304609218, 899.5871743486974, 908.559118236473, 917.5310621242485, 926.503006012024, 935.4749498997996, 944.4468937875752, 953.4188376753507, 962.3907815631262, 971.3627254509018, 980.3346693386774, 989.3066132264529, 998.2785571142284, 1007.2505010020041, 1016.2224448897796, 1025.194388777555, 1034.1663326653306, 1043.1382765531062, 1052.1102204408817, 1061.0821643286572, 1070.0541082164327, 1079.0260521042082, 1087.997995991984, 1096.9699398797595, 1105.941883767535, 1114.9138276553106, 1123.8857715430863, 1132.8577154308618, 1141.8296593186374, 1150.801603206413, 1159.7735470941884, 1168.745490981964, 1177.7174348697395, 1186.689378757515, 1195.6613226452905, 1204.633266533066, 1213.6052104208418, 1222.5771543086173, 1231.5490981963928, 1240.5210420841684, 1249.4929859719439, 1258.4649298597194, 1267.436873747495, 1276.4088176352705, 1285.3807615230462, 1294.3527054108217, 1303.3246492985973, 1312.2965931863728, 1321.2685370741483, 1330.2404809619238, 1339.2124248496993, 1348.1843687374749, 1357.1563126252504, 1366.1282565130261, 1375.1002004008017, 1384.0721442885772, 1393.0440881763527, 1402.0160320641282, 1410.9879759519038, 1419.9599198396793, 1428.9318637274548, 1437.9038076152306, 1446.875751503006, 1455.8476953907816, 1464.8196392785571, 1473.7915831663327, 1482.7635270541082, 1491.7354709418837, 1500.7074148296592, 1509.679358717435, 1518.6513026052105, 1527.623246492986, 1536.5951903807616, 1545.567134268537, 1554.5390781563126, 1563.5110220440881, 1572.4829659318636, 1581.4549098196392, 1590.426853707415, 1599.3987975951904, 1608.370741482966, 1617.3426853707415, 1626.314629258517, 1635.2865731462925, 1644.258517034068, 1653.2304609218436, 1662.2024048096193, 1671.1743486973949, 1680.1462925851704, 1689.118236472946, 1698.0901803607214, 1707.062124248497, 1716.0340681362725, 1725.006012024048, 1733.9779559118238, 1742.9498997995993, 1751.9218436873748, 1760.8937875751503, 1769.8657314629259, 1778.8376753507014, 1787.809619238477, 1796.7815631262524, 1805.753507014028, 1814.7254509018037, 1823.6973947895792, 1832.6693386773547, 1841.6412825651303, 1850.6132264529058, 1859.5851703406813, 1868.5571142284568, 1877.5290581162324, 1886.5010020040081, 1895.4729458917836, 1904.4448897795592, 1913.4168336673347, 1922.3887775551102, 1931.3607214428857, 1940.3326653306613, 1949.3046092184368, 1958.2765531062125, 1967.248496993988, 1976.2204408817636, 1985.192384769539, 1994.1643286573146, 2003.1362725450902, 2012.1082164328657, 2021.0801603206412, 2030.0521042084167, 2039.0240480961925, 2047.995991983968, 2056.9679358717435, 2065.939879759519, 2074.9118236472946, 2083.88376753507, 2092.8557114228456, 2101.827655310621, 2110.799599198397, 2119.7715430861726, 2128.743486973948, 2137.7154308617237, 2146.687374749499, 2155.6593186372747, 2164.6312625250503, 2173.603206412826, 2182.5751503006013, 2191.547094188377, 2200.5190380761524, 2209.490981963928, 2218.4629258517034, 2227.434869739479, 2236.4068136272545, 2245.37875751503, 2254.3507014028055, 2263.322645290581, 2272.2945891783565, 2281.266533066132, 2290.2384769539076, 2299.2104208416836, 2308.182364729459, 2317.1543086172346, 2326.12625250501, 2335.0981963927857, 2344.070140280561, 2353.0420841683367, 2362.0140280561122, 2370.9859719438878, 2379.9579158316633, 2388.929859719439, 2397.9018036072143, 2406.87374749499, 2415.8456913827654, 2424.817635270541, 2433.7895791583164, 2442.7615230460924, 2451.733466933868, 2460.7054108216435, 2469.677354709419, 2478.6492985971945, 2487.62124248497, 2496.5931863727455, 2505.565130260521, 2514.5370741482966, 2523.509018036072, 2532.4809619238476, 2541.452905811623, 2550.4248496993987, 2559.396793587174, 2568.3687374749497, 2577.3406813627253, 2586.312625250501, 2595.2845691382768, 2604.2565130260523, 2613.228456913828, 2622.2004008016033, 2631.172344689379, 2640.1442885771544, 2649.11623246493, 2658.0881763527054, 2667.060120240481, 2676.0320641282565, 2685.004008016032, 2693.9759519038075, 2702.947895791583, 2711.9198396793586, 2720.891783567134, 2729.8637274549096, 2738.835671342685, 2747.807615230461, 2756.7795591182366, 2765.751503006012, 2774.7234468937877, 2783.695390781563, 2792.6673346693387, 2801.6392785571143, 2810.61122244489, 2819.5831663326653, 2828.555110220441, 2837.5270541082164, 2846.498997995992, 2855.4709418837674, 2864.442885771543, 2873.4148296593185, 2882.386773547094, 2891.35871743487, 2900.3306613226455, 2909.302605210421, 2918.2745490981965, 2927.246492985972, 2936.2184368737476, 2945.190380761523, 2954.1623246492986, 2963.134268537074, 2972.1062124248497, 2981.078156312625, 2990.0501002004007, 2999.0220440881762, 3007.9939879759518, 3016.9659318637273, 3025.937875751503, 3034.9098196392783, 3043.8817635270543, 3052.85370741483, 3061.8256513026054, 3070.797595190381, 3079.7695390781564, 3088.741482965932, 3097.7134268537075, 3106.685370741483, 3115.6573146292585, 3124.629258517034, 3133.6012024048096, 3142.573146292585, 3151.5450901803606, 3160.517034068136, 3169.4889779559117, 3178.460921843687, 3187.432865731463, 3196.4048096192387, 3205.376753507014, 3214.3486973947897, 3223.3206412825652, 3232.2925851703408, 3241.2645290581163, 3250.236472945892, 3259.2084168336673, 3268.180360721443, 3277.1523046092184, 3286.124248496994, 3295.0961923847694, 3304.068136272545, 3313.0400801603205, 3322.012024048096, 3330.9839679358715, 3339.9559118236475, 3348.927855711423, 3357.8997995991986, 3366.871743486974, 3375.8436873747496, 3384.815631262525, 3393.7875751503007, 3402.759519038076, 3411.7314629258517, 3420.703406813627, 3429.6753507014027, 3438.6472945891783, 3447.619238476954, 3456.5911823647293, 3465.563126252505, 3474.5350701402804, 3483.507014028056, 3492.478957915832, 3501.4509018036074, 3510.422845691383, 3519.3947895791584, 3528.366733466934, 3537.3386773547095, 3546.310621242485, 3555.2825651302605, 3564.254509018036, 3573.2264529058116, 3582.198396793587, 3591.1703406813626, 3600.142284569138, 3609.1142284569137, 3618.086172344689, 3627.0581162324647, 3636.0300601202407, 3645.0020040080162, 3653.9739478957918, 3662.9458917835673, 3671.917835671343, 3680.8897795591183, 3689.861723446894, 3698.8336673346694, 3707.805611222445, 3716.7775551102204, 3725.749498997996, 3734.7214428857715, 3743.693386773547, 3752.6653306613225, 3761.637274549098, 3770.6092184368736, 3779.581162324649, 3788.553106212425, 3797.5250501002006, 3806.496993987976, 3815.4689378757516, 3824.440881763527, 3833.4128256513027, 3842.384769539078, 3851.3567134268537, 3860.3286573146293, 3869.300601202405, 3878.2725450901803, 3887.244488977956, 3896.2164328657313, 3905.188376753507, 3914.1603206412824, 3923.132264529058, 3932.1042084168334, 3941.0761523046094, 3950.048096192385, 3959.0200400801605, 3967.991983967936, 3976.9639278557115, 3985.935871743487, 3994.9078156312626, 4003.879759519038, 4012.8517034068136, 4021.823647294589, 4030.7955911823647, 4039.76753507014, 4048.7394789579157, 4057.7114228456912, 4066.6833667334668, 4075.6553106212423, 4084.6272545090183, 4093.599198396794, 4102.571142284569, 4111.543086172345, 4120.51503006012, 4129.486973947896, 4138.458917835671, 4147.430861723447, 4156.402805611222, 4165.374749498998, 4174.346693386773, 4183.3186372745495, 4192.290581162324, 4201.2625250501005, 4210.234468937875, 4219.206412825652, 4228.178356713427, 4237.150300601203, 4246.122244488978, 4255.094188376754, 4264.066132264529, 4273.038076152305, 4282.01002004008, 4290.981963927856, 4299.953907815631, 4308.925851703407, 4317.897795591182, 4326.869739478958, 4335.841683366733, 4344.813627254509, 4353.785571142284, 4362.75751503006, 4371.7294589178355, 4380.701402805611, 4389.6733466933865, 4398.645290581162, 4407.617234468938, 4416.589178356713, 4425.561122244489, 4434.533066132264, 4443.50501002004, 4452.476953907815, 4461.448897795592, 4470.420841683367, 4479.392785571143, 4488.364729458918, 4497.336673346694, 4506.308617234469, 4515.280561122245, 4524.25250501002, 4533.224448897796, 4542.196392785571, 4551.168336673347, 4560.140280561122, 4569.112224448898, 4578.084168336673, 4587.056112224449, 4596.0280561122245, 4605.0])\n",
       "              .range([&#x27;#ffffb2ff&#x27;, &#x27;#ffffb2ff&#x27;, &#x27;#ffffb2ff&#x27;, &#x27;#ffffb2ff&#x27;, &#x27;#ffffb2ff&#x27;, &#x27;#ffffb2ff&#x27;, &#x27;#ffffb2ff&#x27;, &#x27;#ffffb2ff&#x27;, &#x27;#ffffb2ff&#x27;, &#x27;#ffffb2ff&#x27;, &#x27;#ffffb2ff&#x27;, &#x27;#ffffb2ff&#x27;, &#x27;#ffffb2ff&#x27;, &#x27;#ffffb2ff&#x27;, &#x27;#ffffb2ff&#x27;, &#x27;#ffffb2ff&#x27;, &#x27;#ffffb2ff&#x27;, &#x27;#ffffb2ff&#x27;, &#x27;#ffffb2ff&#x27;, &#x27;#ffffb2ff&#x27;, &#x27;#ffffb2ff&#x27;, &#x27;#ffffb2ff&#x27;, &#x27;#ffffb2ff&#x27;, &#x27;#ffffb2ff&#x27;, &#x27;#ffffb2ff&#x27;, &#x27;#ffffb2ff&#x27;, &#x27;#ffffb2ff&#x27;, &#x27;#ffffb2ff&#x27;, &#x27;#ffffb2ff&#x27;, &#x27;#ffffb2ff&#x27;, &#x27;#ffffb2ff&#x27;, &#x27;#ffffb2ff&#x27;, &#x27;#ffffb2ff&#x27;, &#x27;#ffffb2ff&#x27;, &#x27;#ffffb2ff&#x27;, &#x27;#ffffb2ff&#x27;, &#x27;#ffffb2ff&#x27;, &#x27;#ffffb2ff&#x27;, &#x27;#ffffb2ff&#x27;, &#x27;#ffffb2ff&#x27;, &#x27;#ffffb2ff&#x27;, &#x27;#ffffb2ff&#x27;, &#x27;#ffffb2ff&#x27;, &#x27;#ffffb2ff&#x27;, &#x27;#ffffb2ff&#x27;, &#x27;#ffffb2ff&#x27;, &#x27;#ffffb2ff&#x27;, &#x27;#ffffb2ff&#x27;, &#x27;#ffffb2ff&#x27;, &#x27;#ffffb2ff&#x27;, &#x27;#ffffb2ff&#x27;, &#x27;#ffffb2ff&#x27;, &#x27;#ffffb2ff&#x27;, &#x27;#ffffb2ff&#x27;, &#x27;#ffffb2ff&#x27;, &#x27;#ffffb2ff&#x27;, &#x27;#ffffb2ff&#x27;, &#x27;#ffffb2ff&#x27;, &#x27;#ffffb2ff&#x27;, &#x27;#ffffb2ff&#x27;, &#x27;#ffffb2ff&#x27;, &#x27;#ffffb2ff&#x27;, &#x27;#ffffb2ff&#x27;, &#x27;#ffffb2ff&#x27;, &#x27;#ffffb2ff&#x27;, &#x27;#ffffb2ff&#x27;, &#x27;#ffffb2ff&#x27;, &#x27;#ffffb2ff&#x27;, &#x27;#ffffb2ff&#x27;, &#x27;#ffffb2ff&#x27;, &#x27;#ffffb2ff&#x27;, &#x27;#ffffb2ff&#x27;, &#x27;#ffffb2ff&#x27;, &#x27;#ffffb2ff&#x27;, &#x27;#ffffb2ff&#x27;, &#x27;#ffffb2ff&#x27;, &#x27;#ffffb2ff&#x27;, &#x27;#ffffb2ff&#x27;, &#x27;#ffffb2ff&#x27;, &#x27;#ffffb2ff&#x27;, &#x27;#ffffb2ff&#x27;, &#x27;#ffffb2ff&#x27;, &#x27;#ffffb2ff&#x27;, &#x27;#ffffb2ff&#x27;, &#x27;#fed976ff&#x27;, &#x27;#fed976ff&#x27;, &#x27;#fed976ff&#x27;, &#x27;#fed976ff&#x27;, &#x27;#fed976ff&#x27;, &#x27;#fed976ff&#x27;, &#x27;#fed976ff&#x27;, &#x27;#fed976ff&#x27;, &#x27;#fed976ff&#x27;, &#x27;#fed976ff&#x27;, &#x27;#fed976ff&#x27;, &#x27;#fed976ff&#x27;, &#x27;#fed976ff&#x27;, &#x27;#fed976ff&#x27;, &#x27;#fed976ff&#x27;, &#x27;#fed976ff&#x27;, &#x27;#fed976ff&#x27;, &#x27;#fed976ff&#x27;, &#x27;#fed976ff&#x27;, &#x27;#fed976ff&#x27;, &#x27;#fed976ff&#x27;, &#x27;#fed976ff&#x27;, &#x27;#fed976ff&#x27;, &#x27;#fed976ff&#x27;, &#x27;#fed976ff&#x27;, &#x27;#fed976ff&#x27;, &#x27;#fed976ff&#x27;, &#x27;#fed976ff&#x27;, &#x27;#fed976ff&#x27;, &#x27;#fed976ff&#x27;, &#x27;#fed976ff&#x27;, &#x27;#fed976ff&#x27;, &#x27;#fed976ff&#x27;, &#x27;#fed976ff&#x27;, &#x27;#fed976ff&#x27;, &#x27;#fed976ff&#x27;, &#x27;#fed976ff&#x27;, &#x27;#fed976ff&#x27;, &#x27;#fed976ff&#x27;, &#x27;#fed976ff&#x27;, &#x27;#fed976ff&#x27;, &#x27;#fed976ff&#x27;, &#x27;#fed976ff&#x27;, &#x27;#fed976ff&#x27;, &#x27;#fed976ff&#x27;, &#x27;#fed976ff&#x27;, &#x27;#fed976ff&#x27;, &#x27;#fed976ff&#x27;, &#x27;#fed976ff&#x27;, &#x27;#fed976ff&#x27;, &#x27;#fed976ff&#x27;, &#x27;#fed976ff&#x27;, &#x27;#fed976ff&#x27;, &#x27;#fed976ff&#x27;, &#x27;#fed976ff&#x27;, &#x27;#fed976ff&#x27;, &#x27;#fed976ff&#x27;, &#x27;#fed976ff&#x27;, &#x27;#fed976ff&#x27;, &#x27;#fed976ff&#x27;, &#x27;#fed976ff&#x27;, &#x27;#fed976ff&#x27;, &#x27;#fed976ff&#x27;, &#x27;#fed976ff&#x27;, &#x27;#fed976ff&#x27;, &#x27;#fed976ff&#x27;, &#x27;#fed976ff&#x27;, &#x27;#fed976ff&#x27;, &#x27;#fed976ff&#x27;, &#x27;#fed976ff&#x27;, &#x27;#fed976ff&#x27;, &#x27;#fed976ff&#x27;, &#x27;#fed976ff&#x27;, &#x27;#fed976ff&#x27;, &#x27;#fed976ff&#x27;, &#x27;#fed976ff&#x27;, &#x27;#fed976ff&#x27;, &#x27;#fed976ff&#x27;, &#x27;#fed976ff&#x27;, &#x27;#fed976ff&#x27;, &#x27;#fed976ff&#x27;, &#x27;#fed976ff&#x27;, &#x27;#fed976ff&#x27;, &#x27;#feb24cff&#x27;, &#x27;#feb24cff&#x27;, &#x27;#feb24cff&#x27;, &#x27;#feb24cff&#x27;, &#x27;#feb24cff&#x27;, &#x27;#feb24cff&#x27;, &#x27;#feb24cff&#x27;, &#x27;#feb24cff&#x27;, &#x27;#feb24cff&#x27;, &#x27;#feb24cff&#x27;, &#x27;#feb24cff&#x27;, &#x27;#feb24cff&#x27;, &#x27;#feb24cff&#x27;, &#x27;#feb24cff&#x27;, &#x27;#feb24cff&#x27;, &#x27;#feb24cff&#x27;, &#x27;#feb24cff&#x27;, &#x27;#feb24cff&#x27;, &#x27;#feb24cff&#x27;, &#x27;#feb24cff&#x27;, &#x27;#feb24cff&#x27;, &#x27;#feb24cff&#x27;, &#x27;#feb24cff&#x27;, &#x27;#feb24cff&#x27;, &#x27;#feb24cff&#x27;, &#x27;#feb24cff&#x27;, &#x27;#feb24cff&#x27;, &#x27;#feb24cff&#x27;, &#x27;#feb24cff&#x27;, &#x27;#feb24cff&#x27;, &#x27;#feb24cff&#x27;, &#x27;#feb24cff&#x27;, &#x27;#feb24cff&#x27;, &#x27;#feb24cff&#x27;, &#x27;#feb24cff&#x27;, &#x27;#feb24cff&#x27;, &#x27;#feb24cff&#x27;, &#x27;#feb24cff&#x27;, &#x27;#feb24cff&#x27;, &#x27;#feb24cff&#x27;, &#x27;#feb24cff&#x27;, &#x27;#feb24cff&#x27;, &#x27;#feb24cff&#x27;, &#x27;#feb24cff&#x27;, &#x27;#feb24cff&#x27;, &#x27;#feb24cff&#x27;, &#x27;#feb24cff&#x27;, &#x27;#feb24cff&#x27;, &#x27;#feb24cff&#x27;, &#x27;#feb24cff&#x27;, &#x27;#feb24cff&#x27;, &#x27;#feb24cff&#x27;, &#x27;#feb24cff&#x27;, &#x27;#feb24cff&#x27;, &#x27;#feb24cff&#x27;, &#x27;#feb24cff&#x27;, &#x27;#feb24cff&#x27;, &#x27;#feb24cff&#x27;, &#x27;#feb24cff&#x27;, &#x27;#feb24cff&#x27;, &#x27;#feb24cff&#x27;, &#x27;#feb24cff&#x27;, &#x27;#feb24cff&#x27;, &#x27;#feb24cff&#x27;, &#x27;#feb24cff&#x27;, &#x27;#feb24cff&#x27;, &#x27;#feb24cff&#x27;, &#x27;#feb24cff&#x27;, &#x27;#feb24cff&#x27;, &#x27;#feb24cff&#x27;, &#x27;#feb24cff&#x27;, &#x27;#feb24cff&#x27;, &#x27;#feb24cff&#x27;, &#x27;#feb24cff&#x27;, &#x27;#feb24cff&#x27;, &#x27;#feb24cff&#x27;, &#x27;#feb24cff&#x27;, &#x27;#feb24cff&#x27;, &#x27;#feb24cff&#x27;, &#x27;#feb24cff&#x27;, &#x27;#feb24cff&#x27;, &#x27;#feb24cff&#x27;, &#x27;#feb24cff&#x27;, &#x27;#fd8d3cff&#x27;, &#x27;#fd8d3cff&#x27;, &#x27;#fd8d3cff&#x27;, &#x27;#fd8d3cff&#x27;, &#x27;#fd8d3cff&#x27;, &#x27;#fd8d3cff&#x27;, &#x27;#fd8d3cff&#x27;, &#x27;#fd8d3cff&#x27;, &#x27;#fd8d3cff&#x27;, &#x27;#fd8d3cff&#x27;, &#x27;#fd8d3cff&#x27;, &#x27;#fd8d3cff&#x27;, &#x27;#fd8d3cff&#x27;, &#x27;#fd8d3cff&#x27;, &#x27;#fd8d3cff&#x27;, &#x27;#fd8d3cff&#x27;, &#x27;#fd8d3cff&#x27;, &#x27;#fd8d3cff&#x27;, &#x27;#fd8d3cff&#x27;, &#x27;#fd8d3cff&#x27;, &#x27;#fd8d3cff&#x27;, &#x27;#fd8d3cff&#x27;, &#x27;#fd8d3cff&#x27;, &#x27;#fd8d3cff&#x27;, &#x27;#fd8d3cff&#x27;, &#x27;#fd8d3cff&#x27;, &#x27;#fd8d3cff&#x27;, &#x27;#fd8d3cff&#x27;, &#x27;#fd8d3cff&#x27;, &#x27;#fd8d3cff&#x27;, &#x27;#fd8d3cff&#x27;, &#x27;#fd8d3cff&#x27;, &#x27;#fd8d3cff&#x27;, &#x27;#fd8d3cff&#x27;, &#x27;#fd8d3cff&#x27;, &#x27;#fd8d3cff&#x27;, &#x27;#fd8d3cff&#x27;, &#x27;#fd8d3cff&#x27;, &#x27;#fd8d3cff&#x27;, &#x27;#fd8d3cff&#x27;, &#x27;#fd8d3cff&#x27;, &#x27;#fd8d3cff&#x27;, &#x27;#fd8d3cff&#x27;, &#x27;#fd8d3cff&#x27;, &#x27;#fd8d3cff&#x27;, &#x27;#fd8d3cff&#x27;, &#x27;#fd8d3cff&#x27;, &#x27;#fd8d3cff&#x27;, &#x27;#fd8d3cff&#x27;, &#x27;#fd8d3cff&#x27;, &#x27;#fd8d3cff&#x27;, &#x27;#fd8d3cff&#x27;, &#x27;#fd8d3cff&#x27;, &#x27;#fd8d3cff&#x27;, &#x27;#fd8d3cff&#x27;, &#x27;#fd8d3cff&#x27;, &#x27;#fd8d3cff&#x27;, &#x27;#fd8d3cff&#x27;, &#x27;#fd8d3cff&#x27;, &#x27;#fd8d3cff&#x27;, &#x27;#fd8d3cff&#x27;, &#x27;#fd8d3cff&#x27;, &#x27;#fd8d3cff&#x27;, &#x27;#fd8d3cff&#x27;, &#x27;#fd8d3cff&#x27;, &#x27;#fd8d3cff&#x27;, &#x27;#fd8d3cff&#x27;, &#x27;#fd8d3cff&#x27;, &#x27;#fd8d3cff&#x27;, &#x27;#fd8d3cff&#x27;, &#x27;#fd8d3cff&#x27;, &#x27;#fd8d3cff&#x27;, &#x27;#fd8d3cff&#x27;, &#x27;#fd8d3cff&#x27;, &#x27;#fd8d3cff&#x27;, &#x27;#fd8d3cff&#x27;, &#x27;#fd8d3cff&#x27;, &#x27;#fd8d3cff&#x27;, &#x27;#fd8d3cff&#x27;, &#x27;#fd8d3cff&#x27;, &#x27;#fd8d3cff&#x27;, &#x27;#fd8d3cff&#x27;, &#x27;#fd8d3cff&#x27;, &#x27;#f03b20ff&#x27;, &#x27;#f03b20ff&#x27;, &#x27;#f03b20ff&#x27;, &#x27;#f03b20ff&#x27;, &#x27;#f03b20ff&#x27;, &#x27;#f03b20ff&#x27;, &#x27;#f03b20ff&#x27;, &#x27;#f03b20ff&#x27;, &#x27;#f03b20ff&#x27;, &#x27;#f03b20ff&#x27;, &#x27;#f03b20ff&#x27;, &#x27;#f03b20ff&#x27;, &#x27;#f03b20ff&#x27;, &#x27;#f03b20ff&#x27;, &#x27;#f03b20ff&#x27;, &#x27;#f03b20ff&#x27;, &#x27;#f03b20ff&#x27;, &#x27;#f03b20ff&#x27;, &#x27;#f03b20ff&#x27;, &#x27;#f03b20ff&#x27;, &#x27;#f03b20ff&#x27;, &#x27;#f03b20ff&#x27;, &#x27;#f03b20ff&#x27;, &#x27;#f03b20ff&#x27;, &#x27;#f03b20ff&#x27;, &#x27;#f03b20ff&#x27;, &#x27;#f03b20ff&#x27;, &#x27;#f03b20ff&#x27;, &#x27;#f03b20ff&#x27;, &#x27;#f03b20ff&#x27;, &#x27;#f03b20ff&#x27;, &#x27;#f03b20ff&#x27;, &#x27;#f03b20ff&#x27;, &#x27;#f03b20ff&#x27;, &#x27;#f03b20ff&#x27;, &#x27;#f03b20ff&#x27;, &#x27;#f03b20ff&#x27;, &#x27;#f03b20ff&#x27;, &#x27;#f03b20ff&#x27;, &#x27;#f03b20ff&#x27;, &#x27;#f03b20ff&#x27;, &#x27;#f03b20ff&#x27;, &#x27;#f03b20ff&#x27;, &#x27;#f03b20ff&#x27;, &#x27;#f03b20ff&#x27;, &#x27;#f03b20ff&#x27;, &#x27;#f03b20ff&#x27;, &#x27;#f03b20ff&#x27;, &#x27;#f03b20ff&#x27;, &#x27;#f03b20ff&#x27;, &#x27;#f03b20ff&#x27;, &#x27;#f03b20ff&#x27;, &#x27;#f03b20ff&#x27;, &#x27;#f03b20ff&#x27;, &#x27;#f03b20ff&#x27;, &#x27;#f03b20ff&#x27;, &#x27;#f03b20ff&#x27;, &#x27;#f03b20ff&#x27;, &#x27;#f03b20ff&#x27;, &#x27;#f03b20ff&#x27;, &#x27;#f03b20ff&#x27;, &#x27;#f03b20ff&#x27;, &#x27;#f03b20ff&#x27;, &#x27;#f03b20ff&#x27;, &#x27;#f03b20ff&#x27;, &#x27;#f03b20ff&#x27;, &#x27;#f03b20ff&#x27;, &#x27;#f03b20ff&#x27;, &#x27;#f03b20ff&#x27;, &#x27;#f03b20ff&#x27;, &#x27;#f03b20ff&#x27;, &#x27;#f03b20ff&#x27;, &#x27;#f03b20ff&#x27;, &#x27;#f03b20ff&#x27;, &#x27;#f03b20ff&#x27;, &#x27;#f03b20ff&#x27;, &#x27;#f03b20ff&#x27;, &#x27;#f03b20ff&#x27;, &#x27;#f03b20ff&#x27;, &#x27;#f03b20ff&#x27;, &#x27;#f03b20ff&#x27;, &#x27;#f03b20ff&#x27;, &#x27;#f03b20ff&#x27;, &#x27;#bd0026ff&#x27;, &#x27;#bd0026ff&#x27;, &#x27;#bd0026ff&#x27;, &#x27;#bd0026ff&#x27;, &#x27;#bd0026ff&#x27;, &#x27;#bd0026ff&#x27;, &#x27;#bd0026ff&#x27;, &#x27;#bd0026ff&#x27;, &#x27;#bd0026ff&#x27;, &#x27;#bd0026ff&#x27;, &#x27;#bd0026ff&#x27;, &#x27;#bd0026ff&#x27;, &#x27;#bd0026ff&#x27;, &#x27;#bd0026ff&#x27;, &#x27;#bd0026ff&#x27;, &#x27;#bd0026ff&#x27;, &#x27;#bd0026ff&#x27;, &#x27;#bd0026ff&#x27;, &#x27;#bd0026ff&#x27;, &#x27;#bd0026ff&#x27;, &#x27;#bd0026ff&#x27;, &#x27;#bd0026ff&#x27;, &#x27;#bd0026ff&#x27;, &#x27;#bd0026ff&#x27;, &#x27;#bd0026ff&#x27;, &#x27;#bd0026ff&#x27;, &#x27;#bd0026ff&#x27;, &#x27;#bd0026ff&#x27;, &#x27;#bd0026ff&#x27;, &#x27;#bd0026ff&#x27;, &#x27;#bd0026ff&#x27;, &#x27;#bd0026ff&#x27;, &#x27;#bd0026ff&#x27;, &#x27;#bd0026ff&#x27;, &#x27;#bd0026ff&#x27;, &#x27;#bd0026ff&#x27;, &#x27;#bd0026ff&#x27;, &#x27;#bd0026ff&#x27;, &#x27;#bd0026ff&#x27;, &#x27;#bd0026ff&#x27;, &#x27;#bd0026ff&#x27;, &#x27;#bd0026ff&#x27;, &#x27;#bd0026ff&#x27;, &#x27;#bd0026ff&#x27;, &#x27;#bd0026ff&#x27;, &#x27;#bd0026ff&#x27;, &#x27;#bd0026ff&#x27;, &#x27;#bd0026ff&#x27;, &#x27;#bd0026ff&#x27;, &#x27;#bd0026ff&#x27;, &#x27;#bd0026ff&#x27;, &#x27;#bd0026ff&#x27;, &#x27;#bd0026ff&#x27;, &#x27;#bd0026ff&#x27;, &#x27;#bd0026ff&#x27;, &#x27;#bd0026ff&#x27;, &#x27;#bd0026ff&#x27;, &#x27;#bd0026ff&#x27;, &#x27;#bd0026ff&#x27;, &#x27;#bd0026ff&#x27;, &#x27;#bd0026ff&#x27;, &#x27;#bd0026ff&#x27;, &#x27;#bd0026ff&#x27;, &#x27;#bd0026ff&#x27;, &#x27;#bd0026ff&#x27;, &#x27;#bd0026ff&#x27;, &#x27;#bd0026ff&#x27;, &#x27;#bd0026ff&#x27;, &#x27;#bd0026ff&#x27;, &#x27;#bd0026ff&#x27;, &#x27;#bd0026ff&#x27;, &#x27;#bd0026ff&#x27;, &#x27;#bd0026ff&#x27;, &#x27;#bd0026ff&#x27;, &#x27;#bd0026ff&#x27;, &#x27;#bd0026ff&#x27;, &#x27;#bd0026ff&#x27;, &#x27;#bd0026ff&#x27;, &#x27;#bd0026ff&#x27;, &#x27;#bd0026ff&#x27;, &#x27;#bd0026ff&#x27;, &#x27;#bd0026ff&#x27;, &#x27;#bd0026ff&#x27;, &#x27;#bd0026ff&#x27;]);\n",
       "    \n",
       "\n",
       "    color_map_fef1bc176268110f81ba18c27c9f36e2.x = d3.scale.linear()\n",
       "              .domain([128.0, 4605.0])\n",
       "              .range([0, 450 - 50]);\n",
       "\n",
       "    color_map_fef1bc176268110f81ba18c27c9f36e2.legend = L.control({position: &#x27;topright&#x27;});\n",
       "    color_map_fef1bc176268110f81ba18c27c9f36e2.legend.onAdd = function (map) {var div = L.DomUtil.create(&#x27;div&#x27;, &#x27;legend&#x27;); return div};\n",
       "    color_map_fef1bc176268110f81ba18c27c9f36e2.legend.addTo(map_b1f2e36e74d3f336b6b564bf45564a70);\n",
       "\n",
       "    color_map_fef1bc176268110f81ba18c27c9f36e2.xAxis = d3.svg.axis()\n",
       "        .scale(color_map_fef1bc176268110f81ba18c27c9f36e2.x)\n",
       "        .orient(&quot;top&quot;)\n",
       "        .tickSize(1)\n",
       "        .tickValues([128.0, 874.1666666666666, 1620.3333333333333, 2366.5, 3112.6666666666665, 3858.833333333333, 4605.0]);\n",
       "\n",
       "    color_map_fef1bc176268110f81ba18c27c9f36e2.svg = d3.select(&quot;.legend.leaflet-control&quot;).append(&quot;svg&quot;)\n",
       "        .attr(&quot;id&quot;, &#x27;legend&#x27;)\n",
       "        .attr(&quot;width&quot;, 450)\n",
       "        .attr(&quot;height&quot;, 40);\n",
       "\n",
       "    color_map_fef1bc176268110f81ba18c27c9f36e2.g = color_map_fef1bc176268110f81ba18c27c9f36e2.svg.append(&quot;g&quot;)\n",
       "        .attr(&quot;class&quot;, &quot;key&quot;)\n",
       "        .attr(&quot;transform&quot;, &quot;translate(25,16)&quot;);\n",
       "\n",
       "    color_map_fef1bc176268110f81ba18c27c9f36e2.g.selectAll(&quot;rect&quot;)\n",
       "        .data(color_map_fef1bc176268110f81ba18c27c9f36e2.color.range().map(function(d, i) {\n",
       "          return {\n",
       "            x0: i ? color_map_fef1bc176268110f81ba18c27c9f36e2.x(color_map_fef1bc176268110f81ba18c27c9f36e2.color.domain()[i - 1]) : color_map_fef1bc176268110f81ba18c27c9f36e2.x.range()[0],\n",
       "            x1: i &lt; color_map_fef1bc176268110f81ba18c27c9f36e2.color.domain().length ? color_map_fef1bc176268110f81ba18c27c9f36e2.x(color_map_fef1bc176268110f81ba18c27c9f36e2.color.domain()[i]) : color_map_fef1bc176268110f81ba18c27c9f36e2.x.range()[1],\n",
       "            z: d\n",
       "          };\n",
       "        }))\n",
       "      .enter().append(&quot;rect&quot;)\n",
       "        .attr(&quot;height&quot;, 40 - 30)\n",
       "        .attr(&quot;x&quot;, function(d) { return d.x0; })\n",
       "        .attr(&quot;width&quot;, function(d) { return d.x1 - d.x0; })\n",
       "        .style(&quot;fill&quot;, function(d) { return d.z; });\n",
       "\n",
       "    color_map_fef1bc176268110f81ba18c27c9f36e2.g.call(color_map_fef1bc176268110f81ba18c27c9f36e2.xAxis).append(&quot;text&quot;)\n",
       "        .attr(&quot;class&quot;, &quot;caption&quot;)\n",
       "        .attr(&quot;y&quot;, 21)\n",
       "        .text(&quot;Total Airbnb in BCN 2022&quot;);\n",
       "&lt;/script&gt;\n",
       "&lt;/html&gt;\" style=\"position:absolute;width:100%;height:100%;left:0;top:0;border:none !important;\" allowfullscreen webkitallowfullscreen mozallowfullscreen></iframe></div></div>"
      ],
      "text/plain": [
       "<folium.folium.Map at 0x2f5a49a09d0>"
      ]
     },
     "execution_count": 83,
     "metadata": {},
     "output_type": "execute_result"
    }
   ],
   "source": [
    "# Add the link containing the geojson file\n",
    "\n",
    "BCNGeo = 'https://raw.githubusercontent.com/martgnz/bcn-geodata/master/districtes/districtes.geojson'\n",
    "\n",
    "# Call folium's library to build a new map\n",
    "\n",
    "BCN_map = folium.Map(location=[41.39, 2.17], zoom_start=12) # in location I must add the city's coordinates\n",
    "\n",
    "# Build the choropleth map by calling the .choropleth method\n",
    "\n",
    "BCN_map.choropleth(geo_data=BCNGeo, # GeoJson Coordinates\n",
    "                   data=df3_distribution,   # The table which contains the data being analized\n",
    "                   columns=['district', 'accommodations'], # the columns with district denomination and sum of accommodations\n",
    "                   key_on='feature.properties.NOM', # Chose the key needed in the GeoJson file\n",
    "                   fill_color='YlOrRd',\n",
    "                   fill_opacity=0.5,\n",
    "                   line_opacity=0.4,\n",
    "                   legend_name='Total Airbnb in BCN 2022') # Title for the map references\n",
    "\n",
    "\n",
    "BCN_map"
   ]
  },
  {
   "cell_type": "code",
   "execution_count": 84,
   "metadata": {},
   "outputs": [
    {
     "data": {
      "application/vnd.plotly.v1+json": {
       "config": {
        "plotlyServerURL": "https://plot.ly"
       },
       "data": [
        {
         "alignmentgroup": "True",
         "hovertemplate": "accommodations=%{marker.color}<br>district=%{y}<extra></extra>",
         "legendgroup": "",
         "marker": {
          "color": [
           128,
           138,
           236,
           335,
           474,
           1109,
           1162,
           1322,
           2829,
           4605
          ],
          "coloraxis": "coloraxis",
          "pattern": {
           "shape": ""
          }
         },
         "name": "",
         "offsetgroup": "",
         "orientation": "h",
         "showlegend": false,
         "textposition": "auto",
         "type": "bar",
         "x": [
          128,
          138,
          236,
          335,
          474,
          1109,
          1162,
          1322,
          2829,
          4605
         ],
         "xaxis": "x",
         "y": [
          "Nou Barris",
          "Sant Andreu",
          "Les Corts",
          "Horta-Guinardó",
          "Sarrià-Sant Gervasi",
          "Gràcia",
          "Sant Martí",
          "Sants-Montjuïc",
          "Ciutat Vella",
          "Eixample"
         ],
         "yaxis": "y"
        }
       ],
       "layout": {
        "barmode": "relative",
        "coloraxis": {
         "colorbar": {
          "title": {
           "text": "accommodations"
          }
         },
         "colorscale": [
          [
           0,
           "#FDEB6C"
          ],
          [
           0.2,
           "#FC9885"
          ],
          [
           0.4,
           "#FA6821"
          ],
          [
           0.6,
           "#D94C2A"
          ],
          [
           0.8,
           "#E75554"
          ],
          [
           1,
           "#74211C"
          ]
         ]
        },
        "height": 600,
        "legend": {
         "title": {
          "font": {
           "color": "#894329"
          }
         },
         "tracegroupgap": 0
        },
        "plot_bgcolor": "#e6e1cf",
        "template": {
         "data": {
          "bar": [
           {
            "error_x": {
             "color": "#2a3f5f"
            },
            "error_y": {
             "color": "#2a3f5f"
            },
            "marker": {
             "line": {
              "color": "#E5ECF6",
              "width": 0.5
             },
             "pattern": {
              "fillmode": "overlay",
              "size": 10,
              "solidity": 0.2
             }
            },
            "type": "bar"
           }
          ],
          "barpolar": [
           {
            "marker": {
             "line": {
              "color": "#E5ECF6",
              "width": 0.5
             },
             "pattern": {
              "fillmode": "overlay",
              "size": 10,
              "solidity": 0.2
             }
            },
            "type": "barpolar"
           }
          ],
          "carpet": [
           {
            "aaxis": {
             "endlinecolor": "#2a3f5f",
             "gridcolor": "white",
             "linecolor": "white",
             "minorgridcolor": "white",
             "startlinecolor": "#2a3f5f"
            },
            "baxis": {
             "endlinecolor": "#2a3f5f",
             "gridcolor": "white",
             "linecolor": "white",
             "minorgridcolor": "white",
             "startlinecolor": "#2a3f5f"
            },
            "type": "carpet"
           }
          ],
          "choropleth": [
           {
            "colorbar": {
             "outlinewidth": 0,
             "ticks": ""
            },
            "type": "choropleth"
           }
          ],
          "contour": [
           {
            "colorbar": {
             "outlinewidth": 0,
             "ticks": ""
            },
            "colorscale": [
             [
              0,
              "#0d0887"
             ],
             [
              0.1111111111111111,
              "#46039f"
             ],
             [
              0.2222222222222222,
              "#7201a8"
             ],
             [
              0.3333333333333333,
              "#9c179e"
             ],
             [
              0.4444444444444444,
              "#bd3786"
             ],
             [
              0.5555555555555556,
              "#d8576b"
             ],
             [
              0.6666666666666666,
              "#ed7953"
             ],
             [
              0.7777777777777778,
              "#fb9f3a"
             ],
             [
              0.8888888888888888,
              "#fdca26"
             ],
             [
              1,
              "#f0f921"
             ]
            ],
            "type": "contour"
           }
          ],
          "contourcarpet": [
           {
            "colorbar": {
             "outlinewidth": 0,
             "ticks": ""
            },
            "type": "contourcarpet"
           }
          ],
          "heatmap": [
           {
            "colorbar": {
             "outlinewidth": 0,
             "ticks": ""
            },
            "colorscale": [
             [
              0,
              "#0d0887"
             ],
             [
              0.1111111111111111,
              "#46039f"
             ],
             [
              0.2222222222222222,
              "#7201a8"
             ],
             [
              0.3333333333333333,
              "#9c179e"
             ],
             [
              0.4444444444444444,
              "#bd3786"
             ],
             [
              0.5555555555555556,
              "#d8576b"
             ],
             [
              0.6666666666666666,
              "#ed7953"
             ],
             [
              0.7777777777777778,
              "#fb9f3a"
             ],
             [
              0.8888888888888888,
              "#fdca26"
             ],
             [
              1,
              "#f0f921"
             ]
            ],
            "type": "heatmap"
           }
          ],
          "heatmapgl": [
           {
            "colorbar": {
             "outlinewidth": 0,
             "ticks": ""
            },
            "colorscale": [
             [
              0,
              "#0d0887"
             ],
             [
              0.1111111111111111,
              "#46039f"
             ],
             [
              0.2222222222222222,
              "#7201a8"
             ],
             [
              0.3333333333333333,
              "#9c179e"
             ],
             [
              0.4444444444444444,
              "#bd3786"
             ],
             [
              0.5555555555555556,
              "#d8576b"
             ],
             [
              0.6666666666666666,
              "#ed7953"
             ],
             [
              0.7777777777777778,
              "#fb9f3a"
             ],
             [
              0.8888888888888888,
              "#fdca26"
             ],
             [
              1,
              "#f0f921"
             ]
            ],
            "type": "heatmapgl"
           }
          ],
          "histogram": [
           {
            "marker": {
             "pattern": {
              "fillmode": "overlay",
              "size": 10,
              "solidity": 0.2
             }
            },
            "type": "histogram"
           }
          ],
          "histogram2d": [
           {
            "colorbar": {
             "outlinewidth": 0,
             "ticks": ""
            },
            "colorscale": [
             [
              0,
              "#0d0887"
             ],
             [
              0.1111111111111111,
              "#46039f"
             ],
             [
              0.2222222222222222,
              "#7201a8"
             ],
             [
              0.3333333333333333,
              "#9c179e"
             ],
             [
              0.4444444444444444,
              "#bd3786"
             ],
             [
              0.5555555555555556,
              "#d8576b"
             ],
             [
              0.6666666666666666,
              "#ed7953"
             ],
             [
              0.7777777777777778,
              "#fb9f3a"
             ],
             [
              0.8888888888888888,
              "#fdca26"
             ],
             [
              1,
              "#f0f921"
             ]
            ],
            "type": "histogram2d"
           }
          ],
          "histogram2dcontour": [
           {
            "colorbar": {
             "outlinewidth": 0,
             "ticks": ""
            },
            "colorscale": [
             [
              0,
              "#0d0887"
             ],
             [
              0.1111111111111111,
              "#46039f"
             ],
             [
              0.2222222222222222,
              "#7201a8"
             ],
             [
              0.3333333333333333,
              "#9c179e"
             ],
             [
              0.4444444444444444,
              "#bd3786"
             ],
             [
              0.5555555555555556,
              "#d8576b"
             ],
             [
              0.6666666666666666,
              "#ed7953"
             ],
             [
              0.7777777777777778,
              "#fb9f3a"
             ],
             [
              0.8888888888888888,
              "#fdca26"
             ],
             [
              1,
              "#f0f921"
             ]
            ],
            "type": "histogram2dcontour"
           }
          ],
          "mesh3d": [
           {
            "colorbar": {
             "outlinewidth": 0,
             "ticks": ""
            },
            "type": "mesh3d"
           }
          ],
          "parcoords": [
           {
            "line": {
             "colorbar": {
              "outlinewidth": 0,
              "ticks": ""
             }
            },
            "type": "parcoords"
           }
          ],
          "pie": [
           {
            "automargin": true,
            "type": "pie"
           }
          ],
          "scatter": [
           {
            "fillpattern": {
             "fillmode": "overlay",
             "size": 10,
             "solidity": 0.2
            },
            "type": "scatter"
           }
          ],
          "scatter3d": [
           {
            "line": {
             "colorbar": {
              "outlinewidth": 0,
              "ticks": ""
             }
            },
            "marker": {
             "colorbar": {
              "outlinewidth": 0,
              "ticks": ""
             }
            },
            "type": "scatter3d"
           }
          ],
          "scattercarpet": [
           {
            "marker": {
             "colorbar": {
              "outlinewidth": 0,
              "ticks": ""
             }
            },
            "type": "scattercarpet"
           }
          ],
          "scattergeo": [
           {
            "marker": {
             "colorbar": {
              "outlinewidth": 0,
              "ticks": ""
             }
            },
            "type": "scattergeo"
           }
          ],
          "scattergl": [
           {
            "marker": {
             "colorbar": {
              "outlinewidth": 0,
              "ticks": ""
             }
            },
            "type": "scattergl"
           }
          ],
          "scattermapbox": [
           {
            "marker": {
             "colorbar": {
              "outlinewidth": 0,
              "ticks": ""
             }
            },
            "type": "scattermapbox"
           }
          ],
          "scatterpolar": [
           {
            "marker": {
             "colorbar": {
              "outlinewidth": 0,
              "ticks": ""
             }
            },
            "type": "scatterpolar"
           }
          ],
          "scatterpolargl": [
           {
            "marker": {
             "colorbar": {
              "outlinewidth": 0,
              "ticks": ""
             }
            },
            "type": "scatterpolargl"
           }
          ],
          "scatterternary": [
           {
            "marker": {
             "colorbar": {
              "outlinewidth": 0,
              "ticks": ""
             }
            },
            "type": "scatterternary"
           }
          ],
          "surface": [
           {
            "colorbar": {
             "outlinewidth": 0,
             "ticks": ""
            },
            "colorscale": [
             [
              0,
              "#0d0887"
             ],
             [
              0.1111111111111111,
              "#46039f"
             ],
             [
              0.2222222222222222,
              "#7201a8"
             ],
             [
              0.3333333333333333,
              "#9c179e"
             ],
             [
              0.4444444444444444,
              "#bd3786"
             ],
             [
              0.5555555555555556,
              "#d8576b"
             ],
             [
              0.6666666666666666,
              "#ed7953"
             ],
             [
              0.7777777777777778,
              "#fb9f3a"
             ],
             [
              0.8888888888888888,
              "#fdca26"
             ],
             [
              1,
              "#f0f921"
             ]
            ],
            "type": "surface"
           }
          ],
          "table": [
           {
            "cells": {
             "fill": {
              "color": "#EBF0F8"
             },
             "line": {
              "color": "white"
             }
            },
            "header": {
             "fill": {
              "color": "#C8D4E3"
             },
             "line": {
              "color": "white"
             }
            },
            "type": "table"
           }
          ]
         },
         "layout": {
          "annotationdefaults": {
           "arrowcolor": "#2a3f5f",
           "arrowhead": 0,
           "arrowwidth": 1
          },
          "autotypenumbers": "strict",
          "coloraxis": {
           "colorbar": {
            "outlinewidth": 0,
            "ticks": ""
           }
          },
          "colorscale": {
           "diverging": [
            [
             0,
             "#8e0152"
            ],
            [
             0.1,
             "#c51b7d"
            ],
            [
             0.2,
             "#de77ae"
            ],
            [
             0.3,
             "#f1b6da"
            ],
            [
             0.4,
             "#fde0ef"
            ],
            [
             0.5,
             "#f7f7f7"
            ],
            [
             0.6,
             "#e6f5d0"
            ],
            [
             0.7,
             "#b8e186"
            ],
            [
             0.8,
             "#7fbc41"
            ],
            [
             0.9,
             "#4d9221"
            ],
            [
             1,
             "#276419"
            ]
           ],
           "sequential": [
            [
             0,
             "#0d0887"
            ],
            [
             0.1111111111111111,
             "#46039f"
            ],
            [
             0.2222222222222222,
             "#7201a8"
            ],
            [
             0.3333333333333333,
             "#9c179e"
            ],
            [
             0.4444444444444444,
             "#bd3786"
            ],
            [
             0.5555555555555556,
             "#d8576b"
            ],
            [
             0.6666666666666666,
             "#ed7953"
            ],
            [
             0.7777777777777778,
             "#fb9f3a"
            ],
            [
             0.8888888888888888,
             "#fdca26"
            ],
            [
             1,
             "#f0f921"
            ]
           ],
           "sequentialminus": [
            [
             0,
             "#0d0887"
            ],
            [
             0.1111111111111111,
             "#46039f"
            ],
            [
             0.2222222222222222,
             "#7201a8"
            ],
            [
             0.3333333333333333,
             "#9c179e"
            ],
            [
             0.4444444444444444,
             "#bd3786"
            ],
            [
             0.5555555555555556,
             "#d8576b"
            ],
            [
             0.6666666666666666,
             "#ed7953"
            ],
            [
             0.7777777777777778,
             "#fb9f3a"
            ],
            [
             0.8888888888888888,
             "#fdca26"
            ],
            [
             1,
             "#f0f921"
            ]
           ]
          },
          "colorway": [
           "#636efa",
           "#EF553B",
           "#00cc96",
           "#ab63fa",
           "#FFA15A",
           "#19d3f3",
           "#FF6692",
           "#B6E880",
           "#FF97FF",
           "#FECB52"
          ],
          "font": {
           "color": "#2a3f5f"
          },
          "geo": {
           "bgcolor": "white",
           "lakecolor": "white",
           "landcolor": "#E5ECF6",
           "showlakes": true,
           "showland": true,
           "subunitcolor": "white"
          },
          "hoverlabel": {
           "align": "left"
          },
          "hovermode": "closest",
          "mapbox": {
           "style": "light"
          },
          "paper_bgcolor": "white",
          "plot_bgcolor": "#E5ECF6",
          "polar": {
           "angularaxis": {
            "gridcolor": "white",
            "linecolor": "white",
            "ticks": ""
           },
           "bgcolor": "#E5ECF6",
           "radialaxis": {
            "gridcolor": "white",
            "linecolor": "white",
            "ticks": ""
           }
          },
          "scene": {
           "xaxis": {
            "backgroundcolor": "#E5ECF6",
            "gridcolor": "white",
            "gridwidth": 2,
            "linecolor": "white",
            "showbackground": true,
            "ticks": "",
            "zerolinecolor": "white"
           },
           "yaxis": {
            "backgroundcolor": "#E5ECF6",
            "gridcolor": "white",
            "gridwidth": 2,
            "linecolor": "white",
            "showbackground": true,
            "ticks": "",
            "zerolinecolor": "white"
           },
           "zaxis": {
            "backgroundcolor": "#E5ECF6",
            "gridcolor": "white",
            "gridwidth": 2,
            "linecolor": "white",
            "showbackground": true,
            "ticks": "",
            "zerolinecolor": "white"
           }
          },
          "shapedefaults": {
           "line": {
            "color": "#2a3f5f"
           }
          },
          "ternary": {
           "aaxis": {
            "gridcolor": "white",
            "linecolor": "white",
            "ticks": ""
           },
           "baxis": {
            "gridcolor": "white",
            "linecolor": "white",
            "ticks": ""
           },
           "bgcolor": "#E5ECF6",
           "caxis": {
            "gridcolor": "white",
            "linecolor": "white",
            "ticks": ""
           }
          },
          "title": {
           "x": 0.05
          },
          "xaxis": {
           "automargin": true,
           "gridcolor": "white",
           "linecolor": "white",
           "ticks": "",
           "title": {
            "standoff": 15
           },
           "zerolinecolor": "white",
           "zerolinewidth": 2
          },
          "yaxis": {
           "automargin": true,
           "gridcolor": "white",
           "linecolor": "white",
           "ticks": "",
           "title": {
            "standoff": 15
           },
           "zerolinecolor": "white",
           "zerolinewidth": 2
          }
         }
        },
        "title": {
         "font": {
          "color": "#894329"
         },
         "text": "Airbnb total distribution in Barcelona"
        },
        "xaxis": {
         "anchor": "y",
         "domain": [
          0,
          1
         ],
         "tickfont": {
          "color": "#894329"
         },
         "title": {
          "text": "Accomodation"
         }
        },
        "yaxis": {
         "anchor": "x",
         "domain": [
          0,
          1
         ],
         "tickfont": {
          "color": "#894329"
         },
         "title": {
          "text": "Districts in Barcelona"
         }
        }
       }
      }
     },
     "metadata": {},
     "output_type": "display_data"
    }
   ],
   "source": [
    "fig4 = px.bar(df3_distribution, x='accommodations', y='district',\n",
    "            hover_data=['district', 'accommodations'], color='accommodations', \n",
    "            color_continuous_scale=['#FDEB6C', '#FC9885', '#FA6821', '#D94C2A', '#E75554', '#74211C'],\n",
    "            title='Airbnb total distribution in Barcelona', height=600)\n",
    "\n",
    "fig4.update_layout(plot_bgcolor='#e6e1cf', xaxis_title='Accomodation', yaxis_title='Districts in Barcelona',\n",
    "xaxis_tickfont=dict(color='#894329'), yaxis_tickfont=dict(color='#894329'), title_font=dict(color='#894329'),\n",
    "legend=dict(title_font=dict(color='#894329')))\n",
    "\n",
    "\n",
    "fig4.show()"
   ]
  },
  {
   "cell_type": "code",
   "execution_count": 85,
   "metadata": {},
   "outputs": [
    {
     "data": {
      "application/vnd.plotly.v1+json": {
       "config": {
        "plotlyServerURL": "https://plot.ly"
       },
       "data": [
        {
         "hovertemplate": "<b>%{hovertext}</b><br><br>neighbourhood=Can Peguera<br>total locations=%{x}<br>price average=%{y}<br>total beds=%{marker.size}<extra></extra>",
         "hovertext": [
          "Can Peguera"
         ],
         "legendgroup": "Can Peguera",
         "marker": {
          "color": "#636efa",
          "size": [
           1
          ],
          "sizemode": "area",
          "sizeref": 0.76765625,
          "symbol": "circle"
         },
         "mode": "markers",
         "name": "Can Peguera",
         "orientation": "v",
         "showlegend": true,
         "type": "scatter",
         "x": [
          1
         ],
         "xaxis": "x",
         "y": [
          49
         ],
         "yaxis": "y"
        },
        {
         "hovertemplate": "<b>%{hovertext}</b><br><br>neighbourhood=Canyelles<br>total locations=%{x}<br>price average=%{y}<br>total beds=%{marker.size}<extra></extra>",
         "hovertext": [
          "Canyelles"
         ],
         "legendgroup": "Canyelles",
         "marker": {
          "color": "#EF553B",
          "size": [
           4
          ],
          "sizemode": "area",
          "sizeref": 0.76765625,
          "symbol": "circle"
         },
         "mode": "markers",
         "name": "Canyelles",
         "orientation": "v",
         "showlegend": true,
         "type": "scatter",
         "x": [
          1
         ],
         "xaxis": "x",
         "y": [
          77
         ],
         "yaxis": "y"
        },
        {
         "hovertemplate": "<b>%{hovertext}</b><br><br>neighbourhood=la Trinitat Vella<br>total locations=%{x}<br>price average=%{y}<br>total beds=%{marker.size}<extra></extra>",
         "hovertext": [
          "la Trinitat Vella"
         ],
         "legendgroup": "la Trinitat Vella",
         "marker": {
          "color": "#00cc96",
          "size": [
           13
          ],
          "sizemode": "area",
          "sizeref": 0.76765625,
          "symbol": "circle"
         },
         "mode": "markers",
         "name": "la Trinitat Vella",
         "orientation": "v",
         "showlegend": true,
         "type": "scatter",
         "x": [
          4
         ],
         "xaxis": "x",
         "y": [
          38
         ],
         "yaxis": "y"
        },
        {
         "hovertemplate": "<b>%{hovertext}</b><br><br>neighbourhood=la Marina del Prat Vermell<br>total locations=%{x}<br>price average=%{y}<br>total beds=%{marker.size}<extra></extra>",
         "hovertext": [
          "la Marina del Prat Vermell"
         ],
         "legendgroup": "la Marina del Prat Vermell",
         "marker": {
          "color": "#ab63fa",
          "size": [
           41
          ],
          "sizemode": "area",
          "sizeref": 0.76765625,
          "symbol": "circle"
         },
         "mode": "markers",
         "name": "la Marina del Prat Vermell",
         "orientation": "v",
         "showlegend": true,
         "type": "scatter",
         "x": [
          4
         ],
         "xaxis": "x",
         "y": [
          191
         ],
         "yaxis": "y"
        },
        {
         "hovertemplate": "<b>%{hovertext}</b><br><br>neighbourhood=Torre Baró<br>total locations=%{x}<br>price average=%{y}<br>total beds=%{marker.size}<extra></extra>",
         "hovertext": [
          "Torre Baró"
         ],
         "legendgroup": "Torre Baró",
         "marker": {
          "color": "#FFA15A",
          "size": [
           8
          ],
          "sizemode": "area",
          "sizeref": 0.76765625,
          "symbol": "circle"
         },
         "mode": "markers",
         "name": "Torre Baró",
         "orientation": "v",
         "showlegend": true,
         "type": "scatter",
         "x": [
          5
         ],
         "xaxis": "x",
         "y": [
          76
         ],
         "yaxis": "y"
        },
        {
         "hovertemplate": "<b>%{hovertext}</b><br><br>neighbourhood=el Bon Pastor<br>total locations=%{x}<br>price average=%{y}<br>total beds=%{marker.size}<extra></extra>",
         "hovertext": [
          "el Bon Pastor"
         ],
         "legendgroup": "el Bon Pastor",
         "marker": {
          "color": "#19d3f3",
          "size": [
           7
          ],
          "sizemode": "area",
          "sizeref": 0.76765625,
          "symbol": "circle"
         },
         "mode": "markers",
         "name": "el Bon Pastor",
         "orientation": "v",
         "showlegend": true,
         "type": "scatter",
         "x": [
          5
         ],
         "xaxis": "x",
         "y": [
          31
         ],
         "yaxis": "y"
        },
        {
         "hovertemplate": "<b>%{hovertext}</b><br><br>neighbourhood=la Vall d'Hebron<br>total locations=%{x}<br>price average=%{y}<br>total beds=%{marker.size}<extra></extra>",
         "hovertext": [
          "la Vall d'Hebron"
         ],
         "legendgroup": "la Vall d'Hebron",
         "marker": {
          "color": "#FF6692",
          "size": [
           11
          ],
          "sizemode": "area",
          "sizeref": 0.76765625,
          "symbol": "circle"
         },
         "mode": "markers",
         "name": "la Vall d'Hebron",
         "orientation": "v",
         "showlegend": true,
         "type": "scatter",
         "x": [
          6
         ],
         "xaxis": "x",
         "y": [
          50
         ],
         "yaxis": "y"
        },
        {
         "hovertemplate": "<b>%{hovertext}</b><br><br>neighbourhood=la Guineueta<br>total locations=%{x}<br>price average=%{y}<br>total beds=%{marker.size}<extra></extra>",
         "hovertext": [
          "la Guineueta"
         ],
         "legendgroup": "la Guineueta",
         "marker": {
          "color": "#B6E880",
          "size": [
           10
          ],
          "sizemode": "area",
          "sizeref": 0.76765625,
          "symbol": "circle"
         },
         "mode": "markers",
         "name": "la Guineueta",
         "orientation": "v",
         "showlegend": true,
         "type": "scatter",
         "x": [
          6
         ],
         "xaxis": "x",
         "y": [
          49
         ],
         "yaxis": "y"
        },
        {
         "hovertemplate": "<b>%{hovertext}</b><br><br>neighbourhood=la Trinitat Nova<br>total locations=%{x}<br>price average=%{y}<br>total beds=%{marker.size}<extra></extra>",
         "hovertext": [
          "la Trinitat Nova"
         ],
         "legendgroup": "la Trinitat Nova",
         "marker": {
          "color": "#FF97FF",
          "size": [
           7
          ],
          "sizemode": "area",
          "sizeref": 0.76765625,
          "symbol": "circle"
         },
         "mode": "markers",
         "name": "la Trinitat Nova",
         "orientation": "v",
         "showlegend": true,
         "type": "scatter",
         "x": [
          6
         ],
         "xaxis": "x",
         "y": [
          102
         ],
         "yaxis": "y"
        },
        {
         "hovertemplate": "<b>%{hovertext}</b><br><br>neighbourhood=Sant Genís dels Agudells<br>total locations=%{x}<br>price average=%{y}<br>total beds=%{marker.size}<extra></extra>",
         "hovertext": [
          "Sant Genís dels Agudells"
         ],
         "legendgroup": "Sant Genís dels Agudells",
         "marker": {
          "color": "#FECB52",
          "size": [
           10
          ],
          "sizemode": "area",
          "sizeref": 0.76765625,
          "symbol": "circle"
         },
         "mode": "markers",
         "name": "Sant Genís dels Agudells",
         "orientation": "v",
         "showlegend": true,
         "type": "scatter",
         "x": [
          6
         ],
         "xaxis": "x",
         "y": [
          64
         ],
         "yaxis": "y"
        },
        {
         "hovertemplate": "<b>%{hovertext}</b><br><br>neighbourhood=Montbau<br>total locations=%{x}<br>price average=%{y}<br>total beds=%{marker.size}<extra></extra>",
         "hovertext": [
          "Montbau"
         ],
         "legendgroup": "Montbau",
         "marker": {
          "color": "#636efa",
          "size": [
           12
          ],
          "sizemode": "area",
          "sizeref": 0.76765625,
          "symbol": "circle"
         },
         "mode": "markers",
         "name": "Montbau",
         "orientation": "v",
         "showlegend": true,
         "type": "scatter",
         "x": [
          7
         ],
         "xaxis": "x",
         "y": [
          73
         ],
         "yaxis": "y"
        },
        {
         "hovertemplate": "<b>%{hovertext}</b><br><br>neighbourhood=Verdun<br>total locations=%{x}<br>price average=%{y}<br>total beds=%{marker.size}<extra></extra>",
         "hovertext": [
          "Verdun"
         ],
         "legendgroup": "Verdun",
         "marker": {
          "color": "#EF553B",
          "size": [
           13
          ],
          "sizemode": "area",
          "sizeref": 0.76765625,
          "symbol": "circle"
         },
         "mode": "markers",
         "name": "Verdun",
         "orientation": "v",
         "showlegend": true,
         "type": "scatter",
         "x": [
          7
         ],
         "xaxis": "x",
         "y": [
          41
         ],
         "yaxis": "y"
        },
        {
         "hovertemplate": "<b>%{hovertext}</b><br><br>neighbourhood=la Font d'en Fargues<br>total locations=%{x}<br>price average=%{y}<br>total beds=%{marker.size}<extra></extra>",
         "hovertext": [
          "la Font d'en Fargues"
         ],
         "legendgroup": "la Font d'en Fargues",
         "marker": {
          "color": "#00cc96",
          "size": [
           26
          ],
          "sizemode": "area",
          "sizeref": 0.76765625,
          "symbol": "circle"
         },
         "mode": "markers",
         "name": "la Font d'en Fargues",
         "orientation": "v",
         "showlegend": true,
         "type": "scatter",
         "x": [
          9
         ],
         "xaxis": "x",
         "y": [
          203
         ],
         "yaxis": "y"
        },
        {
         "hovertemplate": "<b>%{hovertext}</b><br><br>neighbourhood=la Prosperitat<br>total locations=%{x}<br>price average=%{y}<br>total beds=%{marker.size}<extra></extra>",
         "hovertext": [
          "la Prosperitat"
         ],
         "legendgroup": "la Prosperitat",
         "marker": {
          "color": "#ab63fa",
          "size": [
           20
          ],
          "sizemode": "area",
          "sizeref": 0.76765625,
          "symbol": "circle"
         },
         "mode": "markers",
         "name": "la Prosperitat",
         "orientation": "v",
         "showlegend": true,
         "type": "scatter",
         "x": [
          14
         ],
         "xaxis": "x",
         "y": [
          43
         ],
         "yaxis": "y"
        },
        {
         "hovertemplate": "<b>%{hovertext}</b><br><br>neighbourhood=les Roquetes<br>total locations=%{x}<br>price average=%{y}<br>total beds=%{marker.size}<extra></extra>",
         "hovertext": [
          "les Roquetes"
         ],
         "legendgroup": "les Roquetes",
         "marker": {
          "color": "#FFA15A",
          "size": [
           28
          ],
          "sizemode": "area",
          "sizeref": 0.76765625,
          "symbol": "circle"
         },
         "mode": "markers",
         "name": "les Roquetes",
         "orientation": "v",
         "showlegend": true,
         "type": "scatter",
         "x": [
          14
         ],
         "xaxis": "x",
         "y": [
          47
         ],
         "yaxis": "y"
        },
        {
         "hovertemplate": "<b>%{hovertext}</b><br><br>neighbourhood=Horta<br>total locations=%{x}<br>price average=%{y}<br>total beds=%{marker.size}<extra></extra>",
         "hovertext": [
          "Horta"
         ],
         "legendgroup": "Horta",
         "marker": {
          "color": "#19d3f3",
          "size": [
           31
          ],
          "sizemode": "area",
          "sizeref": 0.76765625,
          "symbol": "circle"
         },
         "mode": "markers",
         "name": "Horta",
         "orientation": "v",
         "showlegend": true,
         "type": "scatter",
         "x": [
          15
         ],
         "xaxis": "x",
         "y": [
          57
         ],
         "yaxis": "y"
        },
        {
         "hovertemplate": "<b>%{hovertext}</b><br><br>neighbourhood=Porta<br>total locations=%{x}<br>price average=%{y}<br>total beds=%{marker.size}<extra></extra>",
         "hovertext": [
          "Porta"
         ],
         "legendgroup": "Porta",
         "marker": {
          "color": "#FF6692",
          "size": [
           30
          ],
          "sizemode": "area",
          "sizeref": 0.76765625,
          "symbol": "circle"
         },
         "mode": "markers",
         "name": "Porta",
         "orientation": "v",
         "showlegend": true,
         "type": "scatter",
         "x": [
          18
         ],
         "xaxis": "x",
         "y": [
          47
         ],
         "yaxis": "y"
        },
        {
         "hovertemplate": "<b>%{hovertext}</b><br><br>neighbourhood=Vallvidrera, el Tibidabo i les Planes<br>total locations=%{x}<br>price average=%{y}<br>total beds=%{marker.size}<extra></extra>",
         "hovertext": [
          "Vallvidrera, el Tibidabo i les Planes"
         ],
         "legendgroup": "Vallvidrera, el Tibidabo i les Planes",
         "marker": {
          "color": "#B6E880",
          "size": [
           59
          ],
          "sizemode": "area",
          "sizeref": 0.76765625,
          "symbol": "circle"
         },
         "mode": "markers",
         "name": "Vallvidrera, el Tibidabo i les Planes",
         "orientation": "v",
         "showlegend": true,
         "type": "scatter",
         "x": [
          20
         ],
         "xaxis": "x",
         "y": [
          142
         ],
         "yaxis": "y"
        },
        {
         "hovertemplate": "<b>%{hovertext}</b><br><br>neighbourhood=el Turó de la Peira<br>total locations=%{x}<br>price average=%{y}<br>total beds=%{marker.size}<extra></extra>",
         "hovertext": [
          "el Turó de la Peira"
         ],
         "legendgroup": "el Turó de la Peira",
         "marker": {
          "color": "#FF97FF",
          "size": [
           24
          ],
          "sizemode": "area",
          "sizeref": 0.76765625,
          "symbol": "circle"
         },
         "mode": "markers",
         "name": "el Turó de la Peira",
         "orientation": "v",
         "showlegend": true,
         "type": "scatter",
         "x": [
          20
         ],
         "xaxis": "x",
         "y": [
          27
         ],
         "yaxis": "y"
        },
        {
         "hovertemplate": "<b>%{hovertext}</b><br><br>neighbourhood=Pedralbes<br>total locations=%{x}<br>price average=%{y}<br>total beds=%{marker.size}<extra></extra>",
         "hovertext": [
          "Pedralbes"
         ],
         "legendgroup": "Pedralbes",
         "marker": {
          "color": "#FECB52",
          "size": [
           51
          ],
          "sizemode": "area",
          "sizeref": 0.76765625,
          "symbol": "circle"
         },
         "mode": "markers",
         "name": "Pedralbes",
         "orientation": "v",
         "showlegend": true,
         "type": "scatter",
         "x": [
          20
         ],
         "xaxis": "x",
         "y": [
          83
         ],
         "yaxis": "y"
        },
        {
         "hovertemplate": "<b>%{hovertext}</b><br><br>neighbourhood=la Teixonera<br>total locations=%{x}<br>price average=%{y}<br>total beds=%{marker.size}<extra></extra>",
         "hovertext": [
          "la Teixonera"
         ],
         "legendgroup": "la Teixonera",
         "marker": {
          "color": "#636efa",
          "size": [
           32
          ],
          "sizemode": "area",
          "sizeref": 0.76765625,
          "symbol": "circle"
         },
         "mode": "markers",
         "name": "la Teixonera",
         "orientation": "v",
         "showlegend": true,
         "type": "scatter",
         "x": [
          21
         ],
         "xaxis": "x",
         "y": [
          63
         ],
         "yaxis": "y"
        },
        {
         "hovertemplate": "<b>%{hovertext}</b><br><br>neighbourhood=Sarrià<br>total locations=%{x}<br>price average=%{y}<br>total beds=%{marker.size}<extra></extra>",
         "hovertext": [
          "Sarrià"
         ],
         "legendgroup": "Sarrià",
         "marker": {
          "color": "#EF553B",
          "size": [
           52
          ],
          "sizemode": "area",
          "sizeref": 0.76765625,
          "symbol": "circle"
         },
         "mode": "markers",
         "name": "Sarrià",
         "orientation": "v",
         "showlegend": true,
         "type": "scatter",
         "x": [
          24
         ],
         "xaxis": "x",
         "y": [
          94
         ],
         "yaxis": "y"
        },
        {
         "hovertemplate": "<b>%{hovertext}</b><br><br>neighbourhood=les Tres Torres<br>total locations=%{x}<br>price average=%{y}<br>total beds=%{marker.size}<extra></extra>",
         "hovertext": [
          "les Tres Torres"
         ],
         "legendgroup": "les Tres Torres",
         "marker": {
          "color": "#00cc96",
          "size": [
           54
          ],
          "sizemode": "area",
          "sizeref": 0.76765625,
          "symbol": "circle"
         },
         "mode": "markers",
         "name": "les Tres Torres",
         "orientation": "v",
         "showlegend": true,
         "type": "scatter",
         "x": [
          24
         ],
         "xaxis": "x",
         "y": [
          78
         ],
         "yaxis": "y"
        },
        {
         "hovertemplate": "<b>%{hovertext}</b><br><br>neighbourhood=el Congrés i els Indians<br>total locations=%{x}<br>price average=%{y}<br>total beds=%{marker.size}<extra></extra>",
         "hovertext": [
          "el Congrés i els Indians"
         ],
         "legendgroup": "el Congrés i els Indians",
         "marker": {
          "color": "#ab63fa",
          "size": [
           51
          ],
          "sizemode": "area",
          "sizeref": 0.76765625,
          "symbol": "circle"
         },
         "mode": "markers",
         "name": "el Congrés i els Indians",
         "orientation": "v",
         "showlegend": true,
         "type": "scatter",
         "x": [
          25
         ],
         "xaxis": "x",
         "y": [
          54
         ],
         "yaxis": "y"
        },
        {
         "hovertemplate": "<b>%{hovertext}</b><br><br>neighbourhood=el Coll<br>total locations=%{x}<br>price average=%{y}<br>total beds=%{marker.size}<extra></extra>",
         "hovertext": [
          "el Coll"
         ],
         "legendgroup": "el Coll",
         "marker": {
          "color": "#FFA15A",
          "size": [
           78
          ],
          "sizemode": "area",
          "sizeref": 0.76765625,
          "symbol": "circle"
         },
         "mode": "markers",
         "name": "el Coll",
         "orientation": "v",
         "showlegend": true,
         "type": "scatter",
         "x": [
          25
         ],
         "xaxis": "x",
         "y": [
          72
         ],
         "yaxis": "y"
        },
        {
         "hovertemplate": "<b>%{hovertext}</b><br><br>neighbourhood=la Verneda i la Pau<br>total locations=%{x}<br>price average=%{y}<br>total beds=%{marker.size}<extra></extra>",
         "hovertext": [
          "la Verneda i la Pau"
         ],
         "legendgroup": "la Verneda i la Pau",
         "marker": {
          "color": "#19d3f3",
          "size": [
           60
          ],
          "sizemode": "area",
          "sizeref": 0.76765625,
          "symbol": "circle"
         },
         "mode": "markers",
         "name": "la Verneda i la Pau",
         "orientation": "v",
         "showlegend": true,
         "type": "scatter",
         "x": [
          27
         ],
         "xaxis": "x",
         "y": [
          49
         ],
         "yaxis": "y"
        },
        {
         "hovertemplate": "<b>%{hovertext}</b><br><br>neighbourhood=la Sagrera<br>total locations=%{x}<br>price average=%{y}<br>total beds=%{marker.size}<extra></extra>",
         "hovertext": [
          "la Sagrera"
         ],
         "legendgroup": "la Sagrera",
         "marker": {
          "color": "#FF6692",
          "size": [
           50
          ],
          "sizemode": "area",
          "sizeref": 0.76765625,
          "symbol": "circle"
         },
         "mode": "markers",
         "name": "la Sagrera",
         "orientation": "v",
         "showlegend": true,
         "type": "scatter",
         "x": [
          27
         ],
         "xaxis": "x",
         "y": [
          69
         ],
         "yaxis": "y"
        },
        {
         "hovertemplate": "<b>%{hovertext}</b><br><br>neighbourhood=Can Baró<br>total locations=%{x}<br>price average=%{y}<br>total beds=%{marker.size}<extra></extra>",
         "hovertext": [
          "Can Baró"
         ],
         "legendgroup": "Can Baró",
         "marker": {
          "color": "#B6E880",
          "size": [
           55
          ],
          "sizemode": "area",
          "sizeref": 0.76765625,
          "symbol": "circle"
         },
         "mode": "markers",
         "name": "Can Baró",
         "orientation": "v",
         "showlegend": true,
         "type": "scatter",
         "x": [
          32
         ],
         "xaxis": "x",
         "y": [
          61
         ],
         "yaxis": "y"
        },
        {
         "hovertemplate": "<b>%{hovertext}</b><br><br>neighbourhood=la Marina de Port<br>total locations=%{x}<br>price average=%{y}<br>total beds=%{marker.size}<extra></extra>",
         "hovertext": [
          "la Marina de Port"
         ],
         "legendgroup": "la Marina de Port",
         "marker": {
          "color": "#FF97FF",
          "size": [
           44
          ],
          "sizemode": "area",
          "sizeref": 0.76765625,
          "symbol": "circle"
         },
         "mode": "markers",
         "name": "la Marina de Port",
         "orientation": "v",
         "showlegend": true,
         "type": "scatter",
         "x": [
          35
         ],
         "xaxis": "x",
         "y": [
          49
         ],
         "yaxis": "y"
        },
        {
         "hovertemplate": "<b>%{hovertext}</b><br><br>neighbourhood=Sant Gervasi - la Bonanova<br>total locations=%{x}<br>price average=%{y}<br>total beds=%{marker.size}<extra></extra>",
         "hovertext": [
          "Sant Gervasi - la Bonanova"
         ],
         "legendgroup": "Sant Gervasi - la Bonanova",
         "marker": {
          "color": "#FECB52",
          "size": [
           87
          ],
          "sizemode": "area",
          "sizeref": 0.76765625,
          "symbol": "circle"
         },
         "mode": "markers",
         "name": "Sant Gervasi - la Bonanova",
         "orientation": "v",
         "showlegend": true,
         "type": "scatter",
         "x": [
          35
         ],
         "xaxis": "x",
         "y": [
          396
         ],
         "yaxis": "y"
        },
        {
         "hovertemplate": "<b>%{hovertext}</b><br><br>neighbourhood=Navas<br>total locations=%{x}<br>price average=%{y}<br>total beds=%{marker.size}<extra></extra>",
         "hovertext": [
          "Navas"
         ],
         "legendgroup": "Navas",
         "marker": {
          "color": "#636efa",
          "size": [
           73
          ],
          "sizemode": "area",
          "sizeref": 0.76765625,
          "symbol": "circle"
         },
         "mode": "markers",
         "name": "Navas",
         "orientation": "v",
         "showlegend": true,
         "type": "scatter",
         "x": [
          36
         ],
         "xaxis": "x",
         "y": [
          55
         ],
         "yaxis": "y"
        },
        {
         "hovertemplate": "<b>%{hovertext}</b><br><br>neighbourhood=Vilapicina i la Torre Llobeta<br>total locations=%{x}<br>price average=%{y}<br>total beds=%{marker.size}<extra></extra>",
         "hovertext": [
          "Vilapicina i la Torre Llobeta"
         ],
         "legendgroup": "Vilapicina i la Torre Llobeta",
         "marker": {
          "color": "#EF553B",
          "size": [
           76
          ],
          "sizemode": "area",
          "sizeref": 0.76765625,
          "symbol": "circle"
         },
         "mode": "markers",
         "name": "Vilapicina i la Torre Llobeta",
         "orientation": "v",
         "showlegend": true,
         "type": "scatter",
         "x": [
          36
         ],
         "xaxis": "x",
         "y": [
          454
         ],
         "yaxis": "y"
        },
        {
         "hovertemplate": "<b>%{hovertext}</b><br><br>neighbourhood=Sant Andreu<br>total locations=%{x}<br>price average=%{y}<br>total beds=%{marker.size}<extra></extra>",
         "hovertext": [
          "Sant Andreu"
         ],
         "legendgroup": "Sant Andreu",
         "marker": {
          "color": "#00cc96",
          "size": [
           98
          ],
          "sizemode": "area",
          "sizeref": 0.76765625,
          "symbol": "circle"
         },
         "mode": "markers",
         "name": "Sant Andreu",
         "orientation": "v",
         "showlegend": true,
         "type": "scatter",
         "x": [
          41
         ],
         "xaxis": "x",
         "y": [
          89
         ],
         "yaxis": "y"
        },
        {
         "hovertemplate": "<b>%{hovertext}</b><br><br>neighbourhood=Sant Martí de Provençals<br>total locations=%{x}<br>price average=%{y}<br>total beds=%{marker.size}<extra></extra>",
         "hovertext": [
          "Sant Martí de Provençals"
         ],
         "legendgroup": "Sant Martí de Provençals",
         "marker": {
          "color": "#ab63fa",
          "size": [
           84
          ],
          "sizemode": "area",
          "sizeref": 0.76765625,
          "symbol": "circle"
         },
         "mode": "markers",
         "name": "Sant Martí de Provençals",
         "orientation": "v",
         "showlegend": true,
         "type": "scatter",
         "x": [
          44
         ],
         "xaxis": "x",
         "y": [
          49
         ],
         "yaxis": "y"
        },
        {
         "hovertemplate": "<b>%{hovertext}</b><br><br>neighbourhood=la Bordeta<br>total locations=%{x}<br>price average=%{y}<br>total beds=%{marker.size}<extra></extra>",
         "hovertext": [
          "la Bordeta"
         ],
         "legendgroup": "la Bordeta",
         "marker": {
          "color": "#FFA15A",
          "size": [
           89
          ],
          "sizemode": "area",
          "sizeref": 0.76765625,
          "symbol": "circle"
         },
         "mode": "markers",
         "name": "la Bordeta",
         "orientation": "v",
         "showlegend": true,
         "type": "scatter",
         "x": [
          50
         ],
         "xaxis": "x",
         "y": [
          116
         ],
         "yaxis": "y"
        },
        {
         "hovertemplate": "<b>%{hovertext}</b><br><br>neighbourhood=Provençals del Poblenou<br>total locations=%{x}<br>price average=%{y}<br>total beds=%{marker.size}<extra></extra>",
         "hovertext": [
          "Provençals del Poblenou"
         ],
         "legendgroup": "Provençals del Poblenou",
         "marker": {
          "color": "#19d3f3",
          "size": [
           115
          ],
          "sizemode": "area",
          "sizeref": 0.76765625,
          "symbol": "circle"
         },
         "mode": "markers",
         "name": "Provençals del Poblenou",
         "orientation": "v",
         "showlegend": true,
         "type": "scatter",
         "x": [
          53
         ],
         "xaxis": "x",
         "y": [
          89
         ],
         "yaxis": "y"
        },
        {
         "hovertemplate": "<b>%{hovertext}</b><br><br>neighbourhood=la Salut<br>total locations=%{x}<br>price average=%{y}<br>total beds=%{marker.size}<extra></extra>",
         "hovertext": [
          "la Salut"
         ],
         "legendgroup": "la Salut",
         "marker": {
          "color": "#FF6692",
          "size": [
           112
          ],
          "sizemode": "area",
          "sizeref": 0.76765625,
          "symbol": "circle"
         },
         "mode": "markers",
         "name": "la Salut",
         "orientation": "v",
         "showlegend": true,
         "type": "scatter",
         "x": [
          57
         ],
         "xaxis": "x",
         "y": [
          80
         ],
         "yaxis": "y"
        },
        {
         "hovertemplate": "<b>%{hovertext}</b><br><br>neighbourhood=el Carmel<br>total locations=%{x}<br>price average=%{y}<br>total beds=%{marker.size}<extra></extra>",
         "hovertext": [
          "el Carmel"
         ],
         "legendgroup": "el Carmel",
         "marker": {
          "color": "#B6E880",
          "size": [
           160
          ],
          "sizemode": "area",
          "sizeref": 0.76765625,
          "symbol": "circle"
         },
         "mode": "markers",
         "name": "el Carmel",
         "orientation": "v",
         "showlegend": true,
         "type": "scatter",
         "x": [
          57
         ],
         "xaxis": "x",
         "y": [
          92
         ],
         "yaxis": "y"
        },
        {
         "hovertemplate": "<b>%{hovertext}</b><br><br>neighbourhood=la Font de la Guatlla<br>total locations=%{x}<br>price average=%{y}<br>total beds=%{marker.size}<extra></extra>",
         "hovertext": [
          "la Font de la Guatlla"
         ],
         "legendgroup": "la Font de la Guatlla",
         "marker": {
          "color": "#FF97FF",
          "size": [
           143
          ],
          "sizemode": "area",
          "sizeref": 0.76765625,
          "symbol": "circle"
         },
         "mode": "markers",
         "name": "la Font de la Guatlla",
         "orientation": "v",
         "showlegend": true,
         "type": "scatter",
         "x": [
          65
         ],
         "xaxis": "x",
         "y": [
          67
         ],
         "yaxis": "y"
        },
        {
         "hovertemplate": "<b>%{hovertext}</b><br><br>neighbourhood=el Clot<br>total locations=%{x}<br>price average=%{y}<br>total beds=%{marker.size}<extra></extra>",
         "hovertext": [
          "el Clot"
         ],
         "legendgroup": "el Clot",
         "marker": {
          "color": "#FECB52",
          "size": [
           122
          ],
          "sizemode": "area",
          "sizeref": 0.76765625,
          "symbol": "circle"
         },
         "mode": "markers",
         "name": "el Clot",
         "orientation": "v",
         "showlegend": true,
         "type": "scatter",
         "x": [
          66
         ],
         "xaxis": "x",
         "y": [
          71
         ],
         "yaxis": "y"
        },
        {
         "hovertemplate": "<b>%{hovertext}</b><br><br>neighbourhood=la Maternitat i Sant Ramon<br>total locations=%{x}<br>price average=%{y}<br>total beds=%{marker.size}<extra></extra>",
         "hovertext": [
          "la Maternitat i Sant Ramon"
         ],
         "legendgroup": "la Maternitat i Sant Ramon",
         "marker": {
          "color": "#636efa",
          "size": [
           178
          ],
          "sizemode": "area",
          "sizeref": 0.76765625,
          "symbol": "circle"
         },
         "mode": "markers",
         "name": "la Maternitat i Sant Ramon",
         "orientation": "v",
         "showlegend": true,
         "type": "scatter",
         "x": [
          70
         ],
         "xaxis": "x",
         "y": [
          211
         ],
         "yaxis": "y"
        },
        {
         "hovertemplate": "<b>%{hovertext}</b><br><br>neighbourhood=Vallcarca i els Penitents<br>total locations=%{x}<br>price average=%{y}<br>total beds=%{marker.size}<extra></extra>",
         "hovertext": [
          "Vallcarca i els Penitents"
         ],
         "legendgroup": "Vallcarca i els Penitents",
         "marker": {
          "color": "#EF553B",
          "size": [
           195
          ],
          "sizemode": "area",
          "sizeref": 0.76765625,
          "symbol": "circle"
         },
         "mode": "markers",
         "name": "Vallcarca i els Penitents",
         "orientation": "v",
         "showlegend": true,
         "type": "scatter",
         "x": [
          70
         ],
         "xaxis": "x",
         "y": [
          100
         ],
         "yaxis": "y"
        },
        {
         "hovertemplate": "<b>%{hovertext}</b><br><br>neighbourhood=el Besòs i el Maresme<br>total locations=%{x}<br>price average=%{y}<br>total beds=%{marker.size}<extra></extra>",
         "hovertext": [
          "el Besòs i el Maresme"
         ],
         "legendgroup": "el Besòs i el Maresme",
         "marker": {
          "color": "#00cc96",
          "size": [
           168
          ],
          "sizemode": "area",
          "sizeref": 0.76765625,
          "symbol": "circle"
         },
         "mode": "markers",
         "name": "el Besòs i el Maresme",
         "orientation": "v",
         "showlegend": true,
         "type": "scatter",
         "x": [
          74
         ],
         "xaxis": "x",
         "y": [
          78
         ],
         "yaxis": "y"
        },
        {
         "hovertemplate": "<b>%{hovertext}</b><br><br>neighbourhood=el Baix Guinardó<br>total locations=%{x}<br>price average=%{y}<br>total beds=%{marker.size}<extra></extra>",
         "hovertext": [
          "el Baix Guinardó"
         ],
         "legendgroup": "el Baix Guinardó",
         "marker": {
          "color": "#ab63fa",
          "size": [
           165
          ],
          "sizemode": "area",
          "sizeref": 0.76765625,
          "symbol": "circle"
         },
         "mode": "markers",
         "name": "el Baix Guinardó",
         "orientation": "v",
         "showlegend": true,
         "type": "scatter",
         "x": [
          79
         ],
         "xaxis": "x",
         "y": [
          70
         ],
         "yaxis": "y"
        },
        {
         "hovertemplate": "<b>%{hovertext}</b><br><br>neighbourhood=la Vila Olímpica del Poblenou<br>total locations=%{x}<br>price average=%{y}<br>total beds=%{marker.size}<extra></extra>",
         "hovertext": [
          "la Vila Olímpica del Poblenou"
         ],
         "legendgroup": "la Vila Olímpica del Poblenou",
         "marker": {
          "color": "#FFA15A",
          "size": [
           352
          ],
          "sizemode": "area",
          "sizeref": 0.76765625,
          "symbol": "circle"
         },
         "mode": "markers",
         "name": "la Vila Olímpica del Poblenou",
         "orientation": "v",
         "showlegend": true,
         "type": "scatter",
         "x": [
          101
         ],
         "xaxis": "x",
         "y": [
          141
         ],
         "yaxis": "y"
        },
        {
         "hovertemplate": "<b>%{hovertext}</b><br><br>neighbourhood=el Guinardó<br>total locations=%{x}<br>price average=%{y}<br>total beds=%{marker.size}<extra></extra>",
         "hovertext": [
          "el Guinardó"
         ],
         "legendgroup": "el Guinardó",
         "marker": {
          "color": "#19d3f3",
          "size": [
           206
          ],
          "sizemode": "area",
          "sizeref": 0.76765625,
          "symbol": "circle"
         },
         "mode": "markers",
         "name": "el Guinardó",
         "orientation": "v",
         "showlegend": true,
         "type": "scatter",
         "x": [
          103
         ],
         "xaxis": "x",
         "y": [
          67
         ],
         "yaxis": "y"
        },
        {
         "hovertemplate": "<b>%{hovertext}</b><br><br>neighbourhood=Diagonal Mar i el Front Marítim del Poblenou<br>total locations=%{x}<br>price average=%{y}<br>total beds=%{marker.size}<extra></extra>",
         "hovertext": [
          "Diagonal Mar i el Front Marítim del Poblenou"
         ],
         "legendgroup": "Diagonal Mar i el Front Marítim del Poblenou",
         "marker": {
          "color": "#FF6692",
          "size": [
           403
          ],
          "sizemode": "area",
          "sizeref": 0.76765625,
          "symbol": "circle"
         },
         "mode": "markers",
         "name": "Diagonal Mar i el Front Marítim del Poblenou",
         "orientation": "v",
         "showlegend": true,
         "type": "scatter",
         "x": [
          112
         ],
         "xaxis": "x",
         "y": [
          175
         ],
         "yaxis": "y"
        },
        {
         "hovertemplate": "<b>%{hovertext}</b><br><br>neighbourhood=Sants - Badal<br>total locations=%{x}<br>price average=%{y}<br>total beds=%{marker.size}<extra></extra>",
         "hovertext": [
          "Sants - Badal"
         ],
         "legendgroup": "Sants - Badal",
         "marker": {
          "color": "#B6E880",
          "size": [
           274
          ],
          "sizemode": "area",
          "sizeref": 0.76765625,
          "symbol": "circle"
         },
         "mode": "markers",
         "name": "Sants - Badal",
         "orientation": "v",
         "showlegend": true,
         "type": "scatter",
         "x": [
          124
         ],
         "xaxis": "x",
         "y": [
          58
         ],
         "yaxis": "y"
        },
        {
         "hovertemplate": "<b>%{hovertext}</b><br><br>neighbourhood=el Putxet i el Farró<br>total locations=%{x}<br>price average=%{y}<br>total beds=%{marker.size}<extra></extra>",
         "hovertext": [
          "el Putxet i el Farró"
         ],
         "legendgroup": "el Putxet i el Farró",
         "marker": {
          "color": "#FF97FF",
          "size": [
           380
          ],
          "sizemode": "area",
          "sizeref": 0.76765625,
          "symbol": "circle"
         },
         "mode": "markers",
         "name": "el Putxet i el Farró",
         "orientation": "v",
         "showlegend": true,
         "type": "scatter",
         "x": [
          142
         ],
         "xaxis": "x",
         "y": [
          111
         ],
         "yaxis": "y"
        },
        {
         "hovertemplate": "<b>%{hovertext}</b><br><br>neighbourhood=el Parc i la Llacuna del Poblenou<br>total locations=%{x}<br>price average=%{y}<br>total beds=%{marker.size}<extra></extra>",
         "hovertext": [
          "el Parc i la Llacuna del Poblenou"
         ],
         "legendgroup": "el Parc i la Llacuna del Poblenou",
         "marker": {
          "color": "#FECB52",
          "size": [
           358
          ],
          "sizemode": "area",
          "sizeref": 0.76765625,
          "symbol": "circle"
         },
         "mode": "markers",
         "name": "el Parc i la Llacuna del Poblenou",
         "orientation": "v",
         "showlegend": true,
         "type": "scatter",
         "x": [
          144
         ],
         "xaxis": "x",
         "y": [
          107
         ],
         "yaxis": "y"
        },
        {
         "hovertemplate": "<b>%{hovertext}</b><br><br>neighbourhood=les Corts<br>total locations=%{x}<br>price average=%{y}<br>total beds=%{marker.size}<extra></extra>",
         "hovertext": [
          "les Corts"
         ],
         "legendgroup": "les Corts",
         "marker": {
          "color": "#636efa",
          "size": [
           377
          ],
          "sizemode": "area",
          "sizeref": 0.76765625,
          "symbol": "circle"
         },
         "mode": "markers",
         "name": "les Corts",
         "orientation": "v",
         "showlegend": true,
         "type": "scatter",
         "x": [
          146
         ],
         "xaxis": "x",
         "y": [
          107
         ],
         "yaxis": "y"
        },
        {
         "hovertemplate": "<b>%{hovertext}</b><br><br>neighbourhood=Hostafrancs<br>total locations=%{x}<br>price average=%{y}<br>total beds=%{marker.size}<extra></extra>",
         "hovertext": [
          "Hostafrancs"
         ],
         "legendgroup": "Hostafrancs",
         "marker": {
          "color": "#EF553B",
          "size": [
           377
          ],
          "sizemode": "area",
          "sizeref": 0.76765625,
          "symbol": "circle"
         },
         "mode": "markers",
         "name": "Hostafrancs",
         "orientation": "v",
         "showlegend": true,
         "type": "scatter",
         "x": [
          165
         ],
         "xaxis": "x",
         "y": [
          105
         ],
         "yaxis": "y"
        },
        {
         "hovertemplate": "<b>%{hovertext}</b><br><br>neighbourhood=el Camp d'en Grassot i Gràcia Nova<br>total locations=%{x}<br>price average=%{y}<br>total beds=%{marker.size}<extra></extra>",
         "hovertext": [
          "el Camp d'en Grassot i Gràcia Nova"
         ],
         "legendgroup": "el Camp d'en Grassot i Gràcia Nova",
         "marker": {
          "color": "#00cc96",
          "size": [
           599
          ],
          "sizemode": "area",
          "sizeref": 0.76765625,
          "symbol": "circle"
         },
         "mode": "markers",
         "name": "el Camp d'en Grassot i Gràcia Nova",
         "orientation": "v",
         "showlegend": true,
         "type": "scatter",
         "x": [
          228
         ],
         "xaxis": "x",
         "y": [
          113
         ],
         "yaxis": "y"
        },
        {
         "hovertemplate": "<b>%{hovertext}</b><br><br>neighbourhood=Sant Gervasi - Galvany<br>total locations=%{x}<br>price average=%{y}<br>total beds=%{marker.size}<extra></extra>",
         "hovertext": [
          "Sant Gervasi - Galvany"
         ],
         "legendgroup": "Sant Gervasi - Galvany",
         "marker": {
          "color": "#ab63fa",
          "size": [
           595
          ],
          "sizemode": "area",
          "sizeref": 0.76765625,
          "symbol": "circle"
         },
         "mode": "markers",
         "name": "Sant Gervasi - Galvany",
         "orientation": "v",
         "showlegend": true,
         "type": "scatter",
         "x": [
          229
         ],
         "xaxis": "x",
         "y": [
          130
         ],
         "yaxis": "y"
        },
        {
         "hovertemplate": "<b>%{hovertext}</b><br><br>neighbourhood=Sants<br>total locations=%{x}<br>price average=%{y}<br>total beds=%{marker.size}<extra></extra>",
         "hovertext": [
          "Sants"
         ],
         "legendgroup": "Sants",
         "marker": {
          "color": "#FFA15A",
          "size": [
           519
          ],
          "sizemode": "area",
          "sizeref": 0.76765625,
          "symbol": "circle"
         },
         "mode": "markers",
         "name": "Sants",
         "orientation": "v",
         "showlegend": true,
         "type": "scatter",
         "x": [
          236
         ],
         "xaxis": "x",
         "y": [
          81
         ],
         "yaxis": "y"
        },
        {
         "hovertemplate": "<b>%{hovertext}</b><br><br>neighbourhood=el Camp de l'Arpa del Clot<br>total locations=%{x}<br>price average=%{y}<br>total beds=%{marker.size}<extra></extra>",
         "hovertext": [
          "el Camp de l'Arpa del Clot"
         ],
         "legendgroup": "el Camp de l'Arpa del Clot",
         "marker": {
          "color": "#19d3f3",
          "size": [
           628
          ],
          "sizemode": "area",
          "sizeref": 0.76765625,
          "symbol": "circle"
         },
         "mode": "markers",
         "name": "el Camp de l'Arpa del Clot",
         "orientation": "v",
         "showlegend": true,
         "type": "scatter",
         "x": [
          251
         ],
         "xaxis": "x",
         "y": [
          116
         ],
         "yaxis": "y"
        },
        {
         "hovertemplate": "<b>%{hovertext}</b><br><br>neighbourhood=la Barceloneta<br>total locations=%{x}<br>price average=%{y}<br>total beds=%{marker.size}<extra></extra>",
         "hovertext": [
          "la Barceloneta"
         ],
         "legendgroup": "la Barceloneta",
         "marker": {
          "color": "#FF6692",
          "size": [
           462
          ],
          "sizemode": "area",
          "sizeref": 0.76765625,
          "symbol": "circle"
         },
         "mode": "markers",
         "name": "la Barceloneta",
         "orientation": "v",
         "showlegend": true,
         "type": "scatter",
         "x": [
          280
         ],
         "xaxis": "x",
         "y": [
          73
         ],
         "yaxis": "y"
        },
        {
         "hovertemplate": "<b>%{hovertext}</b><br><br>neighbourhood=el Poblenou<br>total locations=%{x}<br>price average=%{y}<br>total beds=%{marker.size}<extra></extra>",
         "hovertext": [
          "el Poblenou"
         ],
         "legendgroup": "el Poblenou",
         "marker": {
          "color": "#B6E880",
          "size": [
           676
          ],
          "sizemode": "area",
          "sizeref": 0.76765625,
          "symbol": "circle"
         },
         "mode": "markers",
         "name": "el Poblenou",
         "orientation": "v",
         "showlegend": true,
         "type": "scatter",
         "x": [
          290
         ],
         "xaxis": "x",
         "y": [
          102
         ],
         "yaxis": "y"
        },
        {
         "hovertemplate": "<b>%{hovertext}</b><br><br>neighbourhood=el Fort Pienc<br>total locations=%{x}<br>price average=%{y}<br>total beds=%{marker.size}<extra></extra>",
         "hovertext": [
          "el Fort Pienc"
         ],
         "legendgroup": "el Fort Pienc",
         "marker": {
          "color": "#FF97FF",
          "size": [
           1134
          ],
          "sizemode": "area",
          "sizeref": 0.76765625,
          "symbol": "circle"
         },
         "mode": "markers",
         "name": "el Fort Pienc",
         "orientation": "v",
         "showlegend": true,
         "type": "scatter",
         "x": [
          373
         ],
         "xaxis": "x",
         "y": [
          230
         ],
         "yaxis": "y"
        },
        {
         "hovertemplate": "<b>%{hovertext}</b><br><br>neighbourhood=la Nova Esquerra de l'Eixample<br>total locations=%{x}<br>price average=%{y}<br>total beds=%{marker.size}<extra></extra>",
         "hovertext": [
          "la Nova Esquerra de l'Eixample"
         ],
         "legendgroup": "la Nova Esquerra de l'Eixample",
         "marker": {
          "color": "#FECB52",
          "size": [
           1097
          ],
          "sizemode": "area",
          "sizeref": 0.76765625,
          "symbol": "circle"
         },
         "mode": "markers",
         "name": "la Nova Esquerra de l'Eixample",
         "orientation": "v",
         "showlegend": true,
         "type": "scatter",
         "x": [
          459
         ],
         "xaxis": "x",
         "y": [
          82
         ],
         "yaxis": "y"
        },
        {
         "hovertemplate": "<b>%{hovertext}</b><br><br>neighbourhood=el Poble Sec<br>total locations=%{x}<br>price average=%{y}<br>total beds=%{marker.size}<extra></extra>",
         "hovertext": [
          "el Poble Sec"
         ],
         "legendgroup": "el Poble Sec",
         "marker": {
          "color": "#636efa",
          "size": [
           1708
          ],
          "sizemode": "area",
          "sizeref": 0.76765625,
          "symbol": "circle"
         },
         "mode": "markers",
         "name": "el Poble Sec",
         "orientation": "v",
         "showlegend": true,
         "type": "scatter",
         "x": [
          643
         ],
         "xaxis": "x",
         "y": [
          97
         ],
         "yaxis": "y"
        },
        {
         "hovertemplate": "<b>%{hovertext}</b><br><br>neighbourhood=Sant Antoni<br>total locations=%{x}<br>price average=%{y}<br>total beds=%{marker.size}<extra></extra>",
         "hovertext": [
          "Sant Antoni"
         ],
         "legendgroup": "Sant Antoni",
         "marker": {
          "color": "#EF553B",
          "size": [
           1774
          ],
          "sizemode": "area",
          "sizeref": 0.76765625,
          "symbol": "circle"
         },
         "mode": "markers",
         "name": "Sant Antoni",
         "orientation": "v",
         "showlegend": true,
         "type": "scatter",
         "x": [
          668
         ],
         "xaxis": "x",
         "y": [
          115
         ],
         "yaxis": "y"
        },
        {
         "hovertemplate": "<b>%{hovertext}</b><br><br>neighbourhood=l'Antiga Esquerra de l'Eixample<br>total locations=%{x}<br>price average=%{y}<br>total beds=%{marker.size}<extra></extra>",
         "hovertext": [
          "l'Antiga Esquerra de l'Eixample"
         ],
         "legendgroup": "l'Antiga Esquerra de l'Eixample",
         "marker": {
          "color": "#00cc96",
          "size": [
           1922
          ],
          "sizemode": "area",
          "sizeref": 0.76765625,
          "symbol": "circle"
         },
         "mode": "markers",
         "name": "l'Antiga Esquerra de l'Eixample",
         "orientation": "v",
         "showlegend": true,
         "type": "scatter",
         "x": [
          688
         ],
         "xaxis": "x",
         "y": [
          125
         ],
         "yaxis": "y"
        },
        {
         "hovertemplate": "<b>%{hovertext}</b><br><br>neighbourhood=la Vila de Gràcia<br>total locations=%{x}<br>price average=%{y}<br>total beds=%{marker.size}<extra></extra>",
         "hovertext": [
          "la Vila de Gràcia"
         ],
         "legendgroup": "la Vila de Gràcia",
         "marker": {
          "color": "#ab63fa",
          "size": [
           1750
          ],
          "sizemode": "area",
          "sizeref": 0.76765625,
          "symbol": "circle"
         },
         "mode": "markers",
         "name": "la Vila de Gràcia",
         "orientation": "v",
         "showlegend": true,
         "type": "scatter",
         "x": [
          729
         ],
         "xaxis": "x",
         "y": [
          99
         ],
         "yaxis": "y"
        },
        {
         "hovertemplate": "<b>%{hovertext}</b><br><br>neighbourhood=Sant Pere, Santa Caterina i la Ribera<br>total locations=%{x}<br>price average=%{y}<br>total beds=%{marker.size}<extra></extra>",
         "hovertext": [
          "Sant Pere, Santa Caterina i la Ribera"
         ],
         "legendgroup": "Sant Pere, Santa Caterina i la Ribera",
         "marker": {
          "color": "#FFA15A",
          "size": [
           1566
          ],
          "sizemode": "area",
          "sizeref": 0.76765625,
          "symbol": "circle"
         },
         "mode": "markers",
         "name": "Sant Pere, Santa Caterina i la Ribera",
         "orientation": "v",
         "showlegend": true,
         "type": "scatter",
         "x": [
          758
         ],
         "xaxis": "x",
         "y": [
          92
         ],
         "yaxis": "y"
        },
        {
         "hovertemplate": "<b>%{hovertext}</b><br><br>neighbourhood=la Sagrada Família<br>total locations=%{x}<br>price average=%{y}<br>total beds=%{marker.size}<extra></extra>",
         "hovertext": [
          "la Sagrada Família"
         ],
         "legendgroup": "la Sagrada Família",
         "marker": {
          "color": "#19d3f3",
          "size": [
           2373
          ],
          "sizemode": "area",
          "sizeref": 0.76765625,
          "symbol": "circle"
         },
         "mode": "markers",
         "name": "la Sagrada Família",
         "orientation": "v",
         "showlegend": true,
         "type": "scatter",
         "x": [
          784
         ],
         "xaxis": "x",
         "y": [
          136
         ],
         "yaxis": "y"
        },
        {
         "hovertemplate": "<b>%{hovertext}</b><br><br>neighbourhood=el Barri Gòtic<br>total locations=%{x}<br>price average=%{y}<br>total beds=%{marker.size}<extra></extra>",
         "hovertext": [
          "el Barri Gòtic"
         ],
         "legendgroup": "el Barri Gòtic",
         "marker": {
          "color": "#FF6692",
          "size": [
           1728
          ],
          "sizemode": "area",
          "sizeref": 0.76765625,
          "symbol": "circle"
         },
         "mode": "markers",
         "name": "el Barri Gòtic",
         "orientation": "v",
         "showlegend": true,
         "type": "scatter",
         "x": [
          805
         ],
         "xaxis": "x",
         "y": [
          96
         ],
         "yaxis": "y"
        },
        {
         "hovertemplate": "<b>%{hovertext}</b><br><br>neighbourhood=el Raval<br>total locations=%{x}<br>price average=%{y}<br>total beds=%{marker.size}<extra></extra>",
         "hovertext": [
          "el Raval"
         ],
         "legendgroup": "el Raval",
         "marker": {
          "color": "#B6E880",
          "size": [
           2054
          ],
          "sizemode": "area",
          "sizeref": 0.76765625,
          "symbol": "circle"
         },
         "mode": "markers",
         "name": "el Raval",
         "orientation": "v",
         "showlegend": true,
         "type": "scatter",
         "x": [
          986
         ],
         "xaxis": "x",
         "y": [
          82
         ],
         "yaxis": "y"
        },
        {
         "hovertemplate": "<b>%{hovertext}</b><br><br>neighbourhood=la Dreta de l'Eixample<br>total locations=%{x}<br>price average=%{y}<br>total beds=%{marker.size}<extra></extra>",
         "hovertext": [
          "la Dreta de l'Eixample"
         ],
         "legendgroup": "la Dreta de l'Eixample",
         "marker": {
          "color": "#FF97FF",
          "size": [
           4913
          ],
          "sizemode": "area",
          "sizeref": 0.76765625,
          "symbol": "circle"
         },
         "mode": "markers",
         "name": "la Dreta de l'Eixample",
         "orientation": "v",
         "showlegend": true,
         "type": "scatter",
         "x": [
          1633
         ],
         "xaxis": "x",
         "y": [
          157
         ],
         "yaxis": "y"
        }
       ],
       "layout": {
        "height": 650,
        "legend": {
         "itemsizing": "constant",
         "title": {
          "text": "neighbourhood"
         },
         "tracegroupgap": 0
        },
        "margin": {
         "t": 60
        },
        "paper_bgcolor": "rgb(243, 243, 243)",
        "plot_bgcolor": "rgb(243, 243, 243)",
        "template": {
         "data": {
          "bar": [
           {
            "error_x": {
             "color": "#2a3f5f"
            },
            "error_y": {
             "color": "#2a3f5f"
            },
            "marker": {
             "line": {
              "color": "#E5ECF6",
              "width": 0.5
             },
             "pattern": {
              "fillmode": "overlay",
              "size": 10,
              "solidity": 0.2
             }
            },
            "type": "bar"
           }
          ],
          "barpolar": [
           {
            "marker": {
             "line": {
              "color": "#E5ECF6",
              "width": 0.5
             },
             "pattern": {
              "fillmode": "overlay",
              "size": 10,
              "solidity": 0.2
             }
            },
            "type": "barpolar"
           }
          ],
          "carpet": [
           {
            "aaxis": {
             "endlinecolor": "#2a3f5f",
             "gridcolor": "white",
             "linecolor": "white",
             "minorgridcolor": "white",
             "startlinecolor": "#2a3f5f"
            },
            "baxis": {
             "endlinecolor": "#2a3f5f",
             "gridcolor": "white",
             "linecolor": "white",
             "minorgridcolor": "white",
             "startlinecolor": "#2a3f5f"
            },
            "type": "carpet"
           }
          ],
          "choropleth": [
           {
            "colorbar": {
             "outlinewidth": 0,
             "ticks": ""
            },
            "type": "choropleth"
           }
          ],
          "contour": [
           {
            "colorbar": {
             "outlinewidth": 0,
             "ticks": ""
            },
            "colorscale": [
             [
              0,
              "#0d0887"
             ],
             [
              0.1111111111111111,
              "#46039f"
             ],
             [
              0.2222222222222222,
              "#7201a8"
             ],
             [
              0.3333333333333333,
              "#9c179e"
             ],
             [
              0.4444444444444444,
              "#bd3786"
             ],
             [
              0.5555555555555556,
              "#d8576b"
             ],
             [
              0.6666666666666666,
              "#ed7953"
             ],
             [
              0.7777777777777778,
              "#fb9f3a"
             ],
             [
              0.8888888888888888,
              "#fdca26"
             ],
             [
              1,
              "#f0f921"
             ]
            ],
            "type": "contour"
           }
          ],
          "contourcarpet": [
           {
            "colorbar": {
             "outlinewidth": 0,
             "ticks": ""
            },
            "type": "contourcarpet"
           }
          ],
          "heatmap": [
           {
            "colorbar": {
             "outlinewidth": 0,
             "ticks": ""
            },
            "colorscale": [
             [
              0,
              "#0d0887"
             ],
             [
              0.1111111111111111,
              "#46039f"
             ],
             [
              0.2222222222222222,
              "#7201a8"
             ],
             [
              0.3333333333333333,
              "#9c179e"
             ],
             [
              0.4444444444444444,
              "#bd3786"
             ],
             [
              0.5555555555555556,
              "#d8576b"
             ],
             [
              0.6666666666666666,
              "#ed7953"
             ],
             [
              0.7777777777777778,
              "#fb9f3a"
             ],
             [
              0.8888888888888888,
              "#fdca26"
             ],
             [
              1,
              "#f0f921"
             ]
            ],
            "type": "heatmap"
           }
          ],
          "heatmapgl": [
           {
            "colorbar": {
             "outlinewidth": 0,
             "ticks": ""
            },
            "colorscale": [
             [
              0,
              "#0d0887"
             ],
             [
              0.1111111111111111,
              "#46039f"
             ],
             [
              0.2222222222222222,
              "#7201a8"
             ],
             [
              0.3333333333333333,
              "#9c179e"
             ],
             [
              0.4444444444444444,
              "#bd3786"
             ],
             [
              0.5555555555555556,
              "#d8576b"
             ],
             [
              0.6666666666666666,
              "#ed7953"
             ],
             [
              0.7777777777777778,
              "#fb9f3a"
             ],
             [
              0.8888888888888888,
              "#fdca26"
             ],
             [
              1,
              "#f0f921"
             ]
            ],
            "type": "heatmapgl"
           }
          ],
          "histogram": [
           {
            "marker": {
             "pattern": {
              "fillmode": "overlay",
              "size": 10,
              "solidity": 0.2
             }
            },
            "type": "histogram"
           }
          ],
          "histogram2d": [
           {
            "colorbar": {
             "outlinewidth": 0,
             "ticks": ""
            },
            "colorscale": [
             [
              0,
              "#0d0887"
             ],
             [
              0.1111111111111111,
              "#46039f"
             ],
             [
              0.2222222222222222,
              "#7201a8"
             ],
             [
              0.3333333333333333,
              "#9c179e"
             ],
             [
              0.4444444444444444,
              "#bd3786"
             ],
             [
              0.5555555555555556,
              "#d8576b"
             ],
             [
              0.6666666666666666,
              "#ed7953"
             ],
             [
              0.7777777777777778,
              "#fb9f3a"
             ],
             [
              0.8888888888888888,
              "#fdca26"
             ],
             [
              1,
              "#f0f921"
             ]
            ],
            "type": "histogram2d"
           }
          ],
          "histogram2dcontour": [
           {
            "colorbar": {
             "outlinewidth": 0,
             "ticks": ""
            },
            "colorscale": [
             [
              0,
              "#0d0887"
             ],
             [
              0.1111111111111111,
              "#46039f"
             ],
             [
              0.2222222222222222,
              "#7201a8"
             ],
             [
              0.3333333333333333,
              "#9c179e"
             ],
             [
              0.4444444444444444,
              "#bd3786"
             ],
             [
              0.5555555555555556,
              "#d8576b"
             ],
             [
              0.6666666666666666,
              "#ed7953"
             ],
             [
              0.7777777777777778,
              "#fb9f3a"
             ],
             [
              0.8888888888888888,
              "#fdca26"
             ],
             [
              1,
              "#f0f921"
             ]
            ],
            "type": "histogram2dcontour"
           }
          ],
          "mesh3d": [
           {
            "colorbar": {
             "outlinewidth": 0,
             "ticks": ""
            },
            "type": "mesh3d"
           }
          ],
          "parcoords": [
           {
            "line": {
             "colorbar": {
              "outlinewidth": 0,
              "ticks": ""
             }
            },
            "type": "parcoords"
           }
          ],
          "pie": [
           {
            "automargin": true,
            "type": "pie"
           }
          ],
          "scatter": [
           {
            "fillpattern": {
             "fillmode": "overlay",
             "size": 10,
             "solidity": 0.2
            },
            "type": "scatter"
           }
          ],
          "scatter3d": [
           {
            "line": {
             "colorbar": {
              "outlinewidth": 0,
              "ticks": ""
             }
            },
            "marker": {
             "colorbar": {
              "outlinewidth": 0,
              "ticks": ""
             }
            },
            "type": "scatter3d"
           }
          ],
          "scattercarpet": [
           {
            "marker": {
             "colorbar": {
              "outlinewidth": 0,
              "ticks": ""
             }
            },
            "type": "scattercarpet"
           }
          ],
          "scattergeo": [
           {
            "marker": {
             "colorbar": {
              "outlinewidth": 0,
              "ticks": ""
             }
            },
            "type": "scattergeo"
           }
          ],
          "scattergl": [
           {
            "marker": {
             "colorbar": {
              "outlinewidth": 0,
              "ticks": ""
             }
            },
            "type": "scattergl"
           }
          ],
          "scattermapbox": [
           {
            "marker": {
             "colorbar": {
              "outlinewidth": 0,
              "ticks": ""
             }
            },
            "type": "scattermapbox"
           }
          ],
          "scatterpolar": [
           {
            "marker": {
             "colorbar": {
              "outlinewidth": 0,
              "ticks": ""
             }
            },
            "type": "scatterpolar"
           }
          ],
          "scatterpolargl": [
           {
            "marker": {
             "colorbar": {
              "outlinewidth": 0,
              "ticks": ""
             }
            },
            "type": "scatterpolargl"
           }
          ],
          "scatterternary": [
           {
            "marker": {
             "colorbar": {
              "outlinewidth": 0,
              "ticks": ""
             }
            },
            "type": "scatterternary"
           }
          ],
          "surface": [
           {
            "colorbar": {
             "outlinewidth": 0,
             "ticks": ""
            },
            "colorscale": [
             [
              0,
              "#0d0887"
             ],
             [
              0.1111111111111111,
              "#46039f"
             ],
             [
              0.2222222222222222,
              "#7201a8"
             ],
             [
              0.3333333333333333,
              "#9c179e"
             ],
             [
              0.4444444444444444,
              "#bd3786"
             ],
             [
              0.5555555555555556,
              "#d8576b"
             ],
             [
              0.6666666666666666,
              "#ed7953"
             ],
             [
              0.7777777777777778,
              "#fb9f3a"
             ],
             [
              0.8888888888888888,
              "#fdca26"
             ],
             [
              1,
              "#f0f921"
             ]
            ],
            "type": "surface"
           }
          ],
          "table": [
           {
            "cells": {
             "fill": {
              "color": "#EBF0F8"
             },
             "line": {
              "color": "white"
             }
            },
            "header": {
             "fill": {
              "color": "#C8D4E3"
             },
             "line": {
              "color": "white"
             }
            },
            "type": "table"
           }
          ]
         },
         "layout": {
          "annotationdefaults": {
           "arrowcolor": "#2a3f5f",
           "arrowhead": 0,
           "arrowwidth": 1
          },
          "autotypenumbers": "strict",
          "coloraxis": {
           "colorbar": {
            "outlinewidth": 0,
            "ticks": ""
           }
          },
          "colorscale": {
           "diverging": [
            [
             0,
             "#8e0152"
            ],
            [
             0.1,
             "#c51b7d"
            ],
            [
             0.2,
             "#de77ae"
            ],
            [
             0.3,
             "#f1b6da"
            ],
            [
             0.4,
             "#fde0ef"
            ],
            [
             0.5,
             "#f7f7f7"
            ],
            [
             0.6,
             "#e6f5d0"
            ],
            [
             0.7,
             "#b8e186"
            ],
            [
             0.8,
             "#7fbc41"
            ],
            [
             0.9,
             "#4d9221"
            ],
            [
             1,
             "#276419"
            ]
           ],
           "sequential": [
            [
             0,
             "#0d0887"
            ],
            [
             0.1111111111111111,
             "#46039f"
            ],
            [
             0.2222222222222222,
             "#7201a8"
            ],
            [
             0.3333333333333333,
             "#9c179e"
            ],
            [
             0.4444444444444444,
             "#bd3786"
            ],
            [
             0.5555555555555556,
             "#d8576b"
            ],
            [
             0.6666666666666666,
             "#ed7953"
            ],
            [
             0.7777777777777778,
             "#fb9f3a"
            ],
            [
             0.8888888888888888,
             "#fdca26"
            ],
            [
             1,
             "#f0f921"
            ]
           ],
           "sequentialminus": [
            [
             0,
             "#0d0887"
            ],
            [
             0.1111111111111111,
             "#46039f"
            ],
            [
             0.2222222222222222,
             "#7201a8"
            ],
            [
             0.3333333333333333,
             "#9c179e"
            ],
            [
             0.4444444444444444,
             "#bd3786"
            ],
            [
             0.5555555555555556,
             "#d8576b"
            ],
            [
             0.6666666666666666,
             "#ed7953"
            ],
            [
             0.7777777777777778,
             "#fb9f3a"
            ],
            [
             0.8888888888888888,
             "#fdca26"
            ],
            [
             1,
             "#f0f921"
            ]
           ]
          },
          "colorway": [
           "#636efa",
           "#EF553B",
           "#00cc96",
           "#ab63fa",
           "#FFA15A",
           "#19d3f3",
           "#FF6692",
           "#B6E880",
           "#FF97FF",
           "#FECB52"
          ],
          "font": {
           "color": "#2a3f5f"
          },
          "geo": {
           "bgcolor": "white",
           "lakecolor": "white",
           "landcolor": "#E5ECF6",
           "showlakes": true,
           "showland": true,
           "subunitcolor": "white"
          },
          "hoverlabel": {
           "align": "left"
          },
          "hovermode": "closest",
          "mapbox": {
           "style": "light"
          },
          "paper_bgcolor": "white",
          "plot_bgcolor": "#E5ECF6",
          "polar": {
           "angularaxis": {
            "gridcolor": "white",
            "linecolor": "white",
            "ticks": ""
           },
           "bgcolor": "#E5ECF6",
           "radialaxis": {
            "gridcolor": "white",
            "linecolor": "white",
            "ticks": ""
           }
          },
          "scene": {
           "xaxis": {
            "backgroundcolor": "#E5ECF6",
            "gridcolor": "white",
            "gridwidth": 2,
            "linecolor": "white",
            "showbackground": true,
            "ticks": "",
            "zerolinecolor": "white"
           },
           "yaxis": {
            "backgroundcolor": "#E5ECF6",
            "gridcolor": "white",
            "gridwidth": 2,
            "linecolor": "white",
            "showbackground": true,
            "ticks": "",
            "zerolinecolor": "white"
           },
           "zaxis": {
            "backgroundcolor": "#E5ECF6",
            "gridcolor": "white",
            "gridwidth": 2,
            "linecolor": "white",
            "showbackground": true,
            "ticks": "",
            "zerolinecolor": "white"
           }
          },
          "shapedefaults": {
           "line": {
            "color": "#2a3f5f"
           }
          },
          "ternary": {
           "aaxis": {
            "gridcolor": "white",
            "linecolor": "white",
            "ticks": ""
           },
           "baxis": {
            "gridcolor": "white",
            "linecolor": "white",
            "ticks": ""
           },
           "bgcolor": "#E5ECF6",
           "caxis": {
            "gridcolor": "white",
            "linecolor": "white",
            "ticks": ""
           }
          },
          "title": {
           "x": 0.05
          },
          "xaxis": {
           "automargin": true,
           "gridcolor": "white",
           "linecolor": "white",
           "ticks": "",
           "title": {
            "standoff": 15
           },
           "zerolinecolor": "white",
           "zerolinewidth": 2
          },
          "yaxis": {
           "automargin": true,
           "gridcolor": "white",
           "linecolor": "white",
           "ticks": "",
           "title": {
            "standoff": 15
           },
           "zerolinecolor": "white",
           "zerolinewidth": 2
          }
         }
        },
        "title": {
         "text": "Airbnb Barcelona: Total Accomodations, Total Beds, Average Price. By Neighbourhood"
        },
        "xaxis": {
         "anchor": "y",
         "domain": [
          0,
          1
         ],
         "gridcolor": "white",
         "gridwidth": 1,
         "title": {
          "text": "Total Available Locations"
         }
        },
        "yaxis": {
         "anchor": "x",
         "domain": [
          0,
          1
         ],
         "gridcolor": "white",
         "gridwidth": 1,
         "title": {
          "text": "Average Price"
         }
        }
       }
      }
     },
     "metadata": {},
     "output_type": "display_data"
    }
   ],
   "source": [
    "fig3 = px.scatter(df3_pivot2, y=\"price average\", x=\"total locations\",\n",
    "\t         size=\"total beds\", color=\"neighbourhood\",\n",
    "                 hover_name=\"neighbourhood\", height=650, size_max=80)\n",
    "\n",
    "fig3.update_layout(\n",
    "    title='Airbnb Barcelona: Total Accomodations, Total Beds, Average Price. By Neighbourhood',\n",
    "    xaxis=dict(title='Total Available Locations',\n",
    "        gridcolor='white',\n",
    "        gridwidth=1,\n",
    "    ),\n",
    "    yaxis=dict(\n",
    "        title='Average Price',\n",
    "        gridcolor='white',\n",
    "        gridwidth=1,\n",
    "    ),\n",
    "    paper_bgcolor='rgb(243, 243, 243)',\n",
    "    plot_bgcolor='rgb(243, 243, 243)',\n",
    ")\n",
    "\n",
    "\n",
    "fig3.show()"
   ]
  },
  {
   "cell_type": "code",
   "execution_count": null,
   "metadata": {},
   "outputs": [],
   "source": []
  },
  {
   "cell_type": "code",
   "execution_count": null,
   "metadata": {},
   "outputs": [],
   "source": []
  },
  {
   "cell_type": "code",
   "execution_count": null,
   "metadata": {},
   "outputs": [],
   "source": []
  },
  {
   "cell_type": "code",
   "execution_count": null,
   "metadata": {},
   "outputs": [],
   "source": []
  },
  {
   "cell_type": "code",
   "execution_count": null,
   "metadata": {},
   "outputs": [],
   "source": []
  },
  {
   "cell_type": "code",
   "execution_count": null,
   "metadata": {},
   "outputs": [],
   "source": []
  },
  {
   "cell_type": "code",
   "execution_count": null,
   "metadata": {},
   "outputs": [],
   "source": []
  },
  {
   "cell_type": "code",
   "execution_count": null,
   "metadata": {},
   "outputs": [],
   "source": []
  },
  {
   "cell_type": "code",
   "execution_count": null,
   "metadata": {},
   "outputs": [],
   "source": []
  },
  {
   "cell_type": "code",
   "execution_count": null,
   "metadata": {},
   "outputs": [],
   "source": []
  },
  {
   "cell_type": "code",
   "execution_count": null,
   "metadata": {},
   "outputs": [],
   "source": []
  }
 ],
 "metadata": {
  "kernelspec": {
   "display_name": "ironhack",
   "language": "python",
   "name": "python3"
  },
  "language_info": {
   "codemirror_mode": {
    "name": "ipython",
    "version": 3
   },
   "file_extension": ".py",
   "mimetype": "text/x-python",
   "name": "python",
   "nbconvert_exporter": "python",
   "pygments_lexer": "ipython3",
   "version": "3.10.4"
  },
  "orig_nbformat": 4,
  "vscode": {
   "interpreter": {
    "hash": "4fb3542bd4955df1568bd30556108f2a509a772a1c7029bb09d83fc983cd9288"
   }
  }
 },
 "nbformat": 4,
 "nbformat_minor": 2
}
