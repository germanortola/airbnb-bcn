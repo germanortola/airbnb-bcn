{
 "cells": [
  {
   "cell_type": "code",
   "execution_count": 1,
   "metadata": {},
   "outputs": [],
   "source": [
    "import pandas as pd\n",
    "import numpy as np\n",
    "import seaborn as sns\n",
    "import matplotlib.pyplot as plt\n",
    "import plotly.express as px\n",
    "import plotly as plx\n",
    "import airbnb\n",
    "import requests\n",
    "import re\n",
    "import os\n",
    "from dotenv import load_dotenv\n",
    "from os import path\n",
    "from PIL import Image\n",
    "from wordcloud import WordCloud, STOPWORDS, ImageColorGenerator\n",
    "import json\n",
    "import folium\n",
    "import plotly.graph_objs as go\n",
    "from plotly.offline import init_notebook_mode, iplot\n",
    "import gzip\n",
    "import shutil"
   ]
  },
  {
   "cell_type": "code",
   "execution_count": 2,
   "metadata": {},
   "outputs": [],
   "source": [
    "\n",
    "url = \"http://data.insideairbnb.com/spain/catalonia/barcelona/2022-12-11/data/listings.csv.gz\"\n",
    "\n",
    "response = requests.get(url)\n",
    "with open(\"listings.csv.gz\", \"wb\") as f:\n",
    "    f.write(response.content)\n",
    "\n",
    "with gzip.open(\"listings.csv.gz\", \"rb\") as f_in:\n",
    "    with open(\"listings2.csv\", \"wb\") as f_out:\n",
    "        shutil.copyfileobj(f_in, f_out)"
   ]
  },
  {
   "cell_type": "code",
   "execution_count": 3,
   "metadata": {},
   "outputs": [],
   "source": [
    "df = pd.read_csv(\"listings2.csv\")"
   ]
  },
  {
   "cell_type": "code",
   "execution_count": 4,
   "metadata": {},
   "outputs": [],
   "source": [
    "\n",
    "\n",
    "url2 = \"http://data.insideairbnb.com/spain/catalonia/barcelona/2022-12-11/data/reviews.csv.gz\"\n",
    "\n",
    "response2 = requests.get(url2)\n",
    "with open(\"reviews.csv.gz\", \"wb\") as g:\n",
    "    g.write(response2.content)\n",
    "\n",
    "with gzip.open(\"reviews.csv.gz\", \"rb\") as g_in:\n",
    "    with open(\"reviews2.csv\", \"wb\") as g_out:\n",
    "        shutil.copyfileobj(g_in, g_out)"
   ]
  },
  {
   "cell_type": "code",
   "execution_count": 5,
   "metadata": {},
   "outputs": [],
   "source": [
    "df_reviews = pd.read_csv(\"reviews2.csv\")"
   ]
  },
  {
   "cell_type": "code",
   "execution_count": 6,
   "metadata": {},
   "outputs": [],
   "source": [
    "\n",
    "df2 = df.drop(columns=['listing_url', 'scrape_id', 'last_scraped', 'source', \"picture_url\", \"host_thumbnail_url\", \"host_picture_url\", \"host_verifications\", \"calendar_updated\", \"calendar_last_scraped\"], axis=1)\n"
   ]
  },
  {
   "cell_type": "code",
   "execution_count": 7,
   "metadata": {},
   "outputs": [],
   "source": [
    "\n",
    "df_reviews['comments'] = df_reviews['comments'].astype(str)\n",
    "df_reviews_grouped = df_reviews[['listing_id', 'date', 'comments']].groupby('listing_id').agg({'date': 'first', 'comments': ' '.join})\n"
   ]
  },
  {
   "cell_type": "code",
   "execution_count": 8,
   "metadata": {},
   "outputs": [],
   "source": [
    "df3 = df2.merge(df_reviews_grouped, left_on='id', right_index=True)\n",
    "df3['price_clean'] = [x.strip('$') for x in df3['price']]\n",
    "df3[\"price_clean\"]=df3[\"price_clean\"].str.replace(',','')\n",
    "df3[\"price_clean\"].astype(float)\n",
    "df3['price_clean'] = pd.to_numeric(df3['price_clean'], errors='coerce')\n",
    "df3['price_clean'] = df3['price_clean'].round().astype(int)\n",
    "df3 = df3[df3[\"price_clean\"] < 20000]\n"
   ]
  },
  {
   "cell_type": "code",
   "execution_count": 9,
   "metadata": {},
   "outputs": [],
   "source": [
    "df3.dropna(subset=['beds'], inplace=True)\n",
    "df3['beds_clean'] = pd.to_numeric(df3['beds'], errors='coerce')\n",
    "df3['beds_clean'] = df3['beds_clean'].round().astype(int)\n"
   ]
  },
  {
   "cell_type": "code",
   "execution_count": 36,
   "metadata": {},
   "outputs": [],
   "source": [
    "df3_pivot = pd.pivot_table(df3, index=\"neighbourhood_cleansed\", values=\"price_clean\", aggfunc='mean')\n",
    "df3_pivot.rename(columns={'price_clean':'price average'}, inplace=True)\n",
    "df3_pivot.reset_index(inplace=True)\n",
    "df3_pivot.rename(columns={'neighbourhood_cleansed':'neighbourhood'}, inplace=True)\n"
   ]
  },
  {
   "cell_type": "code",
   "execution_count": 16,
   "metadata": {},
   "outputs": [],
   "source": [
    "df3_pivot_district = pd.pivot_table(df3, index='neighbourhood_group_cleansed', values=['id', 'beds_clean'], aggfunc={'id':'count', 'beds_clean':'sum'})\n",
    "df3_pivot_district.rename(columns={'id':'total_airbnbs'}, inplace=True)\n",
    "df3_pivot_district.sort_values(by='total_airbnbs', ascending=False, inplace=True)\n",
    "df3_pivot_district.reset_index(inplace=True)\n",
    "\n",
    "df3_pivot_district.rename(columns={'neighbourhood_group_cleansed':'district'}, inplace=True)\n"
   ]
  },
  {
   "cell_type": "code",
   "execution_count": 38,
   "metadata": {},
   "outputs": [],
   "source": [
    "df3_pivot2 = df3.pivot_table(index='neighbourhood_cleansed', values=['id', 'beds_clean', 'price_clean'], aggfunc={'id':'count', 'beds_clean':'sum', 'price_clean':'mean'})\n",
    "df3_pivot2.reset_index(inplace=True)\n",
    "df3_pivot2.rename(columns={'neighbourhood_cleansed':'neighbourhood', 'price_clean':'price average', 'id':'total locations', 'beds_clean':'total beds'}, inplace=True)\n",
    "df3_pivot2.sort_values(by='total locations', ascending=False, inplace=True)\n",
    "df3_pivot2['price average'] = df3_pivot['price average'].astype(int)\n"
   ]
  },
  {
   "cell_type": "code",
   "execution_count": 39,
   "metadata": {},
   "outputs": [],
   "source": [
    "max_idx_price = df3_pivot['price average'].idxmax()\n",
    "max_ngbhd = df3_pivot.at[max_idx_price, 'neighbourhood']\n",
    "max_avg_price = df3_pivot.at[max_idx_price, 'price average']\n",
    "min_idx_price = df3_pivot['price average'].idxmin()\n",
    "min_ngbhd = df3_pivot.at[min_idx_price, 'neighbourhood']\n",
    "min_avg_price = df3_pivot.at[min_idx_price, 'price average']\n"
   ]
  },
  {
   "cell_type": "code",
   "execution_count": 40,
   "metadata": {},
   "outputs": [],
   "source": [
    "df3_pivot_district = pd.pivot_table(df3, index='neighbourhood_group_cleansed', values=['id', 'beds_clean'], aggfunc={'id':'count', 'beds_clean':'sum'})\n",
    "df3_pivot_district.rename(columns={'id':'total_airbnbs'}, inplace=True)\n",
    "df3_pivot_district.sort_values(by='total_airbnbs', ascending=False, inplace=True)\n",
    "df3_pivot_district.reset_index(inplace=True)\n",
    "df3_pivot_district.rename(columns={'neighbourhood_group_cleansed':'district'}, inplace=True)\n"
   ]
  },
  {
   "cell_type": "code",
   "execution_count": 41,
   "metadata": {},
   "outputs": [],
   "source": [
    "df3_distribution = df3.pivot_table(index='neighbourhood_group_cleansed', values='id', aggfunc='count')\n",
    "df3_distribution.reset_index(inplace=True)\n",
    "df3_distribution.rename(columns={'neighbourhood_group_cleansed':'district', 'id':'accommodations'}, inplace=True)\n",
    "df3_distribution.sort_values(by='accommodations', ascending=True, inplace=True)\n",
    "df3_distribution['accommodations'] = df3_distribution['accommodations'].astype(int)\n"
   ]
  },
  {
   "cell_type": "code",
   "execution_count": 42,
   "metadata": {},
   "outputs": [],
   "source": [
    "price_mean = df3['price_clean'].mean()\n",
    "price_median = df3['price_clean'].median()\n",
    "price_mode = df3['price_clean'].mode().values[0]\n",
    "price_max = df3['price_clean'].max()\n",
    "price_min = df3['price_clean'].min()\n",
    "price_std = df3['price_clean'].std()\n",
    "df3_eda = pd.DataFrame({'price_mean': [price_mean], 'price_median': [price_median], 'price_mode': [price_mode], 'price_max': [price_max], 'price_min': [price_min], 'price_std': [price_std]})\n"
   ]
  },
  {
   "cell_type": "code",
   "execution_count": 53,
   "metadata": {},
   "outputs": [
    {
     "data": {
      "application/vnd.plotly.v1+json": {
       "config": {
        "plotlyServerURL": "https://plot.ly"
       },
       "data": [
        {
         "alignmentgroup": "True",
         "hovertemplate": "Price Average (€)=%{marker.color}<br>Neighbourhood=%{y}<extra></extra>",
         "legendgroup": "",
         "marker": {
          "color": [
           61.28125,
           49,
           77,
           175.46428571428572,
           57.06666666666667,
           105.81818181818181,
           73.28571428571429,
           55.22222222222222,
           83.6,
           47.94444444444444,
           89.01886792452831,
           89.48780487804878,
           115.25299401197604,
           64.16666666666667,
           130.5938864628821,
           396.45714285714286,
           49.59090909090909,
           92.7730870712401,
           81.02118644067797,
           58.45967741935484,
           94.66666666666667,
           76,
           100.3,
           142.35,
           41.42857142857143,
           454.3333333333333,
           70.63291139240506,
           96.87950310559006,
           78.17567567567568,
           31.6,
           113.55701754385964,
           116.51394422310757,
           92.89473684210526,
           71.34848484848484,
           72.16,
           54.92,
           230.48525469168902,
           67.46601941747574,
           107.77083333333333,
           97.62208398133748,
           102.45172413793104,
           111.45774647887323,
           82.28701825557809,
           27.75,
           125.5203488372093,
           73.15714285714286,
           116.92,
           157.74157991426821,
           203.66666666666666,
           67.67692307692307,
           49.333333333333336,
           49.2,
           191.25,
           211.47142857142856,
           82.55555555555556,
           43.285714285714285,
           136.73341836734693,
           69.88888888888889,
           80.98245614035088,
           63.76190476190476,
           102.16666666666667,
           38.25,
           50.5,
           49.333333333333336,
           141.52475247524754,
           99.41426611796982,
           107.55479452054794,
           47.785714285714285,
           78.58333333333333
          ],
          "coloraxis": "coloraxis",
          "pattern": {
           "shape": ""
          }
         },
         "name": "",
         "offsetgroup": "",
         "orientation": "h",
         "showlegend": false,
         "text": [
          61.28125,
          49,
          77,
          175.46428571428572,
          57.06666666666667,
          105.81818181818181,
          73.28571428571429,
          55.22222222222222,
          83.6,
          47.94444444444444,
          89.01886792452831,
          89.48780487804878,
          115.25299401197604,
          64.16666666666667,
          130.5938864628821,
          396.45714285714286,
          49.59090909090909,
          92.7730870712401,
          81.02118644067797,
          58.45967741935484,
          94.66666666666667,
          76,
          100.3,
          142.35,
          41.42857142857143,
          454.3333333333333,
          70.63291139240506,
          96.87950310559006,
          78.17567567567568,
          31.6,
          113.55701754385964,
          116.51394422310757,
          92.89473684210526,
          71.34848484848484,
          72.16,
          54.92,
          230.48525469168902,
          67.46601941747574,
          107.77083333333333,
          97.62208398133748,
          102.45172413793104,
          111.45774647887323,
          82.28701825557809,
          27.75,
          125.5203488372093,
          73.15714285714286,
          116.92,
          157.74157991426821,
          203.66666666666666,
          67.67692307692307,
          49.333333333333336,
          49.2,
          191.25,
          211.47142857142856,
          82.55555555555556,
          43.285714285714285,
          136.73341836734693,
          69.88888888888889,
          80.98245614035088,
          63.76190476190476,
          102.16666666666667,
          38.25,
          50.5,
          49.333333333333336,
          141.52475247524754,
          99.41426611796982,
          107.55479452054794,
          47.785714285714285,
          78.58333333333333
         ],
         "textposition": "auto",
         "type": "bar",
         "x": [
          61.28125,
          49,
          77,
          175.46428571428572,
          57.06666666666667,
          105.81818181818181,
          73.28571428571429,
          55.22222222222222,
          83.6,
          47.94444444444444,
          89.01886792452831,
          89.48780487804878,
          115.25299401197604,
          64.16666666666667,
          130.5938864628821,
          396.45714285714286,
          49.59090909090909,
          92.7730870712401,
          81.02118644067797,
          58.45967741935484,
          94.66666666666667,
          76,
          100.3,
          142.35,
          41.42857142857143,
          454.3333333333333,
          70.63291139240506,
          96.87950310559006,
          78.17567567567568,
          31.6,
          113.55701754385964,
          116.51394422310757,
          92.89473684210526,
          71.34848484848484,
          72.16,
          54.92,
          230.48525469168902,
          67.46601941747574,
          107.77083333333333,
          97.62208398133748,
          102.45172413793104,
          111.45774647887323,
          82.28701825557809,
          27.75,
          125.5203488372093,
          73.15714285714286,
          116.92,
          157.74157991426821,
          203.66666666666666,
          67.67692307692307,
          49.333333333333336,
          49.2,
          191.25,
          211.47142857142856,
          82.55555555555556,
          43.285714285714285,
          136.73341836734693,
          69.88888888888889,
          80.98245614035088,
          63.76190476190476,
          102.16666666666667,
          38.25,
          50.5,
          49.333333333333336,
          141.52475247524754,
          99.41426611796982,
          107.55479452054794,
          47.785714285714285,
          78.58333333333333
         ],
         "xaxis": "x",
         "y": [
          "Can Baró",
          "Can Peguera",
          "Canyelles",
          "Diagonal Mar i el Front Marítim del Poblenou",
          "Horta",
          "Hostafrancs",
          "Montbau",
          "Navas",
          "Pedralbes",
          "Porta",
          "Provençals del Poblenou",
          "Sant Andreu",
          "Sant Antoni",
          "Sant Genís dels Agudells",
          "Sant Gervasi - Galvany",
          "Sant Gervasi - la Bonanova",
          "Sant Martí de Provençals",
          "Sant Pere, Santa Caterina i la Ribera",
          "Sants",
          "Sants - Badal",
          "Sarrià",
          "Torre Baró",
          "Vallcarca i els Penitents",
          "Vallvidrera, el Tibidabo i les Planes",
          "Verdun",
          "Vilapicina i la Torre Llobeta",
          "el Baix Guinardó",
          "el Barri Gòtic",
          "el Besòs i el Maresme",
          "el Bon Pastor",
          "el Camp d'en Grassot i Gràcia Nova",
          "el Camp de l'Arpa del Clot",
          "el Carmel",
          "el Clot",
          "el Coll",
          "el Congrés i els Indians",
          "el Fort Pienc",
          "el Guinardó",
          "el Parc i la Llacuna del Poblenou",
          "el Poble Sec",
          "el Poblenou",
          "el Putxet i el Farró",
          "el Raval",
          "el Turó de la Peira",
          "l'Antiga Esquerra de l'Eixample",
          "la Barceloneta",
          "la Bordeta",
          "la Dreta de l'Eixample",
          "la Font d'en Fargues",
          "la Font de la Guatlla",
          "la Guineueta",
          "la Marina de Port",
          "la Marina del Prat Vermell",
          "la Maternitat i Sant Ramon",
          "la Nova Esquerra de l'Eixample",
          "la Prosperitat",
          "la Sagrada Família",
          "la Sagrera",
          "la Salut",
          "la Teixonera",
          "la Trinitat Nova",
          "la Trinitat Vella",
          "la Vall d'Hebron",
          "la Verneda i la Pau",
          "la Vila Olímpica del Poblenou",
          "la Vila de Gràcia",
          "les Corts",
          "les Roquetes",
          "les Tres Torres"
         ],
         "yaxis": "y"
        }
       ],
       "layout": {
        "barmode": "relative",
        "coloraxis": {
         "colorbar": {
          "title": {
           "text": "Price Average (€)"
          }
         },
         "colorscale": [
          [
           0,
           "#FDEB6C"
          ],
          [
           0.2,
           "#FC9885"
          ],
          [
           0.4,
           "#FA6821"
          ],
          [
           0.6,
           "#D94C2A"
          ],
          [
           0.8,
           "#E75554"
          ],
          [
           1,
           "#74211C"
          ]
         ]
        },
        "height": 1200,
        "legend": {
         "title": {
          "font": {
           "color": "#894329"
          }
         },
         "tracegroupgap": 0
        },
        "plot_bgcolor": "#e6e1cf",
        "template": {
         "data": {
          "bar": [
           {
            "error_x": {
             "color": "#2a3f5f"
            },
            "error_y": {
             "color": "#2a3f5f"
            },
            "marker": {
             "line": {
              "color": "#E5ECF6",
              "width": 0.5
             },
             "pattern": {
              "fillmode": "overlay",
              "size": 10,
              "solidity": 0.2
             }
            },
            "type": "bar"
           }
          ],
          "barpolar": [
           {
            "marker": {
             "line": {
              "color": "#E5ECF6",
              "width": 0.5
             },
             "pattern": {
              "fillmode": "overlay",
              "size": 10,
              "solidity": 0.2
             }
            },
            "type": "barpolar"
           }
          ],
          "carpet": [
           {
            "aaxis": {
             "endlinecolor": "#2a3f5f",
             "gridcolor": "white",
             "linecolor": "white",
             "minorgridcolor": "white",
             "startlinecolor": "#2a3f5f"
            },
            "baxis": {
             "endlinecolor": "#2a3f5f",
             "gridcolor": "white",
             "linecolor": "white",
             "minorgridcolor": "white",
             "startlinecolor": "#2a3f5f"
            },
            "type": "carpet"
           }
          ],
          "choropleth": [
           {
            "colorbar": {
             "outlinewidth": 0,
             "ticks": ""
            },
            "type": "choropleth"
           }
          ],
          "contour": [
           {
            "colorbar": {
             "outlinewidth": 0,
             "ticks": ""
            },
            "colorscale": [
             [
              0,
              "#0d0887"
             ],
             [
              0.1111111111111111,
              "#46039f"
             ],
             [
              0.2222222222222222,
              "#7201a8"
             ],
             [
              0.3333333333333333,
              "#9c179e"
             ],
             [
              0.4444444444444444,
              "#bd3786"
             ],
             [
              0.5555555555555556,
              "#d8576b"
             ],
             [
              0.6666666666666666,
              "#ed7953"
             ],
             [
              0.7777777777777778,
              "#fb9f3a"
             ],
             [
              0.8888888888888888,
              "#fdca26"
             ],
             [
              1,
              "#f0f921"
             ]
            ],
            "type": "contour"
           }
          ],
          "contourcarpet": [
           {
            "colorbar": {
             "outlinewidth": 0,
             "ticks": ""
            },
            "type": "contourcarpet"
           }
          ],
          "heatmap": [
           {
            "colorbar": {
             "outlinewidth": 0,
             "ticks": ""
            },
            "colorscale": [
             [
              0,
              "#0d0887"
             ],
             [
              0.1111111111111111,
              "#46039f"
             ],
             [
              0.2222222222222222,
              "#7201a8"
             ],
             [
              0.3333333333333333,
              "#9c179e"
             ],
             [
              0.4444444444444444,
              "#bd3786"
             ],
             [
              0.5555555555555556,
              "#d8576b"
             ],
             [
              0.6666666666666666,
              "#ed7953"
             ],
             [
              0.7777777777777778,
              "#fb9f3a"
             ],
             [
              0.8888888888888888,
              "#fdca26"
             ],
             [
              1,
              "#f0f921"
             ]
            ],
            "type": "heatmap"
           }
          ],
          "heatmapgl": [
           {
            "colorbar": {
             "outlinewidth": 0,
             "ticks": ""
            },
            "colorscale": [
             [
              0,
              "#0d0887"
             ],
             [
              0.1111111111111111,
              "#46039f"
             ],
             [
              0.2222222222222222,
              "#7201a8"
             ],
             [
              0.3333333333333333,
              "#9c179e"
             ],
             [
              0.4444444444444444,
              "#bd3786"
             ],
             [
              0.5555555555555556,
              "#d8576b"
             ],
             [
              0.6666666666666666,
              "#ed7953"
             ],
             [
              0.7777777777777778,
              "#fb9f3a"
             ],
             [
              0.8888888888888888,
              "#fdca26"
             ],
             [
              1,
              "#f0f921"
             ]
            ],
            "type": "heatmapgl"
           }
          ],
          "histogram": [
           {
            "marker": {
             "pattern": {
              "fillmode": "overlay",
              "size": 10,
              "solidity": 0.2
             }
            },
            "type": "histogram"
           }
          ],
          "histogram2d": [
           {
            "colorbar": {
             "outlinewidth": 0,
             "ticks": ""
            },
            "colorscale": [
             [
              0,
              "#0d0887"
             ],
             [
              0.1111111111111111,
              "#46039f"
             ],
             [
              0.2222222222222222,
              "#7201a8"
             ],
             [
              0.3333333333333333,
              "#9c179e"
             ],
             [
              0.4444444444444444,
              "#bd3786"
             ],
             [
              0.5555555555555556,
              "#d8576b"
             ],
             [
              0.6666666666666666,
              "#ed7953"
             ],
             [
              0.7777777777777778,
              "#fb9f3a"
             ],
             [
              0.8888888888888888,
              "#fdca26"
             ],
             [
              1,
              "#f0f921"
             ]
            ],
            "type": "histogram2d"
           }
          ],
          "histogram2dcontour": [
           {
            "colorbar": {
             "outlinewidth": 0,
             "ticks": ""
            },
            "colorscale": [
             [
              0,
              "#0d0887"
             ],
             [
              0.1111111111111111,
              "#46039f"
             ],
             [
              0.2222222222222222,
              "#7201a8"
             ],
             [
              0.3333333333333333,
              "#9c179e"
             ],
             [
              0.4444444444444444,
              "#bd3786"
             ],
             [
              0.5555555555555556,
              "#d8576b"
             ],
             [
              0.6666666666666666,
              "#ed7953"
             ],
             [
              0.7777777777777778,
              "#fb9f3a"
             ],
             [
              0.8888888888888888,
              "#fdca26"
             ],
             [
              1,
              "#f0f921"
             ]
            ],
            "type": "histogram2dcontour"
           }
          ],
          "mesh3d": [
           {
            "colorbar": {
             "outlinewidth": 0,
             "ticks": ""
            },
            "type": "mesh3d"
           }
          ],
          "parcoords": [
           {
            "line": {
             "colorbar": {
              "outlinewidth": 0,
              "ticks": ""
             }
            },
            "type": "parcoords"
           }
          ],
          "pie": [
           {
            "automargin": true,
            "type": "pie"
           }
          ],
          "scatter": [
           {
            "fillpattern": {
             "fillmode": "overlay",
             "size": 10,
             "solidity": 0.2
            },
            "type": "scatter"
           }
          ],
          "scatter3d": [
           {
            "line": {
             "colorbar": {
              "outlinewidth": 0,
              "ticks": ""
             }
            },
            "marker": {
             "colorbar": {
              "outlinewidth": 0,
              "ticks": ""
             }
            },
            "type": "scatter3d"
           }
          ],
          "scattercarpet": [
           {
            "marker": {
             "colorbar": {
              "outlinewidth": 0,
              "ticks": ""
             }
            },
            "type": "scattercarpet"
           }
          ],
          "scattergeo": [
           {
            "marker": {
             "colorbar": {
              "outlinewidth": 0,
              "ticks": ""
             }
            },
            "type": "scattergeo"
           }
          ],
          "scattergl": [
           {
            "marker": {
             "colorbar": {
              "outlinewidth": 0,
              "ticks": ""
             }
            },
            "type": "scattergl"
           }
          ],
          "scattermapbox": [
           {
            "marker": {
             "colorbar": {
              "outlinewidth": 0,
              "ticks": ""
             }
            },
            "type": "scattermapbox"
           }
          ],
          "scatterpolar": [
           {
            "marker": {
             "colorbar": {
              "outlinewidth": 0,
              "ticks": ""
             }
            },
            "type": "scatterpolar"
           }
          ],
          "scatterpolargl": [
           {
            "marker": {
             "colorbar": {
              "outlinewidth": 0,
              "ticks": ""
             }
            },
            "type": "scatterpolargl"
           }
          ],
          "scatterternary": [
           {
            "marker": {
             "colorbar": {
              "outlinewidth": 0,
              "ticks": ""
             }
            },
            "type": "scatterternary"
           }
          ],
          "surface": [
           {
            "colorbar": {
             "outlinewidth": 0,
             "ticks": ""
            },
            "colorscale": [
             [
              0,
              "#0d0887"
             ],
             [
              0.1111111111111111,
              "#46039f"
             ],
             [
              0.2222222222222222,
              "#7201a8"
             ],
             [
              0.3333333333333333,
              "#9c179e"
             ],
             [
              0.4444444444444444,
              "#bd3786"
             ],
             [
              0.5555555555555556,
              "#d8576b"
             ],
             [
              0.6666666666666666,
              "#ed7953"
             ],
             [
              0.7777777777777778,
              "#fb9f3a"
             ],
             [
              0.8888888888888888,
              "#fdca26"
             ],
             [
              1,
              "#f0f921"
             ]
            ],
            "type": "surface"
           }
          ],
          "table": [
           {
            "cells": {
             "fill": {
              "color": "#EBF0F8"
             },
             "line": {
              "color": "white"
             }
            },
            "header": {
             "fill": {
              "color": "#C8D4E3"
             },
             "line": {
              "color": "white"
             }
            },
            "type": "table"
           }
          ]
         },
         "layout": {
          "annotationdefaults": {
           "arrowcolor": "#2a3f5f",
           "arrowhead": 0,
           "arrowwidth": 1
          },
          "autotypenumbers": "strict",
          "coloraxis": {
           "colorbar": {
            "outlinewidth": 0,
            "ticks": ""
           }
          },
          "colorscale": {
           "diverging": [
            [
             0,
             "#8e0152"
            ],
            [
             0.1,
             "#c51b7d"
            ],
            [
             0.2,
             "#de77ae"
            ],
            [
             0.3,
             "#f1b6da"
            ],
            [
             0.4,
             "#fde0ef"
            ],
            [
             0.5,
             "#f7f7f7"
            ],
            [
             0.6,
             "#e6f5d0"
            ],
            [
             0.7,
             "#b8e186"
            ],
            [
             0.8,
             "#7fbc41"
            ],
            [
             0.9,
             "#4d9221"
            ],
            [
             1,
             "#276419"
            ]
           ],
           "sequential": [
            [
             0,
             "#0d0887"
            ],
            [
             0.1111111111111111,
             "#46039f"
            ],
            [
             0.2222222222222222,
             "#7201a8"
            ],
            [
             0.3333333333333333,
             "#9c179e"
            ],
            [
             0.4444444444444444,
             "#bd3786"
            ],
            [
             0.5555555555555556,
             "#d8576b"
            ],
            [
             0.6666666666666666,
             "#ed7953"
            ],
            [
             0.7777777777777778,
             "#fb9f3a"
            ],
            [
             0.8888888888888888,
             "#fdca26"
            ],
            [
             1,
             "#f0f921"
            ]
           ],
           "sequentialminus": [
            [
             0,
             "#0d0887"
            ],
            [
             0.1111111111111111,
             "#46039f"
            ],
            [
             0.2222222222222222,
             "#7201a8"
            ],
            [
             0.3333333333333333,
             "#9c179e"
            ],
            [
             0.4444444444444444,
             "#bd3786"
            ],
            [
             0.5555555555555556,
             "#d8576b"
            ],
            [
             0.6666666666666666,
             "#ed7953"
            ],
            [
             0.7777777777777778,
             "#fb9f3a"
            ],
            [
             0.8888888888888888,
             "#fdca26"
            ],
            [
             1,
             "#f0f921"
            ]
           ]
          },
          "colorway": [
           "#636efa",
           "#EF553B",
           "#00cc96",
           "#ab63fa",
           "#FFA15A",
           "#19d3f3",
           "#FF6692",
           "#B6E880",
           "#FF97FF",
           "#FECB52"
          ],
          "font": {
           "color": "#2a3f5f"
          },
          "geo": {
           "bgcolor": "white",
           "lakecolor": "white",
           "landcolor": "#E5ECF6",
           "showlakes": true,
           "showland": true,
           "subunitcolor": "white"
          },
          "hoverlabel": {
           "align": "left"
          },
          "hovermode": "closest",
          "mapbox": {
           "style": "light"
          },
          "paper_bgcolor": "white",
          "plot_bgcolor": "#E5ECF6",
          "polar": {
           "angularaxis": {
            "gridcolor": "white",
            "linecolor": "white",
            "ticks": ""
           },
           "bgcolor": "#E5ECF6",
           "radialaxis": {
            "gridcolor": "white",
            "linecolor": "white",
            "ticks": ""
           }
          },
          "scene": {
           "xaxis": {
            "backgroundcolor": "#E5ECF6",
            "gridcolor": "white",
            "gridwidth": 2,
            "linecolor": "white",
            "showbackground": true,
            "ticks": "",
            "zerolinecolor": "white"
           },
           "yaxis": {
            "backgroundcolor": "#E5ECF6",
            "gridcolor": "white",
            "gridwidth": 2,
            "linecolor": "white",
            "showbackground": true,
            "ticks": "",
            "zerolinecolor": "white"
           },
           "zaxis": {
            "backgroundcolor": "#E5ECF6",
            "gridcolor": "white",
            "gridwidth": 2,
            "linecolor": "white",
            "showbackground": true,
            "ticks": "",
            "zerolinecolor": "white"
           }
          },
          "shapedefaults": {
           "line": {
            "color": "#2a3f5f"
           }
          },
          "ternary": {
           "aaxis": {
            "gridcolor": "white",
            "linecolor": "white",
            "ticks": ""
           },
           "baxis": {
            "gridcolor": "white",
            "linecolor": "white",
            "ticks": ""
           },
           "bgcolor": "#E5ECF6",
           "caxis": {
            "gridcolor": "white",
            "linecolor": "white",
            "ticks": ""
           }
          },
          "title": {
           "x": 0.05
          },
          "xaxis": {
           "automargin": true,
           "gridcolor": "white",
           "linecolor": "white",
           "ticks": "",
           "title": {
            "standoff": 15
           },
           "zerolinecolor": "white",
           "zerolinewidth": 2
          },
          "yaxis": {
           "automargin": true,
           "gridcolor": "white",
           "linecolor": "white",
           "ticks": "",
           "title": {
            "standoff": 15
           },
           "zerolinecolor": "white",
           "zerolinewidth": 2
          }
         }
        },
        "title": {
         "font": {
          "color": "#894329"
         },
         "text": "Average Price per Night, by Neighbourhood"
        },
        "xaxis": {
         "anchor": "y",
         "domain": [
          0,
          1
         ],
         "tickfont": {
          "color": "#894329"
         },
         "title": {
          "text": "Price Average"
         }
        },
        "yaxis": {
         "anchor": "x",
         "domain": [
          0,
          1
         ],
         "tickfont": {
          "color": "#894329"
         },
         "title": {
          "text": "Neighbourhood"
         }
        }
       }
      }
     },
     "metadata": {},
     "output_type": "display_data"
    }
   ],
   "source": [
    "\n",
    "fig1 = px.bar(df3_pivot, x='price average', y='neighbourhood', color='price average', \n",
    "    color_continuous_scale=['#FDEB6C', '#FC9885', '#FA6821', '#D94C2A', '#E75554', '#74211C'],\n",
    "    title='Average Price per Night, by Neighbourhood',\n",
    "    labels={'price average':'Price Average (€)', 'neighbourhood':'Neighbourhood'},\n",
    "    text='price average',\n",
    "    height=1200)\n",
    "\n",
    "fig1.update_layout(plot_bgcolor='#e6e1cf', xaxis_title='Price Average', yaxis_title='Neighbourhood',\n",
    "xaxis_tickfont=dict(color='#894329'), yaxis_tickfont=dict(color='#894329'), title_font=dict(color='#894329'),\n",
    "legend=dict(title_font=dict(color='#894329')))\n",
    "\n",
    "fig1.show()"
   ]
  },
  {
   "cell_type": "code",
   "execution_count": 44,
   "metadata": {},
   "outputs": [],
   "source": [
    "url_viajeros_pernocte = \"https://servicios.ine.es/wstempus/js/ES/DATOS_TABLA/53822\"\n",
    "response_viajeros_pernocte = requests.request(\"GET\", url_viajeros_pernocte)\n",
    "viajeros_pernocte = response_viajeros_pernocte.json()\n"
   ]
  },
  {
   "cell_type": "code",
   "execution_count": 45,
   "metadata": {},
   "outputs": [],
   "source": [
    "def INE_tables_qty(json):\n",
    "    bcn_list = []\n",
    "    num_list = []\n",
    "    for i in json:\n",
    "        for key1, val1 in i.items():\n",
    "            if \"Cataluña: Barcelona\" in val1:\n",
    "                bcn_list.append(val1)\n",
    "        for key2, val2 in i.items():\n",
    "            if \"Data\" in key2:\n",
    "                for subdict in val2:\n",
    "                    for key3, val3 in subdict.items():\n",
    "                        if \"Valor\" in key3:\n",
    "                            num_list.append(val3)\n",
    "\n",
    "    return dict(zip(bcn_list, num_list))\n"
   ]
  },
  {
   "cell_type": "code",
   "execution_count": 47,
   "metadata": {},
   "outputs": [],
   "source": [
    "\n",
    "url_cant_apartamentos = \"https://servicios.ine.es/wstempus/js/ES/DATOS_TABLA/53803\"\n",
    "response_cant_apartamentos = requests.request(\"GET\", url_cant_apartamentos)\n",
    "cant_apartamentos = response_cant_apartamentos.json()\n",
    "dic_apt_qty_INE = INE_tables_qty(cant_apartamentos)\n"
   ]
  },
  {
   "cell_type": "code",
   "execution_count": 49,
   "metadata": {},
   "outputs": [],
   "source": [
    "def INE_tables_ocup(json):\n",
    "    bcn_list = []\n",
    "    num_list = []\n",
    "\n",
    "    for i in json:\n",
    "        for key1, val1 in i.items():\n",
    "            if \"Cataluña: Barcelona\" in val1:\n",
    "                bcn_list.append(val1)\n",
    "        for key2, val2 in i.items():\n",
    "            if \"Data\" in key2:\n",
    "                for subdict in val2:\n",
    "                    for key3, val3 in subdict.items():\n",
    "                        if \"Valor\" in key3:\n",
    "                            num_list.append(val3)\n",
    "\n",
    "    return dict(zip(bcn_list, num_list))\n"
   ]
  },
  {
   "cell_type": "code",
   "execution_count": 50,
   "metadata": {},
   "outputs": [
    {
     "data": {
      "image/png": "[encoded data removed]",
      "text/plain": [
       "<Figure size 432x288 with 1 Axes>"
      ]
     },
     "metadata": {
      "needs_background": "light"
     },
     "output_type": "display_data"
    }
   ],
   "source": [
    "# Get the top 10 and bottom 10 listings based on 'review_scores_rating'\n",
    "top_10 = df3.nlargest(10, 'review_scores_rating')\n",
    "bottom_10 = df3.nsmallest(10, 'review_scores_rating')\n",
    "\n",
    "# Define the custom color palette\n",
    "colors = np.array(['#FFB600', '#44A9CC', '#EB563A', '#F4B998', '#50BCB9'])\n",
    "\n",
    "# Create the word cloud for the top 10 listings\n",
    "top_comments = \" \".join(review for review in top_10.comments)\n",
    "wordcloud = WordCloud(background_color='white', max_words=100, contour_width=3, contour_color='steelblue', color_func=lambda *args, **kwargs: colors[np.random.choice(len(colors))])\n",
    "wordcloud.generate(top_comments)\n",
    "\n",
    "plt.imshow(wordcloud, interpolation='bilinear')\n",
    "plt.axis(\"off\")\n",
    "plt.show()\n"
   ]
  },
  {
   "cell_type": "code",
   "execution_count": 51,
   "metadata": {},
   "outputs": [
    {
     "data": {
      "image/png": "[encoded data removed]",
      "text/plain": [
       "<Figure size 432x288 with 1 Axes>"
      ]
     },
     "metadata": {
      "needs_background": "light"
     },
     "output_type": "display_data"
    }
   ],
   "source": [
    "# Create the word cloud for the bottom 10 listings\n",
    "bottom_comments = \" \".join(review for review in bottom_10.comments)\n",
    "wordcloud = WordCloud(background_color='white', max_words=100, contour_width=3, contour_color='steelblue', color_func=lambda *args, **kwargs: colors[np.random.choice(len(colors))])\n",
    "wordcloud.generate(bottom_comments)\n",
    "\n",
    "plt.imshow(wordcloud, interpolation='bilinear')\n",
    "plt.axis(\"off\")\n",
    "plt.show()"
   ]
  },
  {
   "cell_type": "code",
   "execution_count": null,
   "metadata": {},
   "outputs": [],
   "source": [
    "max_idx_price = df3_pivot['price average'].idxmax()\n",
    "max_ngbhd = df3_pivot.at[max_idx_price, 'neighbourhood']\n",
    "max_avg_price = df3_pivot.at[max_idx_price, 'price average']\n",
    "\n",
    "print(max_ngbhd, \":\", max_avg_price)"
   ]
  },
  {
   "cell_type": "code",
   "execution_count": null,
   "metadata": {},
   "outputs": [],
   "source": [
    "min_idx_price = df3_pivot['price average'].idxmin()\n",
    "min_ngbhd = df3_pivot.at[min_idx_price, 'neighbourhood']\n",
    "min_avg_price = df3_pivot.at[min_idx_price, 'price average']\n",
    "\n",
    "print(min_ngbhd, \":\", min_avg_price)"
   ]
  },
  {
   "cell_type": "code",
   "execution_count": null,
   "metadata": {},
   "outputs": [],
   "source": [
    "# Add the link containing the geojson file\n",
    "\n",
    "BCNGeo = 'https://raw.githubusercontent.com/martgnz/bcn-geodata/master/districtes/districtes.geojson'\n",
    "\n",
    "# Call folium's library to build a new map\n",
    "\n",
    "BCN_map = folium.Map(location=[41.39, 2.17], zoom_start=12) # in location I must add the city's coordinates\n",
    "\n",
    "# Build the choropleth map by calling the .choropleth method\n",
    "\n",
    "BCN_map.choropleth(geo_data=BCNGeo, # GeoJson Coordinates\n",
    "                   data=df3_distribution,   # The table which contains the data being analized\n",
    "                   columns=['district', 'accommodations'], # the columns with district denomination and sum of accommodations\n",
    "                   key_on='feature.properties.NOM', # Chose the key needed in the GeoJson file\n",
    "                   fill_color='YlOrRd',\n",
    "                   fill_opacity=0.5,\n",
    "                   line_opacity=0.4,\n",
    "                   legend_name='Total Airbnb in BCN 2022') # Title for the map references\n",
    "\n",
    "\n",
    "BCN_map"
   ]
  },
  {
   "cell_type": "code",
   "execution_count": null,
   "metadata": {},
   "outputs": [],
   "source": [
    "fig4 = px.bar(df3_distribution, x='accommodations', y='district',\n",
    "            hover_data=['district', 'accommodations'], color='accommodations', \n",
    "            color_continuous_scale=['#FDEB6C', '#FC9885', '#FA6821', '#D94C2A', '#E75554', '#74211C'],\n",
    "            title='Airbnb total distribution in Barcelona', height=600)\n",
    "\n",
    "fig4.update_layout(plot_bgcolor='#e6e1cf', xaxis_title='Accomodation', yaxis_title='Districts in Barcelona',\n",
    "xaxis_tickfont=dict(color='#894329'), yaxis_tickfont=dict(color='#894329'), title_font=dict(color='#894329'),\n",
    "legend=dict(title_font=dict(color='#894329')))\n",
    "\n",
    "\n",
    "fig4.show()"
   ]
  },
  {
   "cell_type": "code",
   "execution_count": null,
   "metadata": {},
   "outputs": [],
   "source": [
    "fig3 = px.scatter(df3_pivot2, y=\"price average\", x=\"total locations\",\n",
    "\t         size=\"total beds\", color=\"neighbourhood\",\n",
    "                 hover_name=\"neighbourhood\", height=650, size_max=80)\n",
    "\n",
    "fig3.update_layout(\n",
    "    title='Airbnb Barcelona: Total Accomodations, Total Beds, Average Price. By Neighbourhood',\n",
    "    xaxis=dict(title='Total Available Locations',\n",
    "        gridcolor='white',\n",
    "        gridwidth=1,\n",
    "    ),\n",
    "    yaxis=dict(\n",
    "        title='Average Price',\n",
    "        gridcolor='white',\n",
    "        gridwidth=1,\n",
    "    ),\n",
    "    paper_bgcolor='rgb(243, 243, 243)',\n",
    "    plot_bgcolor='rgb(243, 243, 243)',\n",
    ")\n",
    "\n",
    "\n",
    "fig3.show()"
   ]
  },
  {
   "cell_type": "code",
   "execution_count": null,
   "metadata": {},
   "outputs": [],
   "source": []
  },
  {
   "cell_type": "code",
   "execution_count": null,
   "metadata": {},
   "outputs": [],
   "source": []
  },
  {
   "cell_type": "code",
   "execution_count": null,
   "metadata": {},
   "outputs": [],
   "source": []
  },
  {
   "cell_type": "code",
   "execution_count": null,
   "metadata": {},
   "outputs": [],
   "source": []
  },
  {
   "cell_type": "code",
   "execution_count": null,
   "metadata": {},
   "outputs": [],
   "source": []
  },
  {
   "cell_type": "code",
   "execution_count": null,
   "metadata": {},
   "outputs": [],
   "source": []
  },
  {
   "cell_type": "code",
   "execution_count": null,
   "metadata": {},
   "outputs": [],
   "source": []
  },
  {
   "cell_type": "code",
   "execution_count": null,
   "metadata": {},
   "outputs": [],
   "source": []
  },
  {
   "cell_type": "code",
   "execution_count": null,
   "metadata": {},
   "outputs": [],
   "source": []
  },
  {
   "cell_type": "code",
   "execution_count": null,
   "metadata": {},
   "outputs": [],
   "source": []
  },
  {
   "cell_type": "code",
   "execution_count": null,
   "metadata": {},
   "outputs": [],
   "source": []
  }
 ],
 "metadata": {
  "kernelspec": {
   "display_name": "ironhack",
   "language": "python",
   "name": "python3"
  },
  "language_info": {
   "codemirror_mode": {
    "name": "ipython",
    "version": 3
   },
   "file_extension": ".py",
   "mimetype": "text/x-python",
   "name": "python",
   "nbconvert_exporter": "python",
   "pygments_lexer": "ipython3",
   "version": "3.10.4"
  },
  "orig_nbformat": 4,
  "vscode": {
   "interpreter": {
    "hash": "4fb3542bd4955df1568bd30556108f2a509a772a1c7029bb09d83fc983cd9288"
   }
  }
 },
 "nbformat": 4,
 "nbformat_minor": 2
}
